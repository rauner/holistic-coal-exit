{
 "cells": [
  {
   "cell_type": "markdown",
   "metadata": {},
   "source": [
    "# Calculate the technology specific LCA impact \n",
    "# end point level\n",
    "\n",
    "0. import brightway2 results for the coal exit scenarios\n",
    "0. calcualte the energy market electricity high voltage mix RECIPE total, HH, ED and RD\n",
    "(indicator x scenarios x period)\n",
    "\n",
    "0. calculate the mid to endpoint DALYS, and species.year\n",
    "\n",
    "0. do the same for the other SE carriers \n",
    "    1. coarse match of REMIND and brightway technologies on REMIND SE level\n",
    "    2. calculate the RECIPE total (3) for all these technologies in table form\n",
    "       (technologies x indicator x scenarios x period)\n",
    "\n",
    "1. use these tables to do a post processing (R) to aggregate and monetize the DALYS and monetize the ED\n",
    "     1. read in results of this script\n",
    "     2. use conversion factors for ecoinvent to REMIND\n",
    "     3. use a REMIND activity mapping\n",
    "     4. monetize DALYS and PDFs\n",
    "    \n",
    "further developments\n",
    "1. adjust mid to end pop with SSP pop data country specific?\n",
    "2. adjust the land occupation indicator with country specific species data\n",
    "3. disaggregate the land occupating indicator \n",
    "4. update to RECIPE 2016 when available\n",
    "5. dont use the global mean for SE technologies\n",
    "6. automatic scenario name mapping"
   ]
  },
  {
   "cell_type": "markdown",
   "metadata": {},
   "source": [
    "the se regional mapping is global"
   ]
  },
  {
   "cell_type": "markdown",
   "metadata": {},
   "source": [
    "# import the brightway2 results for the coal exit scenarios"
   ]
  },
  {
   "cell_type": "code",
   "execution_count": 1,
   "metadata": {},
   "outputs": [],
   "source": [
    "import os\n",
    "import pandas as pd"
   ]
  },
  {
   "cell_type": "code",
   "execution_count": 2,
   "metadata": {},
   "outputs": [],
   "source": [
    "path=\"C:\\\\Users\\\\rauner\\\\Documents\\\\PIK\\\\holi_coal_exit\\\\rmnd-lca\\\\\"\n",
    "os.chdir(path)"
   ]
  },
  {
   "cell_type": "code",
   "execution_count": 3,
   "metadata": {},
   "outputs": [
    {
     "data": {
      "text/html": [
       "<style>.container { width:100% !important; }</style>"
      ],
      "text/plain": [
       "<IPython.core.display.HTML object>"
      ]
     },
     "execution_count": 3,
     "metadata": {},
     "output_type": "execute_result"
    }
   ],
   "source": [
    "from IPython.core.display import HTML\n",
    "HTML(\"<style>.container { width:100% !important; }</style>\")"
   ]
  },
  {
   "cell_type": "code",
   "execution_count": null,
   "metadata": {},
   "outputs": [],
   "source": [
    "import brightway2 as bw\n",
    "%run notebooks\\\\initialize_notebook.ipynb\n",
    "from wurst.ecoinvent import filters\n",
    "from constructive_geometries import Geomatcher"
   ]
  },
  {
   "cell_type": "code",
   "execution_count": 5,
   "metadata": {},
   "outputs": [],
   "source": [
    "from wurst import searching as ws"
   ]
  },
  {
   "cell_type": "code",
   "execution_count": null,
   "metadata": {},
   "outputs": [],
   "source": [
    "from helpers import eimod, lcahelp, ei2rmnd"
   ]
  },
  {
   "cell_type": "code",
   "execution_count": 7,
   "metadata": {},
   "outputs": [
    {
     "name": "stdout",
     "output_type": "stream",
     "text": [
      "Restoring project backup archive - this could take a few minutes...\n"
     ]
    },
    {
     "data": {
      "text/plain": [
       "'coal_exit'"
      ]
     },
     "execution_count": 7,
     "metadata": {},
     "output_type": "execute_result"
    }
   ],
   "source": [
    "bw.restore_project_directory(\"data\\\\brightway2-project-coal_exit-backup.08-January-2019-12-24PM.tar.gz\")"
   ]
  },
  {
   "cell_type": "code",
   "execution_count": 8,
   "metadata": {},
   "outputs": [],
   "source": [
    "bw.projects.set_current(\"coal_exit\")\n",
    "project = 'coal_exit'"
   ]
  },
  {
   "cell_type": "markdown",
   "metadata": {},
   "source": [
    "## create a scenarios dictionary"
   ]
  },
  {
   "cell_type": "code",
   "execution_count": 9,
   "metadata": {},
   "outputs": [],
   "source": [
    "database_dict = {}\n",
    "database_dict['ecoinvent_added_technologies'] = {'year' : 2015 , 'scenario' : 'ecoinvent'}\n",
    "\n",
    "for year in [ 2020, 2030,2040, 2050]:\n",
    "    for scenario in ['Ref','RCP26','INDC','coal_exit']:\n",
    "        if year == 2015 and scenario != 'ecoinvent_added_technologies':\n",
    "            continue\n",
    "        db_name = 'coal_exit_' + scenario + '_' + str(year)\n",
    "        database_dict[db_name] = {'year' : year , 'scenario' : scenario}"
   ]
  },
  {
   "cell_type": "code",
   "execution_count": 10,
   "metadata": {},
   "outputs": [
    {
     "data": {
      "text/plain": [
       "{'ecoinvent_added_technologies': {'year': 2015, 'scenario': 'ecoinvent'},\n",
       " 'coal_exit_Ref_2020': {'year': 2020, 'scenario': 'Ref'},\n",
       " 'coal_exit_RCP26_2020': {'year': 2020, 'scenario': 'RCP26'},\n",
       " 'coal_exit_INDC_2020': {'year': 2020, 'scenario': 'INDC'},\n",
       " 'coal_exit_coal_exit_2020': {'year': 2020, 'scenario': 'coal_exit'},\n",
       " 'coal_exit_Ref_2030': {'year': 2030, 'scenario': 'Ref'},\n",
       " 'coal_exit_RCP26_2030': {'year': 2030, 'scenario': 'RCP26'},\n",
       " 'coal_exit_INDC_2030': {'year': 2030, 'scenario': 'INDC'},\n",
       " 'coal_exit_coal_exit_2030': {'year': 2030, 'scenario': 'coal_exit'},\n",
       " 'coal_exit_Ref_2040': {'year': 2040, 'scenario': 'Ref'},\n",
       " 'coal_exit_RCP26_2040': {'year': 2040, 'scenario': 'RCP26'},\n",
       " 'coal_exit_INDC_2040': {'year': 2040, 'scenario': 'INDC'},\n",
       " 'coal_exit_coal_exit_2040': {'year': 2040, 'scenario': 'coal_exit'},\n",
       " 'coal_exit_Ref_2050': {'year': 2050, 'scenario': 'Ref'},\n",
       " 'coal_exit_RCP26_2050': {'year': 2050, 'scenario': 'RCP26'},\n",
       " 'coal_exit_INDC_2050': {'year': 2050, 'scenario': 'INDC'},\n",
       " 'coal_exit_coal_exit_2050': {'year': 2050, 'scenario': 'coal_exit'}}"
      ]
     },
     "execution_count": 10,
     "metadata": {},
     "output_type": "execute_result"
    }
   ],
   "source": [
    "database_dict"
   ]
  },
  {
   "cell_type": "markdown",
   "metadata": {},
   "source": [
    "## calcualte the LCA for all scenarios and years for all SE technologies"
   ]
  },
  {
   "cell_type": "code",
   "execution_count": 11,
   "metadata": {},
   "outputs": [],
   "source": [
    "#select the modeled processes\n",
    "#this is a crude mapping of of REMIND SE to ecoinvent progcesses\n",
    "#we need to adjust the units later in the post processing to match EJ"
   ]
  },
  {
   "cell_type": "code",
   "execution_count": 12,
   "metadata": {},
   "outputs": [],
   "source": [
    "# see data\\ecoinventtoREMINDtechnmap.csv for SE technology mapping\n",
    "# we use the electricity generation processes as a base and check what the input is to adjust them accordingly\n",
    "# see the A matrix of the elec processes for the input A.technology.final.technology.list.variable.csv\n",
    "# ergo if a kWh hard coal needs 5kg of coal we:\n",
    "\n",
    "# elec to raw input = /5\n",
    "# 1kWh to 1EJ =  /3.6*10^12\n",
    "# elec hard coal to se hard coal /3.6*10^12 /5kg\n",
    "\n",
    "# this factor is in the conv column of the ecoinventtoREMINDtechmap.csv"
   ]
  },
  {
   "cell_type": "code",
   "execution_count": 13,
   "metadata": {},
   "outputs": [],
   "source": [
    "# se _filter filters for electricity high voltage and all the other SE ecoinvent processes mapped above"
   ]
  },
  {
   "cell_type": "code",
   "execution_count": 14,
   "metadata": {},
   "outputs": [],
   "source": [
    "se_filter = [ws.either(*[                                                  \n",
    "                                                                           ws.equals('name', 'heat and power co-generation, biogas, gas engine'),\n",
    "                                                                           ws.equals('name', 'electricity production, natural gas, combined cycle power plant'),\n",
    "                                                                           ws.equals('name', 'electricity production, hard coal'),\n",
    "                                                                           ws.equals('name', 'electricity production, deep geothermal'),\n",
    "                                                                           ws.equals('name', 'market for hydrogen, liquid'),\n",
    "                                                                           ws.equals('name', 'electricity production, oil'),\n",
    "                                                                           ws.equals('name', 'softwood forestry, mixed species, sustainable forest management')])]"
   ]
  },
  {
   "cell_type": "code",
   "execution_count": 15,
   "metadata": {},
   "outputs": [],
   "source": [
    "electricity_markets = {}\n",
    "se_technologies = {}\n",
    "\n",
    "for db_name in database_dict:\n",
    "    electricity_markets[db_name] = [x for x in ws.get_many(Database(db_name), *[*eimod.electricity_market_filter_high_voltage, ws.exclude(ws.contains('name', 'Swiss Federal Railways')),\n",
    "                                                                                ws.exclude(ws.contains('name', 'label-certified'))])]\n",
    "    se_technologies[db_name] = [x for x in ws.get_many(Database(db_name), *[*se_filter])]"
   ]
  },
  {
   "cell_type": "markdown",
   "metadata": {},
   "source": [
    "## choose the RECIPE categories, we use 2008 with updated 2016 where direct matches are possible"
   ]
  },
  {
   "cell_type": "markdown",
   "metadata": {},
   "source": [
    "calculate all the ReCiPe Midpoint (H) 2008 version and multiply with mid to endpoints to get DALYS (HH), Species.year (ET) and maybe resources."
   ]
  },
  {
   "cell_type": "code",
   "execution_count": 16,
   "metadata": {
    "scrolled": true
   },
   "outputs": [
    {
     "data": {
      "text/plain": [
       "[('ReCiPe Midpoint (H)', 'agricultural land occupation', 'ALOP'),\n",
       " ('ReCiPe Midpoint (H)', 'climate change', 'GWP100'),\n",
       " ('ReCiPe Midpoint (H)', 'fossil depletion', 'FDP'),\n",
       " ('ReCiPe Midpoint (H)', 'freshwater ecotoxicity', 'FETPinf'),\n",
       " ('ReCiPe Midpoint (H)', 'freshwater eutrophication', 'FEP'),\n",
       " ('ReCiPe Midpoint (H)', 'human toxicity', 'HTPinf'),\n",
       " ('ReCiPe Midpoint (H)', 'ionising radiation', 'IRP_HE'),\n",
       " ('ReCiPe Midpoint (H)', 'marine ecotoxicity', 'METPinf'),\n",
       " ('ReCiPe Midpoint (H)', 'marine eutrophication', 'MEP'),\n",
       " ('ReCiPe Midpoint (H)', 'metal depletion', 'MDP'),\n",
       " ('ReCiPe Midpoint (H)', 'natural land transformation', 'NLTP'),\n",
       " ('ReCiPe Midpoint (H)', 'ozone depletion', 'ODPinf'),\n",
       " ('ReCiPe Midpoint (H)', 'particulate matter formation', 'PMFP'),\n",
       " ('ReCiPe Midpoint (H)', 'photochemical oxidant formation', 'POFP'),\n",
       " ('ReCiPe Midpoint (H)', 'terrestrial acidification', 'TAP100'),\n",
       " ('ReCiPe Midpoint (H)', 'terrestrial ecotoxicity', 'TETPinf'),\n",
       " ('ReCiPe Midpoint (H)', 'urban land occupation', 'ULOP'),\n",
       " ('ReCiPe Midpoint (H)', 'water depletion', 'WDP')]"
      ]
     },
     "execution_count": 16,
     "metadata": {},
     "output_type": "execute_result"
    }
   ],
   "source": [
    "method=[m for m in methods if \"'ReCiPe Midpoint (H)',\" in str(m)]\n",
    "method"
   ]
  },
  {
   "cell_type": "markdown",
   "metadata": {},
   "source": [
    "select the matching categories, we only use the IPCC CC instead of the RECIPE one, however they have the same unit so we can use the same mid to endpoint factor\n",
    "\n",
    "we use the RECIPE 1.11\n",
    "    1. we developed a land occupation method ourselves to include it in the Ecosystem toxicity\n",
    "    2. we did a crude matching of land occupation categories to urban and rural\n",
    "    3. we took the average of each of the two categories\n",
    "    4. for land transformation we use to and from forest and take the average terrestrial species per m2"
   ]
  },
  {
   "cell_type": "code",
   "execution_count": 17,
   "metadata": {},
   "outputs": [],
   "source": [
    "categories = ['ALO', 'CC', 'FD', 'FET', 'FE',\n",
    "              'HT', 'IR', 'MET', 'ME', 'MD',\n",
    "              'NLT', 'OD', 'PMF', 'POF', 'TA',\n",
    "              'TET', 'ULO', 'WD']\n",
    "categories_total = ['ALO', 'CC', 'FD', 'FET', 'FE',\n",
    "              'HT', 'IR', 'MET', 'ME', 'MD',\n",
    "              'NLT', 'OD', 'PMF', 'POF', 'TA',\n",
    "              'TET', 'ULO', 'WD','total'] "
   ]
  },
  {
   "cell_type": "markdown",
   "metadata": {},
   "source": [
    "perform LCA for all elec markets"
   ]
  },
  {
   "cell_type": "code",
   "execution_count": null,
   "metadata": {},
   "outputs": [],
   "source": [
    "electricity_markets_LCIA= {}\n",
    "se_technologies_LCIA= {}\n",
    "\n",
    "for db_name in database_dict:\n",
    "    for category in categories:\n",
    "        electricity_markets_LCIA[(database_dict[db_name]['year'], database_dict[db_name]['scenario'], category)] = lcahelp.LCA_to_df(electricity_markets[db_name], cats = [category])\n",
    "        se_technologies_LCIA[(database_dict[db_name]['year'], database_dict[db_name]['scenario'], category)]     = lcahelp.LCA_to_df(se_technologies[db_name], cats = [category])"
   ]
  },
  {
   "cell_type": "markdown",
   "metadata": {},
   "source": [
    "load the mid to end characterization factors\n",
    "calculate all results and aggregate them to DALYS and ET"
   ]
  },
  {
   "cell_type": "code",
   "execution_count": null,
   "metadata": {
    "scrolled": true
   },
   "outputs": [],
   "source": [
    "mid_end = pd.read_csv(\"data\\\\recipe_mid_to_end.csv\", sep = ';', index_col = 0) \n",
    "mid_end\n"
   ]
  },
  {
   "cell_type": "code",
   "execution_count": null,
   "metadata": {},
   "outputs": [],
   "source": [
    "end_categories = ['HH_H', 'ED_H', 'RA_H'] \n",
    "    "
   ]
  },
  {
   "cell_type": "code",
   "execution_count": null,
   "metadata": {},
   "outputs": [],
   "source": [
    "end_mid_electricity_markets = {}\n",
    "end_mid_se_technologies = {}\n",
    "for db_name in database_dict:        \n",
    "    for end_category in end_categories:\n",
    "        for category in categories:\n",
    "                    \n",
    "            end_mid_electricity_markets[(database_dict[db_name]['year'], database_dict[db_name]['scenario'],  end_category, category)] = electricity_markets_LCIA[(database_dict[db_name]['year'], database_dict[db_name]['scenario'], category)] * mid_end.loc[category, end_category]\n",
    "            end_mid_se_technologies[(database_dict[db_name]['year'], database_dict[db_name]['scenario'],  end_category, category)]     = se_technologies_LCIA[(database_dict[db_name]['year'], database_dict[db_name]['scenario'], category)] * mid_end.loc[category, end_category]                                                                                 \n"
   ]
  },
  {
   "cell_type": "code",
   "execution_count": null,
   "metadata": {},
   "outputs": [],
   "source": [
    "end_end_electricity_markets"
   ]
  },
  {
   "cell_type": "code",
   "execution_count": null,
   "metadata": {
    "scrolled": true
   },
   "outputs": [],
   "source": [
    "end_end_electricity_markets = pd.concat(end_mid_electricity_markets, names=['period','scenario','end_category', 'category', 'variable'])\n",
    "end_end_se_technologies     = pd.concat(end_mid_se_technologies, names=['period','scenario','end_category', 'category', 'variable'])"
   ]
  },
  {
   "cell_type": "markdown",
   "metadata": {},
   "source": [
    "sum up all end categories"
   ]
  },
  {
   "cell_type": "code",
   "execution_count": null,
   "metadata": {},
   "outputs": [],
   "source": [
    "end_end_electricity_markets = end_end_electricity_markets.groupby(['period','scenario', 'end_category', 'variable']).sum()\n",
    "end_end_se_technologies     = end_end_se_technologies.groupby(['period','scenario', 'end_category', 'variable']).sum()"
   ]
  },
  {
   "cell_type": "code",
   "execution_count": null,
   "metadata": {},
   "outputs": [],
   "source": [
    "end_end_electricity_markets['total'] = end_end_electricity_markets.sum(axis = 1)\n",
    "end_end_se_technologies['total']     = end_end_se_technologies.sum(axis = 1)"
   ]
  },
  {
   "cell_type": "code",
   "execution_count": null,
   "metadata": {},
   "outputs": [],
   "source": [
    "end_end_electricity_markets.to_csv('interm\\\\lca_electricity_markets_per_tec_end_points' + project + '.csv', sep=';')\n",
    "end_end_se_technologies.to_csv('interm\\\\lca_se_technologies_per_tec_end_points' + project + '.csv', sep=';')"
   ]
  },
  {
   "cell_type": "code",
   "execution_count": null,
   "metadata": {
    "scrolled": true
   },
   "outputs": [],
   "source": [
    "end_end_electricity_markets  = pd.read_csv('interm\\\\lca_electricity_markets_per_tec_end_points' + project + '.csv', sep = ';') \n",
    "end_end_se_technologies      = pd.read_csv('interm\\\\lca_se_technologies_per_tec_end_points' + project + '.csv', sep = ';') "
   ]
  },
  {
   "cell_type": "markdown",
   "metadata": {},
   "source": [
    "add location"
   ]
  },
  {
   "cell_type": "code",
   "execution_count": null,
   "metadata": {},
   "outputs": [],
   "source": [
    "end_end_electricity_markets['ecoinvent'] = end_end_electricity_markets['variable'].str.split(\",\").str[2].str.split(\"'\").str[1].str.split(\"-\").str[0]\n",
    "end_end_se_technologies['ecoinvent']     = end_end_se_technologies['variable'].str.split(\",\").str[-1].str.split(\"'\").str[1].str.split(\"-\").str[0]"
   ]
  },
  {
   "cell_type": "markdown",
   "metadata": {},
   "source": [
    "match REMIND locations"
   ]
  },
  {
   "cell_type": "code",
   "execution_count": null,
   "metadata": {},
   "outputs": [],
   "source": [
    "end_end_electricity_markets['variable'] = end_end_electricity_markets['variable'].str.split(\",\").str[0].str.split(\"'\").str[1]\n",
    "end_end_se_technologies['variable'] = end_end_se_technologies['variable'].str.split(\"'\").str[1]"
   ]
  },
  {
   "cell_type": "code",
   "execution_count": null,
   "metadata": {
    "scrolled": true
   },
   "outputs": [],
   "source": [
    "region_mapping_elec     = pd.read_csv(\"data\\\\regionmappingREMIND_noFullISO_elec.csv\", sep = ';', index_col = 0)\n",
    "region_mapping_se       = pd.read_csv(\"data\\\\regionmappingREMIND_noFullISO_se.csv\", sep = ';', index_col = 0)\n",
    "region_mapping_se_world = pd.read_csv(\"data\\\\regionmappingREMIND_noFullISO_se_world.csv\", sep = ';', index_col = False)"
   ]
  },
  {
   "cell_type": "code",
   "execution_count": null,
   "metadata": {},
   "outputs": [],
   "source": [
    "end_end_electricity_markets = pd.merge(end_end_electricity_markets, region_mapping_elec, on= \"ecoinvent\", how= \"inner\")\n",
    "end_end_se_technologies = pd.merge(end_end_se_technologies, region_mapping_se, on= \"ecoinvent\", how= \"inner\")"
   ]
  },
  {
   "cell_type": "markdown",
   "metadata": {},
   "source": [
    "average over multiple ecoinvent locations, we have India with several grids for example"
   ]
  },
  {
   "cell_type": "code",
   "execution_count": null,
   "metadata": {},
   "outputs": [],
   "source": [
    "#end_end_electricity_markets.groupby(['period','scenario', 'end_category', 'variable','ecoinvent', 'CountryCode', 'RegionCode']).mean()\n",
    "#end_end_se_technologies.groupby(['period','scenario', 'end_category', 'variable','ecoinvent', 'CountryCode', 'RegionCode']).mean()"
   ]
  },
  {
   "cell_type": "code",
   "execution_count": null,
   "metadata": {},
   "outputs": [],
   "source": [
    "end_end_electricity_markets = end_end_electricity_markets.groupby(['period','scenario', 'end_category', 'variable', 'RegionCode']).mean()\n",
    "end_end_se_technologies = end_end_se_technologies.groupby(['period','scenario', 'end_category', 'variable', 'RegionCode']).mean()"
   ]
  },
  {
   "cell_type": "markdown",
   "metadata": {},
   "source": [
    "## put the world values here for all REMIND regions for the non electricity se technologies"
   ]
  },
  {
   "cell_type": "code",
   "execution_count": null,
   "metadata": {},
   "outputs": [],
   "source": [
    "end_end_se_technologies.to_csv('interm\\\\lca_end_points.csv', sep=';')\n",
    "end_end_se_technologies = pd.read_csv(\"interm\\\\lca_end_points.csv\", sep = ';') \n",
    "end_end_electricity_markets.to_csv('interm\\\\lca_end_points.csv', sep=';')\n",
    "end_end_electricity_markets = pd.read_csv(\"interm\\\\lca_end_points.csv\", sep = ';')"
   ]
  },
  {
   "cell_type": "code",
   "execution_count": null,
   "metadata": {},
   "outputs": [],
   "source": [
    "end_end_se_technologies = pd.merge(end_end_se_technologies, region_mapping_se_world,  left_on=['RegionCode'], right_on=['World'], how= \"right\")"
   ]
  },
  {
   "cell_type": "code",
   "execution_count": null,
   "metadata": {},
   "outputs": [],
   "source": [
    "end_end_se_technologies['RegionCode'] = end_end_se_technologies['Remind']\n",
    "#delte World and -- column\n",
    "#end_end_se_technologies = end_end_se_technologies.drop('World', 1)\n",
    "end_end_se_technologies = end_end_se_technologies.drop('World', 1)\n",
    "end_end_se_technologies = end_end_se_technologies.drop('Remind', 1)"
   ]
  },
  {
   "cell_type": "code",
   "execution_count": null,
   "metadata": {},
   "outputs": [],
   "source": [
    "end_end = end_end_electricity_markets.append(end_end_se_technologies)"
   ]
  },
  {
   "cell_type": "code",
   "execution_count": null,
   "metadata": {
    "scrolled": true
   },
   "outputs": [],
   "source": [
    "pd.DataFrame(end_end)"
   ]
  },
  {
   "cell_type": "markdown",
   "metadata": {},
   "source": [
    "join with REMIND mapping and energy content conversion"
   ]
  },
  {
   "cell_type": "code",
   "execution_count": null,
   "metadata": {},
   "outputs": [],
   "source": [
    "# join with REMIND mapping\n",
    "## read REMIND mapping\n",
    "## join\n",
    "## divide with convertion to go to EJ"
   ]
  },
  {
   "cell_type": "code",
   "execution_count": null,
   "metadata": {},
   "outputs": [],
   "source": [
    "tech_mapping = pd.read_csv(\"data\\\\ecoinventtoREMINDtechmap.csv\", sep = ';', index_col = False) "
   ]
  },
  {
   "cell_type": "code",
   "execution_count": null,
   "metadata": {},
   "outputs": [],
   "source": [
    "end_end = pd.merge(end_end, tech_mapping, left_on=['variable'], right_on=['ecoinvent'], how= \"left\")"
   ]
  },
  {
   "cell_type": "code",
   "execution_count": null,
   "metadata": {},
   "outputs": [],
   "source": [
    "end_end['total'] = end_end['total'] / end_end['conv']\n",
    "end_end[categories]  = end_end[categories].divide(end_end[\"conv\"], axis=\"index\")"
   ]
  },
  {
   "cell_type": "markdown",
   "metadata": {},
   "source": [
    "cleanup"
   ]
  },
  {
   "cell_type": "code",
   "execution_count": null,
   "metadata": {},
   "outputs": [],
   "source": [
    "end_end_out = end_end[['period','scenario','REMIND','end_category', 'RegionCode']]\n",
    "end_end_out[categories] = end_end[categories]\n",
    "end_end_out['total'] = end_end['total']"
   ]
  },
  {
   "cell_type": "code",
   "execution_count": null,
   "metadata": {},
   "outputs": [],
   "source": [
    "end_end_out = pd.melt(end_end_out, id_vars=['period', 'scenario','REMIND','RegionCode','end_category'], value_vars=categories_total)"
   ]
  },
  {
   "cell_type": "markdown",
   "metadata": {},
   "source": [
    "write results"
   ]
  },
  {
   "cell_type": "code",
   "execution_count": null,
   "metadata": {},
   "outputs": [],
   "source": [
    "end_end_out.to_csv('results\\\\lca_per_tec_end_points' + project  + '.csv', sep=';')"
   ]
  },
  {
   "cell_type": "markdown",
   "metadata": {},
   "source": [
    "# read all REMIND mifs and calculate the actual model specific LCA including the monetization\n",
    "1. read all mifs and append them\n",
    "2. join with end_end_out and multiply\n",
    "3. join with vsl_coeff\n",
    "    1. join vsl_coeff with regions mapping and average over region"
   ]
  },
  {
   "cell_type": "markdown",
   "metadata": {},
   "source": [
    "read REMIND results"
   ]
  },
  {
   "cell_type": "code",
   "execution_count": null,
   "metadata": {},
   "outputs": [],
   "source": [
    "mif_names = os.listdir(\"data\\\\mifs\\\\\")"
   ]
  },
  {
   "cell_type": "markdown",
   "metadata": {},
   "source": [
    "mifs from wide to long"
   ]
  },
  {
   "cell_type": "code",
   "execution_count": null,
   "metadata": {},
   "outputs": [],
   "source": [
    "mifs = pd.concat( [ pd.read_csv(\"data\\\\mifs\\\\\" + mif, sep = ';') for mif in mif_names ] )"
   ]
  },
  {
   "cell_type": "markdown",
   "metadata": {},
   "source": [
    "define colnames that are years"
   ]
  },
  {
   "cell_type": "code",
   "execution_count": null,
   "metadata": {},
   "outputs": [],
   "source": [
    "mifs = mifs.drop('Unnamed: 24', 1)"
   ]
  },
  {
   "cell_type": "code",
   "execution_count": null,
   "metadata": {},
   "outputs": [],
   "source": [
    "year_cols = [col for col in mifs.columns if '2' in col]"
   ]
  },
  {
   "cell_type": "code",
   "execution_count": null,
   "metadata": {
    "slideshow": {
     "slide_type": "slide"
    }
   },
   "outputs": [],
   "source": [
    "mifs = pd.melt(mifs, id_vars=['Model', 'Scenario','Region','Variable', 'Unit'], value_vars=year_cols)"
   ]
  },
  {
   "cell_type": "markdown",
   "metadata": {},
   "source": [
    "rename columns"
   ]
  },
  {
   "cell_type": "code",
   "execution_count": null,
   "metadata": {},
   "outputs": [],
   "source": [
    "mifs.columns=['model','scenario','region','tech','unit','period','SE']\n",
    "mifs = mifs.drop('model', 1)\n",
    "end_end_out.columns=['period','scenario','tech','region','end_category','category','lca']"
   ]
  },
  {
   "cell_type": "markdown",
   "metadata": {},
   "source": [
    "join LCA results with the mifs"
   ]
  },
  {
   "cell_type": "code",
   "execution_count": null,
   "metadata": {},
   "outputs": [],
   "source": [
    "mifs['period']=mifs['period'].astype(int)\n",
    "end_end_out['period']=end_end_out['period'].astype(int)"
   ]
  },
  {
   "cell_type": "markdown",
   "metadata": {},
   "source": [
    "map scenarios"
   ]
  },
  {
   "cell_type": "code",
   "execution_count": null,
   "metadata": {},
   "outputs": [],
   "source": [
    "end_end_out['scenario'][end_end_out['scenario'] == 'ecoinvent'] = 'SSP2-Ref'\n",
    "end_end_out['scenario'][end_end_out['scenario'] == 'INDC'] = 'SSP2-INDC'\n",
    "end_end_out['scenario'][end_end_out['scenario'] == 'RCP26'] = 'SSP2-26'\n",
    "end_end_out['scenario'][end_end_out['scenario'] == 'Ref'] = 'SSP2-Ref'\n",
    "end_end_out['scenario'][end_end_out['scenario'] == 'coal_exit'] = 'SSP2-INDC_coal_exit'"
   ]
  },
  {
   "cell_type": "code",
   "execution_count": null,
   "metadata": {},
   "outputs": [],
   "source": [
    "end_end_out = pd.merge(end_end_out, mifs, left_on=['period','scenario','tech','region'], right_on=['period','scenario','tech','region'], how= \"left\")\n",
    "end_end_out['lca_impact'] = end_end_out['lca'] * end_end_out['SE']"
   ]
  },
  {
   "cell_type": "markdown",
   "metadata": {},
   "source": [
    "write results"
   ]
  },
  {
   "cell_type": "code",
   "execution_count": null,
   "metadata": {},
   "outputs": [],
   "source": [
    "end_end_out.to_csv('results\\\\lca_REMIND_end_points' + project  + '.csv', sep=';')"
   ]
  },
  {
   "cell_type": "markdown",
   "metadata": {},
   "source": [
    "## read the VSL and multiply the HH and ED values with the VSL and end category"
   ]
  },
  {
   "cell_type": "markdown",
   "metadata": {},
   "source": [
    "read the vsl coeff and do the average over REMIND regions\n",
    "    map to REMIND regions\n",
    "join vsl with end_end_out \n",
    "multiply with monetization for ED and HH and R?"
   ]
  },
  {
   "cell_type": "code",
   "execution_count": null,
   "metadata": {},
   "outputs": [],
   "source": [
    "vsl_coeff = pd.read_csv(\"data//vsl_coeff.csv\", sep = ',', index_col = 0) "
   ]
  },
  {
   "cell_type": "markdown",
   "metadata": {},
   "source": [
    "join with REMIND region mapping"
   ]
  },
  {
   "cell_type": "markdown",
   "metadata": {},
   "source": [
    "## condense to REMIND region results"
   ]
  },
  {
   "cell_type": "code",
   "execution_count": null,
   "metadata": {},
   "outputs": [],
   "source": [
    "vsl_coeff = pd.merge(vsl_coeff, region_mapping_elec, left_on= \"Region\", right_on='CountryCode', how= \"left\")\n",
    "vsl_coeff = vsl_coeff.groupby(['RegionCode','Year','Data2']).mean()\n",
    "vsl_coeff.columns = ['vsl_coeff']"
   ]
  },
  {
   "cell_type": "markdown",
   "metadata": {},
   "source": [
    "## join end_end_out and vsl_coeff"
   ]
  },
  {
   "cell_type": "code",
   "execution_count": null,
   "metadata": {},
   "outputs": [],
   "source": [
    "end_end_out = pd.merge(end_end_out, vsl_coeff, left_on= [\"period\",\"region\"], right_on=[\"Year\",\"RegionCode\"], how= \"left\")"
   ]
  },
  {
   "cell_type": "markdown",
   "metadata": {},
   "source": [
    "## add the monetization"
   ]
  },
  {
   "cell_type": "markdown",
   "metadata": {},
   "source": [
    "#VSL from OECD (2012) Mortality risk valuation in environment, health and transport policies. OECD Publishing\n",
    "#divded by the 2017 ration of mortality to DALYS, all cause all ages\n",
    "u_DALY <- 3600000 / 30.4 [$2005]"
   ]
  },
  {
   "cell_type": "code",
   "execution_count": null,
   "metadata": {},
   "outputs": [],
   "source": [
    "#HH_H [DALYS] = 118421.1  \n",
    "\n",
    "#ED_H [species.yr] = 50447778 , Kiuk 2008 gives a value from the NEEDs project of 0.25 €2004/PDF/m2/year for the EU 25 based on restauration cost of from Germany to go from integreated arable to organic arable (the lowest cost to transform land)\n",
    "\n",
    "#@Ott2007 gives a spatially weighted average to transform \"Built Up Land\" into\n",
    "#other land for EU-25: 1.625 $2005/PDF/m2\n",
    "\n",
    "#this equals 0.165 $2005/PDF/m2/year if we apply 10a for land-use change to last\n",
    "\n",
    "#terrestrial species density: 1.48 E-8 [1/m2][3] global data from recipe\n",
    "#\tCF PDF = SD PDF, only terrestrial\n",
    "#\tCF [↕species.yr] = PDF.m2.yr * species/m²\n",
    "#\t€/ CF [species.yr]= CF [↕species.yr] *1/( species/m²)\n",
    "#1/1.48 E-8 [1/m2] = 67567568 [1/(species/m²)]\n",
    "#0.165$ [2005] per m² per year * 67567568 [1/(species/m²)] = 11148648.72 $/species year\n",
    "\n",
    "\n",
    "#RD_H [$] = 1.09"
   ]
  },
  {
   "cell_type": "code",
   "execution_count": null,
   "metadata": {
    "scrolled": false
   },
   "outputs": [],
   "source": [
    "end_end_out['HH_H_marginal_cost'] = 118421.1\n",
    "end_end_out['ED_H_marginal_cost'] = 11148648.72                                     \n",
    "end_end_out['RA_H_marginal_cost'] = 1.09\n",
    "\n",
    "end_end_out['HH_H_cost_total']=0\n",
    "end_end_out['ED_H_cost_total']=0\n",
    "end_end_out['RA_H_cost_total']=0\n",
    "\n",
    "end_end_out['HH_H_cost_total'][end_end_out['end_category'] == 'HH_H'] = end_end_out['HH_H_marginal_cost'] * end_end_out['lca_impact']\n",
    "end_end_out['ED_H_cost_total'][end_end_out['end_category'] == 'ED_H'] = end_end_out['ED_H_marginal_cost'] * end_end_out['lca_impact']\n",
    "end_end_out['RA_H_cost_total'][end_end_out['end_category'] == 'RA_H'] = end_end_out['RA_H_marginal_cost'] * end_end_out['lca_impact']\n",
    "\n",
    "end_end_out['HH_H_cost_total_vsl']=0\n",
    "end_end_out['ED_H_cost_total_vsl']=0\n",
    "end_end_out['RA_H_cost_total_vsl']=0\n",
    "end_end_out['HH_H_cost_total_vsl'][end_end_out['end_category'] == 'HH_H'] = end_end_out['HH_H_cost_total'] * end_end_out['vsl_coeff']\n",
    "end_end_out['ED_H_cost_total_vsl'][end_end_out['end_category'] == 'ED_H'] = end_end_out['ED_H_cost_total'] * end_end_out['vsl_coeff']\n",
    "end_end_out['RA_H_cost_total_vsl'][end_end_out['end_category'] == 'RA_H'] = end_end_out['RA_H_cost_total'] * end_end_out['vsl_coeff']"
   ]
  },
  {
   "cell_type": "markdown",
   "metadata": {},
   "source": [
    "## write all categories and total"
   ]
  },
  {
   "cell_type": "code",
   "execution_count": null,
   "metadata": {},
   "outputs": [],
   "source": [
    "end_end_out.to_csv('results\\\\lca_REMIND_monetization_end_points' + project  + '.csv', sep=';')"
   ]
  },
  {
   "cell_type": "code",
   "execution_count": null,
   "metadata": {},
   "outputs": [],
   "source": [
    "# run the policy_cost.R to get the mitigation cost\n",
    "# run the calclca.R to get the endpoint scors\n",
    "# run the calclca_cost.R to add the AP to the LCA and plot some cost graphs, here the mitigation cost are added"
   ]
  },
  {
   "cell_type": "code",
   "execution_count": null,
   "metadata": {},
   "outputs": [],
   "source": []
  },
  {
   "cell_type": "code",
   "execution_count": null,
   "metadata": {},
   "outputs": [],
   "source": []
  }
 ],
 "metadata": {
  "kernelspec": {
   "display_name": "Python 3",
   "language": "python",
   "name": "python3"
  },
  "language_info": {
   "codemirror_mode": {
    "name": "ipython",
    "version": 3
   },
   "file_extension": ".py",
   "mimetype": "text/x-python",
   "name": "python",
   "nbconvert_exporter": "python",
   "pygments_lexer": "ipython3",
   "version": "3.7.1"
  }
 },
 "nbformat": 4,
 "nbformat_minor": 2
}
