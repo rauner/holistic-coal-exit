{
 "cells": [
  {
   "cell_type": "markdown",
   "metadata": {},
   "source": [
    "# import brightway2 results for the coal exit scenarios\n",
    "0. calcualte the energy market electricity high voltage mix RECIPE total, HH, ED and RD\n",
    "(indicator x scenarios x period)\n",
    "\n",
    "0. calculate the mid to endpoint DALYS, and species.year\n",
    "\n",
    "0. do the same for the other SE carriers \n",
    "    1. coarse match of REMIND and brightway technologies on REMIND SE level\n",
    "    2. calculate the RECIPE total (3) for all these technologies in table form\n",
    "       (technologies x indicator x scenarios x period)\n",
    "\n",
    "1. use these tables to do a post processing (R) to aggregate and monetize the DALYS and monetize the ED\n",
    "     1. read in results of this script\n",
    "     2. use conversion factors for ecoinvent to REMIND\n",
    "     3. use a REMIND activity mapping\n",
    "     4. monetize DALYS and PDFs\n",
    "    \n",
       "    \n",
    "further developments\n",
    "1. adjust mid to end pop with SSP pop data country specific?\n",
    "2. adjust the land occupation indicator with country specific species data\n",
    "3. disaggregate the land occupating indicator \n",
    "4. update to RECIPE 2016 when available\n",
    "5. dont use the global mean for SE technologies\n",
    "6. automatic scenario name mapping"
   ]
  },
  {
   "cell_type": "markdown",
   "metadata": {},
   "source": [
    "the se regional mapping is global"
   ]
  },
  {
   "cell_type": "markdown",
   "metadata": {},
   "source": [
    "# import the brightway2 results for the coal exit scenarios"
   ]
  },
  {
   "cell_type": "code",
   "execution_count": 6,
   "metadata": {},
   "outputs": [],
   "source": [
    "import os\n",
    "import pandas as pd"
   ]
  },
  {
   "cell_type": "code",
   "execution_count": 7,
   "metadata": {},
   "outputs": [],
   "source": [
    "path=\"C:\\\\Users\\\\rauner\\\\Documents\\\\PIK\\\\holi_coal_exit\\\\rmnd-lca\\\\\"\n",
    "os.chdir(path)"
   ]
  },
  {
   "cell_type": "code",
   "execution_count": 8,
   "metadata": {},
   "outputs": [
    {
     "data": {
      "text/html": [
       "<style>.container { width:100% !important; }</style>"
      ],
      "text/plain": [
       "<IPython.core.display.HTML object>"
      ]
     },
     "execution_count": 8,
     "metadata": {},
     "output_type": "execute_result"
    }
   ],
   "source": [
    "from IPython.core.display import HTML\n",
    "HTML(\"<style>.container { width:100% !important; }</style>\")"
   ]
  },
  {
   "cell_type": "code",
   "execution_count": 9,
   "metadata": {},
   "outputs": [
    {
     "name": "stderr",
     "output_type": "stream",
     "text": [
      "C:\\Users\\rauner\\AppData\\Local\\Continuum\\miniconda3\\lib\\site-packages\\constructive_geometries\\cg.py:77: FionaDeprecationWarning: Use fiona.Env() instead.\n",
      "  with fiona.drivers():\n"
     ]
    }
   ],
   "source": [
    "import brightway2 as bw\n",
    "%run notebooks\\\\initialize_notebook.ipynb\n",
    "from wurst.ecoinvent import filters\n",
    "from constructive_geometries import Geomatcher"
   ]
  },
  {
   "cell_type": "code",
   "execution_count": 10,
   "metadata": {},
   "outputs": [],
   "source": [
    "from wurst import searching as ws"
   ]
  },
  {
   "cell_type": "code",
   "execution_count": 11,
   "metadata": {},
   "outputs": [
    {
     "name": "stderr",
     "output_type": "stream",
     "text": [
      "C:\\Users\\rauner\\AppData\\Local\\Continuum\\miniconda3\\lib\\site-packages\\constructive_geometries\\cg.py:77: FionaDeprecationWarning: Use fiona.Env() instead.\n",
      "  with fiona.drivers():\n",
      "C:\\Users\\rauner\\AppData\\Local\\Continuum\\miniconda3\\lib\\site-packages\\country_converter\\country_converter.py:412: FutureWarning: read_table is deprecated, use read_csv instead.\n",
      "  for str_col in must_be_string})\n"
     ]
    },
    {
     "name": "stdout",
     "output_type": "stream",
     "text": [
      "Geomatcher: Used 'AO' for 'AGO'\n",
      "Geomatcher: Used 'BI' for 'BDI'\n",
      "Geomatcher: Used 'BJ' for 'BEN'\n",
      "Geomatcher: Used 'BF' for 'BFA'\n",
      "Geomatcher: Used 'BW' for 'BWA'\n",
      "Geomatcher: Used 'CF' for 'CAF'\n",
      "Geomatcher: Used 'CI' for 'CIV'\n",
      "Geomatcher: Used 'CM' for 'CMR'\n",
      "Geomatcher: Used 'CD' for 'COD'\n",
      "Geomatcher: Used 'CG' for 'COG'\n",
      "Geomatcher: Used 'KM' for 'COM'\n",
      "Geomatcher: Used 'CV' for 'CPV'\n",
      "Geomatcher: Used 'DJ' for 'DJI'\n",
      "Geomatcher: Used 'ER' for 'ERI'\n",
      "Geomatcher: Used 'ET' for 'ETH'\n",
      "Geomatcher: Used 'GA' for 'GAB'\n",
      "Geomatcher: Used 'GH' for 'GHA'\n",
      "Geomatcher: Used 'GN' for 'GIN'\n",
      "Geomatcher: Used 'GM' for 'GMB'\n",
      "Geomatcher: Used 'GW' for 'GNB'\n",
      "Geomatcher: Used 'GQ' for 'GNQ'\n",
      "Geomatcher: Used 'KE' for 'KEN'\n",
      "Geomatcher: Used 'LR' for 'LBR'\n",
      "Geomatcher: Used 'LS' for 'LSO'\n",
      "Geomatcher: Used 'MG' for 'MDG'\n",
      "Geomatcher: Used 'ML' for 'MLI'\n",
      "Geomatcher: Used 'MZ' for 'MOZ'\n",
      "Geomatcher: Used 'MR' for 'MRT'\n",
      "Geomatcher: Used 'MU' for 'MUS'\n",
      "Geomatcher: Used 'MW' for 'MWI'\n",
      "Geomatcher: Used 'YT' for 'MYT'\n",
      "Geomatcher: Used 'NA' for 'NAM'\n",
      "Geomatcher: Used 'NE' for 'NER'\n",
      "Geomatcher: Used 'NG' for 'NGA'\n",
      "Geomatcher: Used 'RW' for 'RWA'\n",
      "Geomatcher: Used 'SD' for 'SDN'\n",
      "Geomatcher: Used 'SN' for 'SEN'\n",
      "Geomatcher: Used 'SL' for 'SLE'\n",
      "Geomatcher: Used 'SO' for 'SOM'\n",
      "Geomatcher: Used 'ST' for 'STP'\n",
      "Geomatcher: Used 'SZ' for 'SWZ'\n",
      "Geomatcher: Used 'SC' for 'SYC'\n",
      "Geomatcher: Used 'TD' for 'TCD'\n",
      "Geomatcher: Used 'TG' for 'TGO'\n",
      "Geomatcher: Used 'TZ' for 'TZA'\n",
      "Geomatcher: Used 'UG' for 'UGA'\n",
      "Geomatcher: Used 'ZM' for 'ZMB'\n",
      "Geomatcher: Used 'ZW' for 'ZWE'\n",
      "Geomatcher: Used 'CN' for 'CHN'\n",
      "Geomatcher: Used 'HK' for 'HKG'\n",
      "Geomatcher: Used 'MO' for 'MAC'\n",
      "Geomatcher: Used 'AT' for 'AUT'\n",
      "Geomatcher: Used 'BE' for 'BEL'\n",
      "Geomatcher: Used 'BG' for 'BGR'\n",
      "Geomatcher: Used 'CY' for 'CYP'\n",
      "Geomatcher: Used 'CZ' for 'CZE'\n",
      "Geomatcher: Used 'DE' for 'DEU'\n",
      "Geomatcher: Used 'DK' for 'DNK'\n",
      "Geomatcher: Used 'ES' for 'ESP'\n",
      "Geomatcher: Used 'EE' for 'EST'\n",
      "Geomatcher: Used 'FI' for 'FIN'\n",
      "Geomatcher: Used 'FR' for 'FRA'\n",
      "Geomatcher: Used 'GB' for 'GBR'\n",
      "Geomatcher: Used 'GI' for 'GIB'\n",
      "Geomatcher: Used 'GR' for 'GRC'\n",
      "Geomatcher: Used 'GL' for 'GRL'\n",
      "Geomatcher: Used 'HU' for 'HUN'\n",
      "Geomatcher: Used 'IE' for 'IRL'\n",
      "Geomatcher: Used 'IT' for 'ITA'\n",
      "Geomatcher: Used 'LT' for 'LTU'\n",
      "Geomatcher: Used 'LU' for 'LUX'\n",
      "Geomatcher: Used 'LV' for 'LVA'\n",
      "Geomatcher: Used 'MT' for 'MLT'\n",
      "Geomatcher: Used 'ME' for 'MNE'\n",
      "Geomatcher: Used 'NL' for 'NLD'\n",
      "Geomatcher: Used 'PL' for 'POL'\n",
      "Geomatcher: Used 'PT' for 'PRT'\n",
      "Geomatcher: Used 'RO' for 'ROU'\n",
      "Geomatcher: Used 'RS' for 'SRB'\n",
      "Geomatcher: Used 'SK' for 'SVK'\n",
      "Geomatcher: Used 'SI' for 'SVN'\n",
      "Geomatcher: Used 'SE' for 'SWE'\n",
      "Geomatcher: Used 'IN' for 'IND'\n",
      "Geomatcher: Used 'JP' for 'JPN'\n",
      "Geomatcher: Used 'AR' for 'ARG'\n",
      "Geomatcher: Used 'AG' for 'ATG'\n",
      "Geomatcher: Used 'BS' for 'BHS'\n",
      "Geomatcher: Used 'BZ' for 'BLZ'\n",
      "Geomatcher: Used 'BM' for 'BMU'\n",
      "Geomatcher: Used 'BO' for 'BOL'\n",
      "Geomatcher: Used 'BR' for 'BRA'\n",
      "Geomatcher: Used 'BB' for 'BRB'\n",
      "Geomatcher: Used 'CL' for 'CHL'\n",
      "Geomatcher: Used 'CO' for 'COL'\n",
      "Geomatcher: Used 'CR' for 'CRI'\n",
      "Geomatcher: Used 'CU' for 'CUB'\n",
      "Geomatcher: Used 'KY' for 'CYM'\n",
      "Geomatcher: Used 'DM' for 'DMA'\n",
      "Geomatcher: Used 'DO' for 'DOM'\n",
      "Geomatcher: Used 'EC' for 'ECU'\n",
      "Geomatcher: Used 'GD' for 'GRD'\n",
      "Geomatcher: Used 'GT' for 'GTM'\n",
      "Geomatcher: Used 'GY' for 'GUY'\n",
      "Geomatcher: Used 'HN' for 'HND'\n",
      "Geomatcher: Used 'HT' for 'HTI'\n",
      "Geomatcher: Used 'JM' for 'JAM'\n",
      "Geomatcher: Used 'KN' for 'KNA'\n",
      "Geomatcher: Used 'LC' for 'LCA'\n",
      "Geomatcher: Used 'MX' for 'MEX'\n",
      "Geomatcher: Used 'NI' for 'NIC'\n",
      "Geomatcher: Used 'PA' for 'PAN'\n",
      "Geomatcher: Used 'PE' for 'PER'\n",
      "Geomatcher: Used 'PR' for 'PRI'\n",
      "Geomatcher: Used 'PY' for 'PRY'\n",
      "Geomatcher: Used 'SV' for 'SLV'\n",
      "Geomatcher: Used 'SR' for 'SUR'\n",
      "Geomatcher: Used 'TC' for 'TCA'\n",
      "Geomatcher: Used 'TT' for 'TTO'\n",
      "Geomatcher: Used 'UY' for 'URY'\n",
      "Geomatcher: Used 'VC' for 'VCT'\n",
      "Geomatcher: Used 'VE' for 'VEN'\n",
      "Geomatcher: Used 'VI' for 'VIR'\n",
      "Geomatcher: Used 'AE' for 'ARE'\n",
      "Geomatcher: Used 'AM' for 'ARM'\n",
      "Geomatcher: Used 'AZ' for 'AZE'\n",
      "Geomatcher: Used 'BH' for 'BHR'\n",
      "Geomatcher: Used 'DZ' for 'DZA'\n",
      "Geomatcher: Used 'EG' for 'EGY'\n",
      "Geomatcher: Used 'GE' for 'GEO'\n",
      "Geomatcher: Used 'IR' for 'IRN'\n",
      "Geomatcher: Used 'IQ' for 'IRQ'\n",
      "Geomatcher: Used 'IL' for 'ISR'\n",
      "Geomatcher: Used 'JO' for 'JOR'\n",
      "Geomatcher: Used 'KZ' for 'KAZ'\n",
      "Geomatcher: Used 'KG' for 'KGZ'\n",
      "Geomatcher: Used 'KW' for 'KWT'\n",
      "Geomatcher: Used 'LB' for 'LBN'\n",
      "Geomatcher: Used 'LY' for 'LBY'\n",
      "Geomatcher: Used 'MA' for 'MAR'\n",
      "Geomatcher: Used 'OM' for 'OMN'\n",
      "Geomatcher: Used 'PK' for 'PAK'\n",
      "Geomatcher: Used 'PS' for 'PSE'\n",
      "Geomatcher: Used 'QA' for 'QAT'\n",
      "Geomatcher: Used 'SA' for 'SAU'\n",
      "Geomatcher: Used 'SY' for 'SYR'\n",
      "Geomatcher: Used 'TJ' for 'TJK'\n",
      "Geomatcher: Used 'TM' for 'TKM'\n",
      "Geomatcher: Used 'TN' for 'TUN'\n",
      "Geomatcher: Used 'UZ' for 'UZB'\n",
      "Geomatcher: Used 'YE' for 'YEM'\n",
      "Geomatcher: Used 'AF' for 'AFG'\n",
      "Geomatcher: Used 'AS' for 'ASM'\n",
      "Geomatcher: Used 'BD' for 'BGD'\n",
      "Geomatcher: Used 'BN' for 'BRN'\n",
      "Geomatcher: Used 'BT' for 'BTN'\n",
      "Geomatcher: Used 'FJ' for 'FJI'\n",
      "Geomatcher: Used 'FM' for 'FSM'\n",
      "Geomatcher: Used 'GU' for 'GUM'\n",
      "Geomatcher: Used 'ID' for 'IDN'\n",
      "Geomatcher: Used 'KH' for 'KHM'\n",
      "Geomatcher: Used 'KI' for 'KIR'\n",
      "Geomatcher: Used 'KR' for 'KOR'\n",
      "Geomatcher: Used 'LA' for 'LAO'\n",
      "Geomatcher: Used 'LK' for 'LKA'\n",
      "Geomatcher: Used 'MV' for 'MDV'\n",
      "Geomatcher: Used 'MH' for 'MHL'\n",
      "Geomatcher: Used 'MM' for 'MMR'\n",
      "Geomatcher: Used 'MN' for 'MNG'\n",
      "Geomatcher: Used 'MP' for 'MNP'\n",
      "Geomatcher: Used 'MY' for 'MYS'\n",
      "Geomatcher: Used 'NC' for 'NCL'\n",
      "Geomatcher: Used 'NP' for 'NPL'\n",
      "Geomatcher: Used 'PH' for 'PHL'\n",
      "Geomatcher: Used 'PW' for 'PLW'\n",
      "Geomatcher: Used 'PG' for 'PNG'\n",
      "Geomatcher: Used 'KP' for 'PRK'\n",
      "Geomatcher: Used 'PF' for 'PYF'\n",
      "Geomatcher: Used 'SG' for 'SGP'\n",
      "Geomatcher: Used 'SB' for 'SLB'\n",
      "Geomatcher: Used 'TH' for 'THA'\n",
      "Geomatcher: Used 'TL' for 'TLS'\n",
      "Geomatcher: Used 'TO' for 'TON'\n",
      "Geomatcher: Used 'TV' for 'TUV'\n",
      "Geomatcher: Used 'VN' for 'VNM'\n",
      "Geomatcher: Used 'VU' for 'VUT'\n",
      "Geomatcher: Used 'WS' for 'WSM'\n",
      "Geomatcher: Used 'AL' for 'ALB'\n",
      "Geomatcher: Used 'AD' for 'AND'\n",
      "Geomatcher: Used 'AU' for 'AUS'\n",
      "Geomatcher: Used 'BA' for 'BIH'\n",
      "Geomatcher: Used 'CA' for 'CAN'\n",
      "Geomatcher: Used 'CH' for 'CHE'\n",
      "Geomatcher: Used 'CW' for 'CUW'\n",
      "Geomatcher: Used 'FO' for 'FRO'\n",
      "Geomatcher: Used 'HR' for 'HRV'\n",
      "Geomatcher: Used 'IM' for 'IMN'\n",
      "Geomatcher: Used 'IS' for 'ISL'\n",
      "Geomatcher: Used 'LI' for 'LIE'\n",
      "Geomatcher: Used 'MC' for 'MCO'\n",
      "Geomatcher: Used 'MD' for 'MDA'\n",
      "Geomatcher: Used 'MK' for 'MKD'\n",
      "Geomatcher: Used 'NO' for 'NOR'\n",
      "Geomatcher: Used 'NZ' for 'NZL'\n",
      "Geomatcher: Used 'SM' for 'SMR'\n",
      "Geomatcher: Used 'SS' for 'SSD'\n",
      "Geomatcher: Used 'SX' for 'SXM'\n",
      "Geomatcher: Used 'TR' for 'TUR'\n",
      "Geomatcher: Used 'UA' for 'UKR'\n",
      "Geomatcher: Used 'ZA' for 'ZAF'\n",
      "Geomatcher: Used 'BY' for 'BLR'\n",
      "Geomatcher: Used 'RU' for 'RUS'\n",
      "Geomatcher: Used 'US' for 'USA'\n"
     ]
    }
   ],
   "source": [
    "from helpers import eimod, lcahelp, ei2rmnd"
   ]
  },
  {
   "cell_type": "code",
   "execution_count": 12,
   "metadata": {},
   "outputs": [
    {
     "name": "stdout",
     "output_type": "stream",
     "text": [
      "Restoring project backup archive - this could take a few minutes...\n"
     ]
    },
    {
     "data": {
      "text/plain": [
       "'coal_exit'"
      ]
     },
     "execution_count": 12,
     "metadata": {},
     "output_type": "execute_result"
    }
   ],
   "source": [
    "bw.restore_project_directory(\"data\\\\brightway2-project-coal_exit-backup.08-January-2019-12-24PM.tar.gz\")"
   ]
  },
  {
   "cell_type": "code",
   "execution_count": 13,
   "metadata": {},
   "outputs": [],
   "source": [
    "bw.projects.set_current(\"coal_exit\")\n",
    "project = 'coal_exit'"
   ]
  },
  {
   "cell_type": "markdown",
   "metadata": {},
   "source": [
    "## create a scenarios dictionary"
   ]
  },
  {
   "cell_type": "code",
   "execution_count": 14,
   "metadata": {},
   "outputs": [],
   "source": [
    "database_dict = {}\n",
    "database_dict['ecoinvent_added_technologies'] = {'year' : 2015 , 'scenario' : 'ecoinvent'}\n",
    "\n",
    "for year in [ 2020, 2030,2040, 2050]:\n",
    "    for scenario in ['Ref','RCP26','INDC','coal_exit']:\n",
    "        if year == 2015 and scenario != 'ecoinvent_added_technologies':\n",
    "            continue\n",
    "        db_name = 'coal_exit_' + scenario + '_' + str(year)\n",
    "        database_dict[db_name] = {'year' : year , 'scenario' : scenario}"
   ]
  },
  {
   "cell_type": "code",
   "execution_count": 15,
   "metadata": {},
   "outputs": [
    {
     "data": {
      "text/plain": [
       "{'ecoinvent_added_technologies': {'year': 2015, 'scenario': 'ecoinvent'},\n",
       " 'coal_exit_Ref_2020': {'year': 2020, 'scenario': 'Ref'},\n",
       " 'coal_exit_RCP26_2020': {'year': 2020, 'scenario': 'RCP26'},\n",
       " 'coal_exit_INDC_2020': {'year': 2020, 'scenario': 'INDC'},\n",
       " 'coal_exit_coal_exit_2020': {'year': 2020, 'scenario': 'coal_exit'},\n",
       " 'coal_exit_Ref_2030': {'year': 2030, 'scenario': 'Ref'},\n",
       " 'coal_exit_RCP26_2030': {'year': 2030, 'scenario': 'RCP26'},\n",
       " 'coal_exit_INDC_2030': {'year': 2030, 'scenario': 'INDC'},\n",
       " 'coal_exit_coal_exit_2030': {'year': 2030, 'scenario': 'coal_exit'},\n",
       " 'coal_exit_Ref_2040': {'year': 2040, 'scenario': 'Ref'},\n",
       " 'coal_exit_RCP26_2040': {'year': 2040, 'scenario': 'RCP26'},\n",
       " 'coal_exit_INDC_2040': {'year': 2040, 'scenario': 'INDC'},\n",
       " 'coal_exit_coal_exit_2040': {'year': 2040, 'scenario': 'coal_exit'},\n",
       " 'coal_exit_Ref_2050': {'year': 2050, 'scenario': 'Ref'},\n",
       " 'coal_exit_RCP26_2050': {'year': 2050, 'scenario': 'RCP26'},\n",
       " 'coal_exit_INDC_2050': {'year': 2050, 'scenario': 'INDC'},\n",
       " 'coal_exit_coal_exit_2050': {'year': 2050, 'scenario': 'coal_exit'}}"
      ]
     },
     "execution_count": 15,
     "metadata": {},
     "output_type": "execute_result"
    }
   ],
   "source": [
    "database_dict"
   ]
  },
  {
   "cell_type": "markdown",
   "metadata": {},
   "source": [
    "## calcualte the LCA for all scenarios and years for all SE technologies"
   ]
  },
  {
   "cell_type": "code",
   "execution_count": 16,
   "metadata": {},
   "outputs": [],
   "source": [
    "#select the modeled processes\n",
    "#this is a crude mapping of of REMIND SE to ecoinvent progcesses\n",
    "#we need to adjust the units later in the post processing to match EJ"
   ]
  },
  {
   "cell_type": "code",
   "execution_count": 17,
   "metadata": {},
   "outputs": [],
   "source": [
    "# see data\\ecoinventtoREMINDtechnmap.csv for SE technology mapping\n",
    "# we use the electricity generation processes as a base and check what the input is to adjust them accordingly\n",
    "# see the A matrix of the elec processes for the input A.technology.final.technology.list.variable.csv\n",
    "# ergo if a kWh hard coal needs 5kg of coal we:\n",
    "\n",
    "# elec to raw input = /5\n",
    "# 1kWh to 1EJ =  /3.6*10^12\n",
    "# elec hard coal to se hard coal /3.6*10^12 /5kg\n",
    "\n",
    "# this factor is in the conv column of the ecoinventtoREMINDtechmap.csv"
   ]
  },
  {
   "cell_type": "code",
   "execution_count": 18,
   "metadata": {},
   "outputs": [],
   "source": [
    "# se _filter filters for electricity high voltage and all the other SE ecoinvent processes mapped above"
   ]
  },
  {
   "cell_type": "code",
   "execution_count": 19,
   "metadata": {},
   "outputs": [],
   "source": [
    "se_filter = [ws.either(*[                                                  \n",
    "                                                                           ws.equals('name', 'heat and power co-generation, biogas, gas engine'),\n",
    "                                                                           ws.equals('name', 'electricity production, natural gas, combined cycle power plant'),\n",
    "                                                                           ws.equals('name', 'electricity production, hard coal'),\n",
    "                                                                           ws.equals('name', 'electricity production, deep geothermal'),\n",
    "                                                                           ws.equals('name', 'market for hydrogen, liquid'),\n",
    "                                                                           ws.equals('name', 'electricity production, oil'),\n",
    "                                                                           ws.equals('name', 'softwood forestry, mixed species, sustainable forest management')])]"
   ]
  },
  {
   "cell_type": "code",
   "execution_count": 20,
   "metadata": {},
   "outputs": [],
   "source": [
    "electricity_markets = {}\n",
    "se_technologies = {}\n",
    "\n",
    "for db_name in database_dict:\n",
    "    electricity_markets[db_name] = [x for x in ws.get_many(Database(db_name), *[*eimod.electricity_market_filter_high_voltage, ws.exclude(ws.contains('name', 'Swiss Federal Railways')),\n",
    "                                                                                ws.exclude(ws.contains('name', 'label-certified'))])]\n",
    "    se_technologies[db_name] = [x for x in ws.get_many(Database(db_name), *[*se_filter])]"
   ]
  },
  {
   "cell_type": "markdown",
   "metadata": {},
   "source": [
    "## choose the RECIPE categories, we use 2008 with updated 2016 where direct matches are possible"
   ]
  },
  {
   "cell_type": "markdown",
   "metadata": {},
   "source": [
    "calculate all the ReCiPe Midpoint (H) 2008 version and multiply with mid to endpoints to get DALYS (HH), Species.year (ET) and maybe resources."
   ]
  },
  {
   "cell_type": "code",
   "execution_count": 21,
   "metadata": {
    "scrolled": true
   },
   "outputs": [
    {
     "data": {
      "text/plain": [
       "[('ReCiPe Midpoint (H)', 'agricultural land occupation', 'ALOP'),\n",
       " ('ReCiPe Midpoint (H)', 'climate change', 'GWP100'),\n",
       " ('ReCiPe Midpoint (H)', 'fossil depletion', 'FDP'),\n",
       " ('ReCiPe Midpoint (H)', 'freshwater ecotoxicity', 'FETPinf'),\n",
       " ('ReCiPe Midpoint (H)', 'freshwater eutrophication', 'FEP'),\n",
       " ('ReCiPe Midpoint (H)', 'human toxicity', 'HTPinf'),\n",
       " ('ReCiPe Midpoint (H)', 'ionising radiation', 'IRP_HE'),\n",
       " ('ReCiPe Midpoint (H)', 'marine ecotoxicity', 'METPinf'),\n",
       " ('ReCiPe Midpoint (H)', 'marine eutrophication', 'MEP'),\n",
       " ('ReCiPe Midpoint (H)', 'metal depletion', 'MDP'),\n",
       " ('ReCiPe Midpoint (H)', 'natural land transformation', 'NLTP'),\n",
       " ('ReCiPe Midpoint (H)', 'ozone depletion', 'ODPinf'),\n",
       " ('ReCiPe Midpoint (H)', 'particulate matter formation', 'PMFP'),\n",
       " ('ReCiPe Midpoint (H)', 'photochemical oxidant formation', 'POFP'),\n",
       " ('ReCiPe Midpoint (H)', 'terrestrial acidification', 'TAP100'),\n",
       " ('ReCiPe Midpoint (H)', 'terrestrial ecotoxicity', 'TETPinf'),\n",
       " ('ReCiPe Midpoint (H)', 'urban land occupation', 'ULOP'),\n",
       " ('ReCiPe Midpoint (H)', 'water depletion', 'WDP')]"
      ]
     },
     "execution_count": 21,
     "metadata": {},
     "output_type": "execute_result"
    }
   ],
   "source": [
    "method=[m for m in methods if \"'ReCiPe Midpoint (H)',\" in str(m)]\n",
    "method"
   ]
  },
  {
   "cell_type": "markdown",
   "metadata": {},
   "source": [
    "select the matching categories, we only use the IPCC CC instead of the RECIPE one, however they have the same unit so we can use the same mid to endpoint factor\n",
    "\n",
    "we use the RECIPE 1.11\n",
    "    1. we developed a land occupation method ourselves to include it in the Ecosystem toxicity\n",
    "    2. we did a crude matching of land occupation categories to urban and rural\n",
    "    3. we took the average of each of the two categories\n",
    "    4. for land transformation we use to and from forest and take the average terrestrial species per m2"
   ]
  },
  {
   "cell_type": "code",
   "execution_count": 22,
   "metadata": {},
   "outputs": [],
   "source": [
    "categories = ['ALO', 'CC', 'FD', 'FET', 'FE',\n",
    "              'HT', 'IR', 'MET', 'ME', 'MD',\n",
    "              'NLT', 'OD', 'PMF', 'POF', 'TA',\n",
    "              'TET', 'ULO', 'WD']\n",
    "categories_total = ['ALO', 'CC', 'FD', 'FET', 'FE',\n",
    "              'HT', 'IR', 'MET', 'ME', 'MD',\n",
    "              'NLT', 'OD', 'PMF', 'POF', 'TA',\n",
    "              'TET', 'ULO', 'WD','total'] "
   ]
  },
  {
   "cell_type": "markdown",
   "metadata": {},
   "source": [
    "perform LCA for all elec markets"
   ]
  },
  {
   "cell_type": "code",
   "execution_count": 23,
   "metadata": {
    "scrolled": true
   },
   "outputs": [
    {
     "name": "stdout",
     "output_type": "stream",
     "text": [
      "ALO\n"
     ]
    },
    {
     "name": "stderr",
     "output_type": "stream",
     "text": [
      "0% [##############################] 100% | ETA: 00:00:00\n",
      "Total time elapsed: 00:00:02\n"
     ]
    },
    {
     "name": "stdout",
     "output_type": "stream",
     "text": [
      "ALO\n"
     ]
    },
    {
     "name": "stderr",
     "output_type": "stream",
     "text": [
      "0% [##############################] 100% | ETA: 00:00:00\n",
      "Total time elapsed: 00:00:06\n"
     ]
    },
    {
     "name": "stdout",
     "output_type": "stream",
     "text": [
      "CC\n"
     ]
    },
    {
     "name": "stderr",
     "output_type": "stream",
     "text": [
      "0% [##############################] 100% | ETA: 00:00:00\n",
      "Total time elapsed: 00:00:03\n"
     ]
    },
    {
     "name": "stdout",
     "output_type": "stream",
     "text": [
      "CC\n"
     ]
    },
    {
     "name": "stderr",
     "output_type": "stream",
     "text": [
      "0% [##############################] 100% | ETA: 00:00:00\n",
      "Total time elapsed: 00:00:05\n"
     ]
    },
    {
     "name": "stdout",
     "output_type": "stream",
     "text": [
      "FD\n"
     ]
    },
    {
     "name": "stderr",
     "output_type": "stream",
     "text": [
      "0% [##############################] 100% | ETA: 00:00:00\n",
      "Total time elapsed: 00:00:02\n"
     ]
    },
    {
     "name": "stdout",
     "output_type": "stream",
     "text": [
      "FD\n"
     ]
    },
    {
     "name": "stderr",
     "output_type": "stream",
     "text": [
      "0% [##############################] 100% | ETA: 00:00:00\n",
      "Total time elapsed: 00:00:05\n"
     ]
    },
    {
     "name": "stdout",
     "output_type": "stream",
     "text": [
      "FET\n"
     ]
    },
    {
     "name": "stderr",
     "output_type": "stream",
     "text": [
      "0% [##############################] 100% | ETA: 00:00:00\n",
      "Total time elapsed: 00:00:02\n"
     ]
    },
    {
     "name": "stdout",
     "output_type": "stream",
     "text": [
      "FET\n"
     ]
    },
    {
     "name": "stderr",
     "output_type": "stream",
     "text": [
      "0% [##############################] 100% | ETA: 00:00:00\n",
      "Total time elapsed: 00:00:05\n"
     ]
    },
    {
     "name": "stdout",
     "output_type": "stream",
     "text": [
      "FE\n"
     ]
    },
    {
     "name": "stderr",
     "output_type": "stream",
     "text": [
      "0% [##############################] 100% | ETA: 00:00:00\n",
      "Total time elapsed: 00:00:02\n"
     ]
    },
    {
     "name": "stdout",
     "output_type": "stream",
     "text": [
      "FE\n"
     ]
    },
    {
     "name": "stderr",
     "output_type": "stream",
     "text": [
      "0% [##############################] 100% | ETA: 00:00:00\n",
      "Total time elapsed: 00:00:05\n"
     ]
    },
    {
     "name": "stdout",
     "output_type": "stream",
     "text": [
      "HT\n"
     ]
    },
    {
     "name": "stderr",
     "output_type": "stream",
     "text": [
      "0% [##############################] 100% | ETA: 00:00:00\n",
      "Total time elapsed: 00:00:02\n"
     ]
    },
    {
     "name": "stdout",
     "output_type": "stream",
     "text": [
      "HT\n"
     ]
    },
    {
     "name": "stderr",
     "output_type": "stream",
     "text": [
      "0% [##############################] 100% | ETA: 00:00:00\n",
      "Total time elapsed: 00:00:05\n"
     ]
    },
    {
     "name": "stdout",
     "output_type": "stream",
     "text": [
      "IR\n"
     ]
    },
    {
     "name": "stderr",
     "output_type": "stream",
     "text": [
      "0% [##############################] 100% | ETA: 00:00:00\n",
      "Total time elapsed: 00:00:02\n"
     ]
    },
    {
     "name": "stdout",
     "output_type": "stream",
     "text": [
      "IR\n"
     ]
    },
    {
     "name": "stderr",
     "output_type": "stream",
     "text": [
      "0% [##############################] 100% | ETA: 00:00:00\n",
      "Total time elapsed: 00:00:05\n"
     ]
    },
    {
     "name": "stdout",
     "output_type": "stream",
     "text": [
      "MET\n"
     ]
    },
    {
     "name": "stderr",
     "output_type": "stream",
     "text": [
      "0% [##############################] 100% | ETA: 00:00:00\n",
      "Total time elapsed: 00:00:02\n"
     ]
    },
    {
     "name": "stdout",
     "output_type": "stream",
     "text": [
      "MET\n"
     ]
    },
    {
     "name": "stderr",
     "output_type": "stream",
     "text": [
      "0% [##############################] 100% | ETA: 00:00:00\n",
      "Total time elapsed: 00:00:05\n"
     ]
    },
    {
     "name": "stdout",
     "output_type": "stream",
     "text": [
      "ME\n"
     ]
    },
    {
     "name": "stderr",
     "output_type": "stream",
     "text": [
      "0% [##############################] 100% | ETA: 00:00:00\n",
      "Total time elapsed: 00:00:02\n"
     ]
    },
    {
     "name": "stdout",
     "output_type": "stream",
     "text": [
      "ME\n"
     ]
    },
    {
     "name": "stderr",
     "output_type": "stream",
     "text": [
      "0% [##############################] 100% | ETA: 00:00:00\n",
      "Total time elapsed: 00:00:05\n"
     ]
    },
    {
     "name": "stdout",
     "output_type": "stream",
     "text": [
      "MD\n"
     ]
    },
    {
     "name": "stderr",
     "output_type": "stream",
     "text": [
      "0% [##############################] 100% | ETA: 00:00:00\n",
      "Total time elapsed: 00:00:02\n"
     ]
    },
    {
     "name": "stdout",
     "output_type": "stream",
     "text": [
      "MD\n"
     ]
    },
    {
     "name": "stderr",
     "output_type": "stream",
     "text": [
      "0% [##############################] 100% | ETA: 00:00:00\n",
      "Total time elapsed: 00:00:05\n"
     ]
    },
    {
     "name": "stdout",
     "output_type": "stream",
     "text": [
      "NLT\n"
     ]
    },
    {
     "name": "stderr",
     "output_type": "stream",
     "text": [
      "0% [##############################] 100% | ETA: 00:00:00\n",
      "Total time elapsed: 00:00:02\n"
     ]
    },
    {
     "name": "stdout",
     "output_type": "stream",
     "text": [
      "NLT\n"
     ]
    },
    {
     "name": "stderr",
     "output_type": "stream",
     "text": [
      "0% [##############################] 100% | ETA: 00:00:00\n",
      "Total time elapsed: 00:00:05\n"
     ]
    },
    {
     "name": "stdout",
     "output_type": "stream",
     "text": [
      "OD\n"
     ]
    },
    {
     "name": "stderr",
     "output_type": "stream",
     "text": [
      "0% [##############################] 100% | ETA: 00:00:00\n",
      "Total time elapsed: 00:00:02\n"
     ]
    },
    {
     "name": "stdout",
     "output_type": "stream",
     "text": [
      "OD\n"
     ]
    },
    {
     "name": "stderr",
     "output_type": "stream",
     "text": [
      "0% [##############################] 100% | ETA: 00:00:00\n",
      "Total time elapsed: 00:00:05\n"
     ]
    },
    {
     "name": "stdout",
     "output_type": "stream",
     "text": [
      "PMF\n"
     ]
    },
    {
     "name": "stderr",
     "output_type": "stream",
     "text": [
      "0% [##############################] 100% | ETA: 00:00:00\n",
      "Total time elapsed: 00:00:02\n"
     ]
    },
    {
     "name": "stdout",
     "output_type": "stream",
     "text": [
      "PMF\n"
     ]
    },
    {
     "name": "stderr",
     "output_type": "stream",
     "text": [
      "0% [##############################] 100% | ETA: 00:00:00\n",
      "Total time elapsed: 00:00:05\n"
     ]
    },
    {
     "name": "stdout",
     "output_type": "stream",
     "text": [
      "POF\n"
     ]
    },
    {
     "name": "stderr",
     "output_type": "stream",
     "text": [
      "0% [##############################] 100% | ETA: 00:00:00\n",
      "Total time elapsed: 00:00:02\n"
     ]
    },
    {
     "name": "stdout",
     "output_type": "stream",
     "text": [
      "POF\n"
     ]
    },
    {
     "name": "stderr",
     "output_type": "stream",
     "text": [
      "0% [##############################] 100% | ETA: 00:00:00\n",
      "Total time elapsed: 00:00:05\n"
     ]
    },
    {
     "name": "stdout",
     "output_type": "stream",
     "text": [
      "TA\n"
     ]
    },
    {
     "name": "stderr",
     "output_type": "stream",
     "text": [
      "0% [##############################] 100% | ETA: 00:00:00\n",
      "Total time elapsed: 00:00:02\n"
     ]
    },
    {
     "name": "stdout",
     "output_type": "stream",
     "text": [
      "TA\n"
     ]
    },
    {
     "name": "stderr",
     "output_type": "stream",
     "text": [
      "0% [##############################] 100% | ETA: 00:00:00\n",
      "Total time elapsed: 00:00:05\n"
     ]
    },
    {
     "name": "stdout",
     "output_type": "stream",
     "text": [
      "TET\n"
     ]
    },
    {
     "name": "stderr",
     "output_type": "stream",
     "text": [
      "0% [##############################] 100% | ETA: 00:00:00\n",
      "Total time elapsed: 00:00:02\n"
     ]
    },
    {
     "name": "stdout",
     "output_type": "stream",
     "text": [
      "TET\n"
     ]
    },
    {
     "name": "stderr",
     "output_type": "stream",
     "text": [
      "0% [##############################] 100% | ETA: 00:00:00\n",
      "Total time elapsed: 00:00:05\n"
     ]
    },
    {
     "name": "stdout",
     "output_type": "stream",
     "text": [
      "ULO\n"
     ]
    },
    {
     "name": "stderr",
     "output_type": "stream",
     "text": [
      "0% [##############################] 100% | ETA: 00:00:00\n",
      "Total time elapsed: 00:00:02\n"
     ]
    },
    {
     "name": "stdout",
     "output_type": "stream",
     "text": [
      "ULO\n"
     ]
    },
    {
     "name": "stderr",
     "output_type": "stream",
     "text": [
      "0% [##############################] 100% | ETA: 00:00:00\n",
      "Total time elapsed: 00:00:05\n"
     ]
    },
    {
     "name": "stdout",
     "output_type": "stream",
     "text": [
      "WD\n"
     ]
    },
    {
     "name": "stderr",
     "output_type": "stream",
     "text": [
      "0% [##############################] 100% | ETA: 00:00:00\n",
      "Total time elapsed: 00:00:02\n"
     ]
    },
    {
     "name": "stdout",
     "output_type": "stream",
     "text": [
      "WD\n"
     ]
    },
    {
     "name": "stderr",
     "output_type": "stream",
     "text": [
      "0% [##############################] 100% | ETA: 00:00:00\n",
      "Total time elapsed: 00:00:05\n"
     ]
    },
    {
     "name": "stdout",
     "output_type": "stream",
     "text": [
      "ALO\n"
     ]
    },
    {
     "name": "stderr",
     "output_type": "stream",
     "text": [
      "0% [##############################] 100% | ETA: 00:00:00\n",
      "Total time elapsed: 00:00:02\n"
     ]
    },
    {
     "name": "stdout",
     "output_type": "stream",
     "text": [
      "ALO\n"
     ]
    },
    {
     "name": "stderr",
     "output_type": "stream",
     "text": [
      "0% [##############################] 100% | ETA: 00:00:00\n",
      "Total time elapsed: 00:00:05\n"
     ]
    },
    {
     "name": "stdout",
     "output_type": "stream",
     "text": [
      "CC\n"
     ]
    },
    {
     "name": "stderr",
     "output_type": "stream",
     "text": [
      "0% [##############################] 100% | ETA: 00:00:00\n",
      "Total time elapsed: 00:00:02\n"
     ]
    },
    {
     "name": "stdout",
     "output_type": "stream",
     "text": [
      "CC\n"
     ]
    },
    {
     "name": "stderr",
     "output_type": "stream",
     "text": [
      "0% [##############################] 100% | ETA: 00:00:00\n",
      "Total time elapsed: 00:00:05\n"
     ]
    },
    {
     "name": "stdout",
     "output_type": "stream",
     "text": [
      "FD\n"
     ]
    },
    {
     "name": "stderr",
     "output_type": "stream",
     "text": [
      "0% [##############################] 100% | ETA: 00:00:00\n",
      "Total time elapsed: 00:00:02\n"
     ]
    },
    {
     "name": "stdout",
     "output_type": "stream",
     "text": [
      "FD\n"
     ]
    },
    {
     "name": "stderr",
     "output_type": "stream",
     "text": [
      "0% [##############################] 100% | ETA: 00:00:00\n",
      "Total time elapsed: 00:00:05\n"
     ]
    },
    {
     "name": "stdout",
     "output_type": "stream",
     "text": [
      "FET\n"
     ]
    },
    {
     "name": "stderr",
     "output_type": "stream",
     "text": [
      "0% [##############################] 100% | ETA: 00:00:00\n",
      "Total time elapsed: 00:00:02\n"
     ]
    },
    {
     "name": "stdout",
     "output_type": "stream",
     "text": [
      "FET\n"
     ]
    },
    {
     "name": "stderr",
     "output_type": "stream",
     "text": [
      "0% [##############################] 100% | ETA: 00:00:00\n",
      "Total time elapsed: 00:00:06\n"
     ]
    },
    {
     "name": "stdout",
     "output_type": "stream",
     "text": [
      "FE\n"
     ]
    },
    {
     "name": "stderr",
     "output_type": "stream",
     "text": [
      "0% [##############################] 100% | ETA: 00:00:00\n",
      "Total time elapsed: 00:00:02\n"
     ]
    },
    {
     "name": "stdout",
     "output_type": "stream",
     "text": [
      "FE\n"
     ]
    },
    {
     "name": "stderr",
     "output_type": "stream",
     "text": [
      "0% [##############################] 100% | ETA: 00:00:00\n",
      "Total time elapsed: 00:00:05\n"
     ]
    },
    {
     "name": "stdout",
     "output_type": "stream",
     "text": [
      "HT\n"
     ]
    },
    {
     "name": "stderr",
     "output_type": "stream",
     "text": [
      "0% [##############################] 100% | ETA: 00:00:00\n",
      "Total time elapsed: 00:00:02\n"
     ]
    },
    {
     "name": "stdout",
     "output_type": "stream",
     "text": [
      "HT\n"
     ]
    },
    {
     "name": "stderr",
     "output_type": "stream",
     "text": [
      "0% [##############################] 100% | ETA: 00:00:00\n",
      "Total time elapsed: 00:00:06\n"
     ]
    },
    {
     "name": "stdout",
     "output_type": "stream",
     "text": [
      "IR\n"
     ]
    },
    {
     "name": "stderr",
     "output_type": "stream",
     "text": [
      "0% [##############################] 100% | ETA: 00:00:00\n",
      "Total time elapsed: 00:00:02\n"
     ]
    },
    {
     "name": "stdout",
     "output_type": "stream",
     "text": [
      "IR\n"
     ]
    },
    {
     "name": "stderr",
     "output_type": "stream",
     "text": [
      "0% [##############################] 100% | ETA: 00:00:00\n",
      "Total time elapsed: 00:00:05\n"
     ]
    },
    {
     "name": "stdout",
     "output_type": "stream",
     "text": [
      "MET\n"
     ]
    },
    {
     "name": "stderr",
     "output_type": "stream",
     "text": [
      "0% [##############################] 100% | ETA: 00:00:00\n",
      "Total time elapsed: 00:00:02\n"
     ]
    },
    {
     "name": "stdout",
     "output_type": "stream",
     "text": [
      "MET\n"
     ]
    },
    {
     "name": "stderr",
     "output_type": "stream",
     "text": [
      "0% [##############################] 100% | ETA: 00:00:00\n",
      "Total time elapsed: 00:00:06\n"
     ]
    },
    {
     "name": "stdout",
     "output_type": "stream",
     "text": [
      "ME\n"
     ]
    },
    {
     "name": "stderr",
     "output_type": "stream",
     "text": [
      "0% [##############################] 100% | ETA: 00:00:00\n",
      "Total time elapsed: 00:00:02\n"
     ]
    },
    {
     "name": "stdout",
     "output_type": "stream",
     "text": [
      "ME\n"
     ]
    },
    {
     "name": "stderr",
     "output_type": "stream",
     "text": [
      "0% [##############################] 100% | ETA: 00:00:00\n",
      "Total time elapsed: 00:00:05\n"
     ]
    },
    {
     "name": "stdout",
     "output_type": "stream",
     "text": [
      "MD\n"
     ]
    },
    {
     "name": "stderr",
     "output_type": "stream",
     "text": [
      "0% [##############################] 100% | ETA: 00:00:00\n",
      "Total time elapsed: 00:00:02\n"
     ]
    },
    {
     "name": "stdout",
     "output_type": "stream",
     "text": [
      "MD\n"
     ]
    },
    {
     "name": "stderr",
     "output_type": "stream",
     "text": [
      "0% [##############################] 100% | ETA: 00:00:00\n",
      "Total time elapsed: 00:00:07\n"
     ]
    },
    {
     "name": "stdout",
     "output_type": "stream",
     "text": [
      "NLT\n"
     ]
    },
    {
     "name": "stderr",
     "output_type": "stream",
     "text": [
      "0% [##############################] 100% | ETA: 00:00:00\n",
      "Total time elapsed: 00:00:02\n"
     ]
    },
    {
     "name": "stdout",
     "output_type": "stream",
     "text": [
      "NLT\n"
     ]
    },
    {
     "name": "stderr",
     "output_type": "stream",
     "text": [
      "0% [##############################] 100% | ETA: 00:00:00\n",
      "Total time elapsed: 00:00:06\n"
     ]
    },
    {
     "name": "stdout",
     "output_type": "stream",
     "text": [
      "OD\n"
     ]
    },
    {
     "name": "stderr",
     "output_type": "stream",
     "text": [
      "0% [##############################] 100% | ETA: 00:00:00\n",
      "Total time elapsed: 00:00:02\n"
     ]
    },
    {
     "name": "stdout",
     "output_type": "stream",
     "text": [
      "OD\n"
     ]
    },
    {
     "name": "stderr",
     "output_type": "stream",
     "text": [
      "0% [##############################] 100% | ETA: 00:00:00\n",
      "Total time elapsed: 00:00:05\n"
     ]
    },
    {
     "name": "stdout",
     "output_type": "stream",
     "text": [
      "PMF\n"
     ]
    },
    {
     "name": "stderr",
     "output_type": "stream",
     "text": [
      "0% [##############################] 100% | ETA: 00:00:00\n",
      "Total time elapsed: 00:00:02\n"
     ]
    },
    {
     "name": "stdout",
     "output_type": "stream",
     "text": [
      "PMF\n"
     ]
    },
    {
     "name": "stderr",
     "output_type": "stream",
     "text": [
      "0% [##############################] 100% | ETA: 00:00:00\n",
      "Total time elapsed: 00:00:06\n"
     ]
    },
    {
     "name": "stdout",
     "output_type": "stream",
     "text": [
      "POF\n"
     ]
    },
    {
     "name": "stderr",
     "output_type": "stream",
     "text": [
      "0% [##############################] 100% | ETA: 00:00:00\n",
      "Total time elapsed: 00:00:02\n"
     ]
    },
    {
     "name": "stdout",
     "output_type": "stream",
     "text": [
      "POF\n"
     ]
    },
    {
     "name": "stderr",
     "output_type": "stream",
     "text": [
      "0% [##############################] 100% | ETA: 00:00:00\n",
      "Total time elapsed: 00:00:06\n"
     ]
    },
    {
     "name": "stdout",
     "output_type": "stream",
     "text": [
      "TA\n"
     ]
    },
    {
     "name": "stderr",
     "output_type": "stream",
     "text": [
      "0% [##############################] 100% | ETA: 00:00:00\n",
      "Total time elapsed: 00:00:02\n"
     ]
    },
    {
     "name": "stdout",
     "output_type": "stream",
     "text": [
      "TA\n"
     ]
    },
    {
     "name": "stderr",
     "output_type": "stream",
     "text": [
      "0% [##############################] 100% | ETA: 00:00:00\n",
      "Total time elapsed: 00:00:06\n"
     ]
    },
    {
     "name": "stdout",
     "output_type": "stream",
     "text": [
      "TET\n"
     ]
    },
    {
     "name": "stderr",
     "output_type": "stream",
     "text": [
      "0% [##############################] 100% | ETA: 00:00:00\n",
      "Total time elapsed: 00:00:02\n"
     ]
    },
    {
     "name": "stdout",
     "output_type": "stream",
     "text": [
      "TET\n"
     ]
    },
    {
     "name": "stderr",
     "output_type": "stream",
     "text": [
      "0% [##############################] 100% | ETA: 00:00:00\n",
      "Total time elapsed: 00:00:06\n"
     ]
    },
    {
     "name": "stdout",
     "output_type": "stream",
     "text": [
      "ULO\n"
     ]
    },
    {
     "name": "stderr",
     "output_type": "stream",
     "text": [
      "0% [##############################] 100% | ETA: 00:00:00\n",
      "Total time elapsed: 00:00:02\n"
     ]
    },
    {
     "name": "stdout",
     "output_type": "stream",
     "text": [
      "ULO\n"
     ]
    },
    {
     "name": "stderr",
     "output_type": "stream",
     "text": [
      "0% [##############################] 100% | ETA: 00:00:00\n",
      "Total time elapsed: 00:00:06\n"
     ]
    },
    {
     "name": "stdout",
     "output_type": "stream",
     "text": [
      "WD\n"
     ]
    },
    {
     "name": "stderr",
     "output_type": "stream",
     "text": [
      "0% [##############################] 100% | ETA: 00:00:00\n",
      "Total time elapsed: 00:00:02\n"
     ]
    },
    {
     "name": "stdout",
     "output_type": "stream",
     "text": [
      "WD\n"
     ]
    },
    {
     "name": "stderr",
     "output_type": "stream",
     "text": [
      "0% [##############################] 100% | ETA: 00:00:00\n",
      "Total time elapsed: 00:00:05\n"
     ]
    },
    {
     "name": "stdout",
     "output_type": "stream",
     "text": [
      "ALO\n"
     ]
    },
    {
     "name": "stderr",
     "output_type": "stream",
     "text": [
      "0% [##############################] 100% | ETA: 00:00:00\n",
      "Total time elapsed: 00:00:02\n"
     ]
    },
    {
     "name": "stdout",
     "output_type": "stream",
     "text": [
      "ALO\n"
     ]
    },
    {
     "name": "stderr",
     "output_type": "stream",
     "text": [
      "0% [##############################] 100% | ETA: 00:00:00\n",
      "Total time elapsed: 00:00:05\n"
     ]
    },
    {
     "name": "stdout",
     "output_type": "stream",
     "text": [
      "CC\n"
     ]
    },
    {
     "name": "stderr",
     "output_type": "stream",
     "text": [
      "0% [##############################] 100% | ETA: 00:00:00\n",
      "Total time elapsed: 00:00:02\n"
     ]
    },
    {
     "name": "stdout",
     "output_type": "stream",
     "text": [
      "CC\n"
     ]
    },
    {
     "name": "stderr",
     "output_type": "stream",
     "text": [
      "0% [##############################] 100% | ETA: 00:00:00\n",
      "Total time elapsed: 00:00:05\n"
     ]
    },
    {
     "name": "stdout",
     "output_type": "stream",
     "text": [
      "FD\n"
     ]
    },
    {
     "name": "stderr",
     "output_type": "stream",
     "text": [
      "0% [##############################] 100% | ETA: 00:00:00\n",
      "Total time elapsed: 00:00:02\n"
     ]
    },
    {
     "name": "stdout",
     "output_type": "stream",
     "text": [
      "FD\n"
     ]
    },
    {
     "name": "stderr",
     "output_type": "stream",
     "text": [
      "0% [##############################] 100% | ETA: 00:00:00\n",
      "Total time elapsed: 00:00:05\n"
     ]
    },
    {
     "name": "stdout",
     "output_type": "stream",
     "text": [
      "FET\n"
     ]
    },
    {
     "name": "stderr",
     "output_type": "stream",
     "text": [
      "0% [##############################] 100% | ETA: 00:00:00\n",
      "Total time elapsed: 00:00:02\n"
     ]
    },
    {
     "name": "stdout",
     "output_type": "stream",
     "text": [
      "FET\n"
     ]
    },
    {
     "name": "stderr",
     "output_type": "stream",
     "text": [
      "0% [##############################] 100% | ETA: 00:00:00\n",
      "Total time elapsed: 00:00:06\n"
     ]
    },
    {
     "name": "stdout",
     "output_type": "stream",
     "text": [
      "FE\n"
     ]
    },
    {
     "name": "stderr",
     "output_type": "stream",
     "text": [
      "0% [##############################] 100% | ETA: 00:00:00\n",
      "Total time elapsed: 00:00:02\n"
     ]
    },
    {
     "name": "stdout",
     "output_type": "stream",
     "text": [
      "FE\n"
     ]
    },
    {
     "name": "stderr",
     "output_type": "stream",
     "text": [
      "0% [##############################] 100% | ETA: 00:00:00\n",
      "Total time elapsed: 00:00:05\n"
     ]
    },
    {
     "name": "stdout",
     "output_type": "stream",
     "text": [
      "HT\n"
     ]
    },
    {
     "name": "stderr",
     "output_type": "stream",
     "text": [
      "0% [##############################] 100% | ETA: 00:00:00\n",
      "Total time elapsed: 00:00:02\n"
     ]
    },
    {
     "name": "stdout",
     "output_type": "stream",
     "text": [
      "HT\n"
     ]
    },
    {
     "name": "stderr",
     "output_type": "stream",
     "text": [
      "0% [##############################] 100% | ETA: 00:00:00\n",
      "Total time elapsed: 00:00:06\n"
     ]
    },
    {
     "name": "stdout",
     "output_type": "stream",
     "text": [
      "IR\n"
     ]
    },
    {
     "name": "stderr",
     "output_type": "stream",
     "text": [
      "0% [##############################] 100% | ETA: 00:00:00\n",
      "Total time elapsed: 00:00:02\n"
     ]
    },
    {
     "name": "stdout",
     "output_type": "stream",
     "text": [
      "IR\n"
     ]
    },
    {
     "name": "stderr",
     "output_type": "stream",
     "text": [
      "0% [##############################] 100% | ETA: 00:00:00\n",
      "Total time elapsed: 00:00:05\n"
     ]
    },
    {
     "name": "stdout",
     "output_type": "stream",
     "text": [
      "MET\n"
     ]
    },
    {
     "name": "stderr",
     "output_type": "stream",
     "text": [
      "0% [##############################] 100% | ETA: 00:00:00\n",
      "Total time elapsed: 00:00:02\n"
     ]
    },
    {
     "name": "stdout",
     "output_type": "stream",
     "text": [
      "MET\n"
     ]
    },
    {
     "name": "stderr",
     "output_type": "stream",
     "text": [
      "0% [##############################] 100% | ETA: 00:00:00\n",
      "Total time elapsed: 00:00:06\n"
     ]
    },
    {
     "name": "stdout",
     "output_type": "stream",
     "text": [
      "ME\n"
     ]
    },
    {
     "name": "stderr",
     "output_type": "stream",
     "text": [
      "0% [##############################] 100% | ETA: 00:00:00\n",
      "Total time elapsed: 00:00:03\n"
     ]
    },
    {
     "name": "stdout",
     "output_type": "stream",
     "text": [
      "ME\n"
     ]
    },
    {
     "name": "stderr",
     "output_type": "stream",
     "text": [
      "0% [##############################] 100% | ETA: 00:00:00\n",
      "Total time elapsed: 00:00:07\n"
     ]
    },
    {
     "name": "stdout",
     "output_type": "stream",
     "text": [
      "MD\n"
     ]
    },
    {
     "name": "stderr",
     "output_type": "stream",
     "text": [
      "0% [##############################] 100% | ETA: 00:00:00\n",
      "Total time elapsed: 00:00:02\n"
     ]
    },
    {
     "name": "stdout",
     "output_type": "stream",
     "text": [
      "MD\n"
     ]
    },
    {
     "name": "stderr",
     "output_type": "stream",
     "text": [
      "0% [##############################] 100% | ETA: 00:00:00\n",
      "Total time elapsed: 00:00:07\n"
     ]
    },
    {
     "name": "stdout",
     "output_type": "stream",
     "text": [
      "NLT\n"
     ]
    },
    {
     "name": "stderr",
     "output_type": "stream",
     "text": [
      "0% [##############################] 100% | ETA: 00:00:00\n",
      "Total time elapsed: 00:00:02\n"
     ]
    },
    {
     "name": "stdout",
     "output_type": "stream",
     "text": [
      "NLT\n"
     ]
    },
    {
     "name": "stderr",
     "output_type": "stream",
     "text": [
      "0% [##############################] 100% | ETA: 00:00:00\n",
      "Total time elapsed: 00:00:07\n"
     ]
    },
    {
     "name": "stdout",
     "output_type": "stream",
     "text": [
      "OD\n"
     ]
    },
    {
     "name": "stderr",
     "output_type": "stream",
     "text": [
      "0% [##############################] 100% | ETA: 00:00:00\n",
      "Total time elapsed: 00:00:02\n"
     ]
    },
    {
     "name": "stdout",
     "output_type": "stream",
     "text": [
      "OD\n"
     ]
    },
    {
     "name": "stderr",
     "output_type": "stream",
     "text": [
      "0% [##############################] 100% | ETA: 00:00:00\n",
      "Total time elapsed: 00:00:07\n"
     ]
    },
    {
     "name": "stdout",
     "output_type": "stream",
     "text": [
      "PMF\n"
     ]
    },
    {
     "name": "stderr",
     "output_type": "stream",
     "text": [
      "0% [##############################] 100% | ETA: 00:00:00\n",
      "Total time elapsed: 00:00:02\n"
     ]
    },
    {
     "name": "stdout",
     "output_type": "stream",
     "text": [
      "PMF\n"
     ]
    },
    {
     "name": "stderr",
     "output_type": "stream",
     "text": [
      "0% [##############################] 100% | ETA: 00:00:00\n",
      "Total time elapsed: 00:00:07\n"
     ]
    },
    {
     "name": "stdout",
     "output_type": "stream",
     "text": [
      "POF\n"
     ]
    },
    {
     "name": "stderr",
     "output_type": "stream",
     "text": [
      "0% [##############################] 100% | ETA: 00:00:00\n",
      "Total time elapsed: 00:00:02\n"
     ]
    },
    {
     "name": "stdout",
     "output_type": "stream",
     "text": [
      "POF\n"
     ]
    },
    {
     "name": "stderr",
     "output_type": "stream",
     "text": [
      "0% [##############################] 100% | ETA: 00:00:00\n",
      "Total time elapsed: 00:00:07\n"
     ]
    },
    {
     "name": "stdout",
     "output_type": "stream",
     "text": [
      "TA\n"
     ]
    },
    {
     "name": "stderr",
     "output_type": "stream",
     "text": [
      "0% [##############################] 100% | ETA: 00:00:00\n",
      "Total time elapsed: 00:00:02\n"
     ]
    },
    {
     "name": "stdout",
     "output_type": "stream",
     "text": [
      "TA\n"
     ]
    },
    {
     "name": "stderr",
     "output_type": "stream",
     "text": [
      "0% [##############################] 100% | ETA: 00:00:00\n",
      "Total time elapsed: 00:00:07\n"
     ]
    },
    {
     "name": "stdout",
     "output_type": "stream",
     "text": [
      "TET\n"
     ]
    },
    {
     "name": "stderr",
     "output_type": "stream",
     "text": [
      "0% [##############################] 100% | ETA: 00:00:00\n",
      "Total time elapsed: 00:00:02\n"
     ]
    },
    {
     "name": "stdout",
     "output_type": "stream",
     "text": [
      "TET\n"
     ]
    },
    {
     "name": "stderr",
     "output_type": "stream",
     "text": [
      "0% [##############################] 100% | ETA: 00:00:00\n",
      "Total time elapsed: 00:00:07\n"
     ]
    },
    {
     "name": "stdout",
     "output_type": "stream",
     "text": [
      "ULO\n"
     ]
    },
    {
     "name": "stderr",
     "output_type": "stream",
     "text": [
      "0% [##############################] 100% | ETA: 00:00:00\n",
      "Total time elapsed: 00:00:02\n"
     ]
    },
    {
     "name": "stdout",
     "output_type": "stream",
     "text": [
      "ULO\n"
     ]
    },
    {
     "name": "stderr",
     "output_type": "stream",
     "text": [
      "0% [##############################] 100% | ETA: 00:00:00\n",
      "Total time elapsed: 00:00:07\n"
     ]
    },
    {
     "name": "stdout",
     "output_type": "stream",
     "text": [
      "WD\n"
     ]
    },
    {
     "name": "stderr",
     "output_type": "stream",
     "text": [
      "0% [##############################] 100% | ETA: 00:00:00\n",
      "Total time elapsed: 00:00:02\n"
     ]
    },
    {
     "name": "stdout",
     "output_type": "stream",
     "text": [
      "WD\n"
     ]
    },
    {
     "name": "stderr",
     "output_type": "stream",
     "text": [
      "0% [##############################] 100% | ETA: 00:00:00\n",
      "Total time elapsed: 00:00:07\n"
     ]
    },
    {
     "name": "stdout",
     "output_type": "stream",
     "text": [
      "ALO\n"
     ]
    },
    {
     "name": "stderr",
     "output_type": "stream",
     "text": [
      "0% [##############################] 100% | ETA: 00:00:00\n",
      "Total time elapsed: 00:00:02\n"
     ]
    },
    {
     "name": "stdout",
     "output_type": "stream",
     "text": [
      "ALO\n"
     ]
    },
    {
     "name": "stderr",
     "output_type": "stream",
     "text": [
      "0% [##############################] 100% | ETA: 00:00:00\n",
      "Total time elapsed: 00:00:05\n"
     ]
    },
    {
     "name": "stdout",
     "output_type": "stream",
     "text": [
      "CC\n"
     ]
    },
    {
     "name": "stderr",
     "output_type": "stream",
     "text": [
      "0% [##############################] 100% | ETA: 00:00:00\n",
      "Total time elapsed: 00:00:02\n"
     ]
    },
    {
     "name": "stdout",
     "output_type": "stream",
     "text": [
      "CC\n"
     ]
    },
    {
     "name": "stderr",
     "output_type": "stream",
     "text": [
      "0% [##############################] 100% | ETA: 00:00:00\n",
      "Total time elapsed: 00:00:05\n"
     ]
    },
    {
     "name": "stdout",
     "output_type": "stream",
     "text": [
      "FD\n"
     ]
    },
    {
     "name": "stderr",
     "output_type": "stream",
     "text": [
      "0% [##############################] 100% | ETA: 00:00:00\n",
      "Total time elapsed: 00:00:02\n"
     ]
    },
    {
     "name": "stdout",
     "output_type": "stream",
     "text": [
      "FD\n"
     ]
    },
    {
     "name": "stderr",
     "output_type": "stream",
     "text": [
      "0% [##############################] 100% | ETA: 00:00:00\n",
      "Total time elapsed: 00:00:05\n"
     ]
    },
    {
     "name": "stdout",
     "output_type": "stream",
     "text": [
      "FET\n"
     ]
    },
    {
     "name": "stderr",
     "output_type": "stream",
     "text": [
      "0% [##############################] 100% | ETA: 00:00:00\n",
      "Total time elapsed: 00:00:02\n"
     ]
    },
    {
     "name": "stdout",
     "output_type": "stream",
     "text": [
      "FET\n"
     ]
    },
    {
     "name": "stderr",
     "output_type": "stream",
     "text": [
      "0% [##############################] 100% | ETA: 00:00:00\n",
      "Total time elapsed: 00:00:06\n"
     ]
    },
    {
     "name": "stdout",
     "output_type": "stream",
     "text": [
      "FE\n"
     ]
    },
    {
     "name": "stderr",
     "output_type": "stream",
     "text": [
      "0% [##############################] 100% | ETA: 00:00:00\n",
      "Total time elapsed: 00:00:02\n"
     ]
    },
    {
     "name": "stdout",
     "output_type": "stream",
     "text": [
      "FE\n"
     ]
    },
    {
     "name": "stderr",
     "output_type": "stream",
     "text": [
      "0% [##############################] 100% | ETA: 00:00:00\n",
      "Total time elapsed: 00:00:05\n"
     ]
    },
    {
     "name": "stdout",
     "output_type": "stream",
     "text": [
      "HT\n"
     ]
    },
    {
     "name": "stderr",
     "output_type": "stream",
     "text": [
      "0% [##############################] 100% | ETA: 00:00:00\n",
      "Total time elapsed: 00:00:02\n"
     ]
    },
    {
     "name": "stdout",
     "output_type": "stream",
     "text": [
      "HT\n"
     ]
    },
    {
     "name": "stderr",
     "output_type": "stream",
     "text": [
      "0% [##############################] 100% | ETA: 00:00:00\n",
      "Total time elapsed: 00:00:06\n"
     ]
    },
    {
     "name": "stdout",
     "output_type": "stream",
     "text": [
      "IR\n"
     ]
    },
    {
     "name": "stderr",
     "output_type": "stream",
     "text": [
      "0% [##############################] 100% | ETA: 00:00:00\n",
      "Total time elapsed: 00:00:02\n"
     ]
    },
    {
     "name": "stdout",
     "output_type": "stream",
     "text": [
      "IR\n"
     ]
    },
    {
     "name": "stderr",
     "output_type": "stream",
     "text": [
      "0% [##############################] 100% | ETA: 00:00:00\n",
      "Total time elapsed: 00:00:05\n"
     ]
    },
    {
     "name": "stdout",
     "output_type": "stream",
     "text": [
      "MET\n"
     ]
    },
    {
     "name": "stderr",
     "output_type": "stream",
     "text": [
      "0% [##############################] 100% | ETA: 00:00:00\n",
      "Total time elapsed: 00:00:02\n"
     ]
    },
    {
     "name": "stdout",
     "output_type": "stream",
     "text": [
      "MET\n"
     ]
    },
    {
     "name": "stderr",
     "output_type": "stream",
     "text": [
      "0% [##############################] 100% | ETA: 00:00:00\n",
      "Total time elapsed: 00:00:06\n"
     ]
    },
    {
     "name": "stdout",
     "output_type": "stream",
     "text": [
      "ME\n"
     ]
    },
    {
     "name": "stderr",
     "output_type": "stream",
     "text": [
      "0% [##############################] 100% | ETA: 00:00:00\n",
      "Total time elapsed: 00:00:02\n"
     ]
    },
    {
     "name": "stdout",
     "output_type": "stream",
     "text": [
      "ME\n"
     ]
    },
    {
     "name": "stderr",
     "output_type": "stream",
     "text": [
      "0% [##############################] 100% | ETA: 00:00:00\n",
      "Total time elapsed: 00:00:06\n"
     ]
    },
    {
     "name": "stdout",
     "output_type": "stream",
     "text": [
      "MD\n"
     ]
    },
    {
     "name": "stderr",
     "output_type": "stream",
     "text": [
      "0% [##############################] 100% | ETA: 00:00:00\n",
      "Total time elapsed: 00:00:02\n"
     ]
    },
    {
     "name": "stdout",
     "output_type": "stream",
     "text": [
      "MD\n"
     ]
    },
    {
     "name": "stderr",
     "output_type": "stream",
     "text": [
      "0% [##############################] 100% | ETA: 00:00:00\n",
      "Total time elapsed: 00:00:05\n"
     ]
    },
    {
     "name": "stdout",
     "output_type": "stream",
     "text": [
      "NLT\n"
     ]
    },
    {
     "name": "stderr",
     "output_type": "stream",
     "text": [
      "0% [##############################] 100% | ETA: 00:00:00\n",
      "Total time elapsed: 00:00:02\n"
     ]
    },
    {
     "name": "stdout",
     "output_type": "stream",
     "text": [
      "NLT\n"
     ]
    },
    {
     "name": "stderr",
     "output_type": "stream",
     "text": [
      "0% [##############################] 100% | ETA: 00:00:00\n",
      "Total time elapsed: 00:00:05\n"
     ]
    },
    {
     "name": "stdout",
     "output_type": "stream",
     "text": [
      "OD\n"
     ]
    },
    {
     "name": "stderr",
     "output_type": "stream",
     "text": [
      "0% [##############################] 100% | ETA: 00:00:00\n",
      "Total time elapsed: 00:00:02\n"
     ]
    },
    {
     "name": "stdout",
     "output_type": "stream",
     "text": [
      "OD\n"
     ]
    },
    {
     "name": "stderr",
     "output_type": "stream",
     "text": [
      "0% [##############################] 100% | ETA: 00:00:00\n",
      "Total time elapsed: 00:00:06\n"
     ]
    },
    {
     "name": "stdout",
     "output_type": "stream",
     "text": [
      "PMF\n"
     ]
    },
    {
     "name": "stderr",
     "output_type": "stream",
     "text": [
      "0% [##############################] 100% | ETA: 00:00:00\n",
      "Total time elapsed: 00:00:02\n"
     ]
    },
    {
     "name": "stdout",
     "output_type": "stream",
     "text": [
      "PMF\n"
     ]
    },
    {
     "name": "stderr",
     "output_type": "stream",
     "text": [
      "0% [##############################] 100% | ETA: 00:00:00\n",
      "Total time elapsed: 00:00:05\n"
     ]
    },
    {
     "name": "stdout",
     "output_type": "stream",
     "text": [
      "POF\n"
     ]
    },
    {
     "name": "stderr",
     "output_type": "stream",
     "text": [
      "0% [##############################] 100% | ETA: 00:00:00\n",
      "Total time elapsed: 00:00:02\n"
     ]
    },
    {
     "name": "stdout",
     "output_type": "stream",
     "text": [
      "POF\n"
     ]
    },
    {
     "name": "stderr",
     "output_type": "stream",
     "text": [
      "0% [##############################] 100% | ETA: 00:00:00\n",
      "Total time elapsed: 00:00:05\n"
     ]
    },
    {
     "name": "stdout",
     "output_type": "stream",
     "text": [
      "TA\n"
     ]
    },
    {
     "name": "stderr",
     "output_type": "stream",
     "text": [
      "0% [##############################] 100% | ETA: 00:00:00\n",
      "Total time elapsed: 00:00:02\n"
     ]
    },
    {
     "name": "stdout",
     "output_type": "stream",
     "text": [
      "TA\n"
     ]
    },
    {
     "name": "stderr",
     "output_type": "stream",
     "text": [
      "0% [##############################] 100% | ETA: 00:00:00\n",
      "Total time elapsed: 00:00:05\n"
     ]
    },
    {
     "name": "stdout",
     "output_type": "stream",
     "text": [
      "TET\n"
     ]
    },
    {
     "name": "stderr",
     "output_type": "stream",
     "text": [
      "0% [##############################] 100% | ETA: 00:00:00\n",
      "Total time elapsed: 00:00:02\n"
     ]
    },
    {
     "name": "stdout",
     "output_type": "stream",
     "text": [
      "TET\n"
     ]
    },
    {
     "name": "stderr",
     "output_type": "stream",
     "text": [
      "0% [##############################] 100% | ETA: 00:00:00\n",
      "Total time elapsed: 00:00:06\n"
     ]
    },
    {
     "name": "stdout",
     "output_type": "stream",
     "text": [
      "ULO\n"
     ]
    },
    {
     "name": "stderr",
     "output_type": "stream",
     "text": [
      "0% [##############################] 100% | ETA: 00:00:00\n",
      "Total time elapsed: 00:00:02\n"
     ]
    },
    {
     "name": "stdout",
     "output_type": "stream",
     "text": [
      "ULO\n"
     ]
    },
    {
     "name": "stderr",
     "output_type": "stream",
     "text": [
      "0% [##############################] 100% | ETA: 00:00:00\n",
      "Total time elapsed: 00:00:05\n"
     ]
    },
    {
     "name": "stdout",
     "output_type": "stream",
     "text": [
      "WD\n"
     ]
    },
    {
     "name": "stderr",
     "output_type": "stream",
     "text": [
      "0% [##############################] 100% | ETA: 00:00:00\n",
      "Total time elapsed: 00:00:02\n"
     ]
    },
    {
     "name": "stdout",
     "output_type": "stream",
     "text": [
      "WD\n"
     ]
    },
    {
     "name": "stderr",
     "output_type": "stream",
     "text": [
      "0% [##############################] 100% | ETA: 00:00:00\n",
      "Total time elapsed: 00:00:06\n"
     ]
    },
    {
     "name": "stdout",
     "output_type": "stream",
     "text": [
      "ALO\n"
     ]
    },
    {
     "name": "stderr",
     "output_type": "stream",
     "text": [
      "0% [##############################] 100% | ETA: 00:00:00\n",
      "Total time elapsed: 00:00:02\n"
     ]
    },
    {
     "name": "stdout",
     "output_type": "stream",
     "text": [
      "ALO\n"
     ]
    },
    {
     "name": "stderr",
     "output_type": "stream",
     "text": [
      "0% [##############################] 100% | ETA: 00:00:00\n",
      "Total time elapsed: 00:00:05\n"
     ]
    },
    {
     "name": "stdout",
     "output_type": "stream",
     "text": [
      "CC\n"
     ]
    },
    {
     "name": "stderr",
     "output_type": "stream",
     "text": [
      "0% [##############################] 100% | ETA: 00:00:00\n",
      "Total time elapsed: 00:00:02\n"
     ]
    },
    {
     "name": "stdout",
     "output_type": "stream",
     "text": [
      "CC\n"
     ]
    },
    {
     "name": "stderr",
     "output_type": "stream",
     "text": [
      "0% [##############################] 100% | ETA: 00:00:00\n",
      "Total time elapsed: 00:00:05\n"
     ]
    },
    {
     "name": "stdout",
     "output_type": "stream",
     "text": [
      "FD\n"
     ]
    },
    {
     "name": "stderr",
     "output_type": "stream",
     "text": [
      "0% [##############################] 100% | ETA: 00:00:00\n",
      "Total time elapsed: 00:00:02\n"
     ]
    },
    {
     "name": "stdout",
     "output_type": "stream",
     "text": [
      "FD\n"
     ]
    },
    {
     "name": "stderr",
     "output_type": "stream",
     "text": [
      "0% [##############################] 100% | ETA: 00:00:00\n",
      "Total time elapsed: 00:00:06\n"
     ]
    },
    {
     "name": "stdout",
     "output_type": "stream",
     "text": [
      "FET\n"
     ]
    },
    {
     "name": "stderr",
     "output_type": "stream",
     "text": [
      "0% [##############################] 100% | ETA: 00:00:00\n",
      "Total time elapsed: 00:00:02\n"
     ]
    },
    {
     "name": "stdout",
     "output_type": "stream",
     "text": [
      "FET\n"
     ]
    },
    {
     "name": "stderr",
     "output_type": "stream",
     "text": [
      "0% [##############################] 100% | ETA: 00:00:00\n",
      "Total time elapsed: 00:00:06\n"
     ]
    },
    {
     "name": "stdout",
     "output_type": "stream",
     "text": [
      "FE\n"
     ]
    },
    {
     "name": "stderr",
     "output_type": "stream",
     "text": [
      "0% [##############################] 100% | ETA: 00:00:00\n",
      "Total time elapsed: 00:00:02\n"
     ]
    },
    {
     "name": "stdout",
     "output_type": "stream",
     "text": [
      "FE\n"
     ]
    },
    {
     "name": "stderr",
     "output_type": "stream",
     "text": [
      "0% [##############################] 100% | ETA: 00:00:00\n",
      "Total time elapsed: 00:00:05\n"
     ]
    },
    {
     "name": "stdout",
     "output_type": "stream",
     "text": [
      "HT\n"
     ]
    },
    {
     "name": "stderr",
     "output_type": "stream",
     "text": [
      "0% [##############################] 100% | ETA: 00:00:00\n",
      "Total time elapsed: 00:00:02\n"
     ]
    },
    {
     "name": "stdout",
     "output_type": "stream",
     "text": [
      "HT\n"
     ]
    },
    {
     "name": "stderr",
     "output_type": "stream",
     "text": [
      "0% [##############################] 100% | ETA: 00:00:00\n",
      "Total time elapsed: 00:00:06\n"
     ]
    },
    {
     "name": "stdout",
     "output_type": "stream",
     "text": [
      "IR\n"
     ]
    },
    {
     "name": "stderr",
     "output_type": "stream",
     "text": [
      "0% [##############################] 100% | ETA: 00:00:00\n",
      "Total time elapsed: 00:00:02\n"
     ]
    },
    {
     "name": "stdout",
     "output_type": "stream",
     "text": [
      "IR\n"
     ]
    },
    {
     "name": "stderr",
     "output_type": "stream",
     "text": [
      "0% [##############################] 100% | ETA: 00:00:00\n",
      "Total time elapsed: 00:00:06\n"
     ]
    },
    {
     "name": "stdout",
     "output_type": "stream",
     "text": [
      "MET\n"
     ]
    },
    {
     "name": "stderr",
     "output_type": "stream",
     "text": [
      "0% [##############################] 100% | ETA: 00:00:00\n",
      "Total time elapsed: 00:00:02\n"
     ]
    },
    {
     "name": "stdout",
     "output_type": "stream",
     "text": [
      "MET\n"
     ]
    },
    {
     "name": "stderr",
     "output_type": "stream",
     "text": [
      "0% [##############################] 100% | ETA: 00:00:00\n",
      "Total time elapsed: 00:00:06\n"
     ]
    },
    {
     "name": "stdout",
     "output_type": "stream",
     "text": [
      "ME\n"
     ]
    },
    {
     "name": "stderr",
     "output_type": "stream",
     "text": [
      "0% [##############################] 100% | ETA: 00:00:00\n",
      "Total time elapsed: 00:00:02\n"
     ]
    },
    {
     "name": "stdout",
     "output_type": "stream",
     "text": [
      "ME\n"
     ]
    },
    {
     "name": "stderr",
     "output_type": "stream",
     "text": [
      "0% [##############################] 100% | ETA: 00:00:00\n",
      "Total time elapsed: 00:00:05\n"
     ]
    },
    {
     "name": "stdout",
     "output_type": "stream",
     "text": [
      "MD\n"
     ]
    },
    {
     "name": "stderr",
     "output_type": "stream",
     "text": [
      "0% [##############################] 100% | ETA: 00:00:00\n",
      "Total time elapsed: 00:00:02\n"
     ]
    },
    {
     "name": "stdout",
     "output_type": "stream",
     "text": [
      "MD\n"
     ]
    },
    {
     "name": "stderr",
     "output_type": "stream",
     "text": [
      "0% [##############################] 100% | ETA: 00:00:00\n",
      "Total time elapsed: 00:00:05\n"
     ]
    },
    {
     "name": "stdout",
     "output_type": "stream",
     "text": [
      "NLT\n"
     ]
    },
    {
     "name": "stderr",
     "output_type": "stream",
     "text": [
      "0% [##############################] 100% | ETA: 00:00:00\n",
      "Total time elapsed: 00:00:02\n"
     ]
    },
    {
     "name": "stdout",
     "output_type": "stream",
     "text": [
      "NLT\n"
     ]
    },
    {
     "name": "stderr",
     "output_type": "stream",
     "text": [
      "0% [##############################] 100% | ETA: 00:00:00\n",
      "Total time elapsed: 00:00:06\n"
     ]
    },
    {
     "name": "stdout",
     "output_type": "stream",
     "text": [
      "OD\n"
     ]
    },
    {
     "name": "stderr",
     "output_type": "stream",
     "text": [
      "0% [##############################] 100% | ETA: 00:00:00\n",
      "Total time elapsed: 00:00:02\n"
     ]
    },
    {
     "name": "stdout",
     "output_type": "stream",
     "text": [
      "OD\n"
     ]
    },
    {
     "name": "stderr",
     "output_type": "stream",
     "text": [
      "0% [##############################] 100% | ETA: 00:00:00\n",
      "Total time elapsed: 00:00:05\n"
     ]
    },
    {
     "name": "stdout",
     "output_type": "stream",
     "text": [
      "PMF\n"
     ]
    },
    {
     "name": "stderr",
     "output_type": "stream",
     "text": [
      "0% [##############################] 100% | ETA: 00:00:00\n",
      "Total time elapsed: 00:00:02\n"
     ]
    },
    {
     "name": "stdout",
     "output_type": "stream",
     "text": [
      "PMF\n"
     ]
    },
    {
     "name": "stderr",
     "output_type": "stream",
     "text": [
      "0% [##############################] 100% | ETA: 00:00:00\n",
      "Total time elapsed: 00:00:05\n"
     ]
    },
    {
     "name": "stdout",
     "output_type": "stream",
     "text": [
      "POF\n"
     ]
    },
    {
     "name": "stderr",
     "output_type": "stream",
     "text": [
      "0% [##############################] 100% | ETA: 00:00:00\n",
      "Total time elapsed: 00:00:02\n"
     ]
    },
    {
     "name": "stdout",
     "output_type": "stream",
     "text": [
      "POF\n"
     ]
    },
    {
     "name": "stderr",
     "output_type": "stream",
     "text": [
      "0% [##############################] 100% | ETA: 00:00:00\n",
      "Total time elapsed: 00:00:06\n"
     ]
    },
    {
     "name": "stdout",
     "output_type": "stream",
     "text": [
      "TA\n"
     ]
    },
    {
     "name": "stderr",
     "output_type": "stream",
     "text": [
      "0% [##############################] 100% | ETA: 00:00:00\n",
      "Total time elapsed: 00:00:02\n"
     ]
    },
    {
     "name": "stdout",
     "output_type": "stream",
     "text": [
      "TA\n"
     ]
    },
    {
     "name": "stderr",
     "output_type": "stream",
     "text": [
      "0% [##############################] 100% | ETA: 00:00:00\n",
      "Total time elapsed: 00:00:06\n"
     ]
    },
    {
     "name": "stdout",
     "output_type": "stream",
     "text": [
      "TET\n"
     ]
    },
    {
     "name": "stderr",
     "output_type": "stream",
     "text": [
      "0% [##############################] 100% | ETA: 00:00:00\n",
      "Total time elapsed: 00:00:02\n"
     ]
    },
    {
     "name": "stdout",
     "output_type": "stream",
     "text": [
      "TET\n"
     ]
    },
    {
     "name": "stderr",
     "output_type": "stream",
     "text": [
      "0% [##############################] 100% | ETA: 00:00:00\n",
      "Total time elapsed: 00:00:06\n"
     ]
    },
    {
     "name": "stdout",
     "output_type": "stream",
     "text": [
      "ULO\n"
     ]
    },
    {
     "name": "stderr",
     "output_type": "stream",
     "text": [
      "0% [##############################] 100% | ETA: 00:00:00\n",
      "Total time elapsed: 00:00:02\n"
     ]
    },
    {
     "name": "stdout",
     "output_type": "stream",
     "text": [
      "ULO\n"
     ]
    },
    {
     "name": "stderr",
     "output_type": "stream",
     "text": [
      "0% [##############################] 100% | ETA: 00:00:00\n",
      "Total time elapsed: 00:00:05\n"
     ]
    },
    {
     "name": "stdout",
     "output_type": "stream",
     "text": [
      "WD\n"
     ]
    },
    {
     "name": "stderr",
     "output_type": "stream",
     "text": [
      "0% [##############################] 100% | ETA: 00:00:00\n",
      "Total time elapsed: 00:00:02\n"
     ]
    },
    {
     "name": "stdout",
     "output_type": "stream",
     "text": [
      "WD\n"
     ]
    },
    {
     "name": "stderr",
     "output_type": "stream",
     "text": [
      "0% [##############################] 100% | ETA: 00:00:00\n",
      "Total time elapsed: 00:00:05\n"
     ]
    },
    {
     "name": "stdout",
     "output_type": "stream",
     "text": [
      "ALO\n"
     ]
    },
    {
     "name": "stderr",
     "output_type": "stream",
     "text": [
      "0% [##############################] 100% | ETA: 00:00:00\n",
      "Total time elapsed: 00:00:02\n"
     ]
    },
    {
     "name": "stdout",
     "output_type": "stream",
     "text": [
      "ALO\n"
     ]
    },
    {
     "name": "stderr",
     "output_type": "stream",
     "text": [
      "0% [##############################] 100% | ETA: 00:00:00\n",
      "Total time elapsed: 00:00:06\n"
     ]
    },
    {
     "name": "stdout",
     "output_type": "stream",
     "text": [
      "CC\n"
     ]
    },
    {
     "name": "stderr",
     "output_type": "stream",
     "text": [
      "0% [##############################] 100% | ETA: 00:00:00\n",
      "Total time elapsed: 00:00:02\n"
     ]
    },
    {
     "name": "stdout",
     "output_type": "stream",
     "text": [
      "CC\n"
     ]
    },
    {
     "name": "stderr",
     "output_type": "stream",
     "text": [
      "0% [##############################] 100% | ETA: 00:00:00\n",
      "Total time elapsed: 00:00:05\n"
     ]
    },
    {
     "name": "stdout",
     "output_type": "stream",
     "text": [
      "FD\n"
     ]
    },
    {
     "name": "stderr",
     "output_type": "stream",
     "text": [
      "0% [##############################] 100% | ETA: 00:00:00\n",
      "Total time elapsed: 00:00:02\n"
     ]
    },
    {
     "name": "stdout",
     "output_type": "stream",
     "text": [
      "FD\n"
     ]
    },
    {
     "name": "stderr",
     "output_type": "stream",
     "text": [
      "0% [##############################] 100% | ETA: 00:00:00\n",
      "Total time elapsed: 00:00:05\n"
     ]
    },
    {
     "name": "stdout",
     "output_type": "stream",
     "text": [
      "FET\n"
     ]
    },
    {
     "name": "stderr",
     "output_type": "stream",
     "text": [
      "0% [##############################] 100% | ETA: 00:00:00\n",
      "Total time elapsed: 00:00:02\n"
     ]
    },
    {
     "name": "stdout",
     "output_type": "stream",
     "text": [
      "FET\n"
     ]
    },
    {
     "name": "stderr",
     "output_type": "stream",
     "text": [
      "0% [##############################] 100% | ETA: 00:00:00\n",
      "Total time elapsed: 00:00:06\n"
     ]
    },
    {
     "name": "stdout",
     "output_type": "stream",
     "text": [
      "FE\n"
     ]
    },
    {
     "name": "stderr",
     "output_type": "stream",
     "text": [
      "0% [##############################] 100% | ETA: 00:00:00\n",
      "Total time elapsed: 00:00:02\n"
     ]
    },
    {
     "name": "stdout",
     "output_type": "stream",
     "text": [
      "FE\n"
     ]
    },
    {
     "name": "stderr",
     "output_type": "stream",
     "text": [
      "0% [##############################] 100% | ETA: 00:00:00\n",
      "Total time elapsed: 00:00:06\n"
     ]
    },
    {
     "name": "stdout",
     "output_type": "stream",
     "text": [
      "HT\n"
     ]
    },
    {
     "name": "stderr",
     "output_type": "stream",
     "text": [
      "0% [##############################] 100% | ETA: 00:00:00\n",
      "Total time elapsed: 00:00:02\n"
     ]
    },
    {
     "name": "stdout",
     "output_type": "stream",
     "text": [
      "HT\n"
     ]
    },
    {
     "name": "stderr",
     "output_type": "stream",
     "text": [
      "0% [##############################] 100% | ETA: 00:00:00\n",
      "Total time elapsed: 00:00:06\n"
     ]
    },
    {
     "name": "stdout",
     "output_type": "stream",
     "text": [
      "IR\n"
     ]
    },
    {
     "name": "stderr",
     "output_type": "stream",
     "text": [
      "0% [##############################] 100% | ETA: 00:00:00\n",
      "Total time elapsed: 00:00:02\n"
     ]
    },
    {
     "name": "stdout",
     "output_type": "stream",
     "text": [
      "IR\n"
     ]
    },
    {
     "name": "stderr",
     "output_type": "stream",
     "text": [
      "0% [##############################] 100% | ETA: 00:00:00\n",
      "Total time elapsed: 00:00:06\n"
     ]
    },
    {
     "name": "stdout",
     "output_type": "stream",
     "text": [
      "MET\n"
     ]
    },
    {
     "name": "stderr",
     "output_type": "stream",
     "text": [
      "0% [##############################] 100% | ETA: 00:00:00\n",
      "Total time elapsed: 00:00:02\n"
     ]
    },
    {
     "name": "stdout",
     "output_type": "stream",
     "text": [
      "MET\n"
     ]
    },
    {
     "name": "stderr",
     "output_type": "stream",
     "text": [
      "0% [##############################] 100% | ETA: 00:00:00\n",
      "Total time elapsed: 00:00:06\n"
     ]
    },
    {
     "name": "stdout",
     "output_type": "stream",
     "text": [
      "ME\n"
     ]
    },
    {
     "name": "stderr",
     "output_type": "stream",
     "text": [
      "0% [##############################] 100% | ETA: 00:00:00\n",
      "Total time elapsed: 00:00:02\n"
     ]
    },
    {
     "name": "stdout",
     "output_type": "stream",
     "text": [
      "ME\n"
     ]
    },
    {
     "name": "stderr",
     "output_type": "stream",
     "text": [
      "0% [##############################] 100% | ETA: 00:00:00\n",
      "Total time elapsed: 00:00:06\n"
     ]
    },
    {
     "name": "stdout",
     "output_type": "stream",
     "text": [
      "MD\n"
     ]
    },
    {
     "name": "stderr",
     "output_type": "stream",
     "text": [
      "0% [##############################] 100% | ETA: 00:00:00\n",
      "Total time elapsed: 00:00:02\n"
     ]
    },
    {
     "name": "stdout",
     "output_type": "stream",
     "text": [
      "MD\n"
     ]
    },
    {
     "name": "stderr",
     "output_type": "stream",
     "text": [
      "0% [##############################] 100% | ETA: 00:00:00\n",
      "Total time elapsed: 00:00:06\n"
     ]
    },
    {
     "name": "stdout",
     "output_type": "stream",
     "text": [
      "NLT\n"
     ]
    },
    {
     "name": "stderr",
     "output_type": "stream",
     "text": [
      "0% [##############################] 100% | ETA: 00:00:00\n",
      "Total time elapsed: 00:00:02\n"
     ]
    },
    {
     "name": "stdout",
     "output_type": "stream",
     "text": [
      "NLT\n"
     ]
    },
    {
     "name": "stderr",
     "output_type": "stream",
     "text": [
      "0% [##############################] 100% | ETA: 00:00:00\n",
      "Total time elapsed: 00:00:06\n"
     ]
    },
    {
     "name": "stdout",
     "output_type": "stream",
     "text": [
      "OD\n"
     ]
    },
    {
     "name": "stderr",
     "output_type": "stream",
     "text": [
      "0% [##############################] 100% | ETA: 00:00:00\n",
      "Total time elapsed: 00:00:02\n"
     ]
    },
    {
     "name": "stdout",
     "output_type": "stream",
     "text": [
      "OD\n"
     ]
    },
    {
     "name": "stderr",
     "output_type": "stream",
     "text": [
      "0% [##############################] 100% | ETA: 00:00:00\n",
      "Total time elapsed: 00:00:05\n"
     ]
    },
    {
     "name": "stdout",
     "output_type": "stream",
     "text": [
      "PMF\n"
     ]
    },
    {
     "name": "stderr",
     "output_type": "stream",
     "text": [
      "0% [##############################] 100% | ETA: 00:00:00\n",
      "Total time elapsed: 00:00:02\n"
     ]
    },
    {
     "name": "stdout",
     "output_type": "stream",
     "text": [
      "PMF\n"
     ]
    },
    {
     "name": "stderr",
     "output_type": "stream",
     "text": [
      "0% [##############################] 100% | ETA: 00:00:00\n",
      "Total time elapsed: 00:00:06\n"
     ]
    },
    {
     "name": "stdout",
     "output_type": "stream",
     "text": [
      "POF\n"
     ]
    },
    {
     "name": "stderr",
     "output_type": "stream",
     "text": [
      "0% [##############################] 100% | ETA: 00:00:00\n",
      "Total time elapsed: 00:00:02\n"
     ]
    },
    {
     "name": "stdout",
     "output_type": "stream",
     "text": [
      "POF\n"
     ]
    },
    {
     "name": "stderr",
     "output_type": "stream",
     "text": [
      "0% [##############################] 100% | ETA: 00:00:00\n",
      "Total time elapsed: 00:00:06\n"
     ]
    },
    {
     "name": "stdout",
     "output_type": "stream",
     "text": [
      "TA\n"
     ]
    },
    {
     "name": "stderr",
     "output_type": "stream",
     "text": [
      "0% [##############################] 100% | ETA: 00:00:00\n",
      "Total time elapsed: 00:00:02\n"
     ]
    },
    {
     "name": "stdout",
     "output_type": "stream",
     "text": [
      "TA\n"
     ]
    },
    {
     "name": "stderr",
     "output_type": "stream",
     "text": [
      "0% [##############################] 100% | ETA: 00:00:00\n",
      "Total time elapsed: 00:00:06\n"
     ]
    },
    {
     "name": "stdout",
     "output_type": "stream",
     "text": [
      "TET\n"
     ]
    },
    {
     "name": "stderr",
     "output_type": "stream",
     "text": [
      "0% [##############################] 100% | ETA: 00:00:00\n",
      "Total time elapsed: 00:00:02\n"
     ]
    },
    {
     "name": "stdout",
     "output_type": "stream",
     "text": [
      "TET\n"
     ]
    },
    {
     "name": "stderr",
     "output_type": "stream",
     "text": [
      "0% [##############################] 100% | ETA: 00:00:00\n",
      "Total time elapsed: 00:00:06\n"
     ]
    },
    {
     "name": "stdout",
     "output_type": "stream",
     "text": [
      "ULO\n"
     ]
    },
    {
     "name": "stderr",
     "output_type": "stream",
     "text": [
      "0% [##############################] 100% | ETA: 00:00:00\n",
      "Total time elapsed: 00:00:02\n"
     ]
    },
    {
     "name": "stdout",
     "output_type": "stream",
     "text": [
      "ULO\n"
     ]
    },
    {
     "name": "stderr",
     "output_type": "stream",
     "text": [
      "0% [##############################] 100% | ETA: 00:00:00\n",
      "Total time elapsed: 00:00:06\n"
     ]
    },
    {
     "name": "stdout",
     "output_type": "stream",
     "text": [
      "WD\n"
     ]
    },
    {
     "name": "stderr",
     "output_type": "stream",
     "text": [
      "0% [##############################] 100% | ETA: 00:00:00\n",
      "Total time elapsed: 00:00:02\n"
     ]
    },
    {
     "name": "stdout",
     "output_type": "stream",
     "text": [
      "WD\n"
     ]
    },
    {
     "name": "stderr",
     "output_type": "stream",
     "text": [
      "0% [##############################] 100% | ETA: 00:00:00\n",
      "Total time elapsed: 00:00:06\n"
     ]
    },
    {
     "name": "stdout",
     "output_type": "stream",
     "text": [
      "ALO\n"
     ]
    },
    {
     "name": "stderr",
     "output_type": "stream",
     "text": [
      "0% [##############################] 100% | ETA: 00:00:00\n",
      "Total time elapsed: 00:00:02\n"
     ]
    },
    {
     "name": "stdout",
     "output_type": "stream",
     "text": [
      "ALO\n"
     ]
    },
    {
     "name": "stderr",
     "output_type": "stream",
     "text": [
      "0% [##############################] 100% | ETA: 00:00:00\n",
      "Total time elapsed: 00:00:05\n"
     ]
    },
    {
     "name": "stdout",
     "output_type": "stream",
     "text": [
      "CC\n"
     ]
    },
    {
     "name": "stderr",
     "output_type": "stream",
     "text": [
      "0% [##############################] 100% | ETA: 00:00:00\n",
      "Total time elapsed: 00:00:02\n"
     ]
    },
    {
     "name": "stdout",
     "output_type": "stream",
     "text": [
      "CC\n"
     ]
    },
    {
     "name": "stderr",
     "output_type": "stream",
     "text": [
      "0% [##############################] 100% | ETA: 00:00:00\n",
      "Total time elapsed: 00:00:06\n"
     ]
    },
    {
     "name": "stdout",
     "output_type": "stream",
     "text": [
      "FD\n"
     ]
    },
    {
     "name": "stderr",
     "output_type": "stream",
     "text": [
      "0% [##############################] 100% | ETA: 00:00:00\n",
      "Total time elapsed: 00:00:02\n"
     ]
    },
    {
     "name": "stdout",
     "output_type": "stream",
     "text": [
      "FD\n"
     ]
    },
    {
     "name": "stderr",
     "output_type": "stream",
     "text": [
      "0% [##############################] 100% | ETA: 00:00:00\n",
      "Total time elapsed: 00:00:05\n"
     ]
    },
    {
     "name": "stdout",
     "output_type": "stream",
     "text": [
      "FET\n"
     ]
    },
    {
     "name": "stderr",
     "output_type": "stream",
     "text": [
      "0% [##############################] 100% | ETA: 00:00:00\n",
      "Total time elapsed: 00:00:02\n"
     ]
    },
    {
     "name": "stdout",
     "output_type": "stream",
     "text": [
      "FET\n"
     ]
    },
    {
     "name": "stderr",
     "output_type": "stream",
     "text": [
      "0% [##############################] 100% | ETA: 00:00:00\n",
      "Total time elapsed: 00:00:06\n"
     ]
    },
    {
     "name": "stdout",
     "output_type": "stream",
     "text": [
      "FE\n"
     ]
    },
    {
     "name": "stderr",
     "output_type": "stream",
     "text": [
      "0% [##############################] 100% | ETA: 00:00:00\n",
      "Total time elapsed: 00:00:02\n"
     ]
    },
    {
     "name": "stdout",
     "output_type": "stream",
     "text": [
      "FE\n"
     ]
    },
    {
     "name": "stderr",
     "output_type": "stream",
     "text": [
      "0% [##############################] 100% | ETA: 00:00:00\n",
      "Total time elapsed: 00:00:05\n"
     ]
    },
    {
     "name": "stdout",
     "output_type": "stream",
     "text": [
      "HT\n"
     ]
    },
    {
     "name": "stderr",
     "output_type": "stream",
     "text": [
      "0% [##############################] 100% | ETA: 00:00:00\n",
      "Total time elapsed: 00:00:02\n"
     ]
    },
    {
     "name": "stdout",
     "output_type": "stream",
     "text": [
      "HT\n"
     ]
    },
    {
     "name": "stderr",
     "output_type": "stream",
     "text": [
      "0% [##############################] 100% | ETA: 00:00:00\n",
      "Total time elapsed: 00:00:06\n"
     ]
    },
    {
     "name": "stdout",
     "output_type": "stream",
     "text": [
      "IR\n"
     ]
    },
    {
     "name": "stderr",
     "output_type": "stream",
     "text": [
      "0% [##############################] 100% | ETA: 00:00:00\n",
      "Total time elapsed: 00:00:02\n"
     ]
    },
    {
     "name": "stdout",
     "output_type": "stream",
     "text": [
      "IR\n"
     ]
    },
    {
     "name": "stderr",
     "output_type": "stream",
     "text": [
      "0% [##############################] 100% | ETA: 00:00:00\n",
      "Total time elapsed: 00:00:06\n"
     ]
    },
    {
     "name": "stdout",
     "output_type": "stream",
     "text": [
      "MET\n"
     ]
    },
    {
     "name": "stderr",
     "output_type": "stream",
     "text": [
      "0% [##############################] 100% | ETA: 00:00:00\n",
      "Total time elapsed: 00:00:02\n"
     ]
    },
    {
     "name": "stdout",
     "output_type": "stream",
     "text": [
      "MET\n"
     ]
    },
    {
     "name": "stderr",
     "output_type": "stream",
     "text": [
      "0% [##############################] 100% | ETA: 00:00:00\n",
      "Total time elapsed: 00:00:06\n"
     ]
    },
    {
     "name": "stdout",
     "output_type": "stream",
     "text": [
      "ME\n"
     ]
    },
    {
     "name": "stderr",
     "output_type": "stream",
     "text": [
      "0% [##############################] 100% | ETA: 00:00:00\n",
      "Total time elapsed: 00:00:02\n"
     ]
    },
    {
     "name": "stdout",
     "output_type": "stream",
     "text": [
      "ME\n"
     ]
    },
    {
     "name": "stderr",
     "output_type": "stream",
     "text": [
      "0% [##############################] 100% | ETA: 00:00:00\n",
      "Total time elapsed: 00:00:06\n"
     ]
    },
    {
     "name": "stdout",
     "output_type": "stream",
     "text": [
      "MD\n"
     ]
    },
    {
     "name": "stderr",
     "output_type": "stream",
     "text": [
      "0% [##############################] 100% | ETA: 00:00:00\n",
      "Total time elapsed: 00:00:02\n"
     ]
    },
    {
     "name": "stdout",
     "output_type": "stream",
     "text": [
      "MD\n"
     ]
    },
    {
     "name": "stderr",
     "output_type": "stream",
     "text": [
      "0% [##############################] 100% | ETA: 00:00:00\n",
      "Total time elapsed: 00:00:05\n"
     ]
    },
    {
     "name": "stdout",
     "output_type": "stream",
     "text": [
      "NLT\n"
     ]
    },
    {
     "name": "stderr",
     "output_type": "stream",
     "text": [
      "0% [##############################] 100% | ETA: 00:00:00\n",
      "Total time elapsed: 00:00:02\n"
     ]
    },
    {
     "name": "stdout",
     "output_type": "stream",
     "text": [
      "NLT\n"
     ]
    },
    {
     "name": "stderr",
     "output_type": "stream",
     "text": [
      "0% [##############################] 100% | ETA: 00:00:00\n",
      "Total time elapsed: 00:00:06\n"
     ]
    },
    {
     "name": "stdout",
     "output_type": "stream",
     "text": [
      "OD\n"
     ]
    },
    {
     "name": "stderr",
     "output_type": "stream",
     "text": [
      "0% [##############################] 100% | ETA: 00:00:00\n",
      "Total time elapsed: 00:00:02\n"
     ]
    },
    {
     "name": "stdout",
     "output_type": "stream",
     "text": [
      "OD\n"
     ]
    },
    {
     "name": "stderr",
     "output_type": "stream",
     "text": [
      "0% [##############################] 100% | ETA: 00:00:00\n",
      "Total time elapsed: 00:00:05\n"
     ]
    },
    {
     "name": "stdout",
     "output_type": "stream",
     "text": [
      "PMF\n"
     ]
    },
    {
     "name": "stderr",
     "output_type": "stream",
     "text": [
      "0% [##############################] 100% | ETA: 00:00:00\n",
      "Total time elapsed: 00:00:02\n"
     ]
    },
    {
     "name": "stdout",
     "output_type": "stream",
     "text": [
      "PMF\n"
     ]
    },
    {
     "name": "stderr",
     "output_type": "stream",
     "text": [
      "0% [##############################] 100% | ETA: 00:00:00\n",
      "Total time elapsed: 00:00:05\n"
     ]
    },
    {
     "name": "stdout",
     "output_type": "stream",
     "text": [
      "POF\n"
     ]
    },
    {
     "name": "stderr",
     "output_type": "stream",
     "text": [
      "0% [##############################] 100% | ETA: 00:00:00\n",
      "Total time elapsed: 00:00:02\n"
     ]
    },
    {
     "name": "stdout",
     "output_type": "stream",
     "text": [
      "POF\n"
     ]
    },
    {
     "name": "stderr",
     "output_type": "stream",
     "text": [
      "0% [##############################] 100% | ETA: 00:00:00\n",
      "Total time elapsed: 00:00:05\n"
     ]
    },
    {
     "name": "stdout",
     "output_type": "stream",
     "text": [
      "TA\n"
     ]
    },
    {
     "name": "stderr",
     "output_type": "stream",
     "text": [
      "0% [##############################] 100% | ETA: 00:00:00\n",
      "Total time elapsed: 00:00:02\n"
     ]
    },
    {
     "name": "stdout",
     "output_type": "stream",
     "text": [
      "TA\n"
     ]
    },
    {
     "name": "stderr",
     "output_type": "stream",
     "text": [
      "0% [##############################] 100% | ETA: 00:00:00\n",
      "Total time elapsed: 00:00:05\n"
     ]
    },
    {
     "name": "stdout",
     "output_type": "stream",
     "text": [
      "TET\n"
     ]
    },
    {
     "name": "stderr",
     "output_type": "stream",
     "text": [
      "0% [##############################] 100% | ETA: 00:00:00\n",
      "Total time elapsed: 00:00:02\n"
     ]
    },
    {
     "name": "stdout",
     "output_type": "stream",
     "text": [
      "TET\n"
     ]
    },
    {
     "name": "stderr",
     "output_type": "stream",
     "text": [
      "0% [##############################] 100% | ETA: 00:00:00\n",
      "Total time elapsed: 00:00:06\n"
     ]
    },
    {
     "name": "stdout",
     "output_type": "stream",
     "text": [
      "ULO\n"
     ]
    },
    {
     "name": "stderr",
     "output_type": "stream",
     "text": [
      "0% [##############################] 100% | ETA: 00:00:00\n",
      "Total time elapsed: 00:00:02\n"
     ]
    },
    {
     "name": "stdout",
     "output_type": "stream",
     "text": [
      "ULO\n"
     ]
    },
    {
     "name": "stderr",
     "output_type": "stream",
     "text": [
      "0% [##############################] 100% | ETA: 00:00:00\n",
      "Total time elapsed: 00:00:06\n"
     ]
    },
    {
     "name": "stdout",
     "output_type": "stream",
     "text": [
      "WD\n"
     ]
    },
    {
     "name": "stderr",
     "output_type": "stream",
     "text": [
      "0% [##############################] 100% | ETA: 00:00:00\n",
      "Total time elapsed: 00:00:02\n"
     ]
    },
    {
     "name": "stdout",
     "output_type": "stream",
     "text": [
      "WD\n"
     ]
    },
    {
     "name": "stderr",
     "output_type": "stream",
     "text": [
      "0% [##############################] 100% | ETA: 00:00:00\n",
      "Total time elapsed: 00:00:05\n"
     ]
    },
    {
     "name": "stdout",
     "output_type": "stream",
     "text": [
      "ALO\n"
     ]
    },
    {
     "name": "stderr",
     "output_type": "stream",
     "text": [
      "0% [##############################] 100% | ETA: 00:00:00\n",
      "Total time elapsed: 00:00:02\n"
     ]
    },
    {
     "name": "stdout",
     "output_type": "stream",
     "text": [
      "ALO\n"
     ]
    },
    {
     "name": "stderr",
     "output_type": "stream",
     "text": [
      "0% [##############################] 100% | ETA: 00:00:00\n",
      "Total time elapsed: 00:00:05\n"
     ]
    },
    {
     "name": "stdout",
     "output_type": "stream",
     "text": [
      "CC\n"
     ]
    },
    {
     "name": "stderr",
     "output_type": "stream",
     "text": [
      "0% [##############################] 100% | ETA: 00:00:00\n",
      "Total time elapsed: 00:00:02\n"
     ]
    },
    {
     "name": "stdout",
     "output_type": "stream",
     "text": [
      "CC\n"
     ]
    },
    {
     "name": "stderr",
     "output_type": "stream",
     "text": [
      "0% [##############################] 100% | ETA: 00:00:00\n",
      "Total time elapsed: 00:00:05\n"
     ]
    },
    {
     "name": "stdout",
     "output_type": "stream",
     "text": [
      "FD\n"
     ]
    },
    {
     "name": "stderr",
     "output_type": "stream",
     "text": [
      "0% [##############################] 100% | ETA: 00:00:00\n",
      "Total time elapsed: 00:00:02\n"
     ]
    },
    {
     "name": "stdout",
     "output_type": "stream",
     "text": [
      "FD\n"
     ]
    },
    {
     "name": "stderr",
     "output_type": "stream",
     "text": [
      "0% [##############################] 100% | ETA: 00:00:00\n",
      "Total time elapsed: 00:00:05\n"
     ]
    },
    {
     "name": "stdout",
     "output_type": "stream",
     "text": [
      "FET\n"
     ]
    },
    {
     "name": "stderr",
     "output_type": "stream",
     "text": [
      "0% [##############################] 100% | ETA: 00:00:00\n",
      "Total time elapsed: 00:00:02\n"
     ]
    },
    {
     "name": "stdout",
     "output_type": "stream",
     "text": [
      "FET\n"
     ]
    },
    {
     "name": "stderr",
     "output_type": "stream",
     "text": [
      "0% [##############################] 100% | ETA: 00:00:00\n",
      "Total time elapsed: 00:00:06\n"
     ]
    },
    {
     "name": "stdout",
     "output_type": "stream",
     "text": [
      "FE\n"
     ]
    },
    {
     "name": "stderr",
     "output_type": "stream",
     "text": [
      "0% [##############################] 100% | ETA: 00:00:00\n",
      "Total time elapsed: 00:00:02\n"
     ]
    },
    {
     "name": "stdout",
     "output_type": "stream",
     "text": [
      "FE\n"
     ]
    },
    {
     "name": "stderr",
     "output_type": "stream",
     "text": [
      "0% [##############################] 100% | ETA: 00:00:00\n",
      "Total time elapsed: 00:00:05\n"
     ]
    },
    {
     "name": "stdout",
     "output_type": "stream",
     "text": [
      "HT\n"
     ]
    },
    {
     "name": "stderr",
     "output_type": "stream",
     "text": [
      "0% [##############################] 100% | ETA: 00:00:00\n",
      "Total time elapsed: 00:00:02\n"
     ]
    },
    {
     "name": "stdout",
     "output_type": "stream",
     "text": [
      "HT\n"
     ]
    },
    {
     "name": "stderr",
     "output_type": "stream",
     "text": [
      "0% [##############################] 100% | ETA: 00:00:00\n",
      "Total time elapsed: 00:00:06\n"
     ]
    },
    {
     "name": "stdout",
     "output_type": "stream",
     "text": [
      "IR\n"
     ]
    },
    {
     "name": "stderr",
     "output_type": "stream",
     "text": [
      "0% [##############################] 100% | ETA: 00:00:00\n",
      "Total time elapsed: 00:00:02\n"
     ]
    },
    {
     "name": "stdout",
     "output_type": "stream",
     "text": [
      "IR\n"
     ]
    },
    {
     "name": "stderr",
     "output_type": "stream",
     "text": [
      "0% [##############################] 100% | ETA: 00:00:00\n",
      "Total time elapsed: 00:00:05\n"
     ]
    },
    {
     "name": "stdout",
     "output_type": "stream",
     "text": [
      "MET\n"
     ]
    },
    {
     "name": "stderr",
     "output_type": "stream",
     "text": [
      "0% [##############################] 100% | ETA: 00:00:00\n",
      "Total time elapsed: 00:00:02\n"
     ]
    },
    {
     "name": "stdout",
     "output_type": "stream",
     "text": [
      "MET\n"
     ]
    },
    {
     "name": "stderr",
     "output_type": "stream",
     "text": [
      "0% [##############################] 100% | ETA: 00:00:00\n",
      "Total time elapsed: 00:00:06\n"
     ]
    },
    {
     "name": "stdout",
     "output_type": "stream",
     "text": [
      "ME\n"
     ]
    },
    {
     "name": "stderr",
     "output_type": "stream",
     "text": [
      "0% [##############################] 100% | ETA: 00:00:00\n",
      "Total time elapsed: 00:00:02\n"
     ]
    },
    {
     "name": "stdout",
     "output_type": "stream",
     "text": [
      "ME\n"
     ]
    },
    {
     "name": "stderr",
     "output_type": "stream",
     "text": [
      "0% [##############################] 100% | ETA: 00:00:00\n",
      "Total time elapsed: 00:00:05\n"
     ]
    },
    {
     "name": "stdout",
     "output_type": "stream",
     "text": [
      "MD\n"
     ]
    },
    {
     "name": "stderr",
     "output_type": "stream",
     "text": [
      "0% [##############################] 100% | ETA: 00:00:00\n",
      "Total time elapsed: 00:00:02\n"
     ]
    },
    {
     "name": "stdout",
     "output_type": "stream",
     "text": [
      "MD\n"
     ]
    },
    {
     "name": "stderr",
     "output_type": "stream",
     "text": [
      "0% [##############################] 100% | ETA: 00:00:00\n",
      "Total time elapsed: 00:00:05\n"
     ]
    },
    {
     "name": "stdout",
     "output_type": "stream",
     "text": [
      "NLT\n"
     ]
    },
    {
     "name": "stderr",
     "output_type": "stream",
     "text": [
      "0% [##############################] 100% | ETA: 00:00:00\n",
      "Total time elapsed: 00:00:02\n"
     ]
    },
    {
     "name": "stdout",
     "output_type": "stream",
     "text": [
      "NLT\n"
     ]
    },
    {
     "name": "stderr",
     "output_type": "stream",
     "text": [
      "0% [##############################] 100% | ETA: 00:00:00\n",
      "Total time elapsed: 00:00:05\n"
     ]
    },
    {
     "name": "stdout",
     "output_type": "stream",
     "text": [
      "OD\n"
     ]
    },
    {
     "name": "stderr",
     "output_type": "stream",
     "text": [
      "0% [##############################] 100% | ETA: 00:00:00\n",
      "Total time elapsed: 00:00:02\n"
     ]
    },
    {
     "name": "stdout",
     "output_type": "stream",
     "text": [
      "OD\n"
     ]
    },
    {
     "name": "stderr",
     "output_type": "stream",
     "text": [
      "0% [##############################] 100% | ETA: 00:00:00\n",
      "Total time elapsed: 00:00:05\n"
     ]
    },
    {
     "name": "stdout",
     "output_type": "stream",
     "text": [
      "PMF\n"
     ]
    },
    {
     "name": "stderr",
     "output_type": "stream",
     "text": [
      "0% [##############################] 100% | ETA: 00:00:00\n",
      "Total time elapsed: 00:00:02\n"
     ]
    },
    {
     "name": "stdout",
     "output_type": "stream",
     "text": [
      "PMF\n"
     ]
    },
    {
     "name": "stderr",
     "output_type": "stream",
     "text": [
      "0% [##############################] 100% | ETA: 00:00:00\n",
      "Total time elapsed: 00:00:06\n"
     ]
    },
    {
     "name": "stdout",
     "output_type": "stream",
     "text": [
      "POF\n"
     ]
    },
    {
     "name": "stderr",
     "output_type": "stream",
     "text": [
      "0% [##############################] 100% | ETA: 00:00:00\n",
      "Total time elapsed: 00:00:02\n"
     ]
    },
    {
     "name": "stdout",
     "output_type": "stream",
     "text": [
      "POF\n"
     ]
    },
    {
     "name": "stderr",
     "output_type": "stream",
     "text": [
      "0% [##############################] 100% | ETA: 00:00:00\n",
      "Total time elapsed: 00:00:06\n"
     ]
    },
    {
     "name": "stdout",
     "output_type": "stream",
     "text": [
      "TA\n"
     ]
    },
    {
     "name": "stderr",
     "output_type": "stream",
     "text": [
      "0% [##############################] 100% | ETA: 00:00:00\n",
      "Total time elapsed: 00:00:02\n"
     ]
    },
    {
     "name": "stdout",
     "output_type": "stream",
     "text": [
      "TA\n"
     ]
    },
    {
     "name": "stderr",
     "output_type": "stream",
     "text": [
      "0% [##############################] 100% | ETA: 00:00:00\n",
      "Total time elapsed: 00:00:05\n"
     ]
    },
    {
     "name": "stdout",
     "output_type": "stream",
     "text": [
      "TET\n"
     ]
    },
    {
     "name": "stderr",
     "output_type": "stream",
     "text": [
      "0% [##############################] 100% | ETA: 00:00:00\n",
      "Total time elapsed: 00:00:02\n"
     ]
    },
    {
     "name": "stdout",
     "output_type": "stream",
     "text": [
      "TET\n"
     ]
    },
    {
     "name": "stderr",
     "output_type": "stream",
     "text": [
      "0% [##############################] 100% | ETA: 00:00:00\n",
      "Total time elapsed: 00:00:06\n"
     ]
    },
    {
     "name": "stdout",
     "output_type": "stream",
     "text": [
      "ULO\n"
     ]
    },
    {
     "name": "stderr",
     "output_type": "stream",
     "text": [
      "0% [##############################] 100% | ETA: 00:00:00\n",
      "Total time elapsed: 00:00:02\n"
     ]
    },
    {
     "name": "stdout",
     "output_type": "stream",
     "text": [
      "ULO\n"
     ]
    },
    {
     "name": "stderr",
     "output_type": "stream",
     "text": [
      "0% [##############################] 100% | ETA: 00:00:00\n",
      "Total time elapsed: 00:00:06\n"
     ]
    },
    {
     "name": "stdout",
     "output_type": "stream",
     "text": [
      "WD\n"
     ]
    },
    {
     "name": "stderr",
     "output_type": "stream",
     "text": [
      "0% [##############################] 100% | ETA: 00:00:00\n",
      "Total time elapsed: 00:00:02\n"
     ]
    },
    {
     "name": "stdout",
     "output_type": "stream",
     "text": [
      "WD\n"
     ]
    },
    {
     "name": "stderr",
     "output_type": "stream",
     "text": [
      "0% [##############################] 100% | ETA: 00:00:00\n",
      "Total time elapsed: 00:00:06\n"
     ]
    },
    {
     "name": "stdout",
     "output_type": "stream",
     "text": [
      "ALO\n"
     ]
    },
    {
     "name": "stderr",
     "output_type": "stream",
     "text": [
      "0% [##############################] 100% | ETA: 00:00:00\n",
      "Total time elapsed: 00:00:02\n"
     ]
    },
    {
     "name": "stdout",
     "output_type": "stream",
     "text": [
      "ALO\n"
     ]
    },
    {
     "name": "stderr",
     "output_type": "stream",
     "text": [
      "0% [##############################] 100% | ETA: 00:00:00\n",
      "Total time elapsed: 00:00:05\n"
     ]
    },
    {
     "name": "stdout",
     "output_type": "stream",
     "text": [
      "CC\n"
     ]
    },
    {
     "name": "stderr",
     "output_type": "stream",
     "text": [
      "0% [##############################] 100% | ETA: 00:00:00\n",
      "Total time elapsed: 00:00:02\n"
     ]
    },
    {
     "name": "stdout",
     "output_type": "stream",
     "text": [
      "CC\n"
     ]
    },
    {
     "name": "stderr",
     "output_type": "stream",
     "text": [
      "0% [##############################] 100% | ETA: 00:00:00\n",
      "Total time elapsed: 00:00:05\n"
     ]
    },
    {
     "name": "stdout",
     "output_type": "stream",
     "text": [
      "FD\n"
     ]
    },
    {
     "name": "stderr",
     "output_type": "stream",
     "text": [
      "0% [##############################] 100% | ETA: 00:00:00\n",
      "Total time elapsed: 00:00:02\n"
     ]
    },
    {
     "name": "stdout",
     "output_type": "stream",
     "text": [
      "FD\n"
     ]
    },
    {
     "name": "stderr",
     "output_type": "stream",
     "text": [
      "0% [##############################] 100% | ETA: 00:00:00\n",
      "Total time elapsed: 00:00:06\n"
     ]
    },
    {
     "name": "stdout",
     "output_type": "stream",
     "text": [
      "FET\n"
     ]
    },
    {
     "name": "stderr",
     "output_type": "stream",
     "text": [
      "0% [##############################] 100% | ETA: 00:00:00\n",
      "Total time elapsed: 00:00:02\n"
     ]
    },
    {
     "name": "stdout",
     "output_type": "stream",
     "text": [
      "FET\n"
     ]
    },
    {
     "name": "stderr",
     "output_type": "stream",
     "text": [
      "0% [##############################] 100% | ETA: 00:00:00\n",
      "Total time elapsed: 00:00:06\n"
     ]
    },
    {
     "name": "stdout",
     "output_type": "stream",
     "text": [
      "FE\n"
     ]
    },
    {
     "name": "stderr",
     "output_type": "stream",
     "text": [
      "0% [##############################] 100% | ETA: 00:00:00\n",
      "Total time elapsed: 00:00:02\n"
     ]
    },
    {
     "name": "stdout",
     "output_type": "stream",
     "text": [
      "FE\n"
     ]
    },
    {
     "name": "stderr",
     "output_type": "stream",
     "text": [
      "0% [##############################] 100% | ETA: 00:00:00\n",
      "Total time elapsed: 00:00:06\n"
     ]
    },
    {
     "name": "stdout",
     "output_type": "stream",
     "text": [
      "HT\n"
     ]
    },
    {
     "name": "stderr",
     "output_type": "stream",
     "text": [
      "0% [##############################] 100% | ETA: 00:00:00\n",
      "Total time elapsed: 00:00:02\n"
     ]
    },
    {
     "name": "stdout",
     "output_type": "stream",
     "text": [
      "HT\n"
     ]
    },
    {
     "name": "stderr",
     "output_type": "stream",
     "text": [
      "0% [##############################] 100% | ETA: 00:00:00\n",
      "Total time elapsed: 00:00:06\n"
     ]
    },
    {
     "name": "stdout",
     "output_type": "stream",
     "text": [
      "IR\n"
     ]
    },
    {
     "name": "stderr",
     "output_type": "stream",
     "text": [
      "0% [##############################] 100% | ETA: 00:00:00\n",
      "Total time elapsed: 00:00:02\n"
     ]
    },
    {
     "name": "stdout",
     "output_type": "stream",
     "text": [
      "IR\n"
     ]
    },
    {
     "name": "stderr",
     "output_type": "stream",
     "text": [
      "0% [##############################] 100% | ETA: 00:00:00\n",
      "Total time elapsed: 00:00:05\n"
     ]
    },
    {
     "name": "stdout",
     "output_type": "stream",
     "text": [
      "MET\n"
     ]
    },
    {
     "name": "stderr",
     "output_type": "stream",
     "text": [
      "0% [##############################] 100% | ETA: 00:00:00\n",
      "Total time elapsed: 00:00:02\n"
     ]
    },
    {
     "name": "stdout",
     "output_type": "stream",
     "text": [
      "MET\n"
     ]
    },
    {
     "name": "stderr",
     "output_type": "stream",
     "text": [
      "0% [##############################] 100% | ETA: 00:00:00\n",
      "Total time elapsed: 00:00:06\n"
     ]
    },
    {
     "name": "stdout",
     "output_type": "stream",
     "text": [
      "ME\n"
     ]
    },
    {
     "name": "stderr",
     "output_type": "stream",
     "text": [
      "0% [##############################] 100% | ETA: 00:00:00\n",
      "Total time elapsed: 00:00:02\n"
     ]
    },
    {
     "name": "stdout",
     "output_type": "stream",
     "text": [
      "ME\n"
     ]
    },
    {
     "name": "stderr",
     "output_type": "stream",
     "text": [
      "0% [##############################] 100% | ETA: 00:00:00\n",
      "Total time elapsed: 00:00:05\n"
     ]
    },
    {
     "name": "stdout",
     "output_type": "stream",
     "text": [
      "MD\n"
     ]
    },
    {
     "name": "stderr",
     "output_type": "stream",
     "text": [
      "0% [##############################] 100% | ETA: 00:00:00\n",
      "Total time elapsed: 00:00:02\n"
     ]
    },
    {
     "name": "stdout",
     "output_type": "stream",
     "text": [
      "MD\n"
     ]
    },
    {
     "name": "stderr",
     "output_type": "stream",
     "text": [
      "0% [##############################] 100% | ETA: 00:00:00\n",
      "Total time elapsed: 00:00:05\n"
     ]
    },
    {
     "name": "stdout",
     "output_type": "stream",
     "text": [
      "NLT\n"
     ]
    },
    {
     "name": "stderr",
     "output_type": "stream",
     "text": [
      "0% [##############################] 100% | ETA: 00:00:00\n",
      "Total time elapsed: 00:00:02\n"
     ]
    },
    {
     "name": "stdout",
     "output_type": "stream",
     "text": [
      "NLT\n"
     ]
    },
    {
     "name": "stderr",
     "output_type": "stream",
     "text": [
      "0% [##############################] 100% | ETA: 00:00:00\n",
      "Total time elapsed: 00:00:05\n"
     ]
    },
    {
     "name": "stdout",
     "output_type": "stream",
     "text": [
      "OD\n"
     ]
    },
    {
     "name": "stderr",
     "output_type": "stream",
     "text": [
      "0% [##############################] 100% | ETA: 00:00:00\n",
      "Total time elapsed: 00:00:02\n"
     ]
    },
    {
     "name": "stdout",
     "output_type": "stream",
     "text": [
      "OD\n"
     ]
    },
    {
     "name": "stderr",
     "output_type": "stream",
     "text": [
      "0% [##############################] 100% | ETA: 00:00:00\n",
      "Total time elapsed: 00:00:06\n"
     ]
    },
    {
     "name": "stdout",
     "output_type": "stream",
     "text": [
      "PMF\n"
     ]
    },
    {
     "name": "stderr",
     "output_type": "stream",
     "text": [
      "0% [##############################] 100% | ETA: 00:00:00\n",
      "Total time elapsed: 00:00:02\n"
     ]
    },
    {
     "name": "stdout",
     "output_type": "stream",
     "text": [
      "PMF\n"
     ]
    },
    {
     "name": "stderr",
     "output_type": "stream",
     "text": [
      "0% [##############################] 100% | ETA: 00:00:00\n",
      "Total time elapsed: 00:00:06\n"
     ]
    },
    {
     "name": "stdout",
     "output_type": "stream",
     "text": [
      "POF\n"
     ]
    },
    {
     "name": "stderr",
     "output_type": "stream",
     "text": [
      "0% [##############################] 100% | ETA: 00:00:00\n",
      "Total time elapsed: 00:00:02\n"
     ]
    },
    {
     "name": "stdout",
     "output_type": "stream",
     "text": [
      "POF\n"
     ]
    },
    {
     "name": "stderr",
     "output_type": "stream",
     "text": [
      "0% [##############################] 100% | ETA: 00:00:00\n",
      "Total time elapsed: 00:00:06\n"
     ]
    },
    {
     "name": "stdout",
     "output_type": "stream",
     "text": [
      "TA\n"
     ]
    },
    {
     "name": "stderr",
     "output_type": "stream",
     "text": [
      "0% [##############################] 100% | ETA: 00:00:00\n",
      "Total time elapsed: 00:00:02\n"
     ]
    },
    {
     "name": "stdout",
     "output_type": "stream",
     "text": [
      "TA\n"
     ]
    },
    {
     "name": "stderr",
     "output_type": "stream",
     "text": [
      "0% [##############################] 100% | ETA: 00:00:00\n",
      "Total time elapsed: 00:00:05\n"
     ]
    },
    {
     "name": "stdout",
     "output_type": "stream",
     "text": [
      "TET\n"
     ]
    },
    {
     "name": "stderr",
     "output_type": "stream",
     "text": [
      "0% [##############################] 100% | ETA: 00:00:00\n",
      "Total time elapsed: 00:00:02\n"
     ]
    },
    {
     "name": "stdout",
     "output_type": "stream",
     "text": [
      "TET\n"
     ]
    },
    {
     "name": "stderr",
     "output_type": "stream",
     "text": [
      "0% [##############################] 100% | ETA: 00:00:00\n",
      "Total time elapsed: 00:00:06\n"
     ]
    },
    {
     "name": "stdout",
     "output_type": "stream",
     "text": [
      "ULO\n"
     ]
    },
    {
     "name": "stderr",
     "output_type": "stream",
     "text": [
      "0% [##############################] 100% | ETA: 00:00:00\n",
      "Total time elapsed: 00:00:02\n"
     ]
    },
    {
     "name": "stdout",
     "output_type": "stream",
     "text": [
      "ULO\n"
     ]
    },
    {
     "name": "stderr",
     "output_type": "stream",
     "text": [
      "0% [##############################] 100% | ETA: 00:00:00\n",
      "Total time elapsed: 00:00:05\n"
     ]
    },
    {
     "name": "stdout",
     "output_type": "stream",
     "text": [
      "WD\n"
     ]
    },
    {
     "name": "stderr",
     "output_type": "stream",
     "text": [
      "0% [##############################] 100% | ETA: 00:00:00\n",
      "Total time elapsed: 00:00:02\n"
     ]
    },
    {
     "name": "stdout",
     "output_type": "stream",
     "text": [
      "WD\n"
     ]
    },
    {
     "name": "stderr",
     "output_type": "stream",
     "text": [
      "0% [##############################] 100% | ETA: 00:00:00\n",
      "Total time elapsed: 00:00:05\n"
     ]
    },
    {
     "name": "stdout",
     "output_type": "stream",
     "text": [
      "ALO\n"
     ]
    },
    {
     "name": "stderr",
     "output_type": "stream",
     "text": [
      "0% [##############################] 100% | ETA: 00:00:00\n",
      "Total time elapsed: 00:00:02\n"
     ]
    },
    {
     "name": "stdout",
     "output_type": "stream",
     "text": [
      "ALO\n"
     ]
    },
    {
     "name": "stderr",
     "output_type": "stream",
     "text": [
      "0% [##############################] 100% | ETA: 00:00:00\n",
      "Total time elapsed: 00:00:06\n"
     ]
    },
    {
     "name": "stdout",
     "output_type": "stream",
     "text": [
      "CC\n"
     ]
    },
    {
     "name": "stderr",
     "output_type": "stream",
     "text": [
      "0% [##############################] 100% | ETA: 00:00:00\n",
      "Total time elapsed: 00:00:02\n"
     ]
    },
    {
     "name": "stdout",
     "output_type": "stream",
     "text": [
      "CC\n"
     ]
    },
    {
     "name": "stderr",
     "output_type": "stream",
     "text": [
      "0% [##############################] 100% | ETA: 00:00:00\n",
      "Total time elapsed: 00:00:06\n"
     ]
    },
    {
     "name": "stdout",
     "output_type": "stream",
     "text": [
      "FD\n"
     ]
    },
    {
     "name": "stderr",
     "output_type": "stream",
     "text": [
      "0% [##############################] 100% | ETA: 00:00:00\n",
      "Total time elapsed: 00:00:02\n"
     ]
    },
    {
     "name": "stdout",
     "output_type": "stream",
     "text": [
      "FD\n"
     ]
    },
    {
     "name": "stderr",
     "output_type": "stream",
     "text": [
      "0% [##############################] 100% | ETA: 00:00:00\n",
      "Total time elapsed: 00:00:07\n"
     ]
    },
    {
     "name": "stdout",
     "output_type": "stream",
     "text": [
      "FET\n"
     ]
    },
    {
     "name": "stderr",
     "output_type": "stream",
     "text": [
      "0% [##############################] 100% | ETA: 00:00:00\n",
      "Total time elapsed: 00:00:02\n"
     ]
    },
    {
     "name": "stdout",
     "output_type": "stream",
     "text": [
      "FET\n"
     ]
    },
    {
     "name": "stderr",
     "output_type": "stream",
     "text": [
      "0% [##############################] 100% | ETA: 00:00:00\n",
      "Total time elapsed: 00:00:06\n"
     ]
    },
    {
     "name": "stdout",
     "output_type": "stream",
     "text": [
      "FE\n"
     ]
    },
    {
     "name": "stderr",
     "output_type": "stream",
     "text": [
      "0% [##############################] 100% | ETA: 00:00:00\n",
      "Total time elapsed: 00:00:03\n"
     ]
    },
    {
     "name": "stdout",
     "output_type": "stream",
     "text": [
      "FE\n"
     ]
    },
    {
     "name": "stderr",
     "output_type": "stream",
     "text": [
      "0% [##############################] 100% | ETA: 00:00:00\n",
      "Total time elapsed: 00:00:06\n"
     ]
    },
    {
     "name": "stdout",
     "output_type": "stream",
     "text": [
      "HT\n"
     ]
    },
    {
     "name": "stderr",
     "output_type": "stream",
     "text": [
      "0% [##############################] 100% | ETA: 00:00:00\n",
      "Total time elapsed: 00:00:02\n"
     ]
    },
    {
     "name": "stdout",
     "output_type": "stream",
     "text": [
      "HT\n"
     ]
    },
    {
     "name": "stderr",
     "output_type": "stream",
     "text": [
      "0% [##############################] 100% | ETA: 00:00:00\n",
      "Total time elapsed: 00:00:06\n"
     ]
    },
    {
     "name": "stdout",
     "output_type": "stream",
     "text": [
      "IR\n"
     ]
    },
    {
     "name": "stderr",
     "output_type": "stream",
     "text": [
      "0% [##############################] 100% | ETA: 00:00:00\n",
      "Total time elapsed: 00:00:02\n"
     ]
    },
    {
     "name": "stdout",
     "output_type": "stream",
     "text": [
      "IR\n"
     ]
    },
    {
     "name": "stderr",
     "output_type": "stream",
     "text": [
      "0% [##############################] 100% | ETA: 00:00:00\n",
      "Total time elapsed: 00:00:06\n"
     ]
    },
    {
     "name": "stdout",
     "output_type": "stream",
     "text": [
      "MET\n"
     ]
    },
    {
     "name": "stderr",
     "output_type": "stream",
     "text": [
      "0% [##############################] 100% | ETA: 00:00:00\n",
      "Total time elapsed: 00:00:02\n"
     ]
    },
    {
     "name": "stdout",
     "output_type": "stream",
     "text": [
      "MET\n"
     ]
    },
    {
     "name": "stderr",
     "output_type": "stream",
     "text": [
      "0% [##############################] 100% | ETA: 00:00:00\n",
      "Total time elapsed: 00:00:06\n"
     ]
    },
    {
     "name": "stdout",
     "output_type": "stream",
     "text": [
      "ME\n"
     ]
    },
    {
     "name": "stderr",
     "output_type": "stream",
     "text": [
      "0% [##############################] 100% | ETA: 00:00:00\n",
      "Total time elapsed: 00:00:02\n"
     ]
    },
    {
     "name": "stdout",
     "output_type": "stream",
     "text": [
      "ME\n"
     ]
    },
    {
     "name": "stderr",
     "output_type": "stream",
     "text": [
      "0% [##############################] 100% | ETA: 00:00:00\n",
      "Total time elapsed: 00:00:06\n"
     ]
    },
    {
     "name": "stdout",
     "output_type": "stream",
     "text": [
      "MD\n"
     ]
    },
    {
     "name": "stderr",
     "output_type": "stream",
     "text": [
      "0% [##############################] 100% | ETA: 00:00:00\n",
      "Total time elapsed: 00:00:02\n"
     ]
    },
    {
     "name": "stdout",
     "output_type": "stream",
     "text": [
      "MD\n"
     ]
    },
    {
     "name": "stderr",
     "output_type": "stream",
     "text": [
      "0% [##############################] 100% | ETA: 00:00:00\n",
      "Total time elapsed: 00:00:06\n"
     ]
    },
    {
     "name": "stdout",
     "output_type": "stream",
     "text": [
      "NLT\n"
     ]
    },
    {
     "name": "stderr",
     "output_type": "stream",
     "text": [
      "0% [##############################] 100% | ETA: 00:00:00\n",
      "Total time elapsed: 00:00:02\n"
     ]
    },
    {
     "name": "stdout",
     "output_type": "stream",
     "text": [
      "NLT\n"
     ]
    },
    {
     "name": "stderr",
     "output_type": "stream",
     "text": [
      "0% [##############################] 100% | ETA: 00:00:00\n",
      "Total time elapsed: 00:00:07\n"
     ]
    },
    {
     "name": "stdout",
     "output_type": "stream",
     "text": [
      "OD\n"
     ]
    },
    {
     "name": "stderr",
     "output_type": "stream",
     "text": [
      "0% [##############################] 100% | ETA: 00:00:00\n",
      "Total time elapsed: 00:00:02\n"
     ]
    },
    {
     "name": "stdout",
     "output_type": "stream",
     "text": [
      "OD\n"
     ]
    },
    {
     "name": "stderr",
     "output_type": "stream",
     "text": [
      "0% [##############################] 100% | ETA: 00:00:00\n",
      "Total time elapsed: 00:00:07\n"
     ]
    },
    {
     "name": "stdout",
     "output_type": "stream",
     "text": [
      "PMF\n"
     ]
    },
    {
     "name": "stderr",
     "output_type": "stream",
     "text": [
      "0% [##############################] 100% | ETA: 00:00:00\n",
      "Total time elapsed: 00:00:03\n"
     ]
    },
    {
     "name": "stdout",
     "output_type": "stream",
     "text": [
      "PMF\n"
     ]
    },
    {
     "name": "stderr",
     "output_type": "stream",
     "text": [
      "0% [##############################] 100% | ETA: 00:00:00\n",
      "Total time elapsed: 00:00:07\n"
     ]
    },
    {
     "name": "stdout",
     "output_type": "stream",
     "text": [
      "POF\n"
     ]
    },
    {
     "name": "stderr",
     "output_type": "stream",
     "text": [
      "0% [##############################] 100% | ETA: 00:00:00\n",
      "Total time elapsed: 00:00:03\n"
     ]
    },
    {
     "name": "stdout",
     "output_type": "stream",
     "text": [
      "POF\n"
     ]
    },
    {
     "name": "stderr",
     "output_type": "stream",
     "text": [
      "0% [##############################] 100% | ETA: 00:00:00\n",
      "Total time elapsed: 00:00:08\n"
     ]
    },
    {
     "name": "stdout",
     "output_type": "stream",
     "text": [
      "TA\n"
     ]
    },
    {
     "name": "stderr",
     "output_type": "stream",
     "text": [
      "0% [##############################] 100% | ETA: 00:00:00\n",
      "Total time elapsed: 00:00:02\n"
     ]
    },
    {
     "name": "stdout",
     "output_type": "stream",
     "text": [
      "TA\n"
     ]
    },
    {
     "name": "stderr",
     "output_type": "stream",
     "text": [
      "0% [##############################] 100% | ETA: 00:00:00\n",
      "Total time elapsed: 00:00:06\n"
     ]
    },
    {
     "name": "stdout",
     "output_type": "stream",
     "text": [
      "TET\n"
     ]
    },
    {
     "name": "stderr",
     "output_type": "stream",
     "text": [
      "0% [##############################] 100% | ETA: 00:00:00\n",
      "Total time elapsed: 00:00:03\n"
     ]
    },
    {
     "name": "stdout",
     "output_type": "stream",
     "text": [
      "TET\n"
     ]
    },
    {
     "name": "stderr",
     "output_type": "stream",
     "text": [
      "0% [##############################] 100% | ETA: 00:00:00\n",
      "Total time elapsed: 00:00:07\n"
     ]
    },
    {
     "name": "stdout",
     "output_type": "stream",
     "text": [
      "ULO\n"
     ]
    },
    {
     "name": "stderr",
     "output_type": "stream",
     "text": [
      "0% [##############################] 100% | ETA: 00:00:00\n",
      "Total time elapsed: 00:00:02\n"
     ]
    },
    {
     "name": "stdout",
     "output_type": "stream",
     "text": [
      "ULO\n"
     ]
    },
    {
     "name": "stderr",
     "output_type": "stream",
     "text": [
      "0% [##############################] 100% | ETA: 00:00:00\n",
      "Total time elapsed: 00:00:08\n"
     ]
    },
    {
     "name": "stdout",
     "output_type": "stream",
     "text": [
      "WD\n"
     ]
    },
    {
     "name": "stderr",
     "output_type": "stream",
     "text": [
      "0% [##############################] 100% | ETA: 00:00:00\n",
      "Total time elapsed: 00:00:02\n"
     ]
    },
    {
     "name": "stdout",
     "output_type": "stream",
     "text": [
      "WD\n"
     ]
    },
    {
     "name": "stderr",
     "output_type": "stream",
     "text": [
      "0% [##############################] 100% | ETA: 00:00:00\n",
      "Total time elapsed: 00:00:07\n"
     ]
    },
    {
     "name": "stdout",
     "output_type": "stream",
     "text": [
      "ALO\n"
     ]
    },
    {
     "name": "stderr",
     "output_type": "stream",
     "text": [
      "0% [##############################] 100% | ETA: 00:00:00\n",
      "Total time elapsed: 00:00:03\n"
     ]
    },
    {
     "name": "stdout",
     "output_type": "stream",
     "text": [
      "ALO\n"
     ]
    },
    {
     "name": "stderr",
     "output_type": "stream",
     "text": [
      "0% [##############################] 100% | ETA: 00:00:00\n",
      "Total time elapsed: 00:00:06\n"
     ]
    },
    {
     "name": "stdout",
     "output_type": "stream",
     "text": [
      "CC\n"
     ]
    },
    {
     "name": "stderr",
     "output_type": "stream",
     "text": [
      "0% [##############################] 100% | ETA: 00:00:00\n",
      "Total time elapsed: 00:00:02\n"
     ]
    },
    {
     "name": "stdout",
     "output_type": "stream",
     "text": [
      "CC\n"
     ]
    },
    {
     "name": "stderr",
     "output_type": "stream",
     "text": [
      "0% [##############################] 100% | ETA: 00:00:00\n",
      "Total time elapsed: 00:00:06\n"
     ]
    },
    {
     "name": "stdout",
     "output_type": "stream",
     "text": [
      "FD\n"
     ]
    },
    {
     "name": "stderr",
     "output_type": "stream",
     "text": [
      "0% [##############################] 100% | ETA: 00:00:00\n",
      "Total time elapsed: 00:00:02\n"
     ]
    },
    {
     "name": "stdout",
     "output_type": "stream",
     "text": [
      "FD\n"
     ]
    },
    {
     "name": "stderr",
     "output_type": "stream",
     "text": [
      "0% [##############################] 100% | ETA: 00:00:00\n",
      "Total time elapsed: 00:00:06\n"
     ]
    },
    {
     "name": "stdout",
     "output_type": "stream",
     "text": [
      "FET\n"
     ]
    },
    {
     "name": "stderr",
     "output_type": "stream",
     "text": [
      "0% [##############################] 100% | ETA: 00:00:00\n",
      "Total time elapsed: 00:00:03\n"
     ]
    },
    {
     "name": "stdout",
     "output_type": "stream",
     "text": [
      "FET\n"
     ]
    },
    {
     "name": "stderr",
     "output_type": "stream",
     "text": [
      "0% [##############################] 100% | ETA: 00:00:00\n",
      "Total time elapsed: 00:00:06\n"
     ]
    },
    {
     "name": "stdout",
     "output_type": "stream",
     "text": [
      "FE\n"
     ]
    },
    {
     "name": "stderr",
     "output_type": "stream",
     "text": [
      "0% [##############################] 100% | ETA: 00:00:00\n",
      "Total time elapsed: 00:00:02\n"
     ]
    },
    {
     "name": "stdout",
     "output_type": "stream",
     "text": [
      "FE\n"
     ]
    },
    {
     "name": "stderr",
     "output_type": "stream",
     "text": [
      "0% [##############################] 100% | ETA: 00:00:00\n",
      "Total time elapsed: 00:00:06\n"
     ]
    },
    {
     "name": "stdout",
     "output_type": "stream",
     "text": [
      "HT\n"
     ]
    },
    {
     "name": "stderr",
     "output_type": "stream",
     "text": [
      "0% [##############################] 100% | ETA: 00:00:00\n",
      "Total time elapsed: 00:00:02\n"
     ]
    },
    {
     "name": "stdout",
     "output_type": "stream",
     "text": [
      "HT\n"
     ]
    },
    {
     "name": "stderr",
     "output_type": "stream",
     "text": [
      "0% [##############################] 100% | ETA: 00:00:00\n",
      "Total time elapsed: 00:00:06\n"
     ]
    },
    {
     "name": "stdout",
     "output_type": "stream",
     "text": [
      "IR\n"
     ]
    },
    {
     "name": "stderr",
     "output_type": "stream",
     "text": [
      "0% [##############################] 100% | ETA: 00:00:00\n",
      "Total time elapsed: 00:00:02\n"
     ]
    },
    {
     "name": "stdout",
     "output_type": "stream",
     "text": [
      "IR\n"
     ]
    },
    {
     "name": "stderr",
     "output_type": "stream",
     "text": [
      "0% [##############################] 100% | ETA: 00:00:00\n",
      "Total time elapsed: 00:00:06\n"
     ]
    },
    {
     "name": "stdout",
     "output_type": "stream",
     "text": [
      "MET\n"
     ]
    },
    {
     "name": "stderr",
     "output_type": "stream",
     "text": [
      "0% [##############################] 100% | ETA: 00:00:00\n",
      "Total time elapsed: 00:00:02\n"
     ]
    },
    {
     "name": "stdout",
     "output_type": "stream",
     "text": [
      "MET\n"
     ]
    },
    {
     "name": "stderr",
     "output_type": "stream",
     "text": [
      "0% [##############################] 100% | ETA: 00:00:00\n",
      "Total time elapsed: 00:00:06\n"
     ]
    },
    {
     "name": "stdout",
     "output_type": "stream",
     "text": [
      "ME\n"
     ]
    },
    {
     "name": "stderr",
     "output_type": "stream",
     "text": [
      "0% [##############################] 100% | ETA: 00:00:00\n",
      "Total time elapsed: 00:00:02\n"
     ]
    },
    {
     "name": "stdout",
     "output_type": "stream",
     "text": [
      "ME\n"
     ]
    },
    {
     "name": "stderr",
     "output_type": "stream",
     "text": [
      "0% [##############################] 100% | ETA: 00:00:00\n",
      "Total time elapsed: 00:00:05\n"
     ]
    },
    {
     "name": "stdout",
     "output_type": "stream",
     "text": [
      "MD\n"
     ]
    },
    {
     "name": "stderr",
     "output_type": "stream",
     "text": [
      "0% [##############################] 100% | ETA: 00:00:00\n",
      "Total time elapsed: 00:00:02\n"
     ]
    },
    {
     "name": "stdout",
     "output_type": "stream",
     "text": [
      "MD\n"
     ]
    },
    {
     "name": "stderr",
     "output_type": "stream",
     "text": [
      "0% [##############################] 100% | ETA: 00:00:00\n",
      "Total time elapsed: 00:00:06\n"
     ]
    },
    {
     "name": "stdout",
     "output_type": "stream",
     "text": [
      "NLT\n"
     ]
    },
    {
     "name": "stderr",
     "output_type": "stream",
     "text": [
      "0% [##############################] 100% | ETA: 00:00:00\n",
      "Total time elapsed: 00:00:02\n"
     ]
    },
    {
     "name": "stdout",
     "output_type": "stream",
     "text": [
      "NLT\n"
     ]
    },
    {
     "name": "stderr",
     "output_type": "stream",
     "text": [
      "0% [##############################] 100% | ETA: 00:00:00\n",
      "Total time elapsed: 00:00:06\n"
     ]
    },
    {
     "name": "stdout",
     "output_type": "stream",
     "text": [
      "OD\n"
     ]
    },
    {
     "name": "stderr",
     "output_type": "stream",
     "text": [
      "0% [##############################] 100% | ETA: 00:00:00\n",
      "Total time elapsed: 00:00:02\n"
     ]
    },
    {
     "name": "stdout",
     "output_type": "stream",
     "text": [
      "OD\n"
     ]
    },
    {
     "name": "stderr",
     "output_type": "stream",
     "text": [
      "0% [##############################] 100% | ETA: 00:00:00\n",
      "Total time elapsed: 00:00:06\n"
     ]
    },
    {
     "name": "stdout",
     "output_type": "stream",
     "text": [
      "PMF\n"
     ]
    },
    {
     "name": "stderr",
     "output_type": "stream",
     "text": [
      "0% [##############################] 100% | ETA: 00:00:00\n",
      "Total time elapsed: 00:00:02\n"
     ]
    },
    {
     "name": "stdout",
     "output_type": "stream",
     "text": [
      "PMF\n"
     ]
    },
    {
     "name": "stderr",
     "output_type": "stream",
     "text": [
      "0% [##############################] 100% | ETA: 00:00:00\n",
      "Total time elapsed: 00:00:05\n"
     ]
    },
    {
     "name": "stdout",
     "output_type": "stream",
     "text": [
      "POF\n"
     ]
    },
    {
     "name": "stderr",
     "output_type": "stream",
     "text": [
      "0% [##############################] 100% | ETA: 00:00:00\n",
      "Total time elapsed: 00:00:02\n"
     ]
    },
    {
     "name": "stdout",
     "output_type": "stream",
     "text": [
      "POF\n"
     ]
    },
    {
     "name": "stderr",
     "output_type": "stream",
     "text": [
      "0% [##############################] 100% | ETA: 00:00:00\n",
      "Total time elapsed: 00:00:05\n"
     ]
    },
    {
     "name": "stdout",
     "output_type": "stream",
     "text": [
      "TA\n"
     ]
    },
    {
     "name": "stderr",
     "output_type": "stream",
     "text": [
      "0% [##############################] 100% | ETA: 00:00:00\n",
      "Total time elapsed: 00:00:02\n"
     ]
    },
    {
     "name": "stdout",
     "output_type": "stream",
     "text": [
      "TA\n"
     ]
    },
    {
     "name": "stderr",
     "output_type": "stream",
     "text": [
      "0% [##############################] 100% | ETA: 00:00:00\n",
      "Total time elapsed: 00:00:06\n"
     ]
    },
    {
     "name": "stdout",
     "output_type": "stream",
     "text": [
      "TET\n"
     ]
    },
    {
     "name": "stderr",
     "output_type": "stream",
     "text": [
      "0% [##############################] 100% | ETA: 00:00:00\n",
      "Total time elapsed: 00:00:02\n"
     ]
    },
    {
     "name": "stdout",
     "output_type": "stream",
     "text": [
      "TET\n"
     ]
    },
    {
     "name": "stderr",
     "output_type": "stream",
     "text": [
      "0% [##############################] 100% | ETA: 00:00:00\n",
      "Total time elapsed: 00:00:06\n"
     ]
    },
    {
     "name": "stdout",
     "output_type": "stream",
     "text": [
      "ULO\n"
     ]
    },
    {
     "name": "stderr",
     "output_type": "stream",
     "text": [
      "0% [##############################] 100% | ETA: 00:00:00\n",
      "Total time elapsed: 00:00:02\n"
     ]
    },
    {
     "name": "stdout",
     "output_type": "stream",
     "text": [
      "ULO\n"
     ]
    },
    {
     "name": "stderr",
     "output_type": "stream",
     "text": [
      "0% [##############################] 100% | ETA: 00:00:00\n",
      "Total time elapsed: 00:00:05\n"
     ]
    },
    {
     "name": "stdout",
     "output_type": "stream",
     "text": [
      "WD\n"
     ]
    },
    {
     "name": "stderr",
     "output_type": "stream",
     "text": [
      "0% [##############################] 100% | ETA: 00:00:00\n",
      "Total time elapsed: 00:00:02\n"
     ]
    },
    {
     "name": "stdout",
     "output_type": "stream",
     "text": [
      "WD\n"
     ]
    },
    {
     "name": "stderr",
     "output_type": "stream",
     "text": [
      "0% [##############################] 100% | ETA: 00:00:00\n",
      "Total time elapsed: 00:00:05\n"
     ]
    },
    {
     "name": "stdout",
     "output_type": "stream",
     "text": [
      "ALO\n"
     ]
    },
    {
     "name": "stderr",
     "output_type": "stream",
     "text": [
      "0% [##############################] 100% | ETA: 00:00:00\n",
      "Total time elapsed: 00:00:02\n"
     ]
    },
    {
     "name": "stdout",
     "output_type": "stream",
     "text": [
      "ALO\n"
     ]
    },
    {
     "name": "stderr",
     "output_type": "stream",
     "text": [
      "0% [##############################] 100% | ETA: 00:00:00\n",
      "Total time elapsed: 00:00:05\n"
     ]
    },
    {
     "name": "stdout",
     "output_type": "stream",
     "text": [
      "CC\n"
     ]
    },
    {
     "name": "stderr",
     "output_type": "stream",
     "text": [
      "0% [##############################] 100% | ETA: 00:00:00\n",
      "Total time elapsed: 00:00:02\n"
     ]
    },
    {
     "name": "stdout",
     "output_type": "stream",
     "text": [
      "CC\n"
     ]
    },
    {
     "name": "stderr",
     "output_type": "stream",
     "text": [
      "0% [##############################] 100% | ETA: 00:00:00\n",
      "Total time elapsed: 00:00:06\n"
     ]
    },
    {
     "name": "stdout",
     "output_type": "stream",
     "text": [
      "FD\n"
     ]
    },
    {
     "name": "stderr",
     "output_type": "stream",
     "text": [
      "0% [##############################] 100% | ETA: 00:00:00\n",
      "Total time elapsed: 00:00:02\n"
     ]
    },
    {
     "name": "stdout",
     "output_type": "stream",
     "text": [
      "FD\n"
     ]
    },
    {
     "name": "stderr",
     "output_type": "stream",
     "text": [
      "0% [##############################] 100% | ETA: 00:00:00\n",
      "Total time elapsed: 00:00:06\n"
     ]
    },
    {
     "name": "stdout",
     "output_type": "stream",
     "text": [
      "FET\n"
     ]
    },
    {
     "name": "stderr",
     "output_type": "stream",
     "text": [
      "0% [##############################] 100% | ETA: 00:00:00\n",
      "Total time elapsed: 00:00:02\n"
     ]
    },
    {
     "name": "stdout",
     "output_type": "stream",
     "text": [
      "FET\n"
     ]
    },
    {
     "name": "stderr",
     "output_type": "stream",
     "text": [
      "0% [##############################] 100% | ETA: 00:00:00\n",
      "Total time elapsed: 00:00:06\n"
     ]
    },
    {
     "name": "stdout",
     "output_type": "stream",
     "text": [
      "FE\n"
     ]
    },
    {
     "name": "stderr",
     "output_type": "stream",
     "text": [
      "0% [##############################] 100% | ETA: 00:00:00\n",
      "Total time elapsed: 00:00:02\n"
     ]
    },
    {
     "name": "stdout",
     "output_type": "stream",
     "text": [
      "FE\n"
     ]
    },
    {
     "name": "stderr",
     "output_type": "stream",
     "text": [
      "0% [##############################] 100% | ETA: 00:00:00\n",
      "Total time elapsed: 00:00:06\n"
     ]
    },
    {
     "name": "stdout",
     "output_type": "stream",
     "text": [
      "HT\n"
     ]
    },
    {
     "name": "stderr",
     "output_type": "stream",
     "text": [
      "0% [##############################] 100% | ETA: 00:00:00\n",
      "Total time elapsed: 00:00:02\n"
     ]
    },
    {
     "name": "stdout",
     "output_type": "stream",
     "text": [
      "HT\n"
     ]
    },
    {
     "name": "stderr",
     "output_type": "stream",
     "text": [
      "0% [##############################] 100% | ETA: 00:00:00\n",
      "Total time elapsed: 00:00:06\n"
     ]
    },
    {
     "name": "stdout",
     "output_type": "stream",
     "text": [
      "IR\n"
     ]
    },
    {
     "name": "stderr",
     "output_type": "stream",
     "text": [
      "0% [##############################] 100% | ETA: 00:00:00\n",
      "Total time elapsed: 00:00:02\n"
     ]
    },
    {
     "name": "stdout",
     "output_type": "stream",
     "text": [
      "IR\n"
     ]
    },
    {
     "name": "stderr",
     "output_type": "stream",
     "text": [
      "0% [##############################] 100% | ETA: 00:00:00\n",
      "Total time elapsed: 00:00:05\n"
     ]
    },
    {
     "name": "stdout",
     "output_type": "stream",
     "text": [
      "MET\n"
     ]
    },
    {
     "name": "stderr",
     "output_type": "stream",
     "text": [
      "0% [##############################] 100% | ETA: 00:00:00\n",
      "Total time elapsed: 00:00:02\n"
     ]
    },
    {
     "name": "stdout",
     "output_type": "stream",
     "text": [
      "MET\n"
     ]
    },
    {
     "name": "stderr",
     "output_type": "stream",
     "text": [
      "0% [##############################] 100% | ETA: 00:00:00\n",
      "Total time elapsed: 00:00:06\n"
     ]
    },
    {
     "name": "stdout",
     "output_type": "stream",
     "text": [
      "ME\n"
     ]
    },
    {
     "name": "stderr",
     "output_type": "stream",
     "text": [
      "0% [##############################] 100% | ETA: 00:00:00\n",
      "Total time elapsed: 00:00:02\n"
     ]
    },
    {
     "name": "stdout",
     "output_type": "stream",
     "text": [
      "ME\n"
     ]
    },
    {
     "name": "stderr",
     "output_type": "stream",
     "text": [
      "0% [##############################] 100% | ETA: 00:00:00\n",
      "Total time elapsed: 00:00:05\n"
     ]
    },
    {
     "name": "stdout",
     "output_type": "stream",
     "text": [
      "MD\n"
     ]
    },
    {
     "name": "stderr",
     "output_type": "stream",
     "text": [
      "0% [##############################] 100% | ETA: 00:00:00\n",
      "Total time elapsed: 00:00:02\n"
     ]
    },
    {
     "name": "stdout",
     "output_type": "stream",
     "text": [
      "MD\n"
     ]
    },
    {
     "name": "stderr",
     "output_type": "stream",
     "text": [
      "0% [##############################] 100% | ETA: 00:00:00\n",
      "Total time elapsed: 00:00:05\n"
     ]
    },
    {
     "name": "stdout",
     "output_type": "stream",
     "text": [
      "NLT\n"
     ]
    },
    {
     "name": "stderr",
     "output_type": "stream",
     "text": [
      "0% [##############################] 100% | ETA: 00:00:00\n",
      "Total time elapsed: 00:00:02\n"
     ]
    },
    {
     "name": "stdout",
     "output_type": "stream",
     "text": [
      "NLT\n"
     ]
    },
    {
     "name": "stderr",
     "output_type": "stream",
     "text": [
      "0% [##############################] 100% | ETA: 00:00:00\n",
      "Total time elapsed: 00:00:06\n"
     ]
    },
    {
     "name": "stdout",
     "output_type": "stream",
     "text": [
      "OD\n"
     ]
    },
    {
     "name": "stderr",
     "output_type": "stream",
     "text": [
      "0% [##############################] 100% | ETA: 00:00:00\n",
      "Total time elapsed: 00:00:02\n"
     ]
    },
    {
     "name": "stdout",
     "output_type": "stream",
     "text": [
      "OD\n"
     ]
    },
    {
     "name": "stderr",
     "output_type": "stream",
     "text": [
      "0% [##############################] 100% | ETA: 00:00:00\n",
      "Total time elapsed: 00:00:06\n"
     ]
    },
    {
     "name": "stdout",
     "output_type": "stream",
     "text": [
      "PMF\n"
     ]
    },
    {
     "name": "stderr",
     "output_type": "stream",
     "text": [
      "0% [##############################] 100% | ETA: 00:00:00\n",
      "Total time elapsed: 00:00:02\n"
     ]
    },
    {
     "name": "stdout",
     "output_type": "stream",
     "text": [
      "PMF\n"
     ]
    },
    {
     "name": "stderr",
     "output_type": "stream",
     "text": [
      "0% [##############################] 100% | ETA: 00:00:00\n",
      "Total time elapsed: 00:00:06\n"
     ]
    },
    {
     "name": "stdout",
     "output_type": "stream",
     "text": [
      "POF\n"
     ]
    },
    {
     "name": "stderr",
     "output_type": "stream",
     "text": [
      "0% [##############################] 100% | ETA: 00:00:00\n",
      "Total time elapsed: 00:00:02\n"
     ]
    },
    {
     "name": "stdout",
     "output_type": "stream",
     "text": [
      "POF\n"
     ]
    },
    {
     "name": "stderr",
     "output_type": "stream",
     "text": [
      "0% [##############################] 100% | ETA: 00:00:00\n",
      "Total time elapsed: 00:00:06\n"
     ]
    },
    {
     "name": "stdout",
     "output_type": "stream",
     "text": [
      "TA\n"
     ]
    },
    {
     "name": "stderr",
     "output_type": "stream",
     "text": [
      "0% [##############################] 100% | ETA: 00:00:00\n",
      "Total time elapsed: 00:00:02\n"
     ]
    },
    {
     "name": "stdout",
     "output_type": "stream",
     "text": [
      "TA\n"
     ]
    },
    {
     "name": "stderr",
     "output_type": "stream",
     "text": [
      "0% [##############################] 100% | ETA: 00:00:00\n",
      "Total time elapsed: 00:00:06\n"
     ]
    },
    {
     "name": "stdout",
     "output_type": "stream",
     "text": [
      "TET\n"
     ]
    },
    {
     "name": "stderr",
     "output_type": "stream",
     "text": [
      "0% [##############################] 100% | ETA: 00:00:00\n",
      "Total time elapsed: 00:00:02\n"
     ]
    },
    {
     "name": "stdout",
     "output_type": "stream",
     "text": [
      "TET\n"
     ]
    },
    {
     "name": "stderr",
     "output_type": "stream",
     "text": [
      "0% [##############################] 100% | ETA: 00:00:00\n",
      "Total time elapsed: 00:00:06\n"
     ]
    },
    {
     "name": "stdout",
     "output_type": "stream",
     "text": [
      "ULO\n"
     ]
    },
    {
     "name": "stderr",
     "output_type": "stream",
     "text": [
      "0% [##############################] 100% | ETA: 00:00:00\n",
      "Total time elapsed: 00:00:02\n"
     ]
    },
    {
     "name": "stdout",
     "output_type": "stream",
     "text": [
      "ULO\n"
     ]
    },
    {
     "name": "stderr",
     "output_type": "stream",
     "text": [
      "0% [##############################] 100% | ETA: 00:00:00\n",
      "Total time elapsed: 00:00:06\n"
     ]
    },
    {
     "name": "stdout",
     "output_type": "stream",
     "text": [
      "WD\n"
     ]
    },
    {
     "name": "stderr",
     "output_type": "stream",
     "text": [
      "0% [##############################] 100% | ETA: 00:00:00\n",
      "Total time elapsed: 00:00:02\n"
     ]
    },
    {
     "name": "stdout",
     "output_type": "stream",
     "text": [
      "WD\n"
     ]
    },
    {
     "name": "stderr",
     "output_type": "stream",
     "text": [
      "0% [##############################] 100% | ETA: 00:00:00\n",
      "Total time elapsed: 00:00:05\n"
     ]
    },
    {
     "name": "stdout",
     "output_type": "stream",
     "text": [
      "ALO\n"
     ]
    },
    {
     "name": "stderr",
     "output_type": "stream",
     "text": [
      "0% [##############################] 100% | ETA: 00:00:00\n",
      "Total time elapsed: 00:00:02\n"
     ]
    },
    {
     "name": "stdout",
     "output_type": "stream",
     "text": [
      "ALO\n"
     ]
    },
    {
     "name": "stderr",
     "output_type": "stream",
     "text": [
      "0% [##############################] 100% | ETA: 00:00:00\n",
      "Total time elapsed: 00:00:06\n"
     ]
    },
    {
     "name": "stdout",
     "output_type": "stream",
     "text": [
      "CC\n"
     ]
    },
    {
     "name": "stderr",
     "output_type": "stream",
     "text": [
      "0% [##############################] 100% | ETA: 00:00:00\n",
      "Total time elapsed: 00:00:02\n"
     ]
    },
    {
     "name": "stdout",
     "output_type": "stream",
     "text": [
      "CC\n"
     ]
    },
    {
     "name": "stderr",
     "output_type": "stream",
     "text": [
      "0% [##############################] 100% | ETA: 00:00:00\n",
      "Total time elapsed: 00:00:05\n"
     ]
    },
    {
     "name": "stdout",
     "output_type": "stream",
     "text": [
      "FD\n"
     ]
    },
    {
     "name": "stderr",
     "output_type": "stream",
     "text": [
      "0% [##############################] 100% | ETA: 00:00:00\n",
      "Total time elapsed: 00:00:02\n"
     ]
    },
    {
     "name": "stdout",
     "output_type": "stream",
     "text": [
      "FD\n"
     ]
    },
    {
     "name": "stderr",
     "output_type": "stream",
     "text": [
      "0% [##############################] 100% | ETA: 00:00:00\n",
      "Total time elapsed: 00:00:05\n"
     ]
    },
    {
     "name": "stdout",
     "output_type": "stream",
     "text": [
      "FET\n"
     ]
    },
    {
     "name": "stderr",
     "output_type": "stream",
     "text": [
      "0% [##############################] 100% | ETA: 00:00:00\n",
      "Total time elapsed: 00:00:02\n"
     ]
    },
    {
     "name": "stdout",
     "output_type": "stream",
     "text": [
      "FET\n"
     ]
    },
    {
     "name": "stderr",
     "output_type": "stream",
     "text": [
      "0% [##############################] 100% | ETA: 00:00:00\n",
      "Total time elapsed: 00:00:06\n"
     ]
    },
    {
     "name": "stdout",
     "output_type": "stream",
     "text": [
      "FE\n"
     ]
    },
    {
     "name": "stderr",
     "output_type": "stream",
     "text": [
      "0% [##############################] 100% | ETA: 00:00:00\n",
      "Total time elapsed: 00:00:02\n"
     ]
    },
    {
     "name": "stdout",
     "output_type": "stream",
     "text": [
      "FE\n"
     ]
    },
    {
     "name": "stderr",
     "output_type": "stream",
     "text": [
      "0% [##############################] 100% | ETA: 00:00:00\n",
      "Total time elapsed: 00:00:05\n"
     ]
    },
    {
     "name": "stdout",
     "output_type": "stream",
     "text": [
      "HT\n"
     ]
    },
    {
     "name": "stderr",
     "output_type": "stream",
     "text": [
      "0% [##############################] 100% | ETA: 00:00:00\n",
      "Total time elapsed: 00:00:02\n"
     ]
    },
    {
     "name": "stdout",
     "output_type": "stream",
     "text": [
      "HT\n"
     ]
    },
    {
     "name": "stderr",
     "output_type": "stream",
     "text": [
      "0% [##############################] 100% | ETA: 00:00:00\n",
      "Total time elapsed: 00:00:06\n"
     ]
    },
    {
     "name": "stdout",
     "output_type": "stream",
     "text": [
      "IR\n"
     ]
    },
    {
     "name": "stderr",
     "output_type": "stream",
     "text": [
      "0% [##############################] 100% | ETA: 00:00:00\n",
      "Total time elapsed: 00:00:02\n"
     ]
    },
    {
     "name": "stdout",
     "output_type": "stream",
     "text": [
      "IR\n"
     ]
    },
    {
     "name": "stderr",
     "output_type": "stream",
     "text": [
      "0% [##############################] 100% | ETA: 00:00:00\n",
      "Total time elapsed: 00:00:05\n"
     ]
    },
    {
     "name": "stdout",
     "output_type": "stream",
     "text": [
      "MET\n"
     ]
    },
    {
     "name": "stderr",
     "output_type": "stream",
     "text": [
      "0% [##############################] 100% | ETA: 00:00:00\n",
      "Total time elapsed: 00:00:02\n"
     ]
    },
    {
     "name": "stdout",
     "output_type": "stream",
     "text": [
      "MET\n"
     ]
    },
    {
     "name": "stderr",
     "output_type": "stream",
     "text": [
      "0% [##############################] 100% | ETA: 00:00:00\n",
      "Total time elapsed: 00:00:06\n"
     ]
    },
    {
     "name": "stdout",
     "output_type": "stream",
     "text": [
      "ME\n"
     ]
    },
    {
     "name": "stderr",
     "output_type": "stream",
     "text": [
      "0% [##############################] 100% | ETA: 00:00:00\n",
      "Total time elapsed: 00:00:02\n"
     ]
    },
    {
     "name": "stdout",
     "output_type": "stream",
     "text": [
      "ME\n"
     ]
    },
    {
     "name": "stderr",
     "output_type": "stream",
     "text": [
      "0% [##############################] 100% | ETA: 00:00:00\n",
      "Total time elapsed: 00:00:05\n"
     ]
    },
    {
     "name": "stdout",
     "output_type": "stream",
     "text": [
      "MD\n"
     ]
    },
    {
     "name": "stderr",
     "output_type": "stream",
     "text": [
      "0% [##############################] 100% | ETA: 00:00:00\n",
      "Total time elapsed: 00:00:02\n"
     ]
    },
    {
     "name": "stdout",
     "output_type": "stream",
     "text": [
      "MD\n"
     ]
    },
    {
     "name": "stderr",
     "output_type": "stream",
     "text": [
      "0% [##############################] 100% | ETA: 00:00:00\n",
      "Total time elapsed: 00:00:05\n"
     ]
    },
    {
     "name": "stdout",
     "output_type": "stream",
     "text": [
      "NLT\n"
     ]
    },
    {
     "name": "stderr",
     "output_type": "stream",
     "text": [
      "0% [##############################] 100% | ETA: 00:00:00\n",
      "Total time elapsed: 00:00:02\n"
     ]
    },
    {
     "name": "stdout",
     "output_type": "stream",
     "text": [
      "NLT\n"
     ]
    },
    {
     "name": "stderr",
     "output_type": "stream",
     "text": [
      "0% [##############################] 100% | ETA: 00:00:00\n",
      "Total time elapsed: 00:00:05\n"
     ]
    },
    {
     "name": "stdout",
     "output_type": "stream",
     "text": [
      "OD\n"
     ]
    },
    {
     "name": "stderr",
     "output_type": "stream",
     "text": [
      "0% [##############################] 100% | ETA: 00:00:00\n",
      "Total time elapsed: 00:00:02\n"
     ]
    },
    {
     "name": "stdout",
     "output_type": "stream",
     "text": [
      "OD\n"
     ]
    },
    {
     "name": "stderr",
     "output_type": "stream",
     "text": [
      "0% [##############################] 100% | ETA: 00:00:00\n",
      "Total time elapsed: 00:00:05\n"
     ]
    },
    {
     "name": "stdout",
     "output_type": "stream",
     "text": [
      "PMF\n"
     ]
    },
    {
     "name": "stderr",
     "output_type": "stream",
     "text": [
      "0% [##############################] 100% | ETA: 00:00:00\n",
      "Total time elapsed: 00:00:02\n"
     ]
    },
    {
     "name": "stdout",
     "output_type": "stream",
     "text": [
      "PMF\n"
     ]
    },
    {
     "name": "stderr",
     "output_type": "stream",
     "text": [
      "0% [##############################] 100% | ETA: 00:00:00\n",
      "Total time elapsed: 00:00:05\n"
     ]
    },
    {
     "name": "stdout",
     "output_type": "stream",
     "text": [
      "POF\n"
     ]
    },
    {
     "name": "stderr",
     "output_type": "stream",
     "text": [
      "0% [##############################] 100% | ETA: 00:00:00\n",
      "Total time elapsed: 00:00:02\n"
     ]
    },
    {
     "name": "stdout",
     "output_type": "stream",
     "text": [
      "POF\n"
     ]
    },
    {
     "name": "stderr",
     "output_type": "stream",
     "text": [
      "0% [##############################] 100% | ETA: 00:00:00\n",
      "Total time elapsed: 00:00:05\n"
     ]
    },
    {
     "name": "stdout",
     "output_type": "stream",
     "text": [
      "TA\n"
     ]
    },
    {
     "name": "stderr",
     "output_type": "stream",
     "text": [
      "0% [##############################] 100% | ETA: 00:00:00\n",
      "Total time elapsed: 00:00:02\n"
     ]
    },
    {
     "name": "stdout",
     "output_type": "stream",
     "text": [
      "TA\n"
     ]
    },
    {
     "name": "stderr",
     "output_type": "stream",
     "text": [
      "0% [##############################] 100% | ETA: 00:00:00\n",
      "Total time elapsed: 00:00:05\n"
     ]
    },
    {
     "name": "stdout",
     "output_type": "stream",
     "text": [
      "TET\n"
     ]
    },
    {
     "name": "stderr",
     "output_type": "stream",
     "text": [
      "0% [##############################] 100% | ETA: 00:00:00\n",
      "Total time elapsed: 00:00:02\n"
     ]
    },
    {
     "name": "stdout",
     "output_type": "stream",
     "text": [
      "TET\n"
     ]
    },
    {
     "name": "stderr",
     "output_type": "stream",
     "text": [
      "0% [##############################] 100% | ETA: 00:00:00\n",
      "Total time elapsed: 00:00:06\n"
     ]
    },
    {
     "name": "stdout",
     "output_type": "stream",
     "text": [
      "ULO\n"
     ]
    },
    {
     "name": "stderr",
     "output_type": "stream",
     "text": [
      "0% [##############################] 100% | ETA: 00:00:00\n",
      "Total time elapsed: 00:00:02\n"
     ]
    },
    {
     "name": "stdout",
     "output_type": "stream",
     "text": [
      "ULO\n"
     ]
    },
    {
     "name": "stderr",
     "output_type": "stream",
     "text": [
      "0% [##############################] 100% | ETA: 00:00:00\n",
      "Total time elapsed: 00:00:05\n"
     ]
    },
    {
     "name": "stdout",
     "output_type": "stream",
     "text": [
      "WD\n"
     ]
    },
    {
     "name": "stderr",
     "output_type": "stream",
     "text": [
      "0% [##############################] 100% | ETA: 00:00:00\n",
      "Total time elapsed: 00:00:02\n"
     ]
    },
    {
     "name": "stdout",
     "output_type": "stream",
     "text": [
      "WD\n"
     ]
    },
    {
     "name": "stderr",
     "output_type": "stream",
     "text": [
      "0% [##############################] 100% | ETA: 00:00:00\n",
      "Total time elapsed: 00:00:05\n"
     ]
    },
    {
     "name": "stdout",
     "output_type": "stream",
     "text": [
      "ALO\n"
     ]
    },
    {
     "name": "stderr",
     "output_type": "stream",
     "text": [
      "0% [##############################] 100% | ETA: 00:00:00\n",
      "Total time elapsed: 00:00:02\n"
     ]
    },
    {
     "name": "stdout",
     "output_type": "stream",
     "text": [
      "ALO\n"
     ]
    },
    {
     "name": "stderr",
     "output_type": "stream",
     "text": [
      "0% [##############################] 100% | ETA: 00:00:00\n",
      "Total time elapsed: 00:00:05\n"
     ]
    },
    {
     "name": "stdout",
     "output_type": "stream",
     "text": [
      "CC\n"
     ]
    },
    {
     "name": "stderr",
     "output_type": "stream",
     "text": [
      "0% [##############################] 100% | ETA: 00:00:00\n",
      "Total time elapsed: 00:00:02\n"
     ]
    },
    {
     "name": "stdout",
     "output_type": "stream",
     "text": [
      "CC\n"
     ]
    },
    {
     "name": "stderr",
     "output_type": "stream",
     "text": [
      "0% [##############################] 100% | ETA: 00:00:00\n",
      "Total time elapsed: 00:00:06\n"
     ]
    },
    {
     "name": "stdout",
     "output_type": "stream",
     "text": [
      "FD\n"
     ]
    },
    {
     "name": "stderr",
     "output_type": "stream",
     "text": [
      "0% [##############################] 100% | ETA: 00:00:00\n",
      "Total time elapsed: 00:00:02\n"
     ]
    },
    {
     "name": "stdout",
     "output_type": "stream",
     "text": [
      "FD\n"
     ]
    },
    {
     "name": "stderr",
     "output_type": "stream",
     "text": [
      "0% [##############################] 100% | ETA: 00:00:00\n",
      "Total time elapsed: 00:00:06\n"
     ]
    },
    {
     "name": "stdout",
     "output_type": "stream",
     "text": [
      "FET\n"
     ]
    },
    {
     "name": "stderr",
     "output_type": "stream",
     "text": [
      "0% [##############################] 100% | ETA: 00:00:00\n",
      "Total time elapsed: 00:00:02\n"
     ]
    },
    {
     "name": "stdout",
     "output_type": "stream",
     "text": [
      "FET\n"
     ]
    },
    {
     "name": "stderr",
     "output_type": "stream",
     "text": [
      "0% [##############################] 100% | ETA: 00:00:00\n",
      "Total time elapsed: 00:00:06\n"
     ]
    },
    {
     "name": "stdout",
     "output_type": "stream",
     "text": [
      "FE\n"
     ]
    },
    {
     "name": "stderr",
     "output_type": "stream",
     "text": [
      "0% [##############################] 100% | ETA: 00:00:00\n",
      "Total time elapsed: 00:00:02\n"
     ]
    },
    {
     "name": "stdout",
     "output_type": "stream",
     "text": [
      "FE\n"
     ]
    },
    {
     "name": "stderr",
     "output_type": "stream",
     "text": [
      "0% [##############################] 100% | ETA: 00:00:00\n",
      "Total time elapsed: 00:00:06\n"
     ]
    },
    {
     "name": "stdout",
     "output_type": "stream",
     "text": [
      "HT\n"
     ]
    },
    {
     "name": "stderr",
     "output_type": "stream",
     "text": [
      "0% [##############################] 100% | ETA: 00:00:00\n",
      "Total time elapsed: 00:00:02\n"
     ]
    },
    {
     "name": "stdout",
     "output_type": "stream",
     "text": [
      "HT\n"
     ]
    },
    {
     "name": "stderr",
     "output_type": "stream",
     "text": [
      "0% [##############################] 100% | ETA: 00:00:00\n",
      "Total time elapsed: 00:00:06\n"
     ]
    },
    {
     "name": "stdout",
     "output_type": "stream",
     "text": [
      "IR\n"
     ]
    },
    {
     "name": "stderr",
     "output_type": "stream",
     "text": [
      "0% [##############################] 100% | ETA: 00:00:00\n",
      "Total time elapsed: 00:00:02\n"
     ]
    },
    {
     "name": "stdout",
     "output_type": "stream",
     "text": [
      "IR\n"
     ]
    },
    {
     "name": "stderr",
     "output_type": "stream",
     "text": [
      "0% [##############################] 100% | ETA: 00:00:00\n",
      "Total time elapsed: 00:00:05\n"
     ]
    },
    {
     "name": "stdout",
     "output_type": "stream",
     "text": [
      "MET\n"
     ]
    },
    {
     "name": "stderr",
     "output_type": "stream",
     "text": [
      "0% [##############################] 100% | ETA: 00:00:00\n",
      "Total time elapsed: 00:00:02\n"
     ]
    },
    {
     "name": "stdout",
     "output_type": "stream",
     "text": [
      "MET\n"
     ]
    },
    {
     "name": "stderr",
     "output_type": "stream",
     "text": [
      "0% [##############################] 100% | ETA: 00:00:00\n",
      "Total time elapsed: 00:00:06\n"
     ]
    },
    {
     "name": "stdout",
     "output_type": "stream",
     "text": [
      "ME\n"
     ]
    },
    {
     "name": "stderr",
     "output_type": "stream",
     "text": [
      "0% [##############################] 100% | ETA: 00:00:00\n",
      "Total time elapsed: 00:00:02\n"
     ]
    },
    {
     "name": "stdout",
     "output_type": "stream",
     "text": [
      "ME\n"
     ]
    },
    {
     "name": "stderr",
     "output_type": "stream",
     "text": [
      "0% [##############################] 100% | ETA: 00:00:00\n",
      "Total time elapsed: 00:00:06\n"
     ]
    },
    {
     "name": "stdout",
     "output_type": "stream",
     "text": [
      "MD\n"
     ]
    },
    {
     "name": "stderr",
     "output_type": "stream",
     "text": [
      "0% [##############################] 100% | ETA: 00:00:00\n",
      "Total time elapsed: 00:00:02\n"
     ]
    },
    {
     "name": "stdout",
     "output_type": "stream",
     "text": [
      "MD\n"
     ]
    },
    {
     "name": "stderr",
     "output_type": "stream",
     "text": [
      "0% [##############################] 100% | ETA: 00:00:00\n",
      "Total time elapsed: 00:00:06\n"
     ]
    },
    {
     "name": "stdout",
     "output_type": "stream",
     "text": [
      "NLT\n"
     ]
    },
    {
     "name": "stderr",
     "output_type": "stream",
     "text": [
      "0% [##############################] 100% | ETA: 00:00:00\n",
      "Total time elapsed: 00:00:02\n"
     ]
    },
    {
     "name": "stdout",
     "output_type": "stream",
     "text": [
      "NLT\n"
     ]
    },
    {
     "name": "stderr",
     "output_type": "stream",
     "text": [
      "0% [##############################] 100% | ETA: 00:00:00\n",
      "Total time elapsed: 00:00:06\n"
     ]
    },
    {
     "name": "stdout",
     "output_type": "stream",
     "text": [
      "OD\n"
     ]
    },
    {
     "name": "stderr",
     "output_type": "stream",
     "text": [
      "0% [##############################] 100% | ETA: 00:00:00\n",
      "Total time elapsed: 00:00:02\n"
     ]
    },
    {
     "name": "stdout",
     "output_type": "stream",
     "text": [
      "OD\n"
     ]
    },
    {
     "name": "stderr",
     "output_type": "stream",
     "text": [
      "0% [##############################] 100% | ETA: 00:00:00\n",
      "Total time elapsed: 00:00:06\n"
     ]
    },
    {
     "name": "stdout",
     "output_type": "stream",
     "text": [
      "PMF\n"
     ]
    },
    {
     "name": "stderr",
     "output_type": "stream",
     "text": [
      "0% [##############################] 100% | ETA: 00:00:00\n",
      "Total time elapsed: 00:00:02\n"
     ]
    },
    {
     "name": "stdout",
     "output_type": "stream",
     "text": [
      "PMF\n"
     ]
    },
    {
     "name": "stderr",
     "output_type": "stream",
     "text": [
      "0% [##############################] 100% | ETA: 00:00:00\n",
      "Total time elapsed: 00:00:06\n"
     ]
    },
    {
     "name": "stdout",
     "output_type": "stream",
     "text": [
      "POF\n"
     ]
    },
    {
     "name": "stderr",
     "output_type": "stream",
     "text": [
      "0% [##############################] 100% | ETA: 00:00:00\n",
      "Total time elapsed: 00:00:02\n"
     ]
    },
    {
     "name": "stdout",
     "output_type": "stream",
     "text": [
      "POF\n"
     ]
    },
    {
     "name": "stderr",
     "output_type": "stream",
     "text": [
      "0% [##############################] 100% | ETA: 00:00:00\n",
      "Total time elapsed: 00:00:06\n"
     ]
    },
    {
     "name": "stdout",
     "output_type": "stream",
     "text": [
      "TA\n"
     ]
    },
    {
     "name": "stderr",
     "output_type": "stream",
     "text": [
      "0% [##############################] 100% | ETA: 00:00:00\n",
      "Total time elapsed: 00:00:02\n"
     ]
    },
    {
     "name": "stdout",
     "output_type": "stream",
     "text": [
      "TA\n"
     ]
    },
    {
     "name": "stderr",
     "output_type": "stream",
     "text": [
      "0% [##############################] 100% | ETA: 00:00:00\n",
      "Total time elapsed: 00:00:06\n"
     ]
    },
    {
     "name": "stdout",
     "output_type": "stream",
     "text": [
      "TET\n"
     ]
    },
    {
     "name": "stderr",
     "output_type": "stream",
     "text": [
      "0% [##############################] 100% | ETA: 00:00:00\n",
      "Total time elapsed: 00:00:02\n"
     ]
    },
    {
     "name": "stdout",
     "output_type": "stream",
     "text": [
      "TET\n"
     ]
    },
    {
     "name": "stderr",
     "output_type": "stream",
     "text": [
      "0% [##############################] 100% | ETA: 00:00:00\n",
      "Total time elapsed: 00:00:06\n"
     ]
    },
    {
     "name": "stdout",
     "output_type": "stream",
     "text": [
      "ULO\n"
     ]
    },
    {
     "name": "stderr",
     "output_type": "stream",
     "text": [
      "0% [##############################] 100% | ETA: 00:00:00\n",
      "Total time elapsed: 00:00:02\n"
     ]
    },
    {
     "name": "stdout",
     "output_type": "stream",
     "text": [
      "ULO\n"
     ]
    },
    {
     "name": "stderr",
     "output_type": "stream",
     "text": [
      "0% [##############################] 100% | ETA: 00:00:00\n",
      "Total time elapsed: 00:00:06\n"
     ]
    },
    {
     "name": "stdout",
     "output_type": "stream",
     "text": [
      "WD\n"
     ]
    },
    {
     "name": "stderr",
     "output_type": "stream",
     "text": [
      "0% [##############################] 100% | ETA: 00:00:00\n",
      "Total time elapsed: 00:00:02\n"
     ]
    },
    {
     "name": "stdout",
     "output_type": "stream",
     "text": [
      "WD\n"
     ]
    },
    {
     "name": "stderr",
     "output_type": "stream",
     "text": [
      "0% [##############################] 100% | ETA: 00:00:00\n",
      "Total time elapsed: 00:00:05\n"
     ]
    },
    {
     "name": "stdout",
     "output_type": "stream",
     "text": [
      "ALO\n"
     ]
    },
    {
     "name": "stderr",
     "output_type": "stream",
     "text": [
      "0% [##############################] 100% | ETA: 00:00:00\n",
      "Total time elapsed: 00:00:02\n"
     ]
    },
    {
     "name": "stdout",
     "output_type": "stream",
     "text": [
      "ALO\n"
     ]
    },
    {
     "name": "stderr",
     "output_type": "stream",
     "text": [
      "0% [##############################] 100% | ETA: 00:00:00\n",
      "Total time elapsed: 00:00:05\n"
     ]
    },
    {
     "name": "stdout",
     "output_type": "stream",
     "text": [
      "CC\n"
     ]
    },
    {
     "name": "stderr",
     "output_type": "stream",
     "text": [
      "0% [##############################] 100% | ETA: 00:00:00\n",
      "Total time elapsed: 00:00:02\n"
     ]
    },
    {
     "name": "stdout",
     "output_type": "stream",
     "text": [
      "CC\n"
     ]
    },
    {
     "name": "stderr",
     "output_type": "stream",
     "text": [
      "0% [##############################] 100% | ETA: 00:00:00\n",
      "Total time elapsed: 00:00:06\n"
     ]
    },
    {
     "name": "stdout",
     "output_type": "stream",
     "text": [
      "FD\n"
     ]
    },
    {
     "name": "stderr",
     "output_type": "stream",
     "text": [
      "0% [##############################] 100% | ETA: 00:00:00\n",
      "Total time elapsed: 00:00:02\n"
     ]
    },
    {
     "name": "stdout",
     "output_type": "stream",
     "text": [
      "FD\n"
     ]
    },
    {
     "name": "stderr",
     "output_type": "stream",
     "text": [
      "0% [##############################] 100% | ETA: 00:00:00\n",
      "Total time elapsed: 00:00:06\n"
     ]
    },
    {
     "name": "stdout",
     "output_type": "stream",
     "text": [
      "FET\n"
     ]
    },
    {
     "name": "stderr",
     "output_type": "stream",
     "text": [
      "0% [##############################] 100% | ETA: 00:00:00\n",
      "Total time elapsed: 00:00:02\n"
     ]
    },
    {
     "name": "stdout",
     "output_type": "stream",
     "text": [
      "FET\n"
     ]
    },
    {
     "name": "stderr",
     "output_type": "stream",
     "text": [
      "0% [##############################] 100% | ETA: 00:00:00\n",
      "Total time elapsed: 00:00:06\n"
     ]
    },
    {
     "name": "stdout",
     "output_type": "stream",
     "text": [
      "FE\n"
     ]
    },
    {
     "name": "stderr",
     "output_type": "stream",
     "text": [
      "0% [##############################] 100% | ETA: 00:00:00\n",
      "Total time elapsed: 00:00:02\n"
     ]
    },
    {
     "name": "stdout",
     "output_type": "stream",
     "text": [
      "FE\n"
     ]
    },
    {
     "name": "stderr",
     "output_type": "stream",
     "text": [
      "0% [##############################] 100% | ETA: 00:00:00\n",
      "Total time elapsed: 00:00:06\n"
     ]
    },
    {
     "name": "stdout",
     "output_type": "stream",
     "text": [
      "HT\n"
     ]
    },
    {
     "name": "stderr",
     "output_type": "stream",
     "text": [
      "0% [##############################] 100% | ETA: 00:00:00\n",
      "Total time elapsed: 00:00:02\n"
     ]
    },
    {
     "name": "stdout",
     "output_type": "stream",
     "text": [
      "HT\n"
     ]
    },
    {
     "name": "stderr",
     "output_type": "stream",
     "text": [
      "0% [##############################] 100% | ETA: 00:00:00\n",
      "Total time elapsed: 00:00:06\n"
     ]
    },
    {
     "name": "stdout",
     "output_type": "stream",
     "text": [
      "IR\n"
     ]
    },
    {
     "name": "stderr",
     "output_type": "stream",
     "text": [
      "0% [##############################] 100% | ETA: 00:00:00\n",
      "Total time elapsed: 00:00:02\n"
     ]
    },
    {
     "name": "stdout",
     "output_type": "stream",
     "text": [
      "IR\n"
     ]
    },
    {
     "name": "stderr",
     "output_type": "stream",
     "text": [
      "0% [##############################] 100% | ETA: 00:00:00\n",
      "Total time elapsed: 00:00:05\n"
     ]
    },
    {
     "name": "stdout",
     "output_type": "stream",
     "text": [
      "MET\n"
     ]
    },
    {
     "name": "stderr",
     "output_type": "stream",
     "text": [
      "0% [##############################] 100% | ETA: 00:00:00\n",
      "Total time elapsed: 00:00:02\n"
     ]
    },
    {
     "name": "stdout",
     "output_type": "stream",
     "text": [
      "MET\n"
     ]
    },
    {
     "name": "stderr",
     "output_type": "stream",
     "text": [
      "0% [##############################] 100% | ETA: 00:00:00\n",
      "Total time elapsed: 00:00:06\n"
     ]
    },
    {
     "name": "stdout",
     "output_type": "stream",
     "text": [
      "ME\n"
     ]
    },
    {
     "name": "stderr",
     "output_type": "stream",
     "text": [
      "0% [##############################] 100% | ETA: 00:00:00\n",
      "Total time elapsed: 00:00:02\n"
     ]
    },
    {
     "name": "stdout",
     "output_type": "stream",
     "text": [
      "ME\n"
     ]
    },
    {
     "name": "stderr",
     "output_type": "stream",
     "text": [
      "0% [##############################] 100% | ETA: 00:00:00\n",
      "Total time elapsed: 00:00:06\n"
     ]
    },
    {
     "name": "stdout",
     "output_type": "stream",
     "text": [
      "MD\n"
     ]
    },
    {
     "name": "stderr",
     "output_type": "stream",
     "text": [
      "0% [##############################] 100% | ETA: 00:00:00\n",
      "Total time elapsed: 00:00:02\n"
     ]
    },
    {
     "name": "stdout",
     "output_type": "stream",
     "text": [
      "MD\n"
     ]
    },
    {
     "name": "stderr",
     "output_type": "stream",
     "text": [
      "0% [##############################] 100% | ETA: 00:00:00\n",
      "Total time elapsed: 00:00:06\n"
     ]
    },
    {
     "name": "stdout",
     "output_type": "stream",
     "text": [
      "NLT\n"
     ]
    },
    {
     "name": "stderr",
     "output_type": "stream",
     "text": [
      "0% [##############################] 100% | ETA: 00:00:00\n",
      "Total time elapsed: 00:00:02\n"
     ]
    },
    {
     "name": "stdout",
     "output_type": "stream",
     "text": [
      "NLT\n"
     ]
    },
    {
     "name": "stderr",
     "output_type": "stream",
     "text": [
      "0% [##############################] 100% | ETA: 00:00:00\n",
      "Total time elapsed: 00:00:06\n"
     ]
    },
    {
     "name": "stdout",
     "output_type": "stream",
     "text": [
      "OD\n"
     ]
    },
    {
     "name": "stderr",
     "output_type": "stream",
     "text": [
      "0% [##############################] 100% | ETA: 00:00:00\n",
      "Total time elapsed: 00:00:02\n"
     ]
    },
    {
     "name": "stdout",
     "output_type": "stream",
     "text": [
      "OD\n"
     ]
    },
    {
     "name": "stderr",
     "output_type": "stream",
     "text": [
      "0% [##############################] 100% | ETA: 00:00:00\n",
      "Total time elapsed: 00:00:06\n"
     ]
    },
    {
     "name": "stdout",
     "output_type": "stream",
     "text": [
      "PMF\n"
     ]
    },
    {
     "name": "stderr",
     "output_type": "stream",
     "text": [
      "0% [##############################] 100% | ETA: 00:00:00\n",
      "Total time elapsed: 00:00:02\n"
     ]
    },
    {
     "name": "stdout",
     "output_type": "stream",
     "text": [
      "PMF\n"
     ]
    },
    {
     "name": "stderr",
     "output_type": "stream",
     "text": [
      "0% [##############################] 100% | ETA: 00:00:00\n",
      "Total time elapsed: 00:00:06\n"
     ]
    },
    {
     "name": "stdout",
     "output_type": "stream",
     "text": [
      "POF\n"
     ]
    },
    {
     "name": "stderr",
     "output_type": "stream",
     "text": [
      "0% [##############################] 100% | ETA: 00:00:00\n",
      "Total time elapsed: 00:00:02\n"
     ]
    },
    {
     "name": "stdout",
     "output_type": "stream",
     "text": [
      "POF\n"
     ]
    },
    {
     "name": "stderr",
     "output_type": "stream",
     "text": [
      "0% [##############################] 100% | ETA: 00:00:00\n",
      "Total time elapsed: 00:00:06\n"
     ]
    },
    {
     "name": "stdout",
     "output_type": "stream",
     "text": [
      "TA\n"
     ]
    },
    {
     "name": "stderr",
     "output_type": "stream",
     "text": [
      "0% [##############################] 100% | ETA: 00:00:00\n",
      "Total time elapsed: 00:00:02\n"
     ]
    },
    {
     "name": "stdout",
     "output_type": "stream",
     "text": [
      "TA\n"
     ]
    },
    {
     "name": "stderr",
     "output_type": "stream",
     "text": [
      "0% [##############################] 100% | ETA: 00:00:00\n",
      "Total time elapsed: 00:00:05\n"
     ]
    },
    {
     "name": "stdout",
     "output_type": "stream",
     "text": [
      "TET\n"
     ]
    },
    {
     "name": "stderr",
     "output_type": "stream",
     "text": [
      "0% [##############################] 100% | ETA: 00:00:00\n",
      "Total time elapsed: 00:00:02\n"
     ]
    },
    {
     "name": "stdout",
     "output_type": "stream",
     "text": [
      "TET\n"
     ]
    },
    {
     "name": "stderr",
     "output_type": "stream",
     "text": [
      "0% [##############################] 100% | ETA: 00:00:00\n",
      "Total time elapsed: 00:00:06\n"
     ]
    },
    {
     "name": "stdout",
     "output_type": "stream",
     "text": [
      "ULO\n"
     ]
    },
    {
     "name": "stderr",
     "output_type": "stream",
     "text": [
      "0% [##############################] 100% | ETA: 00:00:00\n",
      "Total time elapsed: 00:00:02\n"
     ]
    },
    {
     "name": "stdout",
     "output_type": "stream",
     "text": [
      "ULO\n"
     ]
    },
    {
     "name": "stderr",
     "output_type": "stream",
     "text": [
      "0% [##############################] 100% | ETA: 00:00:00\n",
      "Total time elapsed: 00:00:06\n"
     ]
    },
    {
     "name": "stdout",
     "output_type": "stream",
     "text": [
      "WD\n"
     ]
    },
    {
     "name": "stderr",
     "output_type": "stream",
     "text": [
      "0% [##############################] 100% | ETA: 00:00:00\n",
      "Total time elapsed: 00:00:02\n"
     ]
    },
    {
     "name": "stdout",
     "output_type": "stream",
     "text": [
      "WD\n"
     ]
    },
    {
     "name": "stderr",
     "output_type": "stream",
     "text": [
      "0% [##############################] 100% | ETA: 00:00:00\n",
      "Total time elapsed: 00:00:06\n"
     ]
    },
    {
     "name": "stdout",
     "output_type": "stream",
     "text": [
      "ALO\n"
     ]
    },
    {
     "name": "stderr",
     "output_type": "stream",
     "text": [
      "0% [##############################] 100% | ETA: 00:00:00\n",
      "Total time elapsed: 00:00:02\n"
     ]
    },
    {
     "name": "stdout",
     "output_type": "stream",
     "text": [
      "ALO\n"
     ]
    },
    {
     "name": "stderr",
     "output_type": "stream",
     "text": [
      "0% [##############################] 100% | ETA: 00:00:00\n",
      "Total time elapsed: 00:00:05\n"
     ]
    },
    {
     "name": "stdout",
     "output_type": "stream",
     "text": [
      "CC\n"
     ]
    },
    {
     "name": "stderr",
     "output_type": "stream",
     "text": [
      "0% [##############################] 100% | ETA: 00:00:00\n",
      "Total time elapsed: 00:00:02\n"
     ]
    },
    {
     "name": "stdout",
     "output_type": "stream",
     "text": [
      "CC\n"
     ]
    },
    {
     "name": "stderr",
     "output_type": "stream",
     "text": [
      "0% [##############################] 100% | ETA: 00:00:00\n",
      "Total time elapsed: 00:00:05\n"
     ]
    },
    {
     "name": "stdout",
     "output_type": "stream",
     "text": [
      "FD\n"
     ]
    },
    {
     "name": "stderr",
     "output_type": "stream",
     "text": [
      "0% [##############################] 100% | ETA: 00:00:00\n",
      "Total time elapsed: 00:00:02\n"
     ]
    },
    {
     "name": "stdout",
     "output_type": "stream",
     "text": [
      "FD\n"
     ]
    },
    {
     "name": "stderr",
     "output_type": "stream",
     "text": [
      "0% [##############################] 100% | ETA: 00:00:00\n",
      "Total time elapsed: 00:00:06\n"
     ]
    },
    {
     "name": "stdout",
     "output_type": "stream",
     "text": [
      "FET\n"
     ]
    },
    {
     "name": "stderr",
     "output_type": "stream",
     "text": [
      "0% [##############################] 100% | ETA: 00:00:00\n",
      "Total time elapsed: 00:00:02\n"
     ]
    },
    {
     "name": "stdout",
     "output_type": "stream",
     "text": [
      "FET\n"
     ]
    },
    {
     "name": "stderr",
     "output_type": "stream",
     "text": [
      "0% [##############################] 100% | ETA: 00:00:00\n",
      "Total time elapsed: 00:00:06\n"
     ]
    },
    {
     "name": "stdout",
     "output_type": "stream",
     "text": [
      "FE\n"
     ]
    },
    {
     "name": "stderr",
     "output_type": "stream",
     "text": [
      "0% [##############################] 100% | ETA: 00:00:00\n",
      "Total time elapsed: 00:00:02\n"
     ]
    },
    {
     "name": "stdout",
     "output_type": "stream",
     "text": [
      "FE\n"
     ]
    },
    {
     "name": "stderr",
     "output_type": "stream",
     "text": [
      "0% [##############################] 100% | ETA: 00:00:00\n",
      "Total time elapsed: 00:00:06\n"
     ]
    },
    {
     "name": "stdout",
     "output_type": "stream",
     "text": [
      "HT\n"
     ]
    },
    {
     "name": "stderr",
     "output_type": "stream",
     "text": [
      "0% [##############################] 100% | ETA: 00:00:00\n",
      "Total time elapsed: 00:00:02\n"
     ]
    },
    {
     "name": "stdout",
     "output_type": "stream",
     "text": [
      "HT\n"
     ]
    },
    {
     "name": "stderr",
     "output_type": "stream",
     "text": [
      "0% [##############################] 100% | ETA: 00:00:00\n",
      "Total time elapsed: 00:00:06\n"
     ]
    },
    {
     "name": "stdout",
     "output_type": "stream",
     "text": [
      "IR\n"
     ]
    },
    {
     "name": "stderr",
     "output_type": "stream",
     "text": [
      "0% [##############################] 100% | ETA: 00:00:00\n",
      "Total time elapsed: 00:00:02\n"
     ]
    },
    {
     "name": "stdout",
     "output_type": "stream",
     "text": [
      "IR\n"
     ]
    },
    {
     "name": "stderr",
     "output_type": "stream",
     "text": [
      "0% [##############################] 100% | ETA: 00:00:00\n",
      "Total time elapsed: 00:00:06\n"
     ]
    },
    {
     "name": "stdout",
     "output_type": "stream",
     "text": [
      "MET\n"
     ]
    },
    {
     "name": "stderr",
     "output_type": "stream",
     "text": [
      "0% [##############################] 100% | ETA: 00:00:00\n",
      "Total time elapsed: 00:00:02\n"
     ]
    },
    {
     "name": "stdout",
     "output_type": "stream",
     "text": [
      "MET\n"
     ]
    },
    {
     "name": "stderr",
     "output_type": "stream",
     "text": [
      "0% [##############################] 100% | ETA: 00:00:00\n",
      "Total time elapsed: 00:00:06\n"
     ]
    },
    {
     "name": "stdout",
     "output_type": "stream",
     "text": [
      "ME\n"
     ]
    },
    {
     "name": "stderr",
     "output_type": "stream",
     "text": [
      "0% [##############################] 100% | ETA: 00:00:00\n",
      "Total time elapsed: 00:00:02\n"
     ]
    },
    {
     "name": "stdout",
     "output_type": "stream",
     "text": [
      "ME\n"
     ]
    },
    {
     "name": "stderr",
     "output_type": "stream",
     "text": [
      "0% [##############################] 100% | ETA: 00:00:00\n",
      "Total time elapsed: 00:00:06\n"
     ]
    },
    {
     "name": "stdout",
     "output_type": "stream",
     "text": [
      "MD\n"
     ]
    },
    {
     "name": "stderr",
     "output_type": "stream",
     "text": [
      "0% [##############################] 100% | ETA: 00:00:00\n",
      "Total time elapsed: 00:00:02\n"
     ]
    },
    {
     "name": "stdout",
     "output_type": "stream",
     "text": [
      "MD\n"
     ]
    },
    {
     "name": "stderr",
     "output_type": "stream",
     "text": [
      "0% [##############################] 100% | ETA: 00:00:00\n",
      "Total time elapsed: 00:00:06\n"
     ]
    },
    {
     "name": "stdout",
     "output_type": "stream",
     "text": [
      "NLT\n"
     ]
    },
    {
     "name": "stderr",
     "output_type": "stream",
     "text": [
      "0% [##############################] 100% | ETA: 00:00:00\n",
      "Total time elapsed: 00:00:02\n"
     ]
    },
    {
     "name": "stdout",
     "output_type": "stream",
     "text": [
      "NLT\n"
     ]
    },
    {
     "name": "stderr",
     "output_type": "stream",
     "text": [
      "0% [##############################] 100% | ETA: 00:00:00\n",
      "Total time elapsed: 00:00:06\n"
     ]
    },
    {
     "name": "stdout",
     "output_type": "stream",
     "text": [
      "OD\n"
     ]
    },
    {
     "name": "stderr",
     "output_type": "stream",
     "text": [
      "0% [##############################] 100% | ETA: 00:00:00\n",
      "Total time elapsed: 00:00:02\n"
     ]
    },
    {
     "name": "stdout",
     "output_type": "stream",
     "text": [
      "OD\n"
     ]
    },
    {
     "name": "stderr",
     "output_type": "stream",
     "text": [
      "0% [##############################] 100% | ETA: 00:00:00\n",
      "Total time elapsed: 00:00:06\n"
     ]
    },
    {
     "name": "stdout",
     "output_type": "stream",
     "text": [
      "PMF\n"
     ]
    },
    {
     "name": "stderr",
     "output_type": "stream",
     "text": [
      "0% [##############################] 100% | ETA: 00:00:00\n",
      "Total time elapsed: 00:00:02\n"
     ]
    },
    {
     "name": "stdout",
     "output_type": "stream",
     "text": [
      "PMF\n"
     ]
    },
    {
     "name": "stderr",
     "output_type": "stream",
     "text": [
      "0% [##############################] 100% | ETA: 00:00:00\n",
      "Total time elapsed: 00:00:06\n"
     ]
    },
    {
     "name": "stdout",
     "output_type": "stream",
     "text": [
      "POF\n"
     ]
    },
    {
     "name": "stderr",
     "output_type": "stream",
     "text": [
      "0% [##############################] 100% | ETA: 00:00:00\n",
      "Total time elapsed: 00:00:02\n"
     ]
    },
    {
     "name": "stdout",
     "output_type": "stream",
     "text": [
      "POF\n"
     ]
    },
    {
     "name": "stderr",
     "output_type": "stream",
     "text": [
      "0% [##############################] 100% | ETA: 00:00:00\n",
      "Total time elapsed: 00:00:06\n"
     ]
    },
    {
     "name": "stdout",
     "output_type": "stream",
     "text": [
      "TA\n"
     ]
    },
    {
     "name": "stderr",
     "output_type": "stream",
     "text": [
      "0% [##############################] 100% | ETA: 00:00:00\n",
      "Total time elapsed: 00:00:02\n"
     ]
    },
    {
     "name": "stdout",
     "output_type": "stream",
     "text": [
      "TA\n"
     ]
    },
    {
     "name": "stderr",
     "output_type": "stream",
     "text": [
      "0% [##############################] 100% | ETA: 00:00:00\n",
      "Total time elapsed: 00:00:06\n"
     ]
    },
    {
     "name": "stdout",
     "output_type": "stream",
     "text": [
      "TET\n"
     ]
    },
    {
     "name": "stderr",
     "output_type": "stream",
     "text": [
      "0% [##############################] 100% | ETA: 00:00:00\n",
      "Total time elapsed: 00:00:02\n"
     ]
    },
    {
     "name": "stdout",
     "output_type": "stream",
     "text": [
      "TET\n"
     ]
    },
    {
     "name": "stderr",
     "output_type": "stream",
     "text": [
      "0% [##############################] 100% | ETA: 00:00:00\n",
      "Total time elapsed: 00:00:06\n"
     ]
    },
    {
     "name": "stdout",
     "output_type": "stream",
     "text": [
      "ULO\n"
     ]
    },
    {
     "name": "stderr",
     "output_type": "stream",
     "text": [
      "0% [##############################] 100% | ETA: 00:00:00\n",
      "Total time elapsed: 00:00:02\n"
     ]
    },
    {
     "name": "stdout",
     "output_type": "stream",
     "text": [
      "ULO\n"
     ]
    },
    {
     "name": "stderr",
     "output_type": "stream",
     "text": [
      "0% [##############################] 100% | ETA: 00:00:00\n",
      "Total time elapsed: 00:00:06\n"
     ]
    },
    {
     "name": "stdout",
     "output_type": "stream",
     "text": [
      "WD\n"
     ]
    },
    {
     "name": "stderr",
     "output_type": "stream",
     "text": [
      "0% [##############################] 100% | ETA: 00:00:00\n",
      "Total time elapsed: 00:00:02\n"
     ]
    },
    {
     "name": "stdout",
     "output_type": "stream",
     "text": [
      "WD\n"
     ]
    },
    {
     "name": "stderr",
     "output_type": "stream",
     "text": [
      "0% [##############################] 100% | ETA: 00:00:00\n",
      "Total time elapsed: 00:00:06\n"
     ]
    },
    {
     "name": "stdout",
     "output_type": "stream",
     "text": [
      "ALO\n"
     ]
    },
    {
     "name": "stderr",
     "output_type": "stream",
     "text": [
      "0% [##############################] 100% | ETA: 00:00:00\n",
      "Total time elapsed: 00:00:02\n"
     ]
    },
    {
     "name": "stdout",
     "output_type": "stream",
     "text": [
      "ALO\n"
     ]
    },
    {
     "name": "stderr",
     "output_type": "stream",
     "text": [
      "0% [##############################] 100% | ETA: 00:00:00\n",
      "Total time elapsed: 00:00:05\n"
     ]
    },
    {
     "name": "stdout",
     "output_type": "stream",
     "text": [
      "CC\n"
     ]
    },
    {
     "name": "stderr",
     "output_type": "stream",
     "text": [
      "0% [##############################] 100% | ETA: 00:00:00\n",
      "Total time elapsed: 00:00:02\n"
     ]
    },
    {
     "name": "stdout",
     "output_type": "stream",
     "text": [
      "CC\n"
     ]
    },
    {
     "name": "stderr",
     "output_type": "stream",
     "text": [
      "0% [##############################] 100% | ETA: 00:00:00\n",
      "Total time elapsed: 00:00:06\n"
     ]
    },
    {
     "name": "stdout",
     "output_type": "stream",
     "text": [
      "FD\n"
     ]
    },
    {
     "name": "stderr",
     "output_type": "stream",
     "text": [
      "0% [##############################] 100% | ETA: 00:00:00\n",
      "Total time elapsed: 00:00:02\n"
     ]
    },
    {
     "name": "stdout",
     "output_type": "stream",
     "text": [
      "FD\n"
     ]
    },
    {
     "name": "stderr",
     "output_type": "stream",
     "text": [
      "0% [##############################] 100% | ETA: 00:00:00\n",
      "Total time elapsed: 00:00:06\n"
     ]
    },
    {
     "name": "stdout",
     "output_type": "stream",
     "text": [
      "FET\n"
     ]
    },
    {
     "name": "stderr",
     "output_type": "stream",
     "text": [
      "0% [##############################] 100% | ETA: 00:00:00\n",
      "Total time elapsed: 00:00:02\n"
     ]
    },
    {
     "name": "stdout",
     "output_type": "stream",
     "text": [
      "FET\n"
     ]
    },
    {
     "name": "stderr",
     "output_type": "stream",
     "text": [
      "0% [##############################] 100% | ETA: 00:00:00\n",
      "Total time elapsed: 00:00:06\n"
     ]
    },
    {
     "name": "stdout",
     "output_type": "stream",
     "text": [
      "FE\n"
     ]
    },
    {
     "name": "stderr",
     "output_type": "stream",
     "text": [
      "0% [##############################] 100% | ETA: 00:00:00\n",
      "Total time elapsed: 00:00:02\n"
     ]
    },
    {
     "name": "stdout",
     "output_type": "stream",
     "text": [
      "FE\n"
     ]
    },
    {
     "name": "stderr",
     "output_type": "stream",
     "text": [
      "0% [##############################] 100% | ETA: 00:00:00\n",
      "Total time elapsed: 00:00:06\n"
     ]
    },
    {
     "name": "stdout",
     "output_type": "stream",
     "text": [
      "HT\n"
     ]
    },
    {
     "name": "stderr",
     "output_type": "stream",
     "text": [
      "0% [##############################] 100% | ETA: 00:00:00\n",
      "Total time elapsed: 00:00:02\n"
     ]
    },
    {
     "name": "stdout",
     "output_type": "stream",
     "text": [
      "HT\n"
     ]
    },
    {
     "name": "stderr",
     "output_type": "stream",
     "text": [
      "0% [##############################] 100% | ETA: 00:00:00\n",
      "Total time elapsed: 00:00:06\n"
     ]
    },
    {
     "name": "stdout",
     "output_type": "stream",
     "text": [
      "IR\n"
     ]
    },
    {
     "name": "stderr",
     "output_type": "stream",
     "text": [
      "0% [##############################] 100% | ETA: 00:00:00\n",
      "Total time elapsed: 00:00:02\n"
     ]
    },
    {
     "name": "stdout",
     "output_type": "stream",
     "text": [
      "IR\n"
     ]
    },
    {
     "name": "stderr",
     "output_type": "stream",
     "text": [
      "0% [##############################] 100% | ETA: 00:00:00\n",
      "Total time elapsed: 00:00:06\n"
     ]
    },
    {
     "name": "stdout",
     "output_type": "stream",
     "text": [
      "MET\n"
     ]
    },
    {
     "name": "stderr",
     "output_type": "stream",
     "text": [
      "0% [##############################] 100% | ETA: 00:00:00\n",
      "Total time elapsed: 00:00:02\n"
     ]
    },
    {
     "name": "stdout",
     "output_type": "stream",
     "text": [
      "MET\n"
     ]
    },
    {
     "name": "stderr",
     "output_type": "stream",
     "text": [
      "0% [##############################] 100% | ETA: 00:00:00\n",
      "Total time elapsed: 00:00:06\n"
     ]
    },
    {
     "name": "stdout",
     "output_type": "stream",
     "text": [
      "ME\n"
     ]
    },
    {
     "name": "stderr",
     "output_type": "stream",
     "text": [
      "0% [##############################] 100% | ETA: 00:00:00\n",
      "Total time elapsed: 00:00:02\n"
     ]
    },
    {
     "name": "stdout",
     "output_type": "stream",
     "text": [
      "ME\n"
     ]
    },
    {
     "name": "stderr",
     "output_type": "stream",
     "text": [
      "0% [##############################] 100% | ETA: 00:00:00\n",
      "Total time elapsed: 00:00:06\n"
     ]
    },
    {
     "name": "stdout",
     "output_type": "stream",
     "text": [
      "MD\n"
     ]
    },
    {
     "name": "stderr",
     "output_type": "stream",
     "text": [
      "0% [##############################] 100% | ETA: 00:00:00\n",
      "Total time elapsed: 00:00:02\n"
     ]
    },
    {
     "name": "stdout",
     "output_type": "stream",
     "text": [
      "MD\n"
     ]
    },
    {
     "name": "stderr",
     "output_type": "stream",
     "text": [
      "0% [##############################] 100% | ETA: 00:00:00\n",
      "Total time elapsed: 00:00:05\n"
     ]
    },
    {
     "name": "stdout",
     "output_type": "stream",
     "text": [
      "NLT\n"
     ]
    },
    {
     "name": "stderr",
     "output_type": "stream",
     "text": [
      "0% [##############################] 100% | ETA: 00:00:00\n",
      "Total time elapsed: 00:00:02\n"
     ]
    },
    {
     "name": "stdout",
     "output_type": "stream",
     "text": [
      "NLT\n"
     ]
    },
    {
     "name": "stderr",
     "output_type": "stream",
     "text": [
      "0% [##############################] 100% | ETA: 00:00:00\n",
      "Total time elapsed: 00:00:07\n"
     ]
    },
    {
     "name": "stdout",
     "output_type": "stream",
     "text": [
      "OD\n"
     ]
    },
    {
     "name": "stderr",
     "output_type": "stream",
     "text": [
      "0% [##############################] 100% | ETA: 00:00:00\n",
      "Total time elapsed: 00:00:02\n"
     ]
    },
    {
     "name": "stdout",
     "output_type": "stream",
     "text": [
      "OD\n"
     ]
    },
    {
     "name": "stderr",
     "output_type": "stream",
     "text": [
      "0% [##############################] 100% | ETA: 00:00:00\n",
      "Total time elapsed: 00:00:06\n"
     ]
    },
    {
     "name": "stdout",
     "output_type": "stream",
     "text": [
      "PMF\n"
     ]
    },
    {
     "name": "stderr",
     "output_type": "stream",
     "text": [
      "0% [##############################] 100% | ETA: 00:00:00\n",
      "Total time elapsed: 00:00:02\n"
     ]
    },
    {
     "name": "stdout",
     "output_type": "stream",
     "text": [
      "PMF\n"
     ]
    },
    {
     "name": "stderr",
     "output_type": "stream",
     "text": [
      "0% [##############################] 100% | ETA: 00:00:00\n",
      "Total time elapsed: 00:00:06\n"
     ]
    },
    {
     "name": "stdout",
     "output_type": "stream",
     "text": [
      "POF\n"
     ]
    },
    {
     "name": "stderr",
     "output_type": "stream",
     "text": [
      "0% [##############################] 100% | ETA: 00:00:00\n",
      "Total time elapsed: 00:00:02\n"
     ]
    },
    {
     "name": "stdout",
     "output_type": "stream",
     "text": [
      "POF\n"
     ]
    },
    {
     "name": "stderr",
     "output_type": "stream",
     "text": [
      "0% [##############################] 100% | ETA: 00:00:00\n",
      "Total time elapsed: 00:00:06\n"
     ]
    },
    {
     "name": "stdout",
     "output_type": "stream",
     "text": [
      "TA\n"
     ]
    },
    {
     "name": "stderr",
     "output_type": "stream",
     "text": [
      "0% [##############################] 100% | ETA: 00:00:00\n",
      "Total time elapsed: 00:00:02\n"
     ]
    },
    {
     "name": "stdout",
     "output_type": "stream",
     "text": [
      "TA\n"
     ]
    },
    {
     "name": "stderr",
     "output_type": "stream",
     "text": [
      "0% [##############################] 100% | ETA: 00:00:00\n",
      "Total time elapsed: 00:00:05\n"
     ]
    },
    {
     "name": "stdout",
     "output_type": "stream",
     "text": [
      "TET\n"
     ]
    },
    {
     "name": "stderr",
     "output_type": "stream",
     "text": [
      "0% [##############################] 100% | ETA: 00:00:00\n",
      "Total time elapsed: 00:00:02\n"
     ]
    },
    {
     "name": "stdout",
     "output_type": "stream",
     "text": [
      "TET\n"
     ]
    },
    {
     "name": "stderr",
     "output_type": "stream",
     "text": [
      "0% [##############################] 100% | ETA: 00:00:00\n",
      "Total time elapsed: 00:00:06\n"
     ]
    },
    {
     "name": "stdout",
     "output_type": "stream",
     "text": [
      "ULO\n"
     ]
    },
    {
     "name": "stderr",
     "output_type": "stream",
     "text": [
      "0% [##############################] 100% | ETA: 00:00:00\n",
      "Total time elapsed: 00:00:02\n"
     ]
    },
    {
     "name": "stdout",
     "output_type": "stream",
     "text": [
      "ULO\n"
     ]
    },
    {
     "name": "stderr",
     "output_type": "stream",
     "text": [
      "0% [##############################] 100% | ETA: 00:00:00\n",
      "Total time elapsed: 00:00:05\n"
     ]
    },
    {
     "name": "stdout",
     "output_type": "stream",
     "text": [
      "WD\n"
     ]
    },
    {
     "name": "stderr",
     "output_type": "stream",
     "text": [
      "0% [##############################] 100% | ETA: 00:00:00\n",
      "Total time elapsed: 00:00:02\n"
     ]
    },
    {
     "name": "stdout",
     "output_type": "stream",
     "text": [
      "WD\n"
     ]
    },
    {
     "name": "stderr",
     "output_type": "stream",
     "text": [
      "0% [##############################] 100% | ETA: 00:00:00\n",
      "Total time elapsed: 00:00:05\n"
     ]
    }
   ],
   "source": [
    "electricity_markets_LCIA= {}\n",
    "se_technologies_LCIA= {}\n",
    "\n",
    "for db_name in database_dict:\n",
    "    for category in categories:\n",
    "        electricity_markets_LCIA[(database_dict[db_name]['year'], database_dict[db_name]['scenario'], category)] = lcahelp.LCA_to_df(electricity_markets[db_name], cats = [category])\n",
    "        se_technologies_LCIA[(database_dict[db_name]['year'], database_dict[db_name]['scenario'], category)]     = lcahelp.LCA_to_df(se_technologies[db_name], cats = [category])"
   ]
  },
  {
   "cell_type": "markdown",
   "metadata": {},
   "source": [
    "load the mid to end characterization factors\n",
    "calculate all results and aggregate them to DALYS and ET"
   ]
  },
  {
   "cell_type": "code",
   "execution_count": 24,
   "metadata": {
    "scrolled": true
   },
   "outputs": [
    {
     "data": {
      "text/html": [
       "<div>\n",
       "<style scoped>\n",
       "    .dataframe tbody tr th:only-of-type {\n",
       "        vertical-align: middle;\n",
       "    }\n",
       "\n",
       "    .dataframe tbody tr th {\n",
       "        vertical-align: top;\n",
       "    }\n",
       "\n",
       "    .dataframe thead th {\n",
       "        text-align: right;\n",
       "    }\n",
       "</style>\n",
       "<table border=\"1\" class=\"dataframe\">\n",
       "  <thead>\n",
       "    <tr style=\"text-align: right;\">\n",
       "      <th></th>\n",
       "      <th>Midpoint impact category</th>\n",
       "      <th>Unit</th>\n",
       "      <th>HH_H</th>\n",
       "      <th>ED_H</th>\n",
       "      <th>RA_H</th>\n",
       "    </tr>\n",
       "    <tr>\n",
       "      <th>Code</th>\n",
       "      <th></th>\n",
       "      <th></th>\n",
       "      <th></th>\n",
       "      <th></th>\n",
       "      <th></th>\n",
       "    </tr>\n",
       "  </thead>\n",
       "  <tbody>\n",
       "    <tr>\n",
       "      <th>CC</th>\n",
       "      <td>Climate change</td>\n",
       "      <td>kg CO2 eq</td>\n",
       "      <td>9.280000e-07</td>\n",
       "      <td>2.800000e-09</td>\n",
       "      <td>0.0000</td>\n",
       "    </tr>\n",
       "    <tr>\n",
       "      <th>OD</th>\n",
       "      <td>Ozone depletion</td>\n",
       "      <td>kg CFC-11 eq</td>\n",
       "      <td>5.310000e-04</td>\n",
       "      <td>3.030000e-03</td>\n",
       "      <td>0.0000</td>\n",
       "    </tr>\n",
       "    <tr>\n",
       "      <th>TA</th>\n",
       "      <td>Terrestrial acidification</td>\n",
       "      <td>kg SO2 eq</td>\n",
       "      <td>0.000000e+00</td>\n",
       "      <td>2.120000e-07</td>\n",
       "      <td>0.0000</td>\n",
       "    </tr>\n",
       "    <tr>\n",
       "      <th>FE</th>\n",
       "      <td>Freshwater eutrophication</td>\n",
       "      <td>kg P eq</td>\n",
       "      <td>0.000000e+00</td>\n",
       "      <td>4.440000e-08</td>\n",
       "      <td>0.0000</td>\n",
       "    </tr>\n",
       "    <tr>\n",
       "      <th>HT</th>\n",
       "      <td>Human toxicity</td>\n",
       "      <td>kg 1,4-DB eq</td>\n",
       "      <td>7.000000e-07</td>\n",
       "      <td>0.000000e+00</td>\n",
       "      <td>0.0000</td>\n",
       "    </tr>\n",
       "    <tr>\n",
       "      <th>POF</th>\n",
       "      <td>Photochemical oxidant formation</td>\n",
       "      <td>kg NMVOC</td>\n",
       "      <td>3.900000e-08</td>\n",
       "      <td>0.000000e+00</td>\n",
       "      <td>0.0000</td>\n",
       "    </tr>\n",
       "    <tr>\n",
       "      <th>PMF</th>\n",
       "      <td>Particulate matter formation</td>\n",
       "      <td>kg PM10 eq</td>\n",
       "      <td>2.600000e-04</td>\n",
       "      <td>0.000000e+00</td>\n",
       "      <td>0.0000</td>\n",
       "    </tr>\n",
       "    <tr>\n",
       "      <th>TET</th>\n",
       "      <td>Terrestrial ecotoxicity</td>\n",
       "      <td>kg 1,4-DB eq</td>\n",
       "      <td>0.000000e+00</td>\n",
       "      <td>1.510000e-07</td>\n",
       "      <td>0.0000</td>\n",
       "    </tr>\n",
       "    <tr>\n",
       "      <th>FET</th>\n",
       "      <td>Freshwater ecotoxicity</td>\n",
       "      <td>kg 1,4-DB eq</td>\n",
       "      <td>0.000000e+00</td>\n",
       "      <td>8.610000e-10</td>\n",
       "      <td>0.0000</td>\n",
       "    </tr>\n",
       "    <tr>\n",
       "      <th>MET</th>\n",
       "      <td>Marine ecotoxicity</td>\n",
       "      <td>kg 1,4-DB eq</td>\n",
       "      <td>0.000000e+00</td>\n",
       "      <td>1.760000e-10</td>\n",
       "      <td>0.0000</td>\n",
       "    </tr>\n",
       "    <tr>\n",
       "      <th>IR</th>\n",
       "      <td>Ionising radiation</td>\n",
       "      <td>kg U235 eq</td>\n",
       "      <td>1.640000e-08</td>\n",
       "      <td>0.000000e+00</td>\n",
       "      <td>0.0000</td>\n",
       "    </tr>\n",
       "    <tr>\n",
       "      <th>ALO</th>\n",
       "      <td>Agricultural land occupation</td>\n",
       "      <td>m2a</td>\n",
       "      <td>0.000000e+00</td>\n",
       "      <td>1.490000e-08</td>\n",
       "      <td>0.0000</td>\n",
       "    </tr>\n",
       "    <tr>\n",
       "      <th>ULO</th>\n",
       "      <td>Urban land occupation</td>\n",
       "      <td>m2a</td>\n",
       "      <td>0.000000e+00</td>\n",
       "      <td>2.050000e-08</td>\n",
       "      <td>0.0000</td>\n",
       "    </tr>\n",
       "    <tr>\n",
       "      <th>NLT</th>\n",
       "      <td>Natural land transformation</td>\n",
       "      <td>m2</td>\n",
       "      <td>0.000000e+00</td>\n",
       "      <td>1.920000e-06</td>\n",
       "      <td>0.0000</td>\n",
       "    </tr>\n",
       "    <tr>\n",
       "      <th>FD</th>\n",
       "      <td>Fossil depletion</td>\n",
       "      <td>kg oil eq</td>\n",
       "      <td>0.000000e+00</td>\n",
       "      <td>0.000000e+00</td>\n",
       "      <td>0.1650</td>\n",
       "    </tr>\n",
       "    <tr>\n",
       "      <th>MD</th>\n",
       "      <td>Metal depletion</td>\n",
       "      <td>kg Fe eq</td>\n",
       "      <td>0.000000e+00</td>\n",
       "      <td>0.000000e+00</td>\n",
       "      <td>0.0715</td>\n",
       "    </tr>\n",
       "    <tr>\n",
       "      <th>ME</th>\n",
       "      <td>Marine eutrophication</td>\n",
       "      <td>kg N eq</td>\n",
       "      <td>0.000000e+00</td>\n",
       "      <td>0.000000e+00</td>\n",
       "      <td>0.0000</td>\n",
       "    </tr>\n",
       "    <tr>\n",
       "      <th>WD</th>\n",
       "      <td>Water depletion</td>\n",
       "      <td>m3</td>\n",
       "      <td>2.220000e-06</td>\n",
       "      <td>1.350000e-08</td>\n",
       "      <td>0.0000</td>\n",
       "    </tr>\n",
       "  </tbody>\n",
       "</table>\n",
       "</div>"
      ],
      "text/plain": [
       "             Midpoint impact category          Unit          HH_H  \\\n",
       "Code                                                                \n",
       "CC                     Climate change     kg CO2 eq  9.280000e-07   \n",
       "OD                    Ozone depletion  kg CFC-11 eq  5.310000e-04   \n",
       "TA          Terrestrial acidification     kg SO2 eq  0.000000e+00   \n",
       "FE          Freshwater eutrophication       kg P eq  0.000000e+00   \n",
       "HT                     Human toxicity  kg 1,4-DB eq  7.000000e-07   \n",
       "POF   Photochemical oxidant formation      kg NMVOC  3.900000e-08   \n",
       "PMF      Particulate matter formation    kg PM10 eq  2.600000e-04   \n",
       "TET           Terrestrial ecotoxicity  kg 1,4-DB eq  0.000000e+00   \n",
       "FET            Freshwater ecotoxicity  kg 1,4-DB eq  0.000000e+00   \n",
       "MET                Marine ecotoxicity  kg 1,4-DB eq  0.000000e+00   \n",
       "IR                 Ionising radiation    kg U235 eq  1.640000e-08   \n",
       "ALO      Agricultural land occupation           m2a  0.000000e+00   \n",
       "ULO             Urban land occupation           m2a  0.000000e+00   \n",
       "NLT       Natural land transformation            m2  0.000000e+00   \n",
       "FD                   Fossil depletion     kg oil eq  0.000000e+00   \n",
       "MD                    Metal depletion      kg Fe eq  0.000000e+00   \n",
       "ME              Marine eutrophication       kg N eq  0.000000e+00   \n",
       "WD                    Water depletion            m3  2.220000e-06   \n",
       "\n",
       "              ED_H    RA_H  \n",
       "Code                        \n",
       "CC    2.800000e-09  0.0000  \n",
       "OD    3.030000e-03  0.0000  \n",
       "TA    2.120000e-07  0.0000  \n",
       "FE    4.440000e-08  0.0000  \n",
       "HT    0.000000e+00  0.0000  \n",
       "POF   0.000000e+00  0.0000  \n",
       "PMF   0.000000e+00  0.0000  \n",
       "TET   1.510000e-07  0.0000  \n",
       "FET   8.610000e-10  0.0000  \n",
       "MET   1.760000e-10  0.0000  \n",
       "IR    0.000000e+00  0.0000  \n",
       "ALO   1.490000e-08  0.0000  \n",
       "ULO   2.050000e-08  0.0000  \n",
       "NLT   1.920000e-06  0.0000  \n",
       "FD    0.000000e+00  0.1650  \n",
       "MD    0.000000e+00  0.0715  \n",
       "ME    0.000000e+00  0.0000  \n",
       "WD    1.350000e-08  0.0000  "
      ]
     },
     "execution_count": 24,
     "metadata": {},
     "output_type": "execute_result"
    }
   ],
   "source": [
    "mid_end = pd.read_csv(\"data\\\\recipe_mid_to_end.csv\", sep = ';', index_col = 0) \n",
    "mid_end\n"
   ]
  },
  {
   "cell_type": "code",
   "execution_count": 25,
   "metadata": {},
   "outputs": [],
   "source": [
    "end_categories = ['HH_H', 'ED_H', 'RA_H'] \n",
    "    "
   ]
  },
  {
   "cell_type": "code",
   "execution_count": 26,
   "metadata": {},
   "outputs": [],
   "source": [
    "end_mid_electricity_markets = {}\n",
    "end_mid_se_technologies = {}\n",
    "for db_name in database_dict:        \n",
    "    for end_category in end_categories:\n",
    "        for category in categories:\n",
    "                    \n",
    "            end_mid_electricity_markets[(database_dict[db_name]['year'], database_dict[db_name]['scenario'],  end_category, category)] = electricity_markets_LCIA[(database_dict[db_name]['year'], database_dict[db_name]['scenario'], category)]\n",
    "            end_mid_se_technologies[(database_dict[db_name]['year'], database_dict[db_name]['scenario'],  end_category, category)]     = se_technologies_LCIA[(database_dict[db_name]['year'], database_dict[db_name]['scenario'], category)]                                                                               \n"
   ]
  },
  {
   "cell_type": "code",
   "execution_count": 29,
   "metadata": {
    "scrolled": false
   },
   "outputs": [
    {
     "name": "stderr",
     "output_type": "stream",
     "text": [
      "C:\\Users\\rauner\\AppData\\Local\\Continuum\\miniconda3\\lib\\site-packages\\ipykernel_launcher.py:1: FutureWarning: Sorting because non-concatenation axis is not aligned. A future version\n",
      "of pandas will change to not sort by default.\n",
      "\n",
      "To accept the future behavior, pass 'sort=False'.\n",
      "\n",
      "To retain the current behavior and silence the warning, pass 'sort=True'.\n",
      "\n",
      "  \"\"\"Entry point for launching an IPython kernel.\n",
      "C:\\Users\\rauner\\AppData\\Local\\Continuum\\miniconda3\\lib\\site-packages\\ipykernel_launcher.py:2: FutureWarning: Sorting because non-concatenation axis is not aligned. A future version\n",
      "of pandas will change to not sort by default.\n",
      "\n",
      "To accept the future behavior, pass 'sort=False'.\n",
      "\n",
      "To retain the current behavior and silence the warning, pass 'sort=True'.\n",
      "\n",
      "  \n"
     ]
    }
   ],
   "source": [
    "end_end_electricity_markets = pd.concat(end_mid_electricity_markets, names=['period','scenario','end_category', 'category', 'variable'])\n",
    "end_end_se_technologies     = pd.concat(end_mid_se_technologies, names=['period','scenario','end_category', 'category', 'variable'])"
   ]
  },
  {
   "cell_type": "markdown",
   "metadata": {},
   "source": [
    "sum up all end categories"
   ]
  },
  {
   "cell_type": "code",
   "execution_count": 30,
   "metadata": {},
   "outputs": [],
   "source": [
    "end_end_electricity_markets = end_end_electricity_markets.groupby(['period','scenario', 'end_category', 'variable']).sum()\n",
    "end_end_se_technologies     = end_end_se_technologies.groupby(['period','scenario', 'end_category', 'variable']).sum()"
   ]
  },
  {
   "cell_type": "code",
   "execution_count": 31,
   "metadata": {},
   "outputs": [],
   "source": [
    "end_end_electricity_markets['total'] = end_end_electricity_markets.sum(axis = 1)\n",
    "end_end_se_technologies['total']     = end_end_se_technologies.sum(axis = 1)"
   ]
  },
  {
   "cell_type": "code",
   "execution_count": 32,
   "metadata": {},
   "outputs": [],
   "source": [
    "end_end_electricity_markets.to_csv('interm\\\\lca_electricity_markets_per_tec_end_points' + project + '.csv', sep=';')\n",
    "end_end_se_technologies.to_csv('interm\\\\lca_se_technologies_per_tec_end_points' + project + '.csv', sep=';')"
   ]
  },
  {
   "cell_type": "code",
   "execution_count": 33,
   "metadata": {
    "scrolled": true
   },
   "outputs": [],
   "source": [
    "end_end_electricity_markets  = pd.read_csv('interm\\\\lca_electricity_markets_per_tec_end_points' + project + '.csv', sep = ';') \n",
    "end_end_se_technologies      = pd.read_csv('interm\\\\lca_se_technologies_per_tec_end_points' + project + '.csv', sep = ';') "
   ]
  },
  {
   "cell_type": "markdown",
   "metadata": {},
   "source": [
    "add location"
   ]
  },
  {
   "cell_type": "code",
   "execution_count": 34,
   "metadata": {},
   "outputs": [],
   "source": [
    "end_end_electricity_markets['ecoinvent'] = end_end_electricity_markets['variable'].str.split(\",\").str[2].str.split(\"'\").str[1].str.split(\"-\").str[0]\n",
    "end_end_se_technologies['ecoinvent']     = end_end_se_technologies['variable'].str.split(\",\").str[-1].str.split(\"'\").str[1].str.split(\"-\").str[0]"
   ]
  },
  {
   "cell_type": "markdown",
   "metadata": {},
   "source": [
    "match REMIND locations"
   ]
  },
  {
   "cell_type": "code",
   "execution_count": 35,
   "metadata": {},
   "outputs": [],
   "source": [
    "end_end_electricity_markets['variable'] = end_end_electricity_markets['variable'].str.split(\",\").str[0].str.split(\"'\").str[1]\n",
    "end_end_se_technologies['variable'] = end_end_se_technologies['variable'].str.split(\"'\").str[1]"
   ]
  },
  {
   "cell_type": "code",
   "execution_count": 36,
   "metadata": {
    "scrolled": true
   },
   "outputs": [],
   "source": [
    "region_mapping_elec     = pd.read_csv(\"data\\\\regionmappingREMIND_noFullISO_elec.csv\", sep = ';', index_col = 0)\n",
    "region_mapping_se       = pd.read_csv(\"data\\\\regionmappingREMIND_noFullISO_se.csv\", sep = ';', index_col = 0)\n",
    "region_mapping_se_world = pd.read_csv(\"data\\\\regionmappingREMIND_noFullISO_se_world.csv\", sep = ';', index_col = False)"
   ]
  },
  {
   "cell_type": "code",
   "execution_count": 37,
   "metadata": {},
   "outputs": [],
   "source": [
    "end_end_electricity_markets = pd.merge(end_end_electricity_markets, region_mapping_elec, on= \"ecoinvent\", how= \"inner\")\n",
    "end_end_se_technologies = pd.merge(end_end_se_technologies, region_mapping_se, on= \"ecoinvent\", how= \"inner\")"
   ]
  },
  {
   "cell_type": "markdown",
   "metadata": {},
   "source": [
    "average over multiple ecoinvent locations, we have India with several grids for example"
   ]
  },
  {
   "cell_type": "code",
   "execution_count": 38,
   "metadata": {},
   "outputs": [],
   "source": [
    "#end_end_electricity_markets.groupby(['period','scenario', 'end_category', 'variable','ecoinvent', 'CountryCode', 'RegionCode']).mean()\n",
    "#end_end_se_technologies.groupby(['period','scenario', 'end_category', 'variable','ecoinvent', 'CountryCode', 'RegionCode']).mean()"
   ]
  },
  {
   "cell_type": "code",
   "execution_count": 39,
   "metadata": {},
   "outputs": [],
   "source": [
    "end_end_electricity_markets = end_end_electricity_markets.groupby(['period','scenario', 'end_category', 'variable', 'RegionCode']).mean()\n",
    "end_end_se_technologies = end_end_se_technologies.groupby(['period','scenario', 'end_category', 'variable', 'RegionCode']).mean()"
   ]
  },
  {
   "cell_type": "markdown",
   "metadata": {},
   "source": [
    "## put the world values here for all REMIND regions for the non electricity se technologies"
   ]
  },
  {
   "cell_type": "code",
   "execution_count": 40,
   "metadata": {},
   "outputs": [],
   "source": [
    "end_end_se_technologies.to_csv('interm\\\\lca_mid_points.csv', sep=';')\n",
    "end_end_se_technologies = pd.read_csv(\"interm\\\\lca_mid_points.csv\", sep = ';') \n",
    "end_end_electricity_markets.to_csv('interm\\\\lca_mid_points.csv', sep=';')\n",
    "end_end_electricity_markets = pd.read_csv(\"interm\\\\lca_mid_points.csv\", sep = ';')"
   ]
  },
  {
   "cell_type": "code",
   "execution_count": 41,
   "metadata": {},
   "outputs": [],
   "source": [
    "end_end_se_technologies = pd.merge(end_end_se_technologies, region_mapping_se_world,  left_on=['RegionCode'], right_on=['World'], how= \"right\")"
   ]
  },
  {
   "cell_type": "code",
   "execution_count": 42,
   "metadata": {},
   "outputs": [],
   "source": [
    "end_end_se_technologies['RegionCode'] = end_end_se_technologies['Remind']\n",
    "#delte World and -- column\n",
    "#end_end_se_technologies = end_end_se_technologies.drop('World', 1)\n",
    "end_end_se_technologies = end_end_se_technologies.drop('World', 1)\n",
    "end_end_se_technologies = end_end_se_technologies.drop('Remind', 1)"
   ]
  },
  {
   "cell_type": "code",
   "execution_count": 43,
   "metadata": {},
   "outputs": [],
   "source": [
    "end_end = end_end_electricity_markets.append(end_end_se_technologies)"
   ]
  },
  {
   "cell_type": "code",
   "execution_count": 44,
   "metadata": {
    "scrolled": true
   },
   "outputs": [
    {
     "data": {
      "text/html": [
       "<div>\n",
       "<style scoped>\n",
       "    .dataframe tbody tr th:only-of-type {\n",
       "        vertical-align: middle;\n",
       "    }\n",
       "\n",
       "    .dataframe tbody tr th {\n",
       "        vertical-align: top;\n",
       "    }\n",
       "\n",
       "    .dataframe thead th {\n",
       "        text-align: right;\n",
       "    }\n",
       "</style>\n",
       "<table border=\"1\" class=\"dataframe\">\n",
       "  <thead>\n",
       "    <tr style=\"text-align: right;\">\n",
       "      <th></th>\n",
       "      <th>period</th>\n",
       "      <th>scenario</th>\n",
       "      <th>end_category</th>\n",
       "      <th>variable</th>\n",
       "      <th>RegionCode</th>\n",
       "      <th>ALO</th>\n",
       "      <th>CC</th>\n",
       "      <th>FD</th>\n",
       "      <th>FE</th>\n",
       "      <th>FET</th>\n",
       "      <th>...</th>\n",
       "      <th>MET</th>\n",
       "      <th>NLT</th>\n",
       "      <th>OD</th>\n",
       "      <th>PMF</th>\n",
       "      <th>POF</th>\n",
       "      <th>TA</th>\n",
       "      <th>TET</th>\n",
       "      <th>ULO</th>\n",
       "      <th>WD</th>\n",
       "      <th>total</th>\n",
       "    </tr>\n",
       "  </thead>\n",
       "  <tbody>\n",
       "    <tr>\n",
       "      <th>0</th>\n",
       "      <td>2015</td>\n",
       "      <td>ecoinvent</td>\n",
       "      <td>ED_H</td>\n",
       "      <td>market for electricity</td>\n",
       "      <td>AFR</td>\n",
       "      <td>0.001729</td>\n",
       "      <td>0.439718</td>\n",
       "      <td>0.150836</td>\n",
       "      <td>0.000115</td>\n",
       "      <td>0.002545</td>\n",
       "      <td>...</td>\n",
       "      <td>0.002611</td>\n",
       "      <td>0.000095</td>\n",
       "      <td>4.198364e-08</td>\n",
       "      <td>0.000892</td>\n",
       "      <td>0.001449</td>\n",
       "      <td>0.002575</td>\n",
       "      <td>0.000032</td>\n",
       "      <td>0.001414</td>\n",
       "      <td>0.000932</td>\n",
       "      <td>0.730810</td>\n",
       "    </tr>\n",
       "    <tr>\n",
       "      <th>1</th>\n",
       "      <td>2015</td>\n",
       "      <td>ecoinvent</td>\n",
       "      <td>ED_H</td>\n",
       "      <td>market for electricity</td>\n",
       "      <td>CHN</td>\n",
       "      <td>0.011656</td>\n",
       "      <td>0.878965</td>\n",
       "      <td>0.213994</td>\n",
       "      <td>0.000275</td>\n",
       "      <td>0.006721</td>\n",
       "      <td>...</td>\n",
       "      <td>0.006414</td>\n",
       "      <td>0.000043</td>\n",
       "      <td>9.639478e-09</td>\n",
       "      <td>0.001888</td>\n",
       "      <td>0.002891</td>\n",
       "      <td>0.004398</td>\n",
       "      <td>0.000027</td>\n",
       "      <td>0.008280</td>\n",
       "      <td>0.002890</td>\n",
       "      <td>1.428306</td>\n",
       "    </tr>\n",
       "    <tr>\n",
       "      <th>2</th>\n",
       "      <td>2015</td>\n",
       "      <td>ecoinvent</td>\n",
       "      <td>ED_H</td>\n",
       "      <td>market for electricity</td>\n",
       "      <td>EUR</td>\n",
       "      <td>0.054339</td>\n",
       "      <td>0.569361</td>\n",
       "      <td>0.170895</td>\n",
       "      <td>0.000550</td>\n",
       "      <td>0.009180</td>\n",
       "      <td>...</td>\n",
       "      <td>0.008971</td>\n",
       "      <td>0.000087</td>\n",
       "      <td>5.997834e-08</td>\n",
       "      <td>0.001279</td>\n",
       "      <td>0.001548</td>\n",
       "      <td>0.003521</td>\n",
       "      <td>0.000029</td>\n",
       "      <td>0.002380</td>\n",
       "      <td>0.002569</td>\n",
       "      <td>1.391724</td>\n",
       "    </tr>\n",
       "    <tr>\n",
       "      <th>3</th>\n",
       "      <td>2015</td>\n",
       "      <td>ecoinvent</td>\n",
       "      <td>ED_H</td>\n",
       "      <td>market for electricity</td>\n",
       "      <td>IND</td>\n",
       "      <td>0.016062</td>\n",
       "      <td>1.280238</td>\n",
       "      <td>0.391177</td>\n",
       "      <td>0.000632</td>\n",
       "      <td>0.011600</td>\n",
       "      <td>...</td>\n",
       "      <td>0.011009</td>\n",
       "      <td>0.000144</td>\n",
       "      <td>1.741131e-08</td>\n",
       "      <td>0.003447</td>\n",
       "      <td>0.003423</td>\n",
       "      <td>0.004719</td>\n",
       "      <td>0.000026</td>\n",
       "      <td>0.011272</td>\n",
       "      <td>0.004488</td>\n",
       "      <td>2.246514</td>\n",
       "    </tr>\n",
       "    <tr>\n",
       "      <th>4</th>\n",
       "      <td>2015</td>\n",
       "      <td>ecoinvent</td>\n",
       "      <td>ED_H</td>\n",
       "      <td>market for electricity</td>\n",
       "      <td>JPN</td>\n",
       "      <td>0.026135</td>\n",
       "      <td>0.757570</td>\n",
       "      <td>0.228966</td>\n",
       "      <td>0.000141</td>\n",
       "      <td>0.004030</td>\n",
       "      <td>...</td>\n",
       "      <td>0.003059</td>\n",
       "      <td>0.000270</td>\n",
       "      <td>2.431217e-08</td>\n",
       "      <td>0.000947</td>\n",
       "      <td>0.001913</td>\n",
       "      <td>0.003083</td>\n",
       "      <td>0.000042</td>\n",
       "      <td>0.003885</td>\n",
       "      <td>0.001848</td>\n",
       "      <td>1.179258</td>\n",
       "    </tr>\n",
       "    <tr>\n",
       "      <th>5</th>\n",
       "      <td>2015</td>\n",
       "      <td>ecoinvent</td>\n",
       "      <td>ED_H</td>\n",
       "      <td>market for electricity</td>\n",
       "      <td>LAM</td>\n",
       "      <td>0.031180</td>\n",
       "      <td>0.464673</td>\n",
       "      <td>0.158504</td>\n",
       "      <td>0.000060</td>\n",
       "      <td>0.001719</td>\n",
       "      <td>...</td>\n",
       "      <td>0.001839</td>\n",
       "      <td>0.000143</td>\n",
       "      <td>5.399119e-08</td>\n",
       "      <td>0.001132</td>\n",
       "      <td>0.001576</td>\n",
       "      <td>0.002649</td>\n",
       "      <td>0.000042</td>\n",
       "      <td>0.002528</td>\n",
       "      <td>0.000922</td>\n",
       "      <td>0.771723</td>\n",
       "    </tr>\n",
       "    <tr>\n",
       "      <th>6</th>\n",
       "      <td>2015</td>\n",
       "      <td>ecoinvent</td>\n",
       "      <td>ED_H</td>\n",
       "      <td>market for electricity</td>\n",
       "      <td>MEA</td>\n",
       "      <td>0.001667</td>\n",
       "      <td>0.652324</td>\n",
       "      <td>0.246513</td>\n",
       "      <td>0.000063</td>\n",
       "      <td>0.002090</td>\n",
       "      <td>...</td>\n",
       "      <td>0.002026</td>\n",
       "      <td>0.000159</td>\n",
       "      <td>5.694385e-08</td>\n",
       "      <td>0.000804</td>\n",
       "      <td>0.001613</td>\n",
       "      <td>0.002568</td>\n",
       "      <td>0.000039</td>\n",
       "      <td>0.001522</td>\n",
       "      <td>0.001714</td>\n",
       "      <td>1.029387</td>\n",
       "    </tr>\n",
       "    <tr>\n",
       "      <th>7</th>\n",
       "      <td>2015</td>\n",
       "      <td>ecoinvent</td>\n",
       "      <td>ED_H</td>\n",
       "      <td>market for electricity</td>\n",
       "      <td>OAS</td>\n",
       "      <td>0.005965</td>\n",
       "      <td>0.621784</td>\n",
       "      <td>0.198495</td>\n",
       "      <td>0.000414</td>\n",
       "      <td>0.007612</td>\n",
       "      <td>...</td>\n",
       "      <td>0.007177</td>\n",
       "      <td>0.000076</td>\n",
       "      <td>2.610363e-08</td>\n",
       "      <td>0.002857</td>\n",
       "      <td>0.001562</td>\n",
       "      <td>0.002577</td>\n",
       "      <td>0.000020</td>\n",
       "      <td>0.003618</td>\n",
       "      <td>0.002253</td>\n",
       "      <td>1.184256</td>\n",
       "    </tr>\n",
       "    <tr>\n",
       "      <th>8</th>\n",
       "      <td>2015</td>\n",
       "      <td>ecoinvent</td>\n",
       "      <td>ED_H</td>\n",
       "      <td>market for electricity</td>\n",
       "      <td>ROW</td>\n",
       "      <td>0.007997</td>\n",
       "      <td>0.492364</td>\n",
       "      <td>0.145093</td>\n",
       "      <td>0.000442</td>\n",
       "      <td>0.007515</td>\n",
       "      <td>...</td>\n",
       "      <td>0.007246</td>\n",
       "      <td>0.000105</td>\n",
       "      <td>3.359243e-08</td>\n",
       "      <td>0.001328</td>\n",
       "      <td>0.001498</td>\n",
       "      <td>0.003302</td>\n",
       "      <td>0.000025</td>\n",
       "      <td>0.001973</td>\n",
       "      <td>0.002387</td>\n",
       "      <td>1.075239</td>\n",
       "    </tr>\n",
       "    <tr>\n",
       "      <th>9</th>\n",
       "      <td>2015</td>\n",
       "      <td>ecoinvent</td>\n",
       "      <td>ED_H</td>\n",
       "      <td>market for electricity</td>\n",
       "      <td>RUS</td>\n",
       "      <td>0.006503</td>\n",
       "      <td>0.688144</td>\n",
       "      <td>0.259432</td>\n",
       "      <td>0.000216</td>\n",
       "      <td>0.004316</td>\n",
       "      <td>...</td>\n",
       "      <td>0.003815</td>\n",
       "      <td>0.000145</td>\n",
       "      <td>5.436389e-08</td>\n",
       "      <td>0.001113</td>\n",
       "      <td>0.001363</td>\n",
       "      <td>0.001946</td>\n",
       "      <td>0.000016</td>\n",
       "      <td>0.001889</td>\n",
       "      <td>0.002682</td>\n",
       "      <td>1.269723</td>\n",
       "    </tr>\n",
       "    <tr>\n",
       "      <th>10</th>\n",
       "      <td>2015</td>\n",
       "      <td>ecoinvent</td>\n",
       "      <td>ED_H</td>\n",
       "      <td>market for electricity</td>\n",
       "      <td>USA</td>\n",
       "      <td>0.010061</td>\n",
       "      <td>0.670834</td>\n",
       "      <td>0.202009</td>\n",
       "      <td>0.000579</td>\n",
       "      <td>0.010632</td>\n",
       "      <td>...</td>\n",
       "      <td>0.009273</td>\n",
       "      <td>0.000064</td>\n",
       "      <td>5.185545e-08</td>\n",
       "      <td>0.002212</td>\n",
       "      <td>0.001139</td>\n",
       "      <td>0.002187</td>\n",
       "      <td>0.000038</td>\n",
       "      <td>0.002753</td>\n",
       "      <td>0.002832</td>\n",
       "      <td>1.433476</td>\n",
       "    </tr>\n",
       "    <tr>\n",
       "      <th>11</th>\n",
       "      <td>2015</td>\n",
       "      <td>ecoinvent</td>\n",
       "      <td>HH_H</td>\n",
       "      <td>market for electricity</td>\n",
       "      <td>AFR</td>\n",
       "      <td>0.001729</td>\n",
       "      <td>0.439718</td>\n",
       "      <td>0.150836</td>\n",
       "      <td>0.000115</td>\n",
       "      <td>0.002545</td>\n",
       "      <td>...</td>\n",
       "      <td>0.002611</td>\n",
       "      <td>0.000095</td>\n",
       "      <td>4.198364e-08</td>\n",
       "      <td>0.000892</td>\n",
       "      <td>0.001449</td>\n",
       "      <td>0.002575</td>\n",
       "      <td>0.000032</td>\n",
       "      <td>0.001414</td>\n",
       "      <td>0.000932</td>\n",
       "      <td>0.730810</td>\n",
       "    </tr>\n",
       "    <tr>\n",
       "      <th>12</th>\n",
       "      <td>2015</td>\n",
       "      <td>ecoinvent</td>\n",
       "      <td>HH_H</td>\n",
       "      <td>market for electricity</td>\n",
       "      <td>CHN</td>\n",
       "      <td>0.011656</td>\n",
       "      <td>0.878965</td>\n",
       "      <td>0.213994</td>\n",
       "      <td>0.000275</td>\n",
       "      <td>0.006721</td>\n",
       "      <td>...</td>\n",
       "      <td>0.006414</td>\n",
       "      <td>0.000043</td>\n",
       "      <td>9.639478e-09</td>\n",
       "      <td>0.001888</td>\n",
       "      <td>0.002891</td>\n",
       "      <td>0.004398</td>\n",
       "      <td>0.000027</td>\n",
       "      <td>0.008280</td>\n",
       "      <td>0.002890</td>\n",
       "      <td>1.428306</td>\n",
       "    </tr>\n",
       "    <tr>\n",
       "      <th>13</th>\n",
       "      <td>2015</td>\n",
       "      <td>ecoinvent</td>\n",
       "      <td>HH_H</td>\n",
       "      <td>market for electricity</td>\n",
       "      <td>EUR</td>\n",
       "      <td>0.054339</td>\n",
       "      <td>0.569361</td>\n",
       "      <td>0.170895</td>\n",
       "      <td>0.000550</td>\n",
       "      <td>0.009180</td>\n",
       "      <td>...</td>\n",
       "      <td>0.008971</td>\n",
       "      <td>0.000087</td>\n",
       "      <td>5.997834e-08</td>\n",
       "      <td>0.001279</td>\n",
       "      <td>0.001548</td>\n",
       "      <td>0.003521</td>\n",
       "      <td>0.000029</td>\n",
       "      <td>0.002380</td>\n",
       "      <td>0.002569</td>\n",
       "      <td>1.391724</td>\n",
       "    </tr>\n",
       "    <tr>\n",
       "      <th>14</th>\n",
       "      <td>2015</td>\n",
       "      <td>ecoinvent</td>\n",
       "      <td>HH_H</td>\n",
       "      <td>market for electricity</td>\n",
       "      <td>IND</td>\n",
       "      <td>0.016062</td>\n",
       "      <td>1.280238</td>\n",
       "      <td>0.391177</td>\n",
       "      <td>0.000632</td>\n",
       "      <td>0.011600</td>\n",
       "      <td>...</td>\n",
       "      <td>0.011009</td>\n",
       "      <td>0.000144</td>\n",
       "      <td>1.741131e-08</td>\n",
       "      <td>0.003447</td>\n",
       "      <td>0.003423</td>\n",
       "      <td>0.004719</td>\n",
       "      <td>0.000026</td>\n",
       "      <td>0.011272</td>\n",
       "      <td>0.004488</td>\n",
       "      <td>2.246514</td>\n",
       "    </tr>\n",
       "    <tr>\n",
       "      <th>15</th>\n",
       "      <td>2015</td>\n",
       "      <td>ecoinvent</td>\n",
       "      <td>HH_H</td>\n",
       "      <td>market for electricity</td>\n",
       "      <td>JPN</td>\n",
       "      <td>0.026135</td>\n",
       "      <td>0.757570</td>\n",
       "      <td>0.228966</td>\n",
       "      <td>0.000141</td>\n",
       "      <td>0.004030</td>\n",
       "      <td>...</td>\n",
       "      <td>0.003059</td>\n",
       "      <td>0.000270</td>\n",
       "      <td>2.431217e-08</td>\n",
       "      <td>0.000947</td>\n",
       "      <td>0.001913</td>\n",
       "      <td>0.003083</td>\n",
       "      <td>0.000042</td>\n",
       "      <td>0.003885</td>\n",
       "      <td>0.001848</td>\n",
       "      <td>1.179258</td>\n",
       "    </tr>\n",
       "    <tr>\n",
       "      <th>16</th>\n",
       "      <td>2015</td>\n",
       "      <td>ecoinvent</td>\n",
       "      <td>HH_H</td>\n",
       "      <td>market for electricity</td>\n",
       "      <td>LAM</td>\n",
       "      <td>0.031180</td>\n",
       "      <td>0.464673</td>\n",
       "      <td>0.158504</td>\n",
       "      <td>0.000060</td>\n",
       "      <td>0.001719</td>\n",
       "      <td>...</td>\n",
       "      <td>0.001839</td>\n",
       "      <td>0.000143</td>\n",
       "      <td>5.399119e-08</td>\n",
       "      <td>0.001132</td>\n",
       "      <td>0.001576</td>\n",
       "      <td>0.002649</td>\n",
       "      <td>0.000042</td>\n",
       "      <td>0.002528</td>\n",
       "      <td>0.000922</td>\n",
       "      <td>0.771723</td>\n",
       "    </tr>\n",
       "    <tr>\n",
       "      <th>17</th>\n",
       "      <td>2015</td>\n",
       "      <td>ecoinvent</td>\n",
       "      <td>HH_H</td>\n",
       "      <td>market for electricity</td>\n",
       "      <td>MEA</td>\n",
       "      <td>0.001667</td>\n",
       "      <td>0.652324</td>\n",
       "      <td>0.246513</td>\n",
       "      <td>0.000063</td>\n",
       "      <td>0.002090</td>\n",
       "      <td>...</td>\n",
       "      <td>0.002026</td>\n",
       "      <td>0.000159</td>\n",
       "      <td>5.694385e-08</td>\n",
       "      <td>0.000804</td>\n",
       "      <td>0.001613</td>\n",
       "      <td>0.002568</td>\n",
       "      <td>0.000039</td>\n",
       "      <td>0.001522</td>\n",
       "      <td>0.001714</td>\n",
       "      <td>1.029387</td>\n",
       "    </tr>\n",
       "    <tr>\n",
       "      <th>18</th>\n",
       "      <td>2015</td>\n",
       "      <td>ecoinvent</td>\n",
       "      <td>HH_H</td>\n",
       "      <td>market for electricity</td>\n",
       "      <td>OAS</td>\n",
       "      <td>0.005965</td>\n",
       "      <td>0.621784</td>\n",
       "      <td>0.198495</td>\n",
       "      <td>0.000414</td>\n",
       "      <td>0.007612</td>\n",
       "      <td>...</td>\n",
       "      <td>0.007177</td>\n",
       "      <td>0.000076</td>\n",
       "      <td>2.610363e-08</td>\n",
       "      <td>0.002857</td>\n",
       "      <td>0.001562</td>\n",
       "      <td>0.002577</td>\n",
       "      <td>0.000020</td>\n",
       "      <td>0.003618</td>\n",
       "      <td>0.002253</td>\n",
       "      <td>1.184256</td>\n",
       "    </tr>\n",
       "    <tr>\n",
       "      <th>19</th>\n",
       "      <td>2015</td>\n",
       "      <td>ecoinvent</td>\n",
       "      <td>HH_H</td>\n",
       "      <td>market for electricity</td>\n",
       "      <td>ROW</td>\n",
       "      <td>0.007997</td>\n",
       "      <td>0.492364</td>\n",
       "      <td>0.145093</td>\n",
       "      <td>0.000442</td>\n",
       "      <td>0.007515</td>\n",
       "      <td>...</td>\n",
       "      <td>0.007246</td>\n",
       "      <td>0.000105</td>\n",
       "      <td>3.359243e-08</td>\n",
       "      <td>0.001328</td>\n",
       "      <td>0.001498</td>\n",
       "      <td>0.003302</td>\n",
       "      <td>0.000025</td>\n",
       "      <td>0.001973</td>\n",
       "      <td>0.002387</td>\n",
       "      <td>1.075239</td>\n",
       "    </tr>\n",
       "    <tr>\n",
       "      <th>20</th>\n",
       "      <td>2015</td>\n",
       "      <td>ecoinvent</td>\n",
       "      <td>HH_H</td>\n",
       "      <td>market for electricity</td>\n",
       "      <td>RUS</td>\n",
       "      <td>0.006503</td>\n",
       "      <td>0.688144</td>\n",
       "      <td>0.259432</td>\n",
       "      <td>0.000216</td>\n",
       "      <td>0.004316</td>\n",
       "      <td>...</td>\n",
       "      <td>0.003815</td>\n",
       "      <td>0.000145</td>\n",
       "      <td>5.436389e-08</td>\n",
       "      <td>0.001113</td>\n",
       "      <td>0.001363</td>\n",
       "      <td>0.001946</td>\n",
       "      <td>0.000016</td>\n",
       "      <td>0.001889</td>\n",
       "      <td>0.002682</td>\n",
       "      <td>1.269723</td>\n",
       "    </tr>\n",
       "    <tr>\n",
       "      <th>21</th>\n",
       "      <td>2015</td>\n",
       "      <td>ecoinvent</td>\n",
       "      <td>HH_H</td>\n",
       "      <td>market for electricity</td>\n",
       "      <td>USA</td>\n",
       "      <td>0.010061</td>\n",
       "      <td>0.670834</td>\n",
       "      <td>0.202009</td>\n",
       "      <td>0.000579</td>\n",
       "      <td>0.010632</td>\n",
       "      <td>...</td>\n",
       "      <td>0.009273</td>\n",
       "      <td>0.000064</td>\n",
       "      <td>5.185545e-08</td>\n",
       "      <td>0.002212</td>\n",
       "      <td>0.001139</td>\n",
       "      <td>0.002187</td>\n",
       "      <td>0.000038</td>\n",
       "      <td>0.002753</td>\n",
       "      <td>0.002832</td>\n",
       "      <td>1.433476</td>\n",
       "    </tr>\n",
       "    <tr>\n",
       "      <th>22</th>\n",
       "      <td>2015</td>\n",
       "      <td>ecoinvent</td>\n",
       "      <td>RA_H</td>\n",
       "      <td>market for electricity</td>\n",
       "      <td>AFR</td>\n",
       "      <td>0.001729</td>\n",
       "      <td>0.439718</td>\n",
       "      <td>0.150836</td>\n",
       "      <td>0.000115</td>\n",
       "      <td>0.002545</td>\n",
       "      <td>...</td>\n",
       "      <td>0.002611</td>\n",
       "      <td>0.000095</td>\n",
       "      <td>4.198364e-08</td>\n",
       "      <td>0.000892</td>\n",
       "      <td>0.001449</td>\n",
       "      <td>0.002575</td>\n",
       "      <td>0.000032</td>\n",
       "      <td>0.001414</td>\n",
       "      <td>0.000932</td>\n",
       "      <td>0.730810</td>\n",
       "    </tr>\n",
       "    <tr>\n",
       "      <th>23</th>\n",
       "      <td>2015</td>\n",
       "      <td>ecoinvent</td>\n",
       "      <td>RA_H</td>\n",
       "      <td>market for electricity</td>\n",
       "      <td>CHN</td>\n",
       "      <td>0.011656</td>\n",
       "      <td>0.878965</td>\n",
       "      <td>0.213994</td>\n",
       "      <td>0.000275</td>\n",
       "      <td>0.006721</td>\n",
       "      <td>...</td>\n",
       "      <td>0.006414</td>\n",
       "      <td>0.000043</td>\n",
       "      <td>9.639478e-09</td>\n",
       "      <td>0.001888</td>\n",
       "      <td>0.002891</td>\n",
       "      <td>0.004398</td>\n",
       "      <td>0.000027</td>\n",
       "      <td>0.008280</td>\n",
       "      <td>0.002890</td>\n",
       "      <td>1.428306</td>\n",
       "    </tr>\n",
       "    <tr>\n",
       "      <th>24</th>\n",
       "      <td>2015</td>\n",
       "      <td>ecoinvent</td>\n",
       "      <td>RA_H</td>\n",
       "      <td>market for electricity</td>\n",
       "      <td>EUR</td>\n",
       "      <td>0.054339</td>\n",
       "      <td>0.569361</td>\n",
       "      <td>0.170895</td>\n",
       "      <td>0.000550</td>\n",
       "      <td>0.009180</td>\n",
       "      <td>...</td>\n",
       "      <td>0.008971</td>\n",
       "      <td>0.000087</td>\n",
       "      <td>5.997834e-08</td>\n",
       "      <td>0.001279</td>\n",
       "      <td>0.001548</td>\n",
       "      <td>0.003521</td>\n",
       "      <td>0.000029</td>\n",
       "      <td>0.002380</td>\n",
       "      <td>0.002569</td>\n",
       "      <td>1.391724</td>\n",
       "    </tr>\n",
       "    <tr>\n",
       "      <th>25</th>\n",
       "      <td>2015</td>\n",
       "      <td>ecoinvent</td>\n",
       "      <td>RA_H</td>\n",
       "      <td>market for electricity</td>\n",
       "      <td>IND</td>\n",
       "      <td>0.016062</td>\n",
       "      <td>1.280238</td>\n",
       "      <td>0.391177</td>\n",
       "      <td>0.000632</td>\n",
       "      <td>0.011600</td>\n",
       "      <td>...</td>\n",
       "      <td>0.011009</td>\n",
       "      <td>0.000144</td>\n",
       "      <td>1.741131e-08</td>\n",
       "      <td>0.003447</td>\n",
       "      <td>0.003423</td>\n",
       "      <td>0.004719</td>\n",
       "      <td>0.000026</td>\n",
       "      <td>0.011272</td>\n",
       "      <td>0.004488</td>\n",
       "      <td>2.246514</td>\n",
       "    </tr>\n",
       "    <tr>\n",
       "      <th>26</th>\n",
       "      <td>2015</td>\n",
       "      <td>ecoinvent</td>\n",
       "      <td>RA_H</td>\n",
       "      <td>market for electricity</td>\n",
       "      <td>JPN</td>\n",
       "      <td>0.026135</td>\n",
       "      <td>0.757570</td>\n",
       "      <td>0.228966</td>\n",
       "      <td>0.000141</td>\n",
       "      <td>0.004030</td>\n",
       "      <td>...</td>\n",
       "      <td>0.003059</td>\n",
       "      <td>0.000270</td>\n",
       "      <td>2.431217e-08</td>\n",
       "      <td>0.000947</td>\n",
       "      <td>0.001913</td>\n",
       "      <td>0.003083</td>\n",
       "      <td>0.000042</td>\n",
       "      <td>0.003885</td>\n",
       "      <td>0.001848</td>\n",
       "      <td>1.179258</td>\n",
       "    </tr>\n",
       "    <tr>\n",
       "      <th>27</th>\n",
       "      <td>2015</td>\n",
       "      <td>ecoinvent</td>\n",
       "      <td>RA_H</td>\n",
       "      <td>market for electricity</td>\n",
       "      <td>LAM</td>\n",
       "      <td>0.031180</td>\n",
       "      <td>0.464673</td>\n",
       "      <td>0.158504</td>\n",
       "      <td>0.000060</td>\n",
       "      <td>0.001719</td>\n",
       "      <td>...</td>\n",
       "      <td>0.001839</td>\n",
       "      <td>0.000143</td>\n",
       "      <td>5.399119e-08</td>\n",
       "      <td>0.001132</td>\n",
       "      <td>0.001576</td>\n",
       "      <td>0.002649</td>\n",
       "      <td>0.000042</td>\n",
       "      <td>0.002528</td>\n",
       "      <td>0.000922</td>\n",
       "      <td>0.771723</td>\n",
       "    </tr>\n",
       "    <tr>\n",
       "      <th>28</th>\n",
       "      <td>2015</td>\n",
       "      <td>ecoinvent</td>\n",
       "      <td>RA_H</td>\n",
       "      <td>market for electricity</td>\n",
       "      <td>MEA</td>\n",
       "      <td>0.001667</td>\n",
       "      <td>0.652324</td>\n",
       "      <td>0.246513</td>\n",
       "      <td>0.000063</td>\n",
       "      <td>0.002090</td>\n",
       "      <td>...</td>\n",
       "      <td>0.002026</td>\n",
       "      <td>0.000159</td>\n",
       "      <td>5.694385e-08</td>\n",
       "      <td>0.000804</td>\n",
       "      <td>0.001613</td>\n",
       "      <td>0.002568</td>\n",
       "      <td>0.000039</td>\n",
       "      <td>0.001522</td>\n",
       "      <td>0.001714</td>\n",
       "      <td>1.029387</td>\n",
       "    </tr>\n",
       "    <tr>\n",
       "      <th>29</th>\n",
       "      <td>2015</td>\n",
       "      <td>ecoinvent</td>\n",
       "      <td>RA_H</td>\n",
       "      <td>market for electricity</td>\n",
       "      <td>OAS</td>\n",
       "      <td>0.005965</td>\n",
       "      <td>0.621784</td>\n",
       "      <td>0.198495</td>\n",
       "      <td>0.000414</td>\n",
       "      <td>0.007612</td>\n",
       "      <td>...</td>\n",
       "      <td>0.007177</td>\n",
       "      <td>0.000076</td>\n",
       "      <td>2.610363e-08</td>\n",
       "      <td>0.002857</td>\n",
       "      <td>0.001562</td>\n",
       "      <td>0.002577</td>\n",
       "      <td>0.000020</td>\n",
       "      <td>0.003618</td>\n",
       "      <td>0.002253</td>\n",
       "      <td>1.184256</td>\n",
       "    </tr>\n",
       "    <tr>\n",
       "      <th>...</th>\n",
       "      <td>...</td>\n",
       "      <td>...</td>\n",
       "      <td>...</td>\n",
       "      <td>...</td>\n",
       "      <td>...</td>\n",
       "      <td>...</td>\n",
       "      <td>...</td>\n",
       "      <td>...</td>\n",
       "      <td>...</td>\n",
       "      <td>...</td>\n",
       "      <td>...</td>\n",
       "      <td>...</td>\n",
       "      <td>...</td>\n",
       "      <td>...</td>\n",
       "      <td>...</td>\n",
       "      <td>...</td>\n",
       "      <td>...</td>\n",
       "      <td>...</td>\n",
       "      <td>...</td>\n",
       "      <td>...</td>\n",
       "      <td>...</td>\n",
       "    </tr>\n",
       "    <tr>\n",
       "      <th>3897</th>\n",
       "      <td>2050</td>\n",
       "      <td>Ref</td>\n",
       "      <td>HH_H</td>\n",
       "      <td>market for hydrogen, liquid</td>\n",
       "      <td>USA</td>\n",
       "      <td>0.018301</td>\n",
       "      <td>1.899538</td>\n",
       "      <td>1.680437</td>\n",
       "      <td>0.000155</td>\n",
       "      <td>0.012662</td>\n",
       "      <td>...</td>\n",
       "      <td>0.011598</td>\n",
       "      <td>0.000031</td>\n",
       "      <td>3.521547e-07</td>\n",
       "      <td>0.001469</td>\n",
       "      <td>0.005016</td>\n",
       "      <td>0.004021</td>\n",
       "      <td>0.000069</td>\n",
       "      <td>0.005763</td>\n",
       "      <td>0.001350</td>\n",
       "      <td>3.990756</td>\n",
       "    </tr>\n",
       "    <tr>\n",
       "      <th>3898</th>\n",
       "      <td>2050</td>\n",
       "      <td>Ref</td>\n",
       "      <td>HH_H</td>\n",
       "      <td>softwood forestry, mixed species, sustainable ...</td>\n",
       "      <td>USA</td>\n",
       "      <td>457.020649</td>\n",
       "      <td>6.871017</td>\n",
       "      <td>1.982475</td>\n",
       "      <td>0.000305</td>\n",
       "      <td>0.047363</td>\n",
       "      <td>...</td>\n",
       "      <td>0.038147</td>\n",
       "      <td>0.006567</td>\n",
       "      <td>9.797209e-07</td>\n",
       "      <td>0.008170</td>\n",
       "      <td>0.160604</td>\n",
       "      <td>0.018135</td>\n",
       "      <td>0.021846</td>\n",
       "      <td>8.174511</td>\n",
       "      <td>0.056550</td>\n",
       "      <td>475.857003</td>\n",
       "    </tr>\n",
       "    <tr>\n",
       "      <th>3899</th>\n",
       "      <td>2050</td>\n",
       "      <td>Ref</td>\n",
       "      <td>RA_H</td>\n",
       "      <td>electricity production, deep geothermal</td>\n",
       "      <td>USA</td>\n",
       "      <td>0.000912</td>\n",
       "      <td>0.035855</td>\n",
       "      <td>0.009904</td>\n",
       "      <td>0.000020</td>\n",
       "      <td>0.001274</td>\n",
       "      <td>...</td>\n",
       "      <td>0.001152</td>\n",
       "      <td>0.000020</td>\n",
       "      <td>2.369125e-09</td>\n",
       "      <td>0.000082</td>\n",
       "      <td>0.000096</td>\n",
       "      <td>0.000085</td>\n",
       "      <td>0.000027</td>\n",
       "      <td>0.000691</td>\n",
       "      <td>0.000166</td>\n",
       "      <td>0.115551</td>\n",
       "    </tr>\n",
       "    <tr>\n",
       "      <th>3900</th>\n",
       "      <td>2050</td>\n",
       "      <td>Ref</td>\n",
       "      <td>RA_H</td>\n",
       "      <td>electricity production, hard coal</td>\n",
       "      <td>USA</td>\n",
       "      <td>0.010000</td>\n",
       "      <td>0.848779</td>\n",
       "      <td>0.217716</td>\n",
       "      <td>0.000356</td>\n",
       "      <td>0.006738</td>\n",
       "      <td>...</td>\n",
       "      <td>0.006517</td>\n",
       "      <td>0.000038</td>\n",
       "      <td>5.745060e-09</td>\n",
       "      <td>0.001145</td>\n",
       "      <td>0.000802</td>\n",
       "      <td>0.001011</td>\n",
       "      <td>0.000019</td>\n",
       "      <td>0.008007</td>\n",
       "      <td>0.002483</td>\n",
       "      <td>1.382510</td>\n",
       "    </tr>\n",
       "    <tr>\n",
       "      <th>3901</th>\n",
       "      <td>2050</td>\n",
       "      <td>Ref</td>\n",
       "      <td>RA_H</td>\n",
       "      <td>electricity production, natural gas, combined ...</td>\n",
       "      <td>USA</td>\n",
       "      <td>0.000130</td>\n",
       "      <td>0.358544</td>\n",
       "      <td>0.152264</td>\n",
       "      <td>0.000002</td>\n",
       "      <td>0.001107</td>\n",
       "      <td>...</td>\n",
       "      <td>0.000433</td>\n",
       "      <td>0.000054</td>\n",
       "      <td>3.667573e-08</td>\n",
       "      <td>0.000085</td>\n",
       "      <td>0.000350</td>\n",
       "      <td>0.000270</td>\n",
       "      <td>0.000015</td>\n",
       "      <td>0.000151</td>\n",
       "      <td>0.001228</td>\n",
       "      <td>0.531669</td>\n",
       "    </tr>\n",
       "    <tr>\n",
       "      <th>3902</th>\n",
       "      <td>2050</td>\n",
       "      <td>Ref</td>\n",
       "      <td>RA_H</td>\n",
       "      <td>electricity production, oil</td>\n",
       "      <td>USA</td>\n",
       "      <td>0.001231</td>\n",
       "      <td>1.112698</td>\n",
       "      <td>0.395632</td>\n",
       "      <td>0.000012</td>\n",
       "      <td>0.001660</td>\n",
       "      <td>...</td>\n",
       "      <td>0.002988</td>\n",
       "      <td>0.000412</td>\n",
       "      <td>2.018920e-07</td>\n",
       "      <td>0.000660</td>\n",
       "      <td>0.001151</td>\n",
       "      <td>0.001444</td>\n",
       "      <td>0.000178</td>\n",
       "      <td>0.001853</td>\n",
       "      <td>0.001133</td>\n",
       "      <td>1.709028</td>\n",
       "    </tr>\n",
       "    <tr>\n",
       "      <th>3903</th>\n",
       "      <td>2050</td>\n",
       "      <td>Ref</td>\n",
       "      <td>RA_H</td>\n",
       "      <td>heat and power co-generation, biogas, gas engine</td>\n",
       "      <td>USA</td>\n",
       "      <td>0.012989</td>\n",
       "      <td>0.242800</td>\n",
       "      <td>0.012920</td>\n",
       "      <td>0.000022</td>\n",
       "      <td>0.000938</td>\n",
       "      <td>...</td>\n",
       "      <td>0.000879</td>\n",
       "      <td>0.000007</td>\n",
       "      <td>2.620070e-09</td>\n",
       "      <td>0.005116</td>\n",
       "      <td>0.000447</td>\n",
       "      <td>0.038596</td>\n",
       "      <td>0.000005</td>\n",
       "      <td>0.000883</td>\n",
       "      <td>0.000082</td>\n",
       "      <td>0.351302</td>\n",
       "    </tr>\n",
       "    <tr>\n",
       "      <th>3904</th>\n",
       "      <td>2050</td>\n",
       "      <td>Ref</td>\n",
       "      <td>RA_H</td>\n",
       "      <td>market for hydrogen, liquid</td>\n",
       "      <td>USA</td>\n",
       "      <td>0.018301</td>\n",
       "      <td>1.899538</td>\n",
       "      <td>1.680437</td>\n",
       "      <td>0.000155</td>\n",
       "      <td>0.012662</td>\n",
       "      <td>...</td>\n",
       "      <td>0.011598</td>\n",
       "      <td>0.000031</td>\n",
       "      <td>3.521547e-07</td>\n",
       "      <td>0.001469</td>\n",
       "      <td>0.005016</td>\n",
       "      <td>0.004021</td>\n",
       "      <td>0.000069</td>\n",
       "      <td>0.005763</td>\n",
       "      <td>0.001350</td>\n",
       "      <td>3.990756</td>\n",
       "    </tr>\n",
       "    <tr>\n",
       "      <th>3905</th>\n",
       "      <td>2050</td>\n",
       "      <td>Ref</td>\n",
       "      <td>RA_H</td>\n",
       "      <td>softwood forestry, mixed species, sustainable ...</td>\n",
       "      <td>USA</td>\n",
       "      <td>457.020649</td>\n",
       "      <td>6.871017</td>\n",
       "      <td>1.982475</td>\n",
       "      <td>0.000305</td>\n",
       "      <td>0.047363</td>\n",
       "      <td>...</td>\n",
       "      <td>0.038147</td>\n",
       "      <td>0.006567</td>\n",
       "      <td>9.797209e-07</td>\n",
       "      <td>0.008170</td>\n",
       "      <td>0.160604</td>\n",
       "      <td>0.018135</td>\n",
       "      <td>0.021846</td>\n",
       "      <td>8.174511</td>\n",
       "      <td>0.056550</td>\n",
       "      <td>475.857003</td>\n",
       "    </tr>\n",
       "    <tr>\n",
       "      <th>3906</th>\n",
       "      <td>2050</td>\n",
       "      <td>coal_exit</td>\n",
       "      <td>ED_H</td>\n",
       "      <td>electricity production, deep geothermal</td>\n",
       "      <td>USA</td>\n",
       "      <td>0.000741</td>\n",
       "      <td>0.024369</td>\n",
       "      <td>0.007002</td>\n",
       "      <td>0.000012</td>\n",
       "      <td>0.001274</td>\n",
       "      <td>...</td>\n",
       "      <td>0.001145</td>\n",
       "      <td>0.000019</td>\n",
       "      <td>2.604506e-09</td>\n",
       "      <td>0.000055</td>\n",
       "      <td>0.000088</td>\n",
       "      <td>0.000070</td>\n",
       "      <td>0.000028</td>\n",
       "      <td>0.000656</td>\n",
       "      <td>0.000159</td>\n",
       "      <td>0.100372</td>\n",
       "    </tr>\n",
       "    <tr>\n",
       "      <th>3907</th>\n",
       "      <td>2050</td>\n",
       "      <td>coal_exit</td>\n",
       "      <td>ED_H</td>\n",
       "      <td>electricity production, hard coal</td>\n",
       "      <td>USA</td>\n",
       "      <td>0.009849</td>\n",
       "      <td>0.845291</td>\n",
       "      <td>0.216838</td>\n",
       "      <td>0.000354</td>\n",
       "      <td>0.006738</td>\n",
       "      <td>...</td>\n",
       "      <td>0.006515</td>\n",
       "      <td>0.000038</td>\n",
       "      <td>5.825805e-09</td>\n",
       "      <td>0.001135</td>\n",
       "      <td>0.000799</td>\n",
       "      <td>0.001006</td>\n",
       "      <td>0.000019</td>\n",
       "      <td>0.007995</td>\n",
       "      <td>0.002483</td>\n",
       "      <td>1.377976</td>\n",
       "    </tr>\n",
       "    <tr>\n",
       "      <th>3908</th>\n",
       "      <td>2050</td>\n",
       "      <td>coal_exit</td>\n",
       "      <td>ED_H</td>\n",
       "      <td>electricity production, natural gas, combined ...</td>\n",
       "      <td>USA</td>\n",
       "      <td>0.000112</td>\n",
       "      <td>0.357926</td>\n",
       "      <td>0.152110</td>\n",
       "      <td>0.000002</td>\n",
       "      <td>0.001106</td>\n",
       "      <td>...</td>\n",
       "      <td>0.000431</td>\n",
       "      <td>0.000054</td>\n",
       "      <td>3.668883e-08</td>\n",
       "      <td>0.000084</td>\n",
       "      <td>0.000350</td>\n",
       "      <td>0.000269</td>\n",
       "      <td>0.000016</td>\n",
       "      <td>0.000150</td>\n",
       "      <td>0.001228</td>\n",
       "      <td>0.530801</td>\n",
       "    </tr>\n",
       "    <tr>\n",
       "      <th>3909</th>\n",
       "      <td>2050</td>\n",
       "      <td>coal_exit</td>\n",
       "      <td>ED_H</td>\n",
       "      <td>electricity production, oil</td>\n",
       "      <td>USA</td>\n",
       "      <td>0.001079</td>\n",
       "      <td>1.107710</td>\n",
       "      <td>0.394386</td>\n",
       "      <td>0.000008</td>\n",
       "      <td>0.001653</td>\n",
       "      <td>...</td>\n",
       "      <td>0.002979</td>\n",
       "      <td>0.000412</td>\n",
       "      <td>2.020088e-07</td>\n",
       "      <td>0.000648</td>\n",
       "      <td>0.001147</td>\n",
       "      <td>0.001436</td>\n",
       "      <td>0.000178</td>\n",
       "      <td>0.001839</td>\n",
       "      <td>0.001130</td>\n",
       "      <td>1.702162</td>\n",
       "    </tr>\n",
       "    <tr>\n",
       "      <th>3910</th>\n",
       "      <td>2050</td>\n",
       "      <td>coal_exit</td>\n",
       "      <td>ED_H</td>\n",
       "      <td>heat and power co-generation, biogas, gas engine</td>\n",
       "      <td>USA</td>\n",
       "      <td>0.012896</td>\n",
       "      <td>0.239739</td>\n",
       "      <td>0.012160</td>\n",
       "      <td>0.000019</td>\n",
       "      <td>0.000934</td>\n",
       "      <td>...</td>\n",
       "      <td>0.000873</td>\n",
       "      <td>0.000007</td>\n",
       "      <td>2.690420e-09</td>\n",
       "      <td>0.005108</td>\n",
       "      <td>0.000445</td>\n",
       "      <td>0.038591</td>\n",
       "      <td>0.000005</td>\n",
       "      <td>0.000874</td>\n",
       "      <td>0.000081</td>\n",
       "      <td>0.347110</td>\n",
       "    </tr>\n",
       "    <tr>\n",
       "      <th>3911</th>\n",
       "      <td>2050</td>\n",
       "      <td>coal_exit</td>\n",
       "      <td>ED_H</td>\n",
       "      <td>market for hydrogen, liquid</td>\n",
       "      <td>USA</td>\n",
       "      <td>0.013212</td>\n",
       "      <td>1.841020</td>\n",
       "      <td>1.665280</td>\n",
       "      <td>0.000090</td>\n",
       "      <td>0.012164</td>\n",
       "      <td>...</td>\n",
       "      <td>0.011093</td>\n",
       "      <td>0.000029</td>\n",
       "      <td>3.567844e-07</td>\n",
       "      <td>0.001366</td>\n",
       "      <td>0.004942</td>\n",
       "      <td>0.003714</td>\n",
       "      <td>0.000073</td>\n",
       "      <td>0.005676</td>\n",
       "      <td>0.001433</td>\n",
       "      <td>3.919192</td>\n",
       "    </tr>\n",
       "    <tr>\n",
       "      <th>3912</th>\n",
       "      <td>2050</td>\n",
       "      <td>coal_exit</td>\n",
       "      <td>ED_H</td>\n",
       "      <td>softwood forestry, mixed species, sustainable ...</td>\n",
       "      <td>USA</td>\n",
       "      <td>457.018333</td>\n",
       "      <td>6.798380</td>\n",
       "      <td>1.964180</td>\n",
       "      <td>0.000246</td>\n",
       "      <td>0.047287</td>\n",
       "      <td>...</td>\n",
       "      <td>0.038018</td>\n",
       "      <td>0.006566</td>\n",
       "      <td>9.814795e-07</td>\n",
       "      <td>0.007991</td>\n",
       "      <td>0.160547</td>\n",
       "      <td>0.018005</td>\n",
       "      <td>0.021851</td>\n",
       "      <td>8.174314</td>\n",
       "      <td>0.056513</td>\n",
       "      <td>475.756703</td>\n",
       "    </tr>\n",
       "    <tr>\n",
       "      <th>3913</th>\n",
       "      <td>2050</td>\n",
       "      <td>coal_exit</td>\n",
       "      <td>HH_H</td>\n",
       "      <td>electricity production, deep geothermal</td>\n",
       "      <td>USA</td>\n",
       "      <td>0.000741</td>\n",
       "      <td>0.024369</td>\n",
       "      <td>0.007002</td>\n",
       "      <td>0.000012</td>\n",
       "      <td>0.001274</td>\n",
       "      <td>...</td>\n",
       "      <td>0.001145</td>\n",
       "      <td>0.000019</td>\n",
       "      <td>2.604506e-09</td>\n",
       "      <td>0.000055</td>\n",
       "      <td>0.000088</td>\n",
       "      <td>0.000070</td>\n",
       "      <td>0.000028</td>\n",
       "      <td>0.000656</td>\n",
       "      <td>0.000159</td>\n",
       "      <td>0.100372</td>\n",
       "    </tr>\n",
       "    <tr>\n",
       "      <th>3914</th>\n",
       "      <td>2050</td>\n",
       "      <td>coal_exit</td>\n",
       "      <td>HH_H</td>\n",
       "      <td>electricity production, hard coal</td>\n",
       "      <td>USA</td>\n",
       "      <td>0.009849</td>\n",
       "      <td>0.845291</td>\n",
       "      <td>0.216838</td>\n",
       "      <td>0.000354</td>\n",
       "      <td>0.006738</td>\n",
       "      <td>...</td>\n",
       "      <td>0.006515</td>\n",
       "      <td>0.000038</td>\n",
       "      <td>5.825805e-09</td>\n",
       "      <td>0.001135</td>\n",
       "      <td>0.000799</td>\n",
       "      <td>0.001006</td>\n",
       "      <td>0.000019</td>\n",
       "      <td>0.007995</td>\n",
       "      <td>0.002483</td>\n",
       "      <td>1.377976</td>\n",
       "    </tr>\n",
       "    <tr>\n",
       "      <th>3915</th>\n",
       "      <td>2050</td>\n",
       "      <td>coal_exit</td>\n",
       "      <td>HH_H</td>\n",
       "      <td>electricity production, natural gas, combined ...</td>\n",
       "      <td>USA</td>\n",
       "      <td>0.000112</td>\n",
       "      <td>0.357926</td>\n",
       "      <td>0.152110</td>\n",
       "      <td>0.000002</td>\n",
       "      <td>0.001106</td>\n",
       "      <td>...</td>\n",
       "      <td>0.000431</td>\n",
       "      <td>0.000054</td>\n",
       "      <td>3.668883e-08</td>\n",
       "      <td>0.000084</td>\n",
       "      <td>0.000350</td>\n",
       "      <td>0.000269</td>\n",
       "      <td>0.000016</td>\n",
       "      <td>0.000150</td>\n",
       "      <td>0.001228</td>\n",
       "      <td>0.530801</td>\n",
       "    </tr>\n",
       "    <tr>\n",
       "      <th>3916</th>\n",
       "      <td>2050</td>\n",
       "      <td>coal_exit</td>\n",
       "      <td>HH_H</td>\n",
       "      <td>electricity production, oil</td>\n",
       "      <td>USA</td>\n",
       "      <td>0.001079</td>\n",
       "      <td>1.107710</td>\n",
       "      <td>0.394386</td>\n",
       "      <td>0.000008</td>\n",
       "      <td>0.001653</td>\n",
       "      <td>...</td>\n",
       "      <td>0.002979</td>\n",
       "      <td>0.000412</td>\n",
       "      <td>2.020088e-07</td>\n",
       "      <td>0.000648</td>\n",
       "      <td>0.001147</td>\n",
       "      <td>0.001436</td>\n",
       "      <td>0.000178</td>\n",
       "      <td>0.001839</td>\n",
       "      <td>0.001130</td>\n",
       "      <td>1.702162</td>\n",
       "    </tr>\n",
       "    <tr>\n",
       "      <th>3917</th>\n",
       "      <td>2050</td>\n",
       "      <td>coal_exit</td>\n",
       "      <td>HH_H</td>\n",
       "      <td>heat and power co-generation, biogas, gas engine</td>\n",
       "      <td>USA</td>\n",
       "      <td>0.012896</td>\n",
       "      <td>0.239739</td>\n",
       "      <td>0.012160</td>\n",
       "      <td>0.000019</td>\n",
       "      <td>0.000934</td>\n",
       "      <td>...</td>\n",
       "      <td>0.000873</td>\n",
       "      <td>0.000007</td>\n",
       "      <td>2.690420e-09</td>\n",
       "      <td>0.005108</td>\n",
       "      <td>0.000445</td>\n",
       "      <td>0.038591</td>\n",
       "      <td>0.000005</td>\n",
       "      <td>0.000874</td>\n",
       "      <td>0.000081</td>\n",
       "      <td>0.347110</td>\n",
       "    </tr>\n",
       "    <tr>\n",
       "      <th>3918</th>\n",
       "      <td>2050</td>\n",
       "      <td>coal_exit</td>\n",
       "      <td>HH_H</td>\n",
       "      <td>market for hydrogen, liquid</td>\n",
       "      <td>USA</td>\n",
       "      <td>0.013212</td>\n",
       "      <td>1.841020</td>\n",
       "      <td>1.665280</td>\n",
       "      <td>0.000090</td>\n",
       "      <td>0.012164</td>\n",
       "      <td>...</td>\n",
       "      <td>0.011093</td>\n",
       "      <td>0.000029</td>\n",
       "      <td>3.567844e-07</td>\n",
       "      <td>0.001366</td>\n",
       "      <td>0.004942</td>\n",
       "      <td>0.003714</td>\n",
       "      <td>0.000073</td>\n",
       "      <td>0.005676</td>\n",
       "      <td>0.001433</td>\n",
       "      <td>3.919192</td>\n",
       "    </tr>\n",
       "    <tr>\n",
       "      <th>3919</th>\n",
       "      <td>2050</td>\n",
       "      <td>coal_exit</td>\n",
       "      <td>HH_H</td>\n",
       "      <td>softwood forestry, mixed species, sustainable ...</td>\n",
       "      <td>USA</td>\n",
       "      <td>457.018333</td>\n",
       "      <td>6.798380</td>\n",
       "      <td>1.964180</td>\n",
       "      <td>0.000246</td>\n",
       "      <td>0.047287</td>\n",
       "      <td>...</td>\n",
       "      <td>0.038018</td>\n",
       "      <td>0.006566</td>\n",
       "      <td>9.814795e-07</td>\n",
       "      <td>0.007991</td>\n",
       "      <td>0.160547</td>\n",
       "      <td>0.018005</td>\n",
       "      <td>0.021851</td>\n",
       "      <td>8.174314</td>\n",
       "      <td>0.056513</td>\n",
       "      <td>475.756703</td>\n",
       "    </tr>\n",
       "    <tr>\n",
       "      <th>3920</th>\n",
       "      <td>2050</td>\n",
       "      <td>coal_exit</td>\n",
       "      <td>RA_H</td>\n",
       "      <td>electricity production, deep geothermal</td>\n",
       "      <td>USA</td>\n",
       "      <td>0.000741</td>\n",
       "      <td>0.024369</td>\n",
       "      <td>0.007002</td>\n",
       "      <td>0.000012</td>\n",
       "      <td>0.001274</td>\n",
       "      <td>...</td>\n",
       "      <td>0.001145</td>\n",
       "      <td>0.000019</td>\n",
       "      <td>2.604506e-09</td>\n",
       "      <td>0.000055</td>\n",
       "      <td>0.000088</td>\n",
       "      <td>0.000070</td>\n",
       "      <td>0.000028</td>\n",
       "      <td>0.000656</td>\n",
       "      <td>0.000159</td>\n",
       "      <td>0.100372</td>\n",
       "    </tr>\n",
       "    <tr>\n",
       "      <th>3921</th>\n",
       "      <td>2050</td>\n",
       "      <td>coal_exit</td>\n",
       "      <td>RA_H</td>\n",
       "      <td>electricity production, hard coal</td>\n",
       "      <td>USA</td>\n",
       "      <td>0.009849</td>\n",
       "      <td>0.845291</td>\n",
       "      <td>0.216838</td>\n",
       "      <td>0.000354</td>\n",
       "      <td>0.006738</td>\n",
       "      <td>...</td>\n",
       "      <td>0.006515</td>\n",
       "      <td>0.000038</td>\n",
       "      <td>5.825805e-09</td>\n",
       "      <td>0.001135</td>\n",
       "      <td>0.000799</td>\n",
       "      <td>0.001006</td>\n",
       "      <td>0.000019</td>\n",
       "      <td>0.007995</td>\n",
       "      <td>0.002483</td>\n",
       "      <td>1.377976</td>\n",
       "    </tr>\n",
       "    <tr>\n",
       "      <th>3922</th>\n",
       "      <td>2050</td>\n",
       "      <td>coal_exit</td>\n",
       "      <td>RA_H</td>\n",
       "      <td>electricity production, natural gas, combined ...</td>\n",
       "      <td>USA</td>\n",
       "      <td>0.000112</td>\n",
       "      <td>0.357926</td>\n",
       "      <td>0.152110</td>\n",
       "      <td>0.000002</td>\n",
       "      <td>0.001106</td>\n",
       "      <td>...</td>\n",
       "      <td>0.000431</td>\n",
       "      <td>0.000054</td>\n",
       "      <td>3.668883e-08</td>\n",
       "      <td>0.000084</td>\n",
       "      <td>0.000350</td>\n",
       "      <td>0.000269</td>\n",
       "      <td>0.000016</td>\n",
       "      <td>0.000150</td>\n",
       "      <td>0.001228</td>\n",
       "      <td>0.530801</td>\n",
       "    </tr>\n",
       "    <tr>\n",
       "      <th>3923</th>\n",
       "      <td>2050</td>\n",
       "      <td>coal_exit</td>\n",
       "      <td>RA_H</td>\n",
       "      <td>electricity production, oil</td>\n",
       "      <td>USA</td>\n",
       "      <td>0.001079</td>\n",
       "      <td>1.107710</td>\n",
       "      <td>0.394386</td>\n",
       "      <td>0.000008</td>\n",
       "      <td>0.001653</td>\n",
       "      <td>...</td>\n",
       "      <td>0.002979</td>\n",
       "      <td>0.000412</td>\n",
       "      <td>2.020088e-07</td>\n",
       "      <td>0.000648</td>\n",
       "      <td>0.001147</td>\n",
       "      <td>0.001436</td>\n",
       "      <td>0.000178</td>\n",
       "      <td>0.001839</td>\n",
       "      <td>0.001130</td>\n",
       "      <td>1.702162</td>\n",
       "    </tr>\n",
       "    <tr>\n",
       "      <th>3924</th>\n",
       "      <td>2050</td>\n",
       "      <td>coal_exit</td>\n",
       "      <td>RA_H</td>\n",
       "      <td>heat and power co-generation, biogas, gas engine</td>\n",
       "      <td>USA</td>\n",
       "      <td>0.012896</td>\n",
       "      <td>0.239739</td>\n",
       "      <td>0.012160</td>\n",
       "      <td>0.000019</td>\n",
       "      <td>0.000934</td>\n",
       "      <td>...</td>\n",
       "      <td>0.000873</td>\n",
       "      <td>0.000007</td>\n",
       "      <td>2.690420e-09</td>\n",
       "      <td>0.005108</td>\n",
       "      <td>0.000445</td>\n",
       "      <td>0.038591</td>\n",
       "      <td>0.000005</td>\n",
       "      <td>0.000874</td>\n",
       "      <td>0.000081</td>\n",
       "      <td>0.347110</td>\n",
       "    </tr>\n",
       "    <tr>\n",
       "      <th>3925</th>\n",
       "      <td>2050</td>\n",
       "      <td>coal_exit</td>\n",
       "      <td>RA_H</td>\n",
       "      <td>market for hydrogen, liquid</td>\n",
       "      <td>USA</td>\n",
       "      <td>0.013212</td>\n",
       "      <td>1.841020</td>\n",
       "      <td>1.665280</td>\n",
       "      <td>0.000090</td>\n",
       "      <td>0.012164</td>\n",
       "      <td>...</td>\n",
       "      <td>0.011093</td>\n",
       "      <td>0.000029</td>\n",
       "      <td>3.567844e-07</td>\n",
       "      <td>0.001366</td>\n",
       "      <td>0.004942</td>\n",
       "      <td>0.003714</td>\n",
       "      <td>0.000073</td>\n",
       "      <td>0.005676</td>\n",
       "      <td>0.001433</td>\n",
       "      <td>3.919192</td>\n",
       "    </tr>\n",
       "    <tr>\n",
       "      <th>3926</th>\n",
       "      <td>2050</td>\n",
       "      <td>coal_exit</td>\n",
       "      <td>RA_H</td>\n",
       "      <td>softwood forestry, mixed species, sustainable ...</td>\n",
       "      <td>USA</td>\n",
       "      <td>457.018333</td>\n",
       "      <td>6.798380</td>\n",
       "      <td>1.964180</td>\n",
       "      <td>0.000246</td>\n",
       "      <td>0.047287</td>\n",
       "      <td>...</td>\n",
       "      <td>0.038018</td>\n",
       "      <td>0.006566</td>\n",
       "      <td>9.814795e-07</td>\n",
       "      <td>0.007991</td>\n",
       "      <td>0.160547</td>\n",
       "      <td>0.018005</td>\n",
       "      <td>0.021851</td>\n",
       "      <td>8.174314</td>\n",
       "      <td>0.056513</td>\n",
       "      <td>475.756703</td>\n",
       "    </tr>\n",
       "  </tbody>\n",
       "</table>\n",
       "<p>4488 rows × 24 columns</p>\n",
       "</div>"
      ],
      "text/plain": [
       "      period   scenario end_category  \\\n",
       "0       2015  ecoinvent         ED_H   \n",
       "1       2015  ecoinvent         ED_H   \n",
       "2       2015  ecoinvent         ED_H   \n",
       "3       2015  ecoinvent         ED_H   \n",
       "4       2015  ecoinvent         ED_H   \n",
       "5       2015  ecoinvent         ED_H   \n",
       "6       2015  ecoinvent         ED_H   \n",
       "7       2015  ecoinvent         ED_H   \n",
       "8       2015  ecoinvent         ED_H   \n",
       "9       2015  ecoinvent         ED_H   \n",
       "10      2015  ecoinvent         ED_H   \n",
       "11      2015  ecoinvent         HH_H   \n",
       "12      2015  ecoinvent         HH_H   \n",
       "13      2015  ecoinvent         HH_H   \n",
       "14      2015  ecoinvent         HH_H   \n",
       "15      2015  ecoinvent         HH_H   \n",
       "16      2015  ecoinvent         HH_H   \n",
       "17      2015  ecoinvent         HH_H   \n",
       "18      2015  ecoinvent         HH_H   \n",
       "19      2015  ecoinvent         HH_H   \n",
       "20      2015  ecoinvent         HH_H   \n",
       "21      2015  ecoinvent         HH_H   \n",
       "22      2015  ecoinvent         RA_H   \n",
       "23      2015  ecoinvent         RA_H   \n",
       "24      2015  ecoinvent         RA_H   \n",
       "25      2015  ecoinvent         RA_H   \n",
       "26      2015  ecoinvent         RA_H   \n",
       "27      2015  ecoinvent         RA_H   \n",
       "28      2015  ecoinvent         RA_H   \n",
       "29      2015  ecoinvent         RA_H   \n",
       "...      ...        ...          ...   \n",
       "3897    2050        Ref         HH_H   \n",
       "3898    2050        Ref         HH_H   \n",
       "3899    2050        Ref         RA_H   \n",
       "3900    2050        Ref         RA_H   \n",
       "3901    2050        Ref         RA_H   \n",
       "3902    2050        Ref         RA_H   \n",
       "3903    2050        Ref         RA_H   \n",
       "3904    2050        Ref         RA_H   \n",
       "3905    2050        Ref         RA_H   \n",
       "3906    2050  coal_exit         ED_H   \n",
       "3907    2050  coal_exit         ED_H   \n",
       "3908    2050  coal_exit         ED_H   \n",
       "3909    2050  coal_exit         ED_H   \n",
       "3910    2050  coal_exit         ED_H   \n",
       "3911    2050  coal_exit         ED_H   \n",
       "3912    2050  coal_exit         ED_H   \n",
       "3913    2050  coal_exit         HH_H   \n",
       "3914    2050  coal_exit         HH_H   \n",
       "3915    2050  coal_exit         HH_H   \n",
       "3916    2050  coal_exit         HH_H   \n",
       "3917    2050  coal_exit         HH_H   \n",
       "3918    2050  coal_exit         HH_H   \n",
       "3919    2050  coal_exit         HH_H   \n",
       "3920    2050  coal_exit         RA_H   \n",
       "3921    2050  coal_exit         RA_H   \n",
       "3922    2050  coal_exit         RA_H   \n",
       "3923    2050  coal_exit         RA_H   \n",
       "3924    2050  coal_exit         RA_H   \n",
       "3925    2050  coal_exit         RA_H   \n",
       "3926    2050  coal_exit         RA_H   \n",
       "\n",
       "                                               variable RegionCode  \\\n",
       "0                                market for electricity        AFR   \n",
       "1                                market for electricity        CHN   \n",
       "2                                market for electricity        EUR   \n",
       "3                                market for electricity        IND   \n",
       "4                                market for electricity        JPN   \n",
       "5                                market for electricity        LAM   \n",
       "6                                market for electricity        MEA   \n",
       "7                                market for electricity        OAS   \n",
       "8                                market for electricity        ROW   \n",
       "9                                market for electricity        RUS   \n",
       "10                               market for electricity        USA   \n",
       "11                               market for electricity        AFR   \n",
       "12                               market for electricity        CHN   \n",
       "13                               market for electricity        EUR   \n",
       "14                               market for electricity        IND   \n",
       "15                               market for electricity        JPN   \n",
       "16                               market for electricity        LAM   \n",
       "17                               market for electricity        MEA   \n",
       "18                               market for electricity        OAS   \n",
       "19                               market for electricity        ROW   \n",
       "20                               market for electricity        RUS   \n",
       "21                               market for electricity        USA   \n",
       "22                               market for electricity        AFR   \n",
       "23                               market for electricity        CHN   \n",
       "24                               market for electricity        EUR   \n",
       "25                               market for electricity        IND   \n",
       "26                               market for electricity        JPN   \n",
       "27                               market for electricity        LAM   \n",
       "28                               market for electricity        MEA   \n",
       "29                               market for electricity        OAS   \n",
       "...                                                 ...        ...   \n",
       "3897                        market for hydrogen, liquid        USA   \n",
       "3898  softwood forestry, mixed species, sustainable ...        USA   \n",
       "3899            electricity production, deep geothermal        USA   \n",
       "3900                  electricity production, hard coal        USA   \n",
       "3901  electricity production, natural gas, combined ...        USA   \n",
       "3902                        electricity production, oil        USA   \n",
       "3903   heat and power co-generation, biogas, gas engine        USA   \n",
       "3904                        market for hydrogen, liquid        USA   \n",
       "3905  softwood forestry, mixed species, sustainable ...        USA   \n",
       "3906            electricity production, deep geothermal        USA   \n",
       "3907                  electricity production, hard coal        USA   \n",
       "3908  electricity production, natural gas, combined ...        USA   \n",
       "3909                        electricity production, oil        USA   \n",
       "3910   heat and power co-generation, biogas, gas engine        USA   \n",
       "3911                        market for hydrogen, liquid        USA   \n",
       "3912  softwood forestry, mixed species, sustainable ...        USA   \n",
       "3913            electricity production, deep geothermal        USA   \n",
       "3914                  electricity production, hard coal        USA   \n",
       "3915  electricity production, natural gas, combined ...        USA   \n",
       "3916                        electricity production, oil        USA   \n",
       "3917   heat and power co-generation, biogas, gas engine        USA   \n",
       "3918                        market for hydrogen, liquid        USA   \n",
       "3919  softwood forestry, mixed species, sustainable ...        USA   \n",
       "3920            electricity production, deep geothermal        USA   \n",
       "3921                  electricity production, hard coal        USA   \n",
       "3922  electricity production, natural gas, combined ...        USA   \n",
       "3923                        electricity production, oil        USA   \n",
       "3924   heat and power co-generation, biogas, gas engine        USA   \n",
       "3925                        market for hydrogen, liquid        USA   \n",
       "3926  softwood forestry, mixed species, sustainable ...        USA   \n",
       "\n",
       "             ALO        CC        FD        FE       FET  ...       MET  \\\n",
       "0       0.001729  0.439718  0.150836  0.000115  0.002545  ...  0.002611   \n",
       "1       0.011656  0.878965  0.213994  0.000275  0.006721  ...  0.006414   \n",
       "2       0.054339  0.569361  0.170895  0.000550  0.009180  ...  0.008971   \n",
       "3       0.016062  1.280238  0.391177  0.000632  0.011600  ...  0.011009   \n",
       "4       0.026135  0.757570  0.228966  0.000141  0.004030  ...  0.003059   \n",
       "5       0.031180  0.464673  0.158504  0.000060  0.001719  ...  0.001839   \n",
       "6       0.001667  0.652324  0.246513  0.000063  0.002090  ...  0.002026   \n",
       "7       0.005965  0.621784  0.198495  0.000414  0.007612  ...  0.007177   \n",
       "8       0.007997  0.492364  0.145093  0.000442  0.007515  ...  0.007246   \n",
       "9       0.006503  0.688144  0.259432  0.000216  0.004316  ...  0.003815   \n",
       "10      0.010061  0.670834  0.202009  0.000579  0.010632  ...  0.009273   \n",
       "11      0.001729  0.439718  0.150836  0.000115  0.002545  ...  0.002611   \n",
       "12      0.011656  0.878965  0.213994  0.000275  0.006721  ...  0.006414   \n",
       "13      0.054339  0.569361  0.170895  0.000550  0.009180  ...  0.008971   \n",
       "14      0.016062  1.280238  0.391177  0.000632  0.011600  ...  0.011009   \n",
       "15      0.026135  0.757570  0.228966  0.000141  0.004030  ...  0.003059   \n",
       "16      0.031180  0.464673  0.158504  0.000060  0.001719  ...  0.001839   \n",
       "17      0.001667  0.652324  0.246513  0.000063  0.002090  ...  0.002026   \n",
       "18      0.005965  0.621784  0.198495  0.000414  0.007612  ...  0.007177   \n",
       "19      0.007997  0.492364  0.145093  0.000442  0.007515  ...  0.007246   \n",
       "20      0.006503  0.688144  0.259432  0.000216  0.004316  ...  0.003815   \n",
       "21      0.010061  0.670834  0.202009  0.000579  0.010632  ...  0.009273   \n",
       "22      0.001729  0.439718  0.150836  0.000115  0.002545  ...  0.002611   \n",
       "23      0.011656  0.878965  0.213994  0.000275  0.006721  ...  0.006414   \n",
       "24      0.054339  0.569361  0.170895  0.000550  0.009180  ...  0.008971   \n",
       "25      0.016062  1.280238  0.391177  0.000632  0.011600  ...  0.011009   \n",
       "26      0.026135  0.757570  0.228966  0.000141  0.004030  ...  0.003059   \n",
       "27      0.031180  0.464673  0.158504  0.000060  0.001719  ...  0.001839   \n",
       "28      0.001667  0.652324  0.246513  0.000063  0.002090  ...  0.002026   \n",
       "29      0.005965  0.621784  0.198495  0.000414  0.007612  ...  0.007177   \n",
       "...          ...       ...       ...       ...       ...  ...       ...   \n",
       "3897    0.018301  1.899538  1.680437  0.000155  0.012662  ...  0.011598   \n",
       "3898  457.020649  6.871017  1.982475  0.000305  0.047363  ...  0.038147   \n",
       "3899    0.000912  0.035855  0.009904  0.000020  0.001274  ...  0.001152   \n",
       "3900    0.010000  0.848779  0.217716  0.000356  0.006738  ...  0.006517   \n",
       "3901    0.000130  0.358544  0.152264  0.000002  0.001107  ...  0.000433   \n",
       "3902    0.001231  1.112698  0.395632  0.000012  0.001660  ...  0.002988   \n",
       "3903    0.012989  0.242800  0.012920  0.000022  0.000938  ...  0.000879   \n",
       "3904    0.018301  1.899538  1.680437  0.000155  0.012662  ...  0.011598   \n",
       "3905  457.020649  6.871017  1.982475  0.000305  0.047363  ...  0.038147   \n",
       "3906    0.000741  0.024369  0.007002  0.000012  0.001274  ...  0.001145   \n",
       "3907    0.009849  0.845291  0.216838  0.000354  0.006738  ...  0.006515   \n",
       "3908    0.000112  0.357926  0.152110  0.000002  0.001106  ...  0.000431   \n",
       "3909    0.001079  1.107710  0.394386  0.000008  0.001653  ...  0.002979   \n",
       "3910    0.012896  0.239739  0.012160  0.000019  0.000934  ...  0.000873   \n",
       "3911    0.013212  1.841020  1.665280  0.000090  0.012164  ...  0.011093   \n",
       "3912  457.018333  6.798380  1.964180  0.000246  0.047287  ...  0.038018   \n",
       "3913    0.000741  0.024369  0.007002  0.000012  0.001274  ...  0.001145   \n",
       "3914    0.009849  0.845291  0.216838  0.000354  0.006738  ...  0.006515   \n",
       "3915    0.000112  0.357926  0.152110  0.000002  0.001106  ...  0.000431   \n",
       "3916    0.001079  1.107710  0.394386  0.000008  0.001653  ...  0.002979   \n",
       "3917    0.012896  0.239739  0.012160  0.000019  0.000934  ...  0.000873   \n",
       "3918    0.013212  1.841020  1.665280  0.000090  0.012164  ...  0.011093   \n",
       "3919  457.018333  6.798380  1.964180  0.000246  0.047287  ...  0.038018   \n",
       "3920    0.000741  0.024369  0.007002  0.000012  0.001274  ...  0.001145   \n",
       "3921    0.009849  0.845291  0.216838  0.000354  0.006738  ...  0.006515   \n",
       "3922    0.000112  0.357926  0.152110  0.000002  0.001106  ...  0.000431   \n",
       "3923    0.001079  1.107710  0.394386  0.000008  0.001653  ...  0.002979   \n",
       "3924    0.012896  0.239739  0.012160  0.000019  0.000934  ...  0.000873   \n",
       "3925    0.013212  1.841020  1.665280  0.000090  0.012164  ...  0.011093   \n",
       "3926  457.018333  6.798380  1.964180  0.000246  0.047287  ...  0.038018   \n",
       "\n",
       "           NLT            OD       PMF       POF        TA       TET  \\\n",
       "0     0.000095  4.198364e-08  0.000892  0.001449  0.002575  0.000032   \n",
       "1     0.000043  9.639478e-09  0.001888  0.002891  0.004398  0.000027   \n",
       "2     0.000087  5.997834e-08  0.001279  0.001548  0.003521  0.000029   \n",
       "3     0.000144  1.741131e-08  0.003447  0.003423  0.004719  0.000026   \n",
       "4     0.000270  2.431217e-08  0.000947  0.001913  0.003083  0.000042   \n",
       "5     0.000143  5.399119e-08  0.001132  0.001576  0.002649  0.000042   \n",
       "6     0.000159  5.694385e-08  0.000804  0.001613  0.002568  0.000039   \n",
       "7     0.000076  2.610363e-08  0.002857  0.001562  0.002577  0.000020   \n",
       "8     0.000105  3.359243e-08  0.001328  0.001498  0.003302  0.000025   \n",
       "9     0.000145  5.436389e-08  0.001113  0.001363  0.001946  0.000016   \n",
       "10    0.000064  5.185545e-08  0.002212  0.001139  0.002187  0.000038   \n",
       "11    0.000095  4.198364e-08  0.000892  0.001449  0.002575  0.000032   \n",
       "12    0.000043  9.639478e-09  0.001888  0.002891  0.004398  0.000027   \n",
       "13    0.000087  5.997834e-08  0.001279  0.001548  0.003521  0.000029   \n",
       "14    0.000144  1.741131e-08  0.003447  0.003423  0.004719  0.000026   \n",
       "15    0.000270  2.431217e-08  0.000947  0.001913  0.003083  0.000042   \n",
       "16    0.000143  5.399119e-08  0.001132  0.001576  0.002649  0.000042   \n",
       "17    0.000159  5.694385e-08  0.000804  0.001613  0.002568  0.000039   \n",
       "18    0.000076  2.610363e-08  0.002857  0.001562  0.002577  0.000020   \n",
       "19    0.000105  3.359243e-08  0.001328  0.001498  0.003302  0.000025   \n",
       "20    0.000145  5.436389e-08  0.001113  0.001363  0.001946  0.000016   \n",
       "21    0.000064  5.185545e-08  0.002212  0.001139  0.002187  0.000038   \n",
       "22    0.000095  4.198364e-08  0.000892  0.001449  0.002575  0.000032   \n",
       "23    0.000043  9.639478e-09  0.001888  0.002891  0.004398  0.000027   \n",
       "24    0.000087  5.997834e-08  0.001279  0.001548  0.003521  0.000029   \n",
       "25    0.000144  1.741131e-08  0.003447  0.003423  0.004719  0.000026   \n",
       "26    0.000270  2.431217e-08  0.000947  0.001913  0.003083  0.000042   \n",
       "27    0.000143  5.399119e-08  0.001132  0.001576  0.002649  0.000042   \n",
       "28    0.000159  5.694385e-08  0.000804  0.001613  0.002568  0.000039   \n",
       "29    0.000076  2.610363e-08  0.002857  0.001562  0.002577  0.000020   \n",
       "...        ...           ...       ...       ...       ...       ...   \n",
       "3897  0.000031  3.521547e-07  0.001469  0.005016  0.004021  0.000069   \n",
       "3898  0.006567  9.797209e-07  0.008170  0.160604  0.018135  0.021846   \n",
       "3899  0.000020  2.369125e-09  0.000082  0.000096  0.000085  0.000027   \n",
       "3900  0.000038  5.745060e-09  0.001145  0.000802  0.001011  0.000019   \n",
       "3901  0.000054  3.667573e-08  0.000085  0.000350  0.000270  0.000015   \n",
       "3902  0.000412  2.018920e-07  0.000660  0.001151  0.001444  0.000178   \n",
       "3903  0.000007  2.620070e-09  0.005116  0.000447  0.038596  0.000005   \n",
       "3904  0.000031  3.521547e-07  0.001469  0.005016  0.004021  0.000069   \n",
       "3905  0.006567  9.797209e-07  0.008170  0.160604  0.018135  0.021846   \n",
       "3906  0.000019  2.604506e-09  0.000055  0.000088  0.000070  0.000028   \n",
       "3907  0.000038  5.825805e-09  0.001135  0.000799  0.001006  0.000019   \n",
       "3908  0.000054  3.668883e-08  0.000084  0.000350  0.000269  0.000016   \n",
       "3909  0.000412  2.020088e-07  0.000648  0.001147  0.001436  0.000178   \n",
       "3910  0.000007  2.690420e-09  0.005108  0.000445  0.038591  0.000005   \n",
       "3911  0.000029  3.567844e-07  0.001366  0.004942  0.003714  0.000073   \n",
       "3912  0.006566  9.814795e-07  0.007991  0.160547  0.018005  0.021851   \n",
       "3913  0.000019  2.604506e-09  0.000055  0.000088  0.000070  0.000028   \n",
       "3914  0.000038  5.825805e-09  0.001135  0.000799  0.001006  0.000019   \n",
       "3915  0.000054  3.668883e-08  0.000084  0.000350  0.000269  0.000016   \n",
       "3916  0.000412  2.020088e-07  0.000648  0.001147  0.001436  0.000178   \n",
       "3917  0.000007  2.690420e-09  0.005108  0.000445  0.038591  0.000005   \n",
       "3918  0.000029  3.567844e-07  0.001366  0.004942  0.003714  0.000073   \n",
       "3919  0.006566  9.814795e-07  0.007991  0.160547  0.018005  0.021851   \n",
       "3920  0.000019  2.604506e-09  0.000055  0.000088  0.000070  0.000028   \n",
       "3921  0.000038  5.825805e-09  0.001135  0.000799  0.001006  0.000019   \n",
       "3922  0.000054  3.668883e-08  0.000084  0.000350  0.000269  0.000016   \n",
       "3923  0.000412  2.020088e-07  0.000648  0.001147  0.001436  0.000178   \n",
       "3924  0.000007  2.690420e-09  0.005108  0.000445  0.038591  0.000005   \n",
       "3925  0.000029  3.567844e-07  0.001366  0.004942  0.003714  0.000073   \n",
       "3926  0.006566  9.814795e-07  0.007991  0.160547  0.018005  0.021851   \n",
       "\n",
       "           ULO        WD       total  \n",
       "0     0.001414  0.000932    0.730810  \n",
       "1     0.008280  0.002890    1.428306  \n",
       "2     0.002380  0.002569    1.391724  \n",
       "3     0.011272  0.004488    2.246514  \n",
       "4     0.003885  0.001848    1.179258  \n",
       "5     0.002528  0.000922    0.771723  \n",
       "6     0.001522  0.001714    1.029387  \n",
       "7     0.003618  0.002253    1.184256  \n",
       "8     0.001973  0.002387    1.075239  \n",
       "9     0.001889  0.002682    1.269723  \n",
       "10    0.002753  0.002832    1.433476  \n",
       "11    0.001414  0.000932    0.730810  \n",
       "12    0.008280  0.002890    1.428306  \n",
       "13    0.002380  0.002569    1.391724  \n",
       "14    0.011272  0.004488    2.246514  \n",
       "15    0.003885  0.001848    1.179258  \n",
       "16    0.002528  0.000922    0.771723  \n",
       "17    0.001522  0.001714    1.029387  \n",
       "18    0.003618  0.002253    1.184256  \n",
       "19    0.001973  0.002387    1.075239  \n",
       "20    0.001889  0.002682    1.269723  \n",
       "21    0.002753  0.002832    1.433476  \n",
       "22    0.001414  0.000932    0.730810  \n",
       "23    0.008280  0.002890    1.428306  \n",
       "24    0.002380  0.002569    1.391724  \n",
       "25    0.011272  0.004488    2.246514  \n",
       "26    0.003885  0.001848    1.179258  \n",
       "27    0.002528  0.000922    0.771723  \n",
       "28    0.001522  0.001714    1.029387  \n",
       "29    0.003618  0.002253    1.184256  \n",
       "...        ...       ...         ...  \n",
       "3897  0.005763  0.001350    3.990756  \n",
       "3898  8.174511  0.056550  475.857003  \n",
       "3899  0.000691  0.000166    0.115551  \n",
       "3900  0.008007  0.002483    1.382510  \n",
       "3901  0.000151  0.001228    0.531669  \n",
       "3902  0.001853  0.001133    1.709028  \n",
       "3903  0.000883  0.000082    0.351302  \n",
       "3904  0.005763  0.001350    3.990756  \n",
       "3905  8.174511  0.056550  475.857003  \n",
       "3906  0.000656  0.000159    0.100372  \n",
       "3907  0.007995  0.002483    1.377976  \n",
       "3908  0.000150  0.001228    0.530801  \n",
       "3909  0.001839  0.001130    1.702162  \n",
       "3910  0.000874  0.000081    0.347110  \n",
       "3911  0.005676  0.001433    3.919192  \n",
       "3912  8.174314  0.056513  475.756703  \n",
       "3913  0.000656  0.000159    0.100372  \n",
       "3914  0.007995  0.002483    1.377976  \n",
       "3915  0.000150  0.001228    0.530801  \n",
       "3916  0.001839  0.001130    1.702162  \n",
       "3917  0.000874  0.000081    0.347110  \n",
       "3918  0.005676  0.001433    3.919192  \n",
       "3919  8.174314  0.056513  475.756703  \n",
       "3920  0.000656  0.000159    0.100372  \n",
       "3921  0.007995  0.002483    1.377976  \n",
       "3922  0.000150  0.001228    0.530801  \n",
       "3923  0.001839  0.001130    1.702162  \n",
       "3924  0.000874  0.000081    0.347110  \n",
       "3925  0.005676  0.001433    3.919192  \n",
       "3926  8.174314  0.056513  475.756703  \n",
       "\n",
       "[4488 rows x 24 columns]"
      ]
     },
     "execution_count": 44,
     "metadata": {},
     "output_type": "execute_result"
    }
   ],
   "source": [
    "pd.DataFrame(end_end)"
   ]
  },
  {
   "cell_type": "markdown",
   "metadata": {},
   "source": [
    "join with REMIND mapping and energy content conversion"
   ]
  },
  {
   "cell_type": "code",
   "execution_count": 45,
   "metadata": {},
   "outputs": [],
   "source": [
    "# join with REMIND mapping\n",
    "## read REMIND mapping\n",
    "## join\n",
    "## divide with convertion to go to EJ"
   ]
  },
  {
   "cell_type": "code",
   "execution_count": 46,
   "metadata": {},
   "outputs": [],
   "source": [
    "tech_mapping = pd.read_csv(\"data\\\\ecoinventtoREMINDtechmap.csv\", sep = ';', index_col = False) "
   ]
  },
  {
   "cell_type": "code",
   "execution_count": 47,
   "metadata": {},
   "outputs": [],
   "source": [
    "end_end = pd.merge(end_end, tech_mapping, left_on=['variable'], right_on=['ecoinvent'], how= \"left\")"
   ]
  },
  {
   "cell_type": "code",
   "execution_count": 48,
   "metadata": {},
   "outputs": [],
   "source": [
    "end_end['total'] = end_end['total'] / end_end['conv']\n",
    "end_end[categories]  = end_end[categories].divide(end_end[\"conv\"], axis=\"index\")"
   ]
  },
  {
   "cell_type": "markdown",
   "metadata": {},
   "source": [
    "cleanup"
   ]
  },
  {
   "cell_type": "code",
   "execution_count": 49,
   "metadata": {},
   "outputs": [
    {
     "name": "stderr",
     "output_type": "stream",
     "text": [
      "C:\\Users\\rauner\\AppData\\Local\\Continuum\\miniconda3\\lib\\site-packages\\pandas\\core\\frame.py:3381: SettingWithCopyWarning: \n",
      "A value is trying to be set on a copy of a slice from a DataFrame.\n",
      "Try using .loc[row_indexer,col_indexer] = value instead\n",
      "\n",
      "See the caveats in the documentation: http://pandas.pydata.org/pandas-docs/stable/indexing.html#indexing-view-versus-copy\n",
      "  self[k1] = value[k2]\n",
      "C:\\Users\\rauner\\AppData\\Local\\Continuum\\miniconda3\\lib\\site-packages\\ipykernel_launcher.py:3: SettingWithCopyWarning: \n",
      "A value is trying to be set on a copy of a slice from a DataFrame.\n",
      "Try using .loc[row_indexer,col_indexer] = value instead\n",
      "\n",
      "See the caveats in the documentation: http://pandas.pydata.org/pandas-docs/stable/indexing.html#indexing-view-versus-copy\n",
      "  This is separate from the ipykernel package so we can avoid doing imports until\n"
     ]
    }
   ],
   "source": [
    "end_end_out = end_end[['period','scenario','REMIND','end_category', 'RegionCode']]\n",
    "end_end_out[categories] = end_end[categories]\n",
    "end_end_out['total'] = end_end['total']"
   ]
  },
  {
   "cell_type": "code",
   "execution_count": 50,
   "metadata": {},
   "outputs": [],
   "source": [
    "end_end_out = pd.melt(end_end_out, id_vars=['period', 'scenario','REMIND','RegionCode','end_category'], value_vars=categories_total)"
   ]
  },
  {
   "cell_type": "markdown",
   "metadata": {},
   "source": [
    "write results"
   ]
  },
  {
   "cell_type": "code",
   "execution_count": 51,
   "metadata": {},
   "outputs": [],
   "source": [
    "end_end_out.to_csv('results\\\\lca_per_tec_mid_points' + project  + '.csv', sep=';')"
   ]
  },
  {
   "cell_type": "markdown",
   "metadata": {},
   "source": [
    "# read all REMIND mifs and calculate the actual model specific LCA including the monetization\n",
    "1. read all mifs and append them\n",
    "2. join with end_end_out and multiply\n",
    "3. join with vsl_coeff\n",
    "    1. join vsl_coeff with regions mapping and average over region"
   ]
  },
  {
   "cell_type": "markdown",
   "metadata": {},
   "source": [
    "read REMIND results"
   ]
  },
  {
   "cell_type": "code",
   "execution_count": 52,
   "metadata": {},
   "outputs": [],
   "source": [
    "mif_names = os.listdir(\"data\\\\mifs\\\\\")"
   ]
  },
  {
   "cell_type": "markdown",
   "metadata": {},
   "source": [
    "mifs from wide to long"
   ]
  },
  {
   "cell_type": "code",
   "execution_count": 53,
   "metadata": {},
   "outputs": [],
   "source": [
    "mifs = pd.concat( [ pd.read_csv(\"data\\\\mifs\\\\\" + mif, sep = ';') for mif in mif_names ] )"
   ]
  },
  {
   "cell_type": "markdown",
   "metadata": {},
   "source": [
    "define colnames that are years"
   ]
  },
  {
   "cell_type": "code",
   "execution_count": 54,
   "metadata": {},
   "outputs": [],
   "source": [
    "mifs = mifs.drop('Unnamed: 24', 1)"
   ]
  },
  {
   "cell_type": "code",
   "execution_count": 55,
   "metadata": {},
   "outputs": [],
   "source": [
    "year_cols = [col for col in mifs.columns if '2' in col]"
   ]
  },
  {
   "cell_type": "code",
   "execution_count": 56,
   "metadata": {
    "slideshow": {
     "slide_type": "slide"
    }
   },
   "outputs": [],
   "source": [
    "mifs = pd.melt(mifs, id_vars=['Model', 'Scenario','Region','Variable', 'Unit'], value_vars=year_cols)"
   ]
  },
  {
   "cell_type": "markdown",
   "metadata": {},
   "source": [
    "rename columns"
   ]
  },
  {
   "cell_type": "code",
   "execution_count": 57,
   "metadata": {},
   "outputs": [],
   "source": [
    "mifs.columns=['model','scenario','region','tech','unit','period','SE']\n",
    "mifs = mifs.drop('model', 1)\n",
    "end_end_out.columns=['period','scenario','tech','region','end_category','category','lca']"
   ]
  },
  {
   "cell_type": "markdown",
   "metadata": {},
   "source": [
    "join LCA results with the mifs"
   ]
  },
  {
   "cell_type": "code",
   "execution_count": 58,
   "metadata": {},
   "outputs": [],
   "source": [
    "mifs['period']=mifs['period'].astype(int)\n",
    "end_end_out['period']=end_end_out['period'].astype(int)"
   ]
  },
  {
   "cell_type": "markdown",
   "metadata": {},
   "source": [
    "map scenarios"
   ]
  },
  {
   "cell_type": "code",
   "execution_count": 59,
   "metadata": {},
   "outputs": [
    {
     "name": "stderr",
     "output_type": "stream",
     "text": [
      "C:\\Users\\rauner\\AppData\\Local\\Continuum\\miniconda3\\lib\\site-packages\\ipykernel_launcher.py:1: SettingWithCopyWarning: \n",
      "A value is trying to be set on a copy of a slice from a DataFrame\n",
      "\n",
      "See the caveats in the documentation: http://pandas.pydata.org/pandas-docs/stable/indexing.html#indexing-view-versus-copy\n",
      "  \"\"\"Entry point for launching an IPython kernel.\n",
      "C:\\Users\\rauner\\AppData\\Local\\Continuum\\miniconda3\\lib\\site-packages\\ipykernel_launcher.py:2: SettingWithCopyWarning: \n",
      "A value is trying to be set on a copy of a slice from a DataFrame\n",
      "\n",
      "See the caveats in the documentation: http://pandas.pydata.org/pandas-docs/stable/indexing.html#indexing-view-versus-copy\n",
      "  \n",
      "C:\\Users\\rauner\\AppData\\Local\\Continuum\\miniconda3\\lib\\site-packages\\ipykernel_launcher.py:3: SettingWithCopyWarning: \n",
      "A value is trying to be set on a copy of a slice from a DataFrame\n",
      "\n",
      "See the caveats in the documentation: http://pandas.pydata.org/pandas-docs/stable/indexing.html#indexing-view-versus-copy\n",
      "  This is separate from the ipykernel package so we can avoid doing imports until\n",
      "C:\\Users\\rauner\\AppData\\Local\\Continuum\\miniconda3\\lib\\site-packages\\ipykernel_launcher.py:4: SettingWithCopyWarning: \n",
      "A value is trying to be set on a copy of a slice from a DataFrame\n",
      "\n",
      "See the caveats in the documentation: http://pandas.pydata.org/pandas-docs/stable/indexing.html#indexing-view-versus-copy\n",
      "  after removing the cwd from sys.path.\n",
      "C:\\Users\\rauner\\AppData\\Local\\Continuum\\miniconda3\\lib\\site-packages\\ipykernel_launcher.py:5: SettingWithCopyWarning: \n",
      "A value is trying to be set on a copy of a slice from a DataFrame\n",
      "\n",
      "See the caveats in the documentation: http://pandas.pydata.org/pandas-docs/stable/indexing.html#indexing-view-versus-copy\n",
      "  \"\"\"\n"
     ]
    }
   ],
   "source": [
    "end_end_out['scenario'][end_end_out['scenario'] == 'ecoinvent'] = 'SSP2-Ref'\n",
    "end_end_out['scenario'][end_end_out['scenario'] == 'INDC'] = 'SSP2-INDC'\n",
    "end_end_out['scenario'][end_end_out['scenario'] == 'RCP26'] = 'SSP2-26'\n",
    "end_end_out['scenario'][end_end_out['scenario'] == 'Ref'] = 'SSP2-Ref'\n",
    "end_end_out['scenario'][end_end_out['scenario'] == 'coal_exit'] = 'SSP2-INDC_coal_exit'"
   ]
  },
  {
   "cell_type": "code",
   "execution_count": 60,
   "metadata": {},
   "outputs": [],
   "source": [
    "end_end_out = pd.merge(end_end_out, mifs, left_on=['period','scenario','tech','region'], right_on=['period','scenario','tech','region'], how= \"left\")\n",
    "end_end_out['lca_impact'] = end_end_out['lca'] * end_end_out['SE']"
   ]
  },
  {
   "cell_type": "markdown",
   "metadata": {},
   "source": [
    "write results"
   ]
  },
  {
   "cell_type": "code",
   "execution_count": 61,
   "metadata": {},
   "outputs": [],
   "source": [
    "end_end_out.to_csv('results\\\\lca_REMIND_mid_points' + project  + '.csv', sep=';')"
   ]
  }
 ],
 "metadata": {
  "kernelspec": {
   "display_name": "Python 3",
   "language": "python",
   "name": "python3"
  },
  "language_info": {
   "codemirror_mode": {
    "name": "ipython",
    "version": 3
   },
   "file_extension": ".py",
   "mimetype": "text/x-python",
   "name": "python",
   "nbconvert_exporter": "python",
   "pygments_lexer": "ipython3",
   "version": "3.7.1"
  }
 },
 "nbformat": 4,
 "nbformat_minor": 2
}
