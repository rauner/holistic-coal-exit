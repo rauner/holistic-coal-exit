{
 "cells": [
  {
   "cell_type": "markdown",
   "metadata": {},
   "source": [
    "In this notebook we add carbon biosphere flows to the IPCC 2013 method so that we can have negative CO2 emissions from biomass CCS"
   ]
  },
  {
   "cell_type": "markdown",
   "metadata": {},
   "source": [
    "import useful libraries and set current project:"
   ]
  },
  {
   "cell_type": "code",
   "execution_count": 1,
   "metadata": {},
   "outputs": [
    {
     "name": "stdout",
     "output_type": "stream",
     "text": [
      "The autoreload extension is already loaded. To reload it, use:\n",
      "  %reload_ext autoreload\n"
     ]
    }
   ],
   "source": [
    "%run initialize_notebook.ipynb"
   ]
  },
  {
   "cell_type": "code",
   "execution_count": 22,
   "metadata": {},
   "outputs": [],
   "source": [
    "from helpers import lcahelp"
   ]
  },
  {
   "cell_type": "code",
   "execution_count": 3,
   "metadata": {},
   "outputs": [
    {
     "data": {
      "text/plain": [
       "'REMIND_ecoinvent_3.5'"
      ]
     },
     "execution_count": 3,
     "metadata": {},
     "output_type": "execute_result"
    }
   ],
   "source": [
    "projects.current"
   ]
  },
  {
   "cell_type": "markdown",
   "metadata": {},
   "source": [
    "# Create IPCC 2013 method will all non-fossil CO2 characterised:"
   ]
  },
  {
   "cell_type": "code",
   "execution_count": 24,
   "metadata": {},
   "outputs": [
    {
     "name": "stdout",
     "output_type": "stream",
     "text": [
      "Adding the following flows:\n",
      "['Carbon dioxide, non-fossil' (kilogram, None, ('air', 'low population density, long-term')),\n",
      " 'Carbon dioxide, non-fossil' (kilogram, None, ('air', 'lower stratosphere + upper troposphere')),\n",
      " 'Carbon dioxide, non-fossil' (kilogram, None, ('air',)),\n",
      " 'Carbon dioxide, non-fossil' (kilogram, None, ('air', 'non-urban air or from high stacks')),\n",
      " 'Carbon dioxide, non-fossil' (kilogram, None, ('air', 'urban air close to ground'))]\n",
      "Adding 'Carbon dioxide, in air' (kilogram, None, ('natural resource', 'in air')).\n"
     ]
    }
   ],
   "source": [
    "lcahelp.add_non_fossil_co2_flows_to_ipcc_method()"
   ]
  },
  {
   "cell_type": "markdown",
   "metadata": {
    "collapsed": true
   },
   "source": [
    "# Create a new biosphere flow for non-fossil CO2 to geological storage."
   ]
  },
  {
   "cell_type": "code",
   "execution_count": 25,
   "metadata": {},
   "outputs": [
    {
     "name": "stdout",
     "output_type": "stream",
     "text": [
      "Database Error (The flow is likely to be present already): UNIQUE constraint failed: activitydataset.database, activitydataset.code\n",
      "Added new flow: 'CO2 to geological storage, non-fossil' (kilogram, GLO, ('geological storage',))\n",
      "Use 'Carbon dioxide, to soil or biomass stock' (kilogram, None, ('soil',)) as a template for the characterization factors.\n",
      "Flow added to method: ('IPCC 2013', 'climate change', 'GWP 100a')\n",
      "Characterisation factor: -1.0\n",
      "Flow added to method: ('ReCiPe Endpoint (H,A)', 'human health', 'total')\n",
      "Characterisation factor: -0.277227722772\n",
      "Flow added to method: ('ReCiPe Endpoint (H,A)', 'ecosystem quality', 'total')\n",
      "Characterisation factor: -0.175224928177\n",
      "Flow added to method: ('ReCiPe Endpoint (H,A)', 'total', 'total')\n",
      "Characterisation factor: -0.452452650949\n"
     ]
    }
   ],
   "source": [
    "lcahelp.add_non_fossil_co2_flows_to_storage()"
   ]
  },
  {
   "cell_type": "code",
   "execution_count": null,
   "metadata": {},
   "outputs": [],
   "source": []
  }
 ],
 "metadata": {
  "kernelspec": {
   "display_name": "Python 3",
   "language": "python",
   "name": "python3"
  },
  "language_info": {
   "codemirror_mode": {
    "name": "ipython",
    "version": 3
   },
   "file_extension": ".py",
   "mimetype": "text/x-python",
   "name": "python",
   "nbconvert_exporter": "python",
   "pygments_lexer": "ipython3",
   "version": "3.7.1"
  },
  "toc": {
   "colors": {
    "hover_highlight": "#DAA520",
    "running_highlight": "#FF0000",
    "selected_highlight": "#FFD700"
   },
   "moveMenuLeft": true,
   "nav_menu": {
    "height": "12px",
    "width": "252px"
   },
   "navigate_menu": true,
   "number_sections": true,
   "sideBar": true,
   "threshold": 4,
   "toc_cell": false,
   "toc_section_display": "block",
   "toc_window_display": false,
   "widenNotebook": false
  }
 },
 "nbformat": 4,
 "nbformat_minor": 2
}
