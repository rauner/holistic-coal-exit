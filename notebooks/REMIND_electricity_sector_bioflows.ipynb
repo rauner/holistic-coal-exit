{
 "cells": [
  {
   "cell_type": "markdown",
   "metadata": {},
   "source": [
    "# REMIND Electricity Sector Biosphere Flows\n",
    "\n",
    "Calculate all biosphere flow coefficients for the REMIND electricity sector. **Values are given per kWh**."
   ]
  },
  {
   "cell_type": "code",
   "execution_count": null,
   "metadata": {},
   "outputs": [],
   "source": [
    "from progressbar import progressbar\n",
    "import helpers.eimod as eimod\n",
    "import helpers.ei2rmnd as ei2rmnd"
   ]
  },
  {
   "cell_type": "code",
   "execution_count": null,
   "metadata": {},
   "outputs": [],
   "source": [
    "%run initialize_notebook.ipynb"
   ]
  },
  {
   "cell_type": "code",
   "execution_count": null,
   "metadata": {},
   "outputs": [],
   "source": [
    "databases"
   ]
  },
  {
   "cell_type": "markdown",
   "metadata": {},
   "source": [
    "Add some inventory material flows to the biosphere:"
   ]
  },
  {
   "cell_type": "code",
   "execution_count": null,
   "metadata": {},
   "outputs": [],
   "source": [
    "from helpers import activitymaps\n",
    "activitymaps.materials"
   ]
  },
  {
   "cell_type": "code",
   "execution_count": null,
   "metadata": {},
   "outputs": [],
   "source": [
    "ei2rmnd.add_REMIND_technosphere_flows()"
   ]
  },
  {
   "cell_type": "markdown",
   "metadata": {},
   "source": [
    "## Bioflows of the electricity sector without double counting\n",
    "\n",
    "Calculate impact for an electricity generating technology in the REMIND power sector excluding *other* activities that are part of the electricity sector to avoid double counting."
   ]
  },
  {
   "cell_type": "code",
   "execution_count": null,
   "metadata": {},
   "outputs": [],
   "source": [
    "df = ei2rmnd.rmnd_bioflows(activitymaps.powerplants, \"EUR\", \"BAU\", 2015)"
   ]
  },
  {
   "cell_type": "code",
   "execution_count": null,
   "metadata": {},
   "outputs": [],
   "source": [
    "df = df.reset_index().rename({\"level_0\": \"RMND Tech\"}, axis=1).set_index([\"RMND Tech\", \"flow\"])\n",
    "df.sample(20)"
   ]
  },
  {
   "cell_type": "markdown",
   "metadata": {},
   "source": [
    "## Bioflows from the electricity sector with double counting\n",
    "\n",
    "E.g., flows from wind power plants include coal-generated electricity impacts that are already being accounted for by a `electricity production, coal` lca."
   ]
  },
  {
   "cell_type": "code",
   "execution_count": null,
   "metadata": {},
   "outputs": [],
   "source": [
    "df_dc = rmnd_bioflows(\"EUR\", double_counting=True)"
   ]
  },
  {
   "cell_type": "code",
   "execution_count": null,
   "metadata": {},
   "outputs": [],
   "source": [
    "df_dc = df_dc.reset_index().rename({\"level_0\": \"RMND Tech\"}, axis=1).set_index([\"RMND Tech\", \"flow\"])\n",
    "df_dc.sample(20)"
   ]
  },
  {
   "cell_type": "markdown",
   "metadata": {},
   "source": [
    "## Impact of double counting\n",
    "\n",
    "Compare versions with and without double counting."
   ]
  },
  {
   "cell_type": "code",
   "execution_count": null,
   "metadata": {},
   "outputs": [],
   "source": [
    "fulldf = df.join(df_dc, lsuffix=\"_nodc\", rsuffix=\"_dc\")"
   ]
  },
  {
   "cell_type": "code",
   "execution_count": null,
   "metadata": {},
   "outputs": [],
   "source": [
    "fulldf[\"rel. (nodc/dc)\"] = fulldf[\"amount_nodc\"]/fulldf[\"amount_dc\"]"
   ]
  },
  {
   "cell_type": "code",
   "execution_count": null,
   "metadata": {},
   "outputs": [],
   "source": [
    "fulldf[\"abs. (dc - nodc)\"] = fulldf[\"amount_dc\"] - fulldf[\"amount_nodc\"]"
   ]
  },
  {
   "cell_type": "code",
   "execution_count": null,
   "metadata": {},
   "outputs": [],
   "source": [
    "fulldf.loc[fulldf[\"rel. (nodc/dc)\"] > 0].sort_values(\"rel. (nodc/dc)\", ascending=False)[:30]"
   ]
  },
  {
   "cell_type": "code",
   "execution_count": null,
   "metadata": {},
   "outputs": [],
   "source": [
    "fulldf.loc[fulldf[\"rel. (nodc/dc)\"] > 1].sort_values(by=\"rel. (nodc/dc)\", ascending=False)"
   ]
  },
  {
   "cell_type": "markdown",
   "metadata": {},
   "source": [
    "### Only technosphere / inventory flows"
   ]
  },
  {
   "cell_type": "code",
   "execution_count": null,
   "metadata": {},
   "outputs": [],
   "source": [
    "techs = [\"steel\", \"concrete\", \"copper\", \"aluminium\", \"electricity\", \n",
    "         \"gas\", \"diesel\", \"petrol\", \"freight\", \"cement\", \"heat\"]\n",
    "techdf = fulldf.reset_index()"
   ]
  },
  {
   "cell_type": "code",
   "execution_count": null,
   "metadata": {},
   "outputs": [],
   "source": [
    "techdf[techdf[\"flow\"].isin(techs)].set_index([\"RMND Tech\", \"flow\"])"
   ]
  },
  {
   "cell_type": "markdown",
   "metadata": {},
   "source": [
    "### What about geothermal power plants?\n",
    "\n",
    "...seem to have quite a large double-counting value (large electricity production?)."
   ]
  },
  {
   "cell_type": "code",
   "execution_count": null,
   "metadata": {},
   "outputs": [],
   "source": []
  },
  {
   "cell_type": "code",
   "execution_count": null,
   "metadata": {},
   "outputs": [],
   "source": [
    "databases"
   ]
  },
  {
   "cell_type": "code",
   "execution_count": null,
   "metadata": {},
   "outputs": [],
   "source": [
    "eidb = Database(\"ecoinvent_Remind_BAU_2030\")"
   ]
  },
  {
   "cell_type": "code",
   "execution_count": null,
   "metadata": {},
   "outputs": [],
   "source": [
    "regions = ei2rmnd.ei_locations_in_remind_region(\"EUR\")\n",
    "geot = [act for act in eidb if \"electricity production\" in act[\"name\"]\n",
    "and \"geothermal\" in act[\"name\"]\n",
    "       and act[\"location\"] in regions]"
   ]
  },
  {
   "cell_type": "code",
   "execution_count": null,
   "metadata": {},
   "outputs": [],
   "source": [
    "geot"
   ]
  },
  {
   "cell_type": "code",
   "execution_count": null,
   "metadata": {},
   "outputs": [],
   "source": [
    "lca = LCA({act: 1./len(geot) for act in geot})"
   ]
  },
  {
   "cell_type": "code",
   "execution_count": null,
   "metadata": {},
   "outputs": [],
   "source": [
    "lca.lci()"
   ]
  },
  {
   "cell_type": "code",
   "execution_count": null,
   "metadata": {},
   "outputs": [],
   "source": [
    "bio = Database(\"biosphere3\")"
   ]
  },
  {
   "cell_type": "code",
   "execution_count": null,
   "metadata": {},
   "outputs": [],
   "source": [
    "ant=[act for act in bio if \"Antimony\" == act[\"name\"]]"
   ]
  },
  {
   "cell_type": "code",
   "execution_count": null,
   "metadata": {},
   "outputs": [],
   "source": [
    "ant_idcs = []\n",
    "for act in ant:\n",
    "    try:\n",
    "        ant_idcs.append(lca.biosphere_dict[act.key])\n",
    "    except KeyError as e:\n",
    "        print(\"Flow not found: {}\".format(get_activity(act.key)[\"name\"]))"
   ]
  },
  {
   "cell_type": "code",
   "execution_count": null,
   "metadata": {},
   "outputs": [],
   "source": [
    "ant_contr = lca.inventory[ant_idcs].sum(axis=0).tolist()[0]"
   ]
  },
  {
   "cell_type": "code",
   "execution_count": null,
   "metadata": {},
   "outputs": [],
   "source": [
    "names = [get_activity(key)[\"name\"] for key in lca.activity_dict]"
   ]
  },
  {
   "cell_type": "code",
   "execution_count": null,
   "metadata": {},
   "outputs": [],
   "source": [
    "contrbtrs = pd.Series({\"{} | {}\".format(names[idx], list(lca.activity_dict.keys())[idx]): ant_contr[idx] for idx in range(len(names))})"
   ]
  },
  {
   "cell_type": "code",
   "execution_count": null,
   "metadata": {},
   "outputs": [],
   "source": [
    "contrbtrs.sort_values()[:20]"
   ]
  },
  {
   "cell_type": "code",
   "execution_count": null,
   "metadata": {},
   "outputs": [],
   "source": [
    "contrbtrs.sum()"
   ]
  },
  {
   "cell_type": "markdown",
   "metadata": {},
   "source": [
    "The negative impact seems to come from bioenergy power plants."
   ]
  },
  {
   "cell_type": "code",
   "execution_count": null,
   "metadata": {},
   "outputs": [],
   "source": []
  }
 ],
 "metadata": {
  "kernelspec": {
   "display_name": "Python 3",
   "language": "python",
   "name": "python3"
  },
  "language_info": {
   "codemirror_mode": {
    "name": "ipython",
    "version": 3
   },
   "file_extension": ".py",
   "mimetype": "text/x-python",
   "name": "python",
   "nbconvert_exporter": "python",
   "pygments_lexer": "ipython3",
   "version": "3.7.1"
  }
 },
 "nbformat": 4,
 "nbformat_minor": 2
}
