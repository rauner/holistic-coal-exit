{
 "cells": [
  {
   "cell_type": "markdown",
   "metadata": {},
   "source": [
    "# Construct LCAs for REMIND technologies and regions"
   ]
  },
  {
   "cell_type": "code",
   "execution_count": 4,
   "metadata": {},
   "outputs": [],
   "source": [
    "def lca_for_multiple_techs_and_regions(techs, regions, db, units_and_conversions={}):\n",
    "    \"\"\" Perform LCA calculations for multiple technologies (activities) and regions.\n",
    "        The demand is distributed evenly over all found activities (average).\n",
    "    \"\"\"\n",
    "    if len(techs) == 0:\n",
    "        return None\n",
    "    # print(\"LCA for activities (from {}): {}\".format(db.name, techs))\n",
    "    actvts = [act for act in db if act[\"name\"] in techs and\n",
    "                act[\"location\"] in regions]\n",
    "    if len(actvts) == 0:\n",
    "        actvts = [act for act in db if act[\"name\"] in techs and\n",
    "                    act[\"location\"] == \"RoW\"]\n",
    "        if len(actvts) == 0:\n",
    "            actvts = [act for act in db if act[\"name\"] in techs and\n",
    "                        act[\"location\"] == \"GLO\"]\n",
    "            if len(actvts) == 0:\n",
    "                print(\"Could not find any activities matching {}\".format(techs))\n",
    "                return None\n",
    "    \n",
    "    # set demand to portion\n",
    "    # TODO: Somehow seperate heat and power generation for CHP\n",
    "    if hasattr(actvts[0], \"demand\"):\n",
    "        raise Exception(\"Activity object changed: demand attribute found.\")\n",
    "    \n",
    "    share = 1./len(actvts)\n",
    "    for act in actvts:\n",
    "        if act[\"unit\"] in units_and_conversions.keys():\n",
    "            act.demand = share * units_and_conversions[act[\"unit\"]]\n",
    "        else:\n",
    "            print(\"WARNING: Irregular units found for {}: {}.\".format(act, act[\"unit\"]))\n",
    "            \n",
    "    lca = LCA({act: act.demand for act in actvts})\n",
    "    lca.lci()\n",
    "    \n",
    "    return lca\n"
   ]
  },
  {
   "cell_type": "code",
   "execution_count": 5,
   "metadata": {},
   "outputs": [],
   "source": [
    "def ei_locations_in_remind_region(region):\n",
    "    regions = [el[1] if type(el) == tuple else el for el in geomatcher.contained((\"REMIND\", region))]\n",
    "    if region == \"EUR\":\n",
    "        regions.append(\"RER\")\n",
    "    return regions\n"
   ]
  },
  {
   "cell_type": "code",
   "execution_count": 6,
   "metadata": {},
   "outputs": [],
   "source": [
    "def get_REMIND_database_name(scenario, year):\n",
    "    return \"_\".join([\"ecoinvent\", \"Remind\", scenario, str(year)])"
   ]
  },
  {
   "cell_type": "code",
   "execution_count": null,
   "metadata": {},
   "outputs": [],
   "source": []
  }
 ],
 "metadata": {
  "kernelspec": {
   "display_name": "Python 3",
   "language": "python",
   "name": "python3"
  },
  "language_info": {
   "codemirror_mode": {
    "name": "ipython",
    "version": 3
   },
   "file_extension": ".py",
   "mimetype": "text/x-python",
   "name": "python",
   "nbconvert_exporter": "python",
   "pygments_lexer": "ipython3",
   "version": "3.7.1"
  }
 },
 "nbformat": 4,
 "nbformat_minor": 2
}
