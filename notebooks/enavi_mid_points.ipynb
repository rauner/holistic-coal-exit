{
 "cells": [
  {
   "cell_type": "markdown",
   "metadata": {},
   "source": [
    "# import brightway2 results for the coal exit scenarios\n",
    "0. calcualte the energy market electricity high voltage mix RECIPE total, HH, ED and RD\n",
    "(indicator x scenarios x period)\n",
    "\n",
    "0. calculate the mid to endpoint DALYS, and species.year\n",
    "\n",
    "0. do the same for the other SE carriers \n",
    "    1. coarse match of REMIND and brightway technologies on REMIND SE level\n",
    "    2. calculate the RECIPE total (3) for all these technologies in table form\n",
    "       (technologies x indicator x scenarios x period)\n",
    "\n",
    "1. use these tables to do a post processing (R) to aggregate and monetize the DALYS and monetize the ED\n",
    "     1. read in results of this script\n",
    "     2. use conversion factors for ecoinvent to REMIND\n",
    "     3. use a REMIND activity mapping\n",
    "     4. monetize DALYS and PDFs\n",
    "    \n",
    "\n",
    "1. nice to have, adjust mid to end pop with SSP pop data country specific?\n",
    "2. nice to have adjust the land occupation indicator with country specific species data\n",
    "3. nice to have disaggregate the land occupating indicator \n",
    "4. update to RECIPE 2016 when available\n",
    "5. dont use the global mean for SE technologies\n",
    "6. automatic scenario name mapping"
   ]
  },
  {
   "cell_type": "markdown",
   "metadata": {},
   "source": [
    "the se regional mapping is global"
   ]
  },
  {
   "cell_type": "markdown",
   "metadata": {},
   "source": [
    "# import the brightway2 results for the coal exit scenarios"
   ]
  },
  {
   "cell_type": "code",
   "execution_count": 1,
   "metadata": {},
   "outputs": [],
   "source": [
    "import os\n",
    "import pandas as pd"
   ]
  },
  {
   "cell_type": "code",
   "execution_count": 2,
   "metadata": {},
   "outputs": [],
   "source": [
    "path=\"C:\\\\Users\\\\rauner\\\\Documents\\\\PIK\\\\holi_coal_exit\\\\rmnd-lca\\\\\"\n",
    "os.chdir(path)"
   ]
  },
  {
   "cell_type": "code",
   "execution_count": 3,
   "metadata": {},
   "outputs": [
    {
     "data": {
      "text/html": [
       "<style>.container { width:100% !important; }</style>"
      ],
      "text/plain": [
       "<IPython.core.display.HTML object>"
      ]
     },
     "execution_count": 3,
     "metadata": {},
     "output_type": "execute_result"
    }
   ],
   "source": [
    "from IPython.core.display import HTML\n",
    "HTML(\"<style>.container { width:100% !important; }</style>\")"
   ]
  },
  {
   "cell_type": "code",
   "execution_count": 4,
   "metadata": {},
   "outputs": [
    {
     "name": "stderr",
     "output_type": "stream",
     "text": [
      "C:\\Users\\rauner\\AppData\\Local\\Continuum\\miniconda3\\lib\\site-packages\\constructive_geometries\\cg.py:77: FionaDeprecationWarning: Use fiona.Env() instead.\n",
      "  with fiona.drivers():\n"
     ]
    }
   ],
   "source": [
    "import brightway2 as bw\n",
    "%run notebooks\\\\initialize_notebook.ipynb\n",
    "from wurst.ecoinvent import filters\n",
    "from constructive_geometries import Geomatcher"
   ]
  },
  {
   "cell_type": "code",
   "execution_count": 5,
   "metadata": {},
   "outputs": [],
   "source": [
    "from wurst import searching as ws"
   ]
  },
  {
   "cell_type": "code",
   "execution_count": 6,
   "metadata": {},
   "outputs": [
    {
     "name": "stderr",
     "output_type": "stream",
     "text": [
      "C:\\Users\\rauner\\AppData\\Local\\Continuum\\miniconda3\\lib\\site-packages\\constructive_geometries\\cg.py:77: FionaDeprecationWarning: Use fiona.Env() instead.\n",
      "  with fiona.drivers():\n",
      "C:\\Users\\rauner\\AppData\\Local\\Continuum\\miniconda3\\lib\\site-packages\\country_converter\\country_converter.py:412: FutureWarning: read_table is deprecated, use read_csv instead.\n",
      "  for str_col in must_be_string})\n"
     ]
    },
    {
     "name": "stdout",
     "output_type": "stream",
     "text": [
      "Geomatcher: Used 'AO' for 'AGO'\n",
      "Geomatcher: Used 'BI' for 'BDI'\n",
      "Geomatcher: Used 'BJ' for 'BEN'\n",
      "Geomatcher: Used 'BF' for 'BFA'\n",
      "Geomatcher: Used 'BW' for 'BWA'\n",
      "Geomatcher: Used 'CF' for 'CAF'\n",
      "Geomatcher: Used 'CI' for 'CIV'\n",
      "Geomatcher: Used 'CM' for 'CMR'\n",
      "Geomatcher: Used 'CD' for 'COD'\n",
      "Geomatcher: Used 'CG' for 'COG'\n",
      "Geomatcher: Used 'KM' for 'COM'\n",
      "Geomatcher: Used 'CV' for 'CPV'\n",
      "Geomatcher: Used 'DJ' for 'DJI'\n",
      "Geomatcher: Used 'ER' for 'ERI'\n",
      "Geomatcher: Used 'ET' for 'ETH'\n",
      "Geomatcher: Used 'GA' for 'GAB'\n",
      "Geomatcher: Used 'GH' for 'GHA'\n",
      "Geomatcher: Used 'GN' for 'GIN'\n",
      "Geomatcher: Used 'GM' for 'GMB'\n",
      "Geomatcher: Used 'GW' for 'GNB'\n",
      "Geomatcher: Used 'GQ' for 'GNQ'\n",
      "Geomatcher: Used 'KE' for 'KEN'\n",
      "Geomatcher: Used 'LR' for 'LBR'\n",
      "Geomatcher: Used 'LS' for 'LSO'\n",
      "Geomatcher: Used 'MG' for 'MDG'\n",
      "Geomatcher: Used 'ML' for 'MLI'\n",
      "Geomatcher: Used 'MZ' for 'MOZ'\n",
      "Geomatcher: Used 'MR' for 'MRT'\n",
      "Geomatcher: Used 'MU' for 'MUS'\n",
      "Geomatcher: Used 'MW' for 'MWI'\n",
      "Geomatcher: Used 'YT' for 'MYT'\n",
      "Geomatcher: Used 'NA' for 'NAM'\n",
      "Geomatcher: Used 'NE' for 'NER'\n",
      "Geomatcher: Used 'NG' for 'NGA'\n",
      "Geomatcher: Used 'RW' for 'RWA'\n",
      "Geomatcher: Used 'SD' for 'SDN'\n",
      "Geomatcher: Used 'SN' for 'SEN'\n",
      "Geomatcher: Used 'SL' for 'SLE'\n",
      "Geomatcher: Used 'SO' for 'SOM'\n",
      "Geomatcher: Used 'ST' for 'STP'\n",
      "Geomatcher: Used 'SZ' for 'SWZ'\n",
      "Geomatcher: Used 'SC' for 'SYC'\n",
      "Geomatcher: Used 'TD' for 'TCD'\n",
      "Geomatcher: Used 'TG' for 'TGO'\n",
      "Geomatcher: Used 'TZ' for 'TZA'\n",
      "Geomatcher: Used 'UG' for 'UGA'\n",
      "Geomatcher: Used 'ZM' for 'ZMB'\n",
      "Geomatcher: Used 'ZW' for 'ZWE'\n",
      "Geomatcher: Used 'CN' for 'CHN'\n",
      "Geomatcher: Used 'HK' for 'HKG'\n",
      "Geomatcher: Used 'MO' for 'MAC'\n",
      "Geomatcher: Used 'AT' for 'AUT'\n",
      "Geomatcher: Used 'BE' for 'BEL'\n",
      "Geomatcher: Used 'BG' for 'BGR'\n",
      "Geomatcher: Used 'CY' for 'CYP'\n",
      "Geomatcher: Used 'CZ' for 'CZE'\n",
      "Geomatcher: Used 'DE' for 'DEU'\n",
      "Geomatcher: Used 'DK' for 'DNK'\n",
      "Geomatcher: Used 'ES' for 'ESP'\n",
      "Geomatcher: Used 'EE' for 'EST'\n",
      "Geomatcher: Used 'FI' for 'FIN'\n",
      "Geomatcher: Used 'FR' for 'FRA'\n",
      "Geomatcher: Used 'GB' for 'GBR'\n",
      "Geomatcher: Used 'GI' for 'GIB'\n",
      "Geomatcher: Used 'GR' for 'GRC'\n",
      "Geomatcher: Used 'GL' for 'GRL'\n",
      "Geomatcher: Used 'HU' for 'HUN'\n",
      "Geomatcher: Used 'IE' for 'IRL'\n",
      "Geomatcher: Used 'IT' for 'ITA'\n",
      "Geomatcher: Used 'LT' for 'LTU'\n",
      "Geomatcher: Used 'LU' for 'LUX'\n",
      "Geomatcher: Used 'LV' for 'LVA'\n",
      "Geomatcher: Used 'MT' for 'MLT'\n",
      "Geomatcher: Used 'ME' for 'MNE'\n",
      "Geomatcher: Used 'NL' for 'NLD'\n",
      "Geomatcher: Used 'PL' for 'POL'\n",
      "Geomatcher: Used 'PT' for 'PRT'\n",
      "Geomatcher: Used 'RO' for 'ROU'\n",
      "Geomatcher: Used 'RS' for 'SRB'\n",
      "Geomatcher: Used 'SK' for 'SVK'\n",
      "Geomatcher: Used 'SI' for 'SVN'\n",
      "Geomatcher: Used 'SE' for 'SWE'\n",
      "Geomatcher: Used 'IN' for 'IND'\n",
      "Geomatcher: Used 'JP' for 'JPN'\n",
      "Geomatcher: Used 'AR' for 'ARG'\n",
      "Geomatcher: Used 'AG' for 'ATG'\n",
      "Geomatcher: Used 'BS' for 'BHS'\n",
      "Geomatcher: Used 'BZ' for 'BLZ'\n",
      "Geomatcher: Used 'BM' for 'BMU'\n",
      "Geomatcher: Used 'BO' for 'BOL'\n",
      "Geomatcher: Used 'BR' for 'BRA'\n",
      "Geomatcher: Used 'BB' for 'BRB'\n",
      "Geomatcher: Used 'CL' for 'CHL'\n",
      "Geomatcher: Used 'CO' for 'COL'\n",
      "Geomatcher: Used 'CR' for 'CRI'\n",
      "Geomatcher: Used 'CU' for 'CUB'\n",
      "Geomatcher: Used 'KY' for 'CYM'\n",
      "Geomatcher: Used 'DM' for 'DMA'\n",
      "Geomatcher: Used 'DO' for 'DOM'\n",
      "Geomatcher: Used 'EC' for 'ECU'\n",
      "Geomatcher: Used 'GD' for 'GRD'\n",
      "Geomatcher: Used 'GT' for 'GTM'\n",
      "Geomatcher: Used 'GY' for 'GUY'\n",
      "Geomatcher: Used 'HN' for 'HND'\n",
      "Geomatcher: Used 'HT' for 'HTI'\n",
      "Geomatcher: Used 'JM' for 'JAM'\n",
      "Geomatcher: Used 'KN' for 'KNA'\n",
      "Geomatcher: Used 'LC' for 'LCA'\n",
      "Geomatcher: Used 'MX' for 'MEX'\n",
      "Geomatcher: Used 'NI' for 'NIC'\n",
      "Geomatcher: Used 'PA' for 'PAN'\n",
      "Geomatcher: Used 'PE' for 'PER'\n",
      "Geomatcher: Used 'PR' for 'PRI'\n",
      "Geomatcher: Used 'PY' for 'PRY'\n",
      "Geomatcher: Used 'SV' for 'SLV'\n",
      "Geomatcher: Used 'SR' for 'SUR'\n",
      "Geomatcher: Used 'TC' for 'TCA'\n",
      "Geomatcher: Used 'TT' for 'TTO'\n",
      "Geomatcher: Used 'UY' for 'URY'\n",
      "Geomatcher: Used 'VC' for 'VCT'\n",
      "Geomatcher: Used 'VE' for 'VEN'\n",
      "Geomatcher: Used 'VI' for 'VIR'\n",
      "Geomatcher: Used 'AE' for 'ARE'\n",
      "Geomatcher: Used 'AM' for 'ARM'\n",
      "Geomatcher: Used 'AZ' for 'AZE'\n",
      "Geomatcher: Used 'BH' for 'BHR'\n",
      "Geomatcher: Used 'DZ' for 'DZA'\n",
      "Geomatcher: Used 'EG' for 'EGY'\n",
      "Geomatcher: Used 'GE' for 'GEO'\n",
      "Geomatcher: Used 'IR' for 'IRN'\n",
      "Geomatcher: Used 'IQ' for 'IRQ'\n",
      "Geomatcher: Used 'IL' for 'ISR'\n",
      "Geomatcher: Used 'JO' for 'JOR'\n",
      "Geomatcher: Used 'KZ' for 'KAZ'\n",
      "Geomatcher: Used 'KG' for 'KGZ'\n",
      "Geomatcher: Used 'KW' for 'KWT'\n",
      "Geomatcher: Used 'LB' for 'LBN'\n",
      "Geomatcher: Used 'LY' for 'LBY'\n",
      "Geomatcher: Used 'MA' for 'MAR'\n",
      "Geomatcher: Used 'OM' for 'OMN'\n",
      "Geomatcher: Used 'PK' for 'PAK'\n",
      "Geomatcher: Used 'PS' for 'PSE'\n",
      "Geomatcher: Used 'QA' for 'QAT'\n",
      "Geomatcher: Used 'SA' for 'SAU'\n",
      "Geomatcher: Used 'SY' for 'SYR'\n",
      "Geomatcher: Used 'TJ' for 'TJK'\n",
      "Geomatcher: Used 'TM' for 'TKM'\n",
      "Geomatcher: Used 'TN' for 'TUN'\n",
      "Geomatcher: Used 'UZ' for 'UZB'\n",
      "Geomatcher: Used 'YE' for 'YEM'\n",
      "Geomatcher: Used 'AF' for 'AFG'\n",
      "Geomatcher: Used 'AS' for 'ASM'\n",
      "Geomatcher: Used 'BD' for 'BGD'\n",
      "Geomatcher: Used 'BN' for 'BRN'\n",
      "Geomatcher: Used 'BT' for 'BTN'\n",
      "Geomatcher: Used 'FJ' for 'FJI'\n",
      "Geomatcher: Used 'FM' for 'FSM'\n",
      "Geomatcher: Used 'GU' for 'GUM'\n",
      "Geomatcher: Used 'ID' for 'IDN'\n",
      "Geomatcher: Used 'KH' for 'KHM'\n",
      "Geomatcher: Used 'KI' for 'KIR'\n",
      "Geomatcher: Used 'KR' for 'KOR'\n",
      "Geomatcher: Used 'LA' for 'LAO'\n",
      "Geomatcher: Used 'LK' for 'LKA'\n",
      "Geomatcher: Used 'MV' for 'MDV'\n",
      "Geomatcher: Used 'MH' for 'MHL'\n",
      "Geomatcher: Used 'MM' for 'MMR'\n",
      "Geomatcher: Used 'MN' for 'MNG'\n",
      "Geomatcher: Used 'MP' for 'MNP'\n",
      "Geomatcher: Used 'MY' for 'MYS'\n",
      "Geomatcher: Used 'NC' for 'NCL'\n",
      "Geomatcher: Used 'NP' for 'NPL'\n",
      "Geomatcher: Used 'PH' for 'PHL'\n",
      "Geomatcher: Used 'PW' for 'PLW'\n",
      "Geomatcher: Used 'PG' for 'PNG'\n",
      "Geomatcher: Used 'KP' for 'PRK'\n",
      "Geomatcher: Used 'PF' for 'PYF'\n",
      "Geomatcher: Used 'SG' for 'SGP'\n",
      "Geomatcher: Used 'SB' for 'SLB'\n",
      "Geomatcher: Used 'TH' for 'THA'\n",
      "Geomatcher: Used 'TL' for 'TLS'\n",
      "Geomatcher: Used 'TO' for 'TON'\n",
      "Geomatcher: Used 'TV' for 'TUV'\n",
      "Geomatcher: Used 'VN' for 'VNM'\n",
      "Geomatcher: Used 'VU' for 'VUT'\n",
      "Geomatcher: Used 'WS' for 'WSM'\n",
      "Geomatcher: Used 'AL' for 'ALB'\n",
      "Geomatcher: Used 'AD' for 'AND'\n",
      "Geomatcher: Used 'AU' for 'AUS'\n",
      "Geomatcher: Used 'BA' for 'BIH'\n",
      "Geomatcher: Used 'CA' for 'CAN'\n",
      "Geomatcher: Used 'CH' for 'CHE'\n",
      "Geomatcher: Used 'CW' for 'CUW'\n",
      "Geomatcher: Used 'FO' for 'FRO'\n",
      "Geomatcher: Used 'HR' for 'HRV'\n",
      "Geomatcher: Used 'IM' for 'IMN'\n",
      "Geomatcher: Used 'IS' for 'ISL'\n",
      "Geomatcher: Used 'LI' for 'LIE'\n",
      "Geomatcher: Used 'MC' for 'MCO'\n",
      "Geomatcher: Used 'MD' for 'MDA'\n",
      "Geomatcher: Used 'MK' for 'MKD'\n",
      "Geomatcher: Used 'NO' for 'NOR'\n",
      "Geomatcher: Used 'NZ' for 'NZL'\n",
      "Geomatcher: Used 'SM' for 'SMR'\n",
      "Geomatcher: Used 'SS' for 'SSD'\n",
      "Geomatcher: Used 'SX' for 'SXM'\n",
      "Geomatcher: Used 'TR' for 'TUR'\n",
      "Geomatcher: Used 'UA' for 'UKR'\n",
      "Geomatcher: Used 'ZA' for 'ZAF'\n",
      "Geomatcher: Used 'BY' for 'BLR'\n",
      "Geomatcher: Used 'RU' for 'RUS'\n",
      "Geomatcher: Used 'US' for 'USA'\n"
     ]
    }
   ],
   "source": [
    "from helpers import eimod, lcahelp, ei2rmnd"
   ]
  },
  {
   "cell_type": "code",
   "execution_count": 7,
   "metadata": {
    "scrolled": false
   },
   "outputs": [
    {
     "name": "stdout",
     "output_type": "stream",
     "text": [
      "Restoring project backup archive - this could take a few minutes...\n"
     ]
    },
    {
     "data": {
      "text/plain": [
       "'enavi'"
      ]
     },
     "execution_count": 7,
     "metadata": {},
     "output_type": "execute_result"
    }
   ],
   "source": [
    "bw.restore_project_directory(\"data\\\\enavi\\\\brightway2-project-enavi-backup.13-March-2019-01-41PM.tar.gz\")"
   ]
  },
  {
   "cell_type": "code",
   "execution_count": 8,
   "metadata": {},
   "outputs": [],
   "source": [
    "bw.projects.set_current(\"enavi\")\n",
    "project = 'enavi'"
   ]
  },
  {
   "cell_type": "code",
   "execution_count": 9,
   "metadata": {},
   "outputs": [
    {
     "data": {
      "text/plain": [
       "Databases dictionary with 28 objects, including:\n",
       "\tCarma CCS\n",
       "\tbiosphere3\n",
       "\tecoinvent_3.5\n",
       "\tecoinvent_added_technologies\n",
       "\tenavi_COP_2020\n",
       "\tenavi_COP_2030\n",
       "\tenavi_COP_2040\n",
       "\tenavi_COP_2050\n",
       "\tenavi_COPplus2_2020\n",
       "\tenavi_COPplus2_2030\n",
       "Use `list(this object)` to get the complete list."
      ]
     },
     "execution_count": 9,
     "metadata": {},
     "output_type": "execute_result"
    }
   ],
   "source": [
    "bw.databases"
   ]
  },
  {
   "cell_type": "markdown",
   "metadata": {},
   "source": [
    "## create a scenarios dictionary"
   ]
  },
  {
   "cell_type": "code",
   "execution_count": 10,
   "metadata": {},
   "outputs": [],
   "source": [
    "database_dict = {}\n",
    "database_dict['ecoinvent_added_technologies'] = {'year' : 2015 , 'scenario' : 'ecoinvent'}\n",
    "\n",
    "for year in [ 2020, 2030,2040, 2050]:\n",
    "    for scenario in ['COP','KAS','KSP90aE','COPplus2','KASplus2','NDCminus2']:\n",
    "        if year == 2015 and scenario != 'ecoinvent_added_technologies':\n",
    "            continue\n",
    "        db_name = 'enavi_' + scenario + '_' + str(year)\n",
    "        database_dict[db_name] = {'year' : year , 'scenario' : scenario}"
   ]
  },
  {
   "cell_type": "markdown",
   "metadata": {},
   "source": [
    "## calcualte the LCA for all scenarios and years for all SE technologies"
   ]
  },
  {
   "cell_type": "code",
   "execution_count": 11,
   "metadata": {},
   "outputs": [],
   "source": [
    "#select the modeled processes\n",
    "#this is a crude mapping of of REMIND SE to ecoinvent progcesses\n",
    "#we need to adjust the units later in the post processing to match EJ"
   ]
  },
  {
   "cell_type": "code",
   "execution_count": 12,
   "metadata": {},
   "outputs": [],
   "source": [
    "# see data\\ecoinventtoREMINDtechnmap.csv for SE technology mapping\n",
    "# we use the electricity generation processes as a base and check what the input is to adjust them accordingly\n",
    "# see the A matrix of the elec processes for the input A.technology.final.technology.list.variable.csv\n",
    "# ergo if a kWh hard coal needs 5kg of coal we:\n",
    "\n",
    "# elec to raw input = /5\n",
    "# 1kWh to 1EJ =  /3.6*10^12\n",
    "# elec hard coal to se hard coal /3.6*10^12 /5kg\n",
    "\n",
    "# this factor is in the conv column of the ecoinventtoREMINDtechmap.csv"
   ]
  },
  {
   "cell_type": "code",
   "execution_count": 13,
   "metadata": {},
   "outputs": [],
   "source": [
    "# se _filter filters for electricity high voltage and all the other SE ecoinvent processes mapped above"
   ]
  },
  {
   "cell_type": "code",
   "execution_count": 14,
   "metadata": {},
   "outputs": [],
   "source": [
    "se_filter = [ws.either(*[                                                  \n",
    "                                                                           ws.equals('name', 'heat and power co-generation, biogas, gas engine'),\n",
    "                                                                           ws.equals('name', 'electricity production, natural gas, combined cycle power plant'),\n",
    "                                                                           ws.equals('name', 'electricity production, hard coal'),\n",
    "                                                                           ws.equals('name', 'electricity production, deep geothermal'),\n",
    "                                                                           ws.equals('name', 'market for hydrogen, liquid'),\n",
    "                                                                           ws.equals('name', 'electricity production, oil'),\n",
    "                                                                           ws.equals('name', 'softwood forestry, mixed species, sustainable forest management')])]"
   ]
  },
  {
   "cell_type": "code",
   "execution_count": 15,
   "metadata": {},
   "outputs": [],
   "source": [
    "electricity_markets = {}\n",
    "se_technologies = {}\n",
    "\n",
    "for db_name in database_dict:\n",
    "    electricity_markets[db_name] = [x for x in ws.get_many(Database(db_name), *[*eimod.electricity_market_filter_high_voltage, ws.exclude(ws.contains('name', 'Swiss Federal Railways')),\n",
    "                                                                                ws.exclude(ws.contains('name', 'label-certified'))])]\n",
    "    se_technologies[db_name] = [x for x in ws.get_many(Database(db_name), *[*se_filter])]"
   ]
  },
  {
   "cell_type": "markdown",
   "metadata": {},
   "source": [
    "## choose the RECIPE categories, we use 2008 with updated 2016 where direct matches are possible"
   ]
  },
  {
   "cell_type": "markdown",
   "metadata": {},
   "source": [
    "calculate all the ReCiPe Midpoint (H) 2008 version and multiply with mid to endpoints to get DALYS (HH), Species.year (ET) and maybe resources."
   ]
  },
  {
   "cell_type": "code",
   "execution_count": 16,
   "metadata": {
    "scrolled": true
   },
   "outputs": [
    {
     "data": {
      "text/plain": [
       "[('ReCiPe Midpoint (H)', 'agricultural land occupation', 'ALOP'),\n",
       " ('ReCiPe Midpoint (H)', 'climate change', 'GWP100'),\n",
       " ('ReCiPe Midpoint (H)', 'fossil depletion', 'FDP'),\n",
       " ('ReCiPe Midpoint (H)', 'freshwater ecotoxicity', 'FETPinf'),\n",
       " ('ReCiPe Midpoint (H)', 'freshwater eutrophication', 'FEP'),\n",
       " ('ReCiPe Midpoint (H)', 'human toxicity', 'HTPinf'),\n",
       " ('ReCiPe Midpoint (H)', 'ionising radiation', 'IRP_HE'),\n",
       " ('ReCiPe Midpoint (H)', 'marine ecotoxicity', 'METPinf'),\n",
       " ('ReCiPe Midpoint (H)', 'marine eutrophication', 'MEP'),\n",
       " ('ReCiPe Midpoint (H)', 'metal depletion', 'MDP'),\n",
       " ('ReCiPe Midpoint (H)', 'natural land transformation', 'NLTP'),\n",
       " ('ReCiPe Midpoint (H)', 'ozone depletion', 'ODPinf'),\n",
       " ('ReCiPe Midpoint (H)', 'particulate matter formation', 'PMFP'),\n",
       " ('ReCiPe Midpoint (H)', 'photochemical oxidant formation', 'POFP'),\n",
       " ('ReCiPe Midpoint (H)', 'terrestrial acidification', 'TAP100'),\n",
       " ('ReCiPe Midpoint (H)', 'terrestrial ecotoxicity', 'TETPinf'),\n",
       " ('ReCiPe Midpoint (H)', 'urban land occupation', 'ULOP'),\n",
       " ('ReCiPe Midpoint (H)', 'water depletion', 'WDP')]"
      ]
     },
     "execution_count": 16,
     "metadata": {},
     "output_type": "execute_result"
    }
   ],
   "source": [
    "method=[m for m in methods if \"'ReCiPe Midpoint (H)',\" in str(m)]\n",
    "method"
   ]
  },
  {
   "cell_type": "markdown",
   "metadata": {},
   "source": [
    "select the matching categories, we only use the IPCC CC instead of the RECIPE one, however they have the same unit so we can use the same mid to endpoint factor\n",
    "\n",
    "we use the RECIPE 1.11\n",
    "    1. we developed a land occupation method ourselves to include it in the Ecosystem toxicity\n",
    "    2. we did a crude matching of land occupation categories to urban and rural\n",
    "    3. we took the average of each of the two categories\n",
    "    4. for land transformation we use to and from forest and take the average terrestrial species per m2"
   ]
  },
  {
   "cell_type": "code",
   "execution_count": 17,
   "metadata": {},
   "outputs": [],
   "source": [
    "categories = ['ALO', 'CC', 'FD', 'FET', 'FE',\n",
    "              'HT', 'IR', 'MET', 'ME', 'MD',\n",
    "              'NLT', 'OD', 'PMF', 'POF', 'TA',\n",
    "              'TET', 'ULO', 'WD']\n",
    "categories_total = ['ALO', 'CC', 'FD', 'FET', 'FE',\n",
    "              'HT', 'IR', 'MET', 'ME', 'MD',\n",
    "              'NLT', 'OD', 'PMF', 'POF', 'TA',\n",
    "              'TET', 'ULO', 'WD','total'] "
   ]
  },
  {
   "cell_type": "markdown",
   "metadata": {},
   "source": [
    "perform LCA for all elec markets"
   ]
  },
  {
   "cell_type": "code",
   "execution_count": 18,
   "metadata": {
    "scrolled": true
   },
   "outputs": [
    {
     "name": "stdout",
     "output_type": "stream",
     "text": [
      "ALO\n"
     ]
    },
    {
     "name": "stderr",
     "output_type": "stream",
     "text": [
      "0% [##############################] 100% | ETA: 00:00:00\n",
      "Total time elapsed: 00:00:02\n"
     ]
    },
    {
     "name": "stdout",
     "output_type": "stream",
     "text": [
      "ALO\n"
     ]
    },
    {
     "name": "stderr",
     "output_type": "stream",
     "text": [
      "0% [##############################] 100% | ETA: 00:00:00\n",
      "Total time elapsed: 00:00:05\n"
     ]
    },
    {
     "name": "stdout",
     "output_type": "stream",
     "text": [
      "CC\n"
     ]
    },
    {
     "name": "stderr",
     "output_type": "stream",
     "text": [
      "0% [##############################] 100% | ETA: 00:00:00\n",
      "Total time elapsed: 00:00:02\n"
     ]
    },
    {
     "name": "stdout",
     "output_type": "stream",
     "text": [
      "CC\n"
     ]
    },
    {
     "name": "stderr",
     "output_type": "stream",
     "text": [
      "0% [##############################] 100% | ETA: 00:00:00\n",
      "Total time elapsed: 00:00:05\n"
     ]
    },
    {
     "name": "stdout",
     "output_type": "stream",
     "text": [
      "FD\n"
     ]
    },
    {
     "name": "stderr",
     "output_type": "stream",
     "text": [
      "0% [##############################] 100% | ETA: 00:00:00\n",
      "Total time elapsed: 00:00:02\n"
     ]
    },
    {
     "name": "stdout",
     "output_type": "stream",
     "text": [
      "FD\n"
     ]
    },
    {
     "name": "stderr",
     "output_type": "stream",
     "text": [
      "0% [##############################] 100% | ETA: 00:00:00\n",
      "Total time elapsed: 00:00:05\n"
     ]
    },
    {
     "name": "stdout",
     "output_type": "stream",
     "text": [
      "FET\n"
     ]
    },
    {
     "name": "stderr",
     "output_type": "stream",
     "text": [
      "0% [##############################] 100% | ETA: 00:00:00\n",
      "Total time elapsed: 00:00:02\n"
     ]
    },
    {
     "name": "stdout",
     "output_type": "stream",
     "text": [
      "FET\n"
     ]
    },
    {
     "name": "stderr",
     "output_type": "stream",
     "text": [
      "0% [##############################] 100% | ETA: 00:00:00\n",
      "Total time elapsed: 00:00:05\n"
     ]
    },
    {
     "name": "stdout",
     "output_type": "stream",
     "text": [
      "FE\n"
     ]
    },
    {
     "name": "stderr",
     "output_type": "stream",
     "text": [
      "0% [##############################] 100% | ETA: 00:00:00\n",
      "Total time elapsed: 00:00:02\n"
     ]
    },
    {
     "name": "stdout",
     "output_type": "stream",
     "text": [
      "FE\n"
     ]
    },
    {
     "name": "stderr",
     "output_type": "stream",
     "text": [
      "0% [##############################] 100% | ETA: 00:00:00\n",
      "Total time elapsed: 00:00:05\n"
     ]
    },
    {
     "name": "stdout",
     "output_type": "stream",
     "text": [
      "HT\n"
     ]
    },
    {
     "name": "stderr",
     "output_type": "stream",
     "text": [
      "0% [##############################] 100% | ETA: 00:00:00\n",
      "Total time elapsed: 00:00:02\n"
     ]
    },
    {
     "name": "stdout",
     "output_type": "stream",
     "text": [
      "HT\n"
     ]
    },
    {
     "name": "stderr",
     "output_type": "stream",
     "text": [
      "0% [##############################] 100% | ETA: 00:00:00\n",
      "Total time elapsed: 00:00:05\n"
     ]
    },
    {
     "name": "stdout",
     "output_type": "stream",
     "text": [
      "IR\n"
     ]
    },
    {
     "name": "stderr",
     "output_type": "stream",
     "text": [
      "0% [##############################] 100% | ETA: 00:00:00\n",
      "Total time elapsed: 00:00:02\n"
     ]
    },
    {
     "name": "stdout",
     "output_type": "stream",
     "text": [
      "IR\n"
     ]
    },
    {
     "name": "stderr",
     "output_type": "stream",
     "text": [
      "0% [##############################] 100% | ETA: 00:00:00\n",
      "Total time elapsed: 00:00:06\n"
     ]
    },
    {
     "name": "stdout",
     "output_type": "stream",
     "text": [
      "MET\n"
     ]
    },
    {
     "name": "stderr",
     "output_type": "stream",
     "text": [
      "0% [##############################] 100% | ETA: 00:00:00\n",
      "Total time elapsed: 00:00:02\n"
     ]
    },
    {
     "name": "stdout",
     "output_type": "stream",
     "text": [
      "MET\n"
     ]
    },
    {
     "name": "stderr",
     "output_type": "stream",
     "text": [
      "0% [##############################] 100% | ETA: 00:00:00\n",
      "Total time elapsed: 00:00:06\n"
     ]
    },
    {
     "name": "stdout",
     "output_type": "stream",
     "text": [
      "ME\n"
     ]
    },
    {
     "name": "stderr",
     "output_type": "stream",
     "text": [
      "0% [##############################] 100% | ETA: 00:00:00\n",
      "Total time elapsed: 00:00:02\n"
     ]
    },
    {
     "name": "stdout",
     "output_type": "stream",
     "text": [
      "ME\n"
     ]
    },
    {
     "name": "stderr",
     "output_type": "stream",
     "text": [
      "0% [##############################] 100% | ETA: 00:00:00\n",
      "Total time elapsed: 00:00:06\n"
     ]
    },
    {
     "name": "stdout",
     "output_type": "stream",
     "text": [
      "MD\n"
     ]
    },
    {
     "name": "stderr",
     "output_type": "stream",
     "text": [
      "0% [##############################] 100% | ETA: 00:00:00\n",
      "Total time elapsed: 00:00:02\n"
     ]
    },
    {
     "name": "stdout",
     "output_type": "stream",
     "text": [
      "MD\n"
     ]
    },
    {
     "name": "stderr",
     "output_type": "stream",
     "text": [
      "0% [##############################] 100% | ETA: 00:00:00\n",
      "Total time elapsed: 00:00:05\n"
     ]
    },
    {
     "name": "stdout",
     "output_type": "stream",
     "text": [
      "NLT\n"
     ]
    },
    {
     "name": "stderr",
     "output_type": "stream",
     "text": [
      "0% [##############################] 100% | ETA: 00:00:00\n",
      "Total time elapsed: 00:00:02\n"
     ]
    },
    {
     "name": "stdout",
     "output_type": "stream",
     "text": [
      "NLT\n"
     ]
    },
    {
     "name": "stderr",
     "output_type": "stream",
     "text": [
      "0% [##############################] 100% | ETA: 00:00:00\n",
      "Total time elapsed: 00:00:05\n"
     ]
    },
    {
     "name": "stdout",
     "output_type": "stream",
     "text": [
      "OD\n"
     ]
    },
    {
     "name": "stderr",
     "output_type": "stream",
     "text": [
      "0% [##############################] 100% | ETA: 00:00:00\n",
      "Total time elapsed: 00:00:02\n"
     ]
    },
    {
     "name": "stdout",
     "output_type": "stream",
     "text": [
      "OD\n"
     ]
    },
    {
     "name": "stderr",
     "output_type": "stream",
     "text": [
      "0% [##############################] 100% | ETA: 00:00:00\n",
      "Total time elapsed: 00:00:05\n"
     ]
    },
    {
     "name": "stdout",
     "output_type": "stream",
     "text": [
      "PMF\n"
     ]
    },
    {
     "name": "stderr",
     "output_type": "stream",
     "text": [
      "0% [##############################] 100% | ETA: 00:00:00\n",
      "Total time elapsed: 00:00:02\n"
     ]
    },
    {
     "name": "stdout",
     "output_type": "stream",
     "text": [
      "PMF\n"
     ]
    },
    {
     "name": "stderr",
     "output_type": "stream",
     "text": [
      "0% [##############################] 100% | ETA: 00:00:00\n",
      "Total time elapsed: 00:00:05\n"
     ]
    },
    {
     "name": "stdout",
     "output_type": "stream",
     "text": [
      "POF\n"
     ]
    },
    {
     "name": "stderr",
     "output_type": "stream",
     "text": [
      "0% [##############################] 100% | ETA: 00:00:00\n",
      "Total time elapsed: 00:00:02\n"
     ]
    },
    {
     "name": "stdout",
     "output_type": "stream",
     "text": [
      "POF\n"
     ]
    },
    {
     "name": "stderr",
     "output_type": "stream",
     "text": [
      "0% [##############################] 100% | ETA: 00:00:00\n",
      "Total time elapsed: 00:00:06\n"
     ]
    },
    {
     "name": "stdout",
     "output_type": "stream",
     "text": [
      "TA\n"
     ]
    },
    {
     "name": "stderr",
     "output_type": "stream",
     "text": [
      "0% [##############################] 100% | ETA: 00:00:00\n",
      "Total time elapsed: 00:00:02\n"
     ]
    },
    {
     "name": "stdout",
     "output_type": "stream",
     "text": [
      "TA\n"
     ]
    },
    {
     "name": "stderr",
     "output_type": "stream",
     "text": [
      "0% [##############################] 100% | ETA: 00:00:00\n",
      "Total time elapsed: 00:00:06\n"
     ]
    },
    {
     "name": "stdout",
     "output_type": "stream",
     "text": [
      "TET\n"
     ]
    },
    {
     "name": "stderr",
     "output_type": "stream",
     "text": [
      "0% [##############################] 100% | ETA: 00:00:00\n",
      "Total time elapsed: 00:00:02\n"
     ]
    },
    {
     "name": "stdout",
     "output_type": "stream",
     "text": [
      "TET\n"
     ]
    },
    {
     "name": "stderr",
     "output_type": "stream",
     "text": [
      "0% [##############################] 100% | ETA: 00:00:00\n",
      "Total time elapsed: 00:00:06\n"
     ]
    },
    {
     "name": "stdout",
     "output_type": "stream",
     "text": [
      "ULO\n"
     ]
    },
    {
     "name": "stderr",
     "output_type": "stream",
     "text": [
      "0% [##############################] 100% | ETA: 00:00:00\n",
      "Total time elapsed: 00:00:02\n"
     ]
    },
    {
     "name": "stdout",
     "output_type": "stream",
     "text": [
      "ULO\n"
     ]
    },
    {
     "name": "stderr",
     "output_type": "stream",
     "text": [
      "0% [##############################] 100% | ETA: 00:00:00\n",
      "Total time elapsed: 00:00:06\n"
     ]
    },
    {
     "name": "stdout",
     "output_type": "stream",
     "text": [
      "WD\n"
     ]
    },
    {
     "name": "stderr",
     "output_type": "stream",
     "text": [
      "0% [##############################] 100% | ETA: 00:00:00\n",
      "Total time elapsed: 00:00:02\n"
     ]
    },
    {
     "name": "stdout",
     "output_type": "stream",
     "text": [
      "WD\n"
     ]
    },
    {
     "name": "stderr",
     "output_type": "stream",
     "text": [
      "0% [##############################] 100% | ETA: 00:00:00\n",
      "Total time elapsed: 00:00:06\n"
     ]
    },
    {
     "name": "stdout",
     "output_type": "stream",
     "text": [
      "ALO\n"
     ]
    },
    {
     "name": "stderr",
     "output_type": "stream",
     "text": [
      "0% [##############################] 100% | ETA: 00:00:00\n",
      "Total time elapsed: 00:00:02\n"
     ]
    },
    {
     "name": "stdout",
     "output_type": "stream",
     "text": [
      "ALO\n"
     ]
    },
    {
     "name": "stderr",
     "output_type": "stream",
     "text": [
      "0% [##############################] 100% | ETA: 00:00:00\n",
      "Total time elapsed: 00:00:05\n"
     ]
    },
    {
     "name": "stdout",
     "output_type": "stream",
     "text": [
      "CC\n"
     ]
    },
    {
     "name": "stderr",
     "output_type": "stream",
     "text": [
      "0% [##############################] 100% | ETA: 00:00:00\n",
      "Total time elapsed: 00:00:02\n"
     ]
    },
    {
     "name": "stdout",
     "output_type": "stream",
     "text": [
      "CC\n"
     ]
    },
    {
     "name": "stderr",
     "output_type": "stream",
     "text": [
      "0% [##############################] 100% | ETA: 00:00:00\n",
      "Total time elapsed: 00:00:06\n"
     ]
    },
    {
     "name": "stdout",
     "output_type": "stream",
     "text": [
      "FD\n"
     ]
    },
    {
     "name": "stderr",
     "output_type": "stream",
     "text": [
      "0% [##############################] 100% | ETA: 00:00:00\n",
      "Total time elapsed: 00:00:02\n"
     ]
    },
    {
     "name": "stdout",
     "output_type": "stream",
     "text": [
      "FD\n"
     ]
    },
    {
     "name": "stderr",
     "output_type": "stream",
     "text": [
      "0% [##############################] 100% | ETA: 00:00:00\n",
      "Total time elapsed: 00:00:07\n"
     ]
    },
    {
     "name": "stdout",
     "output_type": "stream",
     "text": [
      "FET\n"
     ]
    },
    {
     "name": "stderr",
     "output_type": "stream",
     "text": [
      "0% [##############################] 100% | ETA: 00:00:00\n",
      "Total time elapsed: 00:00:02\n"
     ]
    },
    {
     "name": "stdout",
     "output_type": "stream",
     "text": [
      "FET\n"
     ]
    },
    {
     "name": "stderr",
     "output_type": "stream",
     "text": [
      "0% [##############################] 100% | ETA: 00:00:00\n",
      "Total time elapsed: 00:00:06\n"
     ]
    },
    {
     "name": "stdout",
     "output_type": "stream",
     "text": [
      "FE\n"
     ]
    },
    {
     "name": "stderr",
     "output_type": "stream",
     "text": [
      "0% [##############################] 100% | ETA: 00:00:00\n",
      "Total time elapsed: 00:00:02\n"
     ]
    },
    {
     "name": "stdout",
     "output_type": "stream",
     "text": [
      "FE\n"
     ]
    },
    {
     "name": "stderr",
     "output_type": "stream",
     "text": [
      "0% [##############################] 100% | ETA: 00:00:00\n",
      "Total time elapsed: 00:00:06\n"
     ]
    },
    {
     "name": "stdout",
     "output_type": "stream",
     "text": [
      "HT\n"
     ]
    },
    {
     "name": "stderr",
     "output_type": "stream",
     "text": [
      "0% [##############################] 100% | ETA: 00:00:00\n",
      "Total time elapsed: 00:00:02\n"
     ]
    },
    {
     "name": "stdout",
     "output_type": "stream",
     "text": [
      "HT\n"
     ]
    },
    {
     "name": "stderr",
     "output_type": "stream",
     "text": [
      "0% [##############################] 100% | ETA: 00:00:00\n",
      "Total time elapsed: 00:00:06\n"
     ]
    },
    {
     "name": "stdout",
     "output_type": "stream",
     "text": [
      "IR\n"
     ]
    },
    {
     "name": "stderr",
     "output_type": "stream",
     "text": [
      "0% [##############################] 100% | ETA: 00:00:00\n",
      "Total time elapsed: 00:00:02\n"
     ]
    },
    {
     "name": "stdout",
     "output_type": "stream",
     "text": [
      "IR\n"
     ]
    },
    {
     "name": "stderr",
     "output_type": "stream",
     "text": [
      "0% [##############################] 100% | ETA: 00:00:00\n",
      "Total time elapsed: 00:00:05\n"
     ]
    },
    {
     "name": "stdout",
     "output_type": "stream",
     "text": [
      "MET\n"
     ]
    },
    {
     "name": "stderr",
     "output_type": "stream",
     "text": [
      "0% [##############################] 100% | ETA: 00:00:00\n",
      "Total time elapsed: 00:00:02\n"
     ]
    },
    {
     "name": "stdout",
     "output_type": "stream",
     "text": [
      "MET\n"
     ]
    },
    {
     "name": "stderr",
     "output_type": "stream",
     "text": [
      "0% [##############################] 100% | ETA: 00:00:00\n",
      "Total time elapsed: 00:00:06\n"
     ]
    },
    {
     "name": "stdout",
     "output_type": "stream",
     "text": [
      "ME\n"
     ]
    },
    {
     "name": "stderr",
     "output_type": "stream",
     "text": [
      "0% [##############################] 100% | ETA: 00:00:00\n",
      "Total time elapsed: 00:00:02\n"
     ]
    },
    {
     "name": "stdout",
     "output_type": "stream",
     "text": [
      "ME\n"
     ]
    },
    {
     "name": "stderr",
     "output_type": "stream",
     "text": [
      "0% [##############################] 100% | ETA: 00:00:00\n",
      "Total time elapsed: 00:00:05\n"
     ]
    },
    {
     "name": "stdout",
     "output_type": "stream",
     "text": [
      "MD\n"
     ]
    },
    {
     "name": "stderr",
     "output_type": "stream",
     "text": [
      "0% [##############################] 100% | ETA: 00:00:00\n",
      "Total time elapsed: 00:00:02\n"
     ]
    },
    {
     "name": "stdout",
     "output_type": "stream",
     "text": [
      "MD\n"
     ]
    },
    {
     "name": "stderr",
     "output_type": "stream",
     "text": [
      "0% [##############################] 100% | ETA: 00:00:00\n",
      "Total time elapsed: 00:00:05\n"
     ]
    },
    {
     "name": "stdout",
     "output_type": "stream",
     "text": [
      "NLT\n"
     ]
    },
    {
     "name": "stderr",
     "output_type": "stream",
     "text": [
      "0% [##############################] 100% | ETA: 00:00:00\n",
      "Total time elapsed: 00:00:02\n"
     ]
    },
    {
     "name": "stdout",
     "output_type": "stream",
     "text": [
      "NLT\n"
     ]
    },
    {
     "name": "stderr",
     "output_type": "stream",
     "text": [
      "0% [##############################] 100% | ETA: 00:00:00\n",
      "Total time elapsed: 00:00:05\n"
     ]
    },
    {
     "name": "stdout",
     "output_type": "stream",
     "text": [
      "OD\n"
     ]
    },
    {
     "name": "stderr",
     "output_type": "stream",
     "text": [
      "0% [##############################] 100% | ETA: 00:00:00\n",
      "Total time elapsed: 00:00:02\n"
     ]
    },
    {
     "name": "stdout",
     "output_type": "stream",
     "text": [
      "OD\n"
     ]
    },
    {
     "name": "stderr",
     "output_type": "stream",
     "text": [
      "0% [##############################] 100% | ETA: 00:00:00\n",
      "Total time elapsed: 00:00:05\n"
     ]
    },
    {
     "name": "stdout",
     "output_type": "stream",
     "text": [
      "PMF\n"
     ]
    },
    {
     "name": "stderr",
     "output_type": "stream",
     "text": [
      "0% [##############################] 100% | ETA: 00:00:00\n",
      "Total time elapsed: 00:00:02\n"
     ]
    },
    {
     "name": "stdout",
     "output_type": "stream",
     "text": [
      "PMF\n"
     ]
    },
    {
     "name": "stderr",
     "output_type": "stream",
     "text": [
      "0% [##############################] 100% | ETA: 00:00:00\n",
      "Total time elapsed: 00:00:05\n"
     ]
    },
    {
     "name": "stdout",
     "output_type": "stream",
     "text": [
      "POF\n"
     ]
    },
    {
     "name": "stderr",
     "output_type": "stream",
     "text": [
      "0% [##############################] 100% | ETA: 00:00:00\n",
      "Total time elapsed: 00:00:02\n"
     ]
    },
    {
     "name": "stdout",
     "output_type": "stream",
     "text": [
      "POF\n"
     ]
    },
    {
     "name": "stderr",
     "output_type": "stream",
     "text": [
      "0% [##############################] 100% | ETA: 00:00:00\n",
      "Total time elapsed: 00:00:06\n"
     ]
    },
    {
     "name": "stdout",
     "output_type": "stream",
     "text": [
      "TA\n"
     ]
    },
    {
     "name": "stderr",
     "output_type": "stream",
     "text": [
      "0% [##############################] 100% | ETA: 00:00:00\n",
      "Total time elapsed: 00:00:02\n"
     ]
    },
    {
     "name": "stdout",
     "output_type": "stream",
     "text": [
      "TA\n"
     ]
    },
    {
     "name": "stderr",
     "output_type": "stream",
     "text": [
      "0% [##############################] 100% | ETA: 00:00:00\n",
      "Total time elapsed: 00:00:05\n"
     ]
    },
    {
     "name": "stdout",
     "output_type": "stream",
     "text": [
      "TET\n"
     ]
    },
    {
     "name": "stderr",
     "output_type": "stream",
     "text": [
      "0% [##############################] 100% | ETA: 00:00:00\n",
      "Total time elapsed: 00:00:02\n"
     ]
    },
    {
     "name": "stdout",
     "output_type": "stream",
     "text": [
      "TET\n"
     ]
    },
    {
     "name": "stderr",
     "output_type": "stream",
     "text": [
      "0% [##############################] 100% | ETA: 00:00:00\n",
      "Total time elapsed: 00:00:06\n"
     ]
    },
    {
     "name": "stdout",
     "output_type": "stream",
     "text": [
      "ULO\n"
     ]
    },
    {
     "name": "stderr",
     "output_type": "stream",
     "text": [
      "0% [##############################] 100% | ETA: 00:00:00\n",
      "Total time elapsed: 00:00:02\n"
     ]
    },
    {
     "name": "stdout",
     "output_type": "stream",
     "text": [
      "ULO\n"
     ]
    },
    {
     "name": "stderr",
     "output_type": "stream",
     "text": [
      "0% [##############################] 100% | ETA: 00:00:00\n",
      "Total time elapsed: 00:00:05\n"
     ]
    },
    {
     "name": "stdout",
     "output_type": "stream",
     "text": [
      "WD\n"
     ]
    },
    {
     "name": "stderr",
     "output_type": "stream",
     "text": [
      "0% [##############################] 100% | ETA: 00:00:00\n",
      "Total time elapsed: 00:00:02\n"
     ]
    },
    {
     "name": "stdout",
     "output_type": "stream",
     "text": [
      "WD\n"
     ]
    },
    {
     "name": "stderr",
     "output_type": "stream",
     "text": [
      "0% [##############################] 100% | ETA: 00:00:00\n",
      "Total time elapsed: 00:00:05\n"
     ]
    },
    {
     "name": "stdout",
     "output_type": "stream",
     "text": [
      "ALO\n"
     ]
    },
    {
     "name": "stderr",
     "output_type": "stream",
     "text": [
      "0% [##############################] 100% | ETA: 00:00:00\n",
      "Total time elapsed: 00:00:02\n"
     ]
    },
    {
     "name": "stdout",
     "output_type": "stream",
     "text": [
      "ALO\n"
     ]
    },
    {
     "name": "stderr",
     "output_type": "stream",
     "text": [
      "0% [##############################] 100% | ETA: 00:00:00\n",
      "Total time elapsed: 00:00:05\n"
     ]
    },
    {
     "name": "stdout",
     "output_type": "stream",
     "text": [
      "CC\n"
     ]
    },
    {
     "name": "stderr",
     "output_type": "stream",
     "text": [
      "0% [##############################] 100% | ETA: 00:00:00\n",
      "Total time elapsed: 00:00:02\n"
     ]
    },
    {
     "name": "stdout",
     "output_type": "stream",
     "text": [
      "CC\n"
     ]
    },
    {
     "name": "stderr",
     "output_type": "stream",
     "text": [
      "0% [##############################] 100% | ETA: 00:00:00\n",
      "Total time elapsed: 00:00:05\n"
     ]
    },
    {
     "name": "stdout",
     "output_type": "stream",
     "text": [
      "FD\n"
     ]
    },
    {
     "name": "stderr",
     "output_type": "stream",
     "text": [
      "0% [##############################] 100% | ETA: 00:00:00\n",
      "Total time elapsed: 00:00:02\n"
     ]
    },
    {
     "name": "stdout",
     "output_type": "stream",
     "text": [
      "FD\n"
     ]
    },
    {
     "name": "stderr",
     "output_type": "stream",
     "text": [
      "0% [##############################] 100% | ETA: 00:00:00\n",
      "Total time elapsed: 00:00:05\n"
     ]
    },
    {
     "name": "stdout",
     "output_type": "stream",
     "text": [
      "FET\n"
     ]
    },
    {
     "name": "stderr",
     "output_type": "stream",
     "text": [
      "0% [##############################] 100% | ETA: 00:00:00\n",
      "Total time elapsed: 00:00:02\n"
     ]
    },
    {
     "name": "stdout",
     "output_type": "stream",
     "text": [
      "FET\n"
     ]
    },
    {
     "name": "stderr",
     "output_type": "stream",
     "text": [
      "0% [##############################] 100% | ETA: 00:00:00\n",
      "Total time elapsed: 00:00:06\n"
     ]
    },
    {
     "name": "stdout",
     "output_type": "stream",
     "text": [
      "FE\n"
     ]
    },
    {
     "name": "stderr",
     "output_type": "stream",
     "text": [
      "0% [##############################] 100% | ETA: 00:00:00\n",
      "Total time elapsed: 00:00:02\n"
     ]
    },
    {
     "name": "stdout",
     "output_type": "stream",
     "text": [
      "FE\n"
     ]
    },
    {
     "name": "stderr",
     "output_type": "stream",
     "text": [
      "0% [##############################] 100% | ETA: 00:00:00\n",
      "Total time elapsed: 00:00:05\n"
     ]
    },
    {
     "name": "stdout",
     "output_type": "stream",
     "text": [
      "HT\n"
     ]
    },
    {
     "name": "stderr",
     "output_type": "stream",
     "text": [
      "0% [##############################] 100% | ETA: 00:00:00\n",
      "Total time elapsed: 00:00:02\n"
     ]
    },
    {
     "name": "stdout",
     "output_type": "stream",
     "text": [
      "HT\n"
     ]
    },
    {
     "name": "stderr",
     "output_type": "stream",
     "text": [
      "0% [##############################] 100% | ETA: 00:00:00\n",
      "Total time elapsed: 00:00:05\n"
     ]
    },
    {
     "name": "stdout",
     "output_type": "stream",
     "text": [
      "IR\n"
     ]
    },
    {
     "name": "stderr",
     "output_type": "stream",
     "text": [
      "0% [##############################] 100% | ETA: 00:00:00\n",
      "Total time elapsed: 00:00:02\n"
     ]
    },
    {
     "name": "stdout",
     "output_type": "stream",
     "text": [
      "IR\n"
     ]
    },
    {
     "name": "stderr",
     "output_type": "stream",
     "text": [
      "0% [##############################] 100% | ETA: 00:00:00\n",
      "Total time elapsed: 00:00:05\n"
     ]
    },
    {
     "name": "stdout",
     "output_type": "stream",
     "text": [
      "MET\n"
     ]
    },
    {
     "name": "stderr",
     "output_type": "stream",
     "text": [
      "0% [##############################] 100% | ETA: 00:00:00\n",
      "Total time elapsed: 00:00:02\n"
     ]
    },
    {
     "name": "stdout",
     "output_type": "stream",
     "text": [
      "MET\n"
     ]
    },
    {
     "name": "stderr",
     "output_type": "stream",
     "text": [
      "0% [##############################] 100% | ETA: 00:00:00\n",
      "Total time elapsed: 00:00:06\n"
     ]
    },
    {
     "name": "stdout",
     "output_type": "stream",
     "text": [
      "ME\n"
     ]
    },
    {
     "name": "stderr",
     "output_type": "stream",
     "text": [
      "0% [##############################] 100% | ETA: 00:00:00\n",
      "Total time elapsed: 00:00:02\n"
     ]
    },
    {
     "name": "stdout",
     "output_type": "stream",
     "text": [
      "ME\n"
     ]
    },
    {
     "name": "stderr",
     "output_type": "stream",
     "text": [
      "0% [##############################] 100% | ETA: 00:00:00\n",
      "Total time elapsed: 00:00:05\n"
     ]
    },
    {
     "name": "stdout",
     "output_type": "stream",
     "text": [
      "MD\n"
     ]
    },
    {
     "name": "stderr",
     "output_type": "stream",
     "text": [
      "0% [##############################] 100% | ETA: 00:00:00\n",
      "Total time elapsed: 00:00:02\n"
     ]
    },
    {
     "name": "stdout",
     "output_type": "stream",
     "text": [
      "MD\n"
     ]
    },
    {
     "name": "stderr",
     "output_type": "stream",
     "text": [
      "0% [##############################] 100% | ETA: 00:00:00\n",
      "Total time elapsed: 00:00:05\n"
     ]
    },
    {
     "name": "stdout",
     "output_type": "stream",
     "text": [
      "NLT\n"
     ]
    },
    {
     "name": "stderr",
     "output_type": "stream",
     "text": [
      "0% [##############################] 100% | ETA: 00:00:00\n",
      "Total time elapsed: 00:00:02\n"
     ]
    },
    {
     "name": "stdout",
     "output_type": "stream",
     "text": [
      "NLT\n"
     ]
    },
    {
     "name": "stderr",
     "output_type": "stream",
     "text": [
      "0% [##############################] 100% | ETA: 00:00:00\n",
      "Total time elapsed: 00:00:05\n"
     ]
    },
    {
     "name": "stdout",
     "output_type": "stream",
     "text": [
      "OD\n"
     ]
    },
    {
     "name": "stderr",
     "output_type": "stream",
     "text": [
      "0% [##############################] 100% | ETA: 00:00:00\n",
      "Total time elapsed: 00:00:02\n"
     ]
    },
    {
     "name": "stdout",
     "output_type": "stream",
     "text": [
      "OD\n"
     ]
    },
    {
     "name": "stderr",
     "output_type": "stream",
     "text": [
      "0% [##############################] 100% | ETA: 00:00:00\n",
      "Total time elapsed: 00:00:05\n"
     ]
    },
    {
     "name": "stdout",
     "output_type": "stream",
     "text": [
      "PMF\n"
     ]
    },
    {
     "name": "stderr",
     "output_type": "stream",
     "text": [
      "0% [##############################] 100% | ETA: 00:00:00\n",
      "Total time elapsed: 00:00:02\n"
     ]
    },
    {
     "name": "stdout",
     "output_type": "stream",
     "text": [
      "PMF\n"
     ]
    },
    {
     "name": "stderr",
     "output_type": "stream",
     "text": [
      "0% [##############################] 100% | ETA: 00:00:00\n",
      "Total time elapsed: 00:00:05\n"
     ]
    },
    {
     "name": "stdout",
     "output_type": "stream",
     "text": [
      "POF\n"
     ]
    },
    {
     "name": "stderr",
     "output_type": "stream",
     "text": [
      "0% [##############################] 100% | ETA: 00:00:00\n",
      "Total time elapsed: 00:00:02\n"
     ]
    },
    {
     "name": "stdout",
     "output_type": "stream",
     "text": [
      "POF\n"
     ]
    },
    {
     "name": "stderr",
     "output_type": "stream",
     "text": [
      "0% [##############################] 100% | ETA: 00:00:00\n",
      "Total time elapsed: 00:00:05\n"
     ]
    },
    {
     "name": "stdout",
     "output_type": "stream",
     "text": [
      "TA\n"
     ]
    },
    {
     "name": "stderr",
     "output_type": "stream",
     "text": [
      "0% [##############################] 100% | ETA: 00:00:00\n",
      "Total time elapsed: 00:00:02\n"
     ]
    },
    {
     "name": "stdout",
     "output_type": "stream",
     "text": [
      "TA\n"
     ]
    },
    {
     "name": "stderr",
     "output_type": "stream",
     "text": [
      "0% [##############################] 100% | ETA: 00:00:00\n",
      "Total time elapsed: 00:00:05\n"
     ]
    },
    {
     "name": "stdout",
     "output_type": "stream",
     "text": [
      "TET\n"
     ]
    },
    {
     "name": "stderr",
     "output_type": "stream",
     "text": [
      "0% [##############################] 100% | ETA: 00:00:00\n",
      "Total time elapsed: 00:00:02\n"
     ]
    },
    {
     "name": "stdout",
     "output_type": "stream",
     "text": [
      "TET\n"
     ]
    },
    {
     "name": "stderr",
     "output_type": "stream",
     "text": [
      "0% [##############################] 100% | ETA: 00:00:00\n",
      "Total time elapsed: 00:00:06\n"
     ]
    },
    {
     "name": "stdout",
     "output_type": "stream",
     "text": [
      "ULO\n"
     ]
    },
    {
     "name": "stderr",
     "output_type": "stream",
     "text": [
      "0% [##############################] 100% | ETA: 00:00:00\n",
      "Total time elapsed: 00:00:02\n"
     ]
    },
    {
     "name": "stdout",
     "output_type": "stream",
     "text": [
      "ULO\n"
     ]
    },
    {
     "name": "stderr",
     "output_type": "stream",
     "text": [
      "0% [##############################] 100% | ETA: 00:00:00\n",
      "Total time elapsed: 00:00:05\n"
     ]
    },
    {
     "name": "stdout",
     "output_type": "stream",
     "text": [
      "WD\n"
     ]
    },
    {
     "name": "stderr",
     "output_type": "stream",
     "text": [
      "0% [##############################] 100% | ETA: 00:00:00\n",
      "Total time elapsed: 00:00:02\n"
     ]
    },
    {
     "name": "stdout",
     "output_type": "stream",
     "text": [
      "WD\n"
     ]
    },
    {
     "name": "stderr",
     "output_type": "stream",
     "text": [
      "0% [##############################] 100% | ETA: 00:00:00\n",
      "Total time elapsed: 00:00:05\n"
     ]
    },
    {
     "name": "stdout",
     "output_type": "stream",
     "text": [
      "ALO\n"
     ]
    },
    {
     "name": "stderr",
     "output_type": "stream",
     "text": [
      "0% [##############################] 100% | ETA: 00:00:00\n",
      "Total time elapsed: 00:00:02\n"
     ]
    },
    {
     "name": "stdout",
     "output_type": "stream",
     "text": [
      "ALO\n"
     ]
    },
    {
     "name": "stderr",
     "output_type": "stream",
     "text": [
      "0% [##############################] 100% | ETA: 00:00:00\n",
      "Total time elapsed: 00:00:05\n"
     ]
    },
    {
     "name": "stdout",
     "output_type": "stream",
     "text": [
      "CC\n"
     ]
    },
    {
     "name": "stderr",
     "output_type": "stream",
     "text": [
      "0% [##############################] 100% | ETA: 00:00:00\n",
      "Total time elapsed: 00:00:02\n"
     ]
    },
    {
     "name": "stdout",
     "output_type": "stream",
     "text": [
      "CC\n"
     ]
    },
    {
     "name": "stderr",
     "output_type": "stream",
     "text": [
      "0% [##############################] 100% | ETA: 00:00:00\n",
      "Total time elapsed: 00:00:05\n"
     ]
    },
    {
     "name": "stdout",
     "output_type": "stream",
     "text": [
      "FD\n"
     ]
    },
    {
     "name": "stderr",
     "output_type": "stream",
     "text": [
      "0% [##############################] 100% | ETA: 00:00:00\n",
      "Total time elapsed: 00:00:02\n"
     ]
    },
    {
     "name": "stdout",
     "output_type": "stream",
     "text": [
      "FD\n"
     ]
    },
    {
     "name": "stderr",
     "output_type": "stream",
     "text": [
      "0% [##############################] 100% | ETA: 00:00:00\n",
      "Total time elapsed: 00:00:05\n"
     ]
    },
    {
     "name": "stdout",
     "output_type": "stream",
     "text": [
      "FET\n"
     ]
    },
    {
     "name": "stderr",
     "output_type": "stream",
     "text": [
      "0% [##############################] 100% | ETA: 00:00:00\n",
      "Total time elapsed: 00:00:02\n"
     ]
    },
    {
     "name": "stdout",
     "output_type": "stream",
     "text": [
      "FET\n"
     ]
    },
    {
     "name": "stderr",
     "output_type": "stream",
     "text": [
      "0% [##############################] 100% | ETA: 00:00:00\n",
      "Total time elapsed: 00:00:06\n"
     ]
    },
    {
     "name": "stdout",
     "output_type": "stream",
     "text": [
      "FE\n"
     ]
    },
    {
     "name": "stderr",
     "output_type": "stream",
     "text": [
      "0% [##############################] 100% | ETA: 00:00:00\n",
      "Total time elapsed: 00:00:02\n"
     ]
    },
    {
     "name": "stdout",
     "output_type": "stream",
     "text": [
      "FE\n"
     ]
    },
    {
     "name": "stderr",
     "output_type": "stream",
     "text": [
      "0% [##############################] 100% | ETA: 00:00:00\n",
      "Total time elapsed: 00:00:06\n"
     ]
    },
    {
     "name": "stdout",
     "output_type": "stream",
     "text": [
      "HT\n"
     ]
    },
    {
     "name": "stderr",
     "output_type": "stream",
     "text": [
      "0% [##############################] 100% | ETA: 00:00:00\n",
      "Total time elapsed: 00:00:02\n"
     ]
    },
    {
     "name": "stdout",
     "output_type": "stream",
     "text": [
      "HT\n"
     ]
    },
    {
     "name": "stderr",
     "output_type": "stream",
     "text": [
      "0% [##############################] 100% | ETA: 00:00:00\n",
      "Total time elapsed: 00:00:06\n"
     ]
    },
    {
     "name": "stdout",
     "output_type": "stream",
     "text": [
      "IR\n"
     ]
    },
    {
     "name": "stderr",
     "output_type": "stream",
     "text": [
      "0% [##############################] 100% | ETA: 00:00:00\n",
      "Total time elapsed: 00:00:02\n"
     ]
    },
    {
     "name": "stdout",
     "output_type": "stream",
     "text": [
      "IR\n"
     ]
    },
    {
     "name": "stderr",
     "output_type": "stream",
     "text": [
      "0% [##############################] 100% | ETA: 00:00:00\n",
      "Total time elapsed: 00:00:05\n"
     ]
    },
    {
     "name": "stdout",
     "output_type": "stream",
     "text": [
      "MET\n"
     ]
    },
    {
     "name": "stderr",
     "output_type": "stream",
     "text": [
      "0% [##############################] 100% | ETA: 00:00:00\n",
      "Total time elapsed: 00:00:02\n"
     ]
    },
    {
     "name": "stdout",
     "output_type": "stream",
     "text": [
      "MET\n"
     ]
    },
    {
     "name": "stderr",
     "output_type": "stream",
     "text": [
      "0% [##############################] 100% | ETA: 00:00:00\n",
      "Total time elapsed: 00:00:06\n"
     ]
    },
    {
     "name": "stdout",
     "output_type": "stream",
     "text": [
      "ME\n"
     ]
    },
    {
     "name": "stderr",
     "output_type": "stream",
     "text": [
      "0% [##############################] 100% | ETA: 00:00:00\n",
      "Total time elapsed: 00:00:02\n"
     ]
    },
    {
     "name": "stdout",
     "output_type": "stream",
     "text": [
      "ME\n"
     ]
    },
    {
     "name": "stderr",
     "output_type": "stream",
     "text": [
      "0% [##############################] 100% | ETA: 00:00:00\n",
      "Total time elapsed: 00:00:06\n"
     ]
    },
    {
     "name": "stdout",
     "output_type": "stream",
     "text": [
      "MD\n"
     ]
    },
    {
     "name": "stderr",
     "output_type": "stream",
     "text": [
      "0% [##############################] 100% | ETA: 00:00:00\n",
      "Total time elapsed: 00:00:02\n"
     ]
    },
    {
     "name": "stdout",
     "output_type": "stream",
     "text": [
      "MD\n"
     ]
    },
    {
     "name": "stderr",
     "output_type": "stream",
     "text": [
      "0% [##############################] 100% | ETA: 00:00:00\n",
      "Total time elapsed: 00:00:06\n"
     ]
    },
    {
     "name": "stdout",
     "output_type": "stream",
     "text": [
      "NLT\n"
     ]
    },
    {
     "name": "stderr",
     "output_type": "stream",
     "text": [
      "0% [##############################] 100% | ETA: 00:00:00\n",
      "Total time elapsed: 00:00:02\n"
     ]
    },
    {
     "name": "stdout",
     "output_type": "stream",
     "text": [
      "NLT\n"
     ]
    },
    {
     "name": "stderr",
     "output_type": "stream",
     "text": [
      "0% [##############################] 100% | ETA: 00:00:00\n",
      "Total time elapsed: 00:00:06\n"
     ]
    },
    {
     "name": "stdout",
     "output_type": "stream",
     "text": [
      "OD\n"
     ]
    },
    {
     "name": "stderr",
     "output_type": "stream",
     "text": [
      "0% [##############################] 100% | ETA: 00:00:00\n",
      "Total time elapsed: 00:00:02\n"
     ]
    },
    {
     "name": "stdout",
     "output_type": "stream",
     "text": [
      "OD\n"
     ]
    },
    {
     "name": "stderr",
     "output_type": "stream",
     "text": [
      "0% [##############################] 100% | ETA: 00:00:00\n",
      "Total time elapsed: 00:00:06\n"
     ]
    },
    {
     "name": "stdout",
     "output_type": "stream",
     "text": [
      "PMF\n"
     ]
    },
    {
     "name": "stderr",
     "output_type": "stream",
     "text": [
      "0% [##############################] 100% | ETA: 00:00:00\n",
      "Total time elapsed: 00:00:02\n"
     ]
    },
    {
     "name": "stdout",
     "output_type": "stream",
     "text": [
      "PMF\n"
     ]
    },
    {
     "name": "stderr",
     "output_type": "stream",
     "text": [
      "0% [##############################] 100% | ETA: 00:00:00\n",
      "Total time elapsed: 00:00:06\n"
     ]
    },
    {
     "name": "stdout",
     "output_type": "stream",
     "text": [
      "POF\n"
     ]
    },
    {
     "name": "stderr",
     "output_type": "stream",
     "text": [
      "0% [##############################] 100% | ETA: 00:00:00\n",
      "Total time elapsed: 00:00:02\n"
     ]
    },
    {
     "name": "stdout",
     "output_type": "stream",
     "text": [
      "POF\n"
     ]
    },
    {
     "name": "stderr",
     "output_type": "stream",
     "text": [
      "0% [##############################] 100% | ETA: 00:00:00\n",
      "Total time elapsed: 00:00:06\n"
     ]
    },
    {
     "name": "stdout",
     "output_type": "stream",
     "text": [
      "TA\n"
     ]
    },
    {
     "name": "stderr",
     "output_type": "stream",
     "text": [
      "0% [##############################] 100% | ETA: 00:00:00\n",
      "Total time elapsed: 00:00:02\n"
     ]
    },
    {
     "name": "stdout",
     "output_type": "stream",
     "text": [
      "TA\n"
     ]
    },
    {
     "name": "stderr",
     "output_type": "stream",
     "text": [
      "0% [##############################] 100% | ETA: 00:00:00\n",
      "Total time elapsed: 00:00:05\n"
     ]
    },
    {
     "name": "stdout",
     "output_type": "stream",
     "text": [
      "TET\n"
     ]
    },
    {
     "name": "stderr",
     "output_type": "stream",
     "text": [
      "0% [##############################] 100% | ETA: 00:00:00\n",
      "Total time elapsed: 00:00:02\n"
     ]
    },
    {
     "name": "stdout",
     "output_type": "stream",
     "text": [
      "TET\n"
     ]
    },
    {
     "name": "stderr",
     "output_type": "stream",
     "text": [
      "0% [##############################] 100% | ETA: 00:00:00\n",
      "Total time elapsed: 00:00:06\n"
     ]
    },
    {
     "name": "stdout",
     "output_type": "stream",
     "text": [
      "ULO\n"
     ]
    },
    {
     "name": "stderr",
     "output_type": "stream",
     "text": [
      "0% [##############################] 100% | ETA: 00:00:00\n",
      "Total time elapsed: 00:00:02\n"
     ]
    },
    {
     "name": "stdout",
     "output_type": "stream",
     "text": [
      "ULO\n"
     ]
    },
    {
     "name": "stderr",
     "output_type": "stream",
     "text": [
      "0% [##############################] 100% | ETA: 00:00:00\n",
      "Total time elapsed: 00:00:06\n"
     ]
    },
    {
     "name": "stdout",
     "output_type": "stream",
     "text": [
      "WD\n"
     ]
    },
    {
     "name": "stderr",
     "output_type": "stream",
     "text": [
      "0% [##############################] 100% | ETA: 00:00:00\n",
      "Total time elapsed: 00:00:02\n"
     ]
    },
    {
     "name": "stdout",
     "output_type": "stream",
     "text": [
      "WD\n"
     ]
    },
    {
     "name": "stderr",
     "output_type": "stream",
     "text": [
      "0% [##############################] 100% | ETA: 00:00:00\n",
      "Total time elapsed: 00:00:05\n"
     ]
    },
    {
     "name": "stdout",
     "output_type": "stream",
     "text": [
      "ALO\n"
     ]
    },
    {
     "name": "stderr",
     "output_type": "stream",
     "text": [
      "0% [##############################] 100% | ETA: 00:00:00\n",
      "Total time elapsed: 00:00:02\n"
     ]
    },
    {
     "name": "stdout",
     "output_type": "stream",
     "text": [
      "ALO\n"
     ]
    },
    {
     "name": "stderr",
     "output_type": "stream",
     "text": [
      "0% [##############################] 100% | ETA: 00:00:00\n",
      "Total time elapsed: 00:00:05\n"
     ]
    },
    {
     "name": "stdout",
     "output_type": "stream",
     "text": [
      "CC\n"
     ]
    },
    {
     "name": "stderr",
     "output_type": "stream",
     "text": [
      "0% [##############################] 100% | ETA: 00:00:00\n",
      "Total time elapsed: 00:00:02\n"
     ]
    },
    {
     "name": "stdout",
     "output_type": "stream",
     "text": [
      "CC\n"
     ]
    },
    {
     "name": "stderr",
     "output_type": "stream",
     "text": [
      "0% [##############################] 100% | ETA: 00:00:00\n",
      "Total time elapsed: 00:00:05\n"
     ]
    },
    {
     "name": "stdout",
     "output_type": "stream",
     "text": [
      "FD\n"
     ]
    },
    {
     "name": "stderr",
     "output_type": "stream",
     "text": [
      "0% [##############################] 100% | ETA: 00:00:00\n",
      "Total time elapsed: 00:00:02\n"
     ]
    },
    {
     "name": "stdout",
     "output_type": "stream",
     "text": [
      "FD\n"
     ]
    },
    {
     "name": "stderr",
     "output_type": "stream",
     "text": [
      "0% [##############################] 100% | ETA: 00:00:00\n",
      "Total time elapsed: 00:00:05\n"
     ]
    },
    {
     "name": "stdout",
     "output_type": "stream",
     "text": [
      "FET\n"
     ]
    },
    {
     "name": "stderr",
     "output_type": "stream",
     "text": [
      "0% [##############################] 100% | ETA: 00:00:00\n",
      "Total time elapsed: 00:00:02\n"
     ]
    },
    {
     "name": "stdout",
     "output_type": "stream",
     "text": [
      "FET\n"
     ]
    },
    {
     "name": "stderr",
     "output_type": "stream",
     "text": [
      "0% [##############################] 100% | ETA: 00:00:00\n",
      "Total time elapsed: 00:00:06\n"
     ]
    },
    {
     "name": "stdout",
     "output_type": "stream",
     "text": [
      "FE\n"
     ]
    },
    {
     "name": "stderr",
     "output_type": "stream",
     "text": [
      "0% [##############################] 100% | ETA: 00:00:00\n",
      "Total time elapsed: 00:00:02\n"
     ]
    },
    {
     "name": "stdout",
     "output_type": "stream",
     "text": [
      "FE\n"
     ]
    },
    {
     "name": "stderr",
     "output_type": "stream",
     "text": [
      "0% [##############################] 100% | ETA: 00:00:00\n",
      "Total time elapsed: 00:00:05\n"
     ]
    },
    {
     "name": "stdout",
     "output_type": "stream",
     "text": [
      "HT\n"
     ]
    },
    {
     "name": "stderr",
     "output_type": "stream",
     "text": [
      "0% [##############################] 100% | ETA: 00:00:00\n",
      "Total time elapsed: 00:00:02\n"
     ]
    },
    {
     "name": "stdout",
     "output_type": "stream",
     "text": [
      "HT\n"
     ]
    },
    {
     "name": "stderr",
     "output_type": "stream",
     "text": [
      "0% [##############################] 100% | ETA: 00:00:00\n",
      "Total time elapsed: 00:00:06\n"
     ]
    },
    {
     "name": "stdout",
     "output_type": "stream",
     "text": [
      "IR\n"
     ]
    },
    {
     "name": "stderr",
     "output_type": "stream",
     "text": [
      "0% [##############################] 100% | ETA: 00:00:00\n",
      "Total time elapsed: 00:00:02\n"
     ]
    },
    {
     "name": "stdout",
     "output_type": "stream",
     "text": [
      "IR\n"
     ]
    },
    {
     "name": "stderr",
     "output_type": "stream",
     "text": [
      "0% [##############################] 100% | ETA: 00:00:00\n",
      "Total time elapsed: 00:00:05\n"
     ]
    },
    {
     "name": "stdout",
     "output_type": "stream",
     "text": [
      "MET\n"
     ]
    },
    {
     "name": "stderr",
     "output_type": "stream",
     "text": [
      "0% [##############################] 100% | ETA: 00:00:00\n",
      "Total time elapsed: 00:00:02\n"
     ]
    },
    {
     "name": "stdout",
     "output_type": "stream",
     "text": [
      "MET\n"
     ]
    },
    {
     "name": "stderr",
     "output_type": "stream",
     "text": [
      "0% [##############################] 100% | ETA: 00:00:00\n",
      "Total time elapsed: 00:00:06\n"
     ]
    },
    {
     "name": "stdout",
     "output_type": "stream",
     "text": [
      "ME\n"
     ]
    },
    {
     "name": "stderr",
     "output_type": "stream",
     "text": [
      "0% [##############################] 100% | ETA: 00:00:00\n",
      "Total time elapsed: 00:00:02\n"
     ]
    },
    {
     "name": "stdout",
     "output_type": "stream",
     "text": [
      "ME\n"
     ]
    },
    {
     "name": "stderr",
     "output_type": "stream",
     "text": [
      "0% [##############################] 100% | ETA: 00:00:00\n",
      "Total time elapsed: 00:00:05\n"
     ]
    },
    {
     "name": "stdout",
     "output_type": "stream",
     "text": [
      "MD\n"
     ]
    },
    {
     "name": "stderr",
     "output_type": "stream",
     "text": [
      "0% [##############################] 100% | ETA: 00:00:00\n",
      "Total time elapsed: 00:00:02\n"
     ]
    },
    {
     "name": "stdout",
     "output_type": "stream",
     "text": [
      "MD\n"
     ]
    },
    {
     "name": "stderr",
     "output_type": "stream",
     "text": [
      "0% [##############################] 100% | ETA: 00:00:00\n",
      "Total time elapsed: 00:00:05\n"
     ]
    },
    {
     "name": "stdout",
     "output_type": "stream",
     "text": [
      "NLT\n"
     ]
    },
    {
     "name": "stderr",
     "output_type": "stream",
     "text": [
      "0% [##############################] 100% | ETA: 00:00:00\n",
      "Total time elapsed: 00:00:02\n"
     ]
    },
    {
     "name": "stdout",
     "output_type": "stream",
     "text": [
      "NLT\n"
     ]
    },
    {
     "name": "stderr",
     "output_type": "stream",
     "text": [
      "0% [##############################] 100% | ETA: 00:00:00\n",
      "Total time elapsed: 00:00:05\n"
     ]
    },
    {
     "name": "stdout",
     "output_type": "stream",
     "text": [
      "OD\n"
     ]
    },
    {
     "name": "stderr",
     "output_type": "stream",
     "text": [
      "0% [##############################] 100% | ETA: 00:00:00\n",
      "Total time elapsed: 00:00:02\n"
     ]
    },
    {
     "name": "stdout",
     "output_type": "stream",
     "text": [
      "OD\n"
     ]
    },
    {
     "name": "stderr",
     "output_type": "stream",
     "text": [
      "0% [##############################] 100% | ETA: 00:00:00\n",
      "Total time elapsed: 00:00:05\n"
     ]
    },
    {
     "name": "stdout",
     "output_type": "stream",
     "text": [
      "PMF\n"
     ]
    },
    {
     "name": "stderr",
     "output_type": "stream",
     "text": [
      "0% [##############################] 100% | ETA: 00:00:00\n",
      "Total time elapsed: 00:00:02\n"
     ]
    },
    {
     "name": "stdout",
     "output_type": "stream",
     "text": [
      "PMF\n"
     ]
    },
    {
     "name": "stderr",
     "output_type": "stream",
     "text": [
      "0% [##############################] 100% | ETA: 00:00:00\n",
      "Total time elapsed: 00:00:05\n"
     ]
    },
    {
     "name": "stdout",
     "output_type": "stream",
     "text": [
      "POF\n"
     ]
    },
    {
     "name": "stderr",
     "output_type": "stream",
     "text": [
      "0% [##############################] 100% | ETA: 00:00:00\n",
      "Total time elapsed: 00:00:02\n"
     ]
    },
    {
     "name": "stdout",
     "output_type": "stream",
     "text": [
      "POF\n"
     ]
    },
    {
     "name": "stderr",
     "output_type": "stream",
     "text": [
      "0% [##############################] 100% | ETA: 00:00:00\n",
      "Total time elapsed: 00:00:06\n"
     ]
    },
    {
     "name": "stdout",
     "output_type": "stream",
     "text": [
      "TA\n"
     ]
    },
    {
     "name": "stderr",
     "output_type": "stream",
     "text": [
      "0% [##############################] 100% | ETA: 00:00:00\n",
      "Total time elapsed: 00:00:02\n"
     ]
    },
    {
     "name": "stdout",
     "output_type": "stream",
     "text": [
      "TA\n"
     ]
    },
    {
     "name": "stderr",
     "output_type": "stream",
     "text": [
      "0% [##############################] 100% | ETA: 00:00:00\n",
      "Total time elapsed: 00:00:05\n"
     ]
    },
    {
     "name": "stdout",
     "output_type": "stream",
     "text": [
      "TET\n"
     ]
    },
    {
     "name": "stderr",
     "output_type": "stream",
     "text": [
      "0% [##############################] 100% | ETA: 00:00:00\n",
      "Total time elapsed: 00:00:02\n"
     ]
    },
    {
     "name": "stdout",
     "output_type": "stream",
     "text": [
      "TET\n"
     ]
    },
    {
     "name": "stderr",
     "output_type": "stream",
     "text": [
      "0% [##############################] 100% | ETA: 00:00:00\n",
      "Total time elapsed: 00:00:06\n"
     ]
    },
    {
     "name": "stdout",
     "output_type": "stream",
     "text": [
      "ULO\n"
     ]
    },
    {
     "name": "stderr",
     "output_type": "stream",
     "text": [
      "0% [##############################] 100% | ETA: 00:00:00\n",
      "Total time elapsed: 00:00:02\n"
     ]
    },
    {
     "name": "stdout",
     "output_type": "stream",
     "text": [
      "ULO\n"
     ]
    },
    {
     "name": "stderr",
     "output_type": "stream",
     "text": [
      "0% [##############################] 100% | ETA: 00:00:00\n",
      "Total time elapsed: 00:00:05\n"
     ]
    },
    {
     "name": "stdout",
     "output_type": "stream",
     "text": [
      "WD\n"
     ]
    },
    {
     "name": "stderr",
     "output_type": "stream",
     "text": [
      "0% [##############################] 100% | ETA: 00:00:00\n",
      "Total time elapsed: 00:00:02\n"
     ]
    },
    {
     "name": "stdout",
     "output_type": "stream",
     "text": [
      "WD\n"
     ]
    },
    {
     "name": "stderr",
     "output_type": "stream",
     "text": [
      "0% [##############################] 100% | ETA: 00:00:00\n",
      "Total time elapsed: 00:00:05\n"
     ]
    },
    {
     "name": "stdout",
     "output_type": "stream",
     "text": [
      "ALO\n"
     ]
    },
    {
     "name": "stderr",
     "output_type": "stream",
     "text": [
      "0% [##############################] 100% | ETA: 00:00:00\n",
      "Total time elapsed: 00:00:02\n"
     ]
    },
    {
     "name": "stdout",
     "output_type": "stream",
     "text": [
      "ALO\n"
     ]
    },
    {
     "name": "stderr",
     "output_type": "stream",
     "text": [
      "0% [##############################] 100% | ETA: 00:00:00\n",
      "Total time elapsed: 00:00:05\n"
     ]
    },
    {
     "name": "stdout",
     "output_type": "stream",
     "text": [
      "CC\n"
     ]
    },
    {
     "name": "stderr",
     "output_type": "stream",
     "text": [
      "0% [##############################] 100% | ETA: 00:00:00\n",
      "Total time elapsed: 00:00:02\n"
     ]
    },
    {
     "name": "stdout",
     "output_type": "stream",
     "text": [
      "CC\n"
     ]
    },
    {
     "name": "stderr",
     "output_type": "stream",
     "text": [
      "0% [##############################] 100% | ETA: 00:00:00\n",
      "Total time elapsed: 00:00:05\n"
     ]
    },
    {
     "name": "stdout",
     "output_type": "stream",
     "text": [
      "FD\n"
     ]
    },
    {
     "name": "stderr",
     "output_type": "stream",
     "text": [
      "0% [##############################] 100% | ETA: 00:00:00\n",
      "Total time elapsed: 00:00:02\n"
     ]
    },
    {
     "name": "stdout",
     "output_type": "stream",
     "text": [
      "FD\n"
     ]
    },
    {
     "name": "stderr",
     "output_type": "stream",
     "text": [
      "0% [##############################] 100% | ETA: 00:00:00\n",
      "Total time elapsed: 00:00:05\n"
     ]
    },
    {
     "name": "stdout",
     "output_type": "stream",
     "text": [
      "FET\n"
     ]
    },
    {
     "name": "stderr",
     "output_type": "stream",
     "text": [
      "0% [##############################] 100% | ETA: 00:00:00\n",
      "Total time elapsed: 00:00:02\n"
     ]
    },
    {
     "name": "stdout",
     "output_type": "stream",
     "text": [
      "FET\n"
     ]
    },
    {
     "name": "stderr",
     "output_type": "stream",
     "text": [
      "0% [##############################] 100% | ETA: 00:00:00\n",
      "Total time elapsed: 00:00:06\n"
     ]
    },
    {
     "name": "stdout",
     "output_type": "stream",
     "text": [
      "FE\n"
     ]
    },
    {
     "name": "stderr",
     "output_type": "stream",
     "text": [
      "0% [##############################] 100% | ETA: 00:00:00\n",
      "Total time elapsed: 00:00:02\n"
     ]
    },
    {
     "name": "stdout",
     "output_type": "stream",
     "text": [
      "FE\n"
     ]
    },
    {
     "name": "stderr",
     "output_type": "stream",
     "text": [
      "0% [##############################] 100% | ETA: 00:00:00\n",
      "Total time elapsed: 00:00:05\n"
     ]
    },
    {
     "name": "stdout",
     "output_type": "stream",
     "text": [
      "HT\n"
     ]
    },
    {
     "name": "stderr",
     "output_type": "stream",
     "text": [
      "0% [##############################] 100% | ETA: 00:00:00\n",
      "Total time elapsed: 00:00:02\n"
     ]
    },
    {
     "name": "stdout",
     "output_type": "stream",
     "text": [
      "HT\n"
     ]
    },
    {
     "name": "stderr",
     "output_type": "stream",
     "text": [
      "0% [##############################] 100% | ETA: 00:00:00\n",
      "Total time elapsed: 00:00:06\n"
     ]
    },
    {
     "name": "stdout",
     "output_type": "stream",
     "text": [
      "IR\n"
     ]
    },
    {
     "name": "stderr",
     "output_type": "stream",
     "text": [
      "0% [##############################] 100% | ETA: 00:00:00\n",
      "Total time elapsed: 00:00:02\n"
     ]
    },
    {
     "name": "stdout",
     "output_type": "stream",
     "text": [
      "IR\n"
     ]
    },
    {
     "name": "stderr",
     "output_type": "stream",
     "text": [
      "0% [##############################] 100% | ETA: 00:00:00\n",
      "Total time elapsed: 00:00:05\n"
     ]
    },
    {
     "name": "stdout",
     "output_type": "stream",
     "text": [
      "MET\n"
     ]
    },
    {
     "name": "stderr",
     "output_type": "stream",
     "text": [
      "0% [##############################] 100% | ETA: 00:00:00\n",
      "Total time elapsed: 00:00:02\n"
     ]
    },
    {
     "name": "stdout",
     "output_type": "stream",
     "text": [
      "MET\n"
     ]
    },
    {
     "name": "stderr",
     "output_type": "stream",
     "text": [
      "0% [##############################] 100% | ETA: 00:00:00\n",
      "Total time elapsed: 00:00:06\n"
     ]
    },
    {
     "name": "stdout",
     "output_type": "stream",
     "text": [
      "ME\n"
     ]
    },
    {
     "name": "stderr",
     "output_type": "stream",
     "text": [
      "0% [##############################] 100% | ETA: 00:00:00\n",
      "Total time elapsed: 00:00:02\n"
     ]
    },
    {
     "name": "stdout",
     "output_type": "stream",
     "text": [
      "ME\n"
     ]
    },
    {
     "name": "stderr",
     "output_type": "stream",
     "text": [
      "0% [##############################] 100% | ETA: 00:00:00\n",
      "Total time elapsed: 00:00:05\n"
     ]
    },
    {
     "name": "stdout",
     "output_type": "stream",
     "text": [
      "MD\n"
     ]
    },
    {
     "name": "stderr",
     "output_type": "stream",
     "text": [
      "0% [##############################] 100% | ETA: 00:00:00\n",
      "Total time elapsed: 00:00:02\n"
     ]
    },
    {
     "name": "stdout",
     "output_type": "stream",
     "text": [
      "MD\n"
     ]
    },
    {
     "name": "stderr",
     "output_type": "stream",
     "text": [
      "0% [##############################] 100% | ETA: 00:00:00\n",
      "Total time elapsed: 00:00:05\n"
     ]
    },
    {
     "name": "stdout",
     "output_type": "stream",
     "text": [
      "NLT\n"
     ]
    },
    {
     "name": "stderr",
     "output_type": "stream",
     "text": [
      "0% [##############################] 100% | ETA: 00:00:00\n",
      "Total time elapsed: 00:00:02\n"
     ]
    },
    {
     "name": "stdout",
     "output_type": "stream",
     "text": [
      "NLT\n"
     ]
    },
    {
     "name": "stderr",
     "output_type": "stream",
     "text": [
      "0% [##############################] 100% | ETA: 00:00:00\n",
      "Total time elapsed: 00:00:05\n"
     ]
    },
    {
     "name": "stdout",
     "output_type": "stream",
     "text": [
      "OD\n"
     ]
    },
    {
     "name": "stderr",
     "output_type": "stream",
     "text": [
      "0% [##############################] 100% | ETA: 00:00:00\n",
      "Total time elapsed: 00:00:02\n"
     ]
    },
    {
     "name": "stdout",
     "output_type": "stream",
     "text": [
      "OD\n"
     ]
    },
    {
     "name": "stderr",
     "output_type": "stream",
     "text": [
      "0% [##############################] 100% | ETA: 00:00:00\n",
      "Total time elapsed: 00:00:05\n"
     ]
    },
    {
     "name": "stdout",
     "output_type": "stream",
     "text": [
      "PMF\n"
     ]
    },
    {
     "name": "stderr",
     "output_type": "stream",
     "text": [
      "0% [##############################] 100% | ETA: 00:00:00\n",
      "Total time elapsed: 00:00:02\n"
     ]
    },
    {
     "name": "stdout",
     "output_type": "stream",
     "text": [
      "PMF\n"
     ]
    },
    {
     "name": "stderr",
     "output_type": "stream",
     "text": [
      "0% [##############################] 100% | ETA: 00:00:00\n",
      "Total time elapsed: 00:00:05\n"
     ]
    },
    {
     "name": "stdout",
     "output_type": "stream",
     "text": [
      "POF\n"
     ]
    },
    {
     "name": "stderr",
     "output_type": "stream",
     "text": [
      "0% [##############################] 100% | ETA: 00:00:00\n",
      "Total time elapsed: 00:00:02\n"
     ]
    },
    {
     "name": "stdout",
     "output_type": "stream",
     "text": [
      "POF\n"
     ]
    },
    {
     "name": "stderr",
     "output_type": "stream",
     "text": [
      "0% [##############################] 100% | ETA: 00:00:00\n",
      "Total time elapsed: 00:00:06\n"
     ]
    },
    {
     "name": "stdout",
     "output_type": "stream",
     "text": [
      "TA\n"
     ]
    },
    {
     "name": "stderr",
     "output_type": "stream",
     "text": [
      "0% [##############################] 100% | ETA: 00:00:00\n",
      "Total time elapsed: 00:00:02\n"
     ]
    },
    {
     "name": "stdout",
     "output_type": "stream",
     "text": [
      "TA\n"
     ]
    },
    {
     "name": "stderr",
     "output_type": "stream",
     "text": [
      "0% [##############################] 100% | ETA: 00:00:00\n",
      "Total time elapsed: 00:00:05\n"
     ]
    },
    {
     "name": "stdout",
     "output_type": "stream",
     "text": [
      "TET\n"
     ]
    },
    {
     "name": "stderr",
     "output_type": "stream",
     "text": [
      "0% [##############################] 100% | ETA: 00:00:00\n",
      "Total time elapsed: 00:00:02\n"
     ]
    },
    {
     "name": "stdout",
     "output_type": "stream",
     "text": [
      "TET\n"
     ]
    },
    {
     "name": "stderr",
     "output_type": "stream",
     "text": [
      "0% [##############################] 100% | ETA: 00:00:00\n",
      "Total time elapsed: 00:00:06\n"
     ]
    },
    {
     "name": "stdout",
     "output_type": "stream",
     "text": [
      "ULO\n"
     ]
    },
    {
     "name": "stderr",
     "output_type": "stream",
     "text": [
      "0% [##############################] 100% | ETA: 00:00:00\n",
      "Total time elapsed: 00:00:02\n"
     ]
    },
    {
     "name": "stdout",
     "output_type": "stream",
     "text": [
      "ULO\n"
     ]
    },
    {
     "name": "stderr",
     "output_type": "stream",
     "text": [
      "0% [##############################] 100% | ETA: 00:00:00\n",
      "Total time elapsed: 00:00:05\n"
     ]
    },
    {
     "name": "stdout",
     "output_type": "stream",
     "text": [
      "WD\n"
     ]
    },
    {
     "name": "stderr",
     "output_type": "stream",
     "text": [
      "0% [##############################] 100% | ETA: 00:00:00\n",
      "Total time elapsed: 00:00:02\n"
     ]
    },
    {
     "name": "stdout",
     "output_type": "stream",
     "text": [
      "WD\n"
     ]
    },
    {
     "name": "stderr",
     "output_type": "stream",
     "text": [
      "0% [##############################] 100% | ETA: 00:00:00\n",
      "Total time elapsed: 00:00:05\n"
     ]
    },
    {
     "name": "stdout",
     "output_type": "stream",
     "text": [
      "ALO\n"
     ]
    },
    {
     "name": "stderr",
     "output_type": "stream",
     "text": [
      "0% [##############################] 100% | ETA: 00:00:00\n",
      "Total time elapsed: 00:00:02\n"
     ]
    },
    {
     "name": "stdout",
     "output_type": "stream",
     "text": [
      "ALO\n"
     ]
    },
    {
     "name": "stderr",
     "output_type": "stream",
     "text": [
      "0% [##############################] 100% | ETA: 00:00:00\n",
      "Total time elapsed: 00:00:05\n"
     ]
    },
    {
     "name": "stdout",
     "output_type": "stream",
     "text": [
      "CC\n"
     ]
    },
    {
     "name": "stderr",
     "output_type": "stream",
     "text": [
      "0% [##############################] 100% | ETA: 00:00:00\n",
      "Total time elapsed: 00:00:02\n"
     ]
    },
    {
     "name": "stdout",
     "output_type": "stream",
     "text": [
      "CC\n"
     ]
    },
    {
     "name": "stderr",
     "output_type": "stream",
     "text": [
      "0% [##############################] 100% | ETA: 00:00:00\n",
      "Total time elapsed: 00:00:05\n"
     ]
    },
    {
     "name": "stdout",
     "output_type": "stream",
     "text": [
      "FD\n"
     ]
    },
    {
     "name": "stderr",
     "output_type": "stream",
     "text": [
      "0% [##############################] 100% | ETA: 00:00:00\n",
      "Total time elapsed: 00:00:02\n"
     ]
    },
    {
     "name": "stdout",
     "output_type": "stream",
     "text": [
      "FD\n"
     ]
    },
    {
     "name": "stderr",
     "output_type": "stream",
     "text": [
      "0% [##############################] 100% | ETA: 00:00:00\n",
      "Total time elapsed: 00:00:05\n"
     ]
    },
    {
     "name": "stdout",
     "output_type": "stream",
     "text": [
      "FET\n"
     ]
    },
    {
     "name": "stderr",
     "output_type": "stream",
     "text": [
      "0% [##############################] 100% | ETA: 00:00:00\n",
      "Total time elapsed: 00:00:02\n"
     ]
    },
    {
     "name": "stdout",
     "output_type": "stream",
     "text": [
      "FET\n"
     ]
    },
    {
     "name": "stderr",
     "output_type": "stream",
     "text": [
      "0% [##############################] 100% | ETA: 00:00:00\n",
      "Total time elapsed: 00:00:06\n"
     ]
    },
    {
     "name": "stdout",
     "output_type": "stream",
     "text": [
      "FE\n"
     ]
    },
    {
     "name": "stderr",
     "output_type": "stream",
     "text": [
      "0% [##############################] 100% | ETA: 00:00:00\n",
      "Total time elapsed: 00:00:02\n"
     ]
    },
    {
     "name": "stdout",
     "output_type": "stream",
     "text": [
      "FE\n"
     ]
    },
    {
     "name": "stderr",
     "output_type": "stream",
     "text": [
      "0% [##############################] 100% | ETA: 00:00:00\n",
      "Total time elapsed: 00:00:05\n"
     ]
    },
    {
     "name": "stdout",
     "output_type": "stream",
     "text": [
      "HT\n"
     ]
    },
    {
     "name": "stderr",
     "output_type": "stream",
     "text": [
      "0% [##############################] 100% | ETA: 00:00:00\n",
      "Total time elapsed: 00:00:02\n"
     ]
    },
    {
     "name": "stdout",
     "output_type": "stream",
     "text": [
      "HT\n"
     ]
    },
    {
     "name": "stderr",
     "output_type": "stream",
     "text": [
      "0% [##############################] 100% | ETA: 00:00:00\n",
      "Total time elapsed: 00:00:06\n"
     ]
    },
    {
     "name": "stdout",
     "output_type": "stream",
     "text": [
      "IR\n"
     ]
    },
    {
     "name": "stderr",
     "output_type": "stream",
     "text": [
      "0% [##############################] 100% | ETA: 00:00:00\n",
      "Total time elapsed: 00:00:02\n"
     ]
    },
    {
     "name": "stdout",
     "output_type": "stream",
     "text": [
      "IR\n"
     ]
    },
    {
     "name": "stderr",
     "output_type": "stream",
     "text": [
      "0% [##############################] 100% | ETA: 00:00:00\n",
      "Total time elapsed: 00:00:05\n"
     ]
    },
    {
     "name": "stdout",
     "output_type": "stream",
     "text": [
      "MET\n"
     ]
    },
    {
     "name": "stderr",
     "output_type": "stream",
     "text": [
      "0% [##############################] 100% | ETA: 00:00:00\n",
      "Total time elapsed: 00:00:02\n"
     ]
    },
    {
     "name": "stdout",
     "output_type": "stream",
     "text": [
      "MET\n"
     ]
    },
    {
     "name": "stderr",
     "output_type": "stream",
     "text": [
      "0% [##############################] 100% | ETA: 00:00:00\n",
      "Total time elapsed: 00:00:06\n"
     ]
    },
    {
     "name": "stdout",
     "output_type": "stream",
     "text": [
      "ME\n"
     ]
    },
    {
     "name": "stderr",
     "output_type": "stream",
     "text": [
      "0% [##############################] 100% | ETA: 00:00:00\n",
      "Total time elapsed: 00:00:02\n"
     ]
    },
    {
     "name": "stdout",
     "output_type": "stream",
     "text": [
      "ME\n"
     ]
    },
    {
     "name": "stderr",
     "output_type": "stream",
     "text": [
      "0% [##############################] 100% | ETA: 00:00:00\n",
      "Total time elapsed: 00:00:05\n"
     ]
    },
    {
     "name": "stdout",
     "output_type": "stream",
     "text": [
      "MD\n"
     ]
    },
    {
     "name": "stderr",
     "output_type": "stream",
     "text": [
      "0% [##############################] 100% | ETA: 00:00:00\n",
      "Total time elapsed: 00:00:02\n"
     ]
    },
    {
     "name": "stdout",
     "output_type": "stream",
     "text": [
      "MD\n"
     ]
    },
    {
     "name": "stderr",
     "output_type": "stream",
     "text": [
      "0% [##############################] 100% | ETA: 00:00:00\n",
      "Total time elapsed: 00:00:05\n"
     ]
    },
    {
     "name": "stdout",
     "output_type": "stream",
     "text": [
      "NLT\n"
     ]
    },
    {
     "name": "stderr",
     "output_type": "stream",
     "text": [
      "0% [##############################] 100% | ETA: 00:00:00\n",
      "Total time elapsed: 00:00:02\n"
     ]
    },
    {
     "name": "stdout",
     "output_type": "stream",
     "text": [
      "NLT\n"
     ]
    },
    {
     "name": "stderr",
     "output_type": "stream",
     "text": [
      "0% [##############################] 100% | ETA: 00:00:00\n",
      "Total time elapsed: 00:00:05\n"
     ]
    },
    {
     "name": "stdout",
     "output_type": "stream",
     "text": [
      "OD\n"
     ]
    },
    {
     "name": "stderr",
     "output_type": "stream",
     "text": [
      "0% [##############################] 100% | ETA: 00:00:00\n",
      "Total time elapsed: 00:00:02\n"
     ]
    },
    {
     "name": "stdout",
     "output_type": "stream",
     "text": [
      "OD\n"
     ]
    },
    {
     "name": "stderr",
     "output_type": "stream",
     "text": [
      "0% [##############################] 100% | ETA: 00:00:00\n",
      "Total time elapsed: 00:00:05\n"
     ]
    },
    {
     "name": "stdout",
     "output_type": "stream",
     "text": [
      "PMF\n"
     ]
    },
    {
     "name": "stderr",
     "output_type": "stream",
     "text": [
      "0% [##############################] 100% | ETA: 00:00:00\n",
      "Total time elapsed: 00:00:02\n"
     ]
    },
    {
     "name": "stdout",
     "output_type": "stream",
     "text": [
      "PMF\n"
     ]
    },
    {
     "name": "stderr",
     "output_type": "stream",
     "text": [
      "0% [##############################] 100% | ETA: 00:00:00\n",
      "Total time elapsed: 00:00:05\n"
     ]
    },
    {
     "name": "stdout",
     "output_type": "stream",
     "text": [
      "POF\n"
     ]
    },
    {
     "name": "stderr",
     "output_type": "stream",
     "text": [
      "0% [##############################] 100% | ETA: 00:00:00\n",
      "Total time elapsed: 00:00:02\n"
     ]
    },
    {
     "name": "stdout",
     "output_type": "stream",
     "text": [
      "POF\n"
     ]
    },
    {
     "name": "stderr",
     "output_type": "stream",
     "text": [
      "0% [##############################] 100% | ETA: 00:00:00\n",
      "Total time elapsed: 00:00:06\n"
     ]
    },
    {
     "name": "stdout",
     "output_type": "stream",
     "text": [
      "TA\n"
     ]
    },
    {
     "name": "stderr",
     "output_type": "stream",
     "text": [
      "0% [##############################] 100% | ETA: 00:00:00\n",
      "Total time elapsed: 00:00:02\n"
     ]
    },
    {
     "name": "stdout",
     "output_type": "stream",
     "text": [
      "TA\n"
     ]
    },
    {
     "name": "stderr",
     "output_type": "stream",
     "text": [
      "0% [##############################] 100% | ETA: 00:00:00\n",
      "Total time elapsed: 00:00:05\n"
     ]
    },
    {
     "name": "stdout",
     "output_type": "stream",
     "text": [
      "TET\n"
     ]
    },
    {
     "name": "stderr",
     "output_type": "stream",
     "text": [
      "0% [##############################] 100% | ETA: 00:00:00\n",
      "Total time elapsed: 00:00:02\n"
     ]
    },
    {
     "name": "stdout",
     "output_type": "stream",
     "text": [
      "TET\n"
     ]
    },
    {
     "name": "stderr",
     "output_type": "stream",
     "text": [
      "0% [##############################] 100% | ETA: 00:00:00\n",
      "Total time elapsed: 00:00:06\n"
     ]
    },
    {
     "name": "stdout",
     "output_type": "stream",
     "text": [
      "ULO\n"
     ]
    },
    {
     "name": "stderr",
     "output_type": "stream",
     "text": [
      "0% [##############################] 100% | ETA: 00:00:00\n",
      "Total time elapsed: 00:00:02\n"
     ]
    },
    {
     "name": "stdout",
     "output_type": "stream",
     "text": [
      "ULO\n"
     ]
    },
    {
     "name": "stderr",
     "output_type": "stream",
     "text": [
      "0% [##############################] 100% | ETA: 00:00:00\n",
      "Total time elapsed: 00:00:05\n"
     ]
    },
    {
     "name": "stdout",
     "output_type": "stream",
     "text": [
      "WD\n"
     ]
    },
    {
     "name": "stderr",
     "output_type": "stream",
     "text": [
      "0% [##############################] 100% | ETA: 00:00:00\n",
      "Total time elapsed: 00:00:02\n"
     ]
    },
    {
     "name": "stdout",
     "output_type": "stream",
     "text": [
      "WD\n"
     ]
    },
    {
     "name": "stderr",
     "output_type": "stream",
     "text": [
      "0% [##############################] 100% | ETA: 00:00:00\n",
      "Total time elapsed: 00:00:05\n"
     ]
    },
    {
     "name": "stdout",
     "output_type": "stream",
     "text": [
      "ALO\n"
     ]
    },
    {
     "name": "stderr",
     "output_type": "stream",
     "text": [
      "0% [##############################] 100% | ETA: 00:00:00\n",
      "Total time elapsed: 00:00:02\n"
     ]
    },
    {
     "name": "stdout",
     "output_type": "stream",
     "text": [
      "ALO\n"
     ]
    },
    {
     "name": "stderr",
     "output_type": "stream",
     "text": [
      "0% [##############################] 100% | ETA: 00:00:00\n",
      "Total time elapsed: 00:00:05\n"
     ]
    },
    {
     "name": "stdout",
     "output_type": "stream",
     "text": [
      "CC\n"
     ]
    },
    {
     "name": "stderr",
     "output_type": "stream",
     "text": [
      "0% [##############################] 100% | ETA: 00:00:00\n",
      "Total time elapsed: 00:00:02\n"
     ]
    },
    {
     "name": "stdout",
     "output_type": "stream",
     "text": [
      "CC\n"
     ]
    },
    {
     "name": "stderr",
     "output_type": "stream",
     "text": [
      "0% [##############################] 100% | ETA: 00:00:00\n",
      "Total time elapsed: 00:00:05\n"
     ]
    },
    {
     "name": "stdout",
     "output_type": "stream",
     "text": [
      "FD\n"
     ]
    },
    {
     "name": "stderr",
     "output_type": "stream",
     "text": [
      "0% [##############################] 100% | ETA: 00:00:00\n",
      "Total time elapsed: 00:00:02\n"
     ]
    },
    {
     "name": "stdout",
     "output_type": "stream",
     "text": [
      "FD\n"
     ]
    },
    {
     "name": "stderr",
     "output_type": "stream",
     "text": [
      "0% [##############################] 100% | ETA: 00:00:00\n",
      "Total time elapsed: 00:00:05\n"
     ]
    },
    {
     "name": "stdout",
     "output_type": "stream",
     "text": [
      "FET\n"
     ]
    },
    {
     "name": "stderr",
     "output_type": "stream",
     "text": [
      "0% [##############################] 100% | ETA: 00:00:00\n",
      "Total time elapsed: 00:00:02\n"
     ]
    },
    {
     "name": "stdout",
     "output_type": "stream",
     "text": [
      "FET\n"
     ]
    },
    {
     "name": "stderr",
     "output_type": "stream",
     "text": [
      "0% [##############################] 100% | ETA: 00:00:00\n",
      "Total time elapsed: 00:00:06\n"
     ]
    },
    {
     "name": "stdout",
     "output_type": "stream",
     "text": [
      "FE\n"
     ]
    },
    {
     "name": "stderr",
     "output_type": "stream",
     "text": [
      "0% [##############################] 100% | ETA: 00:00:00\n",
      "Total time elapsed: 00:00:02\n"
     ]
    },
    {
     "name": "stdout",
     "output_type": "stream",
     "text": [
      "FE\n"
     ]
    },
    {
     "name": "stderr",
     "output_type": "stream",
     "text": [
      "0% [##############################] 100% | ETA: 00:00:00\n",
      "Total time elapsed: 00:00:05\n"
     ]
    },
    {
     "name": "stdout",
     "output_type": "stream",
     "text": [
      "HT\n"
     ]
    },
    {
     "name": "stderr",
     "output_type": "stream",
     "text": [
      "0% [##############################] 100% | ETA: 00:00:00\n",
      "Total time elapsed: 00:00:02\n"
     ]
    },
    {
     "name": "stdout",
     "output_type": "stream",
     "text": [
      "HT\n"
     ]
    },
    {
     "name": "stderr",
     "output_type": "stream",
     "text": [
      "0% [##############################] 100% | ETA: 00:00:00\n",
      "Total time elapsed: 00:00:06\n"
     ]
    },
    {
     "name": "stdout",
     "output_type": "stream",
     "text": [
      "IR\n"
     ]
    },
    {
     "name": "stderr",
     "output_type": "stream",
     "text": [
      "0% [##############################] 100% | ETA: 00:00:00\n",
      "Total time elapsed: 00:00:02\n"
     ]
    },
    {
     "name": "stdout",
     "output_type": "stream",
     "text": [
      "IR\n"
     ]
    },
    {
     "name": "stderr",
     "output_type": "stream",
     "text": [
      "0% [##############################] 100% | ETA: 00:00:00\n",
      "Total time elapsed: 00:00:06\n"
     ]
    },
    {
     "name": "stdout",
     "output_type": "stream",
     "text": [
      "MET\n"
     ]
    },
    {
     "name": "stderr",
     "output_type": "stream",
     "text": [
      "0% [##############################] 100% | ETA: 00:00:00\n",
      "Total time elapsed: 00:00:02\n"
     ]
    },
    {
     "name": "stdout",
     "output_type": "stream",
     "text": [
      "MET\n"
     ]
    },
    {
     "name": "stderr",
     "output_type": "stream",
     "text": [
      "0% [##############################] 100% | ETA: 00:00:00\n",
      "Total time elapsed: 00:00:06\n"
     ]
    },
    {
     "name": "stdout",
     "output_type": "stream",
     "text": [
      "ME\n"
     ]
    },
    {
     "name": "stderr",
     "output_type": "stream",
     "text": [
      "0% [##############################] 100% | ETA: 00:00:00\n",
      "Total time elapsed: 00:00:02\n"
     ]
    },
    {
     "name": "stdout",
     "output_type": "stream",
     "text": [
      "ME\n"
     ]
    },
    {
     "name": "stderr",
     "output_type": "stream",
     "text": [
      "0% [##############################] 100% | ETA: 00:00:00\n",
      "Total time elapsed: 00:00:05\n"
     ]
    },
    {
     "name": "stdout",
     "output_type": "stream",
     "text": [
      "MD\n"
     ]
    },
    {
     "name": "stderr",
     "output_type": "stream",
     "text": [
      "0% [##############################] 100% | ETA: 00:00:00\n",
      "Total time elapsed: 00:00:02\n"
     ]
    },
    {
     "name": "stdout",
     "output_type": "stream",
     "text": [
      "MD\n"
     ]
    },
    {
     "name": "stderr",
     "output_type": "stream",
     "text": [
      "0% [##############################] 100% | ETA: 00:00:00\n",
      "Total time elapsed: 00:00:05\n"
     ]
    },
    {
     "name": "stdout",
     "output_type": "stream",
     "text": [
      "NLT\n"
     ]
    },
    {
     "name": "stderr",
     "output_type": "stream",
     "text": [
      "0% [##############################] 100% | ETA: 00:00:00\n",
      "Total time elapsed: 00:00:02\n"
     ]
    },
    {
     "name": "stdout",
     "output_type": "stream",
     "text": [
      "NLT\n"
     ]
    },
    {
     "name": "stderr",
     "output_type": "stream",
     "text": [
      "0% [##############################] 100% | ETA: 00:00:00\n",
      "Total time elapsed: 00:00:05\n"
     ]
    },
    {
     "name": "stdout",
     "output_type": "stream",
     "text": [
      "OD\n"
     ]
    },
    {
     "name": "stderr",
     "output_type": "stream",
     "text": [
      "0% [##############################] 100% | ETA: 00:00:00\n",
      "Total time elapsed: 00:00:02\n"
     ]
    },
    {
     "name": "stdout",
     "output_type": "stream",
     "text": [
      "OD\n"
     ]
    },
    {
     "name": "stderr",
     "output_type": "stream",
     "text": [
      "0% [##############################] 100% | ETA: 00:00:00\n",
      "Total time elapsed: 00:00:05\n"
     ]
    },
    {
     "name": "stdout",
     "output_type": "stream",
     "text": [
      "PMF\n"
     ]
    },
    {
     "name": "stderr",
     "output_type": "stream",
     "text": [
      "0% [##############################] 100% | ETA: 00:00:00\n",
      "Total time elapsed: 00:00:02\n"
     ]
    },
    {
     "name": "stdout",
     "output_type": "stream",
     "text": [
      "PMF\n"
     ]
    },
    {
     "name": "stderr",
     "output_type": "stream",
     "text": [
      "0% [##############################] 100% | ETA: 00:00:00\n",
      "Total time elapsed: 00:00:05\n"
     ]
    },
    {
     "name": "stdout",
     "output_type": "stream",
     "text": [
      "POF\n"
     ]
    },
    {
     "name": "stderr",
     "output_type": "stream",
     "text": [
      "0% [##############################] 100% | ETA: 00:00:00\n",
      "Total time elapsed: 00:00:02\n"
     ]
    },
    {
     "name": "stdout",
     "output_type": "stream",
     "text": [
      "POF\n"
     ]
    },
    {
     "name": "stderr",
     "output_type": "stream",
     "text": [
      "0% [##############################] 100% | ETA: 00:00:00\n",
      "Total time elapsed: 00:00:06\n"
     ]
    },
    {
     "name": "stdout",
     "output_type": "stream",
     "text": [
      "TA\n"
     ]
    },
    {
     "name": "stderr",
     "output_type": "stream",
     "text": [
      "0% [##############################] 100% | ETA: 00:00:00\n",
      "Total time elapsed: 00:00:02\n"
     ]
    },
    {
     "name": "stdout",
     "output_type": "stream",
     "text": [
      "TA\n"
     ]
    },
    {
     "name": "stderr",
     "output_type": "stream",
     "text": [
      "0% [##############################] 100% | ETA: 00:00:00\n",
      "Total time elapsed: 00:00:05\n"
     ]
    },
    {
     "name": "stdout",
     "output_type": "stream",
     "text": [
      "TET\n"
     ]
    },
    {
     "name": "stderr",
     "output_type": "stream",
     "text": [
      "0% [##############################] 100% | ETA: 00:00:00\n",
      "Total time elapsed: 00:00:02\n"
     ]
    },
    {
     "name": "stdout",
     "output_type": "stream",
     "text": [
      "TET\n"
     ]
    },
    {
     "name": "stderr",
     "output_type": "stream",
     "text": [
      "0% [##############################] 100% | ETA: 00:00:00\n",
      "Total time elapsed: 00:00:06\n"
     ]
    },
    {
     "name": "stdout",
     "output_type": "stream",
     "text": [
      "ULO\n"
     ]
    },
    {
     "name": "stderr",
     "output_type": "stream",
     "text": [
      "0% [##############################] 100% | ETA: 00:00:00\n",
      "Total time elapsed: 00:00:02\n"
     ]
    },
    {
     "name": "stdout",
     "output_type": "stream",
     "text": [
      "ULO\n"
     ]
    },
    {
     "name": "stderr",
     "output_type": "stream",
     "text": [
      "0% [##############################] 100% | ETA: 00:00:00\n",
      "Total time elapsed: 00:00:05\n"
     ]
    },
    {
     "name": "stdout",
     "output_type": "stream",
     "text": [
      "WD\n"
     ]
    },
    {
     "name": "stderr",
     "output_type": "stream",
     "text": [
      "0% [##############################] 100% | ETA: 00:00:00\n",
      "Total time elapsed: 00:00:02\n"
     ]
    },
    {
     "name": "stdout",
     "output_type": "stream",
     "text": [
      "WD\n"
     ]
    },
    {
     "name": "stderr",
     "output_type": "stream",
     "text": [
      "0% [##############################] 100% | ETA: 00:00:00\n",
      "Total time elapsed: 00:00:05\n"
     ]
    },
    {
     "name": "stdout",
     "output_type": "stream",
     "text": [
      "ALO\n"
     ]
    },
    {
     "name": "stderr",
     "output_type": "stream",
     "text": [
      "0% [##############################] 100% | ETA: 00:00:00\n",
      "Total time elapsed: 00:00:02\n"
     ]
    },
    {
     "name": "stdout",
     "output_type": "stream",
     "text": [
      "ALO\n"
     ]
    },
    {
     "name": "stderr",
     "output_type": "stream",
     "text": [
      "0% [##############################] 100% | ETA: 00:00:00\n",
      "Total time elapsed: 00:00:05\n"
     ]
    },
    {
     "name": "stdout",
     "output_type": "stream",
     "text": [
      "CC\n"
     ]
    },
    {
     "name": "stderr",
     "output_type": "stream",
     "text": [
      "0% [##############################] 100% | ETA: 00:00:00\n",
      "Total time elapsed: 00:00:02\n"
     ]
    },
    {
     "name": "stdout",
     "output_type": "stream",
     "text": [
      "CC\n"
     ]
    },
    {
     "name": "stderr",
     "output_type": "stream",
     "text": [
      "0% [##############################] 100% | ETA: 00:00:00\n",
      "Total time elapsed: 00:00:06\n"
     ]
    },
    {
     "name": "stdout",
     "output_type": "stream",
     "text": [
      "FD\n"
     ]
    },
    {
     "name": "stderr",
     "output_type": "stream",
     "text": [
      "0% [##############################] 100% | ETA: 00:00:00\n",
      "Total time elapsed: 00:00:02\n"
     ]
    },
    {
     "name": "stdout",
     "output_type": "stream",
     "text": [
      "FD\n"
     ]
    },
    {
     "name": "stderr",
     "output_type": "stream",
     "text": [
      "0% [##############################] 100% | ETA: 00:00:00\n",
      "Total time elapsed: 00:00:05\n"
     ]
    },
    {
     "name": "stdout",
     "output_type": "stream",
     "text": [
      "FET\n"
     ]
    },
    {
     "name": "stderr",
     "output_type": "stream",
     "text": [
      "0% [##############################] 100% | ETA: 00:00:00\n",
      "Total time elapsed: 00:00:02\n"
     ]
    },
    {
     "name": "stdout",
     "output_type": "stream",
     "text": [
      "FET\n"
     ]
    },
    {
     "name": "stderr",
     "output_type": "stream",
     "text": [
      "0% [##############################] 100% | ETA: 00:00:00\n",
      "Total time elapsed: 00:00:06\n"
     ]
    },
    {
     "name": "stdout",
     "output_type": "stream",
     "text": [
      "FE\n"
     ]
    },
    {
     "name": "stderr",
     "output_type": "stream",
     "text": [
      "0% [##############################] 100% | ETA: 00:00:00\n",
      "Total time elapsed: 00:00:02\n"
     ]
    },
    {
     "name": "stdout",
     "output_type": "stream",
     "text": [
      "FE\n"
     ]
    },
    {
     "name": "stderr",
     "output_type": "stream",
     "text": [
      "0% [##############################] 100% | ETA: 00:00:00\n",
      "Total time elapsed: 00:00:05\n"
     ]
    },
    {
     "name": "stdout",
     "output_type": "stream",
     "text": [
      "HT\n"
     ]
    },
    {
     "name": "stderr",
     "output_type": "stream",
     "text": [
      "0% [##############################] 100% | ETA: 00:00:00\n",
      "Total time elapsed: 00:00:02\n"
     ]
    },
    {
     "name": "stdout",
     "output_type": "stream",
     "text": [
      "HT\n"
     ]
    },
    {
     "name": "stderr",
     "output_type": "stream",
     "text": [
      "0% [##############################] 100% | ETA: 00:00:00\n",
      "Total time elapsed: 00:00:06\n"
     ]
    },
    {
     "name": "stdout",
     "output_type": "stream",
     "text": [
      "IR\n"
     ]
    },
    {
     "name": "stderr",
     "output_type": "stream",
     "text": [
      "0% [##############################] 100% | ETA: 00:00:00\n",
      "Total time elapsed: 00:00:02\n"
     ]
    },
    {
     "name": "stdout",
     "output_type": "stream",
     "text": [
      "IR\n"
     ]
    },
    {
     "name": "stderr",
     "output_type": "stream",
     "text": [
      "0% [##############################] 100% | ETA: 00:00:00\n",
      "Total time elapsed: 00:00:05\n"
     ]
    },
    {
     "name": "stdout",
     "output_type": "stream",
     "text": [
      "MET\n"
     ]
    },
    {
     "name": "stderr",
     "output_type": "stream",
     "text": [
      "0% [##############################] 100% | ETA: 00:00:00\n",
      "Total time elapsed: 00:00:02\n"
     ]
    },
    {
     "name": "stdout",
     "output_type": "stream",
     "text": [
      "MET\n"
     ]
    },
    {
     "name": "stderr",
     "output_type": "stream",
     "text": [
      "0% [##############################] 100% | ETA: 00:00:00\n",
      "Total time elapsed: 00:00:06\n"
     ]
    },
    {
     "name": "stdout",
     "output_type": "stream",
     "text": [
      "ME\n"
     ]
    },
    {
     "name": "stderr",
     "output_type": "stream",
     "text": [
      "0% [##############################] 100% | ETA: 00:00:00\n",
      "Total time elapsed: 00:00:02\n"
     ]
    },
    {
     "name": "stdout",
     "output_type": "stream",
     "text": [
      "ME\n"
     ]
    },
    {
     "name": "stderr",
     "output_type": "stream",
     "text": [
      "0% [##############################] 100% | ETA: 00:00:00\n",
      "Total time elapsed: 00:00:05\n"
     ]
    },
    {
     "name": "stdout",
     "output_type": "stream",
     "text": [
      "MD\n"
     ]
    },
    {
     "name": "stderr",
     "output_type": "stream",
     "text": [
      "0% [##############################] 100% | ETA: 00:00:00\n",
      "Total time elapsed: 00:00:02\n"
     ]
    },
    {
     "name": "stdout",
     "output_type": "stream",
     "text": [
      "MD\n"
     ]
    },
    {
     "name": "stderr",
     "output_type": "stream",
     "text": [
      "0% [##############################] 100% | ETA: 00:00:00\n",
      "Total time elapsed: 00:00:05\n"
     ]
    },
    {
     "name": "stdout",
     "output_type": "stream",
     "text": [
      "NLT\n"
     ]
    },
    {
     "name": "stderr",
     "output_type": "stream",
     "text": [
      "0% [##############################] 100% | ETA: 00:00:00\n",
      "Total time elapsed: 00:00:02\n"
     ]
    },
    {
     "name": "stdout",
     "output_type": "stream",
     "text": [
      "NLT\n"
     ]
    },
    {
     "name": "stderr",
     "output_type": "stream",
     "text": [
      "0% [##############################] 100% | ETA: 00:00:00\n",
      "Total time elapsed: 00:00:05\n"
     ]
    },
    {
     "name": "stdout",
     "output_type": "stream",
     "text": [
      "OD\n"
     ]
    },
    {
     "name": "stderr",
     "output_type": "stream",
     "text": [
      "0% [##############################] 100% | ETA: 00:00:00\n",
      "Total time elapsed: 00:00:02\n"
     ]
    },
    {
     "name": "stdout",
     "output_type": "stream",
     "text": [
      "OD\n"
     ]
    },
    {
     "name": "stderr",
     "output_type": "stream",
     "text": [
      "0% [##############################] 100% | ETA: 00:00:00\n",
      "Total time elapsed: 00:00:05\n"
     ]
    },
    {
     "name": "stdout",
     "output_type": "stream",
     "text": [
      "PMF\n"
     ]
    },
    {
     "name": "stderr",
     "output_type": "stream",
     "text": [
      "0% [##############################] 100% | ETA: 00:00:00\n",
      "Total time elapsed: 00:00:02\n"
     ]
    },
    {
     "name": "stdout",
     "output_type": "stream",
     "text": [
      "PMF\n"
     ]
    },
    {
     "name": "stderr",
     "output_type": "stream",
     "text": [
      "0% [##############################] 100% | ETA: 00:00:00\n",
      "Total time elapsed: 00:00:05\n"
     ]
    },
    {
     "name": "stdout",
     "output_type": "stream",
     "text": [
      "POF\n"
     ]
    },
    {
     "name": "stderr",
     "output_type": "stream",
     "text": [
      "0% [##############################] 100% | ETA: 00:00:00\n",
      "Total time elapsed: 00:00:02\n"
     ]
    },
    {
     "name": "stdout",
     "output_type": "stream",
     "text": [
      "POF\n"
     ]
    },
    {
     "name": "stderr",
     "output_type": "stream",
     "text": [
      "0% [##############################] 100% | ETA: 00:00:00\n",
      "Total time elapsed: 00:00:06\n"
     ]
    },
    {
     "name": "stdout",
     "output_type": "stream",
     "text": [
      "TA\n"
     ]
    },
    {
     "name": "stderr",
     "output_type": "stream",
     "text": [
      "0% [##############################] 100% | ETA: 00:00:00\n",
      "Total time elapsed: 00:00:02\n"
     ]
    },
    {
     "name": "stdout",
     "output_type": "stream",
     "text": [
      "TA\n"
     ]
    },
    {
     "name": "stderr",
     "output_type": "stream",
     "text": [
      "0% [##############################] 100% | ETA: 00:00:00\n",
      "Total time elapsed: 00:00:05\n"
     ]
    },
    {
     "name": "stdout",
     "output_type": "stream",
     "text": [
      "TET\n"
     ]
    },
    {
     "name": "stderr",
     "output_type": "stream",
     "text": [
      "0% [##############################] 100% | ETA: 00:00:00\n",
      "Total time elapsed: 00:00:02\n"
     ]
    },
    {
     "name": "stdout",
     "output_type": "stream",
     "text": [
      "TET\n"
     ]
    },
    {
     "name": "stderr",
     "output_type": "stream",
     "text": [
      "0% [##############################] 100% | ETA: 00:00:00\n",
      "Total time elapsed: 00:00:06\n"
     ]
    },
    {
     "name": "stdout",
     "output_type": "stream",
     "text": [
      "ULO\n"
     ]
    },
    {
     "name": "stderr",
     "output_type": "stream",
     "text": [
      "0% [##############################] 100% | ETA: 00:00:00\n",
      "Total time elapsed: 00:00:02\n"
     ]
    },
    {
     "name": "stdout",
     "output_type": "stream",
     "text": [
      "ULO\n"
     ]
    },
    {
     "name": "stderr",
     "output_type": "stream",
     "text": [
      "0% [##############################] 100% | ETA: 00:00:00\n",
      "Total time elapsed: 00:00:06\n"
     ]
    },
    {
     "name": "stdout",
     "output_type": "stream",
     "text": [
      "WD\n"
     ]
    },
    {
     "name": "stderr",
     "output_type": "stream",
     "text": [
      "0% [##############################] 100% | ETA: 00:00:00\n",
      "Total time elapsed: 00:00:02\n"
     ]
    },
    {
     "name": "stdout",
     "output_type": "stream",
     "text": [
      "WD\n"
     ]
    },
    {
     "name": "stderr",
     "output_type": "stream",
     "text": [
      "0% [##############################] 100% | ETA: 00:00:00\n",
      "Total time elapsed: 00:00:05\n"
     ]
    },
    {
     "name": "stdout",
     "output_type": "stream",
     "text": [
      "ALO\n"
     ]
    },
    {
     "name": "stderr",
     "output_type": "stream",
     "text": [
      "0% [##############################] 100% | ETA: 00:00:00\n",
      "Total time elapsed: 00:00:02\n"
     ]
    },
    {
     "name": "stdout",
     "output_type": "stream",
     "text": [
      "ALO\n"
     ]
    },
    {
     "name": "stderr",
     "output_type": "stream",
     "text": [
      "0% [##############################] 100% | ETA: 00:00:00\n",
      "Total time elapsed: 00:00:05\n"
     ]
    },
    {
     "name": "stdout",
     "output_type": "stream",
     "text": [
      "CC\n"
     ]
    },
    {
     "name": "stderr",
     "output_type": "stream",
     "text": [
      "0% [##############################] 100% | ETA: 00:00:00\n",
      "Total time elapsed: 00:00:02\n"
     ]
    },
    {
     "name": "stdout",
     "output_type": "stream",
     "text": [
      "CC\n"
     ]
    },
    {
     "name": "stderr",
     "output_type": "stream",
     "text": [
      "0% [##############################] 100% | ETA: 00:00:00\n",
      "Total time elapsed: 00:00:05\n"
     ]
    },
    {
     "name": "stdout",
     "output_type": "stream",
     "text": [
      "FD\n"
     ]
    },
    {
     "name": "stderr",
     "output_type": "stream",
     "text": [
      "0% [##############################] 100% | ETA: 00:00:00\n",
      "Total time elapsed: 00:00:02\n"
     ]
    },
    {
     "name": "stdout",
     "output_type": "stream",
     "text": [
      "FD\n"
     ]
    },
    {
     "name": "stderr",
     "output_type": "stream",
     "text": [
      "0% [##############################] 100% | ETA: 00:00:00\n",
      "Total time elapsed: 00:00:05\n"
     ]
    },
    {
     "name": "stdout",
     "output_type": "stream",
     "text": [
      "FET\n"
     ]
    },
    {
     "name": "stderr",
     "output_type": "stream",
     "text": [
      "0% [##############################] 100% | ETA: 00:00:00\n",
      "Total time elapsed: 00:00:02\n"
     ]
    },
    {
     "name": "stdout",
     "output_type": "stream",
     "text": [
      "FET\n"
     ]
    },
    {
     "name": "stderr",
     "output_type": "stream",
     "text": [
      "0% [##############################] 100% | ETA: 00:00:00\n",
      "Total time elapsed: 00:00:06\n"
     ]
    },
    {
     "name": "stdout",
     "output_type": "stream",
     "text": [
      "FE\n"
     ]
    },
    {
     "name": "stderr",
     "output_type": "stream",
     "text": [
      "0% [##############################] 100% | ETA: 00:00:00\n",
      "Total time elapsed: 00:00:02\n"
     ]
    },
    {
     "name": "stdout",
     "output_type": "stream",
     "text": [
      "FE\n"
     ]
    },
    {
     "name": "stderr",
     "output_type": "stream",
     "text": [
      "0% [##############################] 100% | ETA: 00:00:00\n",
      "Total time elapsed: 00:00:05\n"
     ]
    },
    {
     "name": "stdout",
     "output_type": "stream",
     "text": [
      "HT\n"
     ]
    },
    {
     "name": "stderr",
     "output_type": "stream",
     "text": [
      "0% [##############################] 100% | ETA: 00:00:00\n",
      "Total time elapsed: 00:00:02\n"
     ]
    },
    {
     "name": "stdout",
     "output_type": "stream",
     "text": [
      "HT\n"
     ]
    },
    {
     "name": "stderr",
     "output_type": "stream",
     "text": [
      "0% [##############################] 100% | ETA: 00:00:00\n",
      "Total time elapsed: 00:00:06\n"
     ]
    },
    {
     "name": "stdout",
     "output_type": "stream",
     "text": [
      "IR\n"
     ]
    },
    {
     "name": "stderr",
     "output_type": "stream",
     "text": [
      "0% [##############################] 100% | ETA: 00:00:00\n",
      "Total time elapsed: 00:00:02\n"
     ]
    },
    {
     "name": "stdout",
     "output_type": "stream",
     "text": [
      "IR\n"
     ]
    },
    {
     "name": "stderr",
     "output_type": "stream",
     "text": [
      "0% [##############################] 100% | ETA: 00:00:00\n",
      "Total time elapsed: 00:00:05\n"
     ]
    },
    {
     "name": "stdout",
     "output_type": "stream",
     "text": [
      "MET\n"
     ]
    },
    {
     "name": "stderr",
     "output_type": "stream",
     "text": [
      "0% [##############################] 100% | ETA: 00:00:00\n",
      "Total time elapsed: 00:00:02\n"
     ]
    },
    {
     "name": "stdout",
     "output_type": "stream",
     "text": [
      "MET\n"
     ]
    },
    {
     "name": "stderr",
     "output_type": "stream",
     "text": [
      "0% [##############################] 100% | ETA: 00:00:00\n",
      "Total time elapsed: 00:00:06\n"
     ]
    },
    {
     "name": "stdout",
     "output_type": "stream",
     "text": [
      "ME\n"
     ]
    },
    {
     "name": "stderr",
     "output_type": "stream",
     "text": [
      "0% [##############################] 100% | ETA: 00:00:00\n",
      "Total time elapsed: 00:00:02\n"
     ]
    },
    {
     "name": "stdout",
     "output_type": "stream",
     "text": [
      "ME\n"
     ]
    },
    {
     "name": "stderr",
     "output_type": "stream",
     "text": [
      "0% [##############################] 100% | ETA: 00:00:00\n",
      "Total time elapsed: 00:00:05\n"
     ]
    },
    {
     "name": "stdout",
     "output_type": "stream",
     "text": [
      "MD\n"
     ]
    },
    {
     "name": "stderr",
     "output_type": "stream",
     "text": [
      "0% [##############################] 100% | ETA: 00:00:00\n",
      "Total time elapsed: 00:00:02\n"
     ]
    },
    {
     "name": "stdout",
     "output_type": "stream",
     "text": [
      "MD\n"
     ]
    },
    {
     "name": "stderr",
     "output_type": "stream",
     "text": [
      "0% [##############################] 100% | ETA: 00:00:00\n",
      "Total time elapsed: 00:00:05\n"
     ]
    },
    {
     "name": "stdout",
     "output_type": "stream",
     "text": [
      "NLT\n"
     ]
    },
    {
     "name": "stderr",
     "output_type": "stream",
     "text": [
      "0% [##############################] 100% | ETA: 00:00:00\n",
      "Total time elapsed: 00:00:02\n"
     ]
    },
    {
     "name": "stdout",
     "output_type": "stream",
     "text": [
      "NLT\n"
     ]
    },
    {
     "name": "stderr",
     "output_type": "stream",
     "text": [
      "0% [##############################] 100% | ETA: 00:00:00\n",
      "Total time elapsed: 00:00:06\n"
     ]
    },
    {
     "name": "stdout",
     "output_type": "stream",
     "text": [
      "OD\n"
     ]
    },
    {
     "name": "stderr",
     "output_type": "stream",
     "text": [
      "0% [##############################] 100% | ETA: 00:00:00\n",
      "Total time elapsed: 00:00:02\n"
     ]
    },
    {
     "name": "stdout",
     "output_type": "stream",
     "text": [
      "OD\n"
     ]
    },
    {
     "name": "stderr",
     "output_type": "stream",
     "text": [
      "0% [##############################] 100% | ETA: 00:00:00\n",
      "Total time elapsed: 00:00:05\n"
     ]
    },
    {
     "name": "stdout",
     "output_type": "stream",
     "text": [
      "PMF\n"
     ]
    },
    {
     "name": "stderr",
     "output_type": "stream",
     "text": [
      "0% [##############################] 100% | ETA: 00:00:00\n",
      "Total time elapsed: 00:00:02\n"
     ]
    },
    {
     "name": "stdout",
     "output_type": "stream",
     "text": [
      "PMF\n"
     ]
    },
    {
     "name": "stderr",
     "output_type": "stream",
     "text": [
      "0% [##############################] 100% | ETA: 00:00:00\n",
      "Total time elapsed: 00:00:05\n"
     ]
    },
    {
     "name": "stdout",
     "output_type": "stream",
     "text": [
      "POF\n"
     ]
    },
    {
     "name": "stderr",
     "output_type": "stream",
     "text": [
      "0% [##############################] 100% | ETA: 00:00:00\n",
      "Total time elapsed: 00:00:02\n"
     ]
    },
    {
     "name": "stdout",
     "output_type": "stream",
     "text": [
      "POF\n"
     ]
    },
    {
     "name": "stderr",
     "output_type": "stream",
     "text": [
      "0% [##############################] 100% | ETA: 00:00:00\n",
      "Total time elapsed: 00:00:05\n"
     ]
    },
    {
     "name": "stdout",
     "output_type": "stream",
     "text": [
      "TA\n"
     ]
    },
    {
     "name": "stderr",
     "output_type": "stream",
     "text": [
      "0% [##############################] 100% | ETA: 00:00:00\n",
      "Total time elapsed: 00:00:02\n"
     ]
    },
    {
     "name": "stdout",
     "output_type": "stream",
     "text": [
      "TA\n"
     ]
    },
    {
     "name": "stderr",
     "output_type": "stream",
     "text": [
      "0% [##############################] 100% | ETA: 00:00:00\n",
      "Total time elapsed: 00:00:05\n"
     ]
    },
    {
     "name": "stdout",
     "output_type": "stream",
     "text": [
      "TET\n"
     ]
    },
    {
     "name": "stderr",
     "output_type": "stream",
     "text": [
      "0% [##############################] 100% | ETA: 00:00:00\n",
      "Total time elapsed: 00:00:02\n"
     ]
    },
    {
     "name": "stdout",
     "output_type": "stream",
     "text": [
      "TET\n"
     ]
    },
    {
     "name": "stderr",
     "output_type": "stream",
     "text": [
      "0% [##############################] 100% | ETA: 00:00:00\n",
      "Total time elapsed: 00:00:06\n"
     ]
    },
    {
     "name": "stdout",
     "output_type": "stream",
     "text": [
      "ULO\n"
     ]
    },
    {
     "name": "stderr",
     "output_type": "stream",
     "text": [
      "0% [##############################] 100% | ETA: 00:00:00\n",
      "Total time elapsed: 00:00:02\n"
     ]
    },
    {
     "name": "stdout",
     "output_type": "stream",
     "text": [
      "ULO\n"
     ]
    },
    {
     "name": "stderr",
     "output_type": "stream",
     "text": [
      "0% [##############################] 100% | ETA: 00:00:00\n",
      "Total time elapsed: 00:00:05\n"
     ]
    },
    {
     "name": "stdout",
     "output_type": "stream",
     "text": [
      "WD\n"
     ]
    },
    {
     "name": "stderr",
     "output_type": "stream",
     "text": [
      "0% [##############################] 100% | ETA: 00:00:00\n",
      "Total time elapsed: 00:00:02\n"
     ]
    },
    {
     "name": "stdout",
     "output_type": "stream",
     "text": [
      "WD\n"
     ]
    },
    {
     "name": "stderr",
     "output_type": "stream",
     "text": [
      "0% [##############################] 100% | ETA: 00:00:00\n",
      "Total time elapsed: 00:00:05\n"
     ]
    },
    {
     "name": "stdout",
     "output_type": "stream",
     "text": [
      "ALO\n"
     ]
    },
    {
     "name": "stderr",
     "output_type": "stream",
     "text": [
      "0% [##############################] 100% | ETA: 00:00:00\n",
      "Total time elapsed: 00:00:02\n"
     ]
    },
    {
     "name": "stdout",
     "output_type": "stream",
     "text": [
      "ALO\n"
     ]
    },
    {
     "name": "stderr",
     "output_type": "stream",
     "text": [
      "0% [##############################] 100% | ETA: 00:00:00\n",
      "Total time elapsed: 00:00:05\n"
     ]
    },
    {
     "name": "stdout",
     "output_type": "stream",
     "text": [
      "CC\n"
     ]
    },
    {
     "name": "stderr",
     "output_type": "stream",
     "text": [
      "0% [##############################] 100% | ETA: 00:00:00\n",
      "Total time elapsed: 00:00:02\n"
     ]
    },
    {
     "name": "stdout",
     "output_type": "stream",
     "text": [
      "CC\n"
     ]
    },
    {
     "name": "stderr",
     "output_type": "stream",
     "text": [
      "0% [##############################] 100% | ETA: 00:00:00\n",
      "Total time elapsed: 00:00:05\n"
     ]
    },
    {
     "name": "stdout",
     "output_type": "stream",
     "text": [
      "FD\n"
     ]
    },
    {
     "name": "stderr",
     "output_type": "stream",
     "text": [
      "0% [##############################] 100% | ETA: 00:00:00\n",
      "Total time elapsed: 00:00:02\n"
     ]
    },
    {
     "name": "stdout",
     "output_type": "stream",
     "text": [
      "FD\n"
     ]
    },
    {
     "name": "stderr",
     "output_type": "stream",
     "text": [
      "0% [##############################] 100% | ETA: 00:00:00\n",
      "Total time elapsed: 00:00:05\n"
     ]
    },
    {
     "name": "stdout",
     "output_type": "stream",
     "text": [
      "FET\n"
     ]
    },
    {
     "name": "stderr",
     "output_type": "stream",
     "text": [
      "0% [##############################] 100% | ETA: 00:00:00\n",
      "Total time elapsed: 00:00:02\n"
     ]
    },
    {
     "name": "stdout",
     "output_type": "stream",
     "text": [
      "FET\n"
     ]
    },
    {
     "name": "stderr",
     "output_type": "stream",
     "text": [
      "0% [##############################] 100% | ETA: 00:00:00\n",
      "Total time elapsed: 00:00:06\n"
     ]
    },
    {
     "name": "stdout",
     "output_type": "stream",
     "text": [
      "FE\n"
     ]
    },
    {
     "name": "stderr",
     "output_type": "stream",
     "text": [
      "0% [##############################] 100% | ETA: 00:00:00\n",
      "Total time elapsed: 00:00:02\n"
     ]
    },
    {
     "name": "stdout",
     "output_type": "stream",
     "text": [
      "FE\n"
     ]
    },
    {
     "name": "stderr",
     "output_type": "stream",
     "text": [
      "0% [##############################] 100% | ETA: 00:00:00\n",
      "Total time elapsed: 00:00:05\n"
     ]
    },
    {
     "name": "stdout",
     "output_type": "stream",
     "text": [
      "HT\n"
     ]
    },
    {
     "name": "stderr",
     "output_type": "stream",
     "text": [
      "0% [##############################] 100% | ETA: 00:00:00\n",
      "Total time elapsed: 00:00:02\n"
     ]
    },
    {
     "name": "stdout",
     "output_type": "stream",
     "text": [
      "HT\n"
     ]
    },
    {
     "name": "stderr",
     "output_type": "stream",
     "text": [
      "0% [##############################] 100% | ETA: 00:00:00\n",
      "Total time elapsed: 00:00:06\n"
     ]
    },
    {
     "name": "stdout",
     "output_type": "stream",
     "text": [
      "IR\n"
     ]
    },
    {
     "name": "stderr",
     "output_type": "stream",
     "text": [
      "0% [##############################] 100% | ETA: 00:00:00\n",
      "Total time elapsed: 00:00:02\n"
     ]
    },
    {
     "name": "stdout",
     "output_type": "stream",
     "text": [
      "IR\n"
     ]
    },
    {
     "name": "stderr",
     "output_type": "stream",
     "text": [
      "0% [##############################] 100% | ETA: 00:00:00\n",
      "Total time elapsed: 00:00:05\n"
     ]
    },
    {
     "name": "stdout",
     "output_type": "stream",
     "text": [
      "MET\n"
     ]
    },
    {
     "name": "stderr",
     "output_type": "stream",
     "text": [
      "0% [##############################] 100% | ETA: 00:00:00\n",
      "Total time elapsed: 00:00:02\n"
     ]
    },
    {
     "name": "stdout",
     "output_type": "stream",
     "text": [
      "MET\n"
     ]
    },
    {
     "name": "stderr",
     "output_type": "stream",
     "text": [
      "0% [##############################] 100% | ETA: 00:00:00\n",
      "Total time elapsed: 00:00:06\n"
     ]
    },
    {
     "name": "stdout",
     "output_type": "stream",
     "text": [
      "ME\n"
     ]
    },
    {
     "name": "stderr",
     "output_type": "stream",
     "text": [
      "0% [##############################] 100% | ETA: 00:00:00\n",
      "Total time elapsed: 00:00:02\n"
     ]
    },
    {
     "name": "stdout",
     "output_type": "stream",
     "text": [
      "ME\n"
     ]
    },
    {
     "name": "stderr",
     "output_type": "stream",
     "text": [
      "0% [##############################] 100% | ETA: 00:00:00\n",
      "Total time elapsed: 00:00:05\n"
     ]
    },
    {
     "name": "stdout",
     "output_type": "stream",
     "text": [
      "MD\n"
     ]
    },
    {
     "name": "stderr",
     "output_type": "stream",
     "text": [
      "0% [##############################] 100% | ETA: 00:00:00\n",
      "Total time elapsed: 00:00:02\n"
     ]
    },
    {
     "name": "stdout",
     "output_type": "stream",
     "text": [
      "MD\n"
     ]
    },
    {
     "name": "stderr",
     "output_type": "stream",
     "text": [
      "0% [##############################] 100% | ETA: 00:00:00\n",
      "Total time elapsed: 00:00:05\n"
     ]
    },
    {
     "name": "stdout",
     "output_type": "stream",
     "text": [
      "NLT\n"
     ]
    },
    {
     "name": "stderr",
     "output_type": "stream",
     "text": [
      "0% [##############################] 100% | ETA: 00:00:00\n",
      "Total time elapsed: 00:00:02\n"
     ]
    },
    {
     "name": "stdout",
     "output_type": "stream",
     "text": [
      "NLT\n"
     ]
    },
    {
     "name": "stderr",
     "output_type": "stream",
     "text": [
      "0% [##############################] 100% | ETA: 00:00:00\n",
      "Total time elapsed: 00:00:05\n"
     ]
    },
    {
     "name": "stdout",
     "output_type": "stream",
     "text": [
      "OD\n"
     ]
    },
    {
     "name": "stderr",
     "output_type": "stream",
     "text": [
      "0% [##############################] 100% | ETA: 00:00:00\n",
      "Total time elapsed: 00:00:02\n"
     ]
    },
    {
     "name": "stdout",
     "output_type": "stream",
     "text": [
      "OD\n"
     ]
    },
    {
     "name": "stderr",
     "output_type": "stream",
     "text": [
      "0% [##############################] 100% | ETA: 00:00:00\n",
      "Total time elapsed: 00:00:05\n"
     ]
    },
    {
     "name": "stdout",
     "output_type": "stream",
     "text": [
      "PMF\n"
     ]
    },
    {
     "name": "stderr",
     "output_type": "stream",
     "text": [
      "0% [##############################] 100% | ETA: 00:00:00\n",
      "Total time elapsed: 00:00:02\n"
     ]
    },
    {
     "name": "stdout",
     "output_type": "stream",
     "text": [
      "PMF\n"
     ]
    },
    {
     "name": "stderr",
     "output_type": "stream",
     "text": [
      "0% [##############################] 100% | ETA: 00:00:00\n",
      "Total time elapsed: 00:00:05\n"
     ]
    },
    {
     "name": "stdout",
     "output_type": "stream",
     "text": [
      "POF\n"
     ]
    },
    {
     "name": "stderr",
     "output_type": "stream",
     "text": [
      "0% [##############################] 100% | ETA: 00:00:00\n",
      "Total time elapsed: 00:00:02\n"
     ]
    },
    {
     "name": "stdout",
     "output_type": "stream",
     "text": [
      "POF\n"
     ]
    },
    {
     "name": "stderr",
     "output_type": "stream",
     "text": [
      "0% [##############################] 100% | ETA: 00:00:00\n",
      "Total time elapsed: 00:00:05\n"
     ]
    },
    {
     "name": "stdout",
     "output_type": "stream",
     "text": [
      "TA\n"
     ]
    },
    {
     "name": "stderr",
     "output_type": "stream",
     "text": [
      "0% [##############################] 100% | ETA: 00:00:00\n",
      "Total time elapsed: 00:00:02\n"
     ]
    },
    {
     "name": "stdout",
     "output_type": "stream",
     "text": [
      "TA\n"
     ]
    },
    {
     "name": "stderr",
     "output_type": "stream",
     "text": [
      "0% [##############################] 100% | ETA: 00:00:00\n",
      "Total time elapsed: 00:00:05\n"
     ]
    },
    {
     "name": "stdout",
     "output_type": "stream",
     "text": [
      "TET\n"
     ]
    },
    {
     "name": "stderr",
     "output_type": "stream",
     "text": [
      "0% [##############################] 100% | ETA: 00:00:00\n",
      "Total time elapsed: 00:00:02\n"
     ]
    },
    {
     "name": "stdout",
     "output_type": "stream",
     "text": [
      "TET\n"
     ]
    },
    {
     "name": "stderr",
     "output_type": "stream",
     "text": [
      "0% [##############################] 100% | ETA: 00:00:00\n",
      "Total time elapsed: 00:00:06\n"
     ]
    },
    {
     "name": "stdout",
     "output_type": "stream",
     "text": [
      "ULO\n"
     ]
    },
    {
     "name": "stderr",
     "output_type": "stream",
     "text": [
      "0% [##############################] 100% | ETA: 00:00:00\n",
      "Total time elapsed: 00:00:02\n"
     ]
    },
    {
     "name": "stdout",
     "output_type": "stream",
     "text": [
      "ULO\n"
     ]
    },
    {
     "name": "stderr",
     "output_type": "stream",
     "text": [
      "0% [##############################] 100% | ETA: 00:00:00\n",
      "Total time elapsed: 00:00:05\n"
     ]
    },
    {
     "name": "stdout",
     "output_type": "stream",
     "text": [
      "WD\n"
     ]
    },
    {
     "name": "stderr",
     "output_type": "stream",
     "text": [
      "0% [##############################] 100% | ETA: 00:00:00\n",
      "Total time elapsed: 00:00:02\n"
     ]
    },
    {
     "name": "stdout",
     "output_type": "stream",
     "text": [
      "WD\n"
     ]
    },
    {
     "name": "stderr",
     "output_type": "stream",
     "text": [
      "0% [##############################] 100% | ETA: 00:00:00\n",
      "Total time elapsed: 00:00:05\n"
     ]
    },
    {
     "name": "stdout",
     "output_type": "stream",
     "text": [
      "ALO\n"
     ]
    },
    {
     "name": "stderr",
     "output_type": "stream",
     "text": [
      "0% [##############################] 100% | ETA: 00:00:00\n",
      "Total time elapsed: 00:00:02\n"
     ]
    },
    {
     "name": "stdout",
     "output_type": "stream",
     "text": [
      "ALO\n"
     ]
    },
    {
     "name": "stderr",
     "output_type": "stream",
     "text": [
      "0% [##############################] 100% | ETA: 00:00:00\n",
      "Total time elapsed: 00:00:05\n"
     ]
    },
    {
     "name": "stdout",
     "output_type": "stream",
     "text": [
      "CC\n"
     ]
    },
    {
     "name": "stderr",
     "output_type": "stream",
     "text": [
      "0% [##############################] 100% | ETA: 00:00:00\n",
      "Total time elapsed: 00:00:02\n"
     ]
    },
    {
     "name": "stdout",
     "output_type": "stream",
     "text": [
      "CC\n"
     ]
    },
    {
     "name": "stderr",
     "output_type": "stream",
     "text": [
      "0% [##############################] 100% | ETA: 00:00:00\n",
      "Total time elapsed: 00:00:05\n"
     ]
    },
    {
     "name": "stdout",
     "output_type": "stream",
     "text": [
      "FD\n"
     ]
    },
    {
     "name": "stderr",
     "output_type": "stream",
     "text": [
      "0% [##############################] 100% | ETA: 00:00:00\n",
      "Total time elapsed: 00:00:02\n"
     ]
    },
    {
     "name": "stdout",
     "output_type": "stream",
     "text": [
      "FD\n"
     ]
    },
    {
     "name": "stderr",
     "output_type": "stream",
     "text": [
      "0% [##############################] 100% | ETA: 00:00:00\n",
      "Total time elapsed: 00:00:05\n"
     ]
    },
    {
     "name": "stdout",
     "output_type": "stream",
     "text": [
      "FET\n"
     ]
    },
    {
     "name": "stderr",
     "output_type": "stream",
     "text": [
      "0% [##############################] 100% | ETA: 00:00:00\n",
      "Total time elapsed: 00:00:02\n"
     ]
    },
    {
     "name": "stdout",
     "output_type": "stream",
     "text": [
      "FET\n"
     ]
    },
    {
     "name": "stderr",
     "output_type": "stream",
     "text": [
      "0% [##############################] 100% | ETA: 00:00:00\n",
      "Total time elapsed: 00:00:06\n"
     ]
    },
    {
     "name": "stdout",
     "output_type": "stream",
     "text": [
      "FE\n"
     ]
    },
    {
     "name": "stderr",
     "output_type": "stream",
     "text": [
      "0% [##############################] 100% | ETA: 00:00:00\n",
      "Total time elapsed: 00:00:02\n"
     ]
    },
    {
     "name": "stdout",
     "output_type": "stream",
     "text": [
      "FE\n"
     ]
    },
    {
     "name": "stderr",
     "output_type": "stream",
     "text": [
      "0% [##############################] 100% | ETA: 00:00:00\n",
      "Total time elapsed: 00:00:05\n"
     ]
    },
    {
     "name": "stdout",
     "output_type": "stream",
     "text": [
      "HT\n"
     ]
    },
    {
     "name": "stderr",
     "output_type": "stream",
     "text": [
      "0% [##############################] 100% | ETA: 00:00:00\n",
      "Total time elapsed: 00:00:02\n"
     ]
    },
    {
     "name": "stdout",
     "output_type": "stream",
     "text": [
      "HT\n"
     ]
    },
    {
     "name": "stderr",
     "output_type": "stream",
     "text": [
      "0% [##############################] 100% | ETA: 00:00:00\n",
      "Total time elapsed: 00:00:05\n"
     ]
    },
    {
     "name": "stdout",
     "output_type": "stream",
     "text": [
      "IR\n"
     ]
    },
    {
     "name": "stderr",
     "output_type": "stream",
     "text": [
      "0% [##############################] 100% | ETA: 00:00:00\n",
      "Total time elapsed: 00:00:02\n"
     ]
    },
    {
     "name": "stdout",
     "output_type": "stream",
     "text": [
      "IR\n"
     ]
    },
    {
     "name": "stderr",
     "output_type": "stream",
     "text": [
      "0% [##############################] 100% | ETA: 00:00:00\n",
      "Total time elapsed: 00:00:05\n"
     ]
    },
    {
     "name": "stdout",
     "output_type": "stream",
     "text": [
      "MET\n"
     ]
    },
    {
     "name": "stderr",
     "output_type": "stream",
     "text": [
      "0% [##############################] 100% | ETA: 00:00:00\n",
      "Total time elapsed: 00:00:02\n"
     ]
    },
    {
     "name": "stdout",
     "output_type": "stream",
     "text": [
      "MET\n"
     ]
    },
    {
     "name": "stderr",
     "output_type": "stream",
     "text": [
      "0% [##############################] 100% | ETA: 00:00:00\n",
      "Total time elapsed: 00:00:05\n"
     ]
    },
    {
     "name": "stdout",
     "output_type": "stream",
     "text": [
      "ME\n"
     ]
    },
    {
     "name": "stderr",
     "output_type": "stream",
     "text": [
      "0% [##############################] 100% | ETA: 00:00:00\n",
      "Total time elapsed: 00:00:02\n"
     ]
    },
    {
     "name": "stdout",
     "output_type": "stream",
     "text": [
      "ME\n"
     ]
    },
    {
     "name": "stderr",
     "output_type": "stream",
     "text": [
      "0% [##############################] 100% | ETA: 00:00:00\n",
      "Total time elapsed: 00:00:05\n"
     ]
    },
    {
     "name": "stdout",
     "output_type": "stream",
     "text": [
      "MD\n"
     ]
    },
    {
     "name": "stderr",
     "output_type": "stream",
     "text": [
      "0% [##############################] 100% | ETA: 00:00:00\n",
      "Total time elapsed: 00:00:02\n"
     ]
    },
    {
     "name": "stdout",
     "output_type": "stream",
     "text": [
      "MD\n"
     ]
    },
    {
     "name": "stderr",
     "output_type": "stream",
     "text": [
      "0% [##############################] 100% | ETA: 00:00:00\n",
      "Total time elapsed: 00:00:05\n"
     ]
    },
    {
     "name": "stdout",
     "output_type": "stream",
     "text": [
      "NLT\n"
     ]
    },
    {
     "name": "stderr",
     "output_type": "stream",
     "text": [
      "0% [##############################] 100% | ETA: 00:00:00\n",
      "Total time elapsed: 00:00:02\n"
     ]
    },
    {
     "name": "stdout",
     "output_type": "stream",
     "text": [
      "NLT\n"
     ]
    },
    {
     "name": "stderr",
     "output_type": "stream",
     "text": [
      "0% [##############################] 100% | ETA: 00:00:00\n",
      "Total time elapsed: 00:00:05\n"
     ]
    },
    {
     "name": "stdout",
     "output_type": "stream",
     "text": [
      "OD\n"
     ]
    },
    {
     "name": "stderr",
     "output_type": "stream",
     "text": [
      "0% [##############################] 100% | ETA: 00:00:00\n",
      "Total time elapsed: 00:00:02\n"
     ]
    },
    {
     "name": "stdout",
     "output_type": "stream",
     "text": [
      "OD\n"
     ]
    },
    {
     "name": "stderr",
     "output_type": "stream",
     "text": [
      "0% [##############################] 100% | ETA: 00:00:00\n",
      "Total time elapsed: 00:00:05\n"
     ]
    },
    {
     "name": "stdout",
     "output_type": "stream",
     "text": [
      "PMF\n"
     ]
    },
    {
     "name": "stderr",
     "output_type": "stream",
     "text": [
      "0% [##############################] 100% | ETA: 00:00:00\n",
      "Total time elapsed: 00:00:02\n"
     ]
    },
    {
     "name": "stdout",
     "output_type": "stream",
     "text": [
      "PMF\n"
     ]
    },
    {
     "name": "stderr",
     "output_type": "stream",
     "text": [
      "0% [##############################] 100% | ETA: 00:00:00\n",
      "Total time elapsed: 00:00:05\n"
     ]
    },
    {
     "name": "stdout",
     "output_type": "stream",
     "text": [
      "POF\n"
     ]
    },
    {
     "name": "stderr",
     "output_type": "stream",
     "text": [
      "0% [##############################] 100% | ETA: 00:00:00\n",
      "Total time elapsed: 00:00:02\n"
     ]
    },
    {
     "name": "stdout",
     "output_type": "stream",
     "text": [
      "POF\n"
     ]
    },
    {
     "name": "stderr",
     "output_type": "stream",
     "text": [
      "0% [##############################] 100% | ETA: 00:00:00\n",
      "Total time elapsed: 00:00:05\n"
     ]
    },
    {
     "name": "stdout",
     "output_type": "stream",
     "text": [
      "TA\n"
     ]
    },
    {
     "name": "stderr",
     "output_type": "stream",
     "text": [
      "0% [##############################] 100% | ETA: 00:00:00\n",
      "Total time elapsed: 00:00:02\n"
     ]
    },
    {
     "name": "stdout",
     "output_type": "stream",
     "text": [
      "TA\n"
     ]
    },
    {
     "name": "stderr",
     "output_type": "stream",
     "text": [
      "0% [##############################] 100% | ETA: 00:00:00\n",
      "Total time elapsed: 00:00:05\n"
     ]
    },
    {
     "name": "stdout",
     "output_type": "stream",
     "text": [
      "TET\n"
     ]
    },
    {
     "name": "stderr",
     "output_type": "stream",
     "text": [
      "0% [##############################] 100% | ETA: 00:00:00\n",
      "Total time elapsed: 00:00:02\n"
     ]
    },
    {
     "name": "stdout",
     "output_type": "stream",
     "text": [
      "TET\n"
     ]
    },
    {
     "name": "stderr",
     "output_type": "stream",
     "text": [
      "0% [##############################] 100% | ETA: 00:00:00\n",
      "Total time elapsed: 00:00:05\n"
     ]
    },
    {
     "name": "stdout",
     "output_type": "stream",
     "text": [
      "ULO\n"
     ]
    },
    {
     "name": "stderr",
     "output_type": "stream",
     "text": [
      "0% [##############################] 100% | ETA: 00:00:00\n",
      "Total time elapsed: 00:00:02\n"
     ]
    },
    {
     "name": "stdout",
     "output_type": "stream",
     "text": [
      "ULO\n"
     ]
    },
    {
     "name": "stderr",
     "output_type": "stream",
     "text": [
      "0% [##############################] 100% | ETA: 00:00:00\n",
      "Total time elapsed: 00:00:05\n"
     ]
    },
    {
     "name": "stdout",
     "output_type": "stream",
     "text": [
      "WD\n"
     ]
    },
    {
     "name": "stderr",
     "output_type": "stream",
     "text": [
      "0% [##############################] 100% | ETA: 00:00:00\n",
      "Total time elapsed: 00:00:02\n"
     ]
    },
    {
     "name": "stdout",
     "output_type": "stream",
     "text": [
      "WD\n"
     ]
    },
    {
     "name": "stderr",
     "output_type": "stream",
     "text": [
      "0% [##############################] 100% | ETA: 00:00:00\n",
      "Total time elapsed: 00:00:05\n"
     ]
    },
    {
     "name": "stdout",
     "output_type": "stream",
     "text": [
      "ALO\n"
     ]
    },
    {
     "name": "stderr",
     "output_type": "stream",
     "text": [
      "0% [##############################] 100% | ETA: 00:00:00\n",
      "Total time elapsed: 00:00:02\n"
     ]
    },
    {
     "name": "stdout",
     "output_type": "stream",
     "text": [
      "ALO\n"
     ]
    },
    {
     "name": "stderr",
     "output_type": "stream",
     "text": [
      "0% [##############################] 100% | ETA: 00:00:00\n",
      "Total time elapsed: 00:00:05\n"
     ]
    },
    {
     "name": "stdout",
     "output_type": "stream",
     "text": [
      "CC\n"
     ]
    },
    {
     "name": "stderr",
     "output_type": "stream",
     "text": [
      "0% [##############################] 100% | ETA: 00:00:00\n",
      "Total time elapsed: 00:00:02\n"
     ]
    },
    {
     "name": "stdout",
     "output_type": "stream",
     "text": [
      "CC\n"
     ]
    },
    {
     "name": "stderr",
     "output_type": "stream",
     "text": [
      "0% [##############################] 100% | ETA: 00:00:00\n",
      "Total time elapsed: 00:00:05\n"
     ]
    },
    {
     "name": "stdout",
     "output_type": "stream",
     "text": [
      "FD\n"
     ]
    },
    {
     "name": "stderr",
     "output_type": "stream",
     "text": [
      "0% [##############################] 100% | ETA: 00:00:00\n",
      "Total time elapsed: 00:00:02\n"
     ]
    },
    {
     "name": "stdout",
     "output_type": "stream",
     "text": [
      "FD\n"
     ]
    },
    {
     "name": "stderr",
     "output_type": "stream",
     "text": [
      "0% [##############################] 100% | ETA: 00:00:00\n",
      "Total time elapsed: 00:00:05\n"
     ]
    },
    {
     "name": "stdout",
     "output_type": "stream",
     "text": [
      "FET\n"
     ]
    },
    {
     "name": "stderr",
     "output_type": "stream",
     "text": [
      "0% [##############################] 100% | ETA: 00:00:00\n",
      "Total time elapsed: 00:00:02\n"
     ]
    },
    {
     "name": "stdout",
     "output_type": "stream",
     "text": [
      "FET\n"
     ]
    },
    {
     "name": "stderr",
     "output_type": "stream",
     "text": [
      "0% [##############################] 100% | ETA: 00:00:00\n",
      "Total time elapsed: 00:00:05\n"
     ]
    },
    {
     "name": "stdout",
     "output_type": "stream",
     "text": [
      "FE\n"
     ]
    },
    {
     "name": "stderr",
     "output_type": "stream",
     "text": [
      "0% [##############################] 100% | ETA: 00:00:00\n",
      "Total time elapsed: 00:00:02\n"
     ]
    },
    {
     "name": "stdout",
     "output_type": "stream",
     "text": [
      "FE\n"
     ]
    },
    {
     "name": "stderr",
     "output_type": "stream",
     "text": [
      "0% [##############################] 100% | ETA: 00:00:00\n",
      "Total time elapsed: 00:00:05\n"
     ]
    },
    {
     "name": "stdout",
     "output_type": "stream",
     "text": [
      "HT\n"
     ]
    },
    {
     "name": "stderr",
     "output_type": "stream",
     "text": [
      "0% [##############################] 100% | ETA: 00:00:00\n",
      "Total time elapsed: 00:00:02\n"
     ]
    },
    {
     "name": "stdout",
     "output_type": "stream",
     "text": [
      "HT\n"
     ]
    },
    {
     "name": "stderr",
     "output_type": "stream",
     "text": [
      "0% [##############################] 100% | ETA: 00:00:00\n",
      "Total time elapsed: 00:00:05\n"
     ]
    },
    {
     "name": "stdout",
     "output_type": "stream",
     "text": [
      "IR\n"
     ]
    },
    {
     "name": "stderr",
     "output_type": "stream",
     "text": [
      "0% [##############################] 100% | ETA: 00:00:00\n",
      "Total time elapsed: 00:00:02\n"
     ]
    },
    {
     "name": "stdout",
     "output_type": "stream",
     "text": [
      "IR\n"
     ]
    },
    {
     "name": "stderr",
     "output_type": "stream",
     "text": [
      "0% [##############################] 100% | ETA: 00:00:00\n",
      "Total time elapsed: 00:00:05\n"
     ]
    },
    {
     "name": "stdout",
     "output_type": "stream",
     "text": [
      "MET\n"
     ]
    },
    {
     "name": "stderr",
     "output_type": "stream",
     "text": [
      "0% [##############################] 100% | ETA: 00:00:00\n",
      "Total time elapsed: 00:00:02\n"
     ]
    },
    {
     "name": "stdout",
     "output_type": "stream",
     "text": [
      "MET\n"
     ]
    },
    {
     "name": "stderr",
     "output_type": "stream",
     "text": [
      "0% [##############################] 100% | ETA: 00:00:00\n",
      "Total time elapsed: 00:00:06\n"
     ]
    },
    {
     "name": "stdout",
     "output_type": "stream",
     "text": [
      "ME\n"
     ]
    },
    {
     "name": "stderr",
     "output_type": "stream",
     "text": [
      "0% [##############################] 100% | ETA: 00:00:00\n",
      "Total time elapsed: 00:00:02\n"
     ]
    },
    {
     "name": "stdout",
     "output_type": "stream",
     "text": [
      "ME\n"
     ]
    },
    {
     "name": "stderr",
     "output_type": "stream",
     "text": [
      "0% [##############################] 100% | ETA: 00:00:00\n",
      "Total time elapsed: 00:00:05\n"
     ]
    },
    {
     "name": "stdout",
     "output_type": "stream",
     "text": [
      "MD\n"
     ]
    },
    {
     "name": "stderr",
     "output_type": "stream",
     "text": [
      "0% [##############################] 100% | ETA: 00:00:00\n",
      "Total time elapsed: 00:00:02\n"
     ]
    },
    {
     "name": "stdout",
     "output_type": "stream",
     "text": [
      "MD\n"
     ]
    },
    {
     "name": "stderr",
     "output_type": "stream",
     "text": [
      "0% [##############################] 100% | ETA: 00:00:00\n",
      "Total time elapsed: 00:00:05\n"
     ]
    },
    {
     "name": "stdout",
     "output_type": "stream",
     "text": [
      "NLT\n"
     ]
    },
    {
     "name": "stderr",
     "output_type": "stream",
     "text": [
      "0% [##############################] 100% | ETA: 00:00:00\n",
      "Total time elapsed: 00:00:02\n"
     ]
    },
    {
     "name": "stdout",
     "output_type": "stream",
     "text": [
      "NLT\n"
     ]
    },
    {
     "name": "stderr",
     "output_type": "stream",
     "text": [
      "0% [##############################] 100% | ETA: 00:00:00\n",
      "Total time elapsed: 00:00:05\n"
     ]
    },
    {
     "name": "stdout",
     "output_type": "stream",
     "text": [
      "OD\n"
     ]
    },
    {
     "name": "stderr",
     "output_type": "stream",
     "text": [
      "0% [##############################] 100% | ETA: 00:00:00\n",
      "Total time elapsed: 00:00:02\n"
     ]
    },
    {
     "name": "stdout",
     "output_type": "stream",
     "text": [
      "OD\n"
     ]
    },
    {
     "name": "stderr",
     "output_type": "stream",
     "text": [
      "0% [##############################] 100% | ETA: 00:00:00\n",
      "Total time elapsed: 00:00:05\n"
     ]
    },
    {
     "name": "stdout",
     "output_type": "stream",
     "text": [
      "PMF\n"
     ]
    },
    {
     "name": "stderr",
     "output_type": "stream",
     "text": [
      "0% [##############################] 100% | ETA: 00:00:00\n",
      "Total time elapsed: 00:00:02\n"
     ]
    },
    {
     "name": "stdout",
     "output_type": "stream",
     "text": [
      "PMF\n"
     ]
    },
    {
     "name": "stderr",
     "output_type": "stream",
     "text": [
      "0% [##############################] 100% | ETA: 00:00:00\n",
      "Total time elapsed: 00:00:05\n"
     ]
    },
    {
     "name": "stdout",
     "output_type": "stream",
     "text": [
      "POF\n"
     ]
    },
    {
     "name": "stderr",
     "output_type": "stream",
     "text": [
      "0% [##############################] 100% | ETA: 00:00:00\n",
      "Total time elapsed: 00:00:02\n"
     ]
    },
    {
     "name": "stdout",
     "output_type": "stream",
     "text": [
      "POF\n"
     ]
    },
    {
     "name": "stderr",
     "output_type": "stream",
     "text": [
      "0% [##############################] 100% | ETA: 00:00:00\n",
      "Total time elapsed: 00:00:05\n"
     ]
    },
    {
     "name": "stdout",
     "output_type": "stream",
     "text": [
      "TA\n"
     ]
    },
    {
     "name": "stderr",
     "output_type": "stream",
     "text": [
      "0% [##############################] 100% | ETA: 00:00:00\n",
      "Total time elapsed: 00:00:02\n"
     ]
    },
    {
     "name": "stdout",
     "output_type": "stream",
     "text": [
      "TA\n"
     ]
    },
    {
     "name": "stderr",
     "output_type": "stream",
     "text": [
      "0% [##############################] 100% | ETA: 00:00:00\n",
      "Total time elapsed: 00:00:05\n"
     ]
    },
    {
     "name": "stdout",
     "output_type": "stream",
     "text": [
      "TET\n"
     ]
    },
    {
     "name": "stderr",
     "output_type": "stream",
     "text": [
      "0% [##############################] 100% | ETA: 00:00:00\n",
      "Total time elapsed: 00:00:02\n"
     ]
    },
    {
     "name": "stdout",
     "output_type": "stream",
     "text": [
      "TET\n"
     ]
    },
    {
     "name": "stderr",
     "output_type": "stream",
     "text": [
      "0% [##############################] 100% | ETA: 00:00:00\n",
      "Total time elapsed: 00:00:06\n"
     ]
    },
    {
     "name": "stdout",
     "output_type": "stream",
     "text": [
      "ULO\n"
     ]
    },
    {
     "name": "stderr",
     "output_type": "stream",
     "text": [
      "0% [##############################] 100% | ETA: 00:00:00\n",
      "Total time elapsed: 00:00:02\n"
     ]
    },
    {
     "name": "stdout",
     "output_type": "stream",
     "text": [
      "ULO\n"
     ]
    },
    {
     "name": "stderr",
     "output_type": "stream",
     "text": [
      "0% [##############################] 100% | ETA: 00:00:00\n",
      "Total time elapsed: 00:00:05\n"
     ]
    },
    {
     "name": "stdout",
     "output_type": "stream",
     "text": [
      "WD\n"
     ]
    },
    {
     "name": "stderr",
     "output_type": "stream",
     "text": [
      "0% [##############################] 100% | ETA: 00:00:00\n",
      "Total time elapsed: 00:00:02\n"
     ]
    },
    {
     "name": "stdout",
     "output_type": "stream",
     "text": [
      "WD\n"
     ]
    },
    {
     "name": "stderr",
     "output_type": "stream",
     "text": [
      "0% [##############################] 100% | ETA: 00:00:00\n",
      "Total time elapsed: 00:00:05\n"
     ]
    },
    {
     "name": "stdout",
     "output_type": "stream",
     "text": [
      "ALO\n"
     ]
    },
    {
     "name": "stderr",
     "output_type": "stream",
     "text": [
      "0% [##############################] 100% | ETA: 00:00:00\n",
      "Total time elapsed: 00:00:02\n"
     ]
    },
    {
     "name": "stdout",
     "output_type": "stream",
     "text": [
      "ALO\n"
     ]
    },
    {
     "name": "stderr",
     "output_type": "stream",
     "text": [
      "0% [##############################] 100% | ETA: 00:00:00\n",
      "Total time elapsed: 00:00:05\n"
     ]
    },
    {
     "name": "stdout",
     "output_type": "stream",
     "text": [
      "CC\n"
     ]
    },
    {
     "name": "stderr",
     "output_type": "stream",
     "text": [
      "0% [##############################] 100% | ETA: 00:00:00\n",
      "Total time elapsed: 00:00:02\n"
     ]
    },
    {
     "name": "stdout",
     "output_type": "stream",
     "text": [
      "CC\n"
     ]
    },
    {
     "name": "stderr",
     "output_type": "stream",
     "text": [
      "0% [##############################] 100% | ETA: 00:00:00\n",
      "Total time elapsed: 00:00:05\n"
     ]
    },
    {
     "name": "stdout",
     "output_type": "stream",
     "text": [
      "FD\n"
     ]
    },
    {
     "name": "stderr",
     "output_type": "stream",
     "text": [
      "0% [##############################] 100% | ETA: 00:00:00\n",
      "Total time elapsed: 00:00:02\n"
     ]
    },
    {
     "name": "stdout",
     "output_type": "stream",
     "text": [
      "FD\n"
     ]
    },
    {
     "name": "stderr",
     "output_type": "stream",
     "text": [
      "0% [##############################] 100% | ETA: 00:00:00\n",
      "Total time elapsed: 00:00:05\n"
     ]
    },
    {
     "name": "stdout",
     "output_type": "stream",
     "text": [
      "FET\n"
     ]
    },
    {
     "name": "stderr",
     "output_type": "stream",
     "text": [
      "0% [##############################] 100% | ETA: 00:00:00\n",
      "Total time elapsed: 00:00:02\n"
     ]
    },
    {
     "name": "stdout",
     "output_type": "stream",
     "text": [
      "FET\n"
     ]
    },
    {
     "name": "stderr",
     "output_type": "stream",
     "text": [
      "0% [##############################] 100% | ETA: 00:00:00\n",
      "Total time elapsed: 00:00:06\n"
     ]
    },
    {
     "name": "stdout",
     "output_type": "stream",
     "text": [
      "FE\n"
     ]
    },
    {
     "name": "stderr",
     "output_type": "stream",
     "text": [
      "0% [##############################] 100% | ETA: 00:00:00\n",
      "Total time elapsed: 00:00:02\n"
     ]
    },
    {
     "name": "stdout",
     "output_type": "stream",
     "text": [
      "FE\n"
     ]
    },
    {
     "name": "stderr",
     "output_type": "stream",
     "text": [
      "0% [##############################] 100% | ETA: 00:00:00\n",
      "Total time elapsed: 00:00:05\n"
     ]
    },
    {
     "name": "stdout",
     "output_type": "stream",
     "text": [
      "HT\n"
     ]
    },
    {
     "name": "stderr",
     "output_type": "stream",
     "text": [
      "0% [##############################] 100% | ETA: 00:00:00\n",
      "Total time elapsed: 00:00:02\n"
     ]
    },
    {
     "name": "stdout",
     "output_type": "stream",
     "text": [
      "HT\n"
     ]
    },
    {
     "name": "stderr",
     "output_type": "stream",
     "text": [
      "0% [##############################] 100% | ETA: 00:00:00\n",
      "Total time elapsed: 00:00:06\n"
     ]
    },
    {
     "name": "stdout",
     "output_type": "stream",
     "text": [
      "IR\n"
     ]
    },
    {
     "name": "stderr",
     "output_type": "stream",
     "text": [
      "0% [##############################] 100% | ETA: 00:00:00\n",
      "Total time elapsed: 00:00:02\n"
     ]
    },
    {
     "name": "stdout",
     "output_type": "stream",
     "text": [
      "IR\n"
     ]
    },
    {
     "name": "stderr",
     "output_type": "stream",
     "text": [
      "0% [##############################] 100% | ETA: 00:00:00\n",
      "Total time elapsed: 00:00:05\n"
     ]
    },
    {
     "name": "stdout",
     "output_type": "stream",
     "text": [
      "MET\n"
     ]
    },
    {
     "name": "stderr",
     "output_type": "stream",
     "text": [
      "0% [##############################] 100% | ETA: 00:00:00\n",
      "Total time elapsed: 00:00:02\n"
     ]
    },
    {
     "name": "stdout",
     "output_type": "stream",
     "text": [
      "MET\n"
     ]
    },
    {
     "name": "stderr",
     "output_type": "stream",
     "text": [
      "0% [##############################] 100% | ETA: 00:00:00\n",
      "Total time elapsed: 00:00:06\n"
     ]
    },
    {
     "name": "stdout",
     "output_type": "stream",
     "text": [
      "ME\n"
     ]
    },
    {
     "name": "stderr",
     "output_type": "stream",
     "text": [
      "0% [##############################] 100% | ETA: 00:00:00\n",
      "Total time elapsed: 00:00:02\n"
     ]
    },
    {
     "name": "stdout",
     "output_type": "stream",
     "text": [
      "ME\n"
     ]
    },
    {
     "name": "stderr",
     "output_type": "stream",
     "text": [
      "0% [##############################] 100% | ETA: 00:00:00\n",
      "Total time elapsed: 00:00:05\n"
     ]
    },
    {
     "name": "stdout",
     "output_type": "stream",
     "text": [
      "MD\n"
     ]
    },
    {
     "name": "stderr",
     "output_type": "stream",
     "text": [
      "0% [##############################] 100% | ETA: 00:00:00\n",
      "Total time elapsed: 00:00:02\n"
     ]
    },
    {
     "name": "stdout",
     "output_type": "stream",
     "text": [
      "MD\n"
     ]
    },
    {
     "name": "stderr",
     "output_type": "stream",
     "text": [
      "0% [##############################] 100% | ETA: 00:00:00\n",
      "Total time elapsed: 00:00:05\n"
     ]
    },
    {
     "name": "stdout",
     "output_type": "stream",
     "text": [
      "NLT\n"
     ]
    },
    {
     "name": "stderr",
     "output_type": "stream",
     "text": [
      "0% [##############################] 100% | ETA: 00:00:00\n",
      "Total time elapsed: 00:00:02\n"
     ]
    },
    {
     "name": "stdout",
     "output_type": "stream",
     "text": [
      "NLT\n"
     ]
    },
    {
     "name": "stderr",
     "output_type": "stream",
     "text": [
      "0% [##############################] 100% | ETA: 00:00:00\n",
      "Total time elapsed: 00:00:05\n"
     ]
    },
    {
     "name": "stdout",
     "output_type": "stream",
     "text": [
      "OD\n"
     ]
    },
    {
     "name": "stderr",
     "output_type": "stream",
     "text": [
      "0% [##############################] 100% | ETA: 00:00:00\n",
      "Total time elapsed: 00:00:02\n"
     ]
    },
    {
     "name": "stdout",
     "output_type": "stream",
     "text": [
      "OD\n"
     ]
    },
    {
     "name": "stderr",
     "output_type": "stream",
     "text": [
      "0% [##############################] 100% | ETA: 00:00:00\n",
      "Total time elapsed: 00:00:05\n"
     ]
    },
    {
     "name": "stdout",
     "output_type": "stream",
     "text": [
      "PMF\n"
     ]
    },
    {
     "name": "stderr",
     "output_type": "stream",
     "text": [
      "0% [##############################] 100% | ETA: 00:00:00\n",
      "Total time elapsed: 00:00:02\n"
     ]
    },
    {
     "name": "stdout",
     "output_type": "stream",
     "text": [
      "PMF\n"
     ]
    },
    {
     "name": "stderr",
     "output_type": "stream",
     "text": [
      "0% [##############################] 100% | ETA: 00:00:00\n",
      "Total time elapsed: 00:00:05\n"
     ]
    },
    {
     "name": "stdout",
     "output_type": "stream",
     "text": [
      "POF\n"
     ]
    },
    {
     "name": "stderr",
     "output_type": "stream",
     "text": [
      "0% [##############################] 100% | ETA: 00:00:00\n",
      "Total time elapsed: 00:00:02\n"
     ]
    },
    {
     "name": "stdout",
     "output_type": "stream",
     "text": [
      "POF\n"
     ]
    },
    {
     "name": "stderr",
     "output_type": "stream",
     "text": [
      "0% [##############################] 100% | ETA: 00:00:00\n",
      "Total time elapsed: 00:00:05\n"
     ]
    },
    {
     "name": "stdout",
     "output_type": "stream",
     "text": [
      "TA\n"
     ]
    },
    {
     "name": "stderr",
     "output_type": "stream",
     "text": [
      "0% [##############################] 100% | ETA: 00:00:00\n",
      "Total time elapsed: 00:00:02\n"
     ]
    },
    {
     "name": "stdout",
     "output_type": "stream",
     "text": [
      "TA\n"
     ]
    },
    {
     "name": "stderr",
     "output_type": "stream",
     "text": [
      "0% [##############################] 100% | ETA: 00:00:00\n",
      "Total time elapsed: 00:00:05\n"
     ]
    },
    {
     "name": "stdout",
     "output_type": "stream",
     "text": [
      "TET\n"
     ]
    },
    {
     "name": "stderr",
     "output_type": "stream",
     "text": [
      "0% [##############################] 100% | ETA: 00:00:00\n",
      "Total time elapsed: 00:00:02\n"
     ]
    },
    {
     "name": "stdout",
     "output_type": "stream",
     "text": [
      "TET\n"
     ]
    },
    {
     "name": "stderr",
     "output_type": "stream",
     "text": [
      "0% [##############################] 100% | ETA: 00:00:00\n",
      "Total time elapsed: 00:00:05\n"
     ]
    },
    {
     "name": "stdout",
     "output_type": "stream",
     "text": [
      "ULO\n"
     ]
    },
    {
     "name": "stderr",
     "output_type": "stream",
     "text": [
      "0% [##############################] 100% | ETA: 00:00:00\n",
      "Total time elapsed: 00:00:02\n"
     ]
    },
    {
     "name": "stdout",
     "output_type": "stream",
     "text": [
      "ULO\n"
     ]
    },
    {
     "name": "stderr",
     "output_type": "stream",
     "text": [
      "0% [##############################] 100% | ETA: 00:00:00\n",
      "Total time elapsed: 00:00:05\n"
     ]
    },
    {
     "name": "stdout",
     "output_type": "stream",
     "text": [
      "WD\n"
     ]
    },
    {
     "name": "stderr",
     "output_type": "stream",
     "text": [
      "0% [##############################] 100% | ETA: 00:00:00\n",
      "Total time elapsed: 00:00:02\n"
     ]
    },
    {
     "name": "stdout",
     "output_type": "stream",
     "text": [
      "WD\n"
     ]
    },
    {
     "name": "stderr",
     "output_type": "stream",
     "text": [
      "0% [##############################] 100% | ETA: 00:00:00\n",
      "Total time elapsed: 00:00:05\n"
     ]
    },
    {
     "name": "stdout",
     "output_type": "stream",
     "text": [
      "ALO\n"
     ]
    },
    {
     "name": "stderr",
     "output_type": "stream",
     "text": [
      "0% [##############################] 100% | ETA: 00:00:00\n",
      "Total time elapsed: 00:00:02\n"
     ]
    },
    {
     "name": "stdout",
     "output_type": "stream",
     "text": [
      "ALO\n"
     ]
    },
    {
     "name": "stderr",
     "output_type": "stream",
     "text": [
      "0% [##############################] 100% | ETA: 00:00:00\n",
      "Total time elapsed: 00:00:05\n"
     ]
    },
    {
     "name": "stdout",
     "output_type": "stream",
     "text": [
      "CC\n"
     ]
    },
    {
     "name": "stderr",
     "output_type": "stream",
     "text": [
      "0% [##############################] 100% | ETA: 00:00:00\n",
      "Total time elapsed: 00:00:02\n"
     ]
    },
    {
     "name": "stdout",
     "output_type": "stream",
     "text": [
      "CC\n"
     ]
    },
    {
     "name": "stderr",
     "output_type": "stream",
     "text": [
      "0% [##############################] 100% | ETA: 00:00:00\n",
      "Total time elapsed: 00:00:05\n"
     ]
    },
    {
     "name": "stdout",
     "output_type": "stream",
     "text": [
      "FD\n"
     ]
    },
    {
     "name": "stderr",
     "output_type": "stream",
     "text": [
      "0% [##############################] 100% | ETA: 00:00:00\n",
      "Total time elapsed: 00:00:02\n"
     ]
    },
    {
     "name": "stdout",
     "output_type": "stream",
     "text": [
      "FD\n"
     ]
    },
    {
     "name": "stderr",
     "output_type": "stream",
     "text": [
      "0% [##############################] 100% | ETA: 00:00:00\n",
      "Total time elapsed: 00:00:05\n"
     ]
    },
    {
     "name": "stdout",
     "output_type": "stream",
     "text": [
      "FET\n"
     ]
    },
    {
     "name": "stderr",
     "output_type": "stream",
     "text": [
      "0% [##############################] 100% | ETA: 00:00:00\n",
      "Total time elapsed: 00:00:02\n"
     ]
    },
    {
     "name": "stdout",
     "output_type": "stream",
     "text": [
      "FET\n"
     ]
    },
    {
     "name": "stderr",
     "output_type": "stream",
     "text": [
      "0% [##############################] 100% | ETA: 00:00:00\n",
      "Total time elapsed: 00:00:06\n"
     ]
    },
    {
     "name": "stdout",
     "output_type": "stream",
     "text": [
      "FE\n"
     ]
    },
    {
     "name": "stderr",
     "output_type": "stream",
     "text": [
      "0% [##############################] 100% | ETA: 00:00:00\n",
      "Total time elapsed: 00:00:02\n"
     ]
    },
    {
     "name": "stdout",
     "output_type": "stream",
     "text": [
      "FE\n"
     ]
    },
    {
     "name": "stderr",
     "output_type": "stream",
     "text": [
      "0% [##############################] 100% | ETA: 00:00:00\n",
      "Total time elapsed: 00:00:05\n"
     ]
    },
    {
     "name": "stdout",
     "output_type": "stream",
     "text": [
      "HT\n"
     ]
    },
    {
     "name": "stderr",
     "output_type": "stream",
     "text": [
      "0% [##############################] 100% | ETA: 00:00:00\n",
      "Total time elapsed: 00:00:02\n"
     ]
    },
    {
     "name": "stdout",
     "output_type": "stream",
     "text": [
      "HT\n"
     ]
    },
    {
     "name": "stderr",
     "output_type": "stream",
     "text": [
      "0% [##############################] 100% | ETA: 00:00:00\n",
      "Total time elapsed: 00:00:06\n"
     ]
    },
    {
     "name": "stdout",
     "output_type": "stream",
     "text": [
      "IR\n"
     ]
    },
    {
     "name": "stderr",
     "output_type": "stream",
     "text": [
      "0% [##############################] 100% | ETA: 00:00:00\n",
      "Total time elapsed: 00:00:02\n"
     ]
    },
    {
     "name": "stdout",
     "output_type": "stream",
     "text": [
      "IR\n"
     ]
    },
    {
     "name": "stderr",
     "output_type": "stream",
     "text": [
      "0% [##############################] 100% | ETA: 00:00:00\n",
      "Total time elapsed: 00:00:05\n"
     ]
    },
    {
     "name": "stdout",
     "output_type": "stream",
     "text": [
      "MET\n"
     ]
    },
    {
     "name": "stderr",
     "output_type": "stream",
     "text": [
      "0% [##############################] 100% | ETA: 00:00:00\n",
      "Total time elapsed: 00:00:02\n"
     ]
    },
    {
     "name": "stdout",
     "output_type": "stream",
     "text": [
      "MET\n"
     ]
    },
    {
     "name": "stderr",
     "output_type": "stream",
     "text": [
      "0% [##############################] 100% | ETA: 00:00:00\n",
      "Total time elapsed: 00:00:06\n"
     ]
    },
    {
     "name": "stdout",
     "output_type": "stream",
     "text": [
      "ME\n"
     ]
    },
    {
     "name": "stderr",
     "output_type": "stream",
     "text": [
      "0% [##############################] 100% | ETA: 00:00:00\n",
      "Total time elapsed: 00:00:02\n"
     ]
    },
    {
     "name": "stdout",
     "output_type": "stream",
     "text": [
      "ME\n"
     ]
    },
    {
     "name": "stderr",
     "output_type": "stream",
     "text": [
      "0% [##############################] 100% | ETA: 00:00:00\n",
      "Total time elapsed: 00:00:05\n"
     ]
    },
    {
     "name": "stdout",
     "output_type": "stream",
     "text": [
      "MD\n"
     ]
    },
    {
     "name": "stderr",
     "output_type": "stream",
     "text": [
      "0% [##############################] 100% | ETA: 00:00:00\n",
      "Total time elapsed: 00:00:02\n"
     ]
    },
    {
     "name": "stdout",
     "output_type": "stream",
     "text": [
      "MD\n"
     ]
    },
    {
     "name": "stderr",
     "output_type": "stream",
     "text": [
      "0% [##############################] 100% | ETA: 00:00:00\n",
      "Total time elapsed: 00:00:05\n"
     ]
    },
    {
     "name": "stdout",
     "output_type": "stream",
     "text": [
      "NLT\n"
     ]
    },
    {
     "name": "stderr",
     "output_type": "stream",
     "text": [
      "0% [##############################] 100% | ETA: 00:00:00\n",
      "Total time elapsed: 00:00:02\n"
     ]
    },
    {
     "name": "stdout",
     "output_type": "stream",
     "text": [
      "NLT\n"
     ]
    },
    {
     "name": "stderr",
     "output_type": "stream",
     "text": [
      "0% [##############################] 100% | ETA: 00:00:00\n",
      "Total time elapsed: 00:00:05\n"
     ]
    },
    {
     "name": "stdout",
     "output_type": "stream",
     "text": [
      "OD\n"
     ]
    },
    {
     "name": "stderr",
     "output_type": "stream",
     "text": [
      "0% [##############################] 100% | ETA: 00:00:00\n",
      "Total time elapsed: 00:00:02\n"
     ]
    },
    {
     "name": "stdout",
     "output_type": "stream",
     "text": [
      "OD\n"
     ]
    },
    {
     "name": "stderr",
     "output_type": "stream",
     "text": [
      "0% [##############################] 100% | ETA: 00:00:00\n",
      "Total time elapsed: 00:00:05\n"
     ]
    },
    {
     "name": "stdout",
     "output_type": "stream",
     "text": [
      "PMF\n"
     ]
    },
    {
     "name": "stderr",
     "output_type": "stream",
     "text": [
      "0% [##############################] 100% | ETA: 00:00:00\n",
      "Total time elapsed: 00:00:02\n"
     ]
    },
    {
     "name": "stdout",
     "output_type": "stream",
     "text": [
      "PMF\n"
     ]
    },
    {
     "name": "stderr",
     "output_type": "stream",
     "text": [
      "0% [##############################] 100% | ETA: 00:00:00\n",
      "Total time elapsed: 00:00:05\n"
     ]
    },
    {
     "name": "stdout",
     "output_type": "stream",
     "text": [
      "POF\n"
     ]
    },
    {
     "name": "stderr",
     "output_type": "stream",
     "text": [
      "0% [##############################] 100% | ETA: 00:00:00\n",
      "Total time elapsed: 00:00:02\n"
     ]
    },
    {
     "name": "stdout",
     "output_type": "stream",
     "text": [
      "POF\n"
     ]
    },
    {
     "name": "stderr",
     "output_type": "stream",
     "text": [
      "0% [##############################] 100% | ETA: 00:00:00\n",
      "Total time elapsed: 00:00:05\n"
     ]
    },
    {
     "name": "stdout",
     "output_type": "stream",
     "text": [
      "TA\n"
     ]
    },
    {
     "name": "stderr",
     "output_type": "stream",
     "text": [
      "0% [##############################] 100% | ETA: 00:00:00\n",
      "Total time elapsed: 00:00:02\n"
     ]
    },
    {
     "name": "stdout",
     "output_type": "stream",
     "text": [
      "TA\n"
     ]
    },
    {
     "name": "stderr",
     "output_type": "stream",
     "text": [
      "0% [##############################] 100% | ETA: 00:00:00\n",
      "Total time elapsed: 00:00:05\n"
     ]
    },
    {
     "name": "stdout",
     "output_type": "stream",
     "text": [
      "TET\n"
     ]
    },
    {
     "name": "stderr",
     "output_type": "stream",
     "text": [
      "0% [##############################] 100% | ETA: 00:00:00\n",
      "Total time elapsed: 00:00:02\n"
     ]
    },
    {
     "name": "stdout",
     "output_type": "stream",
     "text": [
      "TET\n"
     ]
    },
    {
     "name": "stderr",
     "output_type": "stream",
     "text": [
      "0% [##############################] 100% | ETA: 00:00:00\n",
      "Total time elapsed: 00:00:06\n"
     ]
    },
    {
     "name": "stdout",
     "output_type": "stream",
     "text": [
      "ULO\n"
     ]
    },
    {
     "name": "stderr",
     "output_type": "stream",
     "text": [
      "0% [##############################] 100% | ETA: 00:00:00\n",
      "Total time elapsed: 00:00:02\n"
     ]
    },
    {
     "name": "stdout",
     "output_type": "stream",
     "text": [
      "ULO\n"
     ]
    },
    {
     "name": "stderr",
     "output_type": "stream",
     "text": [
      "0% [##############################] 100% | ETA: 00:00:00\n",
      "Total time elapsed: 00:00:05\n"
     ]
    },
    {
     "name": "stdout",
     "output_type": "stream",
     "text": [
      "WD\n"
     ]
    },
    {
     "name": "stderr",
     "output_type": "stream",
     "text": [
      "0% [##############################] 100% | ETA: 00:00:00\n",
      "Total time elapsed: 00:00:02\n"
     ]
    },
    {
     "name": "stdout",
     "output_type": "stream",
     "text": [
      "WD\n"
     ]
    },
    {
     "name": "stderr",
     "output_type": "stream",
     "text": [
      "0% [##############################] 100% | ETA: 00:00:00\n",
      "Total time elapsed: 00:00:05\n"
     ]
    },
    {
     "name": "stdout",
     "output_type": "stream",
     "text": [
      "ALO\n"
     ]
    },
    {
     "name": "stderr",
     "output_type": "stream",
     "text": [
      "0% [##############################] 100% | ETA: 00:00:00\n",
      "Total time elapsed: 00:00:02\n"
     ]
    },
    {
     "name": "stdout",
     "output_type": "stream",
     "text": [
      "ALO\n"
     ]
    },
    {
     "name": "stderr",
     "output_type": "stream",
     "text": [
      "0% [##############################] 100% | ETA: 00:00:00\n",
      "Total time elapsed: 00:00:05\n"
     ]
    },
    {
     "name": "stdout",
     "output_type": "stream",
     "text": [
      "CC\n"
     ]
    },
    {
     "name": "stderr",
     "output_type": "stream",
     "text": [
      "0% [##############################] 100% | ETA: 00:00:00\n",
      "Total time elapsed: 00:00:02\n"
     ]
    },
    {
     "name": "stdout",
     "output_type": "stream",
     "text": [
      "CC\n"
     ]
    },
    {
     "name": "stderr",
     "output_type": "stream",
     "text": [
      "0% [##############################] 100% | ETA: 00:00:00\n",
      "Total time elapsed: 00:00:05\n"
     ]
    },
    {
     "name": "stdout",
     "output_type": "stream",
     "text": [
      "FD\n"
     ]
    },
    {
     "name": "stderr",
     "output_type": "stream",
     "text": [
      "0% [##############################] 100% | ETA: 00:00:00\n",
      "Total time elapsed: 00:00:02\n"
     ]
    },
    {
     "name": "stdout",
     "output_type": "stream",
     "text": [
      "FD\n"
     ]
    },
    {
     "name": "stderr",
     "output_type": "stream",
     "text": [
      "0% [##############################] 100% | ETA: 00:00:00\n",
      "Total time elapsed: 00:00:05\n"
     ]
    },
    {
     "name": "stdout",
     "output_type": "stream",
     "text": [
      "FET\n"
     ]
    },
    {
     "name": "stderr",
     "output_type": "stream",
     "text": [
      "0% [##############################] 100% | ETA: 00:00:00\n",
      "Total time elapsed: 00:00:02\n"
     ]
    },
    {
     "name": "stdout",
     "output_type": "stream",
     "text": [
      "FET\n"
     ]
    },
    {
     "name": "stderr",
     "output_type": "stream",
     "text": [
      "0% [##############################] 100% | ETA: 00:00:00\n",
      "Total time elapsed: 00:00:06\n"
     ]
    },
    {
     "name": "stdout",
     "output_type": "stream",
     "text": [
      "FE\n"
     ]
    },
    {
     "name": "stderr",
     "output_type": "stream",
     "text": [
      "0% [##############################] 100% | ETA: 00:00:00\n",
      "Total time elapsed: 00:00:02\n"
     ]
    },
    {
     "name": "stdout",
     "output_type": "stream",
     "text": [
      "FE\n"
     ]
    },
    {
     "name": "stderr",
     "output_type": "stream",
     "text": [
      "0% [##############################] 100% | ETA: 00:00:00\n",
      "Total time elapsed: 00:00:05\n"
     ]
    },
    {
     "name": "stdout",
     "output_type": "stream",
     "text": [
      "HT\n"
     ]
    },
    {
     "name": "stderr",
     "output_type": "stream",
     "text": [
      "0% [##############################] 100% | ETA: 00:00:00\n",
      "Total time elapsed: 00:00:02\n"
     ]
    },
    {
     "name": "stdout",
     "output_type": "stream",
     "text": [
      "HT\n"
     ]
    },
    {
     "name": "stderr",
     "output_type": "stream",
     "text": [
      "0% [##############################] 100% | ETA: 00:00:00\n",
      "Total time elapsed: 00:00:06\n"
     ]
    },
    {
     "name": "stdout",
     "output_type": "stream",
     "text": [
      "IR\n"
     ]
    },
    {
     "name": "stderr",
     "output_type": "stream",
     "text": [
      "0% [##############################] 100% | ETA: 00:00:00\n",
      "Total time elapsed: 00:00:02\n"
     ]
    },
    {
     "name": "stdout",
     "output_type": "stream",
     "text": [
      "IR\n"
     ]
    },
    {
     "name": "stderr",
     "output_type": "stream",
     "text": [
      "0% [##############################] 100% | ETA: 00:00:00\n",
      "Total time elapsed: 00:00:05\n"
     ]
    },
    {
     "name": "stdout",
     "output_type": "stream",
     "text": [
      "MET\n"
     ]
    },
    {
     "name": "stderr",
     "output_type": "stream",
     "text": [
      "0% [##############################] 100% | ETA: 00:00:00\n",
      "Total time elapsed: 00:00:02\n"
     ]
    },
    {
     "name": "stdout",
     "output_type": "stream",
     "text": [
      "MET\n"
     ]
    },
    {
     "name": "stderr",
     "output_type": "stream",
     "text": [
      "0% [##############################] 100% | ETA: 00:00:00\n",
      "Total time elapsed: 00:00:06\n"
     ]
    },
    {
     "name": "stdout",
     "output_type": "stream",
     "text": [
      "ME\n"
     ]
    },
    {
     "name": "stderr",
     "output_type": "stream",
     "text": [
      "0% [##############################] 100% | ETA: 00:00:00\n",
      "Total time elapsed: 00:00:02\n"
     ]
    },
    {
     "name": "stdout",
     "output_type": "stream",
     "text": [
      "ME\n"
     ]
    },
    {
     "name": "stderr",
     "output_type": "stream",
     "text": [
      "0% [##############################] 100% | ETA: 00:00:00\n",
      "Total time elapsed: 00:00:05\n"
     ]
    },
    {
     "name": "stdout",
     "output_type": "stream",
     "text": [
      "MD\n"
     ]
    },
    {
     "name": "stderr",
     "output_type": "stream",
     "text": [
      "0% [##############################] 100% | ETA: 00:00:00\n",
      "Total time elapsed: 00:00:02\n"
     ]
    },
    {
     "name": "stdout",
     "output_type": "stream",
     "text": [
      "MD\n"
     ]
    },
    {
     "name": "stderr",
     "output_type": "stream",
     "text": [
      "0% [##############################] 100% | ETA: 00:00:00\n",
      "Total time elapsed: 00:00:05\n"
     ]
    },
    {
     "name": "stdout",
     "output_type": "stream",
     "text": [
      "NLT\n"
     ]
    },
    {
     "name": "stderr",
     "output_type": "stream",
     "text": [
      "0% [##############################] 100% | ETA: 00:00:00\n",
      "Total time elapsed: 00:00:02\n"
     ]
    },
    {
     "name": "stdout",
     "output_type": "stream",
     "text": [
      "NLT\n"
     ]
    },
    {
     "name": "stderr",
     "output_type": "stream",
     "text": [
      "0% [##############################] 100% | ETA: 00:00:00\n",
      "Total time elapsed: 00:00:05\n"
     ]
    },
    {
     "name": "stdout",
     "output_type": "stream",
     "text": [
      "OD\n"
     ]
    },
    {
     "name": "stderr",
     "output_type": "stream",
     "text": [
      "0% [##############################] 100% | ETA: 00:00:00\n",
      "Total time elapsed: 00:00:02\n"
     ]
    },
    {
     "name": "stdout",
     "output_type": "stream",
     "text": [
      "OD\n"
     ]
    },
    {
     "name": "stderr",
     "output_type": "stream",
     "text": [
      "0% [##############################] 100% | ETA: 00:00:00\n",
      "Total time elapsed: 00:00:05\n"
     ]
    },
    {
     "name": "stdout",
     "output_type": "stream",
     "text": [
      "PMF\n"
     ]
    },
    {
     "name": "stderr",
     "output_type": "stream",
     "text": [
      "0% [##############################] 100% | ETA: 00:00:00\n",
      "Total time elapsed: 00:00:02\n"
     ]
    },
    {
     "name": "stdout",
     "output_type": "stream",
     "text": [
      "PMF\n"
     ]
    },
    {
     "name": "stderr",
     "output_type": "stream",
     "text": [
      "0% [##############################] 100% | ETA: 00:00:00\n",
      "Total time elapsed: 00:00:05\n"
     ]
    },
    {
     "name": "stdout",
     "output_type": "stream",
     "text": [
      "POF\n"
     ]
    },
    {
     "name": "stderr",
     "output_type": "stream",
     "text": [
      "0% [##############################] 100% | ETA: 00:00:00\n",
      "Total time elapsed: 00:00:02\n"
     ]
    },
    {
     "name": "stdout",
     "output_type": "stream",
     "text": [
      "POF\n"
     ]
    },
    {
     "name": "stderr",
     "output_type": "stream",
     "text": [
      "0% [##############################] 100% | ETA: 00:00:00\n",
      "Total time elapsed: 00:00:05\n"
     ]
    },
    {
     "name": "stdout",
     "output_type": "stream",
     "text": [
      "TA\n"
     ]
    },
    {
     "name": "stderr",
     "output_type": "stream",
     "text": [
      "0% [##############################] 100% | ETA: 00:00:00\n",
      "Total time elapsed: 00:00:02\n"
     ]
    },
    {
     "name": "stdout",
     "output_type": "stream",
     "text": [
      "TA\n"
     ]
    },
    {
     "name": "stderr",
     "output_type": "stream",
     "text": [
      "0% [##############################] 100% | ETA: 00:00:00\n",
      "Total time elapsed: 00:00:05\n"
     ]
    },
    {
     "name": "stdout",
     "output_type": "stream",
     "text": [
      "TET\n"
     ]
    },
    {
     "name": "stderr",
     "output_type": "stream",
     "text": [
      "0% [##############################] 100% | ETA: 00:00:00\n",
      "Total time elapsed: 00:00:02\n"
     ]
    },
    {
     "name": "stdout",
     "output_type": "stream",
     "text": [
      "TET\n"
     ]
    },
    {
     "name": "stderr",
     "output_type": "stream",
     "text": [
      "0% [##############################] 100% | ETA: 00:00:00\n",
      "Total time elapsed: 00:00:06\n"
     ]
    },
    {
     "name": "stdout",
     "output_type": "stream",
     "text": [
      "ULO\n"
     ]
    },
    {
     "name": "stderr",
     "output_type": "stream",
     "text": [
      "0% [##############################] 100% | ETA: 00:00:00\n",
      "Total time elapsed: 00:00:02\n"
     ]
    },
    {
     "name": "stdout",
     "output_type": "stream",
     "text": [
      "ULO\n"
     ]
    },
    {
     "name": "stderr",
     "output_type": "stream",
     "text": [
      "0% [##############################] 100% | ETA: 00:00:00\n",
      "Total time elapsed: 00:00:05\n"
     ]
    },
    {
     "name": "stdout",
     "output_type": "stream",
     "text": [
      "WD\n"
     ]
    },
    {
     "name": "stderr",
     "output_type": "stream",
     "text": [
      "0% [##############################] 100% | ETA: 00:00:00\n",
      "Total time elapsed: 00:00:02\n"
     ]
    },
    {
     "name": "stdout",
     "output_type": "stream",
     "text": [
      "WD\n"
     ]
    },
    {
     "name": "stderr",
     "output_type": "stream",
     "text": [
      "0% [##############################] 100% | ETA: 00:00:00\n",
      "Total time elapsed: 00:00:05\n"
     ]
    },
    {
     "name": "stdout",
     "output_type": "stream",
     "text": [
      "ALO\n"
     ]
    },
    {
     "name": "stderr",
     "output_type": "stream",
     "text": [
      "0% [##############################] 100% | ETA: 00:00:00\n",
      "Total time elapsed: 00:00:02\n"
     ]
    },
    {
     "name": "stdout",
     "output_type": "stream",
     "text": [
      "ALO\n"
     ]
    },
    {
     "name": "stderr",
     "output_type": "stream",
     "text": [
      "0% [##############################] 100% | ETA: 00:00:00\n",
      "Total time elapsed: 00:00:05\n"
     ]
    },
    {
     "name": "stdout",
     "output_type": "stream",
     "text": [
      "CC\n"
     ]
    },
    {
     "name": "stderr",
     "output_type": "stream",
     "text": [
      "0% [##############################] 100% | ETA: 00:00:00\n",
      "Total time elapsed: 00:00:02\n"
     ]
    },
    {
     "name": "stdout",
     "output_type": "stream",
     "text": [
      "CC\n"
     ]
    },
    {
     "name": "stderr",
     "output_type": "stream",
     "text": [
      "0% [##############################] 100% | ETA: 00:00:00\n",
      "Total time elapsed: 00:00:05\n"
     ]
    },
    {
     "name": "stdout",
     "output_type": "stream",
     "text": [
      "FD\n"
     ]
    },
    {
     "name": "stderr",
     "output_type": "stream",
     "text": [
      "0% [##############################] 100% | ETA: 00:00:00\n",
      "Total time elapsed: 00:00:02\n"
     ]
    },
    {
     "name": "stdout",
     "output_type": "stream",
     "text": [
      "FD\n"
     ]
    },
    {
     "name": "stderr",
     "output_type": "stream",
     "text": [
      "0% [##############################] 100% | ETA: 00:00:00\n",
      "Total time elapsed: 00:00:05\n"
     ]
    },
    {
     "name": "stdout",
     "output_type": "stream",
     "text": [
      "FET\n"
     ]
    },
    {
     "name": "stderr",
     "output_type": "stream",
     "text": [
      "0% [##############################] 100% | ETA: 00:00:00\n",
      "Total time elapsed: 00:00:02\n"
     ]
    },
    {
     "name": "stdout",
     "output_type": "stream",
     "text": [
      "FET\n"
     ]
    },
    {
     "name": "stderr",
     "output_type": "stream",
     "text": [
      "0% [##############################] 100% | ETA: 00:00:00\n",
      "Total time elapsed: 00:00:06\n"
     ]
    },
    {
     "name": "stdout",
     "output_type": "stream",
     "text": [
      "FE\n"
     ]
    },
    {
     "name": "stderr",
     "output_type": "stream",
     "text": [
      "0% [##############################] 100% | ETA: 00:00:00\n",
      "Total time elapsed: 00:00:02\n"
     ]
    },
    {
     "name": "stdout",
     "output_type": "stream",
     "text": [
      "FE\n"
     ]
    },
    {
     "name": "stderr",
     "output_type": "stream",
     "text": [
      "0% [##############################] 100% | ETA: 00:00:00\n",
      "Total time elapsed: 00:00:05\n"
     ]
    },
    {
     "name": "stdout",
     "output_type": "stream",
     "text": [
      "HT\n"
     ]
    },
    {
     "name": "stderr",
     "output_type": "stream",
     "text": [
      "0% [##############################] 100% | ETA: 00:00:00\n",
      "Total time elapsed: 00:00:02\n"
     ]
    },
    {
     "name": "stdout",
     "output_type": "stream",
     "text": [
      "HT\n"
     ]
    },
    {
     "name": "stderr",
     "output_type": "stream",
     "text": [
      "0% [##############################] 100% | ETA: 00:00:00\n",
      "Total time elapsed: 00:00:06\n"
     ]
    },
    {
     "name": "stdout",
     "output_type": "stream",
     "text": [
      "IR\n"
     ]
    },
    {
     "name": "stderr",
     "output_type": "stream",
     "text": [
      "0% [##############################] 100% | ETA: 00:00:00\n",
      "Total time elapsed: 00:00:02\n"
     ]
    },
    {
     "name": "stdout",
     "output_type": "stream",
     "text": [
      "IR\n"
     ]
    },
    {
     "name": "stderr",
     "output_type": "stream",
     "text": [
      "0% [##############################] 100% | ETA: 00:00:00\n",
      "Total time elapsed: 00:00:05\n"
     ]
    },
    {
     "name": "stdout",
     "output_type": "stream",
     "text": [
      "MET\n"
     ]
    },
    {
     "name": "stderr",
     "output_type": "stream",
     "text": [
      "0% [##############################] 100% | ETA: 00:00:00\n",
      "Total time elapsed: 00:00:02\n"
     ]
    },
    {
     "name": "stdout",
     "output_type": "stream",
     "text": [
      "MET\n"
     ]
    },
    {
     "name": "stderr",
     "output_type": "stream",
     "text": [
      "0% [##############################] 100% | ETA: 00:00:00\n",
      "Total time elapsed: 00:00:06\n"
     ]
    },
    {
     "name": "stdout",
     "output_type": "stream",
     "text": [
      "ME\n"
     ]
    },
    {
     "name": "stderr",
     "output_type": "stream",
     "text": [
      "0% [##############################] 100% | ETA: 00:00:00\n",
      "Total time elapsed: 00:00:02\n"
     ]
    },
    {
     "name": "stdout",
     "output_type": "stream",
     "text": [
      "ME\n"
     ]
    },
    {
     "name": "stderr",
     "output_type": "stream",
     "text": [
      "0% [##############################] 100% | ETA: 00:00:00\n",
      "Total time elapsed: 00:00:05\n"
     ]
    },
    {
     "name": "stdout",
     "output_type": "stream",
     "text": [
      "MD\n"
     ]
    },
    {
     "name": "stderr",
     "output_type": "stream",
     "text": [
      "0% [##############################] 100% | ETA: 00:00:00\n",
      "Total time elapsed: 00:00:02\n"
     ]
    },
    {
     "name": "stdout",
     "output_type": "stream",
     "text": [
      "MD\n"
     ]
    },
    {
     "name": "stderr",
     "output_type": "stream",
     "text": [
      "0% [##############################] 100% | ETA: 00:00:00\n",
      "Total time elapsed: 00:00:05\n"
     ]
    },
    {
     "name": "stdout",
     "output_type": "stream",
     "text": [
      "NLT\n"
     ]
    },
    {
     "name": "stderr",
     "output_type": "stream",
     "text": [
      "0% [##############################] 100% | ETA: 00:00:00\n",
      "Total time elapsed: 00:00:02\n"
     ]
    },
    {
     "name": "stdout",
     "output_type": "stream",
     "text": [
      "NLT\n"
     ]
    },
    {
     "name": "stderr",
     "output_type": "stream",
     "text": [
      "0% [##############################] 100% | ETA: 00:00:00\n",
      "Total time elapsed: 00:00:05\n"
     ]
    },
    {
     "name": "stdout",
     "output_type": "stream",
     "text": [
      "OD\n"
     ]
    },
    {
     "name": "stderr",
     "output_type": "stream",
     "text": [
      "0% [##############################] 100% | ETA: 00:00:00\n",
      "Total time elapsed: 00:00:02\n"
     ]
    },
    {
     "name": "stdout",
     "output_type": "stream",
     "text": [
      "OD\n"
     ]
    },
    {
     "name": "stderr",
     "output_type": "stream",
     "text": [
      "0% [##############################] 100% | ETA: 00:00:00\n",
      "Total time elapsed: 00:00:05\n"
     ]
    },
    {
     "name": "stdout",
     "output_type": "stream",
     "text": [
      "PMF\n"
     ]
    },
    {
     "name": "stderr",
     "output_type": "stream",
     "text": [
      "0% [##############################] 100% | ETA: 00:00:00\n",
      "Total time elapsed: 00:00:02\n"
     ]
    },
    {
     "name": "stdout",
     "output_type": "stream",
     "text": [
      "PMF\n"
     ]
    },
    {
     "name": "stderr",
     "output_type": "stream",
     "text": [
      "0% [##############################] 100% | ETA: 00:00:00\n",
      "Total time elapsed: 00:00:05\n"
     ]
    },
    {
     "name": "stdout",
     "output_type": "stream",
     "text": [
      "POF\n"
     ]
    },
    {
     "name": "stderr",
     "output_type": "stream",
     "text": [
      "0% [##############################] 100% | ETA: 00:00:00\n",
      "Total time elapsed: 00:00:02\n"
     ]
    },
    {
     "name": "stdout",
     "output_type": "stream",
     "text": [
      "POF\n"
     ]
    },
    {
     "name": "stderr",
     "output_type": "stream",
     "text": [
      "0% [##############################] 100% | ETA: 00:00:00\n",
      "Total time elapsed: 00:00:05\n"
     ]
    },
    {
     "name": "stdout",
     "output_type": "stream",
     "text": [
      "TA\n"
     ]
    },
    {
     "name": "stderr",
     "output_type": "stream",
     "text": [
      "0% [##############################] 100% | ETA: 00:00:00\n",
      "Total time elapsed: 00:00:02\n"
     ]
    },
    {
     "name": "stdout",
     "output_type": "stream",
     "text": [
      "TA\n"
     ]
    },
    {
     "name": "stderr",
     "output_type": "stream",
     "text": [
      "0% [##############################] 100% | ETA: 00:00:00\n",
      "Total time elapsed: 00:00:05\n"
     ]
    },
    {
     "name": "stdout",
     "output_type": "stream",
     "text": [
      "TET\n"
     ]
    },
    {
     "name": "stderr",
     "output_type": "stream",
     "text": [
      "0% [##############################] 100% | ETA: 00:00:00\n",
      "Total time elapsed: 00:00:02\n"
     ]
    },
    {
     "name": "stdout",
     "output_type": "stream",
     "text": [
      "TET\n"
     ]
    },
    {
     "name": "stderr",
     "output_type": "stream",
     "text": [
      "0% [##############################] 100% | ETA: 00:00:00\n",
      "Total time elapsed: 00:00:06\n"
     ]
    },
    {
     "name": "stdout",
     "output_type": "stream",
     "text": [
      "ULO\n"
     ]
    },
    {
     "name": "stderr",
     "output_type": "stream",
     "text": [
      "0% [##############################] 100% | ETA: 00:00:00\n",
      "Total time elapsed: 00:00:02\n"
     ]
    },
    {
     "name": "stdout",
     "output_type": "stream",
     "text": [
      "ULO\n"
     ]
    },
    {
     "name": "stderr",
     "output_type": "stream",
     "text": [
      "0% [##############################] 100% | ETA: 00:00:00\n",
      "Total time elapsed: 00:00:05\n"
     ]
    },
    {
     "name": "stdout",
     "output_type": "stream",
     "text": [
      "WD\n"
     ]
    },
    {
     "name": "stderr",
     "output_type": "stream",
     "text": [
      "0% [##############################] 100% | ETA: 00:00:00\n",
      "Total time elapsed: 00:00:02\n"
     ]
    },
    {
     "name": "stdout",
     "output_type": "stream",
     "text": [
      "WD\n"
     ]
    },
    {
     "name": "stderr",
     "output_type": "stream",
     "text": [
      "0% [##############################] 100% | ETA: 00:00:00\n",
      "Total time elapsed: 00:00:05\n"
     ]
    },
    {
     "name": "stdout",
     "output_type": "stream",
     "text": [
      "ALO\n"
     ]
    },
    {
     "name": "stderr",
     "output_type": "stream",
     "text": [
      "0% [##############################] 100% | ETA: 00:00:00\n",
      "Total time elapsed: 00:00:02\n"
     ]
    },
    {
     "name": "stdout",
     "output_type": "stream",
     "text": [
      "ALO\n"
     ]
    },
    {
     "name": "stderr",
     "output_type": "stream",
     "text": [
      "0% [##############################] 100% | ETA: 00:00:00\n",
      "Total time elapsed: 00:00:05\n"
     ]
    },
    {
     "name": "stdout",
     "output_type": "stream",
     "text": [
      "CC\n"
     ]
    },
    {
     "name": "stderr",
     "output_type": "stream",
     "text": [
      "0% [##############################] 100% | ETA: 00:00:00\n",
      "Total time elapsed: 00:00:02\n"
     ]
    },
    {
     "name": "stdout",
     "output_type": "stream",
     "text": [
      "CC\n"
     ]
    },
    {
     "name": "stderr",
     "output_type": "stream",
     "text": [
      "0% [##############################] 100% | ETA: 00:00:00\n",
      "Total time elapsed: 00:00:05\n"
     ]
    },
    {
     "name": "stdout",
     "output_type": "stream",
     "text": [
      "FD\n"
     ]
    },
    {
     "name": "stderr",
     "output_type": "stream",
     "text": [
      "0% [##############################] 100% | ETA: 00:00:00\n",
      "Total time elapsed: 00:00:02\n"
     ]
    },
    {
     "name": "stdout",
     "output_type": "stream",
     "text": [
      "FD\n"
     ]
    },
    {
     "name": "stderr",
     "output_type": "stream",
     "text": [
      "0% [##############################] 100% | ETA: 00:00:00\n",
      "Total time elapsed: 00:00:05\n"
     ]
    },
    {
     "name": "stdout",
     "output_type": "stream",
     "text": [
      "FET\n"
     ]
    },
    {
     "name": "stderr",
     "output_type": "stream",
     "text": [
      "0% [##############################] 100% | ETA: 00:00:00\n",
      "Total time elapsed: 00:00:02\n"
     ]
    },
    {
     "name": "stdout",
     "output_type": "stream",
     "text": [
      "FET\n"
     ]
    },
    {
     "name": "stderr",
     "output_type": "stream",
     "text": [
      "0% [##############################] 100% | ETA: 00:00:00\n",
      "Total time elapsed: 00:00:06\n"
     ]
    },
    {
     "name": "stdout",
     "output_type": "stream",
     "text": [
      "FE\n"
     ]
    },
    {
     "name": "stderr",
     "output_type": "stream",
     "text": [
      "0% [##############################] 100% | ETA: 00:00:00\n",
      "Total time elapsed: 00:00:02\n"
     ]
    },
    {
     "name": "stdout",
     "output_type": "stream",
     "text": [
      "FE\n"
     ]
    },
    {
     "name": "stderr",
     "output_type": "stream",
     "text": [
      "0% [##############################] 100% | ETA: 00:00:00\n",
      "Total time elapsed: 00:00:05\n"
     ]
    },
    {
     "name": "stdout",
     "output_type": "stream",
     "text": [
      "HT\n"
     ]
    },
    {
     "name": "stderr",
     "output_type": "stream",
     "text": [
      "0% [##############################] 100% | ETA: 00:00:00\n",
      "Total time elapsed: 00:00:02\n"
     ]
    },
    {
     "name": "stdout",
     "output_type": "stream",
     "text": [
      "HT\n"
     ]
    },
    {
     "name": "stderr",
     "output_type": "stream",
     "text": [
      "0% [##############################] 100% | ETA: 00:00:00\n",
      "Total time elapsed: 00:00:06\n"
     ]
    },
    {
     "name": "stdout",
     "output_type": "stream",
     "text": [
      "IR\n"
     ]
    },
    {
     "name": "stderr",
     "output_type": "stream",
     "text": [
      "0% [##############################] 100% | ETA: 00:00:00\n",
      "Total time elapsed: 00:00:02\n"
     ]
    },
    {
     "name": "stdout",
     "output_type": "stream",
     "text": [
      "IR\n"
     ]
    },
    {
     "name": "stderr",
     "output_type": "stream",
     "text": [
      "0% [##############################] 100% | ETA: 00:00:00\n",
      "Total time elapsed: 00:00:05\n"
     ]
    },
    {
     "name": "stdout",
     "output_type": "stream",
     "text": [
      "MET\n"
     ]
    },
    {
     "name": "stderr",
     "output_type": "stream",
     "text": [
      "0% [##############################] 100% | ETA: 00:00:00\n",
      "Total time elapsed: 00:00:02\n"
     ]
    },
    {
     "name": "stdout",
     "output_type": "stream",
     "text": [
      "MET\n"
     ]
    },
    {
     "name": "stderr",
     "output_type": "stream",
     "text": [
      "0% [##############################] 100% | ETA: 00:00:00\n",
      "Total time elapsed: 00:00:05\n"
     ]
    },
    {
     "name": "stdout",
     "output_type": "stream",
     "text": [
      "ME\n"
     ]
    },
    {
     "name": "stderr",
     "output_type": "stream",
     "text": [
      "0% [##############################] 100% | ETA: 00:00:00\n",
      "Total time elapsed: 00:00:02\n"
     ]
    },
    {
     "name": "stdout",
     "output_type": "stream",
     "text": [
      "ME\n"
     ]
    },
    {
     "name": "stderr",
     "output_type": "stream",
     "text": [
      "0% [##############################] 100% | ETA: 00:00:00\n",
      "Total time elapsed: 00:00:05\n"
     ]
    },
    {
     "name": "stdout",
     "output_type": "stream",
     "text": [
      "MD\n"
     ]
    },
    {
     "name": "stderr",
     "output_type": "stream",
     "text": [
      "0% [##############################] 100% | ETA: 00:00:00\n",
      "Total time elapsed: 00:00:02\n"
     ]
    },
    {
     "name": "stdout",
     "output_type": "stream",
     "text": [
      "MD\n"
     ]
    },
    {
     "name": "stderr",
     "output_type": "stream",
     "text": [
      "0% [##############################] 100% | ETA: 00:00:00\n",
      "Total time elapsed: 00:00:05\n"
     ]
    },
    {
     "name": "stdout",
     "output_type": "stream",
     "text": [
      "NLT\n"
     ]
    },
    {
     "name": "stderr",
     "output_type": "stream",
     "text": [
      "0% [##############################] 100% | ETA: 00:00:00\n",
      "Total time elapsed: 00:00:02\n"
     ]
    },
    {
     "name": "stdout",
     "output_type": "stream",
     "text": [
      "NLT\n"
     ]
    },
    {
     "name": "stderr",
     "output_type": "stream",
     "text": [
      "0% [##############################] 100% | ETA: 00:00:00\n",
      "Total time elapsed: 00:00:05\n"
     ]
    },
    {
     "name": "stdout",
     "output_type": "stream",
     "text": [
      "OD\n"
     ]
    },
    {
     "name": "stderr",
     "output_type": "stream",
     "text": [
      "0% [##############################] 100% | ETA: 00:00:00\n",
      "Total time elapsed: 00:00:02\n"
     ]
    },
    {
     "name": "stdout",
     "output_type": "stream",
     "text": [
      "OD\n"
     ]
    },
    {
     "name": "stderr",
     "output_type": "stream",
     "text": [
      "0% [##############################] 100% | ETA: 00:00:00\n",
      "Total time elapsed: 00:00:05\n"
     ]
    },
    {
     "name": "stdout",
     "output_type": "stream",
     "text": [
      "PMF\n"
     ]
    },
    {
     "name": "stderr",
     "output_type": "stream",
     "text": [
      "0% [##############################] 100% | ETA: 00:00:00\n",
      "Total time elapsed: 00:00:02\n"
     ]
    },
    {
     "name": "stdout",
     "output_type": "stream",
     "text": [
      "PMF\n"
     ]
    },
    {
     "name": "stderr",
     "output_type": "stream",
     "text": [
      "0% [##############################] 100% | ETA: 00:00:00\n",
      "Total time elapsed: 00:00:05\n"
     ]
    },
    {
     "name": "stdout",
     "output_type": "stream",
     "text": [
      "POF\n"
     ]
    },
    {
     "name": "stderr",
     "output_type": "stream",
     "text": [
      "0% [##############################] 100% | ETA: 00:00:00\n",
      "Total time elapsed: 00:00:02\n"
     ]
    },
    {
     "name": "stdout",
     "output_type": "stream",
     "text": [
      "POF\n"
     ]
    },
    {
     "name": "stderr",
     "output_type": "stream",
     "text": [
      "0% [##############################] 100% | ETA: 00:00:00\n",
      "Total time elapsed: 00:00:05\n"
     ]
    },
    {
     "name": "stdout",
     "output_type": "stream",
     "text": [
      "TA\n"
     ]
    },
    {
     "name": "stderr",
     "output_type": "stream",
     "text": [
      "0% [##############################] 100% | ETA: 00:00:00\n",
      "Total time elapsed: 00:00:02\n"
     ]
    },
    {
     "name": "stdout",
     "output_type": "stream",
     "text": [
      "TA\n"
     ]
    },
    {
     "name": "stderr",
     "output_type": "stream",
     "text": [
      "0% [##############################] 100% | ETA: 00:00:00\n",
      "Total time elapsed: 00:00:05\n"
     ]
    },
    {
     "name": "stdout",
     "output_type": "stream",
     "text": [
      "TET\n"
     ]
    },
    {
     "name": "stderr",
     "output_type": "stream",
     "text": [
      "0% [##############################] 100% | ETA: 00:00:00\n",
      "Total time elapsed: 00:00:02\n"
     ]
    },
    {
     "name": "stdout",
     "output_type": "stream",
     "text": [
      "TET\n"
     ]
    },
    {
     "name": "stderr",
     "output_type": "stream",
     "text": [
      "0% [##############################] 100% | ETA: 00:00:00\n",
      "Total time elapsed: 00:00:06\n"
     ]
    },
    {
     "name": "stdout",
     "output_type": "stream",
     "text": [
      "ULO\n"
     ]
    },
    {
     "name": "stderr",
     "output_type": "stream",
     "text": [
      "0% [##############################] 100% | ETA: 00:00:00\n",
      "Total time elapsed: 00:00:02\n"
     ]
    },
    {
     "name": "stdout",
     "output_type": "stream",
     "text": [
      "ULO\n"
     ]
    },
    {
     "name": "stderr",
     "output_type": "stream",
     "text": [
      "0% [##############################] 100% | ETA: 00:00:00\n",
      "Total time elapsed: 00:00:05\n"
     ]
    },
    {
     "name": "stdout",
     "output_type": "stream",
     "text": [
      "WD\n"
     ]
    },
    {
     "name": "stderr",
     "output_type": "stream",
     "text": [
      "0% [##############################] 100% | ETA: 00:00:00\n",
      "Total time elapsed: 00:00:02\n"
     ]
    },
    {
     "name": "stdout",
     "output_type": "stream",
     "text": [
      "WD\n"
     ]
    },
    {
     "name": "stderr",
     "output_type": "stream",
     "text": [
      "0% [##############################] 100% | ETA: 00:00:00\n",
      "Total time elapsed: 00:00:05\n"
     ]
    },
    {
     "name": "stdout",
     "output_type": "stream",
     "text": [
      "ALO\n"
     ]
    },
    {
     "name": "stderr",
     "output_type": "stream",
     "text": [
      "0% [##############################] 100% | ETA: 00:00:00\n",
      "Total time elapsed: 00:00:02\n"
     ]
    },
    {
     "name": "stdout",
     "output_type": "stream",
     "text": [
      "ALO\n"
     ]
    },
    {
     "name": "stderr",
     "output_type": "stream",
     "text": [
      "0% [##############################] 100% | ETA: 00:00:00\n",
      "Total time elapsed: 00:00:05\n"
     ]
    },
    {
     "name": "stdout",
     "output_type": "stream",
     "text": [
      "CC\n"
     ]
    },
    {
     "name": "stderr",
     "output_type": "stream",
     "text": [
      "0% [##############################] 100% | ETA: 00:00:00\n",
      "Total time elapsed: 00:00:02\n"
     ]
    },
    {
     "name": "stdout",
     "output_type": "stream",
     "text": [
      "CC\n"
     ]
    },
    {
     "name": "stderr",
     "output_type": "stream",
     "text": [
      "0% [##############################] 100% | ETA: 00:00:00\n",
      "Total time elapsed: 00:00:05\n"
     ]
    },
    {
     "name": "stdout",
     "output_type": "stream",
     "text": [
      "FD\n"
     ]
    },
    {
     "name": "stderr",
     "output_type": "stream",
     "text": [
      "0% [##############################] 100% | ETA: 00:00:00\n",
      "Total time elapsed: 00:00:02\n"
     ]
    },
    {
     "name": "stdout",
     "output_type": "stream",
     "text": [
      "FD\n"
     ]
    },
    {
     "name": "stderr",
     "output_type": "stream",
     "text": [
      "0% [##############################] 100% | ETA: 00:00:00\n",
      "Total time elapsed: 00:00:05\n"
     ]
    },
    {
     "name": "stdout",
     "output_type": "stream",
     "text": [
      "FET\n"
     ]
    },
    {
     "name": "stderr",
     "output_type": "stream",
     "text": [
      "0% [##############################] 100% | ETA: 00:00:00\n",
      "Total time elapsed: 00:00:02\n"
     ]
    },
    {
     "name": "stdout",
     "output_type": "stream",
     "text": [
      "FET\n"
     ]
    },
    {
     "name": "stderr",
     "output_type": "stream",
     "text": [
      "0% [##############################] 100% | ETA: 00:00:00\n",
      "Total time elapsed: 00:00:06\n"
     ]
    },
    {
     "name": "stdout",
     "output_type": "stream",
     "text": [
      "FE\n"
     ]
    },
    {
     "name": "stderr",
     "output_type": "stream",
     "text": [
      "0% [##############################] 100% | ETA: 00:00:00\n",
      "Total time elapsed: 00:00:02\n"
     ]
    },
    {
     "name": "stdout",
     "output_type": "stream",
     "text": [
      "FE\n"
     ]
    },
    {
     "name": "stderr",
     "output_type": "stream",
     "text": [
      "0% [##############################] 100% | ETA: 00:00:00\n",
      "Total time elapsed: 00:00:05\n"
     ]
    },
    {
     "name": "stdout",
     "output_type": "stream",
     "text": [
      "HT\n"
     ]
    },
    {
     "name": "stderr",
     "output_type": "stream",
     "text": [
      "0% [##############################] 100% | ETA: 00:00:00\n",
      "Total time elapsed: 00:00:02\n"
     ]
    },
    {
     "name": "stdout",
     "output_type": "stream",
     "text": [
      "HT\n"
     ]
    },
    {
     "name": "stderr",
     "output_type": "stream",
     "text": [
      "0% [##############################] 100% | ETA: 00:00:00\n",
      "Total time elapsed: 00:00:06\n"
     ]
    },
    {
     "name": "stdout",
     "output_type": "stream",
     "text": [
      "IR\n"
     ]
    },
    {
     "name": "stderr",
     "output_type": "stream",
     "text": [
      "0% [##############################] 100% | ETA: 00:00:00\n",
      "Total time elapsed: 00:00:02\n"
     ]
    },
    {
     "name": "stdout",
     "output_type": "stream",
     "text": [
      "IR\n"
     ]
    },
    {
     "name": "stderr",
     "output_type": "stream",
     "text": [
      "0% [##############################] 100% | ETA: 00:00:00\n",
      "Total time elapsed: 00:00:05\n"
     ]
    },
    {
     "name": "stdout",
     "output_type": "stream",
     "text": [
      "MET\n"
     ]
    },
    {
     "name": "stderr",
     "output_type": "stream",
     "text": [
      "0% [##############################] 100% | ETA: 00:00:00\n",
      "Total time elapsed: 00:00:02\n"
     ]
    },
    {
     "name": "stdout",
     "output_type": "stream",
     "text": [
      "MET\n"
     ]
    },
    {
     "name": "stderr",
     "output_type": "stream",
     "text": [
      "0% [##############################] 100% | ETA: 00:00:00\n",
      "Total time elapsed: 00:00:06\n"
     ]
    },
    {
     "name": "stdout",
     "output_type": "stream",
     "text": [
      "ME\n"
     ]
    },
    {
     "name": "stderr",
     "output_type": "stream",
     "text": [
      "0% [##############################] 100% | ETA: 00:00:00\n",
      "Total time elapsed: 00:00:02\n"
     ]
    },
    {
     "name": "stdout",
     "output_type": "stream",
     "text": [
      "ME\n"
     ]
    },
    {
     "name": "stderr",
     "output_type": "stream",
     "text": [
      "0% [##############################] 100% | ETA: 00:00:00\n",
      "Total time elapsed: 00:00:05\n"
     ]
    },
    {
     "name": "stdout",
     "output_type": "stream",
     "text": [
      "MD\n"
     ]
    },
    {
     "name": "stderr",
     "output_type": "stream",
     "text": [
      "0% [##############################] 100% | ETA: 00:00:00\n",
      "Total time elapsed: 00:00:02\n"
     ]
    },
    {
     "name": "stdout",
     "output_type": "stream",
     "text": [
      "MD\n"
     ]
    },
    {
     "name": "stderr",
     "output_type": "stream",
     "text": [
      "0% [##############################] 100% | ETA: 00:00:00\n",
      "Total time elapsed: 00:00:05\n"
     ]
    },
    {
     "name": "stdout",
     "output_type": "stream",
     "text": [
      "NLT\n"
     ]
    },
    {
     "name": "stderr",
     "output_type": "stream",
     "text": [
      "0% [##############################] 100% | ETA: 00:00:00\n",
      "Total time elapsed: 00:00:02\n"
     ]
    },
    {
     "name": "stdout",
     "output_type": "stream",
     "text": [
      "NLT\n"
     ]
    },
    {
     "name": "stderr",
     "output_type": "stream",
     "text": [
      "0% [##############################] 100% | ETA: 00:00:00\n",
      "Total time elapsed: 00:00:05\n"
     ]
    },
    {
     "name": "stdout",
     "output_type": "stream",
     "text": [
      "OD\n"
     ]
    },
    {
     "name": "stderr",
     "output_type": "stream",
     "text": [
      "0% [##############################] 100% | ETA: 00:00:00\n",
      "Total time elapsed: 00:00:02\n"
     ]
    },
    {
     "name": "stdout",
     "output_type": "stream",
     "text": [
      "OD\n"
     ]
    },
    {
     "name": "stderr",
     "output_type": "stream",
     "text": [
      "0% [##############################] 100% | ETA: 00:00:00\n",
      "Total time elapsed: 00:00:05\n"
     ]
    },
    {
     "name": "stdout",
     "output_type": "stream",
     "text": [
      "PMF\n"
     ]
    },
    {
     "name": "stderr",
     "output_type": "stream",
     "text": [
      "0% [##############################] 100% | ETA: 00:00:00\n",
      "Total time elapsed: 00:00:02\n"
     ]
    },
    {
     "name": "stdout",
     "output_type": "stream",
     "text": [
      "PMF\n"
     ]
    },
    {
     "name": "stderr",
     "output_type": "stream",
     "text": [
      "0% [##############################] 100% | ETA: 00:00:00\n",
      "Total time elapsed: 00:00:05\n"
     ]
    },
    {
     "name": "stdout",
     "output_type": "stream",
     "text": [
      "POF\n"
     ]
    },
    {
     "name": "stderr",
     "output_type": "stream",
     "text": [
      "0% [##############################] 100% | ETA: 00:00:00\n",
      "Total time elapsed: 00:00:02\n"
     ]
    },
    {
     "name": "stdout",
     "output_type": "stream",
     "text": [
      "POF\n"
     ]
    },
    {
     "name": "stderr",
     "output_type": "stream",
     "text": [
      "0% [##############################] 100% | ETA: 00:00:00\n",
      "Total time elapsed: 00:00:05\n"
     ]
    },
    {
     "name": "stdout",
     "output_type": "stream",
     "text": [
      "TA\n"
     ]
    },
    {
     "name": "stderr",
     "output_type": "stream",
     "text": [
      "0% [##############################] 100% | ETA: 00:00:00\n",
      "Total time elapsed: 00:00:02\n"
     ]
    },
    {
     "name": "stdout",
     "output_type": "stream",
     "text": [
      "TA\n"
     ]
    },
    {
     "name": "stderr",
     "output_type": "stream",
     "text": [
      "0% [##############################] 100% | ETA: 00:00:00\n",
      "Total time elapsed: 00:00:05\n"
     ]
    },
    {
     "name": "stdout",
     "output_type": "stream",
     "text": [
      "TET\n"
     ]
    },
    {
     "name": "stderr",
     "output_type": "stream",
     "text": [
      "0% [##############################] 100% | ETA: 00:00:00\n",
      "Total time elapsed: 00:00:02\n"
     ]
    },
    {
     "name": "stdout",
     "output_type": "stream",
     "text": [
      "TET\n"
     ]
    },
    {
     "name": "stderr",
     "output_type": "stream",
     "text": [
      "0% [##############################] 100% | ETA: 00:00:00\n",
      "Total time elapsed: 00:00:06\n"
     ]
    },
    {
     "name": "stdout",
     "output_type": "stream",
     "text": [
      "ULO\n"
     ]
    },
    {
     "name": "stderr",
     "output_type": "stream",
     "text": [
      "0% [##############################] 100% | ETA: 00:00:00\n",
      "Total time elapsed: 00:00:02\n"
     ]
    },
    {
     "name": "stdout",
     "output_type": "stream",
     "text": [
      "ULO\n"
     ]
    },
    {
     "name": "stderr",
     "output_type": "stream",
     "text": [
      "0% [##############################] 100% | ETA: 00:00:00\n",
      "Total time elapsed: 00:00:05\n"
     ]
    },
    {
     "name": "stdout",
     "output_type": "stream",
     "text": [
      "WD\n"
     ]
    },
    {
     "name": "stderr",
     "output_type": "stream",
     "text": [
      "0% [##############################] 100% | ETA: 00:00:00\n",
      "Total time elapsed: 00:00:02\n"
     ]
    },
    {
     "name": "stdout",
     "output_type": "stream",
     "text": [
      "WD\n"
     ]
    },
    {
     "name": "stderr",
     "output_type": "stream",
     "text": [
      "0% [##############################] 100% | ETA: 00:00:00\n",
      "Total time elapsed: 00:00:05\n"
     ]
    },
    {
     "name": "stdout",
     "output_type": "stream",
     "text": [
      "ALO\n"
     ]
    },
    {
     "name": "stderr",
     "output_type": "stream",
     "text": [
      "0% [##############################] 100% | ETA: 00:00:00\n",
      "Total time elapsed: 00:00:02\n"
     ]
    },
    {
     "name": "stdout",
     "output_type": "stream",
     "text": [
      "ALO\n"
     ]
    },
    {
     "name": "stderr",
     "output_type": "stream",
     "text": [
      "0% [##############################] 100% | ETA: 00:00:00\n",
      "Total time elapsed: 00:00:05\n"
     ]
    },
    {
     "name": "stdout",
     "output_type": "stream",
     "text": [
      "CC\n"
     ]
    },
    {
     "name": "stderr",
     "output_type": "stream",
     "text": [
      "0% [##############################] 100% | ETA: 00:00:00\n",
      "Total time elapsed: 00:00:02\n"
     ]
    },
    {
     "name": "stdout",
     "output_type": "stream",
     "text": [
      "CC\n"
     ]
    },
    {
     "name": "stderr",
     "output_type": "stream",
     "text": [
      "0% [##############################] 100% | ETA: 00:00:00\n",
      "Total time elapsed: 00:00:05\n"
     ]
    },
    {
     "name": "stdout",
     "output_type": "stream",
     "text": [
      "FD\n"
     ]
    },
    {
     "name": "stderr",
     "output_type": "stream",
     "text": [
      "0% [##############################] 100% | ETA: 00:00:00\n",
      "Total time elapsed: 00:00:02\n"
     ]
    },
    {
     "name": "stdout",
     "output_type": "stream",
     "text": [
      "FD\n"
     ]
    },
    {
     "name": "stderr",
     "output_type": "stream",
     "text": [
      "0% [##############################] 100% | ETA: 00:00:00\n",
      "Total time elapsed: 00:00:05\n"
     ]
    },
    {
     "name": "stdout",
     "output_type": "stream",
     "text": [
      "FET\n"
     ]
    },
    {
     "name": "stderr",
     "output_type": "stream",
     "text": [
      "0% [##############################] 100% | ETA: 00:00:00\n",
      "Total time elapsed: 00:00:02\n"
     ]
    },
    {
     "name": "stdout",
     "output_type": "stream",
     "text": [
      "FET\n"
     ]
    },
    {
     "name": "stderr",
     "output_type": "stream",
     "text": [
      "0% [##############################] 100% | ETA: 00:00:00\n",
      "Total time elapsed: 00:00:06\n"
     ]
    },
    {
     "name": "stdout",
     "output_type": "stream",
     "text": [
      "FE\n"
     ]
    },
    {
     "name": "stderr",
     "output_type": "stream",
     "text": [
      "0% [##############################] 100% | ETA: 00:00:00\n",
      "Total time elapsed: 00:00:02\n"
     ]
    },
    {
     "name": "stdout",
     "output_type": "stream",
     "text": [
      "FE\n"
     ]
    },
    {
     "name": "stderr",
     "output_type": "stream",
     "text": [
      "0% [##############################] 100% | ETA: 00:00:00\n",
      "Total time elapsed: 00:00:05\n"
     ]
    },
    {
     "name": "stdout",
     "output_type": "stream",
     "text": [
      "HT\n"
     ]
    },
    {
     "name": "stderr",
     "output_type": "stream",
     "text": [
      "0% [##############################] 100% | ETA: 00:00:00\n",
      "Total time elapsed: 00:00:02\n"
     ]
    },
    {
     "name": "stdout",
     "output_type": "stream",
     "text": [
      "HT\n"
     ]
    },
    {
     "name": "stderr",
     "output_type": "stream",
     "text": [
      "0% [##############################] 100% | ETA: 00:00:00\n",
      "Total time elapsed: 00:00:06\n"
     ]
    },
    {
     "name": "stdout",
     "output_type": "stream",
     "text": [
      "IR\n"
     ]
    },
    {
     "name": "stderr",
     "output_type": "stream",
     "text": [
      "0% [##############################] 100% | ETA: 00:00:00\n",
      "Total time elapsed: 00:00:02\n"
     ]
    },
    {
     "name": "stdout",
     "output_type": "stream",
     "text": [
      "IR\n"
     ]
    },
    {
     "name": "stderr",
     "output_type": "stream",
     "text": [
      "0% [##############################] 100% | ETA: 00:00:00\n",
      "Total time elapsed: 00:00:05\n"
     ]
    },
    {
     "name": "stdout",
     "output_type": "stream",
     "text": [
      "MET\n"
     ]
    },
    {
     "name": "stderr",
     "output_type": "stream",
     "text": [
      "0% [##############################] 100% | ETA: 00:00:00\n",
      "Total time elapsed: 00:00:02\n"
     ]
    },
    {
     "name": "stdout",
     "output_type": "stream",
     "text": [
      "MET\n"
     ]
    },
    {
     "name": "stderr",
     "output_type": "stream",
     "text": [
      "0% [##############################] 100% | ETA: 00:00:00\n",
      "Total time elapsed: 00:00:06\n"
     ]
    },
    {
     "name": "stdout",
     "output_type": "stream",
     "text": [
      "ME\n"
     ]
    },
    {
     "name": "stderr",
     "output_type": "stream",
     "text": [
      "0% [##############################] 100% | ETA: 00:00:00\n",
      "Total time elapsed: 00:00:02\n"
     ]
    },
    {
     "name": "stdout",
     "output_type": "stream",
     "text": [
      "ME\n"
     ]
    },
    {
     "name": "stderr",
     "output_type": "stream",
     "text": [
      "0% [##############################] 100% | ETA: 00:00:00\n",
      "Total time elapsed: 00:00:05\n"
     ]
    },
    {
     "name": "stdout",
     "output_type": "stream",
     "text": [
      "MD\n"
     ]
    },
    {
     "name": "stderr",
     "output_type": "stream",
     "text": [
      "0% [##############################] 100% | ETA: 00:00:00\n",
      "Total time elapsed: 00:00:02\n"
     ]
    },
    {
     "name": "stdout",
     "output_type": "stream",
     "text": [
      "MD\n"
     ]
    },
    {
     "name": "stderr",
     "output_type": "stream",
     "text": [
      "0% [##############################] 100% | ETA: 00:00:00\n",
      "Total time elapsed: 00:00:05\n"
     ]
    },
    {
     "name": "stdout",
     "output_type": "stream",
     "text": [
      "NLT\n"
     ]
    },
    {
     "name": "stderr",
     "output_type": "stream",
     "text": [
      "0% [##############################] 100% | ETA: 00:00:00\n",
      "Total time elapsed: 00:00:02\n"
     ]
    },
    {
     "name": "stdout",
     "output_type": "stream",
     "text": [
      "NLT\n"
     ]
    },
    {
     "name": "stderr",
     "output_type": "stream",
     "text": [
      "0% [##############################] 100% | ETA: 00:00:00\n",
      "Total time elapsed: 00:00:05\n"
     ]
    },
    {
     "name": "stdout",
     "output_type": "stream",
     "text": [
      "OD\n"
     ]
    },
    {
     "name": "stderr",
     "output_type": "stream",
     "text": [
      "0% [##############################] 100% | ETA: 00:00:00\n",
      "Total time elapsed: 00:00:02\n"
     ]
    },
    {
     "name": "stdout",
     "output_type": "stream",
     "text": [
      "OD\n"
     ]
    },
    {
     "name": "stderr",
     "output_type": "stream",
     "text": [
      "0% [##############################] 100% | ETA: 00:00:00\n",
      "Total time elapsed: 00:00:05\n"
     ]
    },
    {
     "name": "stdout",
     "output_type": "stream",
     "text": [
      "PMF\n"
     ]
    },
    {
     "name": "stderr",
     "output_type": "stream",
     "text": [
      "0% [##############################] 100% | ETA: 00:00:00\n",
      "Total time elapsed: 00:00:02\n"
     ]
    },
    {
     "name": "stdout",
     "output_type": "stream",
     "text": [
      "PMF\n"
     ]
    },
    {
     "name": "stderr",
     "output_type": "stream",
     "text": [
      "0% [##############################] 100% | ETA: 00:00:00\n",
      "Total time elapsed: 00:00:05\n"
     ]
    },
    {
     "name": "stdout",
     "output_type": "stream",
     "text": [
      "POF\n"
     ]
    },
    {
     "name": "stderr",
     "output_type": "stream",
     "text": [
      "0% [##############################] 100% | ETA: 00:00:00\n",
      "Total time elapsed: 00:00:02\n"
     ]
    },
    {
     "name": "stdout",
     "output_type": "stream",
     "text": [
      "POF\n"
     ]
    },
    {
     "name": "stderr",
     "output_type": "stream",
     "text": [
      "0% [##############################] 100% | ETA: 00:00:00\n",
      "Total time elapsed: 00:00:05\n"
     ]
    },
    {
     "name": "stdout",
     "output_type": "stream",
     "text": [
      "TA\n"
     ]
    },
    {
     "name": "stderr",
     "output_type": "stream",
     "text": [
      "0% [##############################] 100% | ETA: 00:00:00\n",
      "Total time elapsed: 00:00:02\n"
     ]
    },
    {
     "name": "stdout",
     "output_type": "stream",
     "text": [
      "TA\n"
     ]
    },
    {
     "name": "stderr",
     "output_type": "stream",
     "text": [
      "0% [##############################] 100% | ETA: 00:00:00\n",
      "Total time elapsed: 00:00:05\n"
     ]
    },
    {
     "name": "stdout",
     "output_type": "stream",
     "text": [
      "TET\n"
     ]
    },
    {
     "name": "stderr",
     "output_type": "stream",
     "text": [
      "0% [##############################] 100% | ETA: 00:00:00\n",
      "Total time elapsed: 00:00:02\n"
     ]
    },
    {
     "name": "stdout",
     "output_type": "stream",
     "text": [
      "TET\n"
     ]
    },
    {
     "name": "stderr",
     "output_type": "stream",
     "text": [
      "0% [##############################] 100% | ETA: 00:00:00\n",
      "Total time elapsed: 00:00:06\n"
     ]
    },
    {
     "name": "stdout",
     "output_type": "stream",
     "text": [
      "ULO\n"
     ]
    },
    {
     "name": "stderr",
     "output_type": "stream",
     "text": [
      "0% [##############################] 100% | ETA: 00:00:00\n",
      "Total time elapsed: 00:00:02\n"
     ]
    },
    {
     "name": "stdout",
     "output_type": "stream",
     "text": [
      "ULO\n"
     ]
    },
    {
     "name": "stderr",
     "output_type": "stream",
     "text": [
      "0% [##############################] 100% | ETA: 00:00:00\n",
      "Total time elapsed: 00:00:05\n"
     ]
    },
    {
     "name": "stdout",
     "output_type": "stream",
     "text": [
      "WD\n"
     ]
    },
    {
     "name": "stderr",
     "output_type": "stream",
     "text": [
      "0% [##############################] 100% | ETA: 00:00:00\n",
      "Total time elapsed: 00:00:02\n"
     ]
    },
    {
     "name": "stdout",
     "output_type": "stream",
     "text": [
      "WD\n"
     ]
    },
    {
     "name": "stderr",
     "output_type": "stream",
     "text": [
      "0% [##############################] 100% | ETA: 00:00:00\n",
      "Total time elapsed: 00:00:05\n"
     ]
    },
    {
     "name": "stdout",
     "output_type": "stream",
     "text": [
      "ALO\n"
     ]
    },
    {
     "name": "stderr",
     "output_type": "stream",
     "text": [
      "0% [##############################] 100% | ETA: 00:00:00\n",
      "Total time elapsed: 00:00:02\n"
     ]
    },
    {
     "name": "stdout",
     "output_type": "stream",
     "text": [
      "ALO\n"
     ]
    },
    {
     "name": "stderr",
     "output_type": "stream",
     "text": [
      "0% [##############################] 100% | ETA: 00:00:00\n",
      "Total time elapsed: 00:00:05\n"
     ]
    },
    {
     "name": "stdout",
     "output_type": "stream",
     "text": [
      "CC\n"
     ]
    },
    {
     "name": "stderr",
     "output_type": "stream",
     "text": [
      "0% [##############################] 100% | ETA: 00:00:00\n",
      "Total time elapsed: 00:00:02\n"
     ]
    },
    {
     "name": "stdout",
     "output_type": "stream",
     "text": [
      "CC\n"
     ]
    },
    {
     "name": "stderr",
     "output_type": "stream",
     "text": [
      "0% [##############################] 100% | ETA: 00:00:00\n",
      "Total time elapsed: 00:00:05\n"
     ]
    },
    {
     "name": "stdout",
     "output_type": "stream",
     "text": [
      "FD\n"
     ]
    },
    {
     "name": "stderr",
     "output_type": "stream",
     "text": [
      "0% [##############################] 100% | ETA: 00:00:00\n",
      "Total time elapsed: 00:00:02\n"
     ]
    },
    {
     "name": "stdout",
     "output_type": "stream",
     "text": [
      "FD\n"
     ]
    },
    {
     "name": "stderr",
     "output_type": "stream",
     "text": [
      "0% [##############################] 100% | ETA: 00:00:00\n",
      "Total time elapsed: 00:00:05\n"
     ]
    },
    {
     "name": "stdout",
     "output_type": "stream",
     "text": [
      "FET\n"
     ]
    },
    {
     "name": "stderr",
     "output_type": "stream",
     "text": [
      "0% [##############################] 100% | ETA: 00:00:00\n",
      "Total time elapsed: 00:00:02\n"
     ]
    },
    {
     "name": "stdout",
     "output_type": "stream",
     "text": [
      "FET\n"
     ]
    },
    {
     "name": "stderr",
     "output_type": "stream",
     "text": [
      "0% [##############################] 100% | ETA: 00:00:00\n",
      "Total time elapsed: 00:00:06\n"
     ]
    },
    {
     "name": "stdout",
     "output_type": "stream",
     "text": [
      "FE\n"
     ]
    },
    {
     "name": "stderr",
     "output_type": "stream",
     "text": [
      "0% [##############################] 100% | ETA: 00:00:00\n",
      "Total time elapsed: 00:00:02\n"
     ]
    },
    {
     "name": "stdout",
     "output_type": "stream",
     "text": [
      "FE\n"
     ]
    },
    {
     "name": "stderr",
     "output_type": "stream",
     "text": [
      "0% [##############################] 100% | ETA: 00:00:00\n",
      "Total time elapsed: 00:00:05\n"
     ]
    },
    {
     "name": "stdout",
     "output_type": "stream",
     "text": [
      "HT\n"
     ]
    },
    {
     "name": "stderr",
     "output_type": "stream",
     "text": [
      "0% [##############################] 100% | ETA: 00:00:00\n",
      "Total time elapsed: 00:00:02\n"
     ]
    },
    {
     "name": "stdout",
     "output_type": "stream",
     "text": [
      "HT\n"
     ]
    },
    {
     "name": "stderr",
     "output_type": "stream",
     "text": [
      "0% [##############################] 100% | ETA: 00:00:00\n",
      "Total time elapsed: 00:00:05\n"
     ]
    },
    {
     "name": "stdout",
     "output_type": "stream",
     "text": [
      "IR\n"
     ]
    },
    {
     "name": "stderr",
     "output_type": "stream",
     "text": [
      "0% [##############################] 100% | ETA: 00:00:00\n",
      "Total time elapsed: 00:00:02\n"
     ]
    },
    {
     "name": "stdout",
     "output_type": "stream",
     "text": [
      "IR\n"
     ]
    },
    {
     "name": "stderr",
     "output_type": "stream",
     "text": [
      "0% [##############################] 100% | ETA: 00:00:00\n",
      "Total time elapsed: 00:00:05\n"
     ]
    },
    {
     "name": "stdout",
     "output_type": "stream",
     "text": [
      "MET\n"
     ]
    },
    {
     "name": "stderr",
     "output_type": "stream",
     "text": [
      "0% [##############################] 100% | ETA: 00:00:00\n",
      "Total time elapsed: 00:00:02\n"
     ]
    },
    {
     "name": "stdout",
     "output_type": "stream",
     "text": [
      "MET\n"
     ]
    },
    {
     "name": "stderr",
     "output_type": "stream",
     "text": [
      "0% [##############################] 100% | ETA: 00:00:00\n",
      "Total time elapsed: 00:00:06\n"
     ]
    },
    {
     "name": "stdout",
     "output_type": "stream",
     "text": [
      "ME\n"
     ]
    },
    {
     "name": "stderr",
     "output_type": "stream",
     "text": [
      "0% [##############################] 100% | ETA: 00:00:00\n",
      "Total time elapsed: 00:00:02\n"
     ]
    },
    {
     "name": "stdout",
     "output_type": "stream",
     "text": [
      "ME\n"
     ]
    },
    {
     "name": "stderr",
     "output_type": "stream",
     "text": [
      "0% [##############################] 100% | ETA: 00:00:00\n",
      "Total time elapsed: 00:00:05\n"
     ]
    },
    {
     "name": "stdout",
     "output_type": "stream",
     "text": [
      "MD\n"
     ]
    },
    {
     "name": "stderr",
     "output_type": "stream",
     "text": [
      "0% [##############################] 100% | ETA: 00:00:00\n",
      "Total time elapsed: 00:00:02\n"
     ]
    },
    {
     "name": "stdout",
     "output_type": "stream",
     "text": [
      "MD\n"
     ]
    },
    {
     "name": "stderr",
     "output_type": "stream",
     "text": [
      "0% [##############################] 100% | ETA: 00:00:00\n",
      "Total time elapsed: 00:00:05\n"
     ]
    },
    {
     "name": "stdout",
     "output_type": "stream",
     "text": [
      "NLT\n"
     ]
    },
    {
     "name": "stderr",
     "output_type": "stream",
     "text": [
      "0% [##############################] 100% | ETA: 00:00:00\n",
      "Total time elapsed: 00:00:02\n"
     ]
    },
    {
     "name": "stdout",
     "output_type": "stream",
     "text": [
      "NLT\n"
     ]
    },
    {
     "name": "stderr",
     "output_type": "stream",
     "text": [
      "0% [##############################] 100% | ETA: 00:00:00\n",
      "Total time elapsed: 00:00:05\n"
     ]
    },
    {
     "name": "stdout",
     "output_type": "stream",
     "text": [
      "OD\n"
     ]
    },
    {
     "name": "stderr",
     "output_type": "stream",
     "text": [
      "0% [##############################] 100% | ETA: 00:00:00\n",
      "Total time elapsed: 00:00:02\n"
     ]
    },
    {
     "name": "stdout",
     "output_type": "stream",
     "text": [
      "OD\n"
     ]
    },
    {
     "name": "stderr",
     "output_type": "stream",
     "text": [
      "0% [##############################] 100% | ETA: 00:00:00\n",
      "Total time elapsed: 00:00:05\n"
     ]
    },
    {
     "name": "stdout",
     "output_type": "stream",
     "text": [
      "PMF\n"
     ]
    },
    {
     "name": "stderr",
     "output_type": "stream",
     "text": [
      "0% [##############################] 100% | ETA: 00:00:00\n",
      "Total time elapsed: 00:00:02\n"
     ]
    },
    {
     "name": "stdout",
     "output_type": "stream",
     "text": [
      "PMF\n"
     ]
    },
    {
     "name": "stderr",
     "output_type": "stream",
     "text": [
      "0% [##############################] 100% | ETA: 00:00:00\n",
      "Total time elapsed: 00:00:05\n"
     ]
    },
    {
     "name": "stdout",
     "output_type": "stream",
     "text": [
      "POF\n"
     ]
    },
    {
     "name": "stderr",
     "output_type": "stream",
     "text": [
      "0% [##############################] 100% | ETA: 00:00:00\n",
      "Total time elapsed: 00:00:02\n"
     ]
    },
    {
     "name": "stdout",
     "output_type": "stream",
     "text": [
      "POF\n"
     ]
    },
    {
     "name": "stderr",
     "output_type": "stream",
     "text": [
      "0% [##############################] 100% | ETA: 00:00:00\n",
      "Total time elapsed: 00:00:05\n"
     ]
    },
    {
     "name": "stdout",
     "output_type": "stream",
     "text": [
      "TA\n"
     ]
    },
    {
     "name": "stderr",
     "output_type": "stream",
     "text": [
      "0% [##############################] 100% | ETA: 00:00:00\n",
      "Total time elapsed: 00:00:02\n"
     ]
    },
    {
     "name": "stdout",
     "output_type": "stream",
     "text": [
      "TA\n"
     ]
    },
    {
     "name": "stderr",
     "output_type": "stream",
     "text": [
      "0% [##############################] 100% | ETA: 00:00:00\n",
      "Total time elapsed: 00:00:05\n"
     ]
    },
    {
     "name": "stdout",
     "output_type": "stream",
     "text": [
      "TET\n"
     ]
    },
    {
     "name": "stderr",
     "output_type": "stream",
     "text": [
      "0% [##############################] 100% | ETA: 00:00:00\n",
      "Total time elapsed: 00:00:02\n"
     ]
    },
    {
     "name": "stdout",
     "output_type": "stream",
     "text": [
      "TET\n"
     ]
    },
    {
     "name": "stderr",
     "output_type": "stream",
     "text": [
      "0% [##############################] 100% | ETA: 00:00:00\n",
      "Total time elapsed: 00:00:06\n"
     ]
    },
    {
     "name": "stdout",
     "output_type": "stream",
     "text": [
      "ULO\n"
     ]
    },
    {
     "name": "stderr",
     "output_type": "stream",
     "text": [
      "0% [##############################] 100% | ETA: 00:00:00\n",
      "Total time elapsed: 00:00:02\n"
     ]
    },
    {
     "name": "stdout",
     "output_type": "stream",
     "text": [
      "ULO\n"
     ]
    },
    {
     "name": "stderr",
     "output_type": "stream",
     "text": [
      "0% [##############################] 100% | ETA: 00:00:00\n",
      "Total time elapsed: 00:00:05\n"
     ]
    },
    {
     "name": "stdout",
     "output_type": "stream",
     "text": [
      "WD\n"
     ]
    },
    {
     "name": "stderr",
     "output_type": "stream",
     "text": [
      "0% [##############################] 100% | ETA: 00:00:00\n",
      "Total time elapsed: 00:00:02\n"
     ]
    },
    {
     "name": "stdout",
     "output_type": "stream",
     "text": [
      "WD\n"
     ]
    },
    {
     "name": "stderr",
     "output_type": "stream",
     "text": [
      "0% [##############################] 100% | ETA: 00:00:00\n",
      "Total time elapsed: 00:00:05\n"
     ]
    },
    {
     "name": "stdout",
     "output_type": "stream",
     "text": [
      "ALO\n"
     ]
    },
    {
     "name": "stderr",
     "output_type": "stream",
     "text": [
      "0% [##############################] 100% | ETA: 00:00:00\n",
      "Total time elapsed: 00:00:02\n"
     ]
    },
    {
     "name": "stdout",
     "output_type": "stream",
     "text": [
      "ALO\n"
     ]
    },
    {
     "name": "stderr",
     "output_type": "stream",
     "text": [
      "0% [##############################] 100% | ETA: 00:00:00\n",
      "Total time elapsed: 00:00:05\n"
     ]
    },
    {
     "name": "stdout",
     "output_type": "stream",
     "text": [
      "CC\n"
     ]
    },
    {
     "name": "stderr",
     "output_type": "stream",
     "text": [
      "0% [##############################] 100% | ETA: 00:00:00\n",
      "Total time elapsed: 00:00:02\n"
     ]
    },
    {
     "name": "stdout",
     "output_type": "stream",
     "text": [
      "CC\n"
     ]
    },
    {
     "name": "stderr",
     "output_type": "stream",
     "text": [
      "0% [##############################] 100% | ETA: 00:00:00\n",
      "Total time elapsed: 00:00:05\n"
     ]
    },
    {
     "name": "stdout",
     "output_type": "stream",
     "text": [
      "FD\n"
     ]
    },
    {
     "name": "stderr",
     "output_type": "stream",
     "text": [
      "0% [##############################] 100% | ETA: 00:00:00\n",
      "Total time elapsed: 00:00:02\n"
     ]
    },
    {
     "name": "stdout",
     "output_type": "stream",
     "text": [
      "FD\n"
     ]
    },
    {
     "name": "stderr",
     "output_type": "stream",
     "text": [
      "0% [##############################] 100% | ETA: 00:00:00\n",
      "Total time elapsed: 00:00:05\n"
     ]
    },
    {
     "name": "stdout",
     "output_type": "stream",
     "text": [
      "FET\n"
     ]
    },
    {
     "name": "stderr",
     "output_type": "stream",
     "text": [
      "0% [##############################] 100% | ETA: 00:00:00\n",
      "Total time elapsed: 00:00:02\n"
     ]
    },
    {
     "name": "stdout",
     "output_type": "stream",
     "text": [
      "FET\n"
     ]
    },
    {
     "name": "stderr",
     "output_type": "stream",
     "text": [
      "0% [##############################] 100% | ETA: 00:00:00\n",
      "Total time elapsed: 00:00:06\n"
     ]
    },
    {
     "name": "stdout",
     "output_type": "stream",
     "text": [
      "FE\n"
     ]
    },
    {
     "name": "stderr",
     "output_type": "stream",
     "text": [
      "0% [##############################] 100% | ETA: 00:00:00\n",
      "Total time elapsed: 00:00:02\n"
     ]
    },
    {
     "name": "stdout",
     "output_type": "stream",
     "text": [
      "FE\n"
     ]
    },
    {
     "name": "stderr",
     "output_type": "stream",
     "text": [
      "0% [##############################] 100% | ETA: 00:00:00\n",
      "Total time elapsed: 00:00:05\n"
     ]
    },
    {
     "name": "stdout",
     "output_type": "stream",
     "text": [
      "HT\n"
     ]
    },
    {
     "name": "stderr",
     "output_type": "stream",
     "text": [
      "0% [##############################] 100% | ETA: 00:00:00\n",
      "Total time elapsed: 00:00:02\n"
     ]
    },
    {
     "name": "stdout",
     "output_type": "stream",
     "text": [
      "HT\n"
     ]
    },
    {
     "name": "stderr",
     "output_type": "stream",
     "text": [
      "0% [##############################] 100% | ETA: 00:00:00\n",
      "Total time elapsed: 00:00:06\n"
     ]
    },
    {
     "name": "stdout",
     "output_type": "stream",
     "text": [
      "IR\n"
     ]
    },
    {
     "name": "stderr",
     "output_type": "stream",
     "text": [
      "0% [##############################] 100% | ETA: 00:00:00\n",
      "Total time elapsed: 00:00:02\n"
     ]
    },
    {
     "name": "stdout",
     "output_type": "stream",
     "text": [
      "IR\n"
     ]
    },
    {
     "name": "stderr",
     "output_type": "stream",
     "text": [
      "0% [##############################] 100% | ETA: 00:00:00\n",
      "Total time elapsed: 00:00:05\n"
     ]
    },
    {
     "name": "stdout",
     "output_type": "stream",
     "text": [
      "MET\n"
     ]
    },
    {
     "name": "stderr",
     "output_type": "stream",
     "text": [
      "0% [##############################] 100% | ETA: 00:00:00\n",
      "Total time elapsed: 00:00:02\n"
     ]
    },
    {
     "name": "stdout",
     "output_type": "stream",
     "text": [
      "MET\n"
     ]
    },
    {
     "name": "stderr",
     "output_type": "stream",
     "text": [
      "0% [##############################] 100% | ETA: 00:00:00\n",
      "Total time elapsed: 00:00:06\n"
     ]
    },
    {
     "name": "stdout",
     "output_type": "stream",
     "text": [
      "ME\n"
     ]
    },
    {
     "name": "stderr",
     "output_type": "stream",
     "text": [
      "0% [##############################] 100% | ETA: 00:00:00\n",
      "Total time elapsed: 00:00:02\n"
     ]
    },
    {
     "name": "stdout",
     "output_type": "stream",
     "text": [
      "ME\n"
     ]
    },
    {
     "name": "stderr",
     "output_type": "stream",
     "text": [
      "0% [##############################] 100% | ETA: 00:00:00\n",
      "Total time elapsed: 00:00:05\n"
     ]
    },
    {
     "name": "stdout",
     "output_type": "stream",
     "text": [
      "MD\n"
     ]
    },
    {
     "name": "stderr",
     "output_type": "stream",
     "text": [
      "0% [##############################] 100% | ETA: 00:00:00\n",
      "Total time elapsed: 00:00:02\n"
     ]
    },
    {
     "name": "stdout",
     "output_type": "stream",
     "text": [
      "MD\n"
     ]
    },
    {
     "name": "stderr",
     "output_type": "stream",
     "text": [
      "0% [##############################] 100% | ETA: 00:00:00\n",
      "Total time elapsed: 00:00:05\n"
     ]
    },
    {
     "name": "stdout",
     "output_type": "stream",
     "text": [
      "NLT\n"
     ]
    },
    {
     "name": "stderr",
     "output_type": "stream",
     "text": [
      "0% [##############################] 100% | ETA: 00:00:00\n",
      "Total time elapsed: 00:00:02\n"
     ]
    },
    {
     "name": "stdout",
     "output_type": "stream",
     "text": [
      "NLT\n"
     ]
    },
    {
     "name": "stderr",
     "output_type": "stream",
     "text": [
      "0% [##############################] 100% | ETA: 00:00:00\n",
      "Total time elapsed: 00:00:05\n"
     ]
    },
    {
     "name": "stdout",
     "output_type": "stream",
     "text": [
      "OD\n"
     ]
    },
    {
     "name": "stderr",
     "output_type": "stream",
     "text": [
      "0% [##############################] 100% | ETA: 00:00:00\n",
      "Total time elapsed: 00:00:02\n"
     ]
    },
    {
     "name": "stdout",
     "output_type": "stream",
     "text": [
      "OD\n"
     ]
    },
    {
     "name": "stderr",
     "output_type": "stream",
     "text": [
      "0% [##############################] 100% | ETA: 00:00:00\n",
      "Total time elapsed: 00:00:05\n"
     ]
    },
    {
     "name": "stdout",
     "output_type": "stream",
     "text": [
      "PMF\n"
     ]
    },
    {
     "name": "stderr",
     "output_type": "stream",
     "text": [
      "0% [##############################] 100% | ETA: 00:00:00\n",
      "Total time elapsed: 00:00:02\n"
     ]
    },
    {
     "name": "stdout",
     "output_type": "stream",
     "text": [
      "PMF\n"
     ]
    },
    {
     "name": "stderr",
     "output_type": "stream",
     "text": [
      "0% [##############################] 100% | ETA: 00:00:00\n",
      "Total time elapsed: 00:00:05\n"
     ]
    },
    {
     "name": "stdout",
     "output_type": "stream",
     "text": [
      "POF\n"
     ]
    },
    {
     "name": "stderr",
     "output_type": "stream",
     "text": [
      "0% [##############################] 100% | ETA: 00:00:00\n",
      "Total time elapsed: 00:00:02\n"
     ]
    },
    {
     "name": "stdout",
     "output_type": "stream",
     "text": [
      "POF\n"
     ]
    },
    {
     "name": "stderr",
     "output_type": "stream",
     "text": [
      "0% [##############################] 100% | ETA: 00:00:00\n",
      "Total time elapsed: 00:00:05\n"
     ]
    },
    {
     "name": "stdout",
     "output_type": "stream",
     "text": [
      "TA\n"
     ]
    },
    {
     "name": "stderr",
     "output_type": "stream",
     "text": [
      "0% [##############################] 100% | ETA: 00:00:00\n",
      "Total time elapsed: 00:00:02\n"
     ]
    },
    {
     "name": "stdout",
     "output_type": "stream",
     "text": [
      "TA\n"
     ]
    },
    {
     "name": "stderr",
     "output_type": "stream",
     "text": [
      "0% [##############################] 100% | ETA: 00:00:00\n",
      "Total time elapsed: 00:00:05\n"
     ]
    },
    {
     "name": "stdout",
     "output_type": "stream",
     "text": [
      "TET\n"
     ]
    },
    {
     "name": "stderr",
     "output_type": "stream",
     "text": [
      "0% [##############################] 100% | ETA: 00:00:00\n",
      "Total time elapsed: 00:00:02\n"
     ]
    },
    {
     "name": "stdout",
     "output_type": "stream",
     "text": [
      "TET\n"
     ]
    },
    {
     "name": "stderr",
     "output_type": "stream",
     "text": [
      "0% [##############################] 100% | ETA: 00:00:00\n",
      "Total time elapsed: 00:00:06\n"
     ]
    },
    {
     "name": "stdout",
     "output_type": "stream",
     "text": [
      "ULO\n"
     ]
    },
    {
     "name": "stderr",
     "output_type": "stream",
     "text": [
      "0% [##############################] 100% | ETA: 00:00:00\n",
      "Total time elapsed: 00:00:02\n"
     ]
    },
    {
     "name": "stdout",
     "output_type": "stream",
     "text": [
      "ULO\n"
     ]
    },
    {
     "name": "stderr",
     "output_type": "stream",
     "text": [
      "0% [##############################] 100% | ETA: 00:00:00\n",
      "Total time elapsed: 00:00:05\n"
     ]
    },
    {
     "name": "stdout",
     "output_type": "stream",
     "text": [
      "WD\n"
     ]
    },
    {
     "name": "stderr",
     "output_type": "stream",
     "text": [
      "0% [##############################] 100% | ETA: 00:00:00\n",
      "Total time elapsed: 00:00:02\n"
     ]
    },
    {
     "name": "stdout",
     "output_type": "stream",
     "text": [
      "WD\n"
     ]
    },
    {
     "name": "stderr",
     "output_type": "stream",
     "text": [
      "0% [##############################] 100% | ETA: 00:00:00\n",
      "Total time elapsed: 00:00:05\n"
     ]
    },
    {
     "name": "stdout",
     "output_type": "stream",
     "text": [
      "ALO\n"
     ]
    },
    {
     "name": "stderr",
     "output_type": "stream",
     "text": [
      "0% [##############################] 100% | ETA: 00:00:00\n",
      "Total time elapsed: 00:00:02\n"
     ]
    },
    {
     "name": "stdout",
     "output_type": "stream",
     "text": [
      "ALO\n"
     ]
    },
    {
     "name": "stderr",
     "output_type": "stream",
     "text": [
      "0% [##############################] 100% | ETA: 00:00:00\n",
      "Total time elapsed: 00:00:05\n"
     ]
    },
    {
     "name": "stdout",
     "output_type": "stream",
     "text": [
      "CC\n"
     ]
    },
    {
     "name": "stderr",
     "output_type": "stream",
     "text": [
      "0% [##############################] 100% | ETA: 00:00:00\n",
      "Total time elapsed: 00:00:02\n"
     ]
    },
    {
     "name": "stdout",
     "output_type": "stream",
     "text": [
      "CC\n"
     ]
    },
    {
     "name": "stderr",
     "output_type": "stream",
     "text": [
      "0% [##############################] 100% | ETA: 00:00:00\n",
      "Total time elapsed: 00:00:05\n"
     ]
    },
    {
     "name": "stdout",
     "output_type": "stream",
     "text": [
      "FD\n"
     ]
    },
    {
     "name": "stderr",
     "output_type": "stream",
     "text": [
      "0% [##############################] 100% | ETA: 00:00:00\n",
      "Total time elapsed: 00:00:02\n"
     ]
    },
    {
     "name": "stdout",
     "output_type": "stream",
     "text": [
      "FD\n"
     ]
    },
    {
     "name": "stderr",
     "output_type": "stream",
     "text": [
      "0% [##############################] 100% | ETA: 00:00:00\n",
      "Total time elapsed: 00:00:05\n"
     ]
    },
    {
     "name": "stdout",
     "output_type": "stream",
     "text": [
      "FET\n"
     ]
    },
    {
     "name": "stderr",
     "output_type": "stream",
     "text": [
      "0% [##############################] 100% | ETA: 00:00:00\n",
      "Total time elapsed: 00:00:02\n"
     ]
    },
    {
     "name": "stdout",
     "output_type": "stream",
     "text": [
      "FET\n"
     ]
    },
    {
     "name": "stderr",
     "output_type": "stream",
     "text": [
      "0% [##############################] 100% | ETA: 00:00:00\n",
      "Total time elapsed: 00:00:06\n"
     ]
    },
    {
     "name": "stdout",
     "output_type": "stream",
     "text": [
      "FE\n"
     ]
    },
    {
     "name": "stderr",
     "output_type": "stream",
     "text": [
      "0% [##############################] 100% | ETA: 00:00:00\n",
      "Total time elapsed: 00:00:02\n"
     ]
    },
    {
     "name": "stdout",
     "output_type": "stream",
     "text": [
      "FE\n"
     ]
    },
    {
     "name": "stderr",
     "output_type": "stream",
     "text": [
      "0% [##############################] 100% | ETA: 00:00:00\n",
      "Total time elapsed: 00:00:05\n"
     ]
    },
    {
     "name": "stdout",
     "output_type": "stream",
     "text": [
      "HT\n"
     ]
    },
    {
     "name": "stderr",
     "output_type": "stream",
     "text": [
      "0% [##############################] 100% | ETA: 00:00:00\n",
      "Total time elapsed: 00:00:02\n"
     ]
    },
    {
     "name": "stdout",
     "output_type": "stream",
     "text": [
      "HT\n"
     ]
    },
    {
     "name": "stderr",
     "output_type": "stream",
     "text": [
      "0% [##############################] 100% | ETA: 00:00:00\n",
      "Total time elapsed: 00:00:06\n"
     ]
    },
    {
     "name": "stdout",
     "output_type": "stream",
     "text": [
      "IR\n"
     ]
    },
    {
     "name": "stderr",
     "output_type": "stream",
     "text": [
      "0% [##############################] 100% | ETA: 00:00:00\n",
      "Total time elapsed: 00:00:02\n"
     ]
    },
    {
     "name": "stdout",
     "output_type": "stream",
     "text": [
      "IR\n"
     ]
    },
    {
     "name": "stderr",
     "output_type": "stream",
     "text": [
      "0% [##############################] 100% | ETA: 00:00:00\n",
      "Total time elapsed: 00:00:05\n"
     ]
    },
    {
     "name": "stdout",
     "output_type": "stream",
     "text": [
      "MET\n"
     ]
    },
    {
     "name": "stderr",
     "output_type": "stream",
     "text": [
      "0% [##############################] 100% | ETA: 00:00:00\n",
      "Total time elapsed: 00:00:02\n"
     ]
    },
    {
     "name": "stdout",
     "output_type": "stream",
     "text": [
      "MET\n"
     ]
    },
    {
     "name": "stderr",
     "output_type": "stream",
     "text": [
      "0% [##############################] 100% | ETA: 00:00:00\n",
      "Total time elapsed: 00:00:06\n"
     ]
    },
    {
     "name": "stdout",
     "output_type": "stream",
     "text": [
      "ME\n"
     ]
    },
    {
     "name": "stderr",
     "output_type": "stream",
     "text": [
      "0% [##############################] 100% | ETA: 00:00:00\n",
      "Total time elapsed: 00:00:02\n"
     ]
    },
    {
     "name": "stdout",
     "output_type": "stream",
     "text": [
      "ME\n"
     ]
    },
    {
     "name": "stderr",
     "output_type": "stream",
     "text": [
      "0% [##############################] 100% | ETA: 00:00:00\n",
      "Total time elapsed: 00:00:05\n"
     ]
    },
    {
     "name": "stdout",
     "output_type": "stream",
     "text": [
      "MD\n"
     ]
    },
    {
     "name": "stderr",
     "output_type": "stream",
     "text": [
      "0% [##############################] 100% | ETA: 00:00:00\n",
      "Total time elapsed: 00:00:02\n"
     ]
    },
    {
     "name": "stdout",
     "output_type": "stream",
     "text": [
      "MD\n"
     ]
    },
    {
     "name": "stderr",
     "output_type": "stream",
     "text": [
      "0% [##############################] 100% | ETA: 00:00:00\n",
      "Total time elapsed: 00:00:05\n"
     ]
    },
    {
     "name": "stdout",
     "output_type": "stream",
     "text": [
      "NLT\n"
     ]
    },
    {
     "name": "stderr",
     "output_type": "stream",
     "text": [
      "0% [##############################] 100% | ETA: 00:00:00\n",
      "Total time elapsed: 00:00:02\n"
     ]
    },
    {
     "name": "stdout",
     "output_type": "stream",
     "text": [
      "NLT\n"
     ]
    },
    {
     "name": "stderr",
     "output_type": "stream",
     "text": [
      "0% [##############################] 100% | ETA: 00:00:00\n",
      "Total time elapsed: 00:00:05\n"
     ]
    },
    {
     "name": "stdout",
     "output_type": "stream",
     "text": [
      "OD\n"
     ]
    },
    {
     "name": "stderr",
     "output_type": "stream",
     "text": [
      "0% [##############################] 100% | ETA: 00:00:00\n",
      "Total time elapsed: 00:00:02\n"
     ]
    },
    {
     "name": "stdout",
     "output_type": "stream",
     "text": [
      "OD\n"
     ]
    },
    {
     "name": "stderr",
     "output_type": "stream",
     "text": [
      "0% [##############################] 100% | ETA: 00:00:00\n",
      "Total time elapsed: 00:00:05\n"
     ]
    },
    {
     "name": "stdout",
     "output_type": "stream",
     "text": [
      "PMF\n"
     ]
    },
    {
     "name": "stderr",
     "output_type": "stream",
     "text": [
      "0% [##############################] 100% | ETA: 00:00:00\n",
      "Total time elapsed: 00:00:02\n"
     ]
    },
    {
     "name": "stdout",
     "output_type": "stream",
     "text": [
      "PMF\n"
     ]
    },
    {
     "name": "stderr",
     "output_type": "stream",
     "text": [
      "0% [##############################] 100% | ETA: 00:00:00\n",
      "Total time elapsed: 00:00:05\n"
     ]
    },
    {
     "name": "stdout",
     "output_type": "stream",
     "text": [
      "POF\n"
     ]
    },
    {
     "name": "stderr",
     "output_type": "stream",
     "text": [
      "0% [##############################] 100% | ETA: 00:00:00\n",
      "Total time elapsed: 00:00:02\n"
     ]
    },
    {
     "name": "stdout",
     "output_type": "stream",
     "text": [
      "POF\n"
     ]
    },
    {
     "name": "stderr",
     "output_type": "stream",
     "text": [
      "0% [##############################] 100% | ETA: 00:00:00\n",
      "Total time elapsed: 00:00:05\n"
     ]
    },
    {
     "name": "stdout",
     "output_type": "stream",
     "text": [
      "TA\n"
     ]
    },
    {
     "name": "stderr",
     "output_type": "stream",
     "text": [
      "0% [##############################] 100% | ETA: 00:00:00\n",
      "Total time elapsed: 00:00:02\n"
     ]
    },
    {
     "name": "stdout",
     "output_type": "stream",
     "text": [
      "TA\n"
     ]
    },
    {
     "name": "stderr",
     "output_type": "stream",
     "text": [
      "0% [##############################] 100% | ETA: 00:00:00\n",
      "Total time elapsed: 00:00:05\n"
     ]
    },
    {
     "name": "stdout",
     "output_type": "stream",
     "text": [
      "TET\n"
     ]
    },
    {
     "name": "stderr",
     "output_type": "stream",
     "text": [
      "0% [##############################] 100% | ETA: 00:00:00\n",
      "Total time elapsed: 00:00:02\n"
     ]
    },
    {
     "name": "stdout",
     "output_type": "stream",
     "text": [
      "TET\n"
     ]
    },
    {
     "name": "stderr",
     "output_type": "stream",
     "text": [
      "0% [##############################] 100% | ETA: 00:00:00\n",
      "Total time elapsed: 00:00:06\n"
     ]
    },
    {
     "name": "stdout",
     "output_type": "stream",
     "text": [
      "ULO\n"
     ]
    },
    {
     "name": "stderr",
     "output_type": "stream",
     "text": [
      "0% [##############################] 100% | ETA: 00:00:00\n",
      "Total time elapsed: 00:00:02\n"
     ]
    },
    {
     "name": "stdout",
     "output_type": "stream",
     "text": [
      "ULO\n"
     ]
    },
    {
     "name": "stderr",
     "output_type": "stream",
     "text": [
      "0% [##############################] 100% | ETA: 00:00:00\n",
      "Total time elapsed: 00:00:05\n"
     ]
    },
    {
     "name": "stdout",
     "output_type": "stream",
     "text": [
      "WD\n"
     ]
    },
    {
     "name": "stderr",
     "output_type": "stream",
     "text": [
      "0% [##############################] 100% | ETA: 00:00:00\n",
      "Total time elapsed: 00:00:02\n"
     ]
    },
    {
     "name": "stdout",
     "output_type": "stream",
     "text": [
      "WD\n"
     ]
    },
    {
     "name": "stderr",
     "output_type": "stream",
     "text": [
      "0% [##############################] 100% | ETA: 00:00:00\n",
      "Total time elapsed: 00:00:05\n"
     ]
    },
    {
     "name": "stdout",
     "output_type": "stream",
     "text": [
      "ALO\n"
     ]
    },
    {
     "name": "stderr",
     "output_type": "stream",
     "text": [
      "0% [##############################] 100% | ETA: 00:00:00\n",
      "Total time elapsed: 00:00:02\n"
     ]
    },
    {
     "name": "stdout",
     "output_type": "stream",
     "text": [
      "ALO\n"
     ]
    },
    {
     "name": "stderr",
     "output_type": "stream",
     "text": [
      "0% [##############################] 100% | ETA: 00:00:00\n",
      "Total time elapsed: 00:00:05\n"
     ]
    },
    {
     "name": "stdout",
     "output_type": "stream",
     "text": [
      "CC\n"
     ]
    },
    {
     "name": "stderr",
     "output_type": "stream",
     "text": [
      "0% [##############################] 100% | ETA: 00:00:00\n",
      "Total time elapsed: 00:00:02\n"
     ]
    },
    {
     "name": "stdout",
     "output_type": "stream",
     "text": [
      "CC\n"
     ]
    },
    {
     "name": "stderr",
     "output_type": "stream",
     "text": [
      "0% [##############################] 100% | ETA: 00:00:00\n",
      "Total time elapsed: 00:00:05\n"
     ]
    },
    {
     "name": "stdout",
     "output_type": "stream",
     "text": [
      "FD\n"
     ]
    },
    {
     "name": "stderr",
     "output_type": "stream",
     "text": [
      "0% [##############################] 100% | ETA: 00:00:00\n",
      "Total time elapsed: 00:00:02\n"
     ]
    },
    {
     "name": "stdout",
     "output_type": "stream",
     "text": [
      "FD\n"
     ]
    },
    {
     "name": "stderr",
     "output_type": "stream",
     "text": [
      "0% [##############################] 100% | ETA: 00:00:00\n",
      "Total time elapsed: 00:00:05\n"
     ]
    },
    {
     "name": "stdout",
     "output_type": "stream",
     "text": [
      "FET\n"
     ]
    },
    {
     "name": "stderr",
     "output_type": "stream",
     "text": [
      "0% [##############################] 100% | ETA: 00:00:00\n",
      "Total time elapsed: 00:00:02\n"
     ]
    },
    {
     "name": "stdout",
     "output_type": "stream",
     "text": [
      "FET\n"
     ]
    },
    {
     "name": "stderr",
     "output_type": "stream",
     "text": [
      "0% [##############################] 100% | ETA: 00:00:00\n",
      "Total time elapsed: 00:00:06\n"
     ]
    },
    {
     "name": "stdout",
     "output_type": "stream",
     "text": [
      "FE\n"
     ]
    },
    {
     "name": "stderr",
     "output_type": "stream",
     "text": [
      "0% [##############################] 100% | ETA: 00:00:00\n",
      "Total time elapsed: 00:00:02\n"
     ]
    },
    {
     "name": "stdout",
     "output_type": "stream",
     "text": [
      "FE\n"
     ]
    },
    {
     "name": "stderr",
     "output_type": "stream",
     "text": [
      "0% [##############################] 100% | ETA: 00:00:00\n",
      "Total time elapsed: 00:00:05\n"
     ]
    },
    {
     "name": "stdout",
     "output_type": "stream",
     "text": [
      "HT\n"
     ]
    },
    {
     "name": "stderr",
     "output_type": "stream",
     "text": [
      "0% [##############################] 100% | ETA: 00:00:00\n",
      "Total time elapsed: 00:00:02\n"
     ]
    },
    {
     "name": "stdout",
     "output_type": "stream",
     "text": [
      "HT\n"
     ]
    },
    {
     "name": "stderr",
     "output_type": "stream",
     "text": [
      "0% [##############################] 100% | ETA: 00:00:00\n",
      "Total time elapsed: 00:00:06\n"
     ]
    },
    {
     "name": "stdout",
     "output_type": "stream",
     "text": [
      "IR\n"
     ]
    },
    {
     "name": "stderr",
     "output_type": "stream",
     "text": [
      "0% [##############################] 100% | ETA: 00:00:00\n",
      "Total time elapsed: 00:00:02\n"
     ]
    },
    {
     "name": "stdout",
     "output_type": "stream",
     "text": [
      "IR\n"
     ]
    },
    {
     "name": "stderr",
     "output_type": "stream",
     "text": [
      "0% [##############################] 100% | ETA: 00:00:00\n",
      "Total time elapsed: 00:00:05\n"
     ]
    },
    {
     "name": "stdout",
     "output_type": "stream",
     "text": [
      "MET\n"
     ]
    },
    {
     "name": "stderr",
     "output_type": "stream",
     "text": [
      "0% [##############################] 100% | ETA: 00:00:00\n",
      "Total time elapsed: 00:00:02\n"
     ]
    },
    {
     "name": "stdout",
     "output_type": "stream",
     "text": [
      "MET\n"
     ]
    },
    {
     "name": "stderr",
     "output_type": "stream",
     "text": [
      "0% [##############################] 100% | ETA: 00:00:00\n",
      "Total time elapsed: 00:00:06\n"
     ]
    },
    {
     "name": "stdout",
     "output_type": "stream",
     "text": [
      "ME\n"
     ]
    },
    {
     "name": "stderr",
     "output_type": "stream",
     "text": [
      "0% [##############################] 100% | ETA: 00:00:00\n",
      "Total time elapsed: 00:00:02\n"
     ]
    },
    {
     "name": "stdout",
     "output_type": "stream",
     "text": [
      "ME\n"
     ]
    },
    {
     "name": "stderr",
     "output_type": "stream",
     "text": [
      "0% [##############################] 100% | ETA: 00:00:00\n",
      "Total time elapsed: 00:00:05\n"
     ]
    },
    {
     "name": "stdout",
     "output_type": "stream",
     "text": [
      "MD\n"
     ]
    },
    {
     "name": "stderr",
     "output_type": "stream",
     "text": [
      "0% [##############################] 100% | ETA: 00:00:00\n",
      "Total time elapsed: 00:00:02\n"
     ]
    },
    {
     "name": "stdout",
     "output_type": "stream",
     "text": [
      "MD\n"
     ]
    },
    {
     "name": "stderr",
     "output_type": "stream",
     "text": [
      "0% [##############################] 100% | ETA: 00:00:00\n",
      "Total time elapsed: 00:00:05\n"
     ]
    },
    {
     "name": "stdout",
     "output_type": "stream",
     "text": [
      "NLT\n"
     ]
    },
    {
     "name": "stderr",
     "output_type": "stream",
     "text": [
      "0% [##############################] 100% | ETA: 00:00:00\n",
      "Total time elapsed: 00:00:02\n"
     ]
    },
    {
     "name": "stdout",
     "output_type": "stream",
     "text": [
      "NLT\n"
     ]
    },
    {
     "name": "stderr",
     "output_type": "stream",
     "text": [
      "0% [##############################] 100% | ETA: 00:00:00\n",
      "Total time elapsed: 00:00:05\n"
     ]
    },
    {
     "name": "stdout",
     "output_type": "stream",
     "text": [
      "OD\n"
     ]
    },
    {
     "name": "stderr",
     "output_type": "stream",
     "text": [
      "0% [##############################] 100% | ETA: 00:00:00\n",
      "Total time elapsed: 00:00:02\n"
     ]
    },
    {
     "name": "stdout",
     "output_type": "stream",
     "text": [
      "OD\n"
     ]
    },
    {
     "name": "stderr",
     "output_type": "stream",
     "text": [
      "0% [##############################] 100% | ETA: 00:00:00\n",
      "Total time elapsed: 00:00:05\n"
     ]
    },
    {
     "name": "stdout",
     "output_type": "stream",
     "text": [
      "PMF\n"
     ]
    },
    {
     "name": "stderr",
     "output_type": "stream",
     "text": [
      "0% [##############################] 100% | ETA: 00:00:00\n",
      "Total time elapsed: 00:00:02\n"
     ]
    },
    {
     "name": "stdout",
     "output_type": "stream",
     "text": [
      "PMF\n"
     ]
    },
    {
     "name": "stderr",
     "output_type": "stream",
     "text": [
      "0% [##############################] 100% | ETA: 00:00:00\n",
      "Total time elapsed: 00:00:05\n"
     ]
    },
    {
     "name": "stdout",
     "output_type": "stream",
     "text": [
      "POF\n"
     ]
    },
    {
     "name": "stderr",
     "output_type": "stream",
     "text": [
      "0% [##############################] 100% | ETA: 00:00:00\n",
      "Total time elapsed: 00:00:02\n"
     ]
    },
    {
     "name": "stdout",
     "output_type": "stream",
     "text": [
      "POF\n"
     ]
    },
    {
     "name": "stderr",
     "output_type": "stream",
     "text": [
      "0% [##############################] 100% | ETA: 00:00:00\n",
      "Total time elapsed: 00:00:05\n"
     ]
    },
    {
     "name": "stdout",
     "output_type": "stream",
     "text": [
      "TA\n"
     ]
    },
    {
     "name": "stderr",
     "output_type": "stream",
     "text": [
      "0% [##############################] 100% | ETA: 00:00:00\n",
      "Total time elapsed: 00:00:02\n"
     ]
    },
    {
     "name": "stdout",
     "output_type": "stream",
     "text": [
      "TA\n"
     ]
    },
    {
     "name": "stderr",
     "output_type": "stream",
     "text": [
      "0% [##############################] 100% | ETA: 00:00:00\n",
      "Total time elapsed: 00:00:05\n"
     ]
    },
    {
     "name": "stdout",
     "output_type": "stream",
     "text": [
      "TET\n"
     ]
    },
    {
     "name": "stderr",
     "output_type": "stream",
     "text": [
      "0% [##############################] 100% | ETA: 00:00:00\n",
      "Total time elapsed: 00:00:02\n"
     ]
    },
    {
     "name": "stdout",
     "output_type": "stream",
     "text": [
      "TET\n"
     ]
    },
    {
     "name": "stderr",
     "output_type": "stream",
     "text": [
      "0% [##############################] 100% | ETA: 00:00:00\n",
      "Total time elapsed: 00:00:06\n"
     ]
    },
    {
     "name": "stdout",
     "output_type": "stream",
     "text": [
      "ULO\n"
     ]
    },
    {
     "name": "stderr",
     "output_type": "stream",
     "text": [
      "0% [##############################] 100% | ETA: 00:00:00\n",
      "Total time elapsed: 00:00:02\n"
     ]
    },
    {
     "name": "stdout",
     "output_type": "stream",
     "text": [
      "ULO\n"
     ]
    },
    {
     "name": "stderr",
     "output_type": "stream",
     "text": [
      "0% [##############################] 100% | ETA: 00:00:00\n",
      "Total time elapsed: 00:00:05\n"
     ]
    },
    {
     "name": "stdout",
     "output_type": "stream",
     "text": [
      "WD\n"
     ]
    },
    {
     "name": "stderr",
     "output_type": "stream",
     "text": [
      "0% [##############################] 100% | ETA: 00:00:00\n",
      "Total time elapsed: 00:00:02\n"
     ]
    },
    {
     "name": "stdout",
     "output_type": "stream",
     "text": [
      "WD\n"
     ]
    },
    {
     "name": "stderr",
     "output_type": "stream",
     "text": [
      "0% [##############################] 100% | ETA: 00:00:00\n",
      "Total time elapsed: 00:00:05\n"
     ]
    },
    {
     "name": "stdout",
     "output_type": "stream",
     "text": [
      "ALO\n"
     ]
    },
    {
     "name": "stderr",
     "output_type": "stream",
     "text": [
      "0% [##############################] 100% | ETA: 00:00:00\n",
      "Total time elapsed: 00:00:02\n"
     ]
    },
    {
     "name": "stdout",
     "output_type": "stream",
     "text": [
      "ALO\n"
     ]
    },
    {
     "name": "stderr",
     "output_type": "stream",
     "text": [
      "0% [##############################] 100% | ETA: 00:00:00\n",
      "Total time elapsed: 00:00:05\n"
     ]
    },
    {
     "name": "stdout",
     "output_type": "stream",
     "text": [
      "CC\n"
     ]
    },
    {
     "name": "stderr",
     "output_type": "stream",
     "text": [
      "0% [##############################] 100% | ETA: 00:00:00\n",
      "Total time elapsed: 00:00:02\n"
     ]
    },
    {
     "name": "stdout",
     "output_type": "stream",
     "text": [
      "CC\n"
     ]
    },
    {
     "name": "stderr",
     "output_type": "stream",
     "text": [
      "0% [##############################] 100% | ETA: 00:00:00\n",
      "Total time elapsed: 00:00:05\n"
     ]
    },
    {
     "name": "stdout",
     "output_type": "stream",
     "text": [
      "FD\n"
     ]
    },
    {
     "name": "stderr",
     "output_type": "stream",
     "text": [
      "0% [##############################] 100% | ETA: 00:00:00\n",
      "Total time elapsed: 00:00:02\n"
     ]
    },
    {
     "name": "stdout",
     "output_type": "stream",
     "text": [
      "FD\n"
     ]
    },
    {
     "name": "stderr",
     "output_type": "stream",
     "text": [
      "0% [##############################] 100% | ETA: 00:00:00\n",
      "Total time elapsed: 00:00:05\n"
     ]
    },
    {
     "name": "stdout",
     "output_type": "stream",
     "text": [
      "FET\n"
     ]
    },
    {
     "name": "stderr",
     "output_type": "stream",
     "text": [
      "0% [##############################] 100% | ETA: 00:00:00\n",
      "Total time elapsed: 00:00:02\n"
     ]
    },
    {
     "name": "stdout",
     "output_type": "stream",
     "text": [
      "FET\n"
     ]
    },
    {
     "name": "stderr",
     "output_type": "stream",
     "text": [
      "0% [##############################] 100% | ETA: 00:00:00\n",
      "Total time elapsed: 00:00:06\n"
     ]
    },
    {
     "name": "stdout",
     "output_type": "stream",
     "text": [
      "FE\n"
     ]
    },
    {
     "name": "stderr",
     "output_type": "stream",
     "text": [
      "0% [##############################] 100% | ETA: 00:00:00\n",
      "Total time elapsed: 00:00:02\n"
     ]
    },
    {
     "name": "stdout",
     "output_type": "stream",
     "text": [
      "FE\n"
     ]
    },
    {
     "name": "stderr",
     "output_type": "stream",
     "text": [
      "0% [##############################] 100% | ETA: 00:00:00\n",
      "Total time elapsed: 00:00:05\n"
     ]
    },
    {
     "name": "stdout",
     "output_type": "stream",
     "text": [
      "HT\n"
     ]
    },
    {
     "name": "stderr",
     "output_type": "stream",
     "text": [
      "0% [##############################] 100% | ETA: 00:00:00\n",
      "Total time elapsed: 00:00:02\n"
     ]
    },
    {
     "name": "stdout",
     "output_type": "stream",
     "text": [
      "HT\n"
     ]
    },
    {
     "name": "stderr",
     "output_type": "stream",
     "text": [
      "0% [##############################] 100% | ETA: 00:00:00\n",
      "Total time elapsed: 00:00:06\n"
     ]
    },
    {
     "name": "stdout",
     "output_type": "stream",
     "text": [
      "IR\n"
     ]
    },
    {
     "name": "stderr",
     "output_type": "stream",
     "text": [
      "0% [##############################] 100% | ETA: 00:00:00\n",
      "Total time elapsed: 00:00:02\n"
     ]
    },
    {
     "name": "stdout",
     "output_type": "stream",
     "text": [
      "IR\n"
     ]
    },
    {
     "name": "stderr",
     "output_type": "stream",
     "text": [
      "0% [##############################] 100% | ETA: 00:00:00\n",
      "Total time elapsed: 00:00:05\n"
     ]
    },
    {
     "name": "stdout",
     "output_type": "stream",
     "text": [
      "MET\n"
     ]
    },
    {
     "name": "stderr",
     "output_type": "stream",
     "text": [
      "0% [##############################] 100% | ETA: 00:00:00\n",
      "Total time elapsed: 00:00:02\n"
     ]
    },
    {
     "name": "stdout",
     "output_type": "stream",
     "text": [
      "MET\n"
     ]
    },
    {
     "name": "stderr",
     "output_type": "stream",
     "text": [
      "0% [##############################] 100% | ETA: 00:00:00\n",
      "Total time elapsed: 00:00:06\n"
     ]
    },
    {
     "name": "stdout",
     "output_type": "stream",
     "text": [
      "ME\n"
     ]
    },
    {
     "name": "stderr",
     "output_type": "stream",
     "text": [
      "0% [##############################] 100% | ETA: 00:00:00\n",
      "Total time elapsed: 00:00:02\n"
     ]
    },
    {
     "name": "stdout",
     "output_type": "stream",
     "text": [
      "ME\n"
     ]
    },
    {
     "name": "stderr",
     "output_type": "stream",
     "text": [
      "0% [##############################] 100% | ETA: 00:00:00\n",
      "Total time elapsed: 00:00:05\n"
     ]
    },
    {
     "name": "stdout",
     "output_type": "stream",
     "text": [
      "MD\n"
     ]
    },
    {
     "name": "stderr",
     "output_type": "stream",
     "text": [
      "0% [##############################] 100% | ETA: 00:00:00\n",
      "Total time elapsed: 00:00:02\n"
     ]
    },
    {
     "name": "stdout",
     "output_type": "stream",
     "text": [
      "MD\n"
     ]
    },
    {
     "name": "stderr",
     "output_type": "stream",
     "text": [
      "0% [##############################] 100% | ETA: 00:00:00\n",
      "Total time elapsed: 00:00:05\n"
     ]
    },
    {
     "name": "stdout",
     "output_type": "stream",
     "text": [
      "NLT\n"
     ]
    },
    {
     "name": "stderr",
     "output_type": "stream",
     "text": [
      "0% [##############################] 100% | ETA: 00:00:00\n",
      "Total time elapsed: 00:00:02\n"
     ]
    },
    {
     "name": "stdout",
     "output_type": "stream",
     "text": [
      "NLT\n"
     ]
    },
    {
     "name": "stderr",
     "output_type": "stream",
     "text": [
      "0% [##############################] 100% | ETA: 00:00:00\n",
      "Total time elapsed: 00:00:05\n"
     ]
    },
    {
     "name": "stdout",
     "output_type": "stream",
     "text": [
      "OD\n"
     ]
    },
    {
     "name": "stderr",
     "output_type": "stream",
     "text": [
      "0% [##############################] 100% | ETA: 00:00:00\n",
      "Total time elapsed: 00:00:02\n"
     ]
    },
    {
     "name": "stdout",
     "output_type": "stream",
     "text": [
      "OD\n"
     ]
    },
    {
     "name": "stderr",
     "output_type": "stream",
     "text": [
      "0% [##############################] 100% | ETA: 00:00:00\n",
      "Total time elapsed: 00:00:05\n"
     ]
    },
    {
     "name": "stdout",
     "output_type": "stream",
     "text": [
      "PMF\n"
     ]
    },
    {
     "name": "stderr",
     "output_type": "stream",
     "text": [
      "0% [##############################] 100% | ETA: 00:00:00\n",
      "Total time elapsed: 00:00:02\n"
     ]
    },
    {
     "name": "stdout",
     "output_type": "stream",
     "text": [
      "PMF\n"
     ]
    },
    {
     "name": "stderr",
     "output_type": "stream",
     "text": [
      "0% [##############################] 100% | ETA: 00:00:00\n",
      "Total time elapsed: 00:00:05\n"
     ]
    },
    {
     "name": "stdout",
     "output_type": "stream",
     "text": [
      "POF\n"
     ]
    },
    {
     "name": "stderr",
     "output_type": "stream",
     "text": [
      "0% [##############################] 100% | ETA: 00:00:00\n",
      "Total time elapsed: 00:00:02\n"
     ]
    },
    {
     "name": "stdout",
     "output_type": "stream",
     "text": [
      "POF\n"
     ]
    },
    {
     "name": "stderr",
     "output_type": "stream",
     "text": [
      "0% [##############################] 100% | ETA: 00:00:00\n",
      "Total time elapsed: 00:00:05\n"
     ]
    },
    {
     "name": "stdout",
     "output_type": "stream",
     "text": [
      "TA\n"
     ]
    },
    {
     "name": "stderr",
     "output_type": "stream",
     "text": [
      "0% [##############################] 100% | ETA: 00:00:00\n",
      "Total time elapsed: 00:00:02\n"
     ]
    },
    {
     "name": "stdout",
     "output_type": "stream",
     "text": [
      "TA\n"
     ]
    },
    {
     "name": "stderr",
     "output_type": "stream",
     "text": [
      "0% [##############################] 100% | ETA: 00:00:00\n",
      "Total time elapsed: 00:00:05\n"
     ]
    },
    {
     "name": "stdout",
     "output_type": "stream",
     "text": [
      "TET\n"
     ]
    },
    {
     "name": "stderr",
     "output_type": "stream",
     "text": [
      "0% [##############################] 100% | ETA: 00:00:00\n",
      "Total time elapsed: 00:00:02\n"
     ]
    },
    {
     "name": "stdout",
     "output_type": "stream",
     "text": [
      "TET\n"
     ]
    },
    {
     "name": "stderr",
     "output_type": "stream",
     "text": [
      "0% [##############################] 100% | ETA: 00:00:00\n",
      "Total time elapsed: 00:00:06\n"
     ]
    },
    {
     "name": "stdout",
     "output_type": "stream",
     "text": [
      "ULO\n"
     ]
    },
    {
     "name": "stderr",
     "output_type": "stream",
     "text": [
      "0% [##############################] 100% | ETA: 00:00:00\n",
      "Total time elapsed: 00:00:02\n"
     ]
    },
    {
     "name": "stdout",
     "output_type": "stream",
     "text": [
      "ULO\n"
     ]
    },
    {
     "name": "stderr",
     "output_type": "stream",
     "text": [
      "0% [##############################] 100% | ETA: 00:00:00\n",
      "Total time elapsed: 00:00:05\n"
     ]
    },
    {
     "name": "stdout",
     "output_type": "stream",
     "text": [
      "WD\n"
     ]
    },
    {
     "name": "stderr",
     "output_type": "stream",
     "text": [
      "0% [##############################] 100% | ETA: 00:00:00\n",
      "Total time elapsed: 00:00:02\n"
     ]
    },
    {
     "name": "stdout",
     "output_type": "stream",
     "text": [
      "WD\n"
     ]
    },
    {
     "name": "stderr",
     "output_type": "stream",
     "text": [
      "0% [##############################] 100% | ETA: 00:00:00\n",
      "Total time elapsed: 00:00:05\n"
     ]
    }
   ],
   "source": [
    "electricity_markets_LCIA= {}\n",
    "se_technologies_LCIA= {}\n",
    "\n",
    "for db_name in database_dict:\n",
    "    for category in categories:\n",
    "        electricity_markets_LCIA[(database_dict[db_name]['year'], database_dict[db_name]['scenario'], category)] = lcahelp.LCA_to_df(electricity_markets[db_name], cats = [category])\n",
    "        se_technologies_LCIA[(database_dict[db_name]['year'], database_dict[db_name]['scenario'], category)]     = lcahelp.LCA_to_df(se_technologies[db_name], cats = [category])"
   ]
  },
  {
   "cell_type": "markdown",
   "metadata": {},
   "source": [
    "load the mid to end characterization factors\n",
    "calculate all results and aggregate them to DALYS and ET"
   ]
  },
  {
   "cell_type": "code",
   "execution_count": 19,
   "metadata": {
    "scrolled": true
   },
   "outputs": [
    {
     "data": {
      "text/html": [
       "<div>\n",
       "<style scoped>\n",
       "    .dataframe tbody tr th:only-of-type {\n",
       "        vertical-align: middle;\n",
       "    }\n",
       "\n",
       "    .dataframe tbody tr th {\n",
       "        vertical-align: top;\n",
       "    }\n",
       "\n",
       "    .dataframe thead th {\n",
       "        text-align: right;\n",
       "    }\n",
       "</style>\n",
       "<table border=\"1\" class=\"dataframe\">\n",
       "  <thead>\n",
       "    <tr style=\"text-align: right;\">\n",
       "      <th></th>\n",
       "      <th>Midpoint impact category</th>\n",
       "      <th>Unit</th>\n",
       "      <th>HH_H</th>\n",
       "      <th>ED_H</th>\n",
       "      <th>RA_H</th>\n",
       "    </tr>\n",
       "    <tr>\n",
       "      <th>Code</th>\n",
       "      <th></th>\n",
       "      <th></th>\n",
       "      <th></th>\n",
       "      <th></th>\n",
       "      <th></th>\n",
       "    </tr>\n",
       "  </thead>\n",
       "  <tbody>\n",
       "    <tr>\n",
       "      <th>CC</th>\n",
       "      <td>Climate change</td>\n",
       "      <td>kg CO2 eq</td>\n",
       "      <td>9.280000e-07</td>\n",
       "      <td>2.800000e-09</td>\n",
       "      <td>0.0000</td>\n",
       "    </tr>\n",
       "    <tr>\n",
       "      <th>OD</th>\n",
       "      <td>Ozone depletion</td>\n",
       "      <td>kg CFC-11 eq</td>\n",
       "      <td>5.310000e-04</td>\n",
       "      <td>3.030000e-03</td>\n",
       "      <td>0.0000</td>\n",
       "    </tr>\n",
       "    <tr>\n",
       "      <th>TA</th>\n",
       "      <td>Terrestrial acidification</td>\n",
       "      <td>kg SO2 eq</td>\n",
       "      <td>0.000000e+00</td>\n",
       "      <td>2.120000e-07</td>\n",
       "      <td>0.0000</td>\n",
       "    </tr>\n",
       "    <tr>\n",
       "      <th>FE</th>\n",
       "      <td>Freshwater eutrophication</td>\n",
       "      <td>kg P eq</td>\n",
       "      <td>0.000000e+00</td>\n",
       "      <td>4.440000e-08</td>\n",
       "      <td>0.0000</td>\n",
       "    </tr>\n",
       "    <tr>\n",
       "      <th>HT</th>\n",
       "      <td>Human toxicity</td>\n",
       "      <td>kg 1,4-DB eq</td>\n",
       "      <td>7.000000e-07</td>\n",
       "      <td>0.000000e+00</td>\n",
       "      <td>0.0000</td>\n",
       "    </tr>\n",
       "    <tr>\n",
       "      <th>POF</th>\n",
       "      <td>Photochemical oxidant formation</td>\n",
       "      <td>kg NMVOC</td>\n",
       "      <td>3.900000e-08</td>\n",
       "      <td>0.000000e+00</td>\n",
       "      <td>0.0000</td>\n",
       "    </tr>\n",
       "    <tr>\n",
       "      <th>PMF</th>\n",
       "      <td>Particulate matter formation</td>\n",
       "      <td>kg PM10 eq</td>\n",
       "      <td>2.600000e-04</td>\n",
       "      <td>0.000000e+00</td>\n",
       "      <td>0.0000</td>\n",
       "    </tr>\n",
       "    <tr>\n",
       "      <th>TET</th>\n",
       "      <td>Terrestrial ecotoxicity</td>\n",
       "      <td>kg 1,4-DB eq</td>\n",
       "      <td>0.000000e+00</td>\n",
       "      <td>1.510000e-07</td>\n",
       "      <td>0.0000</td>\n",
       "    </tr>\n",
       "    <tr>\n",
       "      <th>FET</th>\n",
       "      <td>Freshwater ecotoxicity</td>\n",
       "      <td>kg 1,4-DB eq</td>\n",
       "      <td>0.000000e+00</td>\n",
       "      <td>8.610000e-10</td>\n",
       "      <td>0.0000</td>\n",
       "    </tr>\n",
       "    <tr>\n",
       "      <th>MET</th>\n",
       "      <td>Marine ecotoxicity</td>\n",
       "      <td>kg 1,4-DB eq</td>\n",
       "      <td>0.000000e+00</td>\n",
       "      <td>1.760000e-10</td>\n",
       "      <td>0.0000</td>\n",
       "    </tr>\n",
       "    <tr>\n",
       "      <th>IR</th>\n",
       "      <td>Ionising radiation</td>\n",
       "      <td>kg U235 eq</td>\n",
       "      <td>1.640000e-08</td>\n",
       "      <td>0.000000e+00</td>\n",
       "      <td>0.0000</td>\n",
       "    </tr>\n",
       "    <tr>\n",
       "      <th>ALO</th>\n",
       "      <td>Agricultural land occupation</td>\n",
       "      <td>m2a</td>\n",
       "      <td>0.000000e+00</td>\n",
       "      <td>1.490000e-08</td>\n",
       "      <td>0.0000</td>\n",
       "    </tr>\n",
       "    <tr>\n",
       "      <th>ULO</th>\n",
       "      <td>Urban land occupation</td>\n",
       "      <td>m2a</td>\n",
       "      <td>0.000000e+00</td>\n",
       "      <td>2.050000e-08</td>\n",
       "      <td>0.0000</td>\n",
       "    </tr>\n",
       "    <tr>\n",
       "      <th>NLT</th>\n",
       "      <td>Natural land transformation</td>\n",
       "      <td>m2</td>\n",
       "      <td>0.000000e+00</td>\n",
       "      <td>1.920000e-06</td>\n",
       "      <td>0.0000</td>\n",
       "    </tr>\n",
       "    <tr>\n",
       "      <th>FD</th>\n",
       "      <td>Fossil depletion</td>\n",
       "      <td>kg oil eq</td>\n",
       "      <td>0.000000e+00</td>\n",
       "      <td>0.000000e+00</td>\n",
       "      <td>0.1650</td>\n",
       "    </tr>\n",
       "    <tr>\n",
       "      <th>MD</th>\n",
       "      <td>Metal depletion</td>\n",
       "      <td>kg Fe eq</td>\n",
       "      <td>0.000000e+00</td>\n",
       "      <td>0.000000e+00</td>\n",
       "      <td>0.0715</td>\n",
       "    </tr>\n",
       "    <tr>\n",
       "      <th>ME</th>\n",
       "      <td>Marine eutrophication</td>\n",
       "      <td>kg N eq</td>\n",
       "      <td>0.000000e+00</td>\n",
       "      <td>0.000000e+00</td>\n",
       "      <td>0.0000</td>\n",
       "    </tr>\n",
       "    <tr>\n",
       "      <th>WD</th>\n",
       "      <td>Water depletion</td>\n",
       "      <td>m3</td>\n",
       "      <td>2.220000e-06</td>\n",
       "      <td>1.350000e-08</td>\n",
       "      <td>0.0000</td>\n",
       "    </tr>\n",
       "  </tbody>\n",
       "</table>\n",
       "</div>"
      ],
      "text/plain": [
       "             Midpoint impact category          Unit          HH_H  \\\n",
       "Code                                                                \n",
       "CC                     Climate change     kg CO2 eq  9.280000e-07   \n",
       "OD                    Ozone depletion  kg CFC-11 eq  5.310000e-04   \n",
       "TA          Terrestrial acidification     kg SO2 eq  0.000000e+00   \n",
       "FE          Freshwater eutrophication       kg P eq  0.000000e+00   \n",
       "HT                     Human toxicity  kg 1,4-DB eq  7.000000e-07   \n",
       "POF   Photochemical oxidant formation      kg NMVOC  3.900000e-08   \n",
       "PMF      Particulate matter formation    kg PM10 eq  2.600000e-04   \n",
       "TET           Terrestrial ecotoxicity  kg 1,4-DB eq  0.000000e+00   \n",
       "FET            Freshwater ecotoxicity  kg 1,4-DB eq  0.000000e+00   \n",
       "MET                Marine ecotoxicity  kg 1,4-DB eq  0.000000e+00   \n",
       "IR                 Ionising radiation    kg U235 eq  1.640000e-08   \n",
       "ALO      Agricultural land occupation           m2a  0.000000e+00   \n",
       "ULO             Urban land occupation           m2a  0.000000e+00   \n",
       "NLT       Natural land transformation            m2  0.000000e+00   \n",
       "FD                   Fossil depletion     kg oil eq  0.000000e+00   \n",
       "MD                    Metal depletion      kg Fe eq  0.000000e+00   \n",
       "ME              Marine eutrophication       kg N eq  0.000000e+00   \n",
       "WD                    Water depletion            m3  2.220000e-06   \n",
       "\n",
       "              ED_H    RA_H  \n",
       "Code                        \n",
       "CC    2.800000e-09  0.0000  \n",
       "OD    3.030000e-03  0.0000  \n",
       "TA    2.120000e-07  0.0000  \n",
       "FE    4.440000e-08  0.0000  \n",
       "HT    0.000000e+00  0.0000  \n",
       "POF   0.000000e+00  0.0000  \n",
       "PMF   0.000000e+00  0.0000  \n",
       "TET   1.510000e-07  0.0000  \n",
       "FET   8.610000e-10  0.0000  \n",
       "MET   1.760000e-10  0.0000  \n",
       "IR    0.000000e+00  0.0000  \n",
       "ALO   1.490000e-08  0.0000  \n",
       "ULO   2.050000e-08  0.0000  \n",
       "NLT   1.920000e-06  0.0000  \n",
       "FD    0.000000e+00  0.1650  \n",
       "MD    0.000000e+00  0.0715  \n",
       "ME    0.000000e+00  0.0000  \n",
       "WD    1.350000e-08  0.0000  "
      ]
     },
     "execution_count": 19,
     "metadata": {},
     "output_type": "execute_result"
    }
   ],
   "source": [
    "mid_end = pd.read_csv(\"data\\\\recipe_mid_to_end.csv\", sep = ';', index_col = 0) \n",
    "mid_end\n"
   ]
  },
  {
   "cell_type": "code",
   "execution_count": 20,
   "metadata": {},
   "outputs": [],
   "source": [
    "end_categories = ['HH_H', 'ED_H', 'RA_H'] \n",
    "    "
   ]
  },
  {
   "cell_type": "code",
   "execution_count": 21,
   "metadata": {},
   "outputs": [],
   "source": [
    "end_mid_electricity_markets = {}\n",
    "end_mid_se_technologies = {}\n",
    "for db_name in database_dict:        \n",
    "    for end_category in end_categories:\n",
    "        for category in categories:\n",
    "                    \n",
    "            end_mid_electricity_markets[(database_dict[db_name]['year'], database_dict[db_name]['scenario'],  end_category, category)] = electricity_markets_LCIA[(database_dict[db_name]['year'], database_dict[db_name]['scenario'], category)]\n",
    "            end_mid_se_technologies[(database_dict[db_name]['year'], database_dict[db_name]['scenario'],  end_category, category)]     = se_technologies_LCIA[(database_dict[db_name]['year'], database_dict[db_name]['scenario'], category)]                                                                               \n"
   ]
  },
  {
   "cell_type": "code",
   "execution_count": 22,
   "metadata": {
    "scrolled": false
   },
   "outputs": [
    {
     "name": "stderr",
     "output_type": "stream",
     "text": [
      "C:\\Users\\rauner\\AppData\\Local\\Continuum\\miniconda3\\lib\\site-packages\\ipykernel_launcher.py:1: FutureWarning: Sorting because non-concatenation axis is not aligned. A future version\n",
      "of pandas will change to not sort by default.\n",
      "\n",
      "To accept the future behavior, pass 'sort=False'.\n",
      "\n",
      "To retain the current behavior and silence the warning, pass 'sort=True'.\n",
      "\n",
      "  \"\"\"Entry point for launching an IPython kernel.\n",
      "C:\\Users\\rauner\\AppData\\Local\\Continuum\\miniconda3\\lib\\site-packages\\ipykernel_launcher.py:2: FutureWarning: Sorting because non-concatenation axis is not aligned. A future version\n",
      "of pandas will change to not sort by default.\n",
      "\n",
      "To accept the future behavior, pass 'sort=False'.\n",
      "\n",
      "To retain the current behavior and silence the warning, pass 'sort=True'.\n",
      "\n",
      "  \n"
     ]
    }
   ],
   "source": [
    "end_end_electricity_markets = pd.concat(end_mid_electricity_markets, names=['period','scenario','end_category', 'category', 'variable'])\n",
    "end_end_se_technologies     = pd.concat(end_mid_se_technologies, names=['period','scenario','end_category', 'category', 'variable'])"
   ]
  },
  {
   "cell_type": "markdown",
   "metadata": {},
   "source": [
    "sum up all end categories"
   ]
  },
  {
   "cell_type": "code",
   "execution_count": 23,
   "metadata": {},
   "outputs": [],
   "source": [
    "end_end_electricity_markets = end_end_electricity_markets.groupby(['period','scenario', 'end_category', 'variable']).sum()\n",
    "end_end_se_technologies     = end_end_se_technologies.groupby(['period','scenario', 'end_category', 'variable']).sum()"
   ]
  },
  {
   "cell_type": "code",
   "execution_count": 24,
   "metadata": {},
   "outputs": [],
   "source": [
    "end_end_electricity_markets['total'] = end_end_electricity_markets.sum(axis = 1)\n",
    "end_end_se_technologies['total']     = end_end_se_technologies.sum(axis = 1)"
   ]
  },
  {
   "cell_type": "code",
   "execution_count": 25,
   "metadata": {},
   "outputs": [],
   "source": [
    "end_end_electricity_markets.to_csv('interm\\\\lca_electricity_markets_per_tec_end_points' + project + '.csv', sep=';')\n",
    "end_end_se_technologies.to_csv('interm\\\\lca_se_technologies_per_tec_end_points' + project + '.csv', sep=';')"
   ]
  },
  {
   "cell_type": "code",
   "execution_count": 26,
   "metadata": {
    "scrolled": true
   },
   "outputs": [],
   "source": [
    "end_end_electricity_markets  = pd.read_csv('interm\\\\lca_electricity_markets_per_tec_end_points' + project + '.csv', sep = ';') \n",
    "end_end_se_technologies      = pd.read_csv('interm\\\\lca_se_technologies_per_tec_end_points' + project + '.csv', sep = ';') "
   ]
  },
  {
   "cell_type": "markdown",
   "metadata": {},
   "source": [
    "add location"
   ]
  },
  {
   "cell_type": "code",
   "execution_count": 27,
   "metadata": {},
   "outputs": [],
   "source": [
    "end_end_electricity_markets['ecoinvent'] = end_end_electricity_markets['variable'].str.split(\",\").str[2].str.split(\"'\").str[1].str.split(\"-\").str[0]\n",
    "end_end_se_technologies['ecoinvent']     = end_end_se_technologies['variable'].str.split(\",\").str[-1].str.split(\"'\").str[1].str.split(\"-\").str[0]"
   ]
  },
  {
   "cell_type": "markdown",
   "metadata": {},
   "source": [
    "match REMIND locations"
   ]
  },
  {
   "cell_type": "code",
   "execution_count": 28,
   "metadata": {},
   "outputs": [],
   "source": [
    "end_end_electricity_markets['variable'] = end_end_electricity_markets['variable'].str.split(\",\").str[0].str.split(\"'\").str[1]\n",
    "end_end_se_technologies['variable'] = end_end_se_technologies['variable'].str.split(\"'\").str[1]"
   ]
  },
  {
   "cell_type": "code",
   "execution_count": 29,
   "metadata": {
    "scrolled": true
   },
   "outputs": [],
   "source": [
    "region_mapping_elec     = pd.read_csv(\"data\\\\enavi\\\\regionmappingREMIND_noFullISO_elec.csv\", sep = ';', index_col = 0)\n",
    "region_mapping_se       = pd.read_csv(\"data\\\\enavi\\\\regionmappingREMIND_noFullISO_se.csv\", sep = ';', index_col = 0)\n",
    "region_mapping_se_world = pd.read_csv(\"data\\\\enavi\\\\regionmappingREMIND_noFullISO_se_world.csv\", sep = ';', index_col = False)"
   ]
  },
  {
   "cell_type": "code",
   "execution_count": 30,
   "metadata": {},
   "outputs": [],
   "source": [
    "end_end_electricity_markets = pd.merge(end_end_electricity_markets, region_mapping_elec, on= \"ecoinvent\", how= \"inner\")\n",
    "end_end_se_technologies = pd.merge(end_end_se_technologies, region_mapping_se, on= \"ecoinvent\", how= \"inner\")"
   ]
  },
  {
   "cell_type": "markdown",
   "metadata": {},
   "source": [
    "average over multiple ecoinvent locations, we have India with several grids for example"
   ]
  },
  {
   "cell_type": "code",
   "execution_count": 31,
   "metadata": {},
   "outputs": [],
   "source": [
    "#end_end_electricity_markets.groupby(['period','scenario', 'end_category', 'variable','ecoinvent', 'CountryCode', 'RegionCode']).mean()\n",
    "#end_end_se_technologies.groupby(['period','scenario', 'end_category', 'variable','ecoinvent', 'CountryCode', 'RegionCode']).mean()"
   ]
  },
  {
   "cell_type": "code",
   "execution_count": 32,
   "metadata": {},
   "outputs": [],
   "source": [
    "end_end_electricity_markets = end_end_electricity_markets.groupby(['period','scenario', 'end_category', 'variable', 'RegionCode']).mean()\n",
    "end_end_se_technologies = end_end_se_technologies.groupby(['period','scenario', 'end_category', 'variable', 'RegionCode']).mean()"
   ]
  },
  {
   "cell_type": "markdown",
   "metadata": {},
   "source": [
    "## put the world values here for all REMIND regions for the non electricity se technologies"
   ]
  },
  {
   "cell_type": "code",
   "execution_count": 33,
   "metadata": {},
   "outputs": [],
   "source": [
    "end_end_se_technologies.to_csv('interm\\\\lca_mid_points.csv', sep=';')\n",
    "end_end_se_technologies = pd.read_csv(\"interm\\\\lca_mid_points.csv\", sep = ';') \n",
    "end_end_electricity_markets.to_csv('interm\\\\lca_mid_points.csv', sep=';')\n",
    "end_end_electricity_markets = pd.read_csv(\"interm\\\\lca_mid_points.csv\", sep = ';')"
   ]
  },
  {
   "cell_type": "code",
   "execution_count": 34,
   "metadata": {},
   "outputs": [],
   "source": [
    "end_end_se_technologies = pd.merge(end_end_se_technologies, region_mapping_se_world,  left_on=['RegionCode'], right_on=['World'], how= \"right\")"
   ]
  },
  {
   "cell_type": "code",
   "execution_count": 35,
   "metadata": {},
   "outputs": [],
   "source": [
    "end_end_se_technologies['RegionCode'] = end_end_se_technologies['Remind']\n",
    "#delte World and -- column\n",
    "#end_end_se_technologies = end_end_se_technologies.drop('World', 1)\n",
    "end_end_se_technologies = end_end_se_technologies.drop('World', 1)\n",
    "end_end_se_technologies = end_end_se_technologies.drop('Remind', 1)"
   ]
  },
  {
   "cell_type": "code",
   "execution_count": 36,
   "metadata": {},
   "outputs": [],
   "source": [
    "end_end = end_end_electricity_markets.append(end_end_se_technologies)"
   ]
  },
  {
   "cell_type": "code",
   "execution_count": 37,
   "metadata": {
    "scrolled": true
   },
   "outputs": [
    {
     "data": {
      "text/html": [
       "<div>\n",
       "<style scoped>\n",
       "    .dataframe tbody tr th:only-of-type {\n",
       "        vertical-align: middle;\n",
       "    }\n",
       "\n",
       "    .dataframe tbody tr th {\n",
       "        vertical-align: top;\n",
       "    }\n",
       "\n",
       "    .dataframe thead th {\n",
       "        text-align: right;\n",
       "    }\n",
       "</style>\n",
       "<table border=\"1\" class=\"dataframe\">\n",
       "  <thead>\n",
       "    <tr style=\"text-align: right;\">\n",
       "      <th></th>\n",
       "      <th>period</th>\n",
       "      <th>scenario</th>\n",
       "      <th>end_category</th>\n",
       "      <th>variable</th>\n",
       "      <th>RegionCode</th>\n",
       "      <th>ALO</th>\n",
       "      <th>CC</th>\n",
       "      <th>FD</th>\n",
       "      <th>FE</th>\n",
       "      <th>FET</th>\n",
       "      <th>...</th>\n",
       "      <th>MET</th>\n",
       "      <th>NLT</th>\n",
       "      <th>OD</th>\n",
       "      <th>PMF</th>\n",
       "      <th>POF</th>\n",
       "      <th>TA</th>\n",
       "      <th>TET</th>\n",
       "      <th>ULO</th>\n",
       "      <th>WD</th>\n",
       "      <th>total</th>\n",
       "    </tr>\n",
       "  </thead>\n",
       "  <tbody>\n",
       "    <tr>\n",
       "      <th>0</th>\n",
       "      <td>2015</td>\n",
       "      <td>ecoinvent</td>\n",
       "      <td>ED_H</td>\n",
       "      <td>market for electricity</td>\n",
       "      <td>CAZ</td>\n",
       "      <td>0.009989</td>\n",
       "      <td>0.423651</td>\n",
       "      <td>0.124490</td>\n",
       "      <td>0.000366</td>\n",
       "      <td>0.006270</td>\n",
       "      <td>...</td>\n",
       "      <td>0.006062</td>\n",
       "      <td>0.000114</td>\n",
       "      <td>2.766938e-08</td>\n",
       "      <td>0.000660</td>\n",
       "      <td>0.001105</td>\n",
       "      <td>0.002161</td>\n",
       "      <td>0.000020</td>\n",
       "      <td>0.001726</td>\n",
       "      <td>0.002679</td>\n",
       "      <td>0.940135</td>\n",
       "    </tr>\n",
       "    <tr>\n",
       "      <th>1</th>\n",
       "      <td>2015</td>\n",
       "      <td>ecoinvent</td>\n",
       "      <td>ED_H</td>\n",
       "      <td>market for electricity</td>\n",
       "      <td>CHA</td>\n",
       "      <td>0.011656</td>\n",
       "      <td>0.878965</td>\n",
       "      <td>0.213994</td>\n",
       "      <td>0.000275</td>\n",
       "      <td>0.006721</td>\n",
       "      <td>...</td>\n",
       "      <td>0.006414</td>\n",
       "      <td>0.000043</td>\n",
       "      <td>9.639478e-09</td>\n",
       "      <td>0.001888</td>\n",
       "      <td>0.002891</td>\n",
       "      <td>0.004398</td>\n",
       "      <td>0.000027</td>\n",
       "      <td>0.008280</td>\n",
       "      <td>0.002890</td>\n",
       "      <td>1.428306</td>\n",
       "    </tr>\n",
       "    <tr>\n",
       "      <th>2</th>\n",
       "      <td>2015</td>\n",
       "      <td>ecoinvent</td>\n",
       "      <td>ED_H</td>\n",
       "      <td>market for electricity</td>\n",
       "      <td>CHE</td>\n",
       "      <td>0.012249</td>\n",
       "      <td>0.093447</td>\n",
       "      <td>0.023630</td>\n",
       "      <td>0.000108</td>\n",
       "      <td>0.001945</td>\n",
       "      <td>...</td>\n",
       "      <td>0.001890</td>\n",
       "      <td>0.000008</td>\n",
       "      <td>4.338062e-08</td>\n",
       "      <td>0.000212</td>\n",
       "      <td>0.000161</td>\n",
       "      <td>0.001120</td>\n",
       "      <td>0.000003</td>\n",
       "      <td>0.000617</td>\n",
       "      <td>0.001577</td>\n",
       "      <td>0.559166</td>\n",
       "    </tr>\n",
       "    <tr>\n",
       "      <th>3</th>\n",
       "      <td>2015</td>\n",
       "      <td>ecoinvent</td>\n",
       "      <td>ED_H</td>\n",
       "      <td>market for electricity</td>\n",
       "      <td>DEU</td>\n",
       "      <td>0.040584</td>\n",
       "      <td>0.646381</td>\n",
       "      <td>0.166653</td>\n",
       "      <td>0.000931</td>\n",
       "      <td>0.014562</td>\n",
       "      <td>...</td>\n",
       "      <td>0.013906</td>\n",
       "      <td>0.000031</td>\n",
       "      <td>3.110493e-08</td>\n",
       "      <td>0.000708</td>\n",
       "      <td>0.000829</td>\n",
       "      <td>0.003671</td>\n",
       "      <td>0.000007</td>\n",
       "      <td>0.003003</td>\n",
       "      <td>0.003297</td>\n",
       "      <td>1.612819</td>\n",
       "    </tr>\n",
       "    <tr>\n",
       "      <th>4</th>\n",
       "      <td>2015</td>\n",
       "      <td>ecoinvent</td>\n",
       "      <td>ED_H</td>\n",
       "      <td>market for electricity</td>\n",
       "      <td>ECE</td>\n",
       "      <td>0.100941</td>\n",
       "      <td>0.719152</td>\n",
       "      <td>0.220034</td>\n",
       "      <td>0.000582</td>\n",
       "      <td>0.009576</td>\n",
       "      <td>...</td>\n",
       "      <td>0.009397</td>\n",
       "      <td>0.000115</td>\n",
       "      <td>7.251366e-08</td>\n",
       "      <td>0.001232</td>\n",
       "      <td>0.002077</td>\n",
       "      <td>0.003997</td>\n",
       "      <td>0.000039</td>\n",
       "      <td>0.003389</td>\n",
       "      <td>0.002763</td>\n",
       "      <td>1.662927</td>\n",
       "    </tr>\n",
       "    <tr>\n",
       "      <th>5</th>\n",
       "      <td>2015</td>\n",
       "      <td>ecoinvent</td>\n",
       "      <td>ED_H</td>\n",
       "      <td>market for electricity</td>\n",
       "      <td>ENN</td>\n",
       "      <td>0.002625</td>\n",
       "      <td>0.042825</td>\n",
       "      <td>0.006855</td>\n",
       "      <td>0.000010</td>\n",
       "      <td>0.000394</td>\n",
       "      <td>...</td>\n",
       "      <td>0.000372</td>\n",
       "      <td>0.000043</td>\n",
       "      <td>2.010260e-09</td>\n",
       "      <td>0.000053</td>\n",
       "      <td>0.000068</td>\n",
       "      <td>0.000083</td>\n",
       "      <td>0.000004</td>\n",
       "      <td>0.000277</td>\n",
       "      <td>0.000104</td>\n",
       "      <td>0.081277</td>\n",
       "    </tr>\n",
       "    <tr>\n",
       "      <th>6</th>\n",
       "      <td>2015</td>\n",
       "      <td>ecoinvent</td>\n",
       "      <td>ED_H</td>\n",
       "      <td>market for electricity</td>\n",
       "      <td>ESC</td>\n",
       "      <td>0.033377</td>\n",
       "      <td>0.661659</td>\n",
       "      <td>0.217233</td>\n",
       "      <td>0.000180</td>\n",
       "      <td>0.003600</td>\n",
       "      <td>...</td>\n",
       "      <td>0.003851</td>\n",
       "      <td>0.000174</td>\n",
       "      <td>9.796264e-08</td>\n",
       "      <td>0.001271</td>\n",
       "      <td>0.002229</td>\n",
       "      <td>0.004913</td>\n",
       "      <td>0.000059</td>\n",
       "      <td>0.002004</td>\n",
       "      <td>0.001376</td>\n",
       "      <td>1.173536</td>\n",
       "    </tr>\n",
       "    <tr>\n",
       "      <th>7</th>\n",
       "      <td>2015</td>\n",
       "      <td>ecoinvent</td>\n",
       "      <td>ED_H</td>\n",
       "      <td>market for electricity</td>\n",
       "      <td>ESE</td>\n",
       "      <td>0.023982</td>\n",
       "      <td>0.597629</td>\n",
       "      <td>0.185153</td>\n",
       "      <td>0.000924</td>\n",
       "      <td>0.014730</td>\n",
       "      <td>...</td>\n",
       "      <td>0.014308</td>\n",
       "      <td>0.000078</td>\n",
       "      <td>5.996723e-08</td>\n",
       "      <td>0.001444</td>\n",
       "      <td>0.001623</td>\n",
       "      <td>0.004179</td>\n",
       "      <td>0.000033</td>\n",
       "      <td>0.001702</td>\n",
       "      <td>0.003512</td>\n",
       "      <td>1.650589</td>\n",
       "    </tr>\n",
       "    <tr>\n",
       "      <th>8</th>\n",
       "      <td>2015</td>\n",
       "      <td>ecoinvent</td>\n",
       "      <td>ED_H</td>\n",
       "      <td>market for electricity</td>\n",
       "      <td>EUI</td>\n",
       "      <td>0.032523</td>\n",
       "      <td>0.346149</td>\n",
       "      <td>0.098234</td>\n",
       "      <td>0.000151</td>\n",
       "      <td>0.003611</td>\n",
       "      <td>...</td>\n",
       "      <td>0.003467</td>\n",
       "      <td>0.000043</td>\n",
       "      <td>2.965599e-08</td>\n",
       "      <td>0.000824</td>\n",
       "      <td>0.001347</td>\n",
       "      <td>0.002528</td>\n",
       "      <td>0.000011</td>\n",
       "      <td>0.002804</td>\n",
       "      <td>0.001251</td>\n",
       "      <td>0.753584</td>\n",
       "    </tr>\n",
       "    <tr>\n",
       "      <th>9</th>\n",
       "      <td>2015</td>\n",
       "      <td>ecoinvent</td>\n",
       "      <td>ED_H</td>\n",
       "      <td>market for electricity</td>\n",
       "      <td>EUN</td>\n",
       "      <td>0.127312</td>\n",
       "      <td>0.214771</td>\n",
       "      <td>0.054679</td>\n",
       "      <td>0.000110</td>\n",
       "      <td>0.002751</td>\n",
       "      <td>...</td>\n",
       "      <td>0.002627</td>\n",
       "      <td>0.000020</td>\n",
       "      <td>3.703813e-08</td>\n",
       "      <td>0.000260</td>\n",
       "      <td>0.000453</td>\n",
       "      <td>0.000854</td>\n",
       "      <td>0.000008</td>\n",
       "      <td>0.002558</td>\n",
       "      <td>0.001446</td>\n",
       "      <td>0.834452</td>\n",
       "    </tr>\n",
       "    <tr>\n",
       "      <th>10</th>\n",
       "      <td>2015</td>\n",
       "      <td>ecoinvent</td>\n",
       "      <td>ED_H</td>\n",
       "      <td>market for electricity</td>\n",
       "      <td>EWN</td>\n",
       "      <td>0.045872</td>\n",
       "      <td>0.483419</td>\n",
       "      <td>0.138838</td>\n",
       "      <td>0.000365</td>\n",
       "      <td>0.006185</td>\n",
       "      <td>...</td>\n",
       "      <td>0.005963</td>\n",
       "      <td>0.000053</td>\n",
       "      <td>5.194714e-08</td>\n",
       "      <td>0.000403</td>\n",
       "      <td>0.000694</td>\n",
       "      <td>0.001704</td>\n",
       "      <td>0.000007</td>\n",
       "      <td>0.002384</td>\n",
       "      <td>0.002516</td>\n",
       "      <td>1.163430</td>\n",
       "    </tr>\n",
       "    <tr>\n",
       "      <th>11</th>\n",
       "      <td>2015</td>\n",
       "      <td>ecoinvent</td>\n",
       "      <td>ED_H</td>\n",
       "      <td>market for electricity</td>\n",
       "      <td>FRA</td>\n",
       "      <td>0.004585</td>\n",
       "      <td>0.053251</td>\n",
       "      <td>0.014263</td>\n",
       "      <td>0.000021</td>\n",
       "      <td>0.000821</td>\n",
       "      <td>...</td>\n",
       "      <td>0.000857</td>\n",
       "      <td>0.000006</td>\n",
       "      <td>9.016153e-08</td>\n",
       "      <td>0.000114</td>\n",
       "      <td>0.000150</td>\n",
       "      <td>0.000254</td>\n",
       "      <td>0.000005</td>\n",
       "      <td>0.000459</td>\n",
       "      <td>0.002671</td>\n",
       "      <td>0.705560</td>\n",
       "    </tr>\n",
       "    <tr>\n",
       "      <th>12</th>\n",
       "      <td>2015</td>\n",
       "      <td>ecoinvent</td>\n",
       "      <td>ED_H</td>\n",
       "      <td>market for electricity</td>\n",
       "      <td>IND</td>\n",
       "      <td>0.016062</td>\n",
       "      <td>1.280238</td>\n",
       "      <td>0.391177</td>\n",
       "      <td>0.000632</td>\n",
       "      <td>0.011600</td>\n",
       "      <td>...</td>\n",
       "      <td>0.011009</td>\n",
       "      <td>0.000144</td>\n",
       "      <td>1.741131e-08</td>\n",
       "      <td>0.003447</td>\n",
       "      <td>0.003423</td>\n",
       "      <td>0.004719</td>\n",
       "      <td>0.000026</td>\n",
       "      <td>0.011272</td>\n",
       "      <td>0.004488</td>\n",
       "      <td>2.246514</td>\n",
       "    </tr>\n",
       "    <tr>\n",
       "      <th>13</th>\n",
       "      <td>2015</td>\n",
       "      <td>ecoinvent</td>\n",
       "      <td>ED_H</td>\n",
       "      <td>market for electricity</td>\n",
       "      <td>JPN</td>\n",
       "      <td>0.026135</td>\n",
       "      <td>0.757570</td>\n",
       "      <td>0.228966</td>\n",
       "      <td>0.000141</td>\n",
       "      <td>0.004030</td>\n",
       "      <td>...</td>\n",
       "      <td>0.003059</td>\n",
       "      <td>0.000270</td>\n",
       "      <td>2.431217e-08</td>\n",
       "      <td>0.000947</td>\n",
       "      <td>0.001913</td>\n",
       "      <td>0.003083</td>\n",
       "      <td>0.000042</td>\n",
       "      <td>0.003885</td>\n",
       "      <td>0.001848</td>\n",
       "      <td>1.179258</td>\n",
       "    </tr>\n",
       "    <tr>\n",
       "      <th>14</th>\n",
       "      <td>2015</td>\n",
       "      <td>ecoinvent</td>\n",
       "      <td>ED_H</td>\n",
       "      <td>market for electricity</td>\n",
       "      <td>LAM</td>\n",
       "      <td>0.029878</td>\n",
       "      <td>0.483849</td>\n",
       "      <td>0.164171</td>\n",
       "      <td>0.000058</td>\n",
       "      <td>0.001707</td>\n",
       "      <td>...</td>\n",
       "      <td>0.001856</td>\n",
       "      <td>0.000150</td>\n",
       "      <td>5.804018e-08</td>\n",
       "      <td>0.001164</td>\n",
       "      <td>0.001667</td>\n",
       "      <td>0.002824</td>\n",
       "      <td>0.000045</td>\n",
       "      <td>0.002477</td>\n",
       "      <td>0.000920</td>\n",
       "      <td>0.796988</td>\n",
       "    </tr>\n",
       "    <tr>\n",
       "      <th>15</th>\n",
       "      <td>2015</td>\n",
       "      <td>ecoinvent</td>\n",
       "      <td>ED_H</td>\n",
       "      <td>market for electricity</td>\n",
       "      <td>MEA</td>\n",
       "      <td>0.001269</td>\n",
       "      <td>0.716961</td>\n",
       "      <td>0.274102</td>\n",
       "      <td>0.000051</td>\n",
       "      <td>0.001700</td>\n",
       "      <td>...</td>\n",
       "      <td>0.001836</td>\n",
       "      <td>0.000165</td>\n",
       "      <td>7.140877e-08</td>\n",
       "      <td>0.000893</td>\n",
       "      <td>0.001879</td>\n",
       "      <td>0.003030</td>\n",
       "      <td>0.000046</td>\n",
       "      <td>0.001275</td>\n",
       "      <td>0.001695</td>\n",
       "      <td>1.105898</td>\n",
       "    </tr>\n",
       "    <tr>\n",
       "      <th>16</th>\n",
       "      <td>2015</td>\n",
       "      <td>ecoinvent</td>\n",
       "      <td>ED_H</td>\n",
       "      <td>market for electricity</td>\n",
       "      <td>OAS</td>\n",
       "      <td>0.005644</td>\n",
       "      <td>0.616117</td>\n",
       "      <td>0.197945</td>\n",
       "      <td>0.000389</td>\n",
       "      <td>0.007179</td>\n",
       "      <td>...</td>\n",
       "      <td>0.006793</td>\n",
       "      <td>0.000081</td>\n",
       "      <td>2.911786e-08</td>\n",
       "      <td>0.002731</td>\n",
       "      <td>0.001572</td>\n",
       "      <td>0.002599</td>\n",
       "      <td>0.000022</td>\n",
       "      <td>0.003437</td>\n",
       "      <td>0.002184</td>\n",
       "      <td>1.162773</td>\n",
       "    </tr>\n",
       "    <tr>\n",
       "      <th>17</th>\n",
       "      <td>2015</td>\n",
       "      <td>ecoinvent</td>\n",
       "      <td>ED_H</td>\n",
       "      <td>market for electricity</td>\n",
       "      <td>REF</td>\n",
       "      <td>0.003569</td>\n",
       "      <td>0.526805</td>\n",
       "      <td>0.190631</td>\n",
       "      <td>0.000134</td>\n",
       "      <td>0.003595</td>\n",
       "      <td>...</td>\n",
       "      <td>0.003002</td>\n",
       "      <td>0.000144</td>\n",
       "      <td>2.808010e-08</td>\n",
       "      <td>0.000704</td>\n",
       "      <td>0.001132</td>\n",
       "      <td>0.001694</td>\n",
       "      <td>0.000018</td>\n",
       "      <td>0.002218</td>\n",
       "      <td>0.002049</td>\n",
       "      <td>0.951731</td>\n",
       "    </tr>\n",
       "    <tr>\n",
       "      <th>18</th>\n",
       "      <td>2015</td>\n",
       "      <td>ecoinvent</td>\n",
       "      <td>ED_H</td>\n",
       "      <td>market for electricity</td>\n",
       "      <td>ROE</td>\n",
       "      <td>0.003210</td>\n",
       "      <td>0.703753</td>\n",
       "      <td>0.176852</td>\n",
       "      <td>0.001421</td>\n",
       "      <td>0.022081</td>\n",
       "      <td>...</td>\n",
       "      <td>0.021093</td>\n",
       "      <td>0.000022</td>\n",
       "      <td>9.809622e-09</td>\n",
       "      <td>0.004641</td>\n",
       "      <td>0.001820</td>\n",
       "      <td>0.006308</td>\n",
       "      <td>0.000013</td>\n",
       "      <td>0.001376</td>\n",
       "      <td>0.003610</td>\n",
       "      <td>1.862163</td>\n",
       "    </tr>\n",
       "    <tr>\n",
       "      <th>19</th>\n",
       "      <td>2015</td>\n",
       "      <td>ecoinvent</td>\n",
       "      <td>ED_H</td>\n",
       "      <td>market for electricity</td>\n",
       "      <td>SSA</td>\n",
       "      <td>0.001930</td>\n",
       "      <td>0.497528</td>\n",
       "      <td>0.168957</td>\n",
       "      <td>0.000142</td>\n",
       "      <td>0.003068</td>\n",
       "      <td>...</td>\n",
       "      <td>0.003143</td>\n",
       "      <td>0.000102</td>\n",
       "      <td>4.607763e-08</td>\n",
       "      <td>0.001039</td>\n",
       "      <td>0.001748</td>\n",
       "      <td>0.003169</td>\n",
       "      <td>0.000036</td>\n",
       "      <td>0.001911</td>\n",
       "      <td>0.000998</td>\n",
       "      <td>0.834298</td>\n",
       "    </tr>\n",
       "    <tr>\n",
       "      <th>20</th>\n",
       "      <td>2015</td>\n",
       "      <td>ecoinvent</td>\n",
       "      <td>ED_H</td>\n",
       "      <td>market for electricity</td>\n",
       "      <td>UKI</td>\n",
       "      <td>0.048901</td>\n",
       "      <td>0.659914</td>\n",
       "      <td>0.210267</td>\n",
       "      <td>0.000113</td>\n",
       "      <td>0.002903</td>\n",
       "      <td>...</td>\n",
       "      <td>0.003203</td>\n",
       "      <td>0.000169</td>\n",
       "      <td>7.241778e-08</td>\n",
       "      <td>0.001084</td>\n",
       "      <td>0.002069</td>\n",
       "      <td>0.003794</td>\n",
       "      <td>0.000047</td>\n",
       "      <td>0.002761</td>\n",
       "      <td>0.001677</td>\n",
       "      <td>1.195287</td>\n",
       "    </tr>\n",
       "    <tr>\n",
       "      <th>21</th>\n",
       "      <td>2015</td>\n",
       "      <td>ecoinvent</td>\n",
       "      <td>ED_H</td>\n",
       "      <td>market for electricity</td>\n",
       "      <td>USA</td>\n",
       "      <td>0.010061</td>\n",
       "      <td>0.670834</td>\n",
       "      <td>0.202009</td>\n",
       "      <td>0.000579</td>\n",
       "      <td>0.010632</td>\n",
       "      <td>...</td>\n",
       "      <td>0.009273</td>\n",
       "      <td>0.000064</td>\n",
       "      <td>5.185545e-08</td>\n",
       "      <td>0.002212</td>\n",
       "      <td>0.001139</td>\n",
       "      <td>0.002187</td>\n",
       "      <td>0.000038</td>\n",
       "      <td>0.002753</td>\n",
       "      <td>0.002832</td>\n",
       "      <td>1.433476</td>\n",
       "    </tr>\n",
       "    <tr>\n",
       "      <th>22</th>\n",
       "      <td>2015</td>\n",
       "      <td>ecoinvent</td>\n",
       "      <td>HH_H</td>\n",
       "      <td>market for electricity</td>\n",
       "      <td>CAZ</td>\n",
       "      <td>0.009989</td>\n",
       "      <td>0.423651</td>\n",
       "      <td>0.124490</td>\n",
       "      <td>0.000366</td>\n",
       "      <td>0.006270</td>\n",
       "      <td>...</td>\n",
       "      <td>0.006062</td>\n",
       "      <td>0.000114</td>\n",
       "      <td>2.766938e-08</td>\n",
       "      <td>0.000660</td>\n",
       "      <td>0.001105</td>\n",
       "      <td>0.002161</td>\n",
       "      <td>0.000020</td>\n",
       "      <td>0.001726</td>\n",
       "      <td>0.002679</td>\n",
       "      <td>0.940135</td>\n",
       "    </tr>\n",
       "    <tr>\n",
       "      <th>23</th>\n",
       "      <td>2015</td>\n",
       "      <td>ecoinvent</td>\n",
       "      <td>HH_H</td>\n",
       "      <td>market for electricity</td>\n",
       "      <td>CHA</td>\n",
       "      <td>0.011656</td>\n",
       "      <td>0.878965</td>\n",
       "      <td>0.213994</td>\n",
       "      <td>0.000275</td>\n",
       "      <td>0.006721</td>\n",
       "      <td>...</td>\n",
       "      <td>0.006414</td>\n",
       "      <td>0.000043</td>\n",
       "      <td>9.639478e-09</td>\n",
       "      <td>0.001888</td>\n",
       "      <td>0.002891</td>\n",
       "      <td>0.004398</td>\n",
       "      <td>0.000027</td>\n",
       "      <td>0.008280</td>\n",
       "      <td>0.002890</td>\n",
       "      <td>1.428306</td>\n",
       "    </tr>\n",
       "    <tr>\n",
       "      <th>24</th>\n",
       "      <td>2015</td>\n",
       "      <td>ecoinvent</td>\n",
       "      <td>HH_H</td>\n",
       "      <td>market for electricity</td>\n",
       "      <td>CHE</td>\n",
       "      <td>0.012249</td>\n",
       "      <td>0.093447</td>\n",
       "      <td>0.023630</td>\n",
       "      <td>0.000108</td>\n",
       "      <td>0.001945</td>\n",
       "      <td>...</td>\n",
       "      <td>0.001890</td>\n",
       "      <td>0.000008</td>\n",
       "      <td>4.338062e-08</td>\n",
       "      <td>0.000212</td>\n",
       "      <td>0.000161</td>\n",
       "      <td>0.001120</td>\n",
       "      <td>0.000003</td>\n",
       "      <td>0.000617</td>\n",
       "      <td>0.001577</td>\n",
       "      <td>0.559166</td>\n",
       "    </tr>\n",
       "    <tr>\n",
       "      <th>25</th>\n",
       "      <td>2015</td>\n",
       "      <td>ecoinvent</td>\n",
       "      <td>HH_H</td>\n",
       "      <td>market for electricity</td>\n",
       "      <td>DEU</td>\n",
       "      <td>0.040584</td>\n",
       "      <td>0.646381</td>\n",
       "      <td>0.166653</td>\n",
       "      <td>0.000931</td>\n",
       "      <td>0.014562</td>\n",
       "      <td>...</td>\n",
       "      <td>0.013906</td>\n",
       "      <td>0.000031</td>\n",
       "      <td>3.110493e-08</td>\n",
       "      <td>0.000708</td>\n",
       "      <td>0.000829</td>\n",
       "      <td>0.003671</td>\n",
       "      <td>0.000007</td>\n",
       "      <td>0.003003</td>\n",
       "      <td>0.003297</td>\n",
       "      <td>1.612819</td>\n",
       "    </tr>\n",
       "    <tr>\n",
       "      <th>26</th>\n",
       "      <td>2015</td>\n",
       "      <td>ecoinvent</td>\n",
       "      <td>HH_H</td>\n",
       "      <td>market for electricity</td>\n",
       "      <td>ECE</td>\n",
       "      <td>0.100941</td>\n",
       "      <td>0.719152</td>\n",
       "      <td>0.220034</td>\n",
       "      <td>0.000582</td>\n",
       "      <td>0.009576</td>\n",
       "      <td>...</td>\n",
       "      <td>0.009397</td>\n",
       "      <td>0.000115</td>\n",
       "      <td>7.251366e-08</td>\n",
       "      <td>0.001232</td>\n",
       "      <td>0.002077</td>\n",
       "      <td>0.003997</td>\n",
       "      <td>0.000039</td>\n",
       "      <td>0.003389</td>\n",
       "      <td>0.002763</td>\n",
       "      <td>1.662927</td>\n",
       "    </tr>\n",
       "    <tr>\n",
       "      <th>27</th>\n",
       "      <td>2015</td>\n",
       "      <td>ecoinvent</td>\n",
       "      <td>HH_H</td>\n",
       "      <td>market for electricity</td>\n",
       "      <td>ENN</td>\n",
       "      <td>0.002625</td>\n",
       "      <td>0.042825</td>\n",
       "      <td>0.006855</td>\n",
       "      <td>0.000010</td>\n",
       "      <td>0.000394</td>\n",
       "      <td>...</td>\n",
       "      <td>0.000372</td>\n",
       "      <td>0.000043</td>\n",
       "      <td>2.010260e-09</td>\n",
       "      <td>0.000053</td>\n",
       "      <td>0.000068</td>\n",
       "      <td>0.000083</td>\n",
       "      <td>0.000004</td>\n",
       "      <td>0.000277</td>\n",
       "      <td>0.000104</td>\n",
       "      <td>0.081277</td>\n",
       "    </tr>\n",
       "    <tr>\n",
       "      <th>28</th>\n",
       "      <td>2015</td>\n",
       "      <td>ecoinvent</td>\n",
       "      <td>HH_H</td>\n",
       "      <td>market for electricity</td>\n",
       "      <td>ESC</td>\n",
       "      <td>0.033377</td>\n",
       "      <td>0.661659</td>\n",
       "      <td>0.217233</td>\n",
       "      <td>0.000180</td>\n",
       "      <td>0.003600</td>\n",
       "      <td>...</td>\n",
       "      <td>0.003851</td>\n",
       "      <td>0.000174</td>\n",
       "      <td>9.796264e-08</td>\n",
       "      <td>0.001271</td>\n",
       "      <td>0.002229</td>\n",
       "      <td>0.004913</td>\n",
       "      <td>0.000059</td>\n",
       "      <td>0.002004</td>\n",
       "      <td>0.001376</td>\n",
       "      <td>1.173536</td>\n",
       "    </tr>\n",
       "    <tr>\n",
       "      <th>29</th>\n",
       "      <td>2015</td>\n",
       "      <td>ecoinvent</td>\n",
       "      <td>HH_H</td>\n",
       "      <td>market for electricity</td>\n",
       "      <td>ESE</td>\n",
       "      <td>0.023982</td>\n",
       "      <td>0.597629</td>\n",
       "      <td>0.185153</td>\n",
       "      <td>0.000924</td>\n",
       "      <td>0.014730</td>\n",
       "      <td>...</td>\n",
       "      <td>0.014308</td>\n",
       "      <td>0.000078</td>\n",
       "      <td>5.996723e-08</td>\n",
       "      <td>0.001444</td>\n",
       "      <td>0.001623</td>\n",
       "      <td>0.004179</td>\n",
       "      <td>0.000033</td>\n",
       "      <td>0.001702</td>\n",
       "      <td>0.003512</td>\n",
       "      <td>1.650589</td>\n",
       "    </tr>\n",
       "    <tr>\n",
       "      <th>...</th>\n",
       "      <td>...</td>\n",
       "      <td>...</td>\n",
       "      <td>...</td>\n",
       "      <td>...</td>\n",
       "      <td>...</td>\n",
       "      <td>...</td>\n",
       "      <td>...</td>\n",
       "      <td>...</td>\n",
       "      <td>...</td>\n",
       "      <td>...</td>\n",
       "      <td>...</td>\n",
       "      <td>...</td>\n",
       "      <td>...</td>\n",
       "      <td>...</td>\n",
       "      <td>...</td>\n",
       "      <td>...</td>\n",
       "      <td>...</td>\n",
       "      <td>...</td>\n",
       "      <td>...</td>\n",
       "      <td>...</td>\n",
       "      <td>...</td>\n",
       "    </tr>\n",
       "    <tr>\n",
       "      <th>11520</th>\n",
       "      <td>2050</td>\n",
       "      <td>KSP90aE</td>\n",
       "      <td>HH_H</td>\n",
       "      <td>market for hydrogen, liquid</td>\n",
       "      <td>USA</td>\n",
       "      <td>0.030255</td>\n",
       "      <td>1.860398</td>\n",
       "      <td>1.668623</td>\n",
       "      <td>0.000121</td>\n",
       "      <td>0.011583</td>\n",
       "      <td>...</td>\n",
       "      <td>0.010583</td>\n",
       "      <td>0.000030</td>\n",
       "      <td>3.480435e-07</td>\n",
       "      <td>0.001421</td>\n",
       "      <td>0.004974</td>\n",
       "      <td>0.004083</td>\n",
       "      <td>0.000060</td>\n",
       "      <td>0.005020</td>\n",
       "      <td>0.001083</td>\n",
       "      <td>3.901998</td>\n",
       "    </tr>\n",
       "    <tr>\n",
       "      <th>11521</th>\n",
       "      <td>2050</td>\n",
       "      <td>KSP90aE</td>\n",
       "      <td>HH_H</td>\n",
       "      <td>softwood forestry, mixed species, sustainable ...</td>\n",
       "      <td>USA</td>\n",
       "      <td>457.026558</td>\n",
       "      <td>6.826366</td>\n",
       "      <td>1.966014</td>\n",
       "      <td>0.000324</td>\n",
       "      <td>0.047631</td>\n",
       "      <td>...</td>\n",
       "      <td>0.038427</td>\n",
       "      <td>0.006564</td>\n",
       "      <td>9.751352e-07</td>\n",
       "      <td>0.008037</td>\n",
       "      <td>0.160626</td>\n",
       "      <td>0.018201</td>\n",
       "      <td>0.021841</td>\n",
       "      <td>8.173992</td>\n",
       "      <td>0.056342</td>\n",
       "      <td>475.806699</td>\n",
       "    </tr>\n",
       "    <tr>\n",
       "      <th>11522</th>\n",
       "      <td>2050</td>\n",
       "      <td>KSP90aE</td>\n",
       "      <td>RA_H</td>\n",
       "      <td>electricity production, deep geothermal</td>\n",
       "      <td>USA</td>\n",
       "      <td>0.001474</td>\n",
       "      <td>0.031843</td>\n",
       "      <td>0.008353</td>\n",
       "      <td>0.000027</td>\n",
       "      <td>0.001319</td>\n",
       "      <td>...</td>\n",
       "      <td>0.001204</td>\n",
       "      <td>0.000020</td>\n",
       "      <td>1.912884e-09</td>\n",
       "      <td>0.000062</td>\n",
       "      <td>0.000105</td>\n",
       "      <td>0.000099</td>\n",
       "      <td>0.000026</td>\n",
       "      <td>0.000606</td>\n",
       "      <td>0.000143</td>\n",
       "      <td>0.113635</td>\n",
       "    </tr>\n",
       "    <tr>\n",
       "      <th>11523</th>\n",
       "      <td>2050</td>\n",
       "      <td>KSP90aE</td>\n",
       "      <td>RA_H</td>\n",
       "      <td>electricity production, hard coal</td>\n",
       "      <td>USA</td>\n",
       "      <td>0.010238</td>\n",
       "      <td>0.847516</td>\n",
       "      <td>0.217171</td>\n",
       "      <td>0.000359</td>\n",
       "      <td>0.006754</td>\n",
       "      <td>...</td>\n",
       "      <td>0.006535</td>\n",
       "      <td>0.000038</td>\n",
       "      <td>5.562439e-09</td>\n",
       "      <td>0.001137</td>\n",
       "      <td>0.000803</td>\n",
       "      <td>0.001014</td>\n",
       "      <td>0.000019</td>\n",
       "      <td>0.007981</td>\n",
       "      <td>0.002475</td>\n",
       "      <td>1.381947</td>\n",
       "    </tr>\n",
       "    <tr>\n",
       "      <th>11524</th>\n",
       "      <td>2050</td>\n",
       "      <td>KSP90aE</td>\n",
       "      <td>RA_H</td>\n",
       "      <td>electricity production, natural gas, combined ...</td>\n",
       "      <td>USA</td>\n",
       "      <td>0.000179</td>\n",
       "      <td>0.357937</td>\n",
       "      <td>0.152133</td>\n",
       "      <td>0.000002</td>\n",
       "      <td>0.001108</td>\n",
       "      <td>...</td>\n",
       "      <td>0.000434</td>\n",
       "      <td>0.000054</td>\n",
       "      <td>3.664292e-08</td>\n",
       "      <td>0.000084</td>\n",
       "      <td>0.000348</td>\n",
       "      <td>0.000270</td>\n",
       "      <td>0.000015</td>\n",
       "      <td>0.000146</td>\n",
       "      <td>0.001227</td>\n",
       "      <td>0.531007</td>\n",
       "    </tr>\n",
       "    <tr>\n",
       "      <th>11525</th>\n",
       "      <td>2050</td>\n",
       "      <td>KSP90aE</td>\n",
       "      <td>RA_H</td>\n",
       "      <td>electricity production, oil</td>\n",
       "      <td>USA</td>\n",
       "      <td>0.001600</td>\n",
       "      <td>1.110144</td>\n",
       "      <td>0.394708</td>\n",
       "      <td>0.000014</td>\n",
       "      <td>0.001674</td>\n",
       "      <td>...</td>\n",
       "      <td>0.003004</td>\n",
       "      <td>0.000412</td>\n",
       "      <td>2.016417e-07</td>\n",
       "      <td>0.000652</td>\n",
       "      <td>0.001157</td>\n",
       "      <td>0.001451</td>\n",
       "      <td>0.000178</td>\n",
       "      <td>0.001818</td>\n",
       "      <td>0.001120</td>\n",
       "      <td>1.706488</td>\n",
       "    </tr>\n",
       "    <tr>\n",
       "      <th>11526</th>\n",
       "      <td>2050</td>\n",
       "      <td>KSP90aE</td>\n",
       "      <td>RA_H</td>\n",
       "      <td>heat and power co-generation, biogas, gas engine</td>\n",
       "      <td>USA</td>\n",
       "      <td>0.012590</td>\n",
       "      <td>0.230354</td>\n",
       "      <td>0.011840</td>\n",
       "      <td>0.000022</td>\n",
       "      <td>0.000903</td>\n",
       "      <td>...</td>\n",
       "      <td>0.000849</td>\n",
       "      <td>0.000007</td>\n",
       "      <td>2.364142e-09</td>\n",
       "      <td>0.004878</td>\n",
       "      <td>0.000437</td>\n",
       "      <td>0.036834</td>\n",
       "      <td>0.000005</td>\n",
       "      <td>0.000822</td>\n",
       "      <td>0.000072</td>\n",
       "      <td>0.334082</td>\n",
       "    </tr>\n",
       "    <tr>\n",
       "      <th>11527</th>\n",
       "      <td>2050</td>\n",
       "      <td>KSP90aE</td>\n",
       "      <td>RA_H</td>\n",
       "      <td>market for hydrogen, liquid</td>\n",
       "      <td>USA</td>\n",
       "      <td>0.030255</td>\n",
       "      <td>1.860398</td>\n",
       "      <td>1.668623</td>\n",
       "      <td>0.000121</td>\n",
       "      <td>0.011583</td>\n",
       "      <td>...</td>\n",
       "      <td>0.010583</td>\n",
       "      <td>0.000030</td>\n",
       "      <td>3.480435e-07</td>\n",
       "      <td>0.001421</td>\n",
       "      <td>0.004974</td>\n",
       "      <td>0.004083</td>\n",
       "      <td>0.000060</td>\n",
       "      <td>0.005020</td>\n",
       "      <td>0.001083</td>\n",
       "      <td>3.901998</td>\n",
       "    </tr>\n",
       "    <tr>\n",
       "      <th>11528</th>\n",
       "      <td>2050</td>\n",
       "      <td>KSP90aE</td>\n",
       "      <td>RA_H</td>\n",
       "      <td>softwood forestry, mixed species, sustainable ...</td>\n",
       "      <td>USA</td>\n",
       "      <td>457.026558</td>\n",
       "      <td>6.826366</td>\n",
       "      <td>1.966014</td>\n",
       "      <td>0.000324</td>\n",
       "      <td>0.047631</td>\n",
       "      <td>...</td>\n",
       "      <td>0.038427</td>\n",
       "      <td>0.006564</td>\n",
       "      <td>9.751352e-07</td>\n",
       "      <td>0.008037</td>\n",
       "      <td>0.160626</td>\n",
       "      <td>0.018201</td>\n",
       "      <td>0.021841</td>\n",
       "      <td>8.173992</td>\n",
       "      <td>0.056342</td>\n",
       "      <td>475.806699</td>\n",
       "    </tr>\n",
       "    <tr>\n",
       "      <th>11529</th>\n",
       "      <td>2050</td>\n",
       "      <td>NDCminus2</td>\n",
       "      <td>ED_H</td>\n",
       "      <td>electricity production, deep geothermal</td>\n",
       "      <td>USA</td>\n",
       "      <td>0.001479</td>\n",
       "      <td>0.031866</td>\n",
       "      <td>0.008361</td>\n",
       "      <td>0.000027</td>\n",
       "      <td>0.001318</td>\n",
       "      <td>...</td>\n",
       "      <td>0.001204</td>\n",
       "      <td>0.000020</td>\n",
       "      <td>1.914848e-09</td>\n",
       "      <td>0.000062</td>\n",
       "      <td>0.000105</td>\n",
       "      <td>0.000099</td>\n",
       "      <td>0.000026</td>\n",
       "      <td>0.000606</td>\n",
       "      <td>0.000143</td>\n",
       "      <td>0.113688</td>\n",
       "    </tr>\n",
       "    <tr>\n",
       "      <th>11530</th>\n",
       "      <td>2050</td>\n",
       "      <td>NDCminus2</td>\n",
       "      <td>ED_H</td>\n",
       "      <td>electricity production, hard coal</td>\n",
       "      <td>USA</td>\n",
       "      <td>0.010241</td>\n",
       "      <td>0.847518</td>\n",
       "      <td>0.217172</td>\n",
       "      <td>0.000359</td>\n",
       "      <td>0.006753</td>\n",
       "      <td>...</td>\n",
       "      <td>0.006535</td>\n",
       "      <td>0.000038</td>\n",
       "      <td>5.563262e-09</td>\n",
       "      <td>0.001137</td>\n",
       "      <td>0.000803</td>\n",
       "      <td>0.001014</td>\n",
       "      <td>0.000019</td>\n",
       "      <td>0.007981</td>\n",
       "      <td>0.002475</td>\n",
       "      <td>1.381954</td>\n",
       "    </tr>\n",
       "    <tr>\n",
       "      <th>11531</th>\n",
       "      <td>2050</td>\n",
       "      <td>NDCminus2</td>\n",
       "      <td>ED_H</td>\n",
       "      <td>electricity production, natural gas, combined ...</td>\n",
       "      <td>USA</td>\n",
       "      <td>0.000180</td>\n",
       "      <td>0.357939</td>\n",
       "      <td>0.152133</td>\n",
       "      <td>0.000002</td>\n",
       "      <td>0.001108</td>\n",
       "      <td>...</td>\n",
       "      <td>0.000434</td>\n",
       "      <td>0.000054</td>\n",
       "      <td>3.664309e-08</td>\n",
       "      <td>0.000084</td>\n",
       "      <td>0.000348</td>\n",
       "      <td>0.000270</td>\n",
       "      <td>0.000015</td>\n",
       "      <td>0.000146</td>\n",
       "      <td>0.001227</td>\n",
       "      <td>0.531010</td>\n",
       "    </tr>\n",
       "    <tr>\n",
       "      <th>11532</th>\n",
       "      <td>2050</td>\n",
       "      <td>NDCminus2</td>\n",
       "      <td>ED_H</td>\n",
       "      <td>electricity production, oil</td>\n",
       "      <td>USA</td>\n",
       "      <td>0.001607</td>\n",
       "      <td>1.110159</td>\n",
       "      <td>0.394713</td>\n",
       "      <td>0.000014</td>\n",
       "      <td>0.001673</td>\n",
       "      <td>...</td>\n",
       "      <td>0.003004</td>\n",
       "      <td>0.000412</td>\n",
       "      <td>2.016432e-07</td>\n",
       "      <td>0.000652</td>\n",
       "      <td>0.001157</td>\n",
       "      <td>0.001451</td>\n",
       "      <td>0.000178</td>\n",
       "      <td>0.001817</td>\n",
       "      <td>0.001121</td>\n",
       "      <td>1.706516</td>\n",
       "    </tr>\n",
       "    <tr>\n",
       "      <th>11533</th>\n",
       "      <td>2050</td>\n",
       "      <td>NDCminus2</td>\n",
       "      <td>ED_H</td>\n",
       "      <td>heat and power co-generation, biogas, gas engine</td>\n",
       "      <td>USA</td>\n",
       "      <td>0.012593</td>\n",
       "      <td>0.230359</td>\n",
       "      <td>0.011843</td>\n",
       "      <td>0.000022</td>\n",
       "      <td>0.000903</td>\n",
       "      <td>...</td>\n",
       "      <td>0.000848</td>\n",
       "      <td>0.000007</td>\n",
       "      <td>2.364988e-09</td>\n",
       "      <td>0.004878</td>\n",
       "      <td>0.000437</td>\n",
       "      <td>0.036834</td>\n",
       "      <td>0.000005</td>\n",
       "      <td>0.000822</td>\n",
       "      <td>0.000072</td>\n",
       "      <td>0.334094</td>\n",
       "    </tr>\n",
       "    <tr>\n",
       "      <th>11534</th>\n",
       "      <td>2050</td>\n",
       "      <td>NDCminus2</td>\n",
       "      <td>ED_H</td>\n",
       "      <td>market for hydrogen, liquid</td>\n",
       "      <td>USA</td>\n",
       "      <td>0.030720</td>\n",
       "      <td>1.862411</td>\n",
       "      <td>1.669276</td>\n",
       "      <td>0.000122</td>\n",
       "      <td>0.011544</td>\n",
       "      <td>...</td>\n",
       "      <td>0.010550</td>\n",
       "      <td>0.000030</td>\n",
       "      <td>3.481057e-07</td>\n",
       "      <td>0.001423</td>\n",
       "      <td>0.004975</td>\n",
       "      <td>0.004095</td>\n",
       "      <td>0.000060</td>\n",
       "      <td>0.005020</td>\n",
       "      <td>0.001088</td>\n",
       "      <td>3.904959</td>\n",
       "    </tr>\n",
       "    <tr>\n",
       "      <th>11535</th>\n",
       "      <td>2050</td>\n",
       "      <td>NDCminus2</td>\n",
       "      <td>ED_H</td>\n",
       "      <td>softwood forestry, mixed species, sustainable ...</td>\n",
       "      <td>USA</td>\n",
       "      <td>457.026680</td>\n",
       "      <td>6.826679</td>\n",
       "      <td>1.966123</td>\n",
       "      <td>0.000324</td>\n",
       "      <td>0.047616</td>\n",
       "      <td>...</td>\n",
       "      <td>0.038414</td>\n",
       "      <td>0.006564</td>\n",
       "      <td>9.751599e-07</td>\n",
       "      <td>0.008038</td>\n",
       "      <td>0.160625</td>\n",
       "      <td>0.018204</td>\n",
       "      <td>0.021841</td>\n",
       "      <td>8.173991</td>\n",
       "      <td>0.056345</td>\n",
       "      <td>475.807248</td>\n",
       "    </tr>\n",
       "    <tr>\n",
       "      <th>11536</th>\n",
       "      <td>2050</td>\n",
       "      <td>NDCminus2</td>\n",
       "      <td>HH_H</td>\n",
       "      <td>electricity production, deep geothermal</td>\n",
       "      <td>USA</td>\n",
       "      <td>0.001479</td>\n",
       "      <td>0.031866</td>\n",
       "      <td>0.008361</td>\n",
       "      <td>0.000027</td>\n",
       "      <td>0.001318</td>\n",
       "      <td>...</td>\n",
       "      <td>0.001204</td>\n",
       "      <td>0.000020</td>\n",
       "      <td>1.914848e-09</td>\n",
       "      <td>0.000062</td>\n",
       "      <td>0.000105</td>\n",
       "      <td>0.000099</td>\n",
       "      <td>0.000026</td>\n",
       "      <td>0.000606</td>\n",
       "      <td>0.000143</td>\n",
       "      <td>0.113688</td>\n",
       "    </tr>\n",
       "    <tr>\n",
       "      <th>11537</th>\n",
       "      <td>2050</td>\n",
       "      <td>NDCminus2</td>\n",
       "      <td>HH_H</td>\n",
       "      <td>electricity production, hard coal</td>\n",
       "      <td>USA</td>\n",
       "      <td>0.010241</td>\n",
       "      <td>0.847518</td>\n",
       "      <td>0.217172</td>\n",
       "      <td>0.000359</td>\n",
       "      <td>0.006753</td>\n",
       "      <td>...</td>\n",
       "      <td>0.006535</td>\n",
       "      <td>0.000038</td>\n",
       "      <td>5.563262e-09</td>\n",
       "      <td>0.001137</td>\n",
       "      <td>0.000803</td>\n",
       "      <td>0.001014</td>\n",
       "      <td>0.000019</td>\n",
       "      <td>0.007981</td>\n",
       "      <td>0.002475</td>\n",
       "      <td>1.381954</td>\n",
       "    </tr>\n",
       "    <tr>\n",
       "      <th>11538</th>\n",
       "      <td>2050</td>\n",
       "      <td>NDCminus2</td>\n",
       "      <td>HH_H</td>\n",
       "      <td>electricity production, natural gas, combined ...</td>\n",
       "      <td>USA</td>\n",
       "      <td>0.000180</td>\n",
       "      <td>0.357939</td>\n",
       "      <td>0.152133</td>\n",
       "      <td>0.000002</td>\n",
       "      <td>0.001108</td>\n",
       "      <td>...</td>\n",
       "      <td>0.000434</td>\n",
       "      <td>0.000054</td>\n",
       "      <td>3.664309e-08</td>\n",
       "      <td>0.000084</td>\n",
       "      <td>0.000348</td>\n",
       "      <td>0.000270</td>\n",
       "      <td>0.000015</td>\n",
       "      <td>0.000146</td>\n",
       "      <td>0.001227</td>\n",
       "      <td>0.531010</td>\n",
       "    </tr>\n",
       "    <tr>\n",
       "      <th>11539</th>\n",
       "      <td>2050</td>\n",
       "      <td>NDCminus2</td>\n",
       "      <td>HH_H</td>\n",
       "      <td>electricity production, oil</td>\n",
       "      <td>USA</td>\n",
       "      <td>0.001607</td>\n",
       "      <td>1.110159</td>\n",
       "      <td>0.394713</td>\n",
       "      <td>0.000014</td>\n",
       "      <td>0.001673</td>\n",
       "      <td>...</td>\n",
       "      <td>0.003004</td>\n",
       "      <td>0.000412</td>\n",
       "      <td>2.016432e-07</td>\n",
       "      <td>0.000652</td>\n",
       "      <td>0.001157</td>\n",
       "      <td>0.001451</td>\n",
       "      <td>0.000178</td>\n",
       "      <td>0.001817</td>\n",
       "      <td>0.001121</td>\n",
       "      <td>1.706516</td>\n",
       "    </tr>\n",
       "    <tr>\n",
       "      <th>11540</th>\n",
       "      <td>2050</td>\n",
       "      <td>NDCminus2</td>\n",
       "      <td>HH_H</td>\n",
       "      <td>heat and power co-generation, biogas, gas engine</td>\n",
       "      <td>USA</td>\n",
       "      <td>0.012593</td>\n",
       "      <td>0.230359</td>\n",
       "      <td>0.011843</td>\n",
       "      <td>0.000022</td>\n",
       "      <td>0.000903</td>\n",
       "      <td>...</td>\n",
       "      <td>0.000848</td>\n",
       "      <td>0.000007</td>\n",
       "      <td>2.364988e-09</td>\n",
       "      <td>0.004878</td>\n",
       "      <td>0.000437</td>\n",
       "      <td>0.036834</td>\n",
       "      <td>0.000005</td>\n",
       "      <td>0.000822</td>\n",
       "      <td>0.000072</td>\n",
       "      <td>0.334094</td>\n",
       "    </tr>\n",
       "    <tr>\n",
       "      <th>11541</th>\n",
       "      <td>2050</td>\n",
       "      <td>NDCminus2</td>\n",
       "      <td>HH_H</td>\n",
       "      <td>market for hydrogen, liquid</td>\n",
       "      <td>USA</td>\n",
       "      <td>0.030720</td>\n",
       "      <td>1.862411</td>\n",
       "      <td>1.669276</td>\n",
       "      <td>0.000122</td>\n",
       "      <td>0.011544</td>\n",
       "      <td>...</td>\n",
       "      <td>0.010550</td>\n",
       "      <td>0.000030</td>\n",
       "      <td>3.481057e-07</td>\n",
       "      <td>0.001423</td>\n",
       "      <td>0.004975</td>\n",
       "      <td>0.004095</td>\n",
       "      <td>0.000060</td>\n",
       "      <td>0.005020</td>\n",
       "      <td>0.001088</td>\n",
       "      <td>3.904959</td>\n",
       "    </tr>\n",
       "    <tr>\n",
       "      <th>11542</th>\n",
       "      <td>2050</td>\n",
       "      <td>NDCminus2</td>\n",
       "      <td>HH_H</td>\n",
       "      <td>softwood forestry, mixed species, sustainable ...</td>\n",
       "      <td>USA</td>\n",
       "      <td>457.026680</td>\n",
       "      <td>6.826679</td>\n",
       "      <td>1.966123</td>\n",
       "      <td>0.000324</td>\n",
       "      <td>0.047616</td>\n",
       "      <td>...</td>\n",
       "      <td>0.038414</td>\n",
       "      <td>0.006564</td>\n",
       "      <td>9.751599e-07</td>\n",
       "      <td>0.008038</td>\n",
       "      <td>0.160625</td>\n",
       "      <td>0.018204</td>\n",
       "      <td>0.021841</td>\n",
       "      <td>8.173991</td>\n",
       "      <td>0.056345</td>\n",
       "      <td>475.807248</td>\n",
       "    </tr>\n",
       "    <tr>\n",
       "      <th>11543</th>\n",
       "      <td>2050</td>\n",
       "      <td>NDCminus2</td>\n",
       "      <td>RA_H</td>\n",
       "      <td>electricity production, deep geothermal</td>\n",
       "      <td>USA</td>\n",
       "      <td>0.001479</td>\n",
       "      <td>0.031866</td>\n",
       "      <td>0.008361</td>\n",
       "      <td>0.000027</td>\n",
       "      <td>0.001318</td>\n",
       "      <td>...</td>\n",
       "      <td>0.001204</td>\n",
       "      <td>0.000020</td>\n",
       "      <td>1.914848e-09</td>\n",
       "      <td>0.000062</td>\n",
       "      <td>0.000105</td>\n",
       "      <td>0.000099</td>\n",
       "      <td>0.000026</td>\n",
       "      <td>0.000606</td>\n",
       "      <td>0.000143</td>\n",
       "      <td>0.113688</td>\n",
       "    </tr>\n",
       "    <tr>\n",
       "      <th>11544</th>\n",
       "      <td>2050</td>\n",
       "      <td>NDCminus2</td>\n",
       "      <td>RA_H</td>\n",
       "      <td>electricity production, hard coal</td>\n",
       "      <td>USA</td>\n",
       "      <td>0.010241</td>\n",
       "      <td>0.847518</td>\n",
       "      <td>0.217172</td>\n",
       "      <td>0.000359</td>\n",
       "      <td>0.006753</td>\n",
       "      <td>...</td>\n",
       "      <td>0.006535</td>\n",
       "      <td>0.000038</td>\n",
       "      <td>5.563262e-09</td>\n",
       "      <td>0.001137</td>\n",
       "      <td>0.000803</td>\n",
       "      <td>0.001014</td>\n",
       "      <td>0.000019</td>\n",
       "      <td>0.007981</td>\n",
       "      <td>0.002475</td>\n",
       "      <td>1.381954</td>\n",
       "    </tr>\n",
       "    <tr>\n",
       "      <th>11545</th>\n",
       "      <td>2050</td>\n",
       "      <td>NDCminus2</td>\n",
       "      <td>RA_H</td>\n",
       "      <td>electricity production, natural gas, combined ...</td>\n",
       "      <td>USA</td>\n",
       "      <td>0.000180</td>\n",
       "      <td>0.357939</td>\n",
       "      <td>0.152133</td>\n",
       "      <td>0.000002</td>\n",
       "      <td>0.001108</td>\n",
       "      <td>...</td>\n",
       "      <td>0.000434</td>\n",
       "      <td>0.000054</td>\n",
       "      <td>3.664309e-08</td>\n",
       "      <td>0.000084</td>\n",
       "      <td>0.000348</td>\n",
       "      <td>0.000270</td>\n",
       "      <td>0.000015</td>\n",
       "      <td>0.000146</td>\n",
       "      <td>0.001227</td>\n",
       "      <td>0.531010</td>\n",
       "    </tr>\n",
       "    <tr>\n",
       "      <th>11546</th>\n",
       "      <td>2050</td>\n",
       "      <td>NDCminus2</td>\n",
       "      <td>RA_H</td>\n",
       "      <td>electricity production, oil</td>\n",
       "      <td>USA</td>\n",
       "      <td>0.001607</td>\n",
       "      <td>1.110159</td>\n",
       "      <td>0.394713</td>\n",
       "      <td>0.000014</td>\n",
       "      <td>0.001673</td>\n",
       "      <td>...</td>\n",
       "      <td>0.003004</td>\n",
       "      <td>0.000412</td>\n",
       "      <td>2.016432e-07</td>\n",
       "      <td>0.000652</td>\n",
       "      <td>0.001157</td>\n",
       "      <td>0.001451</td>\n",
       "      <td>0.000178</td>\n",
       "      <td>0.001817</td>\n",
       "      <td>0.001121</td>\n",
       "      <td>1.706516</td>\n",
       "    </tr>\n",
       "    <tr>\n",
       "      <th>11547</th>\n",
       "      <td>2050</td>\n",
       "      <td>NDCminus2</td>\n",
       "      <td>RA_H</td>\n",
       "      <td>heat and power co-generation, biogas, gas engine</td>\n",
       "      <td>USA</td>\n",
       "      <td>0.012593</td>\n",
       "      <td>0.230359</td>\n",
       "      <td>0.011843</td>\n",
       "      <td>0.000022</td>\n",
       "      <td>0.000903</td>\n",
       "      <td>...</td>\n",
       "      <td>0.000848</td>\n",
       "      <td>0.000007</td>\n",
       "      <td>2.364988e-09</td>\n",
       "      <td>0.004878</td>\n",
       "      <td>0.000437</td>\n",
       "      <td>0.036834</td>\n",
       "      <td>0.000005</td>\n",
       "      <td>0.000822</td>\n",
       "      <td>0.000072</td>\n",
       "      <td>0.334094</td>\n",
       "    </tr>\n",
       "    <tr>\n",
       "      <th>11548</th>\n",
       "      <td>2050</td>\n",
       "      <td>NDCminus2</td>\n",
       "      <td>RA_H</td>\n",
       "      <td>market for hydrogen, liquid</td>\n",
       "      <td>USA</td>\n",
       "      <td>0.030720</td>\n",
       "      <td>1.862411</td>\n",
       "      <td>1.669276</td>\n",
       "      <td>0.000122</td>\n",
       "      <td>0.011544</td>\n",
       "      <td>...</td>\n",
       "      <td>0.010550</td>\n",
       "      <td>0.000030</td>\n",
       "      <td>3.481057e-07</td>\n",
       "      <td>0.001423</td>\n",
       "      <td>0.004975</td>\n",
       "      <td>0.004095</td>\n",
       "      <td>0.000060</td>\n",
       "      <td>0.005020</td>\n",
       "      <td>0.001088</td>\n",
       "      <td>3.904959</td>\n",
       "    </tr>\n",
       "    <tr>\n",
       "      <th>11549</th>\n",
       "      <td>2050</td>\n",
       "      <td>NDCminus2</td>\n",
       "      <td>RA_H</td>\n",
       "      <td>softwood forestry, mixed species, sustainable ...</td>\n",
       "      <td>USA</td>\n",
       "      <td>457.026680</td>\n",
       "      <td>6.826679</td>\n",
       "      <td>1.966123</td>\n",
       "      <td>0.000324</td>\n",
       "      <td>0.047616</td>\n",
       "      <td>...</td>\n",
       "      <td>0.038414</td>\n",
       "      <td>0.006564</td>\n",
       "      <td>9.751599e-07</td>\n",
       "      <td>0.008038</td>\n",
       "      <td>0.160625</td>\n",
       "      <td>0.018204</td>\n",
       "      <td>0.021841</td>\n",
       "      <td>8.173991</td>\n",
       "      <td>0.056345</td>\n",
       "      <td>475.807248</td>\n",
       "    </tr>\n",
       "  </tbody>\n",
       "</table>\n",
       "<p>13200 rows × 24 columns</p>\n",
       "</div>"
      ],
      "text/plain": [
       "       period   scenario end_category  \\\n",
       "0        2015  ecoinvent         ED_H   \n",
       "1        2015  ecoinvent         ED_H   \n",
       "2        2015  ecoinvent         ED_H   \n",
       "3        2015  ecoinvent         ED_H   \n",
       "4        2015  ecoinvent         ED_H   \n",
       "5        2015  ecoinvent         ED_H   \n",
       "6        2015  ecoinvent         ED_H   \n",
       "7        2015  ecoinvent         ED_H   \n",
       "8        2015  ecoinvent         ED_H   \n",
       "9        2015  ecoinvent         ED_H   \n",
       "10       2015  ecoinvent         ED_H   \n",
       "11       2015  ecoinvent         ED_H   \n",
       "12       2015  ecoinvent         ED_H   \n",
       "13       2015  ecoinvent         ED_H   \n",
       "14       2015  ecoinvent         ED_H   \n",
       "15       2015  ecoinvent         ED_H   \n",
       "16       2015  ecoinvent         ED_H   \n",
       "17       2015  ecoinvent         ED_H   \n",
       "18       2015  ecoinvent         ED_H   \n",
       "19       2015  ecoinvent         ED_H   \n",
       "20       2015  ecoinvent         ED_H   \n",
       "21       2015  ecoinvent         ED_H   \n",
       "22       2015  ecoinvent         HH_H   \n",
       "23       2015  ecoinvent         HH_H   \n",
       "24       2015  ecoinvent         HH_H   \n",
       "25       2015  ecoinvent         HH_H   \n",
       "26       2015  ecoinvent         HH_H   \n",
       "27       2015  ecoinvent         HH_H   \n",
       "28       2015  ecoinvent         HH_H   \n",
       "29       2015  ecoinvent         HH_H   \n",
       "...       ...        ...          ...   \n",
       "11520    2050    KSP90aE         HH_H   \n",
       "11521    2050    KSP90aE         HH_H   \n",
       "11522    2050    KSP90aE         RA_H   \n",
       "11523    2050    KSP90aE         RA_H   \n",
       "11524    2050    KSP90aE         RA_H   \n",
       "11525    2050    KSP90aE         RA_H   \n",
       "11526    2050    KSP90aE         RA_H   \n",
       "11527    2050    KSP90aE         RA_H   \n",
       "11528    2050    KSP90aE         RA_H   \n",
       "11529    2050  NDCminus2         ED_H   \n",
       "11530    2050  NDCminus2         ED_H   \n",
       "11531    2050  NDCminus2         ED_H   \n",
       "11532    2050  NDCminus2         ED_H   \n",
       "11533    2050  NDCminus2         ED_H   \n",
       "11534    2050  NDCminus2         ED_H   \n",
       "11535    2050  NDCminus2         ED_H   \n",
       "11536    2050  NDCminus2         HH_H   \n",
       "11537    2050  NDCminus2         HH_H   \n",
       "11538    2050  NDCminus2         HH_H   \n",
       "11539    2050  NDCminus2         HH_H   \n",
       "11540    2050  NDCminus2         HH_H   \n",
       "11541    2050  NDCminus2         HH_H   \n",
       "11542    2050  NDCminus2         HH_H   \n",
       "11543    2050  NDCminus2         RA_H   \n",
       "11544    2050  NDCminus2         RA_H   \n",
       "11545    2050  NDCminus2         RA_H   \n",
       "11546    2050  NDCminus2         RA_H   \n",
       "11547    2050  NDCminus2         RA_H   \n",
       "11548    2050  NDCminus2         RA_H   \n",
       "11549    2050  NDCminus2         RA_H   \n",
       "\n",
       "                                                variable RegionCode  \\\n",
       "0                                 market for electricity        CAZ   \n",
       "1                                 market for electricity        CHA   \n",
       "2                                 market for electricity        CHE   \n",
       "3                                 market for electricity        DEU   \n",
       "4                                 market for electricity        ECE   \n",
       "5                                 market for electricity        ENN   \n",
       "6                                 market for electricity        ESC   \n",
       "7                                 market for electricity        ESE   \n",
       "8                                 market for electricity        EUI   \n",
       "9                                 market for electricity        EUN   \n",
       "10                                market for electricity        EWN   \n",
       "11                                market for electricity        FRA   \n",
       "12                                market for electricity        IND   \n",
       "13                                market for electricity        JPN   \n",
       "14                                market for electricity        LAM   \n",
       "15                                market for electricity        MEA   \n",
       "16                                market for electricity        OAS   \n",
       "17                                market for electricity        REF   \n",
       "18                                market for electricity        ROE   \n",
       "19                                market for electricity        SSA   \n",
       "20                                market for electricity        UKI   \n",
       "21                                market for electricity        USA   \n",
       "22                                market for electricity        CAZ   \n",
       "23                                market for electricity        CHA   \n",
       "24                                market for electricity        CHE   \n",
       "25                                market for electricity        DEU   \n",
       "26                                market for electricity        ECE   \n",
       "27                                market for electricity        ENN   \n",
       "28                                market for electricity        ESC   \n",
       "29                                market for electricity        ESE   \n",
       "...                                                  ...        ...   \n",
       "11520                        market for hydrogen, liquid        USA   \n",
       "11521  softwood forestry, mixed species, sustainable ...        USA   \n",
       "11522            electricity production, deep geothermal        USA   \n",
       "11523                  electricity production, hard coal        USA   \n",
       "11524  electricity production, natural gas, combined ...        USA   \n",
       "11525                        electricity production, oil        USA   \n",
       "11526   heat and power co-generation, biogas, gas engine        USA   \n",
       "11527                        market for hydrogen, liquid        USA   \n",
       "11528  softwood forestry, mixed species, sustainable ...        USA   \n",
       "11529            electricity production, deep geothermal        USA   \n",
       "11530                  electricity production, hard coal        USA   \n",
       "11531  electricity production, natural gas, combined ...        USA   \n",
       "11532                        electricity production, oil        USA   \n",
       "11533   heat and power co-generation, biogas, gas engine        USA   \n",
       "11534                        market for hydrogen, liquid        USA   \n",
       "11535  softwood forestry, mixed species, sustainable ...        USA   \n",
       "11536            electricity production, deep geothermal        USA   \n",
       "11537                  electricity production, hard coal        USA   \n",
       "11538  electricity production, natural gas, combined ...        USA   \n",
       "11539                        electricity production, oil        USA   \n",
       "11540   heat and power co-generation, biogas, gas engine        USA   \n",
       "11541                        market for hydrogen, liquid        USA   \n",
       "11542  softwood forestry, mixed species, sustainable ...        USA   \n",
       "11543            electricity production, deep geothermal        USA   \n",
       "11544                  electricity production, hard coal        USA   \n",
       "11545  electricity production, natural gas, combined ...        USA   \n",
       "11546                        electricity production, oil        USA   \n",
       "11547   heat and power co-generation, biogas, gas engine        USA   \n",
       "11548                        market for hydrogen, liquid        USA   \n",
       "11549  softwood forestry, mixed species, sustainable ...        USA   \n",
       "\n",
       "              ALO        CC        FD        FE       FET  ...       MET  \\\n",
       "0        0.009989  0.423651  0.124490  0.000366  0.006270  ...  0.006062   \n",
       "1        0.011656  0.878965  0.213994  0.000275  0.006721  ...  0.006414   \n",
       "2        0.012249  0.093447  0.023630  0.000108  0.001945  ...  0.001890   \n",
       "3        0.040584  0.646381  0.166653  0.000931  0.014562  ...  0.013906   \n",
       "4        0.100941  0.719152  0.220034  0.000582  0.009576  ...  0.009397   \n",
       "5        0.002625  0.042825  0.006855  0.000010  0.000394  ...  0.000372   \n",
       "6        0.033377  0.661659  0.217233  0.000180  0.003600  ...  0.003851   \n",
       "7        0.023982  0.597629  0.185153  0.000924  0.014730  ...  0.014308   \n",
       "8        0.032523  0.346149  0.098234  0.000151  0.003611  ...  0.003467   \n",
       "9        0.127312  0.214771  0.054679  0.000110  0.002751  ...  0.002627   \n",
       "10       0.045872  0.483419  0.138838  0.000365  0.006185  ...  0.005963   \n",
       "11       0.004585  0.053251  0.014263  0.000021  0.000821  ...  0.000857   \n",
       "12       0.016062  1.280238  0.391177  0.000632  0.011600  ...  0.011009   \n",
       "13       0.026135  0.757570  0.228966  0.000141  0.004030  ...  0.003059   \n",
       "14       0.029878  0.483849  0.164171  0.000058  0.001707  ...  0.001856   \n",
       "15       0.001269  0.716961  0.274102  0.000051  0.001700  ...  0.001836   \n",
       "16       0.005644  0.616117  0.197945  0.000389  0.007179  ...  0.006793   \n",
       "17       0.003569  0.526805  0.190631  0.000134  0.003595  ...  0.003002   \n",
       "18       0.003210  0.703753  0.176852  0.001421  0.022081  ...  0.021093   \n",
       "19       0.001930  0.497528  0.168957  0.000142  0.003068  ...  0.003143   \n",
       "20       0.048901  0.659914  0.210267  0.000113  0.002903  ...  0.003203   \n",
       "21       0.010061  0.670834  0.202009  0.000579  0.010632  ...  0.009273   \n",
       "22       0.009989  0.423651  0.124490  0.000366  0.006270  ...  0.006062   \n",
       "23       0.011656  0.878965  0.213994  0.000275  0.006721  ...  0.006414   \n",
       "24       0.012249  0.093447  0.023630  0.000108  0.001945  ...  0.001890   \n",
       "25       0.040584  0.646381  0.166653  0.000931  0.014562  ...  0.013906   \n",
       "26       0.100941  0.719152  0.220034  0.000582  0.009576  ...  0.009397   \n",
       "27       0.002625  0.042825  0.006855  0.000010  0.000394  ...  0.000372   \n",
       "28       0.033377  0.661659  0.217233  0.000180  0.003600  ...  0.003851   \n",
       "29       0.023982  0.597629  0.185153  0.000924  0.014730  ...  0.014308   \n",
       "...           ...       ...       ...       ...       ...  ...       ...   \n",
       "11520    0.030255  1.860398  1.668623  0.000121  0.011583  ...  0.010583   \n",
       "11521  457.026558  6.826366  1.966014  0.000324  0.047631  ...  0.038427   \n",
       "11522    0.001474  0.031843  0.008353  0.000027  0.001319  ...  0.001204   \n",
       "11523    0.010238  0.847516  0.217171  0.000359  0.006754  ...  0.006535   \n",
       "11524    0.000179  0.357937  0.152133  0.000002  0.001108  ...  0.000434   \n",
       "11525    0.001600  1.110144  0.394708  0.000014  0.001674  ...  0.003004   \n",
       "11526    0.012590  0.230354  0.011840  0.000022  0.000903  ...  0.000849   \n",
       "11527    0.030255  1.860398  1.668623  0.000121  0.011583  ...  0.010583   \n",
       "11528  457.026558  6.826366  1.966014  0.000324  0.047631  ...  0.038427   \n",
       "11529    0.001479  0.031866  0.008361  0.000027  0.001318  ...  0.001204   \n",
       "11530    0.010241  0.847518  0.217172  0.000359  0.006753  ...  0.006535   \n",
       "11531    0.000180  0.357939  0.152133  0.000002  0.001108  ...  0.000434   \n",
       "11532    0.001607  1.110159  0.394713  0.000014  0.001673  ...  0.003004   \n",
       "11533    0.012593  0.230359  0.011843  0.000022  0.000903  ...  0.000848   \n",
       "11534    0.030720  1.862411  1.669276  0.000122  0.011544  ...  0.010550   \n",
       "11535  457.026680  6.826679  1.966123  0.000324  0.047616  ...  0.038414   \n",
       "11536    0.001479  0.031866  0.008361  0.000027  0.001318  ...  0.001204   \n",
       "11537    0.010241  0.847518  0.217172  0.000359  0.006753  ...  0.006535   \n",
       "11538    0.000180  0.357939  0.152133  0.000002  0.001108  ...  0.000434   \n",
       "11539    0.001607  1.110159  0.394713  0.000014  0.001673  ...  0.003004   \n",
       "11540    0.012593  0.230359  0.011843  0.000022  0.000903  ...  0.000848   \n",
       "11541    0.030720  1.862411  1.669276  0.000122  0.011544  ...  0.010550   \n",
       "11542  457.026680  6.826679  1.966123  0.000324  0.047616  ...  0.038414   \n",
       "11543    0.001479  0.031866  0.008361  0.000027  0.001318  ...  0.001204   \n",
       "11544    0.010241  0.847518  0.217172  0.000359  0.006753  ...  0.006535   \n",
       "11545    0.000180  0.357939  0.152133  0.000002  0.001108  ...  0.000434   \n",
       "11546    0.001607  1.110159  0.394713  0.000014  0.001673  ...  0.003004   \n",
       "11547    0.012593  0.230359  0.011843  0.000022  0.000903  ...  0.000848   \n",
       "11548    0.030720  1.862411  1.669276  0.000122  0.011544  ...  0.010550   \n",
       "11549  457.026680  6.826679  1.966123  0.000324  0.047616  ...  0.038414   \n",
       "\n",
       "            NLT            OD       PMF       POF        TA       TET  \\\n",
       "0      0.000114  2.766938e-08  0.000660  0.001105  0.002161  0.000020   \n",
       "1      0.000043  9.639478e-09  0.001888  0.002891  0.004398  0.000027   \n",
       "2      0.000008  4.338062e-08  0.000212  0.000161  0.001120  0.000003   \n",
       "3      0.000031  3.110493e-08  0.000708  0.000829  0.003671  0.000007   \n",
       "4      0.000115  7.251366e-08  0.001232  0.002077  0.003997  0.000039   \n",
       "5      0.000043  2.010260e-09  0.000053  0.000068  0.000083  0.000004   \n",
       "6      0.000174  9.796264e-08  0.001271  0.002229  0.004913  0.000059   \n",
       "7      0.000078  5.996723e-08  0.001444  0.001623  0.004179  0.000033   \n",
       "8      0.000043  2.965599e-08  0.000824  0.001347  0.002528  0.000011   \n",
       "9      0.000020  3.703813e-08  0.000260  0.000453  0.000854  0.000008   \n",
       "10     0.000053  5.194714e-08  0.000403  0.000694  0.001704  0.000007   \n",
       "11     0.000006  9.016153e-08  0.000114  0.000150  0.000254  0.000005   \n",
       "12     0.000144  1.741131e-08  0.003447  0.003423  0.004719  0.000026   \n",
       "13     0.000270  2.431217e-08  0.000947  0.001913  0.003083  0.000042   \n",
       "14     0.000150  5.804018e-08  0.001164  0.001667  0.002824  0.000045   \n",
       "15     0.000165  7.140877e-08  0.000893  0.001879  0.003030  0.000046   \n",
       "16     0.000081  2.911786e-08  0.002731  0.001572  0.002599  0.000022   \n",
       "17     0.000144  2.808010e-08  0.000704  0.001132  0.001694  0.000018   \n",
       "18     0.000022  9.809622e-09  0.004641  0.001820  0.006308  0.000013   \n",
       "19     0.000102  4.607763e-08  0.001039  0.001748  0.003169  0.000036   \n",
       "20     0.000169  7.241778e-08  0.001084  0.002069  0.003794  0.000047   \n",
       "21     0.000064  5.185545e-08  0.002212  0.001139  0.002187  0.000038   \n",
       "22     0.000114  2.766938e-08  0.000660  0.001105  0.002161  0.000020   \n",
       "23     0.000043  9.639478e-09  0.001888  0.002891  0.004398  0.000027   \n",
       "24     0.000008  4.338062e-08  0.000212  0.000161  0.001120  0.000003   \n",
       "25     0.000031  3.110493e-08  0.000708  0.000829  0.003671  0.000007   \n",
       "26     0.000115  7.251366e-08  0.001232  0.002077  0.003997  0.000039   \n",
       "27     0.000043  2.010260e-09  0.000053  0.000068  0.000083  0.000004   \n",
       "28     0.000174  9.796264e-08  0.001271  0.002229  0.004913  0.000059   \n",
       "29     0.000078  5.996723e-08  0.001444  0.001623  0.004179  0.000033   \n",
       "...         ...           ...       ...       ...       ...       ...   \n",
       "11520  0.000030  3.480435e-07  0.001421  0.004974  0.004083  0.000060   \n",
       "11521  0.006564  9.751352e-07  0.008037  0.160626  0.018201  0.021841   \n",
       "11522  0.000020  1.912884e-09  0.000062  0.000105  0.000099  0.000026   \n",
       "11523  0.000038  5.562439e-09  0.001137  0.000803  0.001014  0.000019   \n",
       "11524  0.000054  3.664292e-08  0.000084  0.000348  0.000270  0.000015   \n",
       "11525  0.000412  2.016417e-07  0.000652  0.001157  0.001451  0.000178   \n",
       "11526  0.000007  2.364142e-09  0.004878  0.000437  0.036834  0.000005   \n",
       "11527  0.000030  3.480435e-07  0.001421  0.004974  0.004083  0.000060   \n",
       "11528  0.006564  9.751352e-07  0.008037  0.160626  0.018201  0.021841   \n",
       "11529  0.000020  1.914848e-09  0.000062  0.000105  0.000099  0.000026   \n",
       "11530  0.000038  5.563262e-09  0.001137  0.000803  0.001014  0.000019   \n",
       "11531  0.000054  3.664309e-08  0.000084  0.000348  0.000270  0.000015   \n",
       "11532  0.000412  2.016432e-07  0.000652  0.001157  0.001451  0.000178   \n",
       "11533  0.000007  2.364988e-09  0.004878  0.000437  0.036834  0.000005   \n",
       "11534  0.000030  3.481057e-07  0.001423  0.004975  0.004095  0.000060   \n",
       "11535  0.006564  9.751599e-07  0.008038  0.160625  0.018204  0.021841   \n",
       "11536  0.000020  1.914848e-09  0.000062  0.000105  0.000099  0.000026   \n",
       "11537  0.000038  5.563262e-09  0.001137  0.000803  0.001014  0.000019   \n",
       "11538  0.000054  3.664309e-08  0.000084  0.000348  0.000270  0.000015   \n",
       "11539  0.000412  2.016432e-07  0.000652  0.001157  0.001451  0.000178   \n",
       "11540  0.000007  2.364988e-09  0.004878  0.000437  0.036834  0.000005   \n",
       "11541  0.000030  3.481057e-07  0.001423  0.004975  0.004095  0.000060   \n",
       "11542  0.006564  9.751599e-07  0.008038  0.160625  0.018204  0.021841   \n",
       "11543  0.000020  1.914848e-09  0.000062  0.000105  0.000099  0.000026   \n",
       "11544  0.000038  5.563262e-09  0.001137  0.000803  0.001014  0.000019   \n",
       "11545  0.000054  3.664309e-08  0.000084  0.000348  0.000270  0.000015   \n",
       "11546  0.000412  2.016432e-07  0.000652  0.001157  0.001451  0.000178   \n",
       "11547  0.000007  2.364988e-09  0.004878  0.000437  0.036834  0.000005   \n",
       "11548  0.000030  3.481057e-07  0.001423  0.004975  0.004095  0.000060   \n",
       "11549  0.006564  9.751599e-07  0.008038  0.160625  0.018204  0.021841   \n",
       "\n",
       "            ULO        WD       total  \n",
       "0      0.001726  0.002679    0.940135  \n",
       "1      0.008280  0.002890    1.428306  \n",
       "2      0.000617  0.001577    0.559166  \n",
       "3      0.003003  0.003297    1.612819  \n",
       "4      0.003389  0.002763    1.662927  \n",
       "5      0.000277  0.000104    0.081277  \n",
       "6      0.002004  0.001376    1.173536  \n",
       "7      0.001702  0.003512    1.650589  \n",
       "8      0.002804  0.001251    0.753584  \n",
       "9      0.002558  0.001446    0.834452  \n",
       "10     0.002384  0.002516    1.163430  \n",
       "11     0.000459  0.002671    0.705560  \n",
       "12     0.011272  0.004488    2.246514  \n",
       "13     0.003885  0.001848    1.179258  \n",
       "14     0.002477  0.000920    0.796988  \n",
       "15     0.001275  0.001695    1.105898  \n",
       "16     0.003437  0.002184    1.162773  \n",
       "17     0.002218  0.002049    0.951731  \n",
       "18     0.001376  0.003610    1.862163  \n",
       "19     0.001911  0.000998    0.834298  \n",
       "20     0.002761  0.001677    1.195287  \n",
       "21     0.002753  0.002832    1.433476  \n",
       "22     0.001726  0.002679    0.940135  \n",
       "23     0.008280  0.002890    1.428306  \n",
       "24     0.000617  0.001577    0.559166  \n",
       "25     0.003003  0.003297    1.612819  \n",
       "26     0.003389  0.002763    1.662927  \n",
       "27     0.000277  0.000104    0.081277  \n",
       "28     0.002004  0.001376    1.173536  \n",
       "29     0.001702  0.003512    1.650589  \n",
       "...         ...       ...         ...  \n",
       "11520  0.005020  0.001083    3.901998  \n",
       "11521  8.173992  0.056342  475.806699  \n",
       "11522  0.000606  0.000143    0.113635  \n",
       "11523  0.007981  0.002475    1.381947  \n",
       "11524  0.000146  0.001227    0.531007  \n",
       "11525  0.001818  0.001120    1.706488  \n",
       "11526  0.000822  0.000072    0.334082  \n",
       "11527  0.005020  0.001083    3.901998  \n",
       "11528  8.173992  0.056342  475.806699  \n",
       "11529  0.000606  0.000143    0.113688  \n",
       "11530  0.007981  0.002475    1.381954  \n",
       "11531  0.000146  0.001227    0.531010  \n",
       "11532  0.001817  0.001121    1.706516  \n",
       "11533  0.000822  0.000072    0.334094  \n",
       "11534  0.005020  0.001088    3.904959  \n",
       "11535  8.173991  0.056345  475.807248  \n",
       "11536  0.000606  0.000143    0.113688  \n",
       "11537  0.007981  0.002475    1.381954  \n",
       "11538  0.000146  0.001227    0.531010  \n",
       "11539  0.001817  0.001121    1.706516  \n",
       "11540  0.000822  0.000072    0.334094  \n",
       "11541  0.005020  0.001088    3.904959  \n",
       "11542  8.173991  0.056345  475.807248  \n",
       "11543  0.000606  0.000143    0.113688  \n",
       "11544  0.007981  0.002475    1.381954  \n",
       "11545  0.000146  0.001227    0.531010  \n",
       "11546  0.001817  0.001121    1.706516  \n",
       "11547  0.000822  0.000072    0.334094  \n",
       "11548  0.005020  0.001088    3.904959  \n",
       "11549  8.173991  0.056345  475.807248  \n",
       "\n",
       "[13200 rows x 24 columns]"
      ]
     },
     "execution_count": 37,
     "metadata": {},
     "output_type": "execute_result"
    }
   ],
   "source": [
    "pd.DataFrame(end_end)"
   ]
  },
  {
   "cell_type": "markdown",
   "metadata": {},
   "source": [
    "join with REMIND mapping and energy content conversion"
   ]
  },
  {
   "cell_type": "code",
   "execution_count": 38,
   "metadata": {},
   "outputs": [],
   "source": [
    "# join with REMIND mapping\n",
    "## read REMIND mapping\n",
    "## join\n",
    "## divide with convertion to go to EJ"
   ]
  },
  {
   "cell_type": "code",
   "execution_count": 39,
   "metadata": {},
   "outputs": [],
   "source": [
    "tech_mapping = pd.read_csv(\"data\\\\ecoinventtoREMINDtechmap.csv\", sep = ';', index_col = False) "
   ]
  },
  {
   "cell_type": "code",
   "execution_count": 40,
   "metadata": {},
   "outputs": [],
   "source": [
    "end_end = pd.merge(end_end, tech_mapping, left_on=['variable'], right_on=['ecoinvent'], how= \"left\")"
   ]
  },
  {
   "cell_type": "code",
   "execution_count": 41,
   "metadata": {},
   "outputs": [],
   "source": [
    "end_end['total'] = end_end['total'] / end_end['conv']\n",
    "end_end[categories]  = end_end[categories].divide(end_end[\"conv\"], axis=\"index\")"
   ]
  },
  {
   "cell_type": "code",
   "execution_count": 42,
   "metadata": {},
   "outputs": [
    {
     "data": {
      "text/html": [
       "<div>\n",
       "<style scoped>\n",
       "    .dataframe tbody tr th:only-of-type {\n",
       "        vertical-align: middle;\n",
       "    }\n",
       "\n",
       "    .dataframe tbody tr th {\n",
       "        vertical-align: top;\n",
       "    }\n",
       "\n",
       "    .dataframe thead th {\n",
       "        text-align: right;\n",
       "    }\n",
       "</style>\n",
       "<table border=\"1\" class=\"dataframe\">\n",
       "  <thead>\n",
       "    <tr style=\"text-align: right;\">\n",
       "      <th></th>\n",
       "      <th>period</th>\n",
       "      <th>scenario</th>\n",
       "      <th>end_category</th>\n",
       "      <th>variable</th>\n",
       "      <th>RegionCode</th>\n",
       "      <th>ALO</th>\n",
       "      <th>CC</th>\n",
       "      <th>FD</th>\n",
       "      <th>FE</th>\n",
       "      <th>FET</th>\n",
       "      <th>...</th>\n",
       "      <th>ecoinvent</th>\n",
       "      <th>ecoinvent_unit</th>\n",
       "      <th>REMIND</th>\n",
       "      <th>REMIND_unit</th>\n",
       "      <th>conv_unit</th>\n",
       "      <th>SE_eco_input</th>\n",
       "      <th>engine_eff</th>\n",
       "      <th>conv</th>\n",
       "      <th>Unnamed: 8</th>\n",
       "      <th>Unnamed: 9</th>\n",
       "    </tr>\n",
       "  </thead>\n",
       "  <tbody>\n",
       "    <tr>\n",
       "      <th>0</th>\n",
       "      <td>2015</td>\n",
       "      <td>ecoinvent</td>\n",
       "      <td>ED_H</td>\n",
       "      <td>market for electricity</td>\n",
       "      <td>CAZ</td>\n",
       "      <td>2.774802e+09</td>\n",
       "      <td>1.176807e+11</td>\n",
       "      <td>3.458052e+10</td>\n",
       "      <td>1.016137e+08</td>\n",
       "      <td>1.741780e+09</td>\n",
       "      <td>...</td>\n",
       "      <td>market for electricity</td>\n",
       "      <td>kWh</td>\n",
       "      <td>SE|Electricity</td>\n",
       "      <td>EJ</td>\n",
       "      <td>3.600000e-12</td>\n",
       "      <td>-1.000000</td>\n",
       "      <td>1.0</td>\n",
       "      <td>3.600000e-12</td>\n",
       "      <td>NaN</td>\n",
       "      <td>NaN</td>\n",
       "    </tr>\n",
       "    <tr>\n",
       "      <th>1</th>\n",
       "      <td>2015</td>\n",
       "      <td>ecoinvent</td>\n",
       "      <td>ED_H</td>\n",
       "      <td>market for electricity</td>\n",
       "      <td>CHA</td>\n",
       "      <td>3.237915e+09</td>\n",
       "      <td>2.441571e+11</td>\n",
       "      <td>5.944280e+10</td>\n",
       "      <td>7.626263e+07</td>\n",
       "      <td>1.866969e+09</td>\n",
       "      <td>...</td>\n",
       "      <td>market for electricity</td>\n",
       "      <td>kWh</td>\n",
       "      <td>SE|Electricity</td>\n",
       "      <td>EJ</td>\n",
       "      <td>3.600000e-12</td>\n",
       "      <td>-1.000000</td>\n",
       "      <td>1.0</td>\n",
       "      <td>3.600000e-12</td>\n",
       "      <td>NaN</td>\n",
       "      <td>NaN</td>\n",
       "    </tr>\n",
       "    <tr>\n",
       "      <th>2</th>\n",
       "      <td>2015</td>\n",
       "      <td>ecoinvent</td>\n",
       "      <td>ED_H</td>\n",
       "      <td>market for electricity</td>\n",
       "      <td>CHE</td>\n",
       "      <td>3.402549e+09</td>\n",
       "      <td>2.595761e+10</td>\n",
       "      <td>6.563844e+09</td>\n",
       "      <td>2.986225e+07</td>\n",
       "      <td>5.404150e+08</td>\n",
       "      <td>...</td>\n",
       "      <td>market for electricity</td>\n",
       "      <td>kWh</td>\n",
       "      <td>SE|Electricity</td>\n",
       "      <td>EJ</td>\n",
       "      <td>3.600000e-12</td>\n",
       "      <td>-1.000000</td>\n",
       "      <td>1.0</td>\n",
       "      <td>3.600000e-12</td>\n",
       "      <td>NaN</td>\n",
       "      <td>NaN</td>\n",
       "    </tr>\n",
       "    <tr>\n",
       "      <th>3</th>\n",
       "      <td>2015</td>\n",
       "      <td>ecoinvent</td>\n",
       "      <td>ED_H</td>\n",
       "      <td>market for electricity</td>\n",
       "      <td>DEU</td>\n",
       "      <td>1.127325e+10</td>\n",
       "      <td>1.795503e+11</td>\n",
       "      <td>4.629251e+10</td>\n",
       "      <td>2.585164e+08</td>\n",
       "      <td>4.045063e+09</td>\n",
       "      <td>...</td>\n",
       "      <td>market for electricity</td>\n",
       "      <td>kWh</td>\n",
       "      <td>SE|Electricity</td>\n",
       "      <td>EJ</td>\n",
       "      <td>3.600000e-12</td>\n",
       "      <td>-1.000000</td>\n",
       "      <td>1.0</td>\n",
       "      <td>3.600000e-12</td>\n",
       "      <td>NaN</td>\n",
       "      <td>NaN</td>\n",
       "    </tr>\n",
       "    <tr>\n",
       "      <th>4</th>\n",
       "      <td>2015</td>\n",
       "      <td>ecoinvent</td>\n",
       "      <td>ED_H</td>\n",
       "      <td>market for electricity</td>\n",
       "      <td>ECE</td>\n",
       "      <td>2.803913e+10</td>\n",
       "      <td>1.997644e+11</td>\n",
       "      <td>6.112063e+10</td>\n",
       "      <td>1.617327e+08</td>\n",
       "      <td>2.659957e+09</td>\n",
       "      <td>...</td>\n",
       "      <td>market for electricity</td>\n",
       "      <td>kWh</td>\n",
       "      <td>SE|Electricity</td>\n",
       "      <td>EJ</td>\n",
       "      <td>3.600000e-12</td>\n",
       "      <td>-1.000000</td>\n",
       "      <td>1.0</td>\n",
       "      <td>3.600000e-12</td>\n",
       "      <td>NaN</td>\n",
       "      <td>NaN</td>\n",
       "    </tr>\n",
       "    <tr>\n",
       "      <th>5</th>\n",
       "      <td>2015</td>\n",
       "      <td>ecoinvent</td>\n",
       "      <td>ED_H</td>\n",
       "      <td>market for electricity</td>\n",
       "      <td>ENN</td>\n",
       "      <td>7.290619e+08</td>\n",
       "      <td>1.189579e+10</td>\n",
       "      <td>1.904063e+09</td>\n",
       "      <td>2.759605e+06</td>\n",
       "      <td>1.095216e+08</td>\n",
       "      <td>...</td>\n",
       "      <td>market for electricity</td>\n",
       "      <td>kWh</td>\n",
       "      <td>SE|Electricity</td>\n",
       "      <td>EJ</td>\n",
       "      <td>3.600000e-12</td>\n",
       "      <td>-1.000000</td>\n",
       "      <td>1.0</td>\n",
       "      <td>3.600000e-12</td>\n",
       "      <td>NaN</td>\n",
       "      <td>NaN</td>\n",
       "    </tr>\n",
       "    <tr>\n",
       "      <th>6</th>\n",
       "      <td>2015</td>\n",
       "      <td>ecoinvent</td>\n",
       "      <td>ED_H</td>\n",
       "      <td>market for electricity</td>\n",
       "      <td>ESC</td>\n",
       "      <td>9.271361e+09</td>\n",
       "      <td>1.837940e+11</td>\n",
       "      <td>6.034238e+10</td>\n",
       "      <td>4.991767e+07</td>\n",
       "      <td>1.000061e+09</td>\n",
       "      <td>...</td>\n",
       "      <td>market for electricity</td>\n",
       "      <td>kWh</td>\n",
       "      <td>SE|Electricity</td>\n",
       "      <td>EJ</td>\n",
       "      <td>3.600000e-12</td>\n",
       "      <td>-1.000000</td>\n",
       "      <td>1.0</td>\n",
       "      <td>3.600000e-12</td>\n",
       "      <td>NaN</td>\n",
       "      <td>NaN</td>\n",
       "    </tr>\n",
       "    <tr>\n",
       "      <th>7</th>\n",
       "      <td>2015</td>\n",
       "      <td>ecoinvent</td>\n",
       "      <td>ED_H</td>\n",
       "      <td>market for electricity</td>\n",
       "      <td>ESE</td>\n",
       "      <td>6.661744e+09</td>\n",
       "      <td>1.660081e+11</td>\n",
       "      <td>5.143138e+10</td>\n",
       "      <td>2.567996e+08</td>\n",
       "      <td>4.091618e+09</td>\n",
       "      <td>...</td>\n",
       "      <td>market for electricity</td>\n",
       "      <td>kWh</td>\n",
       "      <td>SE|Electricity</td>\n",
       "      <td>EJ</td>\n",
       "      <td>3.600000e-12</td>\n",
       "      <td>-1.000000</td>\n",
       "      <td>1.0</td>\n",
       "      <td>3.600000e-12</td>\n",
       "      <td>NaN</td>\n",
       "      <td>NaN</td>\n",
       "    </tr>\n",
       "    <tr>\n",
       "      <th>8</th>\n",
       "      <td>2015</td>\n",
       "      <td>ecoinvent</td>\n",
       "      <td>ED_H</td>\n",
       "      <td>market for electricity</td>\n",
       "      <td>EUI</td>\n",
       "      <td>9.034031e+09</td>\n",
       "      <td>9.615251e+10</td>\n",
       "      <td>2.728710e+10</td>\n",
       "      <td>4.183872e+07</td>\n",
       "      <td>1.003130e+09</td>\n",
       "      <td>...</td>\n",
       "      <td>market for electricity</td>\n",
       "      <td>kWh</td>\n",
       "      <td>SE|Electricity</td>\n",
       "      <td>EJ</td>\n",
       "      <td>3.600000e-12</td>\n",
       "      <td>-1.000000</td>\n",
       "      <td>1.0</td>\n",
       "      <td>3.600000e-12</td>\n",
       "      <td>NaN</td>\n",
       "      <td>NaN</td>\n",
       "    </tr>\n",
       "    <tr>\n",
       "      <th>9</th>\n",
       "      <td>2015</td>\n",
       "      <td>ecoinvent</td>\n",
       "      <td>ED_H</td>\n",
       "      <td>market for electricity</td>\n",
       "      <td>EUN</td>\n",
       "      <td>3.536449e+10</td>\n",
       "      <td>5.965856e+10</td>\n",
       "      <td>1.518866e+10</td>\n",
       "      <td>3.052672e+07</td>\n",
       "      <td>7.640378e+08</td>\n",
       "      <td>...</td>\n",
       "      <td>market for electricity</td>\n",
       "      <td>kWh</td>\n",
       "      <td>SE|Electricity</td>\n",
       "      <td>EJ</td>\n",
       "      <td>3.600000e-12</td>\n",
       "      <td>-1.000000</td>\n",
       "      <td>1.0</td>\n",
       "      <td>3.600000e-12</td>\n",
       "      <td>NaN</td>\n",
       "      <td>NaN</td>\n",
       "    </tr>\n",
       "    <tr>\n",
       "      <th>10</th>\n",
       "      <td>2015</td>\n",
       "      <td>ecoinvent</td>\n",
       "      <td>ED_H</td>\n",
       "      <td>market for electricity</td>\n",
       "      <td>EWN</td>\n",
       "      <td>1.274232e+10</td>\n",
       "      <td>1.342829e+11</td>\n",
       "      <td>3.856610e+10</td>\n",
       "      <td>1.013595e+08</td>\n",
       "      <td>1.718167e+09</td>\n",
       "      <td>...</td>\n",
       "      <td>market for electricity</td>\n",
       "      <td>kWh</td>\n",
       "      <td>SE|Electricity</td>\n",
       "      <td>EJ</td>\n",
       "      <td>3.600000e-12</td>\n",
       "      <td>-1.000000</td>\n",
       "      <td>1.0</td>\n",
       "      <td>3.600000e-12</td>\n",
       "      <td>NaN</td>\n",
       "      <td>NaN</td>\n",
       "    </tr>\n",
       "    <tr>\n",
       "      <th>11</th>\n",
       "      <td>2015</td>\n",
       "      <td>ecoinvent</td>\n",
       "      <td>ED_H</td>\n",
       "      <td>market for electricity</td>\n",
       "      <td>FRA</td>\n",
       "      <td>1.273698e+09</td>\n",
       "      <td>1.479208e+10</td>\n",
       "      <td>3.962078e+09</td>\n",
       "      <td>5.831155e+06</td>\n",
       "      <td>2.279340e+08</td>\n",
       "      <td>...</td>\n",
       "      <td>market for electricity</td>\n",
       "      <td>kWh</td>\n",
       "      <td>SE|Electricity</td>\n",
       "      <td>EJ</td>\n",
       "      <td>3.600000e-12</td>\n",
       "      <td>-1.000000</td>\n",
       "      <td>1.0</td>\n",
       "      <td>3.600000e-12</td>\n",
       "      <td>NaN</td>\n",
       "      <td>NaN</td>\n",
       "    </tr>\n",
       "    <tr>\n",
       "      <th>12</th>\n",
       "      <td>2015</td>\n",
       "      <td>ecoinvent</td>\n",
       "      <td>ED_H</td>\n",
       "      <td>market for electricity</td>\n",
       "      <td>IND</td>\n",
       "      <td>4.461799e+09</td>\n",
       "      <td>3.556216e+11</td>\n",
       "      <td>1.086603e+11</td>\n",
       "      <td>1.754845e+08</td>\n",
       "      <td>3.222359e+09</td>\n",
       "      <td>...</td>\n",
       "      <td>market for electricity</td>\n",
       "      <td>kWh</td>\n",
       "      <td>SE|Electricity</td>\n",
       "      <td>EJ</td>\n",
       "      <td>3.600000e-12</td>\n",
       "      <td>-1.000000</td>\n",
       "      <td>1.0</td>\n",
       "      <td>3.600000e-12</td>\n",
       "      <td>NaN</td>\n",
       "      <td>NaN</td>\n",
       "    </tr>\n",
       "    <tr>\n",
       "      <th>13</th>\n",
       "      <td>2015</td>\n",
       "      <td>ecoinvent</td>\n",
       "      <td>ED_H</td>\n",
       "      <td>market for electricity</td>\n",
       "      <td>JPN</td>\n",
       "      <td>7.259622e+09</td>\n",
       "      <td>2.104360e+11</td>\n",
       "      <td>6.360179e+10</td>\n",
       "      <td>3.903870e+07</td>\n",
       "      <td>1.119463e+09</td>\n",
       "      <td>...</td>\n",
       "      <td>market for electricity</td>\n",
       "      <td>kWh</td>\n",
       "      <td>SE|Electricity</td>\n",
       "      <td>EJ</td>\n",
       "      <td>3.600000e-12</td>\n",
       "      <td>-1.000000</td>\n",
       "      <td>1.0</td>\n",
       "      <td>3.600000e-12</td>\n",
       "      <td>NaN</td>\n",
       "      <td>NaN</td>\n",
       "    </tr>\n",
       "    <tr>\n",
       "      <th>14</th>\n",
       "      <td>2015</td>\n",
       "      <td>ecoinvent</td>\n",
       "      <td>ED_H</td>\n",
       "      <td>market for electricity</td>\n",
       "      <td>LAM</td>\n",
       "      <td>8.299534e+09</td>\n",
       "      <td>1.344025e+11</td>\n",
       "      <td>4.560293e+10</td>\n",
       "      <td>1.602705e+07</td>\n",
       "      <td>4.740356e+08</td>\n",
       "      <td>...</td>\n",
       "      <td>market for electricity</td>\n",
       "      <td>kWh</td>\n",
       "      <td>SE|Electricity</td>\n",
       "      <td>EJ</td>\n",
       "      <td>3.600000e-12</td>\n",
       "      <td>-1.000000</td>\n",
       "      <td>1.0</td>\n",
       "      <td>3.600000e-12</td>\n",
       "      <td>NaN</td>\n",
       "      <td>NaN</td>\n",
       "    </tr>\n",
       "    <tr>\n",
       "      <th>15</th>\n",
       "      <td>2015</td>\n",
       "      <td>ecoinvent</td>\n",
       "      <td>ED_H</td>\n",
       "      <td>market for electricity</td>\n",
       "      <td>MEA</td>\n",
       "      <td>3.526356e+08</td>\n",
       "      <td>1.991559e+11</td>\n",
       "      <td>7.613956e+10</td>\n",
       "      <td>1.412398e+07</td>\n",
       "      <td>4.723037e+08</td>\n",
       "      <td>...</td>\n",
       "      <td>market for electricity</td>\n",
       "      <td>kWh</td>\n",
       "      <td>SE|Electricity</td>\n",
       "      <td>EJ</td>\n",
       "      <td>3.600000e-12</td>\n",
       "      <td>-1.000000</td>\n",
       "      <td>1.0</td>\n",
       "      <td>3.600000e-12</td>\n",
       "      <td>NaN</td>\n",
       "      <td>NaN</td>\n",
       "    </tr>\n",
       "    <tr>\n",
       "      <th>16</th>\n",
       "      <td>2015</td>\n",
       "      <td>ecoinvent</td>\n",
       "      <td>ED_H</td>\n",
       "      <td>market for electricity</td>\n",
       "      <td>OAS</td>\n",
       "      <td>1.567877e+09</td>\n",
       "      <td>1.711437e+11</td>\n",
       "      <td>5.498471e+10</td>\n",
       "      <td>1.080034e+08</td>\n",
       "      <td>1.994247e+09</td>\n",
       "      <td>...</td>\n",
       "      <td>market for electricity</td>\n",
       "      <td>kWh</td>\n",
       "      <td>SE|Electricity</td>\n",
       "      <td>EJ</td>\n",
       "      <td>3.600000e-12</td>\n",
       "      <td>-1.000000</td>\n",
       "      <td>1.0</td>\n",
       "      <td>3.600000e-12</td>\n",
       "      <td>NaN</td>\n",
       "      <td>NaN</td>\n",
       "    </tr>\n",
       "    <tr>\n",
       "      <th>17</th>\n",
       "      <td>2015</td>\n",
       "      <td>ecoinvent</td>\n",
       "      <td>ED_H</td>\n",
       "      <td>market for electricity</td>\n",
       "      <td>REF</td>\n",
       "      <td>9.914730e+08</td>\n",
       "      <td>1.463346e+11</td>\n",
       "      <td>5.295309e+10</td>\n",
       "      <td>3.732883e+07</td>\n",
       "      <td>9.986182e+08</td>\n",
       "      <td>...</td>\n",
       "      <td>market for electricity</td>\n",
       "      <td>kWh</td>\n",
       "      <td>SE|Electricity</td>\n",
       "      <td>EJ</td>\n",
       "      <td>3.600000e-12</td>\n",
       "      <td>-1.000000</td>\n",
       "      <td>1.0</td>\n",
       "      <td>3.600000e-12</td>\n",
       "      <td>NaN</td>\n",
       "      <td>NaN</td>\n",
       "    </tr>\n",
       "    <tr>\n",
       "      <th>18</th>\n",
       "      <td>2015</td>\n",
       "      <td>ecoinvent</td>\n",
       "      <td>ED_H</td>\n",
       "      <td>market for electricity</td>\n",
       "      <td>ROE</td>\n",
       "      <td>8.917054e+08</td>\n",
       "      <td>1.954871e+11</td>\n",
       "      <td>4.912555e+10</td>\n",
       "      <td>3.946042e+08</td>\n",
       "      <td>6.133742e+09</td>\n",
       "      <td>...</td>\n",
       "      <td>market for electricity</td>\n",
       "      <td>kWh</td>\n",
       "      <td>SE|Electricity</td>\n",
       "      <td>EJ</td>\n",
       "      <td>3.600000e-12</td>\n",
       "      <td>-1.000000</td>\n",
       "      <td>1.0</td>\n",
       "      <td>3.600000e-12</td>\n",
       "      <td>NaN</td>\n",
       "      <td>NaN</td>\n",
       "    </tr>\n",
       "    <tr>\n",
       "      <th>19</th>\n",
       "      <td>2015</td>\n",
       "      <td>ecoinvent</td>\n",
       "      <td>ED_H</td>\n",
       "      <td>market for electricity</td>\n",
       "      <td>SSA</td>\n",
       "      <td>5.360617e+08</td>\n",
       "      <td>1.382024e+11</td>\n",
       "      <td>4.693254e+10</td>\n",
       "      <td>3.955814e+07</td>\n",
       "      <td>8.521263e+08</td>\n",
       "      <td>...</td>\n",
       "      <td>market for electricity</td>\n",
       "      <td>kWh</td>\n",
       "      <td>SE|Electricity</td>\n",
       "      <td>EJ</td>\n",
       "      <td>3.600000e-12</td>\n",
       "      <td>-1.000000</td>\n",
       "      <td>1.0</td>\n",
       "      <td>3.600000e-12</td>\n",
       "      <td>NaN</td>\n",
       "      <td>NaN</td>\n",
       "    </tr>\n",
       "    <tr>\n",
       "      <th>20</th>\n",
       "      <td>2015</td>\n",
       "      <td>ecoinvent</td>\n",
       "      <td>ED_H</td>\n",
       "      <td>market for electricity</td>\n",
       "      <td>UKI</td>\n",
       "      <td>1.358372e+10</td>\n",
       "      <td>1.833095e+11</td>\n",
       "      <td>5.840757e+10</td>\n",
       "      <td>3.142102e+07</td>\n",
       "      <td>8.065224e+08</td>\n",
       "      <td>...</td>\n",
       "      <td>market for electricity</td>\n",
       "      <td>kWh</td>\n",
       "      <td>SE|Electricity</td>\n",
       "      <td>EJ</td>\n",
       "      <td>3.600000e-12</td>\n",
       "      <td>-1.000000</td>\n",
       "      <td>1.0</td>\n",
       "      <td>3.600000e-12</td>\n",
       "      <td>NaN</td>\n",
       "      <td>NaN</td>\n",
       "    </tr>\n",
       "    <tr>\n",
       "      <th>21</th>\n",
       "      <td>2015</td>\n",
       "      <td>ecoinvent</td>\n",
       "      <td>ED_H</td>\n",
       "      <td>market for electricity</td>\n",
       "      <td>USA</td>\n",
       "      <td>2.794731e+09</td>\n",
       "      <td>1.863427e+11</td>\n",
       "      <td>5.611362e+10</td>\n",
       "      <td>1.608692e+08</td>\n",
       "      <td>2.953263e+09</td>\n",
       "      <td>...</td>\n",
       "      <td>market for electricity</td>\n",
       "      <td>kWh</td>\n",
       "      <td>SE|Electricity</td>\n",
       "      <td>EJ</td>\n",
       "      <td>3.600000e-12</td>\n",
       "      <td>-1.000000</td>\n",
       "      <td>1.0</td>\n",
       "      <td>3.600000e-12</td>\n",
       "      <td>NaN</td>\n",
       "      <td>NaN</td>\n",
       "    </tr>\n",
       "    <tr>\n",
       "      <th>22</th>\n",
       "      <td>2015</td>\n",
       "      <td>ecoinvent</td>\n",
       "      <td>HH_H</td>\n",
       "      <td>market for electricity</td>\n",
       "      <td>CAZ</td>\n",
       "      <td>2.774802e+09</td>\n",
       "      <td>1.176807e+11</td>\n",
       "      <td>3.458052e+10</td>\n",
       "      <td>1.016137e+08</td>\n",
       "      <td>1.741780e+09</td>\n",
       "      <td>...</td>\n",
       "      <td>market for electricity</td>\n",
       "      <td>kWh</td>\n",
       "      <td>SE|Electricity</td>\n",
       "      <td>EJ</td>\n",
       "      <td>3.600000e-12</td>\n",
       "      <td>-1.000000</td>\n",
       "      <td>1.0</td>\n",
       "      <td>3.600000e-12</td>\n",
       "      <td>NaN</td>\n",
       "      <td>NaN</td>\n",
       "    </tr>\n",
       "    <tr>\n",
       "      <th>23</th>\n",
       "      <td>2015</td>\n",
       "      <td>ecoinvent</td>\n",
       "      <td>HH_H</td>\n",
       "      <td>market for electricity</td>\n",
       "      <td>CHA</td>\n",
       "      <td>3.237915e+09</td>\n",
       "      <td>2.441571e+11</td>\n",
       "      <td>5.944280e+10</td>\n",
       "      <td>7.626263e+07</td>\n",
       "      <td>1.866969e+09</td>\n",
       "      <td>...</td>\n",
       "      <td>market for electricity</td>\n",
       "      <td>kWh</td>\n",
       "      <td>SE|Electricity</td>\n",
       "      <td>EJ</td>\n",
       "      <td>3.600000e-12</td>\n",
       "      <td>-1.000000</td>\n",
       "      <td>1.0</td>\n",
       "      <td>3.600000e-12</td>\n",
       "      <td>NaN</td>\n",
       "      <td>NaN</td>\n",
       "    </tr>\n",
       "    <tr>\n",
       "      <th>24</th>\n",
       "      <td>2015</td>\n",
       "      <td>ecoinvent</td>\n",
       "      <td>HH_H</td>\n",
       "      <td>market for electricity</td>\n",
       "      <td>CHE</td>\n",
       "      <td>3.402549e+09</td>\n",
       "      <td>2.595761e+10</td>\n",
       "      <td>6.563844e+09</td>\n",
       "      <td>2.986225e+07</td>\n",
       "      <td>5.404150e+08</td>\n",
       "      <td>...</td>\n",
       "      <td>market for electricity</td>\n",
       "      <td>kWh</td>\n",
       "      <td>SE|Electricity</td>\n",
       "      <td>EJ</td>\n",
       "      <td>3.600000e-12</td>\n",
       "      <td>-1.000000</td>\n",
       "      <td>1.0</td>\n",
       "      <td>3.600000e-12</td>\n",
       "      <td>NaN</td>\n",
       "      <td>NaN</td>\n",
       "    </tr>\n",
       "    <tr>\n",
       "      <th>25</th>\n",
       "      <td>2015</td>\n",
       "      <td>ecoinvent</td>\n",
       "      <td>HH_H</td>\n",
       "      <td>market for electricity</td>\n",
       "      <td>DEU</td>\n",
       "      <td>1.127325e+10</td>\n",
       "      <td>1.795503e+11</td>\n",
       "      <td>4.629251e+10</td>\n",
       "      <td>2.585164e+08</td>\n",
       "      <td>4.045063e+09</td>\n",
       "      <td>...</td>\n",
       "      <td>market for electricity</td>\n",
       "      <td>kWh</td>\n",
       "      <td>SE|Electricity</td>\n",
       "      <td>EJ</td>\n",
       "      <td>3.600000e-12</td>\n",
       "      <td>-1.000000</td>\n",
       "      <td>1.0</td>\n",
       "      <td>3.600000e-12</td>\n",
       "      <td>NaN</td>\n",
       "      <td>NaN</td>\n",
       "    </tr>\n",
       "    <tr>\n",
       "      <th>26</th>\n",
       "      <td>2015</td>\n",
       "      <td>ecoinvent</td>\n",
       "      <td>HH_H</td>\n",
       "      <td>market for electricity</td>\n",
       "      <td>ECE</td>\n",
       "      <td>2.803913e+10</td>\n",
       "      <td>1.997644e+11</td>\n",
       "      <td>6.112063e+10</td>\n",
       "      <td>1.617327e+08</td>\n",
       "      <td>2.659957e+09</td>\n",
       "      <td>...</td>\n",
       "      <td>market for electricity</td>\n",
       "      <td>kWh</td>\n",
       "      <td>SE|Electricity</td>\n",
       "      <td>EJ</td>\n",
       "      <td>3.600000e-12</td>\n",
       "      <td>-1.000000</td>\n",
       "      <td>1.0</td>\n",
       "      <td>3.600000e-12</td>\n",
       "      <td>NaN</td>\n",
       "      <td>NaN</td>\n",
       "    </tr>\n",
       "    <tr>\n",
       "      <th>27</th>\n",
       "      <td>2015</td>\n",
       "      <td>ecoinvent</td>\n",
       "      <td>HH_H</td>\n",
       "      <td>market for electricity</td>\n",
       "      <td>ENN</td>\n",
       "      <td>7.290619e+08</td>\n",
       "      <td>1.189579e+10</td>\n",
       "      <td>1.904063e+09</td>\n",
       "      <td>2.759605e+06</td>\n",
       "      <td>1.095216e+08</td>\n",
       "      <td>...</td>\n",
       "      <td>market for electricity</td>\n",
       "      <td>kWh</td>\n",
       "      <td>SE|Electricity</td>\n",
       "      <td>EJ</td>\n",
       "      <td>3.600000e-12</td>\n",
       "      <td>-1.000000</td>\n",
       "      <td>1.0</td>\n",
       "      <td>3.600000e-12</td>\n",
       "      <td>NaN</td>\n",
       "      <td>NaN</td>\n",
       "    </tr>\n",
       "    <tr>\n",
       "      <th>28</th>\n",
       "      <td>2015</td>\n",
       "      <td>ecoinvent</td>\n",
       "      <td>HH_H</td>\n",
       "      <td>market for electricity</td>\n",
       "      <td>ESC</td>\n",
       "      <td>9.271361e+09</td>\n",
       "      <td>1.837940e+11</td>\n",
       "      <td>6.034238e+10</td>\n",
       "      <td>4.991767e+07</td>\n",
       "      <td>1.000061e+09</td>\n",
       "      <td>...</td>\n",
       "      <td>market for electricity</td>\n",
       "      <td>kWh</td>\n",
       "      <td>SE|Electricity</td>\n",
       "      <td>EJ</td>\n",
       "      <td>3.600000e-12</td>\n",
       "      <td>-1.000000</td>\n",
       "      <td>1.0</td>\n",
       "      <td>3.600000e-12</td>\n",
       "      <td>NaN</td>\n",
       "      <td>NaN</td>\n",
       "    </tr>\n",
       "    <tr>\n",
       "      <th>29</th>\n",
       "      <td>2015</td>\n",
       "      <td>ecoinvent</td>\n",
       "      <td>HH_H</td>\n",
       "      <td>market for electricity</td>\n",
       "      <td>ESE</td>\n",
       "      <td>6.661744e+09</td>\n",
       "      <td>1.660081e+11</td>\n",
       "      <td>5.143138e+10</td>\n",
       "      <td>2.567996e+08</td>\n",
       "      <td>4.091618e+09</td>\n",
       "      <td>...</td>\n",
       "      <td>market for electricity</td>\n",
       "      <td>kWh</td>\n",
       "      <td>SE|Electricity</td>\n",
       "      <td>EJ</td>\n",
       "      <td>3.600000e-12</td>\n",
       "      <td>-1.000000</td>\n",
       "      <td>1.0</td>\n",
       "      <td>3.600000e-12</td>\n",
       "      <td>NaN</td>\n",
       "      <td>NaN</td>\n",
       "    </tr>\n",
       "    <tr>\n",
       "      <th>...</th>\n",
       "      <td>...</td>\n",
       "      <td>...</td>\n",
       "      <td>...</td>\n",
       "      <td>...</td>\n",
       "      <td>...</td>\n",
       "      <td>...</td>\n",
       "      <td>...</td>\n",
       "      <td>...</td>\n",
       "      <td>...</td>\n",
       "      <td>...</td>\n",
       "      <td>...</td>\n",
       "      <td>...</td>\n",
       "      <td>...</td>\n",
       "      <td>...</td>\n",
       "      <td>...</td>\n",
       "      <td>...</td>\n",
       "      <td>...</td>\n",
       "      <td>...</td>\n",
       "      <td>...</td>\n",
       "      <td>...</td>\n",
       "      <td>...</td>\n",
       "    </tr>\n",
       "    <tr>\n",
       "      <th>19770</th>\n",
       "      <td>2050</td>\n",
       "      <td>NDCminus2</td>\n",
       "      <td>ED_H</td>\n",
       "      <td>electricity production, natural gas, combined ...</td>\n",
       "      <td>USA</td>\n",
       "      <td>3.939651e+06</td>\n",
       "      <td>7.849538e+09</td>\n",
       "      <td>3.336259e+09</td>\n",
       "      <td>5.196555e+04</td>\n",
       "      <td>2.429705e+07</td>\n",
       "      <td>...</td>\n",
       "      <td>electricity production, natural gas, combined ...</td>\n",
       "      <td>kWh</td>\n",
       "      <td>SE|Gases</td>\n",
       "      <td>EJ</td>\n",
       "      <td>3.600000e-12</td>\n",
       "      <td>-0.262985</td>\n",
       "      <td>0.3</td>\n",
       "      <td>4.560000e-11</td>\n",
       "      <td>NaN</td>\n",
       "      <td>NaN</td>\n",
       "    </tr>\n",
       "    <tr>\n",
       "      <th>19771</th>\n",
       "      <td>2050</td>\n",
       "      <td>NDCminus2</td>\n",
       "      <td>ED_H</td>\n",
       "      <td>electricity production, natural gas, combined ...</td>\n",
       "      <td>USA</td>\n",
       "      <td>3.939651e+06</td>\n",
       "      <td>7.849538e+09</td>\n",
       "      <td>3.336259e+09</td>\n",
       "      <td>5.196555e+04</td>\n",
       "      <td>2.429705e+07</td>\n",
       "      <td>...</td>\n",
       "      <td>electricity production, natural gas, combined ...</td>\n",
       "      <td>kWh</td>\n",
       "      <td>SE|Heat|Gas</td>\n",
       "      <td>EJ</td>\n",
       "      <td>3.600000e-12</td>\n",
       "      <td>-0.262985</td>\n",
       "      <td>0.3</td>\n",
       "      <td>4.560000e-11</td>\n",
       "      <td>NaN</td>\n",
       "      <td>NaN</td>\n",
       "    </tr>\n",
       "    <tr>\n",
       "      <th>19772</th>\n",
       "      <td>2050</td>\n",
       "      <td>NDCminus2</td>\n",
       "      <td>ED_H</td>\n",
       "      <td>electricity production, oil</td>\n",
       "      <td>USA</td>\n",
       "      <td>3.137987e+07</td>\n",
       "      <td>2.168279e+10</td>\n",
       "      <td>7.709246e+09</td>\n",
       "      <td>2.746029e+05</td>\n",
       "      <td>3.267590e+07</td>\n",
       "      <td>...</td>\n",
       "      <td>electricity production, oil</td>\n",
       "      <td>kWh</td>\n",
       "      <td>SE|Liquids</td>\n",
       "      <td>EJ</td>\n",
       "      <td>3.600000e-12</td>\n",
       "      <td>-0.234261</td>\n",
       "      <td>0.3</td>\n",
       "      <td>5.120000e-11</td>\n",
       "      <td>NaN</td>\n",
       "      <td>NaN</td>\n",
       "    </tr>\n",
       "    <tr>\n",
       "      <th>19773</th>\n",
       "      <td>2050</td>\n",
       "      <td>NDCminus2</td>\n",
       "      <td>ED_H</td>\n",
       "      <td>heat and power co-generation, biogas, gas engine</td>\n",
       "      <td>USA</td>\n",
       "      <td>3.109338e+08</td>\n",
       "      <td>5.687889e+09</td>\n",
       "      <td>2.924116e+08</td>\n",
       "      <td>5.418527e+05</td>\n",
       "      <td>2.229251e+07</td>\n",
       "      <td>...</td>\n",
       "      <td>heat and power co-generation, biogas, gas engine</td>\n",
       "      <td>kWh</td>\n",
       "      <td>SE|Biomass</td>\n",
       "      <td>EJ</td>\n",
       "      <td>3.600000e-12</td>\n",
       "      <td>-0.296109</td>\n",
       "      <td>0.3</td>\n",
       "      <td>4.050000e-11</td>\n",
       "      <td>NaN</td>\n",
       "      <td>NaN</td>\n",
       "    </tr>\n",
       "    <tr>\n",
       "      <th>19774</th>\n",
       "      <td>2050</td>\n",
       "      <td>NDCminus2</td>\n",
       "      <td>ED_H</td>\n",
       "      <td>heat and power co-generation, biogas, gas engine</td>\n",
       "      <td>USA</td>\n",
       "      <td>3.109338e+08</td>\n",
       "      <td>5.687889e+09</td>\n",
       "      <td>2.924116e+08</td>\n",
       "      <td>5.418527e+05</td>\n",
       "      <td>2.229251e+07</td>\n",
       "      <td>...</td>\n",
       "      <td>heat and power co-generation, biogas, gas engine</td>\n",
       "      <td>kWh</td>\n",
       "      <td>SE|Heat|Biomass</td>\n",
       "      <td>EJ</td>\n",
       "      <td>3.600000e-12</td>\n",
       "      <td>-0.296109</td>\n",
       "      <td>0.3</td>\n",
       "      <td>4.050000e-11</td>\n",
       "      <td>NaN</td>\n",
       "      <td>NaN</td>\n",
       "    </tr>\n",
       "    <tr>\n",
       "      <th>19775</th>\n",
       "      <td>2050</td>\n",
       "      <td>NDCminus2</td>\n",
       "      <td>ED_H</td>\n",
       "      <td>heat and power co-generation, biogas, gas engine</td>\n",
       "      <td>USA</td>\n",
       "      <td>3.109338e+08</td>\n",
       "      <td>5.687889e+09</td>\n",
       "      <td>2.924116e+08</td>\n",
       "      <td>5.418527e+05</td>\n",
       "      <td>2.229251e+07</td>\n",
       "      <td>...</td>\n",
       "      <td>heat and power co-generation, biogas, gas engine</td>\n",
       "      <td>kWh</td>\n",
       "      <td>SE|Solids|Biomass</td>\n",
       "      <td>EJ</td>\n",
       "      <td>3.600000e-12</td>\n",
       "      <td>-0.296109</td>\n",
       "      <td>0.3</td>\n",
       "      <td>4.050000e-11</td>\n",
       "      <td>NaN</td>\n",
       "      <td>NaN</td>\n",
       "    </tr>\n",
       "    <tr>\n",
       "      <th>19776</th>\n",
       "      <td>2050</td>\n",
       "      <td>NDCminus2</td>\n",
       "      <td>ED_H</td>\n",
       "      <td>market for hydrogen, liquid</td>\n",
       "      <td>USA</td>\n",
       "      <td>2.194265e+08</td>\n",
       "      <td>1.330294e+10</td>\n",
       "      <td>1.192340e+10</td>\n",
       "      <td>8.703963e+05</td>\n",
       "      <td>8.245679e+07</td>\n",
       "      <td>...</td>\n",
       "      <td>market for hydrogen, liquid</td>\n",
       "      <td>kg</td>\n",
       "      <td>SE|Hydrogen</td>\n",
       "      <td>EJ</td>\n",
       "      <td>1.400000e-10</td>\n",
       "      <td>-1.000000</td>\n",
       "      <td>1.0</td>\n",
       "      <td>1.400000e-10</td>\n",
       "      <td>NaN</td>\n",
       "      <td>NaN</td>\n",
       "    </tr>\n",
       "    <tr>\n",
       "      <th>19777</th>\n",
       "      <td>2050</td>\n",
       "      <td>NDCminus2</td>\n",
       "      <td>ED_H</td>\n",
       "      <td>softwood forestry, mixed species, sustainable ...</td>\n",
       "      <td>USA</td>\n",
       "      <td>2.688392e+13</td>\n",
       "      <td>4.015694e+11</td>\n",
       "      <td>1.156543e+11</td>\n",
       "      <td>1.904737e+07</td>\n",
       "      <td>2.800928e+09</td>\n",
       "      <td>...</td>\n",
       "      <td>softwood forestry, mixed species, sustainable ...</td>\n",
       "      <td>kg</td>\n",
       "      <td>SE|Solids|Traditional Biomass</td>\n",
       "      <td>EJ</td>\n",
       "      <td>1.700000e-11</td>\n",
       "      <td>-1.000000</td>\n",
       "      <td>1.0</td>\n",
       "      <td>1.700000e-11</td>\n",
       "      <td>NaN</td>\n",
       "      <td>NaN</td>\n",
       "    </tr>\n",
       "    <tr>\n",
       "      <th>19778</th>\n",
       "      <td>2050</td>\n",
       "      <td>NDCminus2</td>\n",
       "      <td>HH_H</td>\n",
       "      <td>electricity production, deep geothermal</td>\n",
       "      <td>USA</td>\n",
       "      <td>1.369021e+08</td>\n",
       "      <td>2.950597e+09</td>\n",
       "      <td>7.741744e+08</td>\n",
       "      <td>2.468209e+06</td>\n",
       "      <td>1.220344e+08</td>\n",
       "      <td>...</td>\n",
       "      <td>electricity production, deep geothermal</td>\n",
       "      <td>kWh</td>\n",
       "      <td>SE|Heat|Geothermal</td>\n",
       "      <td>EJ</td>\n",
       "      <td>1.080000e-11</td>\n",
       "      <td>-1.000000</td>\n",
       "      <td>1.0</td>\n",
       "      <td>1.080000e-11</td>\n",
       "      <td>NaN</td>\n",
       "      <td>NaN</td>\n",
       "    </tr>\n",
       "    <tr>\n",
       "      <th>19779</th>\n",
       "      <td>2050</td>\n",
       "      <td>NDCminus2</td>\n",
       "      <td>HH_H</td>\n",
       "      <td>electricity production, hard coal</td>\n",
       "      <td>USA</td>\n",
       "      <td>3.436648e+08</td>\n",
       "      <td>2.844019e+10</td>\n",
       "      <td>7.287641e+09</td>\n",
       "      <td>1.203102e+07</td>\n",
       "      <td>2.266241e+08</td>\n",
       "      <td>...</td>\n",
       "      <td>electricity production, hard coal</td>\n",
       "      <td>kWh</td>\n",
       "      <td>SE|Heat|Coal</td>\n",
       "      <td>EJ</td>\n",
       "      <td>3.600000e-12</td>\n",
       "      <td>-0.402466</td>\n",
       "      <td>0.3</td>\n",
       "      <td>2.980000e-11</td>\n",
       "      <td>NaN</td>\n",
       "      <td>NaN</td>\n",
       "    </tr>\n",
       "    <tr>\n",
       "      <th>19780</th>\n",
       "      <td>2050</td>\n",
       "      <td>NDCminus2</td>\n",
       "      <td>HH_H</td>\n",
       "      <td>electricity production, hard coal</td>\n",
       "      <td>USA</td>\n",
       "      <td>3.436648e+08</td>\n",
       "      <td>2.844019e+10</td>\n",
       "      <td>7.287641e+09</td>\n",
       "      <td>1.203102e+07</td>\n",
       "      <td>2.266241e+08</td>\n",
       "      <td>...</td>\n",
       "      <td>electricity production, hard coal</td>\n",
       "      <td>kWh</td>\n",
       "      <td>SE|Solids|Coal</td>\n",
       "      <td>EJ</td>\n",
       "      <td>3.600000e-12</td>\n",
       "      <td>-0.402466</td>\n",
       "      <td>0.3</td>\n",
       "      <td>2.980000e-11</td>\n",
       "      <td>NaN</td>\n",
       "      <td>NaN</td>\n",
       "    </tr>\n",
       "    <tr>\n",
       "      <th>19781</th>\n",
       "      <td>2050</td>\n",
       "      <td>NDCminus2</td>\n",
       "      <td>HH_H</td>\n",
       "      <td>electricity production, natural gas, combined ...</td>\n",
       "      <td>USA</td>\n",
       "      <td>3.939651e+06</td>\n",
       "      <td>7.849538e+09</td>\n",
       "      <td>3.336259e+09</td>\n",
       "      <td>5.196555e+04</td>\n",
       "      <td>2.429705e+07</td>\n",
       "      <td>...</td>\n",
       "      <td>electricity production, natural gas, combined ...</td>\n",
       "      <td>kWh</td>\n",
       "      <td>SE|Gases</td>\n",
       "      <td>EJ</td>\n",
       "      <td>3.600000e-12</td>\n",
       "      <td>-0.262985</td>\n",
       "      <td>0.3</td>\n",
       "      <td>4.560000e-11</td>\n",
       "      <td>NaN</td>\n",
       "      <td>NaN</td>\n",
       "    </tr>\n",
       "    <tr>\n",
       "      <th>19782</th>\n",
       "      <td>2050</td>\n",
       "      <td>NDCminus2</td>\n",
       "      <td>HH_H</td>\n",
       "      <td>electricity production, natural gas, combined ...</td>\n",
       "      <td>USA</td>\n",
       "      <td>3.939651e+06</td>\n",
       "      <td>7.849538e+09</td>\n",
       "      <td>3.336259e+09</td>\n",
       "      <td>5.196555e+04</td>\n",
       "      <td>2.429705e+07</td>\n",
       "      <td>...</td>\n",
       "      <td>electricity production, natural gas, combined ...</td>\n",
       "      <td>kWh</td>\n",
       "      <td>SE|Heat|Gas</td>\n",
       "      <td>EJ</td>\n",
       "      <td>3.600000e-12</td>\n",
       "      <td>-0.262985</td>\n",
       "      <td>0.3</td>\n",
       "      <td>4.560000e-11</td>\n",
       "      <td>NaN</td>\n",
       "      <td>NaN</td>\n",
       "    </tr>\n",
       "    <tr>\n",
       "      <th>19783</th>\n",
       "      <td>2050</td>\n",
       "      <td>NDCminus2</td>\n",
       "      <td>HH_H</td>\n",
       "      <td>electricity production, oil</td>\n",
       "      <td>USA</td>\n",
       "      <td>3.137987e+07</td>\n",
       "      <td>2.168279e+10</td>\n",
       "      <td>7.709246e+09</td>\n",
       "      <td>2.746029e+05</td>\n",
       "      <td>3.267590e+07</td>\n",
       "      <td>...</td>\n",
       "      <td>electricity production, oil</td>\n",
       "      <td>kWh</td>\n",
       "      <td>SE|Liquids</td>\n",
       "      <td>EJ</td>\n",
       "      <td>3.600000e-12</td>\n",
       "      <td>-0.234261</td>\n",
       "      <td>0.3</td>\n",
       "      <td>5.120000e-11</td>\n",
       "      <td>NaN</td>\n",
       "      <td>NaN</td>\n",
       "    </tr>\n",
       "    <tr>\n",
       "      <th>19784</th>\n",
       "      <td>2050</td>\n",
       "      <td>NDCminus2</td>\n",
       "      <td>HH_H</td>\n",
       "      <td>heat and power co-generation, biogas, gas engine</td>\n",
       "      <td>USA</td>\n",
       "      <td>3.109338e+08</td>\n",
       "      <td>5.687889e+09</td>\n",
       "      <td>2.924116e+08</td>\n",
       "      <td>5.418527e+05</td>\n",
       "      <td>2.229251e+07</td>\n",
       "      <td>...</td>\n",
       "      <td>heat and power co-generation, biogas, gas engine</td>\n",
       "      <td>kWh</td>\n",
       "      <td>SE|Biomass</td>\n",
       "      <td>EJ</td>\n",
       "      <td>3.600000e-12</td>\n",
       "      <td>-0.296109</td>\n",
       "      <td>0.3</td>\n",
       "      <td>4.050000e-11</td>\n",
       "      <td>NaN</td>\n",
       "      <td>NaN</td>\n",
       "    </tr>\n",
       "    <tr>\n",
       "      <th>19785</th>\n",
       "      <td>2050</td>\n",
       "      <td>NDCminus2</td>\n",
       "      <td>HH_H</td>\n",
       "      <td>heat and power co-generation, biogas, gas engine</td>\n",
       "      <td>USA</td>\n",
       "      <td>3.109338e+08</td>\n",
       "      <td>5.687889e+09</td>\n",
       "      <td>2.924116e+08</td>\n",
       "      <td>5.418527e+05</td>\n",
       "      <td>2.229251e+07</td>\n",
       "      <td>...</td>\n",
       "      <td>heat and power co-generation, biogas, gas engine</td>\n",
       "      <td>kWh</td>\n",
       "      <td>SE|Heat|Biomass</td>\n",
       "      <td>EJ</td>\n",
       "      <td>3.600000e-12</td>\n",
       "      <td>-0.296109</td>\n",
       "      <td>0.3</td>\n",
       "      <td>4.050000e-11</td>\n",
       "      <td>NaN</td>\n",
       "      <td>NaN</td>\n",
       "    </tr>\n",
       "    <tr>\n",
       "      <th>19786</th>\n",
       "      <td>2050</td>\n",
       "      <td>NDCminus2</td>\n",
       "      <td>HH_H</td>\n",
       "      <td>heat and power co-generation, biogas, gas engine</td>\n",
       "      <td>USA</td>\n",
       "      <td>3.109338e+08</td>\n",
       "      <td>5.687889e+09</td>\n",
       "      <td>2.924116e+08</td>\n",
       "      <td>5.418527e+05</td>\n",
       "      <td>2.229251e+07</td>\n",
       "      <td>...</td>\n",
       "      <td>heat and power co-generation, biogas, gas engine</td>\n",
       "      <td>kWh</td>\n",
       "      <td>SE|Solids|Biomass</td>\n",
       "      <td>EJ</td>\n",
       "      <td>3.600000e-12</td>\n",
       "      <td>-0.296109</td>\n",
       "      <td>0.3</td>\n",
       "      <td>4.050000e-11</td>\n",
       "      <td>NaN</td>\n",
       "      <td>NaN</td>\n",
       "    </tr>\n",
       "    <tr>\n",
       "      <th>19787</th>\n",
       "      <td>2050</td>\n",
       "      <td>NDCminus2</td>\n",
       "      <td>HH_H</td>\n",
       "      <td>market for hydrogen, liquid</td>\n",
       "      <td>USA</td>\n",
       "      <td>2.194265e+08</td>\n",
       "      <td>1.330294e+10</td>\n",
       "      <td>1.192340e+10</td>\n",
       "      <td>8.703963e+05</td>\n",
       "      <td>8.245679e+07</td>\n",
       "      <td>...</td>\n",
       "      <td>market for hydrogen, liquid</td>\n",
       "      <td>kg</td>\n",
       "      <td>SE|Hydrogen</td>\n",
       "      <td>EJ</td>\n",
       "      <td>1.400000e-10</td>\n",
       "      <td>-1.000000</td>\n",
       "      <td>1.0</td>\n",
       "      <td>1.400000e-10</td>\n",
       "      <td>NaN</td>\n",
       "      <td>NaN</td>\n",
       "    </tr>\n",
       "    <tr>\n",
       "      <th>19788</th>\n",
       "      <td>2050</td>\n",
       "      <td>NDCminus2</td>\n",
       "      <td>HH_H</td>\n",
       "      <td>softwood forestry, mixed species, sustainable ...</td>\n",
       "      <td>USA</td>\n",
       "      <td>2.688392e+13</td>\n",
       "      <td>4.015694e+11</td>\n",
       "      <td>1.156543e+11</td>\n",
       "      <td>1.904737e+07</td>\n",
       "      <td>2.800928e+09</td>\n",
       "      <td>...</td>\n",
       "      <td>softwood forestry, mixed species, sustainable ...</td>\n",
       "      <td>kg</td>\n",
       "      <td>SE|Solids|Traditional Biomass</td>\n",
       "      <td>EJ</td>\n",
       "      <td>1.700000e-11</td>\n",
       "      <td>-1.000000</td>\n",
       "      <td>1.0</td>\n",
       "      <td>1.700000e-11</td>\n",
       "      <td>NaN</td>\n",
       "      <td>NaN</td>\n",
       "    </tr>\n",
       "    <tr>\n",
       "      <th>19789</th>\n",
       "      <td>2050</td>\n",
       "      <td>NDCminus2</td>\n",
       "      <td>RA_H</td>\n",
       "      <td>electricity production, deep geothermal</td>\n",
       "      <td>USA</td>\n",
       "      <td>1.369021e+08</td>\n",
       "      <td>2.950597e+09</td>\n",
       "      <td>7.741744e+08</td>\n",
       "      <td>2.468209e+06</td>\n",
       "      <td>1.220344e+08</td>\n",
       "      <td>...</td>\n",
       "      <td>electricity production, deep geothermal</td>\n",
       "      <td>kWh</td>\n",
       "      <td>SE|Heat|Geothermal</td>\n",
       "      <td>EJ</td>\n",
       "      <td>1.080000e-11</td>\n",
       "      <td>-1.000000</td>\n",
       "      <td>1.0</td>\n",
       "      <td>1.080000e-11</td>\n",
       "      <td>NaN</td>\n",
       "      <td>NaN</td>\n",
       "    </tr>\n",
       "    <tr>\n",
       "      <th>19790</th>\n",
       "      <td>2050</td>\n",
       "      <td>NDCminus2</td>\n",
       "      <td>RA_H</td>\n",
       "      <td>electricity production, hard coal</td>\n",
       "      <td>USA</td>\n",
       "      <td>3.436648e+08</td>\n",
       "      <td>2.844019e+10</td>\n",
       "      <td>7.287641e+09</td>\n",
       "      <td>1.203102e+07</td>\n",
       "      <td>2.266241e+08</td>\n",
       "      <td>...</td>\n",
       "      <td>electricity production, hard coal</td>\n",
       "      <td>kWh</td>\n",
       "      <td>SE|Heat|Coal</td>\n",
       "      <td>EJ</td>\n",
       "      <td>3.600000e-12</td>\n",
       "      <td>-0.402466</td>\n",
       "      <td>0.3</td>\n",
       "      <td>2.980000e-11</td>\n",
       "      <td>NaN</td>\n",
       "      <td>NaN</td>\n",
       "    </tr>\n",
       "    <tr>\n",
       "      <th>19791</th>\n",
       "      <td>2050</td>\n",
       "      <td>NDCminus2</td>\n",
       "      <td>RA_H</td>\n",
       "      <td>electricity production, hard coal</td>\n",
       "      <td>USA</td>\n",
       "      <td>3.436648e+08</td>\n",
       "      <td>2.844019e+10</td>\n",
       "      <td>7.287641e+09</td>\n",
       "      <td>1.203102e+07</td>\n",
       "      <td>2.266241e+08</td>\n",
       "      <td>...</td>\n",
       "      <td>electricity production, hard coal</td>\n",
       "      <td>kWh</td>\n",
       "      <td>SE|Solids|Coal</td>\n",
       "      <td>EJ</td>\n",
       "      <td>3.600000e-12</td>\n",
       "      <td>-0.402466</td>\n",
       "      <td>0.3</td>\n",
       "      <td>2.980000e-11</td>\n",
       "      <td>NaN</td>\n",
       "      <td>NaN</td>\n",
       "    </tr>\n",
       "    <tr>\n",
       "      <th>19792</th>\n",
       "      <td>2050</td>\n",
       "      <td>NDCminus2</td>\n",
       "      <td>RA_H</td>\n",
       "      <td>electricity production, natural gas, combined ...</td>\n",
       "      <td>USA</td>\n",
       "      <td>3.939651e+06</td>\n",
       "      <td>7.849538e+09</td>\n",
       "      <td>3.336259e+09</td>\n",
       "      <td>5.196555e+04</td>\n",
       "      <td>2.429705e+07</td>\n",
       "      <td>...</td>\n",
       "      <td>electricity production, natural gas, combined ...</td>\n",
       "      <td>kWh</td>\n",
       "      <td>SE|Gases</td>\n",
       "      <td>EJ</td>\n",
       "      <td>3.600000e-12</td>\n",
       "      <td>-0.262985</td>\n",
       "      <td>0.3</td>\n",
       "      <td>4.560000e-11</td>\n",
       "      <td>NaN</td>\n",
       "      <td>NaN</td>\n",
       "    </tr>\n",
       "    <tr>\n",
       "      <th>19793</th>\n",
       "      <td>2050</td>\n",
       "      <td>NDCminus2</td>\n",
       "      <td>RA_H</td>\n",
       "      <td>electricity production, natural gas, combined ...</td>\n",
       "      <td>USA</td>\n",
       "      <td>3.939651e+06</td>\n",
       "      <td>7.849538e+09</td>\n",
       "      <td>3.336259e+09</td>\n",
       "      <td>5.196555e+04</td>\n",
       "      <td>2.429705e+07</td>\n",
       "      <td>...</td>\n",
       "      <td>electricity production, natural gas, combined ...</td>\n",
       "      <td>kWh</td>\n",
       "      <td>SE|Heat|Gas</td>\n",
       "      <td>EJ</td>\n",
       "      <td>3.600000e-12</td>\n",
       "      <td>-0.262985</td>\n",
       "      <td>0.3</td>\n",
       "      <td>4.560000e-11</td>\n",
       "      <td>NaN</td>\n",
       "      <td>NaN</td>\n",
       "    </tr>\n",
       "    <tr>\n",
       "      <th>19794</th>\n",
       "      <td>2050</td>\n",
       "      <td>NDCminus2</td>\n",
       "      <td>RA_H</td>\n",
       "      <td>electricity production, oil</td>\n",
       "      <td>USA</td>\n",
       "      <td>3.137987e+07</td>\n",
       "      <td>2.168279e+10</td>\n",
       "      <td>7.709246e+09</td>\n",
       "      <td>2.746029e+05</td>\n",
       "      <td>3.267590e+07</td>\n",
       "      <td>...</td>\n",
       "      <td>electricity production, oil</td>\n",
       "      <td>kWh</td>\n",
       "      <td>SE|Liquids</td>\n",
       "      <td>EJ</td>\n",
       "      <td>3.600000e-12</td>\n",
       "      <td>-0.234261</td>\n",
       "      <td>0.3</td>\n",
       "      <td>5.120000e-11</td>\n",
       "      <td>NaN</td>\n",
       "      <td>NaN</td>\n",
       "    </tr>\n",
       "    <tr>\n",
       "      <th>19795</th>\n",
       "      <td>2050</td>\n",
       "      <td>NDCminus2</td>\n",
       "      <td>RA_H</td>\n",
       "      <td>heat and power co-generation, biogas, gas engine</td>\n",
       "      <td>USA</td>\n",
       "      <td>3.109338e+08</td>\n",
       "      <td>5.687889e+09</td>\n",
       "      <td>2.924116e+08</td>\n",
       "      <td>5.418527e+05</td>\n",
       "      <td>2.229251e+07</td>\n",
       "      <td>...</td>\n",
       "      <td>heat and power co-generation, biogas, gas engine</td>\n",
       "      <td>kWh</td>\n",
       "      <td>SE|Biomass</td>\n",
       "      <td>EJ</td>\n",
       "      <td>3.600000e-12</td>\n",
       "      <td>-0.296109</td>\n",
       "      <td>0.3</td>\n",
       "      <td>4.050000e-11</td>\n",
       "      <td>NaN</td>\n",
       "      <td>NaN</td>\n",
       "    </tr>\n",
       "    <tr>\n",
       "      <th>19796</th>\n",
       "      <td>2050</td>\n",
       "      <td>NDCminus2</td>\n",
       "      <td>RA_H</td>\n",
       "      <td>heat and power co-generation, biogas, gas engine</td>\n",
       "      <td>USA</td>\n",
       "      <td>3.109338e+08</td>\n",
       "      <td>5.687889e+09</td>\n",
       "      <td>2.924116e+08</td>\n",
       "      <td>5.418527e+05</td>\n",
       "      <td>2.229251e+07</td>\n",
       "      <td>...</td>\n",
       "      <td>heat and power co-generation, biogas, gas engine</td>\n",
       "      <td>kWh</td>\n",
       "      <td>SE|Heat|Biomass</td>\n",
       "      <td>EJ</td>\n",
       "      <td>3.600000e-12</td>\n",
       "      <td>-0.296109</td>\n",
       "      <td>0.3</td>\n",
       "      <td>4.050000e-11</td>\n",
       "      <td>NaN</td>\n",
       "      <td>NaN</td>\n",
       "    </tr>\n",
       "    <tr>\n",
       "      <th>19797</th>\n",
       "      <td>2050</td>\n",
       "      <td>NDCminus2</td>\n",
       "      <td>RA_H</td>\n",
       "      <td>heat and power co-generation, biogas, gas engine</td>\n",
       "      <td>USA</td>\n",
       "      <td>3.109338e+08</td>\n",
       "      <td>5.687889e+09</td>\n",
       "      <td>2.924116e+08</td>\n",
       "      <td>5.418527e+05</td>\n",
       "      <td>2.229251e+07</td>\n",
       "      <td>...</td>\n",
       "      <td>heat and power co-generation, biogas, gas engine</td>\n",
       "      <td>kWh</td>\n",
       "      <td>SE|Solids|Biomass</td>\n",
       "      <td>EJ</td>\n",
       "      <td>3.600000e-12</td>\n",
       "      <td>-0.296109</td>\n",
       "      <td>0.3</td>\n",
       "      <td>4.050000e-11</td>\n",
       "      <td>NaN</td>\n",
       "      <td>NaN</td>\n",
       "    </tr>\n",
       "    <tr>\n",
       "      <th>19798</th>\n",
       "      <td>2050</td>\n",
       "      <td>NDCminus2</td>\n",
       "      <td>RA_H</td>\n",
       "      <td>market for hydrogen, liquid</td>\n",
       "      <td>USA</td>\n",
       "      <td>2.194265e+08</td>\n",
       "      <td>1.330294e+10</td>\n",
       "      <td>1.192340e+10</td>\n",
       "      <td>8.703963e+05</td>\n",
       "      <td>8.245679e+07</td>\n",
       "      <td>...</td>\n",
       "      <td>market for hydrogen, liquid</td>\n",
       "      <td>kg</td>\n",
       "      <td>SE|Hydrogen</td>\n",
       "      <td>EJ</td>\n",
       "      <td>1.400000e-10</td>\n",
       "      <td>-1.000000</td>\n",
       "      <td>1.0</td>\n",
       "      <td>1.400000e-10</td>\n",
       "      <td>NaN</td>\n",
       "      <td>NaN</td>\n",
       "    </tr>\n",
       "    <tr>\n",
       "      <th>19799</th>\n",
       "      <td>2050</td>\n",
       "      <td>NDCminus2</td>\n",
       "      <td>RA_H</td>\n",
       "      <td>softwood forestry, mixed species, sustainable ...</td>\n",
       "      <td>USA</td>\n",
       "      <td>2.688392e+13</td>\n",
       "      <td>4.015694e+11</td>\n",
       "      <td>1.156543e+11</td>\n",
       "      <td>1.904737e+07</td>\n",
       "      <td>2.800928e+09</td>\n",
       "      <td>...</td>\n",
       "      <td>softwood forestry, mixed species, sustainable ...</td>\n",
       "      <td>kg</td>\n",
       "      <td>SE|Solids|Traditional Biomass</td>\n",
       "      <td>EJ</td>\n",
       "      <td>1.700000e-11</td>\n",
       "      <td>-1.000000</td>\n",
       "      <td>1.0</td>\n",
       "      <td>1.700000e-11</td>\n",
       "      <td>NaN</td>\n",
       "      <td>NaN</td>\n",
       "    </tr>\n",
       "  </tbody>\n",
       "</table>\n",
       "<p>19800 rows × 34 columns</p>\n",
       "</div>"
      ],
      "text/plain": [
       "       period   scenario end_category  \\\n",
       "0        2015  ecoinvent         ED_H   \n",
       "1        2015  ecoinvent         ED_H   \n",
       "2        2015  ecoinvent         ED_H   \n",
       "3        2015  ecoinvent         ED_H   \n",
       "4        2015  ecoinvent         ED_H   \n",
       "5        2015  ecoinvent         ED_H   \n",
       "6        2015  ecoinvent         ED_H   \n",
       "7        2015  ecoinvent         ED_H   \n",
       "8        2015  ecoinvent         ED_H   \n",
       "9        2015  ecoinvent         ED_H   \n",
       "10       2015  ecoinvent         ED_H   \n",
       "11       2015  ecoinvent         ED_H   \n",
       "12       2015  ecoinvent         ED_H   \n",
       "13       2015  ecoinvent         ED_H   \n",
       "14       2015  ecoinvent         ED_H   \n",
       "15       2015  ecoinvent         ED_H   \n",
       "16       2015  ecoinvent         ED_H   \n",
       "17       2015  ecoinvent         ED_H   \n",
       "18       2015  ecoinvent         ED_H   \n",
       "19       2015  ecoinvent         ED_H   \n",
       "20       2015  ecoinvent         ED_H   \n",
       "21       2015  ecoinvent         ED_H   \n",
       "22       2015  ecoinvent         HH_H   \n",
       "23       2015  ecoinvent         HH_H   \n",
       "24       2015  ecoinvent         HH_H   \n",
       "25       2015  ecoinvent         HH_H   \n",
       "26       2015  ecoinvent         HH_H   \n",
       "27       2015  ecoinvent         HH_H   \n",
       "28       2015  ecoinvent         HH_H   \n",
       "29       2015  ecoinvent         HH_H   \n",
       "...       ...        ...          ...   \n",
       "19770    2050  NDCminus2         ED_H   \n",
       "19771    2050  NDCminus2         ED_H   \n",
       "19772    2050  NDCminus2         ED_H   \n",
       "19773    2050  NDCminus2         ED_H   \n",
       "19774    2050  NDCminus2         ED_H   \n",
       "19775    2050  NDCminus2         ED_H   \n",
       "19776    2050  NDCminus2         ED_H   \n",
       "19777    2050  NDCminus2         ED_H   \n",
       "19778    2050  NDCminus2         HH_H   \n",
       "19779    2050  NDCminus2         HH_H   \n",
       "19780    2050  NDCminus2         HH_H   \n",
       "19781    2050  NDCminus2         HH_H   \n",
       "19782    2050  NDCminus2         HH_H   \n",
       "19783    2050  NDCminus2         HH_H   \n",
       "19784    2050  NDCminus2         HH_H   \n",
       "19785    2050  NDCminus2         HH_H   \n",
       "19786    2050  NDCminus2         HH_H   \n",
       "19787    2050  NDCminus2         HH_H   \n",
       "19788    2050  NDCminus2         HH_H   \n",
       "19789    2050  NDCminus2         RA_H   \n",
       "19790    2050  NDCminus2         RA_H   \n",
       "19791    2050  NDCminus2         RA_H   \n",
       "19792    2050  NDCminus2         RA_H   \n",
       "19793    2050  NDCminus2         RA_H   \n",
       "19794    2050  NDCminus2         RA_H   \n",
       "19795    2050  NDCminus2         RA_H   \n",
       "19796    2050  NDCminus2         RA_H   \n",
       "19797    2050  NDCminus2         RA_H   \n",
       "19798    2050  NDCminus2         RA_H   \n",
       "19799    2050  NDCminus2         RA_H   \n",
       "\n",
       "                                                variable RegionCode  \\\n",
       "0                                 market for electricity        CAZ   \n",
       "1                                 market for electricity        CHA   \n",
       "2                                 market for electricity        CHE   \n",
       "3                                 market for electricity        DEU   \n",
       "4                                 market for electricity        ECE   \n",
       "5                                 market for electricity        ENN   \n",
       "6                                 market for electricity        ESC   \n",
       "7                                 market for electricity        ESE   \n",
       "8                                 market for electricity        EUI   \n",
       "9                                 market for electricity        EUN   \n",
       "10                                market for electricity        EWN   \n",
       "11                                market for electricity        FRA   \n",
       "12                                market for electricity        IND   \n",
       "13                                market for electricity        JPN   \n",
       "14                                market for electricity        LAM   \n",
       "15                                market for electricity        MEA   \n",
       "16                                market for electricity        OAS   \n",
       "17                                market for electricity        REF   \n",
       "18                                market for electricity        ROE   \n",
       "19                                market for electricity        SSA   \n",
       "20                                market for electricity        UKI   \n",
       "21                                market for electricity        USA   \n",
       "22                                market for electricity        CAZ   \n",
       "23                                market for electricity        CHA   \n",
       "24                                market for electricity        CHE   \n",
       "25                                market for electricity        DEU   \n",
       "26                                market for electricity        ECE   \n",
       "27                                market for electricity        ENN   \n",
       "28                                market for electricity        ESC   \n",
       "29                                market for electricity        ESE   \n",
       "...                                                  ...        ...   \n",
       "19770  electricity production, natural gas, combined ...        USA   \n",
       "19771  electricity production, natural gas, combined ...        USA   \n",
       "19772                        electricity production, oil        USA   \n",
       "19773   heat and power co-generation, biogas, gas engine        USA   \n",
       "19774   heat and power co-generation, biogas, gas engine        USA   \n",
       "19775   heat and power co-generation, biogas, gas engine        USA   \n",
       "19776                        market for hydrogen, liquid        USA   \n",
       "19777  softwood forestry, mixed species, sustainable ...        USA   \n",
       "19778            electricity production, deep geothermal        USA   \n",
       "19779                  electricity production, hard coal        USA   \n",
       "19780                  electricity production, hard coal        USA   \n",
       "19781  electricity production, natural gas, combined ...        USA   \n",
       "19782  electricity production, natural gas, combined ...        USA   \n",
       "19783                        electricity production, oil        USA   \n",
       "19784   heat and power co-generation, biogas, gas engine        USA   \n",
       "19785   heat and power co-generation, biogas, gas engine        USA   \n",
       "19786   heat and power co-generation, biogas, gas engine        USA   \n",
       "19787                        market for hydrogen, liquid        USA   \n",
       "19788  softwood forestry, mixed species, sustainable ...        USA   \n",
       "19789            electricity production, deep geothermal        USA   \n",
       "19790                  electricity production, hard coal        USA   \n",
       "19791                  electricity production, hard coal        USA   \n",
       "19792  electricity production, natural gas, combined ...        USA   \n",
       "19793  electricity production, natural gas, combined ...        USA   \n",
       "19794                        electricity production, oil        USA   \n",
       "19795   heat and power co-generation, biogas, gas engine        USA   \n",
       "19796   heat and power co-generation, biogas, gas engine        USA   \n",
       "19797   heat and power co-generation, biogas, gas engine        USA   \n",
       "19798                        market for hydrogen, liquid        USA   \n",
       "19799  softwood forestry, mixed species, sustainable ...        USA   \n",
       "\n",
       "                ALO            CC            FD            FE           FET  \\\n",
       "0      2.774802e+09  1.176807e+11  3.458052e+10  1.016137e+08  1.741780e+09   \n",
       "1      3.237915e+09  2.441571e+11  5.944280e+10  7.626263e+07  1.866969e+09   \n",
       "2      3.402549e+09  2.595761e+10  6.563844e+09  2.986225e+07  5.404150e+08   \n",
       "3      1.127325e+10  1.795503e+11  4.629251e+10  2.585164e+08  4.045063e+09   \n",
       "4      2.803913e+10  1.997644e+11  6.112063e+10  1.617327e+08  2.659957e+09   \n",
       "5      7.290619e+08  1.189579e+10  1.904063e+09  2.759605e+06  1.095216e+08   \n",
       "6      9.271361e+09  1.837940e+11  6.034238e+10  4.991767e+07  1.000061e+09   \n",
       "7      6.661744e+09  1.660081e+11  5.143138e+10  2.567996e+08  4.091618e+09   \n",
       "8      9.034031e+09  9.615251e+10  2.728710e+10  4.183872e+07  1.003130e+09   \n",
       "9      3.536449e+10  5.965856e+10  1.518866e+10  3.052672e+07  7.640378e+08   \n",
       "10     1.274232e+10  1.342829e+11  3.856610e+10  1.013595e+08  1.718167e+09   \n",
       "11     1.273698e+09  1.479208e+10  3.962078e+09  5.831155e+06  2.279340e+08   \n",
       "12     4.461799e+09  3.556216e+11  1.086603e+11  1.754845e+08  3.222359e+09   \n",
       "13     7.259622e+09  2.104360e+11  6.360179e+10  3.903870e+07  1.119463e+09   \n",
       "14     8.299534e+09  1.344025e+11  4.560293e+10  1.602705e+07  4.740356e+08   \n",
       "15     3.526356e+08  1.991559e+11  7.613956e+10  1.412398e+07  4.723037e+08   \n",
       "16     1.567877e+09  1.711437e+11  5.498471e+10  1.080034e+08  1.994247e+09   \n",
       "17     9.914730e+08  1.463346e+11  5.295309e+10  3.732883e+07  9.986182e+08   \n",
       "18     8.917054e+08  1.954871e+11  4.912555e+10  3.946042e+08  6.133742e+09   \n",
       "19     5.360617e+08  1.382024e+11  4.693254e+10  3.955814e+07  8.521263e+08   \n",
       "20     1.358372e+10  1.833095e+11  5.840757e+10  3.142102e+07  8.065224e+08   \n",
       "21     2.794731e+09  1.863427e+11  5.611362e+10  1.608692e+08  2.953263e+09   \n",
       "22     2.774802e+09  1.176807e+11  3.458052e+10  1.016137e+08  1.741780e+09   \n",
       "23     3.237915e+09  2.441571e+11  5.944280e+10  7.626263e+07  1.866969e+09   \n",
       "24     3.402549e+09  2.595761e+10  6.563844e+09  2.986225e+07  5.404150e+08   \n",
       "25     1.127325e+10  1.795503e+11  4.629251e+10  2.585164e+08  4.045063e+09   \n",
       "26     2.803913e+10  1.997644e+11  6.112063e+10  1.617327e+08  2.659957e+09   \n",
       "27     7.290619e+08  1.189579e+10  1.904063e+09  2.759605e+06  1.095216e+08   \n",
       "28     9.271361e+09  1.837940e+11  6.034238e+10  4.991767e+07  1.000061e+09   \n",
       "29     6.661744e+09  1.660081e+11  5.143138e+10  2.567996e+08  4.091618e+09   \n",
       "...             ...           ...           ...           ...           ...   \n",
       "19770  3.939651e+06  7.849538e+09  3.336259e+09  5.196555e+04  2.429705e+07   \n",
       "19771  3.939651e+06  7.849538e+09  3.336259e+09  5.196555e+04  2.429705e+07   \n",
       "19772  3.137987e+07  2.168279e+10  7.709246e+09  2.746029e+05  3.267590e+07   \n",
       "19773  3.109338e+08  5.687889e+09  2.924116e+08  5.418527e+05  2.229251e+07   \n",
       "19774  3.109338e+08  5.687889e+09  2.924116e+08  5.418527e+05  2.229251e+07   \n",
       "19775  3.109338e+08  5.687889e+09  2.924116e+08  5.418527e+05  2.229251e+07   \n",
       "19776  2.194265e+08  1.330294e+10  1.192340e+10  8.703963e+05  8.245679e+07   \n",
       "19777  2.688392e+13  4.015694e+11  1.156543e+11  1.904737e+07  2.800928e+09   \n",
       "19778  1.369021e+08  2.950597e+09  7.741744e+08  2.468209e+06  1.220344e+08   \n",
       "19779  3.436648e+08  2.844019e+10  7.287641e+09  1.203102e+07  2.266241e+08   \n",
       "19780  3.436648e+08  2.844019e+10  7.287641e+09  1.203102e+07  2.266241e+08   \n",
       "19781  3.939651e+06  7.849538e+09  3.336259e+09  5.196555e+04  2.429705e+07   \n",
       "19782  3.939651e+06  7.849538e+09  3.336259e+09  5.196555e+04  2.429705e+07   \n",
       "19783  3.137987e+07  2.168279e+10  7.709246e+09  2.746029e+05  3.267590e+07   \n",
       "19784  3.109338e+08  5.687889e+09  2.924116e+08  5.418527e+05  2.229251e+07   \n",
       "19785  3.109338e+08  5.687889e+09  2.924116e+08  5.418527e+05  2.229251e+07   \n",
       "19786  3.109338e+08  5.687889e+09  2.924116e+08  5.418527e+05  2.229251e+07   \n",
       "19787  2.194265e+08  1.330294e+10  1.192340e+10  8.703963e+05  8.245679e+07   \n",
       "19788  2.688392e+13  4.015694e+11  1.156543e+11  1.904737e+07  2.800928e+09   \n",
       "19789  1.369021e+08  2.950597e+09  7.741744e+08  2.468209e+06  1.220344e+08   \n",
       "19790  3.436648e+08  2.844019e+10  7.287641e+09  1.203102e+07  2.266241e+08   \n",
       "19791  3.436648e+08  2.844019e+10  7.287641e+09  1.203102e+07  2.266241e+08   \n",
       "19792  3.939651e+06  7.849538e+09  3.336259e+09  5.196555e+04  2.429705e+07   \n",
       "19793  3.939651e+06  7.849538e+09  3.336259e+09  5.196555e+04  2.429705e+07   \n",
       "19794  3.137987e+07  2.168279e+10  7.709246e+09  2.746029e+05  3.267590e+07   \n",
       "19795  3.109338e+08  5.687889e+09  2.924116e+08  5.418527e+05  2.229251e+07   \n",
       "19796  3.109338e+08  5.687889e+09  2.924116e+08  5.418527e+05  2.229251e+07   \n",
       "19797  3.109338e+08  5.687889e+09  2.924116e+08  5.418527e+05  2.229251e+07   \n",
       "19798  2.194265e+08  1.330294e+10  1.192340e+10  8.703963e+05  8.245679e+07   \n",
       "19799  2.688392e+13  4.015694e+11  1.156543e+11  1.904737e+07  2.800928e+09   \n",
       "\n",
       "       ...                                          ecoinvent  ecoinvent_unit  \\\n",
       "0      ...                             market for electricity             kWh   \n",
       "1      ...                             market for electricity             kWh   \n",
       "2      ...                             market for electricity             kWh   \n",
       "3      ...                             market for electricity             kWh   \n",
       "4      ...                             market for electricity             kWh   \n",
       "5      ...                             market for electricity             kWh   \n",
       "6      ...                             market for electricity             kWh   \n",
       "7      ...                             market for electricity             kWh   \n",
       "8      ...                             market for electricity             kWh   \n",
       "9      ...                             market for electricity             kWh   \n",
       "10     ...                             market for electricity             kWh   \n",
       "11     ...                             market for electricity             kWh   \n",
       "12     ...                             market for electricity             kWh   \n",
       "13     ...                             market for electricity             kWh   \n",
       "14     ...                             market for electricity             kWh   \n",
       "15     ...                             market for electricity             kWh   \n",
       "16     ...                             market for electricity             kWh   \n",
       "17     ...                             market for electricity             kWh   \n",
       "18     ...                             market for electricity             kWh   \n",
       "19     ...                             market for electricity             kWh   \n",
       "20     ...                             market for electricity             kWh   \n",
       "21     ...                             market for electricity             kWh   \n",
       "22     ...                             market for electricity             kWh   \n",
       "23     ...                             market for electricity             kWh   \n",
       "24     ...                             market for electricity             kWh   \n",
       "25     ...                             market for electricity             kWh   \n",
       "26     ...                             market for electricity             kWh   \n",
       "27     ...                             market for electricity             kWh   \n",
       "28     ...                             market for electricity             kWh   \n",
       "29     ...                             market for electricity             kWh   \n",
       "...    ...                                                ...             ...   \n",
       "19770  ...  electricity production, natural gas, combined ...             kWh   \n",
       "19771  ...  electricity production, natural gas, combined ...             kWh   \n",
       "19772  ...                        electricity production, oil             kWh   \n",
       "19773  ...   heat and power co-generation, biogas, gas engine             kWh   \n",
       "19774  ...   heat and power co-generation, biogas, gas engine             kWh   \n",
       "19775  ...   heat and power co-generation, biogas, gas engine             kWh   \n",
       "19776  ...                        market for hydrogen, liquid              kg   \n",
       "19777  ...  softwood forestry, mixed species, sustainable ...              kg   \n",
       "19778  ...            electricity production, deep geothermal             kWh   \n",
       "19779  ...                  electricity production, hard coal             kWh   \n",
       "19780  ...                  electricity production, hard coal             kWh   \n",
       "19781  ...  electricity production, natural gas, combined ...             kWh   \n",
       "19782  ...  electricity production, natural gas, combined ...             kWh   \n",
       "19783  ...                        electricity production, oil             kWh   \n",
       "19784  ...   heat and power co-generation, biogas, gas engine             kWh   \n",
       "19785  ...   heat and power co-generation, biogas, gas engine             kWh   \n",
       "19786  ...   heat and power co-generation, biogas, gas engine             kWh   \n",
       "19787  ...                        market for hydrogen, liquid              kg   \n",
       "19788  ...  softwood forestry, mixed species, sustainable ...              kg   \n",
       "19789  ...            electricity production, deep geothermal             kWh   \n",
       "19790  ...                  electricity production, hard coal             kWh   \n",
       "19791  ...                  electricity production, hard coal             kWh   \n",
       "19792  ...  electricity production, natural gas, combined ...             kWh   \n",
       "19793  ...  electricity production, natural gas, combined ...             kWh   \n",
       "19794  ...                        electricity production, oil             kWh   \n",
       "19795  ...   heat and power co-generation, biogas, gas engine             kWh   \n",
       "19796  ...   heat and power co-generation, biogas, gas engine             kWh   \n",
       "19797  ...   heat and power co-generation, biogas, gas engine             kWh   \n",
       "19798  ...                        market for hydrogen, liquid              kg   \n",
       "19799  ...  softwood forestry, mixed species, sustainable ...              kg   \n",
       "\n",
       "                              REMIND  REMIND_unit     conv_unit  SE_eco_input  \\\n",
       "0                     SE|Electricity           EJ  3.600000e-12     -1.000000   \n",
       "1                     SE|Electricity           EJ  3.600000e-12     -1.000000   \n",
       "2                     SE|Electricity           EJ  3.600000e-12     -1.000000   \n",
       "3                     SE|Electricity           EJ  3.600000e-12     -1.000000   \n",
       "4                     SE|Electricity           EJ  3.600000e-12     -1.000000   \n",
       "5                     SE|Electricity           EJ  3.600000e-12     -1.000000   \n",
       "6                     SE|Electricity           EJ  3.600000e-12     -1.000000   \n",
       "7                     SE|Electricity           EJ  3.600000e-12     -1.000000   \n",
       "8                     SE|Electricity           EJ  3.600000e-12     -1.000000   \n",
       "9                     SE|Electricity           EJ  3.600000e-12     -1.000000   \n",
       "10                    SE|Electricity           EJ  3.600000e-12     -1.000000   \n",
       "11                    SE|Electricity           EJ  3.600000e-12     -1.000000   \n",
       "12                    SE|Electricity           EJ  3.600000e-12     -1.000000   \n",
       "13                    SE|Electricity           EJ  3.600000e-12     -1.000000   \n",
       "14                    SE|Electricity           EJ  3.600000e-12     -1.000000   \n",
       "15                    SE|Electricity           EJ  3.600000e-12     -1.000000   \n",
       "16                    SE|Electricity           EJ  3.600000e-12     -1.000000   \n",
       "17                    SE|Electricity           EJ  3.600000e-12     -1.000000   \n",
       "18                    SE|Electricity           EJ  3.600000e-12     -1.000000   \n",
       "19                    SE|Electricity           EJ  3.600000e-12     -1.000000   \n",
       "20                    SE|Electricity           EJ  3.600000e-12     -1.000000   \n",
       "21                    SE|Electricity           EJ  3.600000e-12     -1.000000   \n",
       "22                    SE|Electricity           EJ  3.600000e-12     -1.000000   \n",
       "23                    SE|Electricity           EJ  3.600000e-12     -1.000000   \n",
       "24                    SE|Electricity           EJ  3.600000e-12     -1.000000   \n",
       "25                    SE|Electricity           EJ  3.600000e-12     -1.000000   \n",
       "26                    SE|Electricity           EJ  3.600000e-12     -1.000000   \n",
       "27                    SE|Electricity           EJ  3.600000e-12     -1.000000   \n",
       "28                    SE|Electricity           EJ  3.600000e-12     -1.000000   \n",
       "29                    SE|Electricity           EJ  3.600000e-12     -1.000000   \n",
       "...                              ...          ...           ...           ...   \n",
       "19770                       SE|Gases           EJ  3.600000e-12     -0.262985   \n",
       "19771                    SE|Heat|Gas           EJ  3.600000e-12     -0.262985   \n",
       "19772                     SE|Liquids           EJ  3.600000e-12     -0.234261   \n",
       "19773                     SE|Biomass           EJ  3.600000e-12     -0.296109   \n",
       "19774                SE|Heat|Biomass           EJ  3.600000e-12     -0.296109   \n",
       "19775              SE|Solids|Biomass           EJ  3.600000e-12     -0.296109   \n",
       "19776                    SE|Hydrogen           EJ  1.400000e-10     -1.000000   \n",
       "19777  SE|Solids|Traditional Biomass           EJ  1.700000e-11     -1.000000   \n",
       "19778             SE|Heat|Geothermal           EJ  1.080000e-11     -1.000000   \n",
       "19779                   SE|Heat|Coal           EJ  3.600000e-12     -0.402466   \n",
       "19780                 SE|Solids|Coal           EJ  3.600000e-12     -0.402466   \n",
       "19781                       SE|Gases           EJ  3.600000e-12     -0.262985   \n",
       "19782                    SE|Heat|Gas           EJ  3.600000e-12     -0.262985   \n",
       "19783                     SE|Liquids           EJ  3.600000e-12     -0.234261   \n",
       "19784                     SE|Biomass           EJ  3.600000e-12     -0.296109   \n",
       "19785                SE|Heat|Biomass           EJ  3.600000e-12     -0.296109   \n",
       "19786              SE|Solids|Biomass           EJ  3.600000e-12     -0.296109   \n",
       "19787                    SE|Hydrogen           EJ  1.400000e-10     -1.000000   \n",
       "19788  SE|Solids|Traditional Biomass           EJ  1.700000e-11     -1.000000   \n",
       "19789             SE|Heat|Geothermal           EJ  1.080000e-11     -1.000000   \n",
       "19790                   SE|Heat|Coal           EJ  3.600000e-12     -0.402466   \n",
       "19791                 SE|Solids|Coal           EJ  3.600000e-12     -0.402466   \n",
       "19792                       SE|Gases           EJ  3.600000e-12     -0.262985   \n",
       "19793                    SE|Heat|Gas           EJ  3.600000e-12     -0.262985   \n",
       "19794                     SE|Liquids           EJ  3.600000e-12     -0.234261   \n",
       "19795                     SE|Biomass           EJ  3.600000e-12     -0.296109   \n",
       "19796                SE|Heat|Biomass           EJ  3.600000e-12     -0.296109   \n",
       "19797              SE|Solids|Biomass           EJ  3.600000e-12     -0.296109   \n",
       "19798                    SE|Hydrogen           EJ  1.400000e-10     -1.000000   \n",
       "19799  SE|Solids|Traditional Biomass           EJ  1.700000e-11     -1.000000   \n",
       "\n",
       "       engine_eff          conv  Unnamed: 8  Unnamed: 9  \n",
       "0             1.0  3.600000e-12         NaN         NaN  \n",
       "1             1.0  3.600000e-12         NaN         NaN  \n",
       "2             1.0  3.600000e-12         NaN         NaN  \n",
       "3             1.0  3.600000e-12         NaN         NaN  \n",
       "4             1.0  3.600000e-12         NaN         NaN  \n",
       "5             1.0  3.600000e-12         NaN         NaN  \n",
       "6             1.0  3.600000e-12         NaN         NaN  \n",
       "7             1.0  3.600000e-12         NaN         NaN  \n",
       "8             1.0  3.600000e-12         NaN         NaN  \n",
       "9             1.0  3.600000e-12         NaN         NaN  \n",
       "10            1.0  3.600000e-12         NaN         NaN  \n",
       "11            1.0  3.600000e-12         NaN         NaN  \n",
       "12            1.0  3.600000e-12         NaN         NaN  \n",
       "13            1.0  3.600000e-12         NaN         NaN  \n",
       "14            1.0  3.600000e-12         NaN         NaN  \n",
       "15            1.0  3.600000e-12         NaN         NaN  \n",
       "16            1.0  3.600000e-12         NaN         NaN  \n",
       "17            1.0  3.600000e-12         NaN         NaN  \n",
       "18            1.0  3.600000e-12         NaN         NaN  \n",
       "19            1.0  3.600000e-12         NaN         NaN  \n",
       "20            1.0  3.600000e-12         NaN         NaN  \n",
       "21            1.0  3.600000e-12         NaN         NaN  \n",
       "22            1.0  3.600000e-12         NaN         NaN  \n",
       "23            1.0  3.600000e-12         NaN         NaN  \n",
       "24            1.0  3.600000e-12         NaN         NaN  \n",
       "25            1.0  3.600000e-12         NaN         NaN  \n",
       "26            1.0  3.600000e-12         NaN         NaN  \n",
       "27            1.0  3.600000e-12         NaN         NaN  \n",
       "28            1.0  3.600000e-12         NaN         NaN  \n",
       "29            1.0  3.600000e-12         NaN         NaN  \n",
       "...           ...           ...         ...         ...  \n",
       "19770         0.3  4.560000e-11         NaN         NaN  \n",
       "19771         0.3  4.560000e-11         NaN         NaN  \n",
       "19772         0.3  5.120000e-11         NaN         NaN  \n",
       "19773         0.3  4.050000e-11         NaN         NaN  \n",
       "19774         0.3  4.050000e-11         NaN         NaN  \n",
       "19775         0.3  4.050000e-11         NaN         NaN  \n",
       "19776         1.0  1.400000e-10         NaN         NaN  \n",
       "19777         1.0  1.700000e-11         NaN         NaN  \n",
       "19778         1.0  1.080000e-11         NaN         NaN  \n",
       "19779         0.3  2.980000e-11         NaN         NaN  \n",
       "19780         0.3  2.980000e-11         NaN         NaN  \n",
       "19781         0.3  4.560000e-11         NaN         NaN  \n",
       "19782         0.3  4.560000e-11         NaN         NaN  \n",
       "19783         0.3  5.120000e-11         NaN         NaN  \n",
       "19784         0.3  4.050000e-11         NaN         NaN  \n",
       "19785         0.3  4.050000e-11         NaN         NaN  \n",
       "19786         0.3  4.050000e-11         NaN         NaN  \n",
       "19787         1.0  1.400000e-10         NaN         NaN  \n",
       "19788         1.0  1.700000e-11         NaN         NaN  \n",
       "19789         1.0  1.080000e-11         NaN         NaN  \n",
       "19790         0.3  2.980000e-11         NaN         NaN  \n",
       "19791         0.3  2.980000e-11         NaN         NaN  \n",
       "19792         0.3  4.560000e-11         NaN         NaN  \n",
       "19793         0.3  4.560000e-11         NaN         NaN  \n",
       "19794         0.3  5.120000e-11         NaN         NaN  \n",
       "19795         0.3  4.050000e-11         NaN         NaN  \n",
       "19796         0.3  4.050000e-11         NaN         NaN  \n",
       "19797         0.3  4.050000e-11         NaN         NaN  \n",
       "19798         1.0  1.400000e-10         NaN         NaN  \n",
       "19799         1.0  1.700000e-11         NaN         NaN  \n",
       "\n",
       "[19800 rows x 34 columns]"
      ]
     },
     "execution_count": 42,
     "metadata": {},
     "output_type": "execute_result"
    }
   ],
   "source": [
    "end_end"
   ]
  },
  {
   "cell_type": "markdown",
   "metadata": {},
   "source": [
    "cleanup"
   ]
  },
  {
   "cell_type": "code",
   "execution_count": 43,
   "metadata": {},
   "outputs": [
    {
     "name": "stderr",
     "output_type": "stream",
     "text": [
      "C:\\Users\\rauner\\AppData\\Local\\Continuum\\miniconda3\\lib\\site-packages\\pandas\\core\\frame.py:3381: SettingWithCopyWarning: \n",
      "A value is trying to be set on a copy of a slice from a DataFrame.\n",
      "Try using .loc[row_indexer,col_indexer] = value instead\n",
      "\n",
      "See the caveats in the documentation: http://pandas.pydata.org/pandas-docs/stable/indexing.html#indexing-view-versus-copy\n",
      "  self[k1] = value[k2]\n",
      "C:\\Users\\rauner\\AppData\\Local\\Continuum\\miniconda3\\lib\\site-packages\\ipykernel_launcher.py:3: SettingWithCopyWarning: \n",
      "A value is trying to be set on a copy of a slice from a DataFrame.\n",
      "Try using .loc[row_indexer,col_indexer] = value instead\n",
      "\n",
      "See the caveats in the documentation: http://pandas.pydata.org/pandas-docs/stable/indexing.html#indexing-view-versus-copy\n",
      "  This is separate from the ipykernel package so we can avoid doing imports until\n"
     ]
    }
   ],
   "source": [
    "end_end_out = end_end[['period','scenario','REMIND','end_category', 'RegionCode']]\n",
    "end_end_out[categories] = end_end[categories]\n",
    "end_end_out['total'] = end_end['total']"
   ]
  },
  {
   "cell_type": "code",
   "execution_count": 44,
   "metadata": {},
   "outputs": [],
   "source": [
    "end_end_out = pd.melt(end_end_out, id_vars=['period', 'scenario','REMIND','RegionCode','end_category'], value_vars=categories_total)"
   ]
  },
  {
   "cell_type": "markdown",
   "metadata": {},
   "source": [
    "write results"
   ]
  },
  {
   "cell_type": "code",
   "execution_count": 45,
   "metadata": {},
   "outputs": [],
   "source": [
    "end_end_out.to_csv('results\\\\lca_per_tec_mid_points' + project  + '.csv', sep=';')"
   ]
  },
  {
   "cell_type": "markdown",
   "metadata": {},
   "source": [
    "# read all REMIND mifs and calculate the actual model specific LCA including the monetization\n",
    "1. read all mifs and append them\n",
    "2. join with end_end_out and multiply\n",
    "3. join with vsl_coeff\n",
    "    1. join vsl_coeff with regions mapping and average over region"
   ]
  },
  {
   "cell_type": "markdown",
   "metadata": {},
   "source": [
    "read REMIND results"
   ]
  },
  {
   "cell_type": "code",
   "execution_count": 46,
   "metadata": {},
   "outputs": [],
   "source": [
    "mif_names = os.listdir(\"data\\\\enavi\\\\mifs\\\\\")"
   ]
  },
  {
   "cell_type": "markdown",
   "metadata": {},
   "source": [
    "mifs from wide to long"
   ]
  },
  {
   "cell_type": "code",
   "execution_count": 47,
   "metadata": {},
   "outputs": [],
   "source": [
    "mifs = pd.concat( [ pd.read_csv(\"data\\\\enavi\\\\mifs\\\\\" + mif, sep = ';') for mif in mif_names ] )"
   ]
  },
  {
   "cell_type": "markdown",
   "metadata": {},
   "source": [
    "define colnames that are years"
   ]
  },
  {
   "cell_type": "code",
   "execution_count": 48,
   "metadata": {},
   "outputs": [],
   "source": [
    "mifs = mifs.drop('Unnamed: 24', 1)"
   ]
  },
  {
   "cell_type": "code",
   "execution_count": 49,
   "metadata": {},
   "outputs": [],
   "source": [
    "year_cols = [col for col in mifs.columns if '2' in col]"
   ]
  },
  {
   "cell_type": "code",
   "execution_count": 50,
   "metadata": {
    "slideshow": {
     "slide_type": "slide"
    }
   },
   "outputs": [],
   "source": [
    "mifs = pd.melt(mifs, id_vars=['Model', 'Scenario','Region','Variable', 'Unit'], value_vars=year_cols)"
   ]
  },
  {
   "cell_type": "markdown",
   "metadata": {},
   "source": [
    "rename columns"
   ]
  },
  {
   "cell_type": "code",
   "execution_count": 51,
   "metadata": {},
   "outputs": [],
   "source": [
    "mifs.columns=['model','scenario','region','tech','unit','period','SE']\n",
    "mifs = mifs.drop('model', 1)\n",
    "end_end_out.columns=['period','scenario','tech','region','end_category','category','lca']"
   ]
  },
  {
   "cell_type": "markdown",
   "metadata": {},
   "source": [
    "join LCA results with the mifs"
   ]
  },
  {
   "cell_type": "code",
   "execution_count": 52,
   "metadata": {},
   "outputs": [],
   "source": [
    "mifs['period']=mifs['period'].astype(int)\n",
    "end_end_out['period']=end_end_out['period'].astype(int)"
   ]
  },
  {
   "cell_type": "code",
   "execution_count": 53,
   "metadata": {},
   "outputs": [
    {
     "data": {
      "text/plain": [
       "0           COPplus2\n",
       "1           COPplus2\n",
       "2           COPplus2\n",
       "3           COPplus2\n",
       "4           COPplus2\n",
       "5           COPplus2\n",
       "6           COPplus2\n",
       "7           COPplus2\n",
       "8           COPplus2\n",
       "9           COPplus2\n",
       "10          COPplus2\n",
       "11          COPplus2\n",
       "12          COPplus2\n",
       "13          COPplus2\n",
       "14          COPplus2\n",
       "15          COPplus2\n",
       "16          COPplus2\n",
       "17          COPplus2\n",
       "18          COPplus2\n",
       "19          COPplus2\n",
       "20          COPplus2\n",
       "21          COPplus2\n",
       "22          COPplus2\n",
       "23          COPplus2\n",
       "24          COPplus2\n",
       "25          COPplus2\n",
       "26          COPplus2\n",
       "27          COPplus2\n",
       "28          COPplus2\n",
       "29          COPplus2\n",
       "             ...    \n",
       "3867078    NDCminus2\n",
       "3867079    NDCminus2\n",
       "3867080    NDCminus2\n",
       "3867081    NDCminus2\n",
       "3867082    NDCminus2\n",
       "3867083    NDCminus2\n",
       "3867084    NDCminus2\n",
       "3867085    NDCminus2\n",
       "3867086    NDCminus2\n",
       "3867087    NDCminus2\n",
       "3867088    NDCminus2\n",
       "3867089    NDCminus2\n",
       "3867090    NDCminus2\n",
       "3867091    NDCminus2\n",
       "3867092    NDCminus2\n",
       "3867093    NDCminus2\n",
       "3867094    NDCminus2\n",
       "3867095    NDCminus2\n",
       "3867096    NDCminus2\n",
       "3867097    NDCminus2\n",
       "3867098    NDCminus2\n",
       "3867099    NDCminus2\n",
       "3867100    NDCminus2\n",
       "3867101    NDCminus2\n",
       "3867102    NDCminus2\n",
       "3867103    NDCminus2\n",
       "3867104    NDCminus2\n",
       "3867105    NDCminus2\n",
       "3867106    NDCminus2\n",
       "3867107    NDCminus2\n",
       "Name: scenario, Length: 3867108, dtype: object"
      ]
     },
     "execution_count": 53,
     "metadata": {},
     "output_type": "execute_result"
    }
   ],
   "source": [
    "mifs.scenario"
   ]
  },
  {
   "cell_type": "markdown",
   "metadata": {},
   "source": [
    "map scenarios"
   ]
  },
  {
   "cell_type": "code",
   "execution_count": 54,
   "metadata": {},
   "outputs": [
    {
     "name": "stderr",
     "output_type": "stream",
     "text": [
      "C:\\Users\\rauner\\AppData\\Local\\Continuum\\miniconda3\\lib\\site-packages\\ipykernel_launcher.py:1: SettingWithCopyWarning: \n",
      "A value is trying to be set on a copy of a slice from a DataFrame\n",
      "\n",
      "See the caveats in the documentation: http://pandas.pydata.org/pandas-docs/stable/indexing.html#indexing-view-versus-copy\n",
      "  \"\"\"Entry point for launching an IPython kernel.\n"
     ]
    }
   ],
   "source": [
    "end_end_out['scenario'][end_end_out['scenario'] == 'ecoinvent'] = 'KSP90aE'"
   ]
  },
  {
   "cell_type": "code",
   "execution_count": 55,
   "metadata": {},
   "outputs": [],
   "source": [
    "end_end_out = pd.merge(end_end_out, mifs, left_on=['period','scenario','tech','region'], right_on=['period','scenario','tech','region'], how= \"left\")\n",
    "end_end_out['lca_impact'] = end_end_out['lca'] * end_end_out['SE']"
   ]
  },
  {
   "cell_type": "markdown",
   "metadata": {},
   "source": [
    "write results"
   ]
  },
  {
   "cell_type": "code",
   "execution_count": 56,
   "metadata": {},
   "outputs": [],
   "source": [
    "end_end_out.to_csv('results\\\\lca_REMIND_mid_points' + project  + '.csv', sep=';')"
   ]
  },
  {
   "cell_type": "code",
   "execution_count": null,
   "metadata": {},
   "outputs": [],
   "source": []
  }
 ],
 "metadata": {
  "kernelspec": {
   "display_name": "Python 3",
   "language": "python",
   "name": "python3"
  },
  "language_info": {
   "codemirror_mode": {
    "name": "ipython",
    "version": 3
   },
   "file_extension": ".py",
   "mimetype": "text/x-python",
   "name": "python",
   "nbconvert_exporter": "python",
   "pygments_lexer": "ipython3",
   "version": "3.7.1"
  }
 },
 "nbformat": 4,
 "nbformat_minor": 2
}
